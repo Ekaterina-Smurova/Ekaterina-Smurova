{
 "cells": [
  {
   "cell_type": "markdown",
   "id": "6d996d72",
   "metadata": {
    "toc": true
   },
   "source": [
    "<h1>Содержание<span class=\"tocSkip\"></span></h1>\n",
    "<div class=\"toc\"><ul class=\"toc-item\"><li><span><a href=\"#Обзор\" data-toc-modified-id=\"Обзор-1\"><span class=\"toc-item-num\">1&nbsp;&nbsp;</span>Обзор</a></span><ul class=\"toc-item\"><li><span><a href=\"#Таблица-books\" data-toc-modified-id=\"Таблица-books-1.1\"><span class=\"toc-item-num\">1.1&nbsp;&nbsp;</span>Таблица books</a></span></li><li><span><a href=\"#Таблица-authors\" data-toc-modified-id=\"Таблица-authors-1.2\"><span class=\"toc-item-num\">1.2&nbsp;&nbsp;</span>Таблица authors</a></span></li><li><span><a href=\"#Таблица-publishers\" data-toc-modified-id=\"Таблица-publishers-1.3\"><span class=\"toc-item-num\">1.3&nbsp;&nbsp;</span>Таблица publishers</a></span></li><li><span><a href=\"#Таблица-ratings\" data-toc-modified-id=\"Таблица-ratings-1.4\"><span class=\"toc-item-num\">1.4&nbsp;&nbsp;</span>Таблица ratings</a></span></li><li><span><a href=\"#Таблица-reviews\" data-toc-modified-id=\"Таблица-reviews-1.5\"><span class=\"toc-item-num\">1.5&nbsp;&nbsp;</span>Таблица reviews</a></span></li></ul></li><li><span><a href=\"#Посмотрим-сколько-книг-вышло-после-1-января-2000-года\" data-toc-modified-id=\"Посмотрим-сколько-книг-вышло-после-1-января-2000-года-2\"><span class=\"toc-item-num\">2&nbsp;&nbsp;</span>Посмотрим сколько книг вышло после 1 января 2000 года</a></span></li><li><span><a href=\"#Количество-обзоров-и-средняя-оценка-для-каждой-книги\" data-toc-modified-id=\"Количество-обзоров-и-средняя-оценка-для-каждой-книги-3\"><span class=\"toc-item-num\">3&nbsp;&nbsp;</span>Количество обзоров и средняя оценка для каждой книги</a></span></li><li><span><a href=\"#Определим-издательство,-которое-выпустило-наибольшее-число-книг-толще-50-страниц-—-так-исключим-из-анализа-брошюры\" data-toc-modified-id=\"Определим-издательство,-которое-выпустило-наибольшее-число-книг-толще-50-страниц-—-так-исключим-из-анализа-брошюры-4\"><span class=\"toc-item-num\">4&nbsp;&nbsp;</span>Определим издательство, которое выпустило наибольшее число книг толще 50 страниц — так исключим из анализа брошюры</a></span></li><li><span><a href=\"#Определим-автора-с-самой-высокой-средней-оценкой-книг-—-учитывайте-только-книги-с-50-и-более-оценками\" data-toc-modified-id=\"Определим-автора-с-самой-высокой-средней-оценкой-книг-—-учитывайте-только-книги-с-50-и-более-оценками-5\"><span class=\"toc-item-num\">5&nbsp;&nbsp;</span>Определим автора с самой высокой средней оценкой книг — учитывайте только книги с 50 и более оценками</a></span></li><li><span><a href=\"#Среднее-количество-обзоров-от-пользователей,-которые-поставили-больше-48-оценок.\" data-toc-modified-id=\"Среднее-количество-обзоров-от-пользователей,-которые-поставили-больше-48-оценок.-6\"><span class=\"toc-item-num\">6&nbsp;&nbsp;</span>Среднее количество обзоров от пользователей, которые поставили больше 48 оценок.</a></span></li><li><span><a href=\"#Итог\" data-toc-modified-id=\"Итог-7\"><span class=\"toc-item-num\">7&nbsp;&nbsp;</span>Итог</a></span></li></ul></div>"
   ]
  },
  {
   "cell_type": "markdown",
   "id": "9f3e01d9",
   "metadata": {},
   "source": [
    "# Знакомство с базой данных книжного сервиса"
   ]
  },
  {
   "cell_type": "markdown",
   "id": "acb77f46",
   "metadata": {},
   "source": [
    "Компания купила крупный сервис для чтения книг по подписке. Теперь первой задачей станет - проанализировать базу данных.  \n",
    "\n",
    "**Задачи:**  \n",
    "* Посчитайте, сколько книг вышло после 1 января 2000 года;\n",
    "* Для каждой книги посчитайте количество обзоров и среднюю оценку;\n",
    "* Определите издательство, которое выпустило наибольшее число книг толще 50 страниц — так вы исключите из анализа брошюры;\n",
    "* Определите автора с самой высокой средней оценкой книг — учитывайте только книги с 50 и более оценками;\n",
    "* Посчитайте среднее количество обзоров от пользователей, которые поставили больше 48 оценок."
   ]
  },
  {
   "cell_type": "markdown",
   "id": "4f34d281",
   "metadata": {},
   "source": [
    "**Описание данных**  \n",
    "\n",
    "Таблица **books**\n",
    "Содержит данные о книгах:  \n",
    "`book_id` — идентификатор книги;  \n",
    "`author_id` — идентификатор автора;  \n",
    "`title` — название книги;  \n",
    "`num_pages` — количество страниц;  \n",
    "`publication_date` — дата публикации книги;  \n",
    "`publisher_id` — идентификатор издателя.  \n",
    "\n",
    "Таблица **authors**  \n",
    "Содержит данные об авторах:  \n",
    "`author_id` — идентификатор автора;  \n",
    "`author` — имя автора.  \n",
    "\n",
    "Таблица **publishers**  \n",
    "Содержит данные об издательствах:  \n",
    "`publisher_id` — идентификатор издательства;  \n",
    "`publisher` — название издательства;  \n",
    "\n",
    "Таблица **ratings**  \n",
    "Содержит данные о пользовательских оценках книг:  \n",
    "`rating_id` — идентификатор оценки;  \n",
    "`book_id` — идентификатор книги;  \n",
    "`username` — имя пользователя, оставившего оценку;  \n",
    "`rating` — оценка книги.  \n",
    "\n",
    "Таблица **reviews**  \n",
    "Содержит данные о пользовательских обзорах на книги:  \n",
    "`review_id` — идентификатор обзора;  \n",
    "`book_id` — идентификатор книги;  \n",
    "`username` — имя пользователя, написавшего обзор;  \n",
    "`text` — текст обзора."
   ]
  },
  {
   "cell_type": "code",
   "execution_count": 2,
   "id": "b474b5dc",
   "metadata": {},
   "outputs": [],
   "source": [
    "# импортируем библиотеки\n",
    "import pandas as pd\n",
    "from sqlalchemy import text, create_engine \n",
    "\n",
    "# устанавливаем параметры\n",
    "db_config = {'user': 'praktikum_student', # имя пользователя\n",
    "'pwd': 'Sdf4$2;d-d30pp', # пароль\n",
    "'host': 'rc1b-wcoijxj3yxfsf3fs.mdb.yandexcloud.net',\n",
    "'port': 6432, # порт подключения\n",
    "'db': 'data-analyst-final-project-db'} # название базы данных\n",
    "connection_string = 'postgresql://{user}:{pwd}@{host}:{port}/{db}'.format(**db_config)\n",
    "\n",
    "# сохраняем коннектор\n",
    "engine = create_engine(connection_string, connect_args={'sslmode':'require'})"
   ]
  },
  {
   "cell_type": "markdown",
   "id": "10ef301a",
   "metadata": {},
   "source": [
    "## Обзор"
   ]
  },
  {
   "cell_type": "markdown",
   "id": "7fcafa6a",
   "metadata": {},
   "source": [
    "Исследуем таблицы — выведем первые строки, посчитаем количество строк\n",
    "в каждой таблице;"
   ]
  },
  {
   "cell_type": "markdown",
   "id": "a77a4e30",
   "metadata": {},
   "source": [
    "### Таблица books"
   ]
  },
  {
   "cell_type": "code",
   "execution_count": 3,
   "id": "7c8197c8",
   "metadata": {
    "scrolled": true
   },
   "outputs": [
    {
     "data": {
      "text/html": [
       "<div>\n",
       "<style scoped>\n",
       "    .dataframe tbody tr th:only-of-type {\n",
       "        vertical-align: middle;\n",
       "    }\n",
       "\n",
       "    .dataframe tbody tr th {\n",
       "        vertical-align: top;\n",
       "    }\n",
       "\n",
       "    .dataframe thead th {\n",
       "        text-align: right;\n",
       "    }\n",
       "</style>\n",
       "<table border=\"1\" class=\"dataframe\">\n",
       "  <thead>\n",
       "    <tr style=\"text-align: right;\">\n",
       "      <th></th>\n",
       "      <th>count_rows</th>\n",
       "      <th>book_id</th>\n",
       "      <th>author_id</th>\n",
       "      <th>title</th>\n",
       "      <th>num_pages</th>\n",
       "      <th>publication_date</th>\n",
       "      <th>publisher_id</th>\n",
       "    </tr>\n",
       "  </thead>\n",
       "  <tbody>\n",
       "    <tr>\n",
       "      <th>0</th>\n",
       "      <td>1000</td>\n",
       "      <td>1</td>\n",
       "      <td>546</td>\n",
       "      <td>'Salem's Lot</td>\n",
       "      <td>594</td>\n",
       "      <td>2005-11-01</td>\n",
       "      <td>93</td>\n",
       "    </tr>\n",
       "    <tr>\n",
       "      <th>1</th>\n",
       "      <td>1000</td>\n",
       "      <td>2</td>\n",
       "      <td>465</td>\n",
       "      <td>1 000 Places to See Before You Die</td>\n",
       "      <td>992</td>\n",
       "      <td>2003-05-22</td>\n",
       "      <td>336</td>\n",
       "    </tr>\n",
       "    <tr>\n",
       "      <th>2</th>\n",
       "      <td>1000</td>\n",
       "      <td>3</td>\n",
       "      <td>407</td>\n",
       "      <td>13 Little Blue Envelopes (Little Blue Envelope...</td>\n",
       "      <td>322</td>\n",
       "      <td>2010-12-21</td>\n",
       "      <td>135</td>\n",
       "    </tr>\n",
       "    <tr>\n",
       "      <th>3</th>\n",
       "      <td>1000</td>\n",
       "      <td>4</td>\n",
       "      <td>82</td>\n",
       "      <td>1491: New Revelations of the Americas Before C...</td>\n",
       "      <td>541</td>\n",
       "      <td>2006-10-10</td>\n",
       "      <td>309</td>\n",
       "    </tr>\n",
       "    <tr>\n",
       "      <th>4</th>\n",
       "      <td>1000</td>\n",
       "      <td>5</td>\n",
       "      <td>125</td>\n",
       "      <td>1776</td>\n",
       "      <td>386</td>\n",
       "      <td>2006-07-04</td>\n",
       "      <td>268</td>\n",
       "    </tr>\n",
       "  </tbody>\n",
       "</table>\n",
       "</div>"
      ],
      "text/plain": [
       "   count_rows  book_id  author_id  \\\n",
       "0        1000        1        546   \n",
       "1        1000        2        465   \n",
       "2        1000        3        407   \n",
       "3        1000        4         82   \n",
       "4        1000        5        125   \n",
       "\n",
       "                                               title  num_pages  \\\n",
       "0                                       'Salem's Lot        594   \n",
       "1                 1 000 Places to See Before You Die        992   \n",
       "2  13 Little Blue Envelopes (Little Blue Envelope...        322   \n",
       "3  1491: New Revelations of the Americas Before C...        541   \n",
       "4                                               1776        386   \n",
       "\n",
       "  publication_date  publisher_id  \n",
       "0       2005-11-01            93  \n",
       "1       2003-05-22           336  \n",
       "2       2010-12-21           135  \n",
       "3       2006-10-10           309  \n",
       "4       2006-07-04           268  "
      ]
     },
     "execution_count": 3,
     "metadata": {},
     "output_type": "execute_result"
    }
   ],
   "source": [
    "# чтобы выполнить SQL-запрос, используем Pandas\n",
    "query = '''SELECT COUNT(*) OVER () AS count_rows,\n",
    "                   *\n",
    "           FROM books \n",
    "           LIMIT 5;'''\n",
    "con=engine.connect()\n",
    "pd.io.sql.read_sql(sql=text(query), con = con)"
   ]
  },
  {
   "cell_type": "markdown",
   "id": "c374f3ea",
   "metadata": {},
   "source": [
    "Таблица содержит данные о 1000 книгах."
   ]
  },
  {
   "cell_type": "markdown",
   "id": "eee609b8",
   "metadata": {},
   "source": [
    "### Таблица authors"
   ]
  },
  {
   "cell_type": "code",
   "execution_count": 4,
   "id": "f00108dd",
   "metadata": {},
   "outputs": [
    {
     "data": {
      "text/html": [
       "<div>\n",
       "<style scoped>\n",
       "    .dataframe tbody tr th:only-of-type {\n",
       "        vertical-align: middle;\n",
       "    }\n",
       "\n",
       "    .dataframe tbody tr th {\n",
       "        vertical-align: top;\n",
       "    }\n",
       "\n",
       "    .dataframe thead th {\n",
       "        text-align: right;\n",
       "    }\n",
       "</style>\n",
       "<table border=\"1\" class=\"dataframe\">\n",
       "  <thead>\n",
       "    <tr style=\"text-align: right;\">\n",
       "      <th></th>\n",
       "      <th>count_rows</th>\n",
       "      <th>author_id</th>\n",
       "      <th>author</th>\n",
       "    </tr>\n",
       "  </thead>\n",
       "  <tbody>\n",
       "    <tr>\n",
       "      <th>0</th>\n",
       "      <td>636</td>\n",
       "      <td>1</td>\n",
       "      <td>A.S. Byatt</td>\n",
       "    </tr>\n",
       "    <tr>\n",
       "      <th>1</th>\n",
       "      <td>636</td>\n",
       "      <td>2</td>\n",
       "      <td>Aesop/Laura Harris/Laura Gibbs</td>\n",
       "    </tr>\n",
       "    <tr>\n",
       "      <th>2</th>\n",
       "      <td>636</td>\n",
       "      <td>3</td>\n",
       "      <td>Agatha Christie</td>\n",
       "    </tr>\n",
       "    <tr>\n",
       "      <th>3</th>\n",
       "      <td>636</td>\n",
       "      <td>4</td>\n",
       "      <td>Alan Brennert</td>\n",
       "    </tr>\n",
       "    <tr>\n",
       "      <th>4</th>\n",
       "      <td>636</td>\n",
       "      <td>5</td>\n",
       "      <td>Alan Moore/David   Lloyd</td>\n",
       "    </tr>\n",
       "  </tbody>\n",
       "</table>\n",
       "</div>"
      ],
      "text/plain": [
       "   count_rows  author_id                          author\n",
       "0         636          1                      A.S. Byatt\n",
       "1         636          2  Aesop/Laura Harris/Laura Gibbs\n",
       "2         636          3                 Agatha Christie\n",
       "3         636          4                   Alan Brennert\n",
       "4         636          5        Alan Moore/David   Lloyd"
      ]
     },
     "execution_count": 4,
     "metadata": {},
     "output_type": "execute_result"
    }
   ],
   "source": [
    "query = '''SELECT COUNT(*) OVER () AS count_rows,\n",
    "                   *\n",
    "           FROM authors \n",
    "           LIMIT 5;'''\n",
    "con=engine.connect()\n",
    "pd.io.sql.read_sql(sql=text(query), con = con)"
   ]
  },
  {
   "cell_type": "markdown",
   "id": "eab2bd29",
   "metadata": {},
   "source": [
    "Таблица содержит данные о 636 авторов."
   ]
  },
  {
   "cell_type": "markdown",
   "id": "0029d082",
   "metadata": {},
   "source": [
    "### Таблица publishers"
   ]
  },
  {
   "cell_type": "code",
   "execution_count": 5,
   "id": "2bccbd60",
   "metadata": {},
   "outputs": [
    {
     "data": {
      "text/html": [
       "<div>\n",
       "<style scoped>\n",
       "    .dataframe tbody tr th:only-of-type {\n",
       "        vertical-align: middle;\n",
       "    }\n",
       "\n",
       "    .dataframe tbody tr th {\n",
       "        vertical-align: top;\n",
       "    }\n",
       "\n",
       "    .dataframe thead th {\n",
       "        text-align: right;\n",
       "    }\n",
       "</style>\n",
       "<table border=\"1\" class=\"dataframe\">\n",
       "  <thead>\n",
       "    <tr style=\"text-align: right;\">\n",
       "      <th></th>\n",
       "      <th>count_rows</th>\n",
       "      <th>publisher_id</th>\n",
       "      <th>publisher</th>\n",
       "    </tr>\n",
       "  </thead>\n",
       "  <tbody>\n",
       "    <tr>\n",
       "      <th>0</th>\n",
       "      <td>340</td>\n",
       "      <td>1</td>\n",
       "      <td>Ace</td>\n",
       "    </tr>\n",
       "    <tr>\n",
       "      <th>1</th>\n",
       "      <td>340</td>\n",
       "      <td>2</td>\n",
       "      <td>Ace Book</td>\n",
       "    </tr>\n",
       "    <tr>\n",
       "      <th>2</th>\n",
       "      <td>340</td>\n",
       "      <td>3</td>\n",
       "      <td>Ace Books</td>\n",
       "    </tr>\n",
       "    <tr>\n",
       "      <th>3</th>\n",
       "      <td>340</td>\n",
       "      <td>4</td>\n",
       "      <td>Ace Hardcover</td>\n",
       "    </tr>\n",
       "    <tr>\n",
       "      <th>4</th>\n",
       "      <td>340</td>\n",
       "      <td>5</td>\n",
       "      <td>Addison Wesley Publishing Company</td>\n",
       "    </tr>\n",
       "  </tbody>\n",
       "</table>\n",
       "</div>"
      ],
      "text/plain": [
       "   count_rows  publisher_id                          publisher\n",
       "0         340             1                                Ace\n",
       "1         340             2                           Ace Book\n",
       "2         340             3                          Ace Books\n",
       "3         340             4                      Ace Hardcover\n",
       "4         340             5  Addison Wesley Publishing Company"
      ]
     },
     "execution_count": 5,
     "metadata": {},
     "output_type": "execute_result"
    }
   ],
   "source": [
    "query = '''SELECT COUNT(*) OVER () AS count_rows,\n",
    "                   *\n",
    "           FROM publishers \n",
    "           LIMIT 5;'''\n",
    "con=engine.connect()\n",
    "pd.io.sql.read_sql(sql=text(query), con = con)"
   ]
  },
  {
   "cell_type": "markdown",
   "id": "10601913",
   "metadata": {},
   "source": [
    "Таблица содержит данные о 340 издательствах."
   ]
  },
  {
   "cell_type": "markdown",
   "id": "be528439",
   "metadata": {},
   "source": [
    "### Таблица ratings"
   ]
  },
  {
   "cell_type": "code",
   "execution_count": 6,
   "id": "6f09416e",
   "metadata": {},
   "outputs": [
    {
     "data": {
      "text/html": [
       "<div>\n",
       "<style scoped>\n",
       "    .dataframe tbody tr th:only-of-type {\n",
       "        vertical-align: middle;\n",
       "    }\n",
       "\n",
       "    .dataframe tbody tr th {\n",
       "        vertical-align: top;\n",
       "    }\n",
       "\n",
       "    .dataframe thead th {\n",
       "        text-align: right;\n",
       "    }\n",
       "</style>\n",
       "<table border=\"1\" class=\"dataframe\">\n",
       "  <thead>\n",
       "    <tr style=\"text-align: right;\">\n",
       "      <th></th>\n",
       "      <th>count_rows</th>\n",
       "      <th>rating_id</th>\n",
       "      <th>book_id</th>\n",
       "      <th>username</th>\n",
       "      <th>rating</th>\n",
       "    </tr>\n",
       "  </thead>\n",
       "  <tbody>\n",
       "    <tr>\n",
       "      <th>0</th>\n",
       "      <td>6456</td>\n",
       "      <td>1</td>\n",
       "      <td>1</td>\n",
       "      <td>ryanfranco</td>\n",
       "      <td>4</td>\n",
       "    </tr>\n",
       "    <tr>\n",
       "      <th>1</th>\n",
       "      <td>6456</td>\n",
       "      <td>2</td>\n",
       "      <td>1</td>\n",
       "      <td>grantpatricia</td>\n",
       "      <td>2</td>\n",
       "    </tr>\n",
       "    <tr>\n",
       "      <th>2</th>\n",
       "      <td>6456</td>\n",
       "      <td>3</td>\n",
       "      <td>1</td>\n",
       "      <td>brandtandrea</td>\n",
       "      <td>5</td>\n",
       "    </tr>\n",
       "    <tr>\n",
       "      <th>3</th>\n",
       "      <td>6456</td>\n",
       "      <td>4</td>\n",
       "      <td>2</td>\n",
       "      <td>lorichen</td>\n",
       "      <td>3</td>\n",
       "    </tr>\n",
       "    <tr>\n",
       "      <th>4</th>\n",
       "      <td>6456</td>\n",
       "      <td>5</td>\n",
       "      <td>2</td>\n",
       "      <td>mariokeller</td>\n",
       "      <td>2</td>\n",
       "    </tr>\n",
       "  </tbody>\n",
       "</table>\n",
       "</div>"
      ],
      "text/plain": [
       "   count_rows  rating_id  book_id       username  rating\n",
       "0        6456          1        1     ryanfranco       4\n",
       "1        6456          2        1  grantpatricia       2\n",
       "2        6456          3        1   brandtandrea       5\n",
       "3        6456          4        2       lorichen       3\n",
       "4        6456          5        2    mariokeller       2"
      ]
     },
     "execution_count": 6,
     "metadata": {},
     "output_type": "execute_result"
    }
   ],
   "source": [
    "query = '''SELECT COUNT(*) OVER () AS count_rows,\n",
    "                   *\n",
    "           FROM ratings \n",
    "           LIMIT 5;'''\n",
    "con=engine.connect()\n",
    "pd.io.sql.read_sql(sql=text(query), con = con)"
   ]
  },
  {
   "cell_type": "markdown",
   "id": "f92abf0e",
   "metadata": {},
   "source": [
    "Таблица содержит 6456 записей о рейтингах книг."
   ]
  },
  {
   "cell_type": "markdown",
   "id": "8d5b1950",
   "metadata": {},
   "source": [
    "### Таблица reviews"
   ]
  },
  {
   "cell_type": "code",
   "execution_count": 7,
   "id": "0f4653ad",
   "metadata": {},
   "outputs": [
    {
     "data": {
      "text/html": [
       "<div>\n",
       "<style scoped>\n",
       "    .dataframe tbody tr th:only-of-type {\n",
       "        vertical-align: middle;\n",
       "    }\n",
       "\n",
       "    .dataframe tbody tr th {\n",
       "        vertical-align: top;\n",
       "    }\n",
       "\n",
       "    .dataframe thead th {\n",
       "        text-align: right;\n",
       "    }\n",
       "</style>\n",
       "<table border=\"1\" class=\"dataframe\">\n",
       "  <thead>\n",
       "    <tr style=\"text-align: right;\">\n",
       "      <th></th>\n",
       "      <th>count_rows</th>\n",
       "      <th>review_id</th>\n",
       "      <th>book_id</th>\n",
       "      <th>username</th>\n",
       "      <th>text</th>\n",
       "    </tr>\n",
       "  </thead>\n",
       "  <tbody>\n",
       "    <tr>\n",
       "      <th>0</th>\n",
       "      <td>2793</td>\n",
       "      <td>1</td>\n",
       "      <td>1</td>\n",
       "      <td>brandtandrea</td>\n",
       "      <td>Mention society tell send professor analysis. ...</td>\n",
       "    </tr>\n",
       "    <tr>\n",
       "      <th>1</th>\n",
       "      <td>2793</td>\n",
       "      <td>2</td>\n",
       "      <td>1</td>\n",
       "      <td>ryanfranco</td>\n",
       "      <td>Foot glass pretty audience hit themselves. Amo...</td>\n",
       "    </tr>\n",
       "    <tr>\n",
       "      <th>2</th>\n",
       "      <td>2793</td>\n",
       "      <td>3</td>\n",
       "      <td>2</td>\n",
       "      <td>lorichen</td>\n",
       "      <td>Listen treat keep worry. Miss husband tax but ...</td>\n",
       "    </tr>\n",
       "    <tr>\n",
       "      <th>3</th>\n",
       "      <td>2793</td>\n",
       "      <td>4</td>\n",
       "      <td>3</td>\n",
       "      <td>johnsonamanda</td>\n",
       "      <td>Finally month interesting blue could nature cu...</td>\n",
       "    </tr>\n",
       "    <tr>\n",
       "      <th>4</th>\n",
       "      <td>2793</td>\n",
       "      <td>5</td>\n",
       "      <td>3</td>\n",
       "      <td>scotttamara</td>\n",
       "      <td>Nation purpose heavy give wait song will. List...</td>\n",
       "    </tr>\n",
       "  </tbody>\n",
       "</table>\n",
       "</div>"
      ],
      "text/plain": [
       "   count_rows  review_id  book_id       username  \\\n",
       "0        2793          1        1   brandtandrea   \n",
       "1        2793          2        1     ryanfranco   \n",
       "2        2793          3        2       lorichen   \n",
       "3        2793          4        3  johnsonamanda   \n",
       "4        2793          5        3    scotttamara   \n",
       "\n",
       "                                                text  \n",
       "0  Mention society tell send professor analysis. ...  \n",
       "1  Foot glass pretty audience hit themselves. Amo...  \n",
       "2  Listen treat keep worry. Miss husband tax but ...  \n",
       "3  Finally month interesting blue could nature cu...  \n",
       "4  Nation purpose heavy give wait song will. List...  "
      ]
     },
     "execution_count": 7,
     "metadata": {},
     "output_type": "execute_result"
    }
   ],
   "source": [
    "query = '''SELECT COUNT(*) OVER () AS count_rows,\n",
    "                   *\n",
    "           FROM reviews \n",
    "           LIMIT 5;'''\n",
    "con=engine.connect()\n",
    "pd.io.sql.read_sql(sql=text(query), con = con)"
   ]
  },
  {
   "cell_type": "markdown",
   "id": "b1043103",
   "metadata": {},
   "source": [
    "Таблица содержит 2793 записи о пользовательских обзорах на книги."
   ]
  },
  {
   "cell_type": "markdown",
   "id": "2eb1216b",
   "metadata": {},
   "source": [
    "## Посмотрим сколько книг вышло после 1 января 2000 года"
   ]
  },
  {
   "cell_type": "code",
   "execution_count": 8,
   "id": "482a63dd",
   "metadata": {},
   "outputs": [
    {
     "data": {
      "text/html": [
       "<div>\n",
       "<style scoped>\n",
       "    .dataframe tbody tr th:only-of-type {\n",
       "        vertical-align: middle;\n",
       "    }\n",
       "\n",
       "    .dataframe tbody tr th {\n",
       "        vertical-align: top;\n",
       "    }\n",
       "\n",
       "    .dataframe thead th {\n",
       "        text-align: right;\n",
       "    }\n",
       "</style>\n",
       "<table border=\"1\" class=\"dataframe\">\n",
       "  <thead>\n",
       "    <tr style=\"text-align: right;\">\n",
       "      <th></th>\n",
       "      <th>count</th>\n",
       "    </tr>\n",
       "  </thead>\n",
       "  <tbody>\n",
       "    <tr>\n",
       "      <th>0</th>\n",
       "      <td>819</td>\n",
       "    </tr>\n",
       "  </tbody>\n",
       "</table>\n",
       "</div>"
      ],
      "text/plain": [
       "   count\n",
       "0    819"
      ]
     },
     "execution_count": 8,
     "metadata": {},
     "output_type": "execute_result"
    }
   ],
   "source": [
    "query = '''SELECT COUNT(book_id)\n",
    "           FROM books \n",
    "           WHERE  publication_date > '2000-01-01';\n",
    "           '''\n",
    "con=engine.connect()\n",
    "pd.io.sql.read_sql(sql=text(query), con = con)"
   ]
  },
  {
   "cell_type": "markdown",
   "id": "11bd704a",
   "metadata": {},
   "source": [
    "После 1 января 2000 года вышло 819 книг"
   ]
  },
  {
   "cell_type": "markdown",
   "id": "9a344b17",
   "metadata": {},
   "source": [
    "##  Количество обзоров и средняя оценка для каждой книги"
   ]
  },
  {
   "cell_type": "code",
   "execution_count": 9,
   "id": "d8d2df30",
   "metadata": {},
   "outputs": [
    {
     "data": {
      "text/html": [
       "<div>\n",
       "<style scoped>\n",
       "    .dataframe tbody tr th:only-of-type {\n",
       "        vertical-align: middle;\n",
       "    }\n",
       "\n",
       "    .dataframe tbody tr th {\n",
       "        vertical-align: top;\n",
       "    }\n",
       "\n",
       "    .dataframe thead th {\n",
       "        text-align: right;\n",
       "    }\n",
       "</style>\n",
       "<table border=\"1\" class=\"dataframe\">\n",
       "  <thead>\n",
       "    <tr style=\"text-align: right;\">\n",
       "      <th></th>\n",
       "      <th>book_id</th>\n",
       "      <th>title</th>\n",
       "      <th>count</th>\n",
       "      <th>avg</th>\n",
       "    </tr>\n",
       "  </thead>\n",
       "  <tbody>\n",
       "    <tr>\n",
       "      <th>0</th>\n",
       "      <td>948</td>\n",
       "      <td>Twilight (Twilight  #1)</td>\n",
       "      <td>1120</td>\n",
       "      <td>3.662500</td>\n",
       "    </tr>\n",
       "    <tr>\n",
       "      <th>1</th>\n",
       "      <td>750</td>\n",
       "      <td>The Hobbit  or There and Back Again</td>\n",
       "      <td>528</td>\n",
       "      <td>4.125000</td>\n",
       "    </tr>\n",
       "    <tr>\n",
       "      <th>2</th>\n",
       "      <td>673</td>\n",
       "      <td>The Catcher in the Rye</td>\n",
       "      <td>516</td>\n",
       "      <td>3.825581</td>\n",
       "    </tr>\n",
       "    <tr>\n",
       "      <th>3</th>\n",
       "      <td>302</td>\n",
       "      <td>Harry Potter and the Prisoner of Azkaban (Harr...</td>\n",
       "      <td>492</td>\n",
       "      <td>4.414634</td>\n",
       "    </tr>\n",
       "    <tr>\n",
       "      <th>4</th>\n",
       "      <td>299</td>\n",
       "      <td>Harry Potter and the Chamber of Secrets (Harry...</td>\n",
       "      <td>480</td>\n",
       "      <td>4.287500</td>\n",
       "    </tr>\n",
       "    <tr>\n",
       "      <th>...</th>\n",
       "      <td>...</td>\n",
       "      <td>...</td>\n",
       "      <td>...</td>\n",
       "      <td>...</td>\n",
       "    </tr>\n",
       "    <tr>\n",
       "      <th>995</th>\n",
       "      <td>221</td>\n",
       "      <td>Essential Tales and Poems</td>\n",
       "      <td>0</td>\n",
       "      <td>4.000000</td>\n",
       "    </tr>\n",
       "    <tr>\n",
       "      <th>996</th>\n",
       "      <td>808</td>\n",
       "      <td>The Natural Way to Draw</td>\n",
       "      <td>0</td>\n",
       "      <td>3.000000</td>\n",
       "    </tr>\n",
       "    <tr>\n",
       "      <th>997</th>\n",
       "      <td>191</td>\n",
       "      <td>Disney's Beauty and the Beast (A Little Golden...</td>\n",
       "      <td>0</td>\n",
       "      <td>4.000000</td>\n",
       "    </tr>\n",
       "    <tr>\n",
       "      <th>998</th>\n",
       "      <td>83</td>\n",
       "      <td>Anne Rice's The Vampire Lestat: A Graphic Novel</td>\n",
       "      <td>0</td>\n",
       "      <td>3.666667</td>\n",
       "    </tr>\n",
       "    <tr>\n",
       "      <th>999</th>\n",
       "      <td>672</td>\n",
       "      <td>The Cat in the Hat and Other Dr. Seuss Favorites</td>\n",
       "      <td>0</td>\n",
       "      <td>5.000000</td>\n",
       "    </tr>\n",
       "  </tbody>\n",
       "</table>\n",
       "<p>1000 rows × 4 columns</p>\n",
       "</div>"
      ],
      "text/plain": [
       "     book_id                                              title  count  \\\n",
       "0        948                            Twilight (Twilight  #1)   1120   \n",
       "1        750                The Hobbit  or There and Back Again    528   \n",
       "2        673                             The Catcher in the Rye    516   \n",
       "3        302  Harry Potter and the Prisoner of Azkaban (Harr...    492   \n",
       "4        299  Harry Potter and the Chamber of Secrets (Harry...    480   \n",
       "..       ...                                                ...    ...   \n",
       "995      221                          Essential Tales and Poems      0   \n",
       "996      808                            The Natural Way to Draw      0   \n",
       "997      191  Disney's Beauty and the Beast (A Little Golden...      0   \n",
       "998       83    Anne Rice's The Vampire Lestat: A Graphic Novel      0   \n",
       "999      672   The Cat in the Hat and Other Dr. Seuss Favorites      0   \n",
       "\n",
       "          avg  \n",
       "0    3.662500  \n",
       "1    4.125000  \n",
       "2    3.825581  \n",
       "3    4.414634  \n",
       "4    4.287500  \n",
       "..        ...  \n",
       "995  4.000000  \n",
       "996  3.000000  \n",
       "997  4.000000  \n",
       "998  3.666667  \n",
       "999  5.000000  \n",
       "\n",
       "[1000 rows x 4 columns]"
      ]
     },
     "execution_count": 9,
     "metadata": {},
     "output_type": "execute_result"
    }
   ],
   "source": [
    "query = '''SELECT b.book_id,\n",
    "                  b.title,\n",
    "                  COUNT(text), \n",
    "                  AVG(rating)\n",
    "           FROM books AS b\n",
    "           LEFT JOIN ratings AS r ON r.book_id = b.book_id\n",
    "           LEFT JOIN reviews AS rev ON rev.book_id = b.book_id\n",
    "           GROUP BY b.book_id\n",
    "           ORDER BY count DESC ;\n",
    "           '''\n",
    "con=engine.connect()\n",
    "pd.io.sql.read_sql(sql=text(query), con = con)"
   ]
  },
  {
   "cell_type": "markdown",
   "id": "f176e8ef",
   "metadata": {},
   "source": [
    "Некоторые книги содержат огромное количество обзоров, а некоторые ни одного. Но количество обзоров никак не влияет на средний рейтинг."
   ]
  },
  {
   "cell_type": "markdown",
   "id": "568d5705",
   "metadata": {},
   "source": [
    "## Определим издательство, которое выпустило наибольшее число книг толще 50 страниц — так исключим из анализа брошюры"
   ]
  },
  {
   "cell_type": "code",
   "execution_count": 10,
   "id": "f3877817",
   "metadata": {},
   "outputs": [
    {
     "data": {
      "text/html": [
       "<div>\n",
       "<style scoped>\n",
       "    .dataframe tbody tr th:only-of-type {\n",
       "        vertical-align: middle;\n",
       "    }\n",
       "\n",
       "    .dataframe tbody tr th {\n",
       "        vertical-align: top;\n",
       "    }\n",
       "\n",
       "    .dataframe thead th {\n",
       "        text-align: right;\n",
       "    }\n",
       "</style>\n",
       "<table border=\"1\" class=\"dataframe\">\n",
       "  <thead>\n",
       "    <tr style=\"text-align: right;\">\n",
       "      <th></th>\n",
       "      <th>publisher</th>\n",
       "      <th>book_cnt</th>\n",
       "    </tr>\n",
       "  </thead>\n",
       "  <tbody>\n",
       "    <tr>\n",
       "      <th>0</th>\n",
       "      <td>Penguin Books</td>\n",
       "      <td>42</td>\n",
       "    </tr>\n",
       "  </tbody>\n",
       "</table>\n",
       "</div>"
      ],
      "text/plain": [
       "       publisher  book_cnt\n",
       "0  Penguin Books        42"
      ]
     },
     "execution_count": 10,
     "metadata": {},
     "output_type": "execute_result"
    }
   ],
   "source": [
    "query = '''WITH top AS (SELECT publisher_id,\n",
    "                               COUNT(book_id) AS book_cnt\n",
    "                        FROM books\n",
    "                        WHERE num_pages > 50\n",
    "                        GROUP BY publisher_id\n",
    "                        ORDER BY book_cnt DESC\n",
    "                        LIMIT 1)\n",
    "            SELECT p.publisher,\n",
    "                   top.book_cnt\n",
    "            FROM publishers AS p\n",
    "            JOIN top ON p.publisher_id = top.publisher_id\n",
    "           '''\n",
    "con=engine.connect()\n",
    "pd.io.sql.read_sql(sql=text(query), con = con)"
   ]
  },
  {
   "cell_type": "markdown",
   "id": "59ba0000",
   "metadata": {},
   "source": [
    "Больше всего книг выпустило издательство *Penguin Books* - 42 книги."
   ]
  },
  {
   "cell_type": "markdown",
   "id": "8907c013",
   "metadata": {},
   "source": [
    "## Определим автора с самой высокой средней оценкой книг — учитывайте только книги с 50 и более оценками"
   ]
  },
  {
   "cell_type": "code",
   "execution_count": 11,
   "id": "bac40287",
   "metadata": {
    "scrolled": true
   },
   "outputs": [
    {
     "data": {
      "text/html": [
       "<div>\n",
       "<style scoped>\n",
       "    .dataframe tbody tr th:only-of-type {\n",
       "        vertical-align: middle;\n",
       "    }\n",
       "\n",
       "    .dataframe tbody tr th {\n",
       "        vertical-align: top;\n",
       "    }\n",
       "\n",
       "    .dataframe thead th {\n",
       "        text-align: right;\n",
       "    }\n",
       "</style>\n",
       "<table border=\"1\" class=\"dataframe\">\n",
       "  <thead>\n",
       "    <tr style=\"text-align: right;\">\n",
       "      <th></th>\n",
       "      <th>author</th>\n",
       "      <th>avg_rating</th>\n",
       "    </tr>\n",
       "  </thead>\n",
       "  <tbody>\n",
       "    <tr>\n",
       "      <th>0</th>\n",
       "      <td>J.K. Rowling/Mary GrandPré</td>\n",
       "      <td>4.283844</td>\n",
       "    </tr>\n",
       "  </tbody>\n",
       "</table>\n",
       "</div>"
      ],
      "text/plain": [
       "                       author  avg_rating\n",
       "0  J.K. Rowling/Mary GrandPré    4.283844"
      ]
     },
     "execution_count": 11,
     "metadata": {},
     "output_type": "execute_result"
    }
   ],
   "source": [
    "query = '''WITH\n",
    "               name_1 AS (SELECT book_id, \n",
    "                            AVG(rating) AS book_rating\n",
    "                     FROM ratings\n",
    "                     GROUP BY book_id\n",
    "                     HAVING COUNT(rating_id) >= 50\n",
    "                    ), \n",
    "               name_2 AS (SELECT b.book_id, \n",
    "                              au.author, \n",
    "                              a.book_rating\n",
    "                      FROM books AS b\n",
    "                      JOIN name_1 AS a ON b.book_id = a.book_id\n",
    "                      JOIN authors AS au ON au.author_id = b.author_id\n",
    "                    )\n",
    "\n",
    "               SELECT author, \n",
    "                      AVG(book_rating) AS avg_rating\n",
    "               FROM name_2\n",
    "               GROUP BY author\n",
    "               ORDER BY avg_rating DESC\n",
    "               LIMIT 1;\n",
    "           '''\n",
    "con=engine.connect()\n",
    "pd.io.sql.read_sql(sql=text(query), con = con)"
   ]
  },
  {
   "cell_type": "markdown",
   "id": "f188b201",
   "metadata": {},
   "source": [
    "Среди популярных книг, самый высокий рейтинг книг у Д. Роулинг - 4,28  \n",
    "В предыдущих заданиях мы видели, что есть книги и сболее высоким рейтингом. Но в данном обзоре мы учитываем только книги,у которых больше 50 оценок."
   ]
  },
  {
   "cell_type": "markdown",
   "id": "0048ff90",
   "metadata": {},
   "source": [
    "## Среднее количество обзоров от пользователей, которые поставили больше 48 оценок."
   ]
  },
  {
   "cell_type": "code",
   "execution_count": 12,
   "id": "11e46509",
   "metadata": {},
   "outputs": [
    {
     "data": {
      "text/html": [
       "<div>\n",
       "<style scoped>\n",
       "    .dataframe tbody tr th:only-of-type {\n",
       "        vertical-align: middle;\n",
       "    }\n",
       "\n",
       "    .dataframe tbody tr th {\n",
       "        vertical-align: top;\n",
       "    }\n",
       "\n",
       "    .dataframe thead th {\n",
       "        text-align: right;\n",
       "    }\n",
       "</style>\n",
       "<table border=\"1\" class=\"dataframe\">\n",
       "  <thead>\n",
       "    <tr style=\"text-align: right;\">\n",
       "      <th></th>\n",
       "      <th>avg</th>\n",
       "    </tr>\n",
       "  </thead>\n",
       "  <tbody>\n",
       "    <tr>\n",
       "      <th>0</th>\n",
       "      <td>24.0</td>\n",
       "    </tr>\n",
       "  </tbody>\n",
       "</table>\n",
       "</div>"
      ],
      "text/plain": [
       "    avg\n",
       "0  24.0"
      ]
     },
     "execution_count": 12,
     "metadata": {},
     "output_type": "execute_result"
    }
   ],
   "source": [
    "query = '''WITH\n",
    "               a AS (SELECT username\n",
    "                     FROM ratings \n",
    "                     GROUP BY username\n",
    "                     HAVING COUNT(rating_id) > 48\n",
    "                    ),    \n",
    "               b AS (SELECT COUNT(review_id) AS review_cnt\n",
    "                     FROM reviews AS r\n",
    "                     JOIN a ON r.username = a.username\n",
    "                     GROUP BY a.username)\n",
    "    \n",
    "           SELECT AVG(review_cnt)\n",
    "           FROM b\n",
    "           '''\n",
    "con=engine.connect()\n",
    "pd.io.sql.read_sql(sql=text(query), con = con)"
   ]
  },
  {
   "cell_type": "markdown",
   "id": "a2b207a2",
   "metadata": {},
   "source": [
    "Среднее количество обзоров от пользователей, которые поставили больше 48 оценок - 24 обзора."
   ]
  },
  {
   "cell_type": "markdown",
   "id": "2728539f",
   "metadata": {},
   "source": [
    "## Итог"
   ]
  },
  {
   "cell_type": "markdown",
   "id": "9dd37e27",
   "metadata": {},
   "source": [
    "В базе данных содержатся 5 таблиц:  \n",
    "\n",
    "`books` - имеет 6 столбцов и 1000 записей о книгах;  \n",
    "`authors` - имеет 2 столбца и 656 записей об авторах;  \n",
    "`publishers` - имеет 2 столбцa и 340 записей об издательствах;  \n",
    "`ratings` - имеет 4 столбцa и  6456 записей о рейтингах книг;  \n",
    "`reviews` - имеет 4 столбца и 2793 записи о пользовательских обзорах на книги.   \n",
    "\n",
    "* После 1 января 2000 года вышло 819 книг\n",
    "* Некоторые книги содержат огромное количество обзоров, а некоторые ни одного. Но количество обзоров никак не влияет на средний рейтинг. \n",
    "* Больше всего книг выпустило издательство Penguin Books - 42 книги.\n",
    "* Самый большой рейтинг у автора Д. Роулинг (среди книги,у которых больше 50 оценок) - 4.3\n",
    "* Среднее количество обзоров от пользователей, которые поставили больше 48 оценок - 24 обзора."
   ]
  }
 ],
 "metadata": {
  "ExecuteTimeLog": [
   {
    "duration": 10226,
    "start_time": "2023-09-20T18:36:09.205Z"
   },
   {
    "duration": 154,
    "start_time": "2023-09-20T18:47:18.945Z"
   },
   {
    "duration": 4,
    "start_time": "2023-09-20T18:47:25.919Z"
   },
   {
    "duration": 309,
    "start_time": "2023-09-20T18:57:38.273Z"
   },
   {
    "duration": 160,
    "start_time": "2023-09-20T18:58:21.655Z"
   },
   {
    "duration": 139,
    "start_time": "2023-09-20T19:03:30.798Z"
   },
   {
    "duration": 43,
    "start_time": "2023-09-20T19:05:14.799Z"
   },
   {
    "duration": 149,
    "start_time": "2023-09-20T19:07:13.359Z"
   },
   {
    "duration": 64,
    "start_time": "2023-09-20T19:08:12.421Z"
   },
   {
    "duration": 53,
    "start_time": "2023-09-20T19:08:54.871Z"
   },
   {
    "duration": 54,
    "start_time": "2023-09-20T19:09:29.371Z"
   },
   {
    "duration": 75,
    "start_time": "2023-09-20T19:13:16.774Z"
   },
   {
    "duration": 40,
    "start_time": "2023-09-20T19:13:41.758Z"
   },
   {
    "duration": 196,
    "start_time": "2023-09-20T19:21:59.580Z"
   },
   {
    "duration": 87,
    "start_time": "2023-09-20T19:27:02.301Z"
   },
   {
    "duration": 75,
    "start_time": "2023-09-20T19:27:20.842Z"
   },
   {
    "duration": 170,
    "start_time": "2023-09-20T19:27:30.195Z"
   },
   {
    "duration": 241,
    "start_time": "2023-09-20T19:30:04.648Z"
   },
   {
    "duration": 86,
    "start_time": "2023-09-20T19:33:39.522Z"
   },
   {
    "duration": 74,
    "start_time": "2023-09-20T19:34:41.407Z"
   },
   {
    "duration": 91,
    "start_time": "2023-09-20T19:34:56.623Z"
   },
   {
    "duration": 45,
    "start_time": "2023-09-20T19:35:26.180Z"
   },
   {
    "duration": 74,
    "start_time": "2023-09-20T19:46:11.821Z"
   },
   {
    "duration": 55,
    "start_time": "2023-09-20T19:49:54.183Z"
   },
   {
    "duration": 92,
    "start_time": "2023-09-20T20:00:29.295Z"
   },
   {
    "duration": 62,
    "start_time": "2023-09-20T20:07:20.925Z"
   },
   {
    "duration": 64,
    "start_time": "2024-07-15T14:25:22.852Z"
   },
   {
    "duration": 7367,
    "start_time": "2024-07-15T14:25:31.245Z"
   },
   {
    "duration": 229,
    "start_time": "2024-07-15T14:25:38.615Z"
   },
   {
    "duration": 127,
    "start_time": "2024-07-15T14:25:38.845Z"
   },
   {
    "duration": 53,
    "start_time": "2024-07-15T14:25:38.975Z"
   },
   {
    "duration": 55,
    "start_time": "2024-07-15T14:25:39.030Z"
   },
   {
    "duration": 56,
    "start_time": "2024-07-15T14:25:39.087Z"
   },
   {
    "duration": 51,
    "start_time": "2024-07-15T14:25:39.145Z"
   },
   {
    "duration": 123,
    "start_time": "2024-07-15T14:25:39.198Z"
   },
   {
    "duration": 51,
    "start_time": "2024-07-15T14:25:39.323Z"
   },
   {
    "duration": 52,
    "start_time": "2024-07-15T14:25:39.376Z"
   },
   {
    "duration": 52,
    "start_time": "2024-07-15T14:25:39.429Z"
   }
  ],
  "kernelspec": {
   "display_name": "Python 3 (ipykernel)",
   "language": "python",
   "name": "python3"
  },
  "language_info": {
   "codemirror_mode": {
    "name": "ipython",
    "version": 3
   },
   "file_extension": ".py",
   "mimetype": "text/x-python",
   "name": "python",
   "nbconvert_exporter": "python",
   "pygments_lexer": "ipython3",
   "version": "3.9.5"
  },
  "toc": {
   "base_numbering": 1,
   "nav_menu": {},
   "number_sections": true,
   "sideBar": true,
   "skip_h1_title": true,
   "title_cell": "Содержание",
   "title_sidebar": "Contents",
   "toc_cell": true,
   "toc_position": {
    "height": "calc(100% - 180px)",
    "left": "10px",
    "top": "150px",
    "width": "165px"
   },
   "toc_section_display": true,
   "toc_window_display": true
  }
 },
 "nbformat": 4,
 "nbformat_minor": 5
}
