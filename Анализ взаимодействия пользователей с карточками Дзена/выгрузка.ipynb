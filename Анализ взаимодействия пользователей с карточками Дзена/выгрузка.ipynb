{
 "cells": [
  {
   "cell_type": "markdown",
   "id": "95cb92cc",
   "metadata": {},
   "source": [
    "# Анализ взаимодействия пользователей с карточками Дзена"
   ]
  },
  {
   "cell_type": "markdown",
   "id": "45d480f2",
   "metadata": {},
   "source": [
    "**Цель:** автоматизировать анализ взаимодействия пользователей с карточками статей Яндекс.Дзен.\n",
    "\n",
    "**Задача:** выгрузить данные и по ним сделать дашборд, который будет основываться на пайплайне. Пайплайн будет разработан дата-инженерами."
   ]
  },
  {
   "cell_type": "markdown",
   "id": "9f1b36a1",
   "metadata": {},
   "source": [
    "**Выгрузка данных**"
   ]
  },
  {
   "cell_type": "code",
   "execution_count": 1,
   "id": "e6831976",
   "metadata": {},
   "outputs": [],
   "source": [
    "#!/usr/bin/python\n",
    "# -*- coding: utf-8 -*-\n",
    "\n",
    "# импортируем библиотеки\n",
    "import pandas as pd\n",
    "from sqlalchemy import create_engine\n",
    "\n",
    "db_config = {'user': 'praktikum_student', # имя пользователя\n",
    "            'pwd': 'Sdf4$2;d-d30pp', # пароль\n",
    "            'host': 'rc1b-wcoijxj3yxfsf3fs.mdb.yandexcloud.net',\n",
    "            'port': 6432, # порт подключения\n",
    "            'db': 'data-analyst-zen-project-db'} # название базы данных\n",
    "\n",
    "connection_string = 'postgresql://{}:{}@{}:{}/{}'.format(db_config['user'],\n",
    "                                                db_config['pwd'],\n",
    "                                                db_config['host'],\n",
    "                                                db_config['port'],\n",
    "                                                db_config['db'])\n",
    "\n",
    "engine = create_engine(connection_string)"
   ]
  },
  {
   "cell_type": "code",
   "execution_count": 2,
   "id": "213ffecf",
   "metadata": {},
   "outputs": [],
   "source": [
    "query = '''\n",
    "           SELECT *\n",
    "           FROM dash_visits\n",
    "        '''"
   ]
  },
  {
   "cell_type": "code",
   "execution_count": 5,
   "id": "e91ca50b",
   "metadata": {},
   "outputs": [],
   "source": [
    "dash_visits = pd.io.sql.read_sql(query, con = engine)"
   ]
  },
  {
   "cell_type": "markdown",
   "id": "6d284e40",
   "metadata": {},
   "source": [
    "Посмотрим выгруженные данные"
   ]
  },
  {
   "cell_type": "code",
   "execution_count": 6,
   "id": "551e753d",
   "metadata": {},
   "outputs": [
    {
     "data": {
      "text/html": [
       "<div>\n",
       "<style scoped>\n",
       "    .dataframe tbody tr th:only-of-type {\n",
       "        vertical-align: middle;\n",
       "    }\n",
       "\n",
       "    .dataframe tbody tr th {\n",
       "        vertical-align: top;\n",
       "    }\n",
       "\n",
       "    .dataframe thead th {\n",
       "        text-align: right;\n",
       "    }\n",
       "</style>\n",
       "<table border=\"1\" class=\"dataframe\">\n",
       "  <thead>\n",
       "    <tr style=\"text-align: right;\">\n",
       "      <th></th>\n",
       "      <th>record_id</th>\n",
       "      <th>item_topic</th>\n",
       "      <th>source_topic</th>\n",
       "      <th>age_segment</th>\n",
       "      <th>dt</th>\n",
       "      <th>visits</th>\n",
       "    </tr>\n",
       "  </thead>\n",
       "  <tbody>\n",
       "    <tr>\n",
       "      <th>0</th>\n",
       "      <td>1040597</td>\n",
       "      <td>Деньги</td>\n",
       "      <td>Авто</td>\n",
       "      <td>18-25</td>\n",
       "      <td>2019-09-24 18:32:00</td>\n",
       "      <td>3</td>\n",
       "    </tr>\n",
       "    <tr>\n",
       "      <th>1</th>\n",
       "      <td>1040598</td>\n",
       "      <td>Деньги</td>\n",
       "      <td>Авто</td>\n",
       "      <td>18-25</td>\n",
       "      <td>2019-09-24 18:35:00</td>\n",
       "      <td>1</td>\n",
       "    </tr>\n",
       "    <tr>\n",
       "      <th>2</th>\n",
       "      <td>1040599</td>\n",
       "      <td>Деньги</td>\n",
       "      <td>Авто</td>\n",
       "      <td>18-25</td>\n",
       "      <td>2019-09-24 18:54:00</td>\n",
       "      <td>4</td>\n",
       "    </tr>\n",
       "    <tr>\n",
       "      <th>3</th>\n",
       "      <td>1040600</td>\n",
       "      <td>Деньги</td>\n",
       "      <td>Авто</td>\n",
       "      <td>18-25</td>\n",
       "      <td>2019-09-24 18:55:00</td>\n",
       "      <td>17</td>\n",
       "    </tr>\n",
       "    <tr>\n",
       "      <th>4</th>\n",
       "      <td>1040601</td>\n",
       "      <td>Деньги</td>\n",
       "      <td>Авто</td>\n",
       "      <td>18-25</td>\n",
       "      <td>2019-09-24 18:56:00</td>\n",
       "      <td>27</td>\n",
       "    </tr>\n",
       "  </tbody>\n",
       "</table>\n",
       "</div>"
      ],
      "text/plain": [
       "   record_id item_topic source_topic age_segment                  dt  visits\n",
       "0    1040597     Деньги         Авто       18-25 2019-09-24 18:32:00       3\n",
       "1    1040598     Деньги         Авто       18-25 2019-09-24 18:35:00       1\n",
       "2    1040599     Деньги         Авто       18-25 2019-09-24 18:54:00       4\n",
       "3    1040600     Деньги         Авто       18-25 2019-09-24 18:55:00      17\n",
       "4    1040601     Деньги         Авто       18-25 2019-09-24 18:56:00      27"
      ]
     },
     "execution_count": 6,
     "metadata": {},
     "output_type": "execute_result"
    }
   ],
   "source": [
    "dash_visits.head()"
   ]
  },
  {
   "cell_type": "markdown",
   "id": "0ec42be6",
   "metadata": {},
   "source": [
    "Сохраним в формате csv"
   ]
  },
  {
   "cell_type": "code",
   "execution_count": 7,
   "id": "08f95b3a",
   "metadata": {},
   "outputs": [],
   "source": [
    "dash_visits.to_csv('dash_visits.csv', index=False)"
   ]
  }
 ],
 "metadata": {
  "ExecuteTimeLog": [
   {
    "duration": 5207,
    "start_time": "2023-02-04T18:11:54.171Z"
   },
   {
    "duration": 3,
    "start_time": "2023-02-04T18:13:49.855Z"
   },
   {
    "duration": 225,
    "start_time": "2023-02-04T18:14:06.856Z"
   },
   {
    "duration": 71,
    "start_time": "2023-02-04T18:16:21.588Z"
   },
   {
    "duration": 162,
    "start_time": "2023-02-04T18:18:54.192Z"
   },
   {
    "duration": 13,
    "start_time": "2023-02-04T18:18:59.157Z"
   },
   {
    "duration": 329,
    "start_time": "2023-02-04T18:24:43.807Z"
   },
   {
    "duration": 20,
    "start_time": "2023-02-04T18:49:26.136Z"
   }
  ],
  "kernelspec": {
   "display_name": "Python 3 (ipykernel)",
   "language": "python",
   "name": "python3"
  },
  "language_info": {
   "codemirror_mode": {
    "name": "ipython",
    "version": 3
   },
   "file_extension": ".py",
   "mimetype": "text/x-python",
   "name": "python",
   "nbconvert_exporter": "python",
   "pygments_lexer": "ipython3",
   "version": "3.9.5"
  },
  "toc": {
   "base_numbering": 1,
   "nav_menu": {},
   "number_sections": true,
   "sideBar": true,
   "skip_h1_title": true,
   "title_cell": "Table of Contents",
   "title_sidebar": "Contents",
   "toc_cell": false,
   "toc_position": {},
   "toc_section_display": true,
   "toc_window_display": false
  }
 },
 "nbformat": 4,
 "nbformat_minor": 5
}
