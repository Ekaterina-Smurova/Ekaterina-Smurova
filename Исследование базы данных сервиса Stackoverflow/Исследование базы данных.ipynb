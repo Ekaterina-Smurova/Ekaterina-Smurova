{
 "cells": [
  {
   "cell_type": "markdown",
   "metadata": {},
   "source": [
    "# Исследование базы данных сервиса Stackoverflow"
   ]
  },
  {
   "cell_type": "markdown",
   "metadata": {
    "id": "sRW85nPMDWKb"
   },
   "source": [
    "В этом исследовании работа идёт с базой данных StackOverflow — сервиса вопросов и ответов о программировании.  \n",
    "\n",
    "StackOverflow похож на социальную сеть — пользователи сервиса задают вопросы, отвечают на посты, оставляют комментарии и ставят оценки другим ответам.  \n",
    "\n",
    "**Задачи:** сформировать требуемые выгрузки данных с помощью SQL, посчитать различные продуктовые метрики и визуализировать их."
   ]
  },
  {
   "cell_type": "markdown",
   "metadata": {},
   "source": [
    "## Импортируем библиотеки"
   ]
  },
  {
   "cell_type": "code",
   "execution_count": 1,
   "metadata": {
    "id": "nlZBlglMDWKe"
   },
   "outputs": [],
   "source": [
    "import pandas as pd\n",
    "import matplotlib.pyplot as plt\n",
    "import seaborn as sns\n",
    "from sqlalchemy import create_engine "
   ]
  },
  {
   "cell_type": "markdown",
   "metadata": {
    "id": "XnOE3n28DWKg"
   },
   "source": [
    "### Конфигурация для подключения к базе данных `data-analyst-advanced-sql`\n",
    "Эта база данных содержит схему `stackoverflow`, с будем работать в проекте"
   ]
  },
  {
   "cell_type": "code",
   "execution_count": 2,
   "metadata": {
    "id": "6p-yGp7qDWKg"
   },
   "outputs": [],
   "source": [
    "db_config = {\n",
    "    'user': 'praktikum_student', # имя пользователя\n",
    "    'pwd': 'Sdf4$2;d-d30pp', # пароль\n",
    "    'host': 'rc1b-wcoijxj3yxfsf3fs.mdb.yandexcloud.net',\n",
    "    'port': 6432, # порт подключения\n",
    "    'db': 'data-analyst-advanced-sql' # название базы данных\n",
    "}  \n",
    "\n",
    "connection_string = 'postgresql://{}:{}@{}:{}/{}'.format(\n",
    "    db_config['user'],\n",
    "    db_config['pwd'],\n",
    "    db_config['host'],\n",
    "    db_config['port'],\n",
    "    db_config['db'],\n",
    ")"
   ]
  },
  {
   "cell_type": "markdown",
   "metadata": {
    "id": "2Rg8ZpS0DWKh"
   },
   "source": [
    "Создание подключения"
   ]
  },
  {
   "cell_type": "code",
   "execution_count": 3,
   "metadata": {
    "id": "DamCUTR6DWKi"
   },
   "outputs": [],
   "source": [
    "engine = create_engine(connection_string) "
   ]
  },
  {
   "cell_type": "markdown",
   "metadata": {
    "id": "bel8XeSlDWKj"
   },
   "source": [
    "Проверим подключене"
   ]
  },
  {
   "cell_type": "code",
   "execution_count": 4,
   "metadata": {
    "id": "6Z_fw0yLDWKk"
   },
   "outputs": [],
   "source": [
    "query = '''\n",
    "SELECT *\n",
    "FROM stackoverflow.users\n",
    "LIMIT 10;\n",
    "'''\n",
    "\n",
    "sample_df = pd.read_sql_query(query, con=engine) "
   ]
  },
  {
   "cell_type": "code",
   "execution_count": 5,
   "metadata": {
    "id": "ZpuZ290oDWKk",
    "outputId": "22785a0a-e2bc-4559-ec3c-4879c4b377eb"
   },
   "outputs": [
    {
     "data": {
      "text/html": [
       "<div>\n",
       "<style scoped>\n",
       "    .dataframe tbody tr th:only-of-type {\n",
       "        vertical-align: middle;\n",
       "    }\n",
       "\n",
       "    .dataframe tbody tr th {\n",
       "        vertical-align: top;\n",
       "    }\n",
       "\n",
       "    .dataframe thead th {\n",
       "        text-align: right;\n",
       "    }\n",
       "</style>\n",
       "<table border=\"1\" class=\"dataframe\">\n",
       "  <thead>\n",
       "    <tr style=\"text-align: right;\">\n",
       "      <th></th>\n",
       "      <th>id</th>\n",
       "      <th>creation_date</th>\n",
       "      <th>display_name</th>\n",
       "      <th>last_access_date</th>\n",
       "      <th>location</th>\n",
       "      <th>reputation</th>\n",
       "      <th>views</th>\n",
       "    </tr>\n",
       "  </thead>\n",
       "  <tbody>\n",
       "    <tr>\n",
       "      <th>0</th>\n",
       "      <td>1</td>\n",
       "      <td>2008-07-31 14:22:31</td>\n",
       "      <td>Jeff Atwood</td>\n",
       "      <td>2018-08-29 02:34:23</td>\n",
       "      <td>El Cerrito, CA</td>\n",
       "      <td>44300</td>\n",
       "      <td>408587</td>\n",
       "    </tr>\n",
       "    <tr>\n",
       "      <th>1</th>\n",
       "      <td>2</td>\n",
       "      <td>2008-07-31 14:22:31</td>\n",
       "      <td>Geoff Dalgas</td>\n",
       "      <td>2018-08-23 17:31:56</td>\n",
       "      <td>Corvallis, OR</td>\n",
       "      <td>3491</td>\n",
       "      <td>23966</td>\n",
       "    </tr>\n",
       "    <tr>\n",
       "      <th>2</th>\n",
       "      <td>3</td>\n",
       "      <td>2008-07-31 14:22:31</td>\n",
       "      <td>Jarrod Dixon</td>\n",
       "      <td>2018-08-30 20:56:24</td>\n",
       "      <td>Raleigh, NC, United States</td>\n",
       "      <td>13418</td>\n",
       "      <td>24396</td>\n",
       "    </tr>\n",
       "    <tr>\n",
       "      <th>3</th>\n",
       "      <td>4</td>\n",
       "      <td>2008-07-31 14:22:31</td>\n",
       "      <td>Joel Spolsky</td>\n",
       "      <td>2018-08-14 22:18:15</td>\n",
       "      <td>New York, NY</td>\n",
       "      <td>28768</td>\n",
       "      <td>73755</td>\n",
       "    </tr>\n",
       "    <tr>\n",
       "      <th>4</th>\n",
       "      <td>5</td>\n",
       "      <td>2008-07-31 14:22:31</td>\n",
       "      <td>Jon Galloway</td>\n",
       "      <td>2018-08-29 16:48:36</td>\n",
       "      <td>San Diego, CA</td>\n",
       "      <td>39172</td>\n",
       "      <td>11700</td>\n",
       "    </tr>\n",
       "    <tr>\n",
       "      <th>5</th>\n",
       "      <td>8</td>\n",
       "      <td>2008-07-31 21:33:24</td>\n",
       "      <td>Eggs McLaren</td>\n",
       "      <td>2018-04-09 02:04:56</td>\n",
       "      <td>None</td>\n",
       "      <td>942</td>\n",
       "      <td>6372</td>\n",
       "    </tr>\n",
       "    <tr>\n",
       "      <th>6</th>\n",
       "      <td>9</td>\n",
       "      <td>2008-07-31 21:35:27</td>\n",
       "      <td>Kevin Dente</td>\n",
       "      <td>2018-08-30 18:18:03</td>\n",
       "      <td>Oakland, CA</td>\n",
       "      <td>14337</td>\n",
       "      <td>4949</td>\n",
       "    </tr>\n",
       "    <tr>\n",
       "      <th>7</th>\n",
       "      <td>11</td>\n",
       "      <td>2008-08-01 00:59:11</td>\n",
       "      <td>Anonymous User</td>\n",
       "      <td>2008-08-01 00:59:11</td>\n",
       "      <td>None</td>\n",
       "      <td>1890</td>\n",
       "      <td>2123</td>\n",
       "    </tr>\n",
       "    <tr>\n",
       "      <th>8</th>\n",
       "      <td>13</td>\n",
       "      <td>2008-08-01 04:18:05</td>\n",
       "      <td>Chris Jester-Young</td>\n",
       "      <td>2018-08-30 02:47:23</td>\n",
       "      <td>Raleigh, NC, United States</td>\n",
       "      <td>177138</td>\n",
       "      <td>35414</td>\n",
       "    </tr>\n",
       "    <tr>\n",
       "      <th>9</th>\n",
       "      <td>17</td>\n",
       "      <td>2008-08-01 12:02:22</td>\n",
       "      <td>Nick Berardi</td>\n",
       "      <td>2018-01-22 01:35:38</td>\n",
       "      <td>Issaquah, WA</td>\n",
       "      <td>44443</td>\n",
       "      <td>4786</td>\n",
       "    </tr>\n",
       "  </tbody>\n",
       "</table>\n",
       "</div>"
      ],
      "text/plain": [
       "   id       creation_date        display_name    last_access_date  \\\n",
       "0   1 2008-07-31 14:22:31         Jeff Atwood 2018-08-29 02:34:23   \n",
       "1   2 2008-07-31 14:22:31        Geoff Dalgas 2018-08-23 17:31:56   \n",
       "2   3 2008-07-31 14:22:31        Jarrod Dixon 2018-08-30 20:56:24   \n",
       "3   4 2008-07-31 14:22:31        Joel Spolsky 2018-08-14 22:18:15   \n",
       "4   5 2008-07-31 14:22:31        Jon Galloway 2018-08-29 16:48:36   \n",
       "5   8 2008-07-31 21:33:24        Eggs McLaren 2018-04-09 02:04:56   \n",
       "6   9 2008-07-31 21:35:27         Kevin Dente 2018-08-30 18:18:03   \n",
       "7  11 2008-08-01 00:59:11      Anonymous User 2008-08-01 00:59:11   \n",
       "8  13 2008-08-01 04:18:05  Chris Jester-Young 2018-08-30 02:47:23   \n",
       "9  17 2008-08-01 12:02:22        Nick Berardi 2018-01-22 01:35:38   \n",
       "\n",
       "                     location  reputation   views  \n",
       "0              El Cerrito, CA       44300  408587  \n",
       "1               Corvallis, OR        3491   23966  \n",
       "2  Raleigh, NC, United States       13418   24396  \n",
       "3                New York, NY       28768   73755  \n",
       "4               San Diego, CA       39172   11700  \n",
       "5                        None         942    6372  \n",
       "6                 Oakland, CA       14337    4949  \n",
       "7                        None        1890    2123  \n",
       "8  Raleigh, NC, United States      177138   35414  \n",
       "9                Issaquah, WA       44443    4786  "
      ]
     },
     "execution_count": 5,
     "metadata": {},
     "output_type": "execute_result"
    }
   ],
   "source": [
    "sample_df"
   ]
  },
  {
   "cell_type": "markdown",
   "metadata": {
    "id": "gnBMXkDBDWKm"
   },
   "source": [
    "# Задание 1"
   ]
  },
  {
   "cell_type": "markdown",
   "metadata": {
    "id": "vHsfOrrNDWKn"
   },
   "source": [
    "Выведите общую сумму просмотров постов за каждый месяц 2008 года. Если данных за какой-либо месяц в базе нет, такой месяц можно пропустить. Результат отсортируйте по убыванию общего количества просмотров."
   ]
  },
  {
   "cell_type": "markdown",
   "metadata": {
    "id": "I_ZvhOxkDWKp"
   },
   "source": [
    "Проанализируйте итоговую таблицу. Отличаются ли данные за разные месяцы? С чем могут быть связаны отличия?"
   ]
  },
  {
   "cell_type": "code",
   "execution_count": 6,
   "metadata": {
    "id": "eWvykcXTDWKo"
   },
   "outputs": [
    {
     "data": {
      "text/html": [
       "<div>\n",
       "<style scoped>\n",
       "    .dataframe tbody tr th:only-of-type {\n",
       "        vertical-align: middle;\n",
       "    }\n",
       "\n",
       "    .dataframe tbody tr th {\n",
       "        vertical-align: top;\n",
       "    }\n",
       "\n",
       "    .dataframe thead th {\n",
       "        text-align: right;\n",
       "    }\n",
       "</style>\n",
       "<table border=\"1\" class=\"dataframe\">\n",
       "  <thead>\n",
       "    <tr style=\"text-align: right;\">\n",
       "      <th></th>\n",
       "      <th>month_dt</th>\n",
       "      <th>total_views</th>\n",
       "    </tr>\n",
       "  </thead>\n",
       "  <tbody>\n",
       "    <tr>\n",
       "      <th>0</th>\n",
       "      <td>2008-09-01</td>\n",
       "      <td>452928568</td>\n",
       "    </tr>\n",
       "    <tr>\n",
       "      <th>1</th>\n",
       "      <td>2008-10-01</td>\n",
       "      <td>365400138</td>\n",
       "    </tr>\n",
       "    <tr>\n",
       "      <th>2</th>\n",
       "      <td>2008-11-01</td>\n",
       "      <td>221759651</td>\n",
       "    </tr>\n",
       "    <tr>\n",
       "      <th>3</th>\n",
       "      <td>2008-12-01</td>\n",
       "      <td>197792841</td>\n",
       "    </tr>\n",
       "    <tr>\n",
       "      <th>4</th>\n",
       "      <td>2008-08-01</td>\n",
       "      <td>131367083</td>\n",
       "    </tr>\n",
       "    <tr>\n",
       "      <th>5</th>\n",
       "      <td>2008-07-01</td>\n",
       "      <td>669895</td>\n",
       "    </tr>\n",
       "  </tbody>\n",
       "</table>\n",
       "</div>"
      ],
      "text/plain": [
       "    month_dt  total_views\n",
       "0 2008-09-01    452928568\n",
       "1 2008-10-01    365400138\n",
       "2 2008-11-01    221759651\n",
       "3 2008-12-01    197792841\n",
       "4 2008-08-01    131367083\n",
       "5 2008-07-01       669895"
      ]
     },
     "execution_count": 6,
     "metadata": {},
     "output_type": "execute_result"
    }
   ],
   "source": [
    "# напишите запрос\n",
    "query = '''\n",
    "SELECT DATE_TRUNC('month', creation_date) AS month_dt,\n",
    "       SUM(views_count) AS total_views\n",
    "FROM stackoverflow.posts\n",
    "WHERE DATE_TRUNC('year', creation_date) IN ('2008-01-01')\n",
    "GROUP BY month_dt\n",
    "ORDER BY total_views DESC;\n",
    "'''\n",
    "\n",
    "df = pd.read_sql_query(query, con=engine)# выполните запрос\n",
    "df"
   ]
  },
  {
   "cell_type": "markdown",
   "metadata": {
    "id": "luxSj17oDWKq"
   },
   "source": [
    "Данные просмотров постов в каждый месяц отличаются.  \n",
    "В июле просмотров в сотни раз меньше, чем в остальные месяцы. Можно предположить, либо в июле было опубликовано мало постов, либо платформа не работала, либо есть ошибки в сборе данных.  \n",
    "\n",
    "Пик просмотров был в сентябре. Затем вплоть до декабря снижался."
   ]
  },
  {
   "cell_type": "markdown",
   "metadata": {
    "id": "FziIXkn5DWKr"
   },
   "source": [
    "# Задание 2"
   ]
  },
  {
   "cell_type": "markdown",
   "metadata": {
    "id": "fTGESZvYDWKr"
   },
   "source": [
    "Выведите имена самых активных пользователей, которые в первый месяц после регистрации (включая день регистрации) дали больше 100 ответов. Вопросы, которые задавали пользователи, не учитывайте. Для каждого имени пользователя выведите количество уникальных значений `user_id`. Отсортируйте результат по полю с именами в лексикографическом порядке."
   ]
  },
  {
   "cell_type": "markdown",
   "metadata": {
    "id": "I3Wr82TplKpI"
   },
   "source": [
    "Какие аномалии наблюдаются в данных? О чём они говорят?"
   ]
  },
  {
   "cell_type": "code",
   "execution_count": 7,
   "metadata": {
    "id": "fIO-y-YjDWKt"
   },
   "outputs": [
    {
     "data": {
      "text/html": [
       "<div>\n",
       "<style scoped>\n",
       "    .dataframe tbody tr th:only-of-type {\n",
       "        vertical-align: middle;\n",
       "    }\n",
       "\n",
       "    .dataframe tbody tr th {\n",
       "        vertical-align: top;\n",
       "    }\n",
       "\n",
       "    .dataframe thead th {\n",
       "        text-align: right;\n",
       "    }\n",
       "</style>\n",
       "<table border=\"1\" class=\"dataframe\">\n",
       "  <thead>\n",
       "    <tr style=\"text-align: right;\">\n",
       "      <th></th>\n",
       "      <th>display_name</th>\n",
       "      <th>count</th>\n",
       "    </tr>\n",
       "  </thead>\n",
       "  <tbody>\n",
       "    <tr>\n",
       "      <th>0</th>\n",
       "      <td>1800 INFORMATION</td>\n",
       "      <td>1</td>\n",
       "    </tr>\n",
       "    <tr>\n",
       "      <th>1</th>\n",
       "      <td>Adam Bellaire</td>\n",
       "      <td>1</td>\n",
       "    </tr>\n",
       "    <tr>\n",
       "      <th>2</th>\n",
       "      <td>Adam Davis</td>\n",
       "      <td>1</td>\n",
       "    </tr>\n",
       "    <tr>\n",
       "      <th>3</th>\n",
       "      <td>Adam Liss</td>\n",
       "      <td>1</td>\n",
       "    </tr>\n",
       "    <tr>\n",
       "      <th>4</th>\n",
       "      <td>Alan</td>\n",
       "      <td>8</td>\n",
       "    </tr>\n",
       "    <tr>\n",
       "      <th>...</th>\n",
       "      <td>...</td>\n",
       "      <td>...</td>\n",
       "    </tr>\n",
       "    <tr>\n",
       "      <th>74</th>\n",
       "      <td>lomaxx</td>\n",
       "      <td>1</td>\n",
       "    </tr>\n",
       "    <tr>\n",
       "      <th>75</th>\n",
       "      <td>mattlant</td>\n",
       "      <td>1</td>\n",
       "    </tr>\n",
       "    <tr>\n",
       "      <th>76</th>\n",
       "      <td>paxdiablo</td>\n",
       "      <td>1</td>\n",
       "    </tr>\n",
       "    <tr>\n",
       "      <th>77</th>\n",
       "      <td>tvanfosson</td>\n",
       "      <td>1</td>\n",
       "    </tr>\n",
       "    <tr>\n",
       "      <th>78</th>\n",
       "      <td>tzot</td>\n",
       "      <td>1</td>\n",
       "    </tr>\n",
       "  </tbody>\n",
       "</table>\n",
       "<p>79 rows × 2 columns</p>\n",
       "</div>"
      ],
      "text/plain": [
       "        display_name  count\n",
       "0   1800 INFORMATION      1\n",
       "1      Adam Bellaire      1\n",
       "2         Adam Davis      1\n",
       "3          Adam Liss      1\n",
       "4               Alan      8\n",
       "..               ...    ...\n",
       "74            lomaxx      1\n",
       "75          mattlant      1\n",
       "76         paxdiablo      1\n",
       "77        tvanfosson      1\n",
       "78              tzot      1\n",
       "\n",
       "[79 rows x 2 columns]"
      ]
     },
     "execution_count": 7,
     "metadata": {},
     "output_type": "execute_result"
    }
   ],
   "source": [
    "# напишите запрос\n",
    "query = '''\n",
    "SELECT u.display_name,\n",
    "       COUNT(DISTINCT p.user_id)\n",
    "FROM stackoverflow.users u\n",
    "JOIN stackoverflow.posts p ON u.id = p.user_id\n",
    "JOIN stackoverflow.post_types pt ON p.post_type_id= pt.id\n",
    "WHERE type = 'Answer'\n",
    "  AND DATE_TRUNC('day', u.creation_date) + INTERVAL '1 month' >= DATE_TRUNC('day', p.creation_date)\n",
    "GROUP BY u.display_name\n",
    "HAVING COUNT(p.id) > 100\n",
    "ORDER BY u.display_name;\n",
    "'''\n",
    "\n",
    "# выполните запрос\n",
    "df = pd.read_sql_query(query, con=engine)# выполните запрос\n",
    "df"
   ]
  },
  {
   "cell_type": "markdown",
   "metadata": {
    "id": "CEIGGQ6ODWKy"
   },
   "source": [
    "Есть пользователи с одинаковыми именами."
   ]
  },
  {
   "cell_type": "markdown",
   "metadata": {
    "id": "JhM2xXj5DWKu"
   },
   "source": [
    "# Задание 3"
   ]
  },
  {
   "cell_type": "markdown",
   "metadata": {
    "id": "IS6xPqyyDWKu"
   },
   "source": [
    "Выведите количество постов за 2008 год по месяцам. Отберите посты от пользователей, которые зарегистрировались в сентябре 2008 года и сделали хотя бы один пост в декабре того же года. Отсортируйте таблицу по значению месяца по убыванию."
   ]
  },
  {
   "cell_type": "markdown",
   "metadata": {
    "id": "Vnxn9DVHDWKx"
   },
   "source": [
    "Изучите данные: есть ли в них аномалии? Предположите, почему могли появиться аномальные значения."
   ]
  },
  {
   "cell_type": "code",
   "execution_count": 8,
   "metadata": {
    "id": "kVu0FB8WDWKv"
   },
   "outputs": [
    {
     "data": {
      "text/html": [
       "<div>\n",
       "<style scoped>\n",
       "    .dataframe tbody tr th:only-of-type {\n",
       "        vertical-align: middle;\n",
       "    }\n",
       "\n",
       "    .dataframe tbody tr th {\n",
       "        vertical-align: top;\n",
       "    }\n",
       "\n",
       "    .dataframe thead th {\n",
       "        text-align: right;\n",
       "    }\n",
       "</style>\n",
       "<table border=\"1\" class=\"dataframe\">\n",
       "  <thead>\n",
       "    <tr style=\"text-align: right;\">\n",
       "      <th></th>\n",
       "      <th>month_dt</th>\n",
       "      <th>count</th>\n",
       "    </tr>\n",
       "  </thead>\n",
       "  <tbody>\n",
       "    <tr>\n",
       "      <th>0</th>\n",
       "      <td>2008-12-01</td>\n",
       "      <td>17641</td>\n",
       "    </tr>\n",
       "    <tr>\n",
       "      <th>1</th>\n",
       "      <td>2008-11-01</td>\n",
       "      <td>18294</td>\n",
       "    </tr>\n",
       "    <tr>\n",
       "      <th>2</th>\n",
       "      <td>2008-10-01</td>\n",
       "      <td>27171</td>\n",
       "    </tr>\n",
       "    <tr>\n",
       "      <th>3</th>\n",
       "      <td>2008-09-01</td>\n",
       "      <td>24870</td>\n",
       "    </tr>\n",
       "    <tr>\n",
       "      <th>4</th>\n",
       "      <td>2008-08-01</td>\n",
       "      <td>32</td>\n",
       "    </tr>\n",
       "  </tbody>\n",
       "</table>\n",
       "</div>"
      ],
      "text/plain": [
       "    month_dt  count\n",
       "0 2008-12-01  17641\n",
       "1 2008-11-01  18294\n",
       "2 2008-10-01  27171\n",
       "3 2008-09-01  24870\n",
       "4 2008-08-01     32"
      ]
     },
     "execution_count": 8,
     "metadata": {},
     "output_type": "execute_result"
    }
   ],
   "source": [
    "# напишите запрос\n",
    "query = '''\n",
    "WITH us AS(\n",
    "SELECT DISTINCT u.id\n",
    "FROM stackoverflow.users u\n",
    "JOIN stackoverflow.posts p ON p.user_id = u.id\n",
    "WHERE DATE_TRUNC('month', p.creation_date) = '2008-12-01'\n",
    "  AND DATE_TRUNC('month', u.creation_date) = '2008-09-01')\n",
    "SELECT DATE_TRUNC('month', creation_date) AS month_dt,\n",
    "       COUNT(*)\n",
    "FROM stackoverflow.posts P\n",
    "JOIN us ON p.user_id = us.id\n",
    "WHERE user_id IN(us.id)\n",
    "GROUP BY month_dt\n",
    "ORDER BY month_dt DESC;\n",
    "'''\n",
    "\n",
    "# выполните запрос\n",
    "df = pd.read_sql_query(query, con=engine)\n",
    "df"
   ]
  },
  {
   "cell_type": "markdown",
   "metadata": {
    "id": "MMVIz4yMlKpN"
   },
   "source": [
    "Мы смотрели пользователей, которые зарегистрировались в сентябре, и при этом у них оказались опубликованные посты в августе.  \n",
    "Значит сбор данных был произведен не корректно."
   ]
  },
  {
   "cell_type": "markdown",
   "metadata": {
    "id": "5Pcizm0DDWKz"
   },
   "source": [
    "# Задание 4"
   ]
  },
  {
   "cell_type": "markdown",
   "metadata": {
    "id": "KUZPF6vHDWKz"
   },
   "source": [
    "Используя данные о постах, выведите несколько полей:\n",
    "\n",
    "- идентификатор пользователя, который написал пост;\n",
    "- дата создания поста;\n",
    "- количество просмотров у текущего поста;\n",
    "- сумму просмотров постов автора с накоплением.\n",
    "\n",
    "Данные в таблице должны быть отсортированы по возрастанию идентификаторов пользователей, а данные об одном и том же пользователе — по возрастанию даты создания поста."
   ]
  },
  {
   "cell_type": "code",
   "execution_count": 9,
   "metadata": {
    "id": "hDoJhMzfDWK0",
    "scrolled": true
   },
   "outputs": [
    {
     "data": {
      "text/html": [
       "<div>\n",
       "<style scoped>\n",
       "    .dataframe tbody tr th:only-of-type {\n",
       "        vertical-align: middle;\n",
       "    }\n",
       "\n",
       "    .dataframe tbody tr th {\n",
       "        vertical-align: top;\n",
       "    }\n",
       "\n",
       "    .dataframe thead th {\n",
       "        text-align: right;\n",
       "    }\n",
       "</style>\n",
       "<table border=\"1\" class=\"dataframe\">\n",
       "  <thead>\n",
       "    <tr style=\"text-align: right;\">\n",
       "      <th></th>\n",
       "      <th>user_id</th>\n",
       "      <th>creation_date</th>\n",
       "      <th>views_count</th>\n",
       "      <th>cum_count</th>\n",
       "    </tr>\n",
       "  </thead>\n",
       "  <tbody>\n",
       "    <tr>\n",
       "      <th>0</th>\n",
       "      <td>1</td>\n",
       "      <td>2008-07-31 23:41:00</td>\n",
       "      <td>480476</td>\n",
       "      <td>480476</td>\n",
       "    </tr>\n",
       "    <tr>\n",
       "      <th>1</th>\n",
       "      <td>1</td>\n",
       "      <td>2008-07-31 23:55:38</td>\n",
       "      <td>136033</td>\n",
       "      <td>616509</td>\n",
       "    </tr>\n",
       "    <tr>\n",
       "      <th>2</th>\n",
       "      <td>1</td>\n",
       "      <td>2008-07-31 23:56:41</td>\n",
       "      <td>0</td>\n",
       "      <td>616509</td>\n",
       "    </tr>\n",
       "    <tr>\n",
       "      <th>3</th>\n",
       "      <td>1</td>\n",
       "      <td>2008-08-04 02:45:08</td>\n",
       "      <td>0</td>\n",
       "      <td>616509</td>\n",
       "    </tr>\n",
       "    <tr>\n",
       "      <th>4</th>\n",
       "      <td>1</td>\n",
       "      <td>2008-08-04 04:31:03</td>\n",
       "      <td>0</td>\n",
       "      <td>616509</td>\n",
       "    </tr>\n",
       "    <tr>\n",
       "      <th>...</th>\n",
       "      <td>...</td>\n",
       "      <td>...</td>\n",
       "      <td>...</td>\n",
       "      <td>...</td>\n",
       "    </tr>\n",
       "    <tr>\n",
       "      <th>243791</th>\n",
       "      <td>5696608</td>\n",
       "      <td>2008-12-23 16:00:37</td>\n",
       "      <td>0</td>\n",
       "      <td>2804</td>\n",
       "    </tr>\n",
       "    <tr>\n",
       "      <th>243792</th>\n",
       "      <td>5696608</td>\n",
       "      <td>2008-12-23 17:35:09</td>\n",
       "      <td>0</td>\n",
       "      <td>2804</td>\n",
       "    </tr>\n",
       "    <tr>\n",
       "      <th>243793</th>\n",
       "      <td>5696608</td>\n",
       "      <td>2008-12-24 01:02:48</td>\n",
       "      <td>0</td>\n",
       "      <td>2804</td>\n",
       "    </tr>\n",
       "    <tr>\n",
       "      <th>243794</th>\n",
       "      <td>5696608</td>\n",
       "      <td>2008-12-30 14:34:45</td>\n",
       "      <td>0</td>\n",
       "      <td>2804</td>\n",
       "    </tr>\n",
       "    <tr>\n",
       "      <th>243795</th>\n",
       "      <td>5696608</td>\n",
       "      <td>2008-12-30 16:32:12</td>\n",
       "      <td>0</td>\n",
       "      <td>2804</td>\n",
       "    </tr>\n",
       "  </tbody>\n",
       "</table>\n",
       "<p>243796 rows × 4 columns</p>\n",
       "</div>"
      ],
      "text/plain": [
       "        user_id       creation_date  views_count  cum_count\n",
       "0             1 2008-07-31 23:41:00       480476     480476\n",
       "1             1 2008-07-31 23:55:38       136033     616509\n",
       "2             1 2008-07-31 23:56:41            0     616509\n",
       "3             1 2008-08-04 02:45:08            0     616509\n",
       "4             1 2008-08-04 04:31:03            0     616509\n",
       "...         ...                 ...          ...        ...\n",
       "243791  5696608 2008-12-23 16:00:37            0       2804\n",
       "243792  5696608 2008-12-23 17:35:09            0       2804\n",
       "243793  5696608 2008-12-24 01:02:48            0       2804\n",
       "243794  5696608 2008-12-30 14:34:45            0       2804\n",
       "243795  5696608 2008-12-30 16:32:12            0       2804\n",
       "\n",
       "[243796 rows x 4 columns]"
      ]
     },
     "execution_count": 9,
     "metadata": {},
     "output_type": "execute_result"
    }
   ],
   "source": [
    "# напишите запрос\n",
    "query = '''\n",
    "SELECT user_id,\n",
    "       creation_date,\n",
    "       views_count,\n",
    "       SUM(views_count) OVER(PARTITION BY user_id ORDER BY creation_date) AS cum_count\n",
    "FROM stackoverflow.posts\n",
    "ORDER BY 1,2;\n",
    "\n",
    "'''\n",
    "\n",
    "# выполните запрос\n",
    "df = pd.read_sql_query(query, con=engine)\n",
    "df"
   ]
  },
  {
   "cell_type": "markdown",
   "metadata": {
    "id": "N0kHRHvIDWK2"
   },
   "source": [
    "# Задание 5"
   ]
  },
  {
   "cell_type": "markdown",
   "metadata": {
    "id": "gBgvmPtODWK2"
   },
   "source": [
    "Найдите среднее количество постов пользователей в день за август 2008 года. Отберите данные о пользователях, которые опубликовали больше 120 постов за август. Дни без публикаций не учитывайте. \n",
    "\n",
    "Отсортируйте результат по возрастанию среднего количества постов. Значения можно не округлять."
   ]
  },
  {
   "cell_type": "code",
   "execution_count": 10,
   "metadata": {
    "id": "YFyPNz5GDWK3"
   },
   "outputs": [
    {
     "data": {
      "text/html": [
       "<div>\n",
       "<style scoped>\n",
       "    .dataframe tbody tr th:only-of-type {\n",
       "        vertical-align: middle;\n",
       "    }\n",
       "\n",
       "    .dataframe tbody tr th {\n",
       "        vertical-align: top;\n",
       "    }\n",
       "\n",
       "    .dataframe thead th {\n",
       "        text-align: right;\n",
       "    }\n",
       "</style>\n",
       "<table border=\"1\" class=\"dataframe\">\n",
       "  <thead>\n",
       "    <tr style=\"text-align: right;\">\n",
       "      <th></th>\n",
       "      <th>user_id</th>\n",
       "      <th>avg</th>\n",
       "    </tr>\n",
       "  </thead>\n",
       "  <tbody>\n",
       "    <tr>\n",
       "      <th>0</th>\n",
       "      <td>116</td>\n",
       "      <td>4.777778</td>\n",
       "    </tr>\n",
       "    <tr>\n",
       "      <th>1</th>\n",
       "      <td>234</td>\n",
       "      <td>5.208333</td>\n",
       "    </tr>\n",
       "    <tr>\n",
       "      <th>2</th>\n",
       "      <td>383</td>\n",
       "      <td>7.277778</td>\n",
       "    </tr>\n",
       "    <tr>\n",
       "      <th>3</th>\n",
       "      <td>905</td>\n",
       "      <td>7.000000</td>\n",
       "    </tr>\n",
       "    <tr>\n",
       "      <th>4</th>\n",
       "      <td>91</td>\n",
       "      <td>5.681818</td>\n",
       "    </tr>\n",
       "  </tbody>\n",
       "</table>\n",
       "</div>"
      ],
      "text/plain": [
       "   user_id       avg\n",
       "0      116  4.777778\n",
       "1      234  5.208333\n",
       "2      383  7.277778\n",
       "3      905  7.000000\n",
       "4       91  5.681818"
      ]
     },
     "execution_count": 10,
     "metadata": {},
     "output_type": "execute_result"
    }
   ],
   "source": [
    "# напишите запрос\n",
    "\n",
    "query = '''\n",
    "WITH us AS\n",
    "(SELECT user_id,\n",
    "        DATE_TRUNC('day', creation_date) AS day,\n",
    "        COUNT(id) AS cnt_post\n",
    "FROM stackoverflow.posts\n",
    "WHERE user_id IN (SELECT user_id\n",
    "                  FROM stackoverflow.posts\n",
    "                  WHERE DATE_TRUNC('month', creation_date) = '2008-08-01'\n",
    "                  GROUP BY 1\n",
    "                  HAVING COUNT(id) > 120)\n",
    "    AND DATE_TRUNC('month', creation_date) = '2008-08-01'\n",
    "GROUP BY 1,2)\n",
    "SELECT user_id,\n",
    "       AVG(cnt_post)\n",
    "FROM us\n",
    "GROUP BY 1;\n",
    "'''\n",
    "# выполните запрос\n",
    "df = pd.read_sql_query(query, con=engine)\n",
    "df"
   ]
  },
  {
   "cell_type": "markdown",
   "metadata": {
    "id": "EQ0dcFH4DWK5"
   },
   "source": [
    "# Задание 6"
   ]
  },
  {
   "cell_type": "markdown",
   "metadata": {
    "id": "c7flfg_hDWK5"
   },
   "source": [
    "Сколько в среднем дней в период с 1 по 7 декабря 2008 года пользователи взаимодействовали с платформой? Для каждого пользователя отберите дни, в которые он или она опубликовали хотя бы один пост. Нужно получить одно целое число — не забудьте округлить результат. "
   ]
  },
  {
   "cell_type": "markdown",
   "metadata": {
    "id": "UJFtNNggDWK7"
   },
   "source": [
    "Проанализируйте итоговую таблицу — какие выводы можно сделать?"
   ]
  },
  {
   "cell_type": "code",
   "execution_count": 11,
   "metadata": {
    "id": "kZ7LXTr6DWK6"
   },
   "outputs": [
    {
     "data": {
      "text/html": [
       "<div>\n",
       "<style scoped>\n",
       "    .dataframe tbody tr th:only-of-type {\n",
       "        vertical-align: middle;\n",
       "    }\n",
       "\n",
       "    .dataframe tbody tr th {\n",
       "        vertical-align: top;\n",
       "    }\n",
       "\n",
       "    .dataframe thead th {\n",
       "        text-align: right;\n",
       "    }\n",
       "</style>\n",
       "<table border=\"1\" class=\"dataframe\">\n",
       "  <thead>\n",
       "    <tr style=\"text-align: right;\">\n",
       "      <th></th>\n",
       "      <th>result</th>\n",
       "    </tr>\n",
       "  </thead>\n",
       "  <tbody>\n",
       "    <tr>\n",
       "      <th>0</th>\n",
       "      <td>2</td>\n",
       "    </tr>\n",
       "  </tbody>\n",
       "</table>\n",
       "</div>"
      ],
      "text/plain": [
       "   result\n",
       "0       2"
      ]
     },
     "execution_count": 11,
     "metadata": {},
     "output_type": "execute_result"
    }
   ],
   "source": [
    "# напишите запрос\n",
    "query = '''\n",
    "WITH day AS\n",
    "(SELECT user_id,\n",
    "       COUNT(DISTINCT DATE_TRUNC('day',creation_date)) AS cnt_day\n",
    "FROM stackoverflow.posts\n",
    "WHERE DATE_TRUNC('day', creation_date) BETWEEN '2008-12-01' AND '2008-12-07'\n",
    "GROUP BY user_id)\n",
    "\n",
    "SELECT ROUND(AVG(cnt_day))::int AS result\n",
    "FROM day;\n",
    "'''\n",
    "\n",
    "# выполните запрос\n",
    "df = pd.read_sql_query(query, con=engine)\n",
    "df"
   ]
  },
  {
   "cell_type": "markdown",
   "metadata": {
    "id": "LfUuYz-1DWK8"
   },
   "source": [
    "В среднем пользователи взаимодействовали с платформой 2 дня в период с 1 по 7 декабря."
   ]
  },
  {
   "cell_type": "markdown",
   "metadata": {
    "id": "wfOmqmfLDWK8"
   },
   "source": [
    "# Задание 7"
   ]
  },
  {
   "cell_type": "markdown",
   "metadata": {
    "id": "X4ARQimADWK9"
   },
   "source": [
    "Выведите историю активности каждого пользователя в таком виде: идентификатор пользователя, дата публикации поста. Отсортируйте вывод по возрастанию идентификаторов пользователей, а для каждого пользователя — по возрастанию даты публикации.\n",
    "\n",
    "Добавьте в таблицу новое поле: для каждого поста в нём будет указано название месяца предпоследней публикации пользователя относительно текущей. Если такой публикации нет, укажите `NULL`.  Python автоматически поменяет `NULL` на `None`, но дополнительно преобразовывать значения `None` вам не нужно.\n",
    "\n",
    "Посмотрите внимательно на образец таблицы: для первых двух постов предпоследней публикации нет, но, начиная с третьего поста, в новое поле входит нужный месяц. Для следующего пользователя в первые две записи поля `second_last_month` тоже войдёт `NULL`."
   ]
  },
  {
   "cell_type": "code",
   "execution_count": 12,
   "metadata": {
    "id": "HzI1vhaMDWK-"
   },
   "outputs": [
    {
     "data": {
      "text/html": [
       "<div>\n",
       "<style scoped>\n",
       "    .dataframe tbody tr th:only-of-type {\n",
       "        vertical-align: middle;\n",
       "    }\n",
       "\n",
       "    .dataframe tbody tr th {\n",
       "        vertical-align: top;\n",
       "    }\n",
       "\n",
       "    .dataframe thead th {\n",
       "        text-align: right;\n",
       "    }\n",
       "</style>\n",
       "<table border=\"1\" class=\"dataframe\">\n",
       "  <thead>\n",
       "    <tr style=\"text-align: right;\">\n",
       "      <th></th>\n",
       "      <th>user_id</th>\n",
       "      <th>creation_date</th>\n",
       "      <th>second_last_month</th>\n",
       "    </tr>\n",
       "  </thead>\n",
       "  <tbody>\n",
       "    <tr>\n",
       "      <th>0</th>\n",
       "      <td>1</td>\n",
       "      <td>2008-07-31 23:41:00</td>\n",
       "      <td>None</td>\n",
       "    </tr>\n",
       "    <tr>\n",
       "      <th>1</th>\n",
       "      <td>1</td>\n",
       "      <td>2008-07-31 23:55:38</td>\n",
       "      <td>None</td>\n",
       "    </tr>\n",
       "    <tr>\n",
       "      <th>2</th>\n",
       "      <td>1</td>\n",
       "      <td>2008-07-31 23:56:41</td>\n",
       "      <td>July</td>\n",
       "    </tr>\n",
       "    <tr>\n",
       "      <th>3</th>\n",
       "      <td>1</td>\n",
       "      <td>2008-08-04 02:45:08</td>\n",
       "      <td>July</td>\n",
       "    </tr>\n",
       "    <tr>\n",
       "      <th>4</th>\n",
       "      <td>1</td>\n",
       "      <td>2008-08-04 04:31:03</td>\n",
       "      <td>July</td>\n",
       "    </tr>\n",
       "    <tr>\n",
       "      <th>...</th>\n",
       "      <td>...</td>\n",
       "      <td>...</td>\n",
       "      <td>...</td>\n",
       "    </tr>\n",
       "    <tr>\n",
       "      <th>243791</th>\n",
       "      <td>5696608</td>\n",
       "      <td>2008-12-23 16:00:37</td>\n",
       "      <td>December</td>\n",
       "    </tr>\n",
       "    <tr>\n",
       "      <th>243792</th>\n",
       "      <td>5696608</td>\n",
       "      <td>2008-12-23 17:35:09</td>\n",
       "      <td>December</td>\n",
       "    </tr>\n",
       "    <tr>\n",
       "      <th>243793</th>\n",
       "      <td>5696608</td>\n",
       "      <td>2008-12-24 01:02:48</td>\n",
       "      <td>December</td>\n",
       "    </tr>\n",
       "    <tr>\n",
       "      <th>243794</th>\n",
       "      <td>5696608</td>\n",
       "      <td>2008-12-30 14:34:45</td>\n",
       "      <td>December</td>\n",
       "    </tr>\n",
       "    <tr>\n",
       "      <th>243795</th>\n",
       "      <td>5696608</td>\n",
       "      <td>2008-12-30 16:32:12</td>\n",
       "      <td>December</td>\n",
       "    </tr>\n",
       "  </tbody>\n",
       "</table>\n",
       "<p>243796 rows × 3 columns</p>\n",
       "</div>"
      ],
      "text/plain": [
       "        user_id       creation_date second_last_month\n",
       "0             1 2008-07-31 23:41:00              None\n",
       "1             1 2008-07-31 23:55:38              None\n",
       "2             1 2008-07-31 23:56:41              July\n",
       "3             1 2008-08-04 02:45:08              July\n",
       "4             1 2008-08-04 04:31:03              July\n",
       "...         ...                 ...               ...\n",
       "243791  5696608 2008-12-23 16:00:37          December\n",
       "243792  5696608 2008-12-23 17:35:09          December\n",
       "243793  5696608 2008-12-24 01:02:48          December\n",
       "243794  5696608 2008-12-30 14:34:45          December\n",
       "243795  5696608 2008-12-30 16:32:12          December\n",
       "\n",
       "[243796 rows x 3 columns]"
      ]
     },
     "execution_count": 12,
     "metadata": {},
     "output_type": "execute_result"
    }
   ],
   "source": [
    "# напишите запрос\n",
    "query = '''\n",
    "SELECT user_id,\n",
    "       creation_date,\n",
    "       CASE EXTRACT('month' FROM \n",
    "       LAG(creation_date,2) OVER(PARTITION BY user_id ORDER BY creation_date))\n",
    "          WHEN 1 THEN 'January'\n",
    "          WHEN 2 THEN 'February'\n",
    "          WHEN 3 THEN 'March'\n",
    "          WHEN 4 THEN 'April'\n",
    "          WHEN 5 THEN 'May'\n",
    "          WHEN 6 THEN 'June'\n",
    "          WHEN 7 THEN 'July'\n",
    "          WHEN 8 THEN 'August'\n",
    "          WHEN 9 THEN 'September'\n",
    "          WHEN 10 THEN 'October'\n",
    "          WHEN 11 THEN 'November'\n",
    "          WHEN 12 THEN 'December'\n",
    "       END AS second_last_month\n",
    "FROM stackoverflow.posts;\n",
    "'''\n",
    "\n",
    "# выполните запрос\n",
    "df = pd.read_sql_query(query, con=engine)\n",
    "df"
   ]
  },
  {
   "cell_type": "markdown",
   "metadata": {
    "id": "tf9qq2yzDWK_"
   },
   "source": [
    "# Задание 8"
   ]
  },
  {
   "cell_type": "markdown",
   "metadata": {
    "id": "gfwLVXBYDWLA"
   },
   "source": [
    "Рассчитайте аналог Retention Rate по месяцам для пользователей StackOverflow. Объедините пользователей в когорты по месяцу их первого поста. Возвращение определяйте по наличию поста в текущем месяце. "
   ]
  },
  {
   "cell_type": "code",
   "execution_count": 13,
   "metadata": {
    "id": "LUgFmwmTDWLB"
   },
   "outputs": [
    {
     "data": {
      "text/html": [
       "<div>\n",
       "<style scoped>\n",
       "    .dataframe tbody tr th:only-of-type {\n",
       "        vertical-align: middle;\n",
       "    }\n",
       "\n",
       "    .dataframe tbody tr th {\n",
       "        vertical-align: top;\n",
       "    }\n",
       "\n",
       "    .dataframe thead th {\n",
       "        text-align: right;\n",
       "    }\n",
       "</style>\n",
       "<table border=\"1\" class=\"dataframe\">\n",
       "  <thead>\n",
       "    <tr style=\"text-align: right;\">\n",
       "      <th></th>\n",
       "      <th>cohort_dt</th>\n",
       "      <th>session_date</th>\n",
       "      <th>users_cnt</th>\n",
       "      <th>cohort_users_cnt</th>\n",
       "      <th>retention_rate</th>\n",
       "    </tr>\n",
       "  </thead>\n",
       "  <tbody>\n",
       "    <tr>\n",
       "      <th>0</th>\n",
       "      <td>2008-07-01</td>\n",
       "      <td>2008-07-01</td>\n",
       "      <td>3</td>\n",
       "      <td>3</td>\n",
       "      <td>100.0</td>\n",
       "    </tr>\n",
       "    <tr>\n",
       "      <th>1</th>\n",
       "      <td>2008-07-01</td>\n",
       "      <td>2008-08-01</td>\n",
       "      <td>2</td>\n",
       "      <td>3</td>\n",
       "      <td>66.0</td>\n",
       "    </tr>\n",
       "    <tr>\n",
       "      <th>2</th>\n",
       "      <td>2008-07-01</td>\n",
       "      <td>2008-09-01</td>\n",
       "      <td>1</td>\n",
       "      <td>3</td>\n",
       "      <td>33.0</td>\n",
       "    </tr>\n",
       "    <tr>\n",
       "      <th>3</th>\n",
       "      <td>2008-07-01</td>\n",
       "      <td>2008-10-01</td>\n",
       "      <td>2</td>\n",
       "      <td>3</td>\n",
       "      <td>66.0</td>\n",
       "    </tr>\n",
       "    <tr>\n",
       "      <th>4</th>\n",
       "      <td>2008-07-01</td>\n",
       "      <td>2008-11-01</td>\n",
       "      <td>1</td>\n",
       "      <td>3</td>\n",
       "      <td>33.0</td>\n",
       "    </tr>\n",
       "    <tr>\n",
       "      <th>5</th>\n",
       "      <td>2008-07-01</td>\n",
       "      <td>2008-12-01</td>\n",
       "      <td>2</td>\n",
       "      <td>3</td>\n",
       "      <td>66.0</td>\n",
       "    </tr>\n",
       "    <tr>\n",
       "      <th>6</th>\n",
       "      <td>2008-08-01</td>\n",
       "      <td>2008-08-01</td>\n",
       "      <td>2151</td>\n",
       "      <td>2151</td>\n",
       "      <td>100.0</td>\n",
       "    </tr>\n",
       "    <tr>\n",
       "      <th>7</th>\n",
       "      <td>2008-08-01</td>\n",
       "      <td>2008-09-01</td>\n",
       "      <td>1571</td>\n",
       "      <td>2151</td>\n",
       "      <td>73.0</td>\n",
       "    </tr>\n",
       "    <tr>\n",
       "      <th>8</th>\n",
       "      <td>2008-08-01</td>\n",
       "      <td>2008-10-01</td>\n",
       "      <td>1275</td>\n",
       "      <td>2151</td>\n",
       "      <td>59.0</td>\n",
       "    </tr>\n",
       "    <tr>\n",
       "      <th>9</th>\n",
       "      <td>2008-08-01</td>\n",
       "      <td>2008-11-01</td>\n",
       "      <td>1050</td>\n",
       "      <td>2151</td>\n",
       "      <td>48.0</td>\n",
       "    </tr>\n",
       "    <tr>\n",
       "      <th>10</th>\n",
       "      <td>2008-08-01</td>\n",
       "      <td>2008-12-01</td>\n",
       "      <td>894</td>\n",
       "      <td>2151</td>\n",
       "      <td>41.0</td>\n",
       "    </tr>\n",
       "    <tr>\n",
       "      <th>11</th>\n",
       "      <td>2008-09-01</td>\n",
       "      <td>2008-09-01</td>\n",
       "      <td>7678</td>\n",
       "      <td>7678</td>\n",
       "      <td>100.0</td>\n",
       "    </tr>\n",
       "    <tr>\n",
       "      <th>12</th>\n",
       "      <td>2008-09-01</td>\n",
       "      <td>2008-10-01</td>\n",
       "      <td>4132</td>\n",
       "      <td>7678</td>\n",
       "      <td>53.0</td>\n",
       "    </tr>\n",
       "    <tr>\n",
       "      <th>13</th>\n",
       "      <td>2008-09-01</td>\n",
       "      <td>2008-11-01</td>\n",
       "      <td>2966</td>\n",
       "      <td>7678</td>\n",
       "      <td>38.0</td>\n",
       "    </tr>\n",
       "    <tr>\n",
       "      <th>14</th>\n",
       "      <td>2008-09-01</td>\n",
       "      <td>2008-12-01</td>\n",
       "      <td>2500</td>\n",
       "      <td>7678</td>\n",
       "      <td>32.0</td>\n",
       "    </tr>\n",
       "    <tr>\n",
       "      <th>15</th>\n",
       "      <td>2008-10-01</td>\n",
       "      <td>2008-10-01</td>\n",
       "      <td>3629</td>\n",
       "      <td>3629</td>\n",
       "      <td>100.0</td>\n",
       "    </tr>\n",
       "    <tr>\n",
       "      <th>16</th>\n",
       "      <td>2008-10-01</td>\n",
       "      <td>2008-11-01</td>\n",
       "      <td>1640</td>\n",
       "      <td>3629</td>\n",
       "      <td>45.0</td>\n",
       "    </tr>\n",
       "    <tr>\n",
       "      <th>17</th>\n",
       "      <td>2008-10-01</td>\n",
       "      <td>2008-12-01</td>\n",
       "      <td>1221</td>\n",
       "      <td>3629</td>\n",
       "      <td>33.0</td>\n",
       "    </tr>\n",
       "    <tr>\n",
       "      <th>18</th>\n",
       "      <td>2008-11-01</td>\n",
       "      <td>2008-11-01</td>\n",
       "      <td>2852</td>\n",
       "      <td>2852</td>\n",
       "      <td>100.0</td>\n",
       "    </tr>\n",
       "    <tr>\n",
       "      <th>19</th>\n",
       "      <td>2008-11-01</td>\n",
       "      <td>2008-12-01</td>\n",
       "      <td>1151</td>\n",
       "      <td>2852</td>\n",
       "      <td>40.0</td>\n",
       "    </tr>\n",
       "    <tr>\n",
       "      <th>20</th>\n",
       "      <td>2008-12-01</td>\n",
       "      <td>2008-12-01</td>\n",
       "      <td>2536</td>\n",
       "      <td>2536</td>\n",
       "      <td>100.0</td>\n",
       "    </tr>\n",
       "  </tbody>\n",
       "</table>\n",
       "</div>"
      ],
      "text/plain": [
       "    cohort_dt session_date  users_cnt  cohort_users_cnt  retention_rate\n",
       "0  2008-07-01   2008-07-01          3                 3           100.0\n",
       "1  2008-07-01   2008-08-01          2                 3            66.0\n",
       "2  2008-07-01   2008-09-01          1                 3            33.0\n",
       "3  2008-07-01   2008-10-01          2                 3            66.0\n",
       "4  2008-07-01   2008-11-01          1                 3            33.0\n",
       "5  2008-07-01   2008-12-01          2                 3            66.0\n",
       "6  2008-08-01   2008-08-01       2151              2151           100.0\n",
       "7  2008-08-01   2008-09-01       1571              2151            73.0\n",
       "8  2008-08-01   2008-10-01       1275              2151            59.0\n",
       "9  2008-08-01   2008-11-01       1050              2151            48.0\n",
       "10 2008-08-01   2008-12-01        894              2151            41.0\n",
       "11 2008-09-01   2008-09-01       7678              7678           100.0\n",
       "12 2008-09-01   2008-10-01       4132              7678            53.0\n",
       "13 2008-09-01   2008-11-01       2966              7678            38.0\n",
       "14 2008-09-01   2008-12-01       2500              7678            32.0\n",
       "15 2008-10-01   2008-10-01       3629              3629           100.0\n",
       "16 2008-10-01   2008-11-01       1640              3629            45.0\n",
       "17 2008-10-01   2008-12-01       1221              3629            33.0\n",
       "18 2008-11-01   2008-11-01       2852              2852           100.0\n",
       "19 2008-11-01   2008-12-01       1151              2852            40.0\n",
       "20 2008-12-01   2008-12-01       2536              2536           100.0"
      ]
     },
     "execution_count": 13,
     "metadata": {},
     "output_type": "execute_result"
    }
   ],
   "source": [
    "# напишите запрос\n",
    "query = '''\n",
    "WITH first_post AS\n",
    "(SELECT DISTINCT user_id,\n",
    "        FIRST_VALUE(DATE_TRUNC('month', creation_date)) OVER(PARTITION BY user_id ORDER BY creation_date) AS cohort_dt\n",
    "FROM stackoverflow.posts),\n",
    "\n",
    "profile AS\n",
    "(SELECT *,\n",
    "        COUNT(*) OVER(PARTITION BY cohort_dt) AS cohort_users_cnt\n",
    "FROM first_post),\n",
    "\n",
    "session AS\n",
    "(SELECT DISTINCT user_id,\n",
    "       DATE_TRUNC('month', creation_date) AS session_date\n",
    "FROM stackoverflow.posts)\n",
    "\n",
    "SELECT p.cohort_dt,\n",
    "       s.session_date,\n",
    "       COUNT(p.user_id) AS users_cnt,\n",
    "       cohort_users_cnt,\n",
    "       ROUND(COUNT(p.user_id) *100 / cohort_users_cnt, 2) AS retention_rate\n",
    "FROM profile p\n",
    "JOIN session s ON p.user_id = s.user_id\n",
    "GROUP BY 1,2,4\n",
    "ORDER BY 1,2;\n",
    "'''\n",
    "\n",
    "# выполните запрос WITN profile AS\n",
    "df = pd.read_sql_query(query, con=engine)\n",
    "df"
   ]
  },
  {
   "cell_type": "markdown",
   "metadata": {
    "id": "_msBtnb2DWLC"
   },
   "source": [
    "Постройте тепловую карту Retention Rate. Какие аномалии или другие необычные явления удалось выявить? Сформулируйте гипотезы о возможных причинах."
   ]
  },
  {
   "cell_type": "code",
   "execution_count": 14,
   "metadata": {
    "id": "qAEJc8H1DWLC"
   },
   "outputs": [
    {
     "data": {
      "image/png": "[encoded data removed]",
      "text/plain": [
       "<Figure size 1296x576 with 2 Axes>"
      ]
     },
     "metadata": {
      "needs_background": "light"
     },
     "output_type": "display_data"
    }
   ],
   "source": [
    "# постройте тепловую карту Retention Rate\n",
    "retention = df.pivot('cohort_dt', 'session_date', 'retention_rate')\n",
    "retention.index = [str(x)[0:10] for x in retention.index]\n",
    "retention.columns = [str(x)[0:10] for x in retention.columns]\n",
    "\n",
    "# строим хитмэп\n",
    "plt.figure(figsize=(18, 8)) # задаём размер графика\n",
    "sns.heatmap(retention, # датафрейм с данными\n",
    "            annot=True, # добавляем подписи\n",
    "            fmt='') # задаём исходный формат\n",
    "plt.title('Тепловая карта') # название графика\n",
    "plt.show() "
   ]
  },
  {
   "cell_type": "markdown",
   "metadata": {
    "id": "EgOfIsI4DWLC"
   },
   "source": [
    "Коэффециент удержания в норме постепенно должен снижаться.  \n",
    "У когорты от июля месяца показатели скачут. Количество пользователей в данной когорте крайне мало - 3 чел.  \n",
    "\n",
    "Так же можно отметить снижение коэффециента удержания от когорте к когорте."
   ]
  },
  {
   "cell_type": "markdown",
   "metadata": {
    "id": "1k7oPWt5DWLK"
   },
   "source": [
    "# Задание 9\n"
   ]
  },
  {
   "cell_type": "markdown",
   "metadata": {
    "id": "ALsYVSyRDWLM"
   },
   "source": [
    "На сколько процентов менялось количество постов ежемесячно с 1 сентября по 31 декабря 2008 года? Отобразите таблицу со следующими полями:\n",
    "\n",
    "- номер месяца;\n",
    "- количество постов за месяц;\n",
    "- процент, который показывает, насколько изменилось количество постов в текущем месяце по сравнению с предыдущим.\n",
    "\n",
    "Если постов стало меньше, значение процента должно быть отрицательным, если больше — положительным. Округлите значение процента до двух знаков после запятой.\n",
    "\n",
    "Напомним, что при делении одного целого числа на другое в PostgreSQL в результате получится целое число, округлённое до ближайшего целого вниз. Чтобы этого избежать, переведите делимое в тип `numeric`."
   ]
  },
  {
   "cell_type": "code",
   "execution_count": 18,
   "metadata": {
    "id": "Mb5pShStDWLN"
   },
   "outputs": [
    {
     "data": {
      "text/html": [
       "<div>\n",
       "<style scoped>\n",
       "    .dataframe tbody tr th:only-of-type {\n",
       "        vertical-align: middle;\n",
       "    }\n",
       "\n",
       "    .dataframe tbody tr th {\n",
       "        vertical-align: top;\n",
       "    }\n",
       "\n",
       "    .dataframe thead th {\n",
       "        text-align: right;\n",
       "    }\n",
       "</style>\n",
       "<table border=\"1\" class=\"dataframe\">\n",
       "  <thead>\n",
       "    <tr style=\"text-align: right;\">\n",
       "      <th></th>\n",
       "      <th>creation_month</th>\n",
       "      <th>posts_count</th>\n",
       "      <th>percentage</th>\n",
       "    </tr>\n",
       "  </thead>\n",
       "  <tbody>\n",
       "    <tr>\n",
       "      <th>0</th>\n",
       "      <td>9</td>\n",
       "      <td>70371</td>\n",
       "      <td>NaN</td>\n",
       "    </tr>\n",
       "    <tr>\n",
       "      <th>1</th>\n",
       "      <td>10</td>\n",
       "      <td>63102</td>\n",
       "      <td>-10.33</td>\n",
       "    </tr>\n",
       "    <tr>\n",
       "      <th>2</th>\n",
       "      <td>11</td>\n",
       "      <td>46975</td>\n",
       "      <td>-25.56</td>\n",
       "    </tr>\n",
       "    <tr>\n",
       "      <th>3</th>\n",
       "      <td>12</td>\n",
       "      <td>44592</td>\n",
       "      <td>-5.07</td>\n",
       "    </tr>\n",
       "  </tbody>\n",
       "</table>\n",
       "</div>"
      ],
      "text/plain": [
       "   creation_month  posts_count  percentage\n",
       "0               9        70371         NaN\n",
       "1              10        63102      -10.33\n",
       "2              11        46975      -25.56\n",
       "3              12        44592       -5.07"
      ]
     },
     "execution_count": 18,
     "metadata": {},
     "output_type": "execute_result"
    }
   ],
   "source": [
    "# напишите запрос\n",
    "query = '''\n",
    "SELECT EXTRACT(MONTH FROM creation_date)::INT AS creation_month,\n",
    "       COUNT(id) AS posts_count,\n",
    "       ROUND((COUNT(id)::numeric / LAG(COUNT(id)) OVER(ORDER BY EXTRACT(MONTH FROM creation_date)::INT) -1)* 100, 2) AS percentage\n",
    "FROM stackoverflow.posts\n",
    "WHERE DATE_TRUNC('DAY', creation_date) BETWEEN '2008-09-01' AND '2008-12-31'\n",
    "GROUP BY creation_month;\n",
    "'''\n",
    "\n",
    "# выполните запрос\n",
    "df = pd.read_sql_query(query, con=engine)\n",
    "df"
   ]
  },
  {
   "cell_type": "markdown",
   "metadata": {
    "id": "9NQE2y_MDWLP"
   },
   "source": [
    "Постройте круговую диаграмму с количеством постов по месяцам."
   ]
  },
  {
   "cell_type": "code",
   "execution_count": 16,
   "metadata": {
    "id": "377ABjiVDWLP"
   },
   "outputs": [
    {
     "data": {
      "image/png": "[encoded data removed]",
      "text/plain": [
       "<Figure size 432x648 with 1 Axes>"
      ]
     },
     "metadata": {},
     "output_type": "display_data"
    }
   ],
   "source": [
    "values=df['posts_count']\n",
    "ax = df.plot(kind='pie', y='posts_count',\n",
    "             figsize=(6,9),\n",
    "             labels=df['creation_month'],\n",
    "             autopct= lambda x: '{:.0f}'.format(x*values.sum()/100),\n",
    "             textprops = {\"fontsize\":13},\n",
    "             startangle=190,counterclock=False)\n",
    "\n",
    "plt.title('Количество постов по месяцам',fontsize=15)\n",
    "ax.set_ylabel('')\n",
    "plt.legend(title = \"Месяц\")\n",
    "plt.show()"
   ]
  },
  {
   "cell_type": "markdown",
   "metadata": {
    "id": "uw7qMtafDWLP"
   },
   "source": [
    "# Задание 10"
   ]
  },
  {
   "cell_type": "markdown",
   "metadata": {
    "id": "oRBpWKx3DWLQ"
   },
   "source": [
    "Выгрузите данные активности пользователя, который опубликовал больше всего постов за всё время. Выведите данные за октябрь 2008 года в таком виде:\n",
    "\n",
    "- номер недели;\n",
    "- дата и время последнего поста, опубликованного на этой неделе."
   ]
  },
  {
   "cell_type": "code",
   "execution_count": 17,
   "metadata": {
    "id": "r5F5fSkwDWLQ"
   },
   "outputs": [
    {
     "data": {
      "text/html": [
       "<div>\n",
       "<style scoped>\n",
       "    .dataframe tbody tr th:only-of-type {\n",
       "        vertical-align: middle;\n",
       "    }\n",
       "\n",
       "    .dataframe tbody tr th {\n",
       "        vertical-align: top;\n",
       "    }\n",
       "\n",
       "    .dataframe thead th {\n",
       "        text-align: right;\n",
       "    }\n",
       "</style>\n",
       "<table border=\"1\" class=\"dataframe\">\n",
       "  <thead>\n",
       "    <tr style=\"text-align: right;\">\n",
       "      <th></th>\n",
       "      <th>week_creation</th>\n",
       "      <th>creation_date</th>\n",
       "    </tr>\n",
       "  </thead>\n",
       "  <tbody>\n",
       "    <tr>\n",
       "      <th>0</th>\n",
       "      <td>40.0</td>\n",
       "      <td>2008-10-05 09:00:58</td>\n",
       "    </tr>\n",
       "    <tr>\n",
       "      <th>1</th>\n",
       "      <td>41.0</td>\n",
       "      <td>2008-10-12 21:22:23</td>\n",
       "    </tr>\n",
       "    <tr>\n",
       "      <th>2</th>\n",
       "      <td>42.0</td>\n",
       "      <td>2008-10-19 06:49:30</td>\n",
       "    </tr>\n",
       "    <tr>\n",
       "      <th>3</th>\n",
       "      <td>43.0</td>\n",
       "      <td>2008-10-26 21:44:36</td>\n",
       "    </tr>\n",
       "    <tr>\n",
       "      <th>4</th>\n",
       "      <td>44.0</td>\n",
       "      <td>2008-10-31 22:16:01</td>\n",
       "    </tr>\n",
       "  </tbody>\n",
       "</table>\n",
       "</div>"
      ],
      "text/plain": [
       "   week_creation       creation_date\n",
       "0           40.0 2008-10-05 09:00:58\n",
       "1           41.0 2008-10-12 21:22:23\n",
       "2           42.0 2008-10-19 06:49:30\n",
       "3           43.0 2008-10-26 21:44:36\n",
       "4           44.0 2008-10-31 22:16:01"
      ]
     },
     "execution_count": 17,
     "metadata": {},
     "output_type": "execute_result"
    }
   ],
   "source": [
    "# напишите запрос\n",
    "query = '''\n",
    "WITH user_top AS \n",
    "(SELECT user_id,\n",
    "       COUNT(id)\n",
    "FROM stackoverflow.posts\n",
    "GROUP BY 1\n",
    "ORDER BY 2 DESC\n",
    "LIMIT 1),\n",
    "\n",
    "user_post AS\n",
    "(SELECT p.user_id,\n",
    "       EXTRACT(WEEK FROM p.creation_date) AS week_creation,\n",
    "       p.creation_date\n",
    "FROM stackoverflow.posts p\n",
    "JOIN user_top u ON u.user_id = p.user_id\n",
    "WHERE DATE_TRUNC('month', p.creation_date) = '2008-10-01')\n",
    "\n",
    "SELECT DISTINCT week_creation,\n",
    "       MAX(creation_date) OVER(PARTITION BY week_creation) AS creation_date\n",
    "FROM user_post\n",
    "ORDER BY 1;\n",
    "'''\n",
    "\n",
    "# выполните запрос\n",
    "df = pd.read_sql_query(query, con=engine)\n",
    "df"
   ]
  }
 ],
 "metadata": {
  "ExecuteTimeLog": [
   {
    "duration": 48,
    "start_time": "2023-03-24T17:19:48.527Z"
   },
   {
    "duration": 922,
    "start_time": "2023-03-24T17:19:53.497Z"
   },
   {
    "duration": 4,
    "start_time": "2023-03-24T17:19:54.421Z"
   },
   {
    "duration": 12289,
    "start_time": "2023-03-24T17:19:54.427Z"
   },
   {
    "duration": 213,
    "start_time": "2023-03-24T17:20:06.718Z"
   },
   {
    "duration": 20,
    "start_time": "2023-03-24T17:20:06.933Z"
   },
   {
    "duration": 136,
    "start_time": "2023-03-24T17:20:07.101Z"
   },
   {
    "duration": 144,
    "start_time": "2023-03-24T17:20:16.305Z"
   },
   {
    "duration": 103,
    "start_time": "2023-03-24T17:22:33.980Z"
   },
   {
    "duration": 152,
    "start_time": "2023-03-24T18:26:50.006Z"
   },
   {
    "duration": 123,
    "start_time": "2023-03-24T18:27:16.290Z"
   },
   {
    "duration": 279,
    "start_time": "2023-03-24T18:28:22.690Z"
   },
   {
    "duration": 138,
    "start_time": "2023-03-24T18:38:15.942Z"
   },
   {
    "duration": 123,
    "start_time": "2023-03-24T18:39:55.445Z"
   },
   {
    "duration": 642,
    "start_time": "2023-03-24T18:40:15.422Z"
   },
   {
    "duration": 148,
    "start_time": "2023-03-24T18:41:16.864Z"
   },
   {
    "duration": 143,
    "start_time": "2023-03-24T18:41:36.506Z"
   },
   {
    "duration": 164,
    "start_time": "2023-03-24T18:47:55.275Z"
   },
   {
    "duration": 81,
    "start_time": "2023-03-24T20:21:57.283Z"
   },
   {
    "duration": 122,
    "start_time": "2023-03-24T20:29:58.081Z"
   },
   {
    "duration": 135,
    "start_time": "2023-03-24T20:30:32.638Z"
   },
   {
    "duration": 126,
    "start_time": "2023-03-24T20:30:50.293Z"
   },
   {
    "duration": 125,
    "start_time": "2023-03-24T20:31:12.166Z"
   },
   {
    "duration": 15007,
    "start_time": "2023-03-24T20:33:16.152Z"
   },
   {
    "duration": 128,
    "start_time": "2023-03-24T20:37:03.504Z"
   },
   {
    "duration": 121,
    "start_time": "2023-03-24T20:37:34.190Z"
   },
   {
    "duration": 129,
    "start_time": "2023-03-24T20:37:59.713Z"
   },
   {
    "duration": 122,
    "start_time": "2023-03-24T20:41:14.820Z"
   },
   {
    "duration": 140,
    "start_time": "2023-03-24T20:48:51.393Z"
   },
   {
    "duration": 58,
    "start_time": "2023-03-25T11:14:19.709Z"
   },
   {
    "duration": 908,
    "start_time": "2023-03-25T11:14:27.722Z"
   },
   {
    "duration": 5,
    "start_time": "2023-03-25T11:14:28.633Z"
   },
   {
    "duration": 4735,
    "start_time": "2023-03-25T11:14:28.640Z"
   },
   {
    "duration": 48,
    "start_time": "2023-03-25T11:14:33.377Z"
   },
   {
    "duration": 15,
    "start_time": "2023-03-25T11:14:33.427Z"
   },
   {
    "duration": 69,
    "start_time": "2023-03-25T11:14:33.444Z"
   },
   {
    "duration": 140,
    "start_time": "2023-03-25T11:14:33.515Z"
   },
   {
    "duration": 4,
    "start_time": "2023-03-25T11:14:33.656Z"
   },
   {
    "duration": 116,
    "start_time": "2023-03-25T11:14:33.663Z"
   },
   {
    "duration": 3,
    "start_time": "2023-03-25T11:14:33.783Z"
   },
   {
    "duration": 1141,
    "start_time": "2023-03-25T11:14:34.959Z"
   },
   {
    "duration": 1096,
    "start_time": "2023-03-25T11:15:47.658Z"
   },
   {
    "duration": 1015,
    "start_time": "2023-03-25T11:16:11.662Z"
   },
   {
    "duration": 1136,
    "start_time": "2023-03-25T11:16:30.314Z"
   },
   {
    "duration": 1107,
    "start_time": "2023-03-25T11:16:56.188Z"
   },
   {
    "duration": 1170,
    "start_time": "2023-03-25T11:17:09.363Z"
   },
   {
    "duration": 1110,
    "start_time": "2023-03-25T11:17:22.555Z"
   },
   {
    "duration": 1137,
    "start_time": "2023-03-25T11:17:38.023Z"
   },
   {
    "duration": 1041,
    "start_time": "2023-03-25T11:19:18.721Z"
   },
   {
    "duration": 143,
    "start_time": "2023-03-25T11:26:17.216Z"
   },
   {
    "duration": 72,
    "start_time": "2023-03-25T11:27:16.490Z"
   },
   {
    "duration": 74,
    "start_time": "2023-03-25T11:29:43.366Z"
   },
   {
    "duration": 104,
    "start_time": "2023-03-25T11:34:42.359Z"
   },
   {
    "duration": 69,
    "start_time": "2023-03-25T11:37:42.980Z"
   },
   {
    "duration": 84,
    "start_time": "2023-03-25T11:38:17.336Z"
   },
   {
    "duration": 67,
    "start_time": "2023-03-25T11:38:36.790Z"
   },
   {
    "duration": 660,
    "start_time": "2023-03-25T11:39:00.696Z"
   },
   {
    "duration": 70,
    "start_time": "2023-03-25T11:41:01.227Z"
   },
   {
    "duration": 74,
    "start_time": "2023-03-25T11:42:49.773Z"
   },
   {
    "duration": 40,
    "start_time": "2023-03-25T12:51:26.908Z"
   },
   {
    "duration": 80,
    "start_time": "2023-03-25T12:52:00.384Z"
   },
   {
    "duration": 43,
    "start_time": "2023-03-25T12:53:13.137Z"
   },
   {
    "duration": 50,
    "start_time": "2023-03-25T12:54:02.309Z"
   },
   {
    "duration": 67,
    "start_time": "2023-03-25T12:54:32.585Z"
   },
   {
    "duration": 67,
    "start_time": "2023-03-25T12:54:53.625Z"
   },
   {
    "duration": 41,
    "start_time": "2023-03-25T12:55:21.824Z"
   },
   {
    "duration": 35,
    "start_time": "2023-03-25T12:55:59.008Z"
   },
   {
    "duration": 114,
    "start_time": "2023-03-25T13:01:03.862Z"
   },
   {
    "duration": 74,
    "start_time": "2023-03-25T13:01:21.995Z"
   },
   {
    "duration": 76,
    "start_time": "2023-03-25T13:02:42.986Z"
   },
   {
    "duration": 67,
    "start_time": "2023-03-25T13:03:55.040Z"
   },
   {
    "duration": 71,
    "start_time": "2023-03-25T13:04:16.778Z"
   },
   {
    "duration": 69,
    "start_time": "2023-03-25T13:05:34.408Z"
   },
   {
    "duration": 66,
    "start_time": "2023-03-25T13:06:08.336Z"
   },
   {
    "duration": 60,
    "start_time": "2023-03-25T13:06:21.902Z"
   },
   {
    "duration": 78,
    "start_time": "2023-03-25T13:07:04.382Z"
   },
   {
    "duration": 64,
    "start_time": "2023-03-25T13:07:12.133Z"
   },
   {
    "duration": 59,
    "start_time": "2023-03-25T13:11:14.274Z"
   },
   {
    "duration": 84,
    "start_time": "2023-03-25T13:18:54.143Z"
   },
   {
    "duration": 105,
    "start_time": "2023-03-25T13:20:39.989Z"
   },
   {
    "duration": 88,
    "start_time": "2023-03-25T13:21:01.061Z"
   },
   {
    "duration": 116,
    "start_time": "2023-03-25T13:21:25.938Z"
   },
   {
    "duration": 51,
    "start_time": "2023-03-25T13:22:58.665Z"
   },
   {
    "duration": 38,
    "start_time": "2023-03-25T13:25:24.588Z"
   },
   {
    "duration": 36,
    "start_time": "2023-03-25T13:26:21.251Z"
   },
   {
    "duration": 45,
    "start_time": "2023-03-25T13:27:31.948Z"
   },
   {
    "duration": 35,
    "start_time": "2023-03-25T13:29:04.651Z"
   },
   {
    "duration": 37,
    "start_time": "2023-03-25T13:29:17.144Z"
   },
   {
    "duration": 46,
    "start_time": "2023-03-25T13:29:44.716Z"
   },
   {
    "duration": 36,
    "start_time": "2023-03-25T13:29:57.783Z"
   },
   {
    "duration": 36,
    "start_time": "2023-03-25T13:30:07.218Z"
   },
   {
    "duration": 1597,
    "start_time": "2023-03-25T13:40:07.985Z"
   },
   {
    "duration": 1451,
    "start_time": "2023-03-25T13:40:59.777Z"
   },
   {
    "duration": 1211,
    "start_time": "2023-03-25T13:54:35.820Z"
   },
   {
    "duration": 93,
    "start_time": "2023-03-25T14:31:57.318Z"
   },
   {
    "duration": 97,
    "start_time": "2023-03-25T14:33:23.202Z"
   },
   {
    "duration": 101,
    "start_time": "2023-03-25T14:38:30.983Z"
   },
   {
    "duration": 61,
    "start_time": "2023-03-25T14:38:37.648Z"
   },
   {
    "duration": 97,
    "start_time": "2023-03-25T14:40:28.905Z"
   },
   {
    "duration": 94,
    "start_time": "2023-03-25T14:40:59.121Z"
   },
   {
    "duration": 1300,
    "start_time": "2023-03-25T14:42:38.159Z"
   },
   {
    "duration": 359,
    "start_time": "2023-03-25T14:43:43.583Z"
   },
   {
    "duration": 505,
    "start_time": "2023-03-25T14:57:21.084Z"
   },
   {
    "duration": 16,
    "start_time": "2023-03-25T15:03:21.172Z"
   },
   {
    "duration": 624,
    "start_time": "2023-03-25T15:04:10.377Z"
   },
   {
    "duration": 558,
    "start_time": "2023-03-25T15:04:50.479Z"
   },
   {
    "duration": 398,
    "start_time": "2023-03-25T15:05:45.648Z"
   },
   {
    "duration": 400,
    "start_time": "2023-03-25T15:05:57.548Z"
   },
   {
    "duration": 396,
    "start_time": "2023-03-25T15:06:07.653Z"
   },
   {
    "duration": 2801,
    "start_time": "2023-03-25T15:20:11.049Z"
   },
   {
    "duration": 3452,
    "start_time": "2023-03-25T15:22:09.706Z"
   },
   {
    "duration": 67,
    "start_time": "2023-03-25T15:22:53.167Z"
   },
   {
    "duration": 801,
    "start_time": "2023-03-25T15:27:01.689Z"
   },
   {
    "duration": 753,
    "start_time": "2023-03-25T15:28:04.793Z"
   },
   {
    "duration": 51,
    "start_time": "2023-03-25T15:29:19.329Z"
   },
   {
    "duration": 1254,
    "start_time": "2023-03-25T15:29:27.965Z"
   },
   {
    "duration": 3,
    "start_time": "2023-03-25T15:29:29.221Z"
   },
   {
    "duration": 5404,
    "start_time": "2023-03-25T15:29:29.226Z"
   },
   {
    "duration": 63,
    "start_time": "2023-03-25T15:29:34.633Z"
   },
   {
    "duration": 15,
    "start_time": "2023-03-25T15:29:34.698Z"
   },
   {
    "duration": 467,
    "start_time": "2023-03-25T15:29:34.714Z"
   },
   {
    "duration": 592,
    "start_time": "2023-03-25T15:29:35.183Z"
   },
   {
    "duration": 3,
    "start_time": "2023-03-25T15:29:35.777Z"
   },
   {
    "duration": 1006,
    "start_time": "2023-03-25T15:29:35.781Z"
   },
   {
    "duration": 3,
    "start_time": "2023-03-25T15:29:36.789Z"
   },
   {
    "duration": 1391,
    "start_time": "2023-03-25T15:29:36.794Z"
   },
   {
    "duration": 120,
    "start_time": "2023-03-25T15:29:38.187Z"
   },
   {
    "duration": 38,
    "start_time": "2023-03-25T15:29:38.309Z"
   },
   {
    "duration": 2,
    "start_time": "2023-03-25T15:29:38.349Z"
   },
   {
    "duration": 1120,
    "start_time": "2023-03-25T15:29:38.354Z"
   },
   {
    "duration": 556,
    "start_time": "2023-03-25T15:29:39.476Z"
   },
   {
    "duration": 459,
    "start_time": "2023-03-25T15:29:40.034Z"
   },
   {
    "duration": 65,
    "start_time": "2023-03-25T15:36:18.925Z"
   },
   {
    "duration": 66,
    "start_time": "2023-03-25T15:37:26.607Z"
   },
   {
    "duration": 64,
    "start_time": "2023-03-25T15:38:01.644Z"
   },
   {
    "duration": 4,
    "start_time": "2023-03-25T15:46:31.554Z"
   },
   {
    "duration": 4,
    "start_time": "2023-03-25T15:46:47.053Z"
   },
   {
    "duration": 755,
    "start_time": "2023-03-25T15:46:52.049Z"
   },
   {
    "duration": 115,
    "start_time": "2023-03-25T15:47:27.839Z"
   },
   {
    "duration": 96,
    "start_time": "2023-03-25T15:47:36.265Z"
   },
   {
    "duration": 90,
    "start_time": "2023-03-25T15:48:37.909Z"
   },
   {
    "duration": 90,
    "start_time": "2023-03-25T15:49:45.400Z"
   },
   {
    "duration": 45,
    "start_time": "2023-03-25T15:51:57.368Z"
   },
   {
    "duration": 10,
    "start_time": "2023-03-25T15:52:06.965Z"
   },
   {
    "duration": 95,
    "start_time": "2023-03-25T15:54:36.575Z"
   },
   {
    "duration": 161,
    "start_time": "2023-03-25T15:55:12.909Z"
   },
   {
    "duration": 166,
    "start_time": "2023-03-25T15:56:45.614Z"
   },
   {
    "duration": 153,
    "start_time": "2023-03-25T15:57:15.759Z"
   },
   {
    "duration": 157,
    "start_time": "2023-03-25T15:57:28.900Z"
   },
   {
    "duration": 245,
    "start_time": "2023-03-25T16:02:11.228Z"
   },
   {
    "duration": 155,
    "start_time": "2023-03-25T16:15:47.668Z"
   },
   {
    "duration": 171,
    "start_time": "2023-03-25T16:16:04.013Z"
   },
   {
    "duration": 185,
    "start_time": "2023-03-25T16:16:24.621Z"
   },
   {
    "duration": 164,
    "start_time": "2023-03-25T16:16:39.287Z"
   },
   {
    "duration": 164,
    "start_time": "2023-03-25T16:16:58.955Z"
   },
   {
    "duration": 155,
    "start_time": "2023-03-25T16:17:06.557Z"
   },
   {
    "duration": 195,
    "start_time": "2023-03-25T16:17:10.660Z"
   },
   {
    "duration": 195,
    "start_time": "2023-03-25T16:17:19.365Z"
   },
   {
    "duration": 159,
    "start_time": "2023-03-25T16:17:23.803Z"
   },
   {
    "duration": 167,
    "start_time": "2023-03-25T16:17:38.575Z"
   },
   {
    "duration": 155,
    "start_time": "2023-03-25T16:57:33.229Z"
   },
   {
    "duration": 158,
    "start_time": "2023-03-25T17:02:06.502Z"
   },
   {
    "duration": 208,
    "start_time": "2023-03-25T17:02:20.308Z"
   },
   {
    "duration": 254,
    "start_time": "2023-03-25T17:03:03.319Z"
   },
   {
    "duration": 47,
    "start_time": "2023-03-25T17:03:20.075Z"
   },
   {
    "duration": 181,
    "start_time": "2023-03-25T17:03:33.951Z"
   },
   {
    "duration": 47,
    "start_time": "2023-03-25T17:03:57.399Z"
   },
   {
    "duration": 46,
    "start_time": "2023-03-25T17:04:33.058Z"
   },
   {
    "duration": 169,
    "start_time": "2023-03-25T17:04:55.564Z"
   },
   {
    "duration": 205,
    "start_time": "2023-03-25T17:06:40.379Z"
   },
   {
    "duration": 176,
    "start_time": "2023-03-25T17:06:53.685Z"
   },
   {
    "duration": 173,
    "start_time": "2023-03-25T17:13:23.575Z"
   },
   {
    "duration": 47,
    "start_time": "2023-03-25T17:21:24.557Z"
   },
   {
    "duration": 230,
    "start_time": "2023-03-25T17:21:38.743Z"
   },
   {
    "duration": 222,
    "start_time": "2023-03-25T17:23:46.008Z"
   },
   {
    "duration": 145,
    "start_time": "2023-03-25T17:32:28.457Z"
   },
   {
    "duration": 189,
    "start_time": "2023-03-25T17:35:26.620Z"
   },
   {
    "duration": 188,
    "start_time": "2023-03-25T17:43:34.118Z"
   },
   {
    "duration": 105,
    "start_time": "2023-03-25T17:43:58.325Z"
   },
   {
    "duration": 106,
    "start_time": "2023-03-25T17:44:06.211Z"
   },
   {
    "duration": 66,
    "start_time": "2023-03-25T17:44:29.627Z"
   },
   {
    "duration": 76,
    "start_time": "2023-03-25T17:49:52.780Z"
   },
   {
    "duration": 74,
    "start_time": "2023-03-25T17:56:00.833Z"
   },
   {
    "duration": 80,
    "start_time": "2023-03-25T17:57:32.937Z"
   },
   {
    "duration": 103,
    "start_time": "2023-03-25T18:06:58.801Z"
   },
   {
    "duration": 76,
    "start_time": "2023-03-25T18:08:24.943Z"
   },
   {
    "duration": 100,
    "start_time": "2023-03-25T18:09:19.115Z"
   },
   {
    "duration": 100,
    "start_time": "2023-03-25T18:09:54.560Z"
   },
   {
    "duration": 117,
    "start_time": "2023-03-25T18:10:39.942Z"
   },
   {
    "duration": 41,
    "start_time": "2023-03-25T18:49:08.448Z"
   },
   {
    "duration": 42,
    "start_time": "2023-03-25T18:50:34.956Z"
   },
   {
    "duration": 19,
    "start_time": "2023-03-25T18:52:09.807Z"
   },
   {
    "duration": 60,
    "start_time": "2023-03-25T18:52:30.812Z"
   },
   {
    "duration": 48,
    "start_time": "2023-03-25T18:52:39.552Z"
   },
   {
    "duration": 1086,
    "start_time": "2023-03-25T19:06:03.734Z"
   },
   {
    "duration": 65,
    "start_time": "2023-03-25T19:07:01.771Z"
   },
   {
    "duration": 1555,
    "start_time": "2023-03-25T19:07:09.955Z"
   },
   {
    "duration": 4,
    "start_time": "2023-03-25T19:07:11.512Z"
   },
   {
    "duration": 7306,
    "start_time": "2023-03-25T19:07:11.518Z"
   },
   {
    "duration": 69,
    "start_time": "2023-03-25T19:07:18.837Z"
   },
   {
    "duration": 18,
    "start_time": "2023-03-25T19:07:18.908Z"
   },
   {
    "duration": 73,
    "start_time": "2023-03-25T19:07:18.933Z"
   },
   {
    "duration": 165,
    "start_time": "2023-03-25T19:07:19.008Z"
   },
   {
    "duration": 2,
    "start_time": "2023-03-25T19:07:19.175Z"
   },
   {
    "duration": 120,
    "start_time": "2023-03-25T19:07:19.179Z"
   },
   {
    "duration": 2,
    "start_time": "2023-03-25T19:07:19.301Z"
   },
   {
    "duration": 1499,
    "start_time": "2023-03-25T19:07:19.305Z"
   },
   {
    "duration": 72,
    "start_time": "2023-03-25T19:07:20.807Z"
   },
   {
    "duration": 38,
    "start_time": "2023-03-25T19:07:20.882Z"
   },
   {
    "duration": 5,
    "start_time": "2023-03-25T19:07:20.926Z"
   },
   {
    "duration": 1325,
    "start_time": "2023-03-25T19:07:20.932Z"
   },
   {
    "duration": 525,
    "start_time": "2023-03-25T19:07:22.259Z"
   },
   {
    "duration": 457,
    "start_time": "2023-03-25T19:07:22.786Z"
   },
   {
    "duration": 4,
    "start_time": "2023-03-25T19:07:23.245Z"
   },
   {
    "duration": 121,
    "start_time": "2023-03-25T19:07:23.250Z"
   },
   {
    "duration": 210,
    "start_time": "2023-03-25T19:07:23.373Z"
   },
   {
    "duration": 101,
    "start_time": "2023-03-25T19:07:23.585Z"
   },
   {
    "duration": 1223,
    "start_time": "2023-03-25T19:07:39.261Z"
   },
   {
    "duration": 1293,
    "start_time": "2023-03-25T19:08:04.120Z"
   },
   {
    "duration": 1391,
    "start_time": "2023-03-25T19:08:18.453Z"
   },
   {
    "duration": 12,
    "start_time": "2023-03-25T19:08:19.847Z"
   },
   {
    "duration": 8151,
    "start_time": "2023-03-25T19:08:19.864Z"
   },
   {
    "duration": 71,
    "start_time": "2023-03-25T19:08:28.017Z"
   },
   {
    "duration": 17,
    "start_time": "2023-03-25T19:08:28.091Z"
   },
   {
    "duration": 65,
    "start_time": "2023-03-25T19:08:28.110Z"
   },
   {
    "duration": 135,
    "start_time": "2023-03-25T19:08:28.176Z"
   },
   {
    "duration": 2,
    "start_time": "2023-03-25T19:08:28.313Z"
   },
   {
    "duration": 152,
    "start_time": "2023-03-25T19:08:28.317Z"
   },
   {
    "duration": 3,
    "start_time": "2023-03-25T19:08:28.471Z"
   },
   {
    "duration": 1400,
    "start_time": "2023-03-25T19:08:28.476Z"
   },
   {
    "duration": 94,
    "start_time": "2023-03-25T19:08:29.878Z"
   },
   {
    "duration": 37,
    "start_time": "2023-03-25T19:08:29.974Z"
   },
   {
    "duration": 2,
    "start_time": "2023-03-25T19:08:30.014Z"
   },
   {
    "duration": 1453,
    "start_time": "2023-03-25T19:08:30.018Z"
   },
   {
    "duration": 508,
    "start_time": "2023-03-25T19:08:31.473Z"
   },
   {
    "duration": 464,
    "start_time": "2023-03-25T19:08:31.983Z"
   },
   {
    "duration": 3,
    "start_time": "2023-03-25T19:08:32.451Z"
   },
   {
    "duration": 116,
    "start_time": "2023-03-25T19:08:32.455Z"
   },
   {
    "duration": 318,
    "start_time": "2023-03-25T19:08:32.573Z"
   },
   {
    "duration": 0,
    "start_time": "2023-03-25T19:08:32.893Z"
   },
   {
    "duration": 295,
    "start_time": "2023-03-25T19:11:25.207Z"
   },
   {
    "duration": 3,
    "start_time": "2023-03-25T19:12:06.556Z"
   },
   {
    "duration": 253,
    "start_time": "2023-03-25T19:18:05.259Z"
   },
   {
    "duration": 228,
    "start_time": "2023-03-25T19:18:19.757Z"
   },
   {
    "duration": 229,
    "start_time": "2023-03-25T19:18:26.762Z"
   },
   {
    "duration": 279,
    "start_time": "2023-03-25T19:25:17.119Z"
   },
   {
    "duration": 209,
    "start_time": "2023-03-25T19:25:38.079Z"
   },
   {
    "duration": 319,
    "start_time": "2023-03-25T19:26:16.871Z"
   },
   {
    "duration": 141,
    "start_time": "2023-03-25T19:26:35.045Z"
   },
   {
    "duration": 1312,
    "start_time": "2023-03-25T21:25:02.171Z"
   },
   {
    "duration": 6,
    "start_time": "2023-03-25T21:25:03.484Z"
   },
   {
    "duration": 13070,
    "start_time": "2023-03-25T21:25:03.495Z"
   },
   {
    "duration": 113,
    "start_time": "2023-03-25T21:25:16.577Z"
   },
   {
    "duration": 21,
    "start_time": "2023-03-25T21:25:16.693Z"
   },
   {
    "duration": 71,
    "start_time": "2023-03-25T21:25:16.717Z"
   },
   {
    "duration": 143,
    "start_time": "2023-03-25T21:25:16.791Z"
   },
   {
    "duration": 137,
    "start_time": "2023-03-25T21:25:16.936Z"
   },
   {
    "duration": 1271,
    "start_time": "2023-03-25T21:25:17.074Z"
   },
   {
    "duration": 71,
    "start_time": "2023-03-25T21:25:18.347Z"
   },
   {
    "duration": 44,
    "start_time": "2023-03-25T21:25:18.420Z"
   },
   {
    "duration": 1171,
    "start_time": "2023-03-25T21:25:18.466Z"
   },
   {
    "duration": 554,
    "start_time": "2023-03-25T21:25:19.639Z"
   },
   {
    "duration": 443,
    "start_time": "2023-03-25T21:25:20.195Z"
   },
   {
    "duration": 78,
    "start_time": "2023-03-25T21:25:20.649Z"
   },
   {
    "duration": 205,
    "start_time": "2023-03-25T21:25:20.729Z"
   },
   {
    "duration": 103,
    "start_time": "2023-03-25T21:25:20.936Z"
   },
   {
    "duration": 72,
    "start_time": "2023-03-25T23:10:12.538Z"
   },
   {
    "duration": 1459,
    "start_time": "2023-03-25T23:10:19.206Z"
   },
   {
    "duration": 4,
    "start_time": "2023-03-25T23:10:20.667Z"
   },
   {
    "duration": 8776,
    "start_time": "2023-03-25T23:10:20.673Z"
   },
   {
    "duration": 214,
    "start_time": "2023-03-25T23:10:29.451Z"
   },
   {
    "duration": 15,
    "start_time": "2023-03-25T23:10:29.666Z"
   },
   {
    "duration": 110,
    "start_time": "2023-03-25T23:10:29.683Z"
   },
   {
    "duration": 171,
    "start_time": "2023-03-25T23:10:29.795Z"
   },
   {
    "duration": 148,
    "start_time": "2023-03-25T23:10:29.968Z"
   },
   {
    "duration": 1300,
    "start_time": "2023-03-25T23:10:30.119Z"
   },
   {
    "duration": 85,
    "start_time": "2023-03-25T23:10:31.422Z"
   },
   {
    "duration": 66,
    "start_time": "2023-03-25T23:10:31.508Z"
   },
   {
    "duration": 1259,
    "start_time": "2023-03-25T23:10:31.576Z"
   },
   {
    "duration": 535,
    "start_time": "2023-03-25T23:10:32.841Z"
   },
   {
    "duration": 505,
    "start_time": "2023-03-25T23:10:33.377Z"
   },
   {
    "duration": 95,
    "start_time": "2023-03-25T23:10:33.884Z"
   },
   {
    "duration": 194,
    "start_time": "2023-03-25T23:10:33.981Z"
   },
   {
    "duration": 135,
    "start_time": "2023-03-25T23:10:34.177Z"
   },
   {
    "duration": 94,
    "start_time": "2023-03-25T23:10:48.988Z"
   },
   {
    "duration": 216,
    "start_time": "2023-03-25T23:11:38.208Z"
   },
   {
    "duration": 127,
    "start_time": "2023-03-25T23:11:58.981Z"
   },
   {
    "duration": 1384,
    "start_time": "2023-03-25T23:12:17.630Z"
   },
   {
    "duration": 4,
    "start_time": "2023-03-25T23:12:19.016Z"
   },
   {
    "duration": 8525,
    "start_time": "2023-03-25T23:12:19.021Z"
   },
   {
    "duration": 216,
    "start_time": "2023-03-25T23:12:27.548Z"
   },
   {
    "duration": 16,
    "start_time": "2023-03-25T23:12:27.766Z"
   },
   {
    "duration": 103,
    "start_time": "2023-03-25T23:12:27.784Z"
   },
   {
    "duration": 164,
    "start_time": "2023-03-25T23:12:27.889Z"
   },
   {
    "duration": 136,
    "start_time": "2023-03-25T23:12:28.055Z"
   },
   {
    "duration": 1301,
    "start_time": "2023-03-25T23:12:28.192Z"
   },
   {
    "duration": 85,
    "start_time": "2023-03-25T23:12:29.496Z"
   },
   {
    "duration": 65,
    "start_time": "2023-03-25T23:12:29.583Z"
   },
   {
    "duration": 1277,
    "start_time": "2023-03-25T23:12:29.650Z"
   },
   {
    "duration": 536,
    "start_time": "2023-03-25T23:12:30.929Z"
   },
   {
    "duration": 396,
    "start_time": "2023-03-25T23:12:31.466Z"
   },
   {
    "duration": 237,
    "start_time": "2023-03-25T23:12:31.864Z"
   },
   {
    "duration": 0,
    "start_time": "2023-03-25T23:12:32.103Z"
   },
   {
    "duration": 0,
    "start_time": "2023-03-25T23:12:32.105Z"
   },
   {
    "duration": 134,
    "start_time": "2023-03-25T23:15:22.442Z"
   },
   {
    "duration": 100,
    "start_time": "2023-03-25T23:16:28.631Z"
   },
   {
    "duration": 1159,
    "start_time": "2023-03-26T22:00:03.335Z"
   },
   {
    "duration": 3,
    "start_time": "2023-03-26T22:00:04.495Z"
   },
   {
    "duration": 11474,
    "start_time": "2023-03-26T22:00:04.500Z"
   },
   {
    "duration": 95,
    "start_time": "2023-03-26T22:00:15.976Z"
   },
   {
    "duration": 13,
    "start_time": "2023-03-26T22:00:16.074Z"
   },
   {
    "duration": 81,
    "start_time": "2023-03-26T22:00:16.089Z"
   },
   {
    "duration": 135,
    "start_time": "2023-03-26T22:00:16.171Z"
   },
   {
    "duration": 113,
    "start_time": "2023-03-26T22:00:16.308Z"
   },
   {
    "duration": 1095,
    "start_time": "2023-03-26T22:00:16.423Z"
   },
   {
    "duration": 54,
    "start_time": "2023-03-26T22:00:17.520Z"
   },
   {
    "duration": 33,
    "start_time": "2023-03-26T22:00:17.575Z"
   },
   {
    "duration": 1029,
    "start_time": "2023-03-26T22:00:17.610Z"
   },
   {
    "duration": 506,
    "start_time": "2023-03-26T22:00:18.641Z"
   },
   {
    "duration": 374,
    "start_time": "2023-03-26T22:00:19.149Z"
   },
   {
    "duration": 62,
    "start_time": "2023-03-26T22:00:19.524Z"
   },
   {
    "duration": 142,
    "start_time": "2023-03-26T22:00:19.588Z"
   },
   {
    "duration": 98,
    "start_time": "2023-03-26T22:00:19.731Z"
   },
   {
    "duration": 62,
    "start_time": "2023-03-26T22:01:21.942Z"
   },
   {
    "duration": 211,
    "start_time": "2023-03-26T22:02:12.101Z"
   },
   {
    "duration": 62,
    "start_time": "2023-03-26T22:02:31.161Z"
   },
   {
    "duration": 63,
    "start_time": "2023-03-26T22:02:52.678Z"
   },
   {
    "duration": 1366,
    "start_time": "2023-03-27T07:25:22.459Z"
   },
   {
    "duration": 3,
    "start_time": "2023-03-27T07:25:23.827Z"
   },
   {
    "duration": 11133,
    "start_time": "2023-03-27T07:25:23.832Z"
   },
   {
    "duration": 231,
    "start_time": "2023-03-27T07:25:34.968Z"
   },
   {
    "duration": 18,
    "start_time": "2023-03-27T07:25:35.202Z"
   },
   {
    "duration": 113,
    "start_time": "2023-03-27T07:25:35.222Z"
   },
   {
    "duration": 172,
    "start_time": "2023-03-27T07:25:35.337Z"
   },
   {
    "duration": 142,
    "start_time": "2023-03-27T07:25:35.510Z"
   },
   {
    "duration": 1241,
    "start_time": "2023-03-27T07:25:35.654Z"
   },
   {
    "duration": 93,
    "start_time": "2023-03-27T07:25:36.898Z"
   },
   {
    "duration": 71,
    "start_time": "2023-03-27T07:25:36.992Z"
   },
   {
    "duration": 1155,
    "start_time": "2023-03-27T07:25:37.065Z"
   },
   {
    "duration": 544,
    "start_time": "2023-03-27T07:25:38.221Z"
   },
   {
    "duration": 465,
    "start_time": "2023-03-27T07:25:38.766Z"
   },
   {
    "duration": 99,
    "start_time": "2023-03-27T07:25:39.233Z"
   },
   {
    "duration": 201,
    "start_time": "2023-03-27T07:25:39.334Z"
   },
   {
    "duration": 136,
    "start_time": "2023-03-27T07:25:39.537Z"
   },
   {
    "duration": 96,
    "start_time": "2023-03-27T07:27:12.736Z"
   }
  ],
  "colab": {
   "provenance": []
  },
  "kernelspec": {
   "display_name": "Python 3 (ipykernel)",
   "language": "python",
   "name": "python3"
  },
  "language_info": {
   "codemirror_mode": {
    "name": "ipython",
    "version": 3
   },
   "file_extension": ".py",
   "mimetype": "text/x-python",
   "name": "python",
   "nbconvert_exporter": "python",
   "pygments_lexer": "ipython3",
   "version": "3.9.5"
  },
  "toc": {
   "base_numbering": 1,
   "nav_menu": {},
   "number_sections": false,
   "sideBar": true,
   "skip_h1_title": false,
   "title_cell": "Table of Contents",
   "title_sidebar": "Contents",
   "toc_cell": false,
   "toc_position": {
    "height": "calc(100% - 180px)",
    "left": "10px",
    "top": "150px",
    "width": "283.267px"
   },
   "toc_section_display": true,
   "toc_window_display": true
  }
 },
 "nbformat": 4,
 "nbformat_minor": 1
}
