{
 "cells": [
  {
   "cell_type": "markdown",
   "metadata": {
    "toc": true
   },
   "source": [
    "<h1>Содержание<span class=\"tocSkip\"></span></h1>\n",
    "<div class=\"toc\"><ul class=\"toc-item\"><li><span><a href=\"#Обзор\" data-toc-modified-id=\"Обзор-1\"><span class=\"toc-item-num\">1&nbsp;&nbsp;</span>Обзор</a></span></li><li><span><a href=\"#Предобработка\" data-toc-modified-id=\"Предобработка-2\"><span class=\"toc-item-num\">2&nbsp;&nbsp;</span>Предобработка</a></span><ul class=\"toc-item\"><li><span><a href=\"#Приведение-названий-столбцов-к-стандартному-виду\" data-toc-modified-id=\"Приведение-названий-столбцов-к-стандартному-виду-2.1\"><span class=\"toc-item-num\">2.1&nbsp;&nbsp;</span>Приведение названий столбцов к стандартному виду</a></span></li><li><span><a href=\"#Поиск-неявных-дубликатов\" data-toc-modified-id=\"Поиск-неявных-дубликатов-2.2\"><span class=\"toc-item-num\">2.2&nbsp;&nbsp;</span>Поиск неявных дубликатов</a></span></li><li><span><a href=\"#Приведение-дат-к-нужному-типу\" data-toc-modified-id=\"Приведение-дат-к-нужному-типу-2.3\"><span class=\"toc-item-num\">2.3&nbsp;&nbsp;</span>Приведение дат к нужному типу</a></span></li><li><span><a href=\"#Пропуски\" data-toc-modified-id=\"Пропуски-2.4\"><span class=\"toc-item-num\">2.4&nbsp;&nbsp;</span>Пропуски</a></span><ul class=\"toc-item\"><li><span><a href=\"#name\" data-toc-modified-id=\"name-2.4.1\"><span class=\"toc-item-num\">2.4.1&nbsp;&nbsp;</span>name</a></span></li><li><span><a href=\"#year_of_release\" data-toc-modified-id=\"year_of_release-2.4.2\"><span class=\"toc-item-num\">2.4.2&nbsp;&nbsp;</span>year_of_release</a></span></li><li><span><a href=\"#critic_score,-user_score,----rating\" data-toc-modified-id=\"critic_score,-user_score,----rating-2.4.3\"><span class=\"toc-item-num\">2.4.3&nbsp;&nbsp;</span>critic_score, user_score,    rating</a></span></li></ul></li><li><span><a href=\"#Обзор-значений-столбцов\" data-toc-modified-id=\"Обзор-значений-столбцов-2.5\"><span class=\"toc-item-num\">2.5&nbsp;&nbsp;</span>Обзор значений столбцов</a></span><ul class=\"toc-item\"><li><span><a href=\"#name\" data-toc-modified-id=\"name-2.5.1\"><span class=\"toc-item-num\">2.5.1&nbsp;&nbsp;</span>name</a></span></li><li><span><a href=\"#platform\" data-toc-modified-id=\"platform-2.5.2\"><span class=\"toc-item-num\">2.5.2&nbsp;&nbsp;</span>platform</a></span></li><li><span><a href=\"#year_of_release\" data-toc-modified-id=\"year_of_release-2.5.3\"><span class=\"toc-item-num\">2.5.3&nbsp;&nbsp;</span>year_of_release</a></span></li><li><span><a href=\"#genre\" data-toc-modified-id=\"genre-2.5.4\"><span class=\"toc-item-num\">2.5.4&nbsp;&nbsp;</span>genre</a></span></li><li><span><a href=\"#critic_score\" data-toc-modified-id=\"critic_score-2.5.5\"><span class=\"toc-item-num\">2.5.5&nbsp;&nbsp;</span>critic_score</a></span></li><li><span><a href=\"#user_score\" data-toc-modified-id=\"user_score-2.5.6\"><span class=\"toc-item-num\">2.5.6&nbsp;&nbsp;</span>user_score</a></span></li><li><span><a href=\"#rating\" data-toc-modified-id=\"rating-2.5.7\"><span class=\"toc-item-num\">2.5.7&nbsp;&nbsp;</span>rating</a></span></li><li><span><a href=\"#na_sales\" data-toc-modified-id=\"na_sales-2.5.8\"><span class=\"toc-item-num\">2.5.8&nbsp;&nbsp;</span>na_sales</a></span></li><li><span><a href=\"#eu_sales\" data-toc-modified-id=\"eu_sales-2.5.9\"><span class=\"toc-item-num\">2.5.9&nbsp;&nbsp;</span>eu_sales</a></span></li><li><span><a href=\"#jp_sales\" data-toc-modified-id=\"jp_sales-2.5.10\"><span class=\"toc-item-num\">2.5.10&nbsp;&nbsp;</span>jp_sales</a></span></li><li><span><a href=\"#other_sales\" data-toc-modified-id=\"other_sales-2.5.11\"><span class=\"toc-item-num\">2.5.11&nbsp;&nbsp;</span>other_sales</a></span></li></ul></li><li><span><a href=\"#Создадим-столбец-с-суммарными-продажами-во-всех-регионах\" data-toc-modified-id=\"Создадим-столбец-с-суммарными-продажами-во-всех-регионах-2.6\"><span class=\"toc-item-num\">2.6&nbsp;&nbsp;</span>Создадим столбец с суммарными продажами во всех регионах</a></span></li></ul></li><li><span><a href=\"#Исследовательский-анализ-данных\" data-toc-modified-id=\"Исследовательский-анализ-данных-3\"><span class=\"toc-item-num\">3&nbsp;&nbsp;</span>Исследовательский анализ данных</a></span><ul class=\"toc-item\"><li><span><a href=\"#Сколько-игр-выпускалось-в-разные-годы.-Важны-ли-данные-за-все-периоды?\" data-toc-modified-id=\"Сколько-игр-выпускалось-в-разные-годы.-Важны-ли-данные-за-все-периоды?-3.1\"><span class=\"toc-item-num\">3.1&nbsp;&nbsp;</span>Сколько игр выпускалось в разные годы. Важны ли данные за все периоды?</a></span></li><li><span><a href=\"#Продажи-по-платформам\" data-toc-modified-id=\"Продажи-по-платформам-3.2\"><span class=\"toc-item-num\">3.2&nbsp;&nbsp;</span>Продажи по платформам</a></span></li><li><span><a href=\"#Глобальные-продажи-игр-в-разбивке-по-платформам\" data-toc-modified-id=\"Глобальные-продажи-игр-в-разбивке-по-платформам-3.3\"><span class=\"toc-item-num\">3.3&nbsp;&nbsp;</span>Глобальные продажи игр в разбивке по платформам</a></span></li><li><span><a href=\"#Влияние-на-продажи-внутри-одной-популярной-платформы-отзывов-пользователей-и-критиков\" data-toc-modified-id=\"Влияние-на-продажи-внутри-одной-популярной-платформы-отзывов-пользователей-и-критиков-3.4\"><span class=\"toc-item-num\">3.4&nbsp;&nbsp;</span>Влияние на продажи внутри одной популярной платформы отзывов пользователей и критиков</a></span></li><li><span><a href=\"#Oбщее-распределение-игр-по-жанрам\" data-toc-modified-id=\"Oбщее-распределение-игр-по-жанрам-3.5\"><span class=\"toc-item-num\">3.5&nbsp;&nbsp;</span>Oбщее распределение игр по жанрам</a></span></li></ul></li><li><span><a href=\"#Портрет-пользователя-каждого-региона\" data-toc-modified-id=\"Портрет-пользователя-каждого-региона-4\"><span class=\"toc-item-num\">4&nbsp;&nbsp;</span>Портрет пользователя каждого региона</a></span><ul class=\"toc-item\"><li><span><a href=\"#Самые-популярные-платформы-(топ-5)\" data-toc-modified-id=\"Самые-популярные-платформы-(топ-5)-4.1\"><span class=\"toc-item-num\">4.1&nbsp;&nbsp;</span>Самые популярные платформы (топ-5)</a></span></li><li><span><a href=\"#Самые-популярные-жанры-(топ-5)\" data-toc-modified-id=\"Самые-популярные-жанры-(топ-5)-4.2\"><span class=\"toc-item-num\">4.2&nbsp;&nbsp;</span>Самые популярные жанры (топ-5)</a></span></li><li><span><a href=\"#Влияние-рейтинга-ESRB-на-продажи-в-отдельных-регионах\" data-toc-modified-id=\"Влияние-рейтинга-ESRB-на-продажи-в-отдельных-регионах-4.3\"><span class=\"toc-item-num\">4.3&nbsp;&nbsp;</span>Влияние рейтинга ESRB на продажи в отдельных регионах</a></span></li></ul></li><li><span><a href=\"#Проверка-гипотез\" data-toc-modified-id=\"Проверка-гипотез-5\"><span class=\"toc-item-num\">5&nbsp;&nbsp;</span>Проверка гипотез</a></span><ul class=\"toc-item\"><li><span><a href=\"#Средние-пользовательские-рейтинги-платформ-Xbox-One-и-PC-одинаковые\" data-toc-modified-id=\"Средние-пользовательские-рейтинги-платформ-Xbox-One-и-PC-одинаковые-5.1\"><span class=\"toc-item-num\">5.1&nbsp;&nbsp;</span>Средние пользовательские рейтинги платформ Xbox One и PC одинаковые</a></span></li><li><span><a href=\"#Средние-пользовательские-рейтинги-жанров-Action-и-Sports-разные\" data-toc-modified-id=\"Средние-пользовательские-рейтинги-жанров-Action-и-Sports-разные-5.2\"><span class=\"toc-item-num\">5.2&nbsp;&nbsp;</span>Средние пользовательские рейтинги жанров Action и Sports разные</a></span></li></ul></li><li><span><a href=\"#Итог\" data-toc-modified-id=\"Итог-6\"><span class=\"toc-item-num\">6&nbsp;&nbsp;</span>Итог</a></span></li></ul></div>"
   ]
  },
  {
   "cell_type": "markdown",
   "metadata": {},
   "source": [
    "# Исследование компьютерных игр"
   ]
  },
  {
   "cell_type": "markdown",
   "metadata": {},
   "source": [
    "**Заказчики исследования:** интернет-магазине «Стримчик»"
   ]
  },
  {
   "cell_type": "markdown",
   "metadata": {},
   "source": [
    "**Цель:**  выявить закономерности, определяющие успешность игры . Это позволит сделать ставку на потенциально популярный продукт и спланировать рекламные кампании."
   ]
  },
  {
   "cell_type": "markdown",
   "metadata": {},
   "source": [
    "**Выборка:** исторические данные о продажах игр, оценки пользователей и экспертов, жанры и платформы."
   ]
  },
  {
   "cell_type": "markdown",
   "metadata": {},
   "source": [
    "**Описание данных:**  \n",
    "\n",
    "`Name` — название игры  \n",
    "`Platform` — платформа  \n",
    "`Year_of_Release` — год выпуска  \n",
    "`Genre` — жанр игры  \n",
    "`NA_sales` — продажи в Северной Америке (миллионы проданных копий)  \n",
    "`EU_sales` — продажи в Европе (миллионы проданных копий)  \n",
    "`JP_sales` — продажи в Японии (миллионы проданных копий)  \n",
    "`Other_sales` — продажи в других странах (миллионы проданных копий)  \n",
    "`Critic_Score` — оценка критиков (максимум 100)  \n",
    "`User_Score` — оценка пользователей (максимум 10)  \n",
    "`Rating` — рейтинг от организации ESRB (англ. Entertainment Software Rating Board). Эта ассоциация определяет рейтинг компьютерных игр и присваивает им подходящую возрастную категорию."
   ]
  },
  {
   "cell_type": "markdown",
   "metadata": {},
   "source": [
    "Исследование пройдет в несколько этапов:\n",
    "\n",
    "* обзор данных\n",
    "* предобработка\n",
    "* исследование данных\n",
    "* составление портрета пользователя каждого региона\n",
    "* проверка гипотез:  \n",
    "1) Средние пользовательские рейтинги платформ Xbox One и PC одинаковые  \n",
    "2) Средние пользовательские рейтинги жанров Action (англ. «действие», экшен игры) и Sports (англ. «спортивные соревнования») разные"
   ]
  },
  {
   "cell_type": "markdown",
   "metadata": {},
   "source": [
    "## Обзор "
   ]
  },
  {
   "cell_type": "code",
   "execution_count": 86,
   "metadata": {
    "collapsed": true
   },
   "outputs": [
    {
     "name": "stdout",
     "output_type": "stream",
     "text": [
      "Requirement already satisfied: missingno in /opt/conda/lib/python3.9/site-packages (0.5.2)\n",
      "Requirement already satisfied: numpy in /opt/conda/lib/python3.9/site-packages (from missingno) (1.21.1)\n",
      "Requirement already satisfied: seaborn in /opt/conda/lib/python3.9/site-packages (from missingno) (0.11.1)\n",
      "Requirement already satisfied: matplotlib in /opt/conda/lib/python3.9/site-packages (from missingno) (3.3.4)\n",
      "Requirement already satisfied: scipy in /opt/conda/lib/python3.9/site-packages (from missingno) (1.9.1)\n",
      "Requirement already satisfied: python-dateutil>=2.1 in /opt/conda/lib/python3.9/site-packages (from matplotlib->missingno) (2.8.1)\n",
      "Requirement already satisfied: pillow>=6.2.0 in /opt/conda/lib/python3.9/site-packages (from matplotlib->missingno) (8.4.0)\n",
      "Requirement already satisfied: pyparsing!=2.0.4,!=2.1.2,!=2.1.6,>=2.0.3 in /opt/conda/lib/python3.9/site-packages (from matplotlib->missingno) (2.4.7)\n",
      "Requirement already satisfied: kiwisolver>=1.0.1 in /opt/conda/lib/python3.9/site-packages (from matplotlib->missingno) (1.4.4)\n",
      "Requirement already satisfied: cycler>=0.10 in /opt/conda/lib/python3.9/site-packages (from matplotlib->missingno) (0.11.0)\n",
      "Requirement already satisfied: six>=1.5 in /opt/conda/lib/python3.9/site-packages (from python-dateutil>=2.1->matplotlib->missingno) (1.16.0)\n",
      "Requirement already satisfied: pandas>=0.23 in /opt/conda/lib/python3.9/site-packages (from seaborn->missingno) (1.2.4)\n",
      "Requirement already satisfied: pytz>=2017.3 in /opt/conda/lib/python3.9/site-packages (from pandas>=0.23->seaborn->missingno) (2021.1)\n"
     ]
    }
   ],
   "source": [
    "# импортируем нужные библиотеки\n",
    "import pandas as pd\n",
    "import datetime as dt\n",
    "from scipy import stats as st\n",
    "import numpy as np\n",
    "import math as mth\n",
    "import matplotlib.pyplot as plt \n",
    "import seaborn as sns\n",
    "!pip install missingno\n",
    "import missingno as msno\n",
    "\n",
    "#доп настройки\n",
    "pd.options.display.float_format = '{:,.2f}'.format"
   ]
  },
  {
   "cell_type": "code",
   "execution_count": 87,
   "metadata": {},
   "outputs": [],
   "source": [
    "data = pd.read_csv('/datasets/games.csv')"
   ]
  },
  {
   "cell_type": "code",
   "execution_count": 3,
   "metadata": {},
   "outputs": [
    {
     "data": {
      "text/html": [
       "<div>\n",
       "<style scoped>\n",
       "    .dataframe tbody tr th:only-of-type {\n",
       "        vertical-align: middle;\n",
       "    }\n",
       "\n",
       "    .dataframe tbody tr th {\n",
       "        vertical-align: top;\n",
       "    }\n",
       "\n",
       "    .dataframe thead th {\n",
       "        text-align: right;\n",
       "    }\n",
       "</style>\n",
       "<table border=\"1\" class=\"dataframe\">\n",
       "  <thead>\n",
       "    <tr style=\"text-align: right;\">\n",
       "      <th></th>\n",
       "      <th>Name</th>\n",
       "      <th>Platform</th>\n",
       "      <th>Year_of_Release</th>\n",
       "      <th>Genre</th>\n",
       "      <th>NA_sales</th>\n",
       "      <th>EU_sales</th>\n",
       "      <th>JP_sales</th>\n",
       "      <th>Other_sales</th>\n",
       "      <th>Critic_Score</th>\n",
       "      <th>User_Score</th>\n",
       "      <th>Rating</th>\n",
       "    </tr>\n",
       "  </thead>\n",
       "  <tbody>\n",
       "    <tr>\n",
       "      <th>0</th>\n",
       "      <td>Wii Sports</td>\n",
       "      <td>Wii</td>\n",
       "      <td>2,006.00</td>\n",
       "      <td>Sports</td>\n",
       "      <td>41.36</td>\n",
       "      <td>28.96</td>\n",
       "      <td>3.77</td>\n",
       "      <td>8.45</td>\n",
       "      <td>76.00</td>\n",
       "      <td>8</td>\n",
       "      <td>E</td>\n",
       "    </tr>\n",
       "    <tr>\n",
       "      <th>1</th>\n",
       "      <td>Super Mario Bros.</td>\n",
       "      <td>NES</td>\n",
       "      <td>1,985.00</td>\n",
       "      <td>Platform</td>\n",
       "      <td>29.08</td>\n",
       "      <td>3.58</td>\n",
       "      <td>6.81</td>\n",
       "      <td>0.77</td>\n",
       "      <td>NaN</td>\n",
       "      <td>NaN</td>\n",
       "      <td>NaN</td>\n",
       "    </tr>\n",
       "    <tr>\n",
       "      <th>2</th>\n",
       "      <td>Mario Kart Wii</td>\n",
       "      <td>Wii</td>\n",
       "      <td>2,008.00</td>\n",
       "      <td>Racing</td>\n",
       "      <td>15.68</td>\n",
       "      <td>12.76</td>\n",
       "      <td>3.79</td>\n",
       "      <td>3.29</td>\n",
       "      <td>82.00</td>\n",
       "      <td>8.3</td>\n",
       "      <td>E</td>\n",
       "    </tr>\n",
       "    <tr>\n",
       "      <th>3</th>\n",
       "      <td>Wii Sports Resort</td>\n",
       "      <td>Wii</td>\n",
       "      <td>2,009.00</td>\n",
       "      <td>Sports</td>\n",
       "      <td>15.61</td>\n",
       "      <td>10.93</td>\n",
       "      <td>3.28</td>\n",
       "      <td>2.95</td>\n",
       "      <td>80.00</td>\n",
       "      <td>8</td>\n",
       "      <td>E</td>\n",
       "    </tr>\n",
       "    <tr>\n",
       "      <th>4</th>\n",
       "      <td>Pokemon Red/Pokemon Blue</td>\n",
       "      <td>GB</td>\n",
       "      <td>1,996.00</td>\n",
       "      <td>Role-Playing</td>\n",
       "      <td>11.27</td>\n",
       "      <td>8.89</td>\n",
       "      <td>10.22</td>\n",
       "      <td>1.00</td>\n",
       "      <td>NaN</td>\n",
       "      <td>NaN</td>\n",
       "      <td>NaN</td>\n",
       "    </tr>\n",
       "  </tbody>\n",
       "</table>\n",
       "</div>"
      ],
      "text/plain": [
       "                       Name Platform  Year_of_Release         Genre  NA_sales  \\\n",
       "0                Wii Sports      Wii         2,006.00        Sports     41.36   \n",
       "1         Super Mario Bros.      NES         1,985.00      Platform     29.08   \n",
       "2            Mario Kart Wii      Wii         2,008.00        Racing     15.68   \n",
       "3         Wii Sports Resort      Wii         2,009.00        Sports     15.61   \n",
       "4  Pokemon Red/Pokemon Blue       GB         1,996.00  Role-Playing     11.27   \n",
       "\n",
       "   EU_sales  JP_sales  Other_sales  Critic_Score User_Score Rating  \n",
       "0     28.96      3.77         8.45         76.00          8      E  \n",
       "1      3.58      6.81         0.77           NaN        NaN    NaN  \n",
       "2     12.76      3.79         3.29         82.00        8.3      E  \n",
       "3     10.93      3.28         2.95         80.00          8      E  \n",
       "4      8.89     10.22         1.00           NaN        NaN    NaN  "
      ]
     },
     "execution_count": 3,
     "metadata": {},
     "output_type": "execute_result"
    }
   ],
   "source": [
    "data.head()"
   ]
  },
  {
   "cell_type": "code",
   "execution_count": 4,
   "metadata": {},
   "outputs": [
    {
     "name": "stdout",
     "output_type": "stream",
     "text": [
      "<class 'pandas.core.frame.DataFrame'>\n",
      "RangeIndex: 16715 entries, 0 to 16714\n",
      "Data columns (total 11 columns):\n",
      " #   Column           Non-Null Count  Dtype  \n",
      "---  ------           --------------  -----  \n",
      " 0   Name             16713 non-null  object \n",
      " 1   Platform         16715 non-null  object \n",
      " 2   Year_of_Release  16446 non-null  float64\n",
      " 3   Genre            16713 non-null  object \n",
      " 4   NA_sales         16715 non-null  float64\n",
      " 5   EU_sales         16715 non-null  float64\n",
      " 6   JP_sales         16715 non-null  float64\n",
      " 7   Other_sales      16715 non-null  float64\n",
      " 8   Critic_Score     8137 non-null   float64\n",
      " 9   User_Score       10014 non-null  object \n",
      " 10  Rating           9949 non-null   object \n",
      "dtypes: float64(6), object(5)\n",
      "memory usage: 1.4+ MB\n"
     ]
    }
   ],
   "source": [
    "data.info()"
   ]
  },
  {
   "cell_type": "markdown",
   "metadata": {},
   "source": [
    "Поиск дубликатов"
   ]
  },
  {
   "cell_type": "code",
   "execution_count": 5,
   "metadata": {},
   "outputs": [
    {
     "data": {
      "text/plain": [
       "0"
      ]
     },
     "execution_count": 5,
     "metadata": {},
     "output_type": "execute_result"
    }
   ],
   "source": [
    "data.duplicated().sum()"
   ]
  },
  {
   "cell_type": "markdown",
   "metadata": {},
   "source": [
    "**Вывод**  \n",
    "В датасете представлена информация о 16715 играх.  \n",
    "Каждая строка содержит информацию о конкретной игре: название, год релиза, платформе, продажах и оценках.  \n",
    "Всего 11 столбцов. В 6 столбцах есть пропуски. Названия написаны в верхнем регистре.  \n",
    "Некоторые данные представлены в неподходящих типах.  \n",
    "Явных дубликатов не выявлено."
   ]
  },
  {
   "cell_type": "markdown",
   "metadata": {},
   "source": [
    "## Предобработка"
   ]
  },
  {
   "cell_type": "markdown",
   "metadata": {},
   "source": [
    "Перед дальнейшими действиями сделаем копию данных, чтобы потом оценить сколько мы удалили"
   ]
  },
  {
   "cell_type": "code",
   "execution_count": 6,
   "metadata": {},
   "outputs": [],
   "source": [
    "df = data.copy()"
   ]
  },
  {
   "cell_type": "markdown",
   "metadata": {},
   "source": [
    "### Приведение названий столбцов к стандартному виду"
   ]
  },
  {
   "cell_type": "markdown",
   "metadata": {},
   "source": [
    "Заменим названия на нижний регистр"
   ]
  },
  {
   "cell_type": "code",
   "execution_count": 7,
   "metadata": {},
   "outputs": [],
   "source": [
    "df.columns = df.columns.str.lower()"
   ]
  },
  {
   "cell_type": "markdown",
   "metadata": {},
   "source": [
    "### Поиск неявных дубликатов"
   ]
  },
  {
   "cell_type": "markdown",
   "metadata": {},
   "source": [
    "Посмотрим есть ли дубликаты по названию, платформе и году релиза."
   ]
  },
  {
   "cell_type": "code",
   "execution_count": 8,
   "metadata": {},
   "outputs": [
    {
     "data": {
      "text/html": [
       "<div>\n",
       "<style scoped>\n",
       "    .dataframe tbody tr th:only-of-type {\n",
       "        vertical-align: middle;\n",
       "    }\n",
       "\n",
       "    .dataframe tbody tr th {\n",
       "        vertical-align: top;\n",
       "    }\n",
       "\n",
       "    .dataframe thead th {\n",
       "        text-align: right;\n",
       "    }\n",
       "</style>\n",
       "<table border=\"1\" class=\"dataframe\">\n",
       "  <thead>\n",
       "    <tr style=\"text-align: right;\">\n",
       "      <th></th>\n",
       "      <th>name</th>\n",
       "      <th>platform</th>\n",
       "      <th>year_of_release</th>\n",
       "      <th>genre</th>\n",
       "      <th>na_sales</th>\n",
       "      <th>eu_sales</th>\n",
       "      <th>jp_sales</th>\n",
       "      <th>other_sales</th>\n",
       "      <th>critic_score</th>\n",
       "      <th>user_score</th>\n",
       "      <th>rating</th>\n",
       "    </tr>\n",
       "  </thead>\n",
       "  <tbody>\n",
       "    <tr>\n",
       "      <th>604</th>\n",
       "      <td>Madden NFL 13</td>\n",
       "      <td>PS3</td>\n",
       "      <td>2,012.00</td>\n",
       "      <td>Sports</td>\n",
       "      <td>2.11</td>\n",
       "      <td>0.22</td>\n",
       "      <td>0.00</td>\n",
       "      <td>0.23</td>\n",
       "      <td>83.00</td>\n",
       "      <td>5.5</td>\n",
       "      <td>E</td>\n",
       "    </tr>\n",
       "    <tr>\n",
       "      <th>659</th>\n",
       "      <td>NaN</td>\n",
       "      <td>GEN</td>\n",
       "      <td>1,993.00</td>\n",
       "      <td>NaN</td>\n",
       "      <td>1.78</td>\n",
       "      <td>0.53</td>\n",
       "      <td>0.00</td>\n",
       "      <td>0.08</td>\n",
       "      <td>NaN</td>\n",
       "      <td>NaN</td>\n",
       "      <td>NaN</td>\n",
       "    </tr>\n",
       "    <tr>\n",
       "      <th>14244</th>\n",
       "      <td>NaN</td>\n",
       "      <td>GEN</td>\n",
       "      <td>1,993.00</td>\n",
       "      <td>NaN</td>\n",
       "      <td>0.00</td>\n",
       "      <td>0.00</td>\n",
       "      <td>0.03</td>\n",
       "      <td>0.00</td>\n",
       "      <td>NaN</td>\n",
       "      <td>NaN</td>\n",
       "      <td>NaN</td>\n",
       "    </tr>\n",
       "    <tr>\n",
       "      <th>16230</th>\n",
       "      <td>Madden NFL 13</td>\n",
       "      <td>PS3</td>\n",
       "      <td>2,012.00</td>\n",
       "      <td>Sports</td>\n",
       "      <td>0.00</td>\n",
       "      <td>0.01</td>\n",
       "      <td>0.00</td>\n",
       "      <td>0.00</td>\n",
       "      <td>83.00</td>\n",
       "      <td>5.5</td>\n",
       "      <td>E</td>\n",
       "    </tr>\n",
       "  </tbody>\n",
       "</table>\n",
       "</div>"
      ],
      "text/plain": [
       "                name platform  year_of_release   genre  na_sales  eu_sales  \\\n",
       "604    Madden NFL 13      PS3         2,012.00  Sports      2.11      0.22   \n",
       "659              NaN      GEN         1,993.00     NaN      1.78      0.53   \n",
       "14244            NaN      GEN         1,993.00     NaN      0.00      0.00   \n",
       "16230  Madden NFL 13      PS3         2,012.00  Sports      0.00      0.01   \n",
       "\n",
       "       jp_sales  other_sales  critic_score user_score rating  \n",
       "604        0.00         0.23         83.00        5.5      E  \n",
       "659        0.00         0.08           NaN        NaN    NaN  \n",
       "14244      0.03         0.00           NaN        NaN    NaN  \n",
       "16230      0.00         0.00         83.00        5.5      E  "
      ]
     },
     "execution_count": 8,
     "metadata": {},
     "output_type": "execute_result"
    }
   ],
   "source": [
    "df[df.duplicated(subset=['name','platform','year_of_release'], keep=False)]"
   ]
  },
  {
   "cell_type": "markdown",
   "metadata": {},
   "source": [
    "Выявили 2 дубликата.  \n",
    "Игра *Madden NFL 13* представлена два раза. Но во второй строчке нет информации о продажах. Так что удалим ее.  \n",
    "Так же есть дубликат без имени, с пропусками во многих столбцах. С ними окончательно разберемся чуть позже."
   ]
  },
  {
   "cell_type": "code",
   "execution_count": 9,
   "metadata": {},
   "outputs": [],
   "source": [
    "df.drop_duplicates(subset=['name','platform','year_of_release'], keep='first', inplace=True)"
   ]
  },
  {
   "cell_type": "markdown",
   "metadata": {},
   "source": [
    "### Приведение дат к нужному типу"
   ]
  },
  {
   "cell_type": "markdown",
   "metadata": {},
   "source": [
    "Поменяем в столбце `year_of_release` тип на *Int64*"
   ]
  },
  {
   "cell_type": "code",
   "execution_count": 10,
   "metadata": {},
   "outputs": [
    {
     "data": {
      "text/html": [
       "<div>\n",
       "<style scoped>\n",
       "    .dataframe tbody tr th:only-of-type {\n",
       "        vertical-align: middle;\n",
       "    }\n",
       "\n",
       "    .dataframe tbody tr th {\n",
       "        vertical-align: top;\n",
       "    }\n",
       "\n",
       "    .dataframe thead th {\n",
       "        text-align: right;\n",
       "    }\n",
       "</style>\n",
       "<table border=\"1\" class=\"dataframe\">\n",
       "  <thead>\n",
       "    <tr style=\"text-align: right;\">\n",
       "      <th></th>\n",
       "      <th>name</th>\n",
       "      <th>platform</th>\n",
       "      <th>year_of_release</th>\n",
       "      <th>genre</th>\n",
       "      <th>na_sales</th>\n",
       "      <th>eu_sales</th>\n",
       "      <th>jp_sales</th>\n",
       "      <th>other_sales</th>\n",
       "      <th>critic_score</th>\n",
       "      <th>user_score</th>\n",
       "      <th>rating</th>\n",
       "    </tr>\n",
       "  </thead>\n",
       "  <tbody>\n",
       "    <tr>\n",
       "      <th>0</th>\n",
       "      <td>Wii Sports</td>\n",
       "      <td>Wii</td>\n",
       "      <td>2006</td>\n",
       "      <td>Sports</td>\n",
       "      <td>41.36</td>\n",
       "      <td>28.96</td>\n",
       "      <td>3.77</td>\n",
       "      <td>8.45</td>\n",
       "      <td>76.00</td>\n",
       "      <td>8</td>\n",
       "      <td>E</td>\n",
       "    </tr>\n",
       "  </tbody>\n",
       "</table>\n",
       "</div>"
      ],
      "text/plain": [
       "         name platform  year_of_release   genre  na_sales  eu_sales  jp_sales  \\\n",
       "0  Wii Sports      Wii             2006  Sports     41.36     28.96      3.77   \n",
       "\n",
       "   other_sales  critic_score user_score rating  \n",
       "0         8.45         76.00          8      E  "
      ]
     },
     "execution_count": 10,
     "metadata": {},
     "output_type": "execute_result"
    }
   ],
   "source": [
    "df['year_of_release'] = df['year_of_release'].astype('Int32')\n",
    "df.head(1)"
   ]
  },
  {
   "cell_type": "markdown",
   "metadata": {},
   "source": [
    "В других столбцах пока менять типы не будем."
   ]
  },
  {
   "cell_type": "markdown",
   "metadata": {},
   "source": [
    "### Пропуски"
   ]
  },
  {
   "cell_type": "code",
   "execution_count": 11,
   "metadata": {},
   "outputs": [
    {
     "data": {
      "text/plain": [
       "name                  1\n",
       "platform              0\n",
       "year_of_release     269\n",
       "genre                 1\n",
       "na_sales              0\n",
       "eu_sales              0\n",
       "jp_sales              0\n",
       "other_sales           0\n",
       "critic_score       8577\n",
       "user_score         6700\n",
       "rating             6765\n",
       "dtype: int64"
      ]
     },
     "execution_count": 11,
     "metadata": {},
     "output_type": "execute_result"
    }
   ],
   "source": [
    "df.isna().sum()"
   ]
  },
  {
   "cell_type": "code",
   "execution_count": 12,
   "metadata": {},
   "outputs": [
    {
     "data": {
      "text/plain": [
       "<AxesSubplot:>"
      ]
     },
     "execution_count": 12,
     "metadata": {},
     "output_type": "execute_result"
    },
    {
     "data": {
      "image/png": "[encoded data removed]",
      "text/plain": [
       "<Figure size 1800x720 with 3 Axes>"
      ]
     },
     "metadata": {
      "needs_background": "light"
     },
     "output_type": "display_data"
    }
   ],
   "source": [
    "msno.bar(df)"
   ]
  },
  {
   "cell_type": "markdown",
   "metadata": {},
   "source": [
    "Пропуски в 6 столбцах, как не значительные, так и существенные (~ 40-50%).  \n",
    "Посмотрим подробнее."
   ]
  },
  {
   "cell_type": "markdown",
   "metadata": {},
   "source": [
    "#### name"
   ]
  },
  {
   "cell_type": "code",
   "execution_count": 13,
   "metadata": {
    "scrolled": true
   },
   "outputs": [
    {
     "data": {
      "text/html": [
       "<div>\n",
       "<style scoped>\n",
       "    .dataframe tbody tr th:only-of-type {\n",
       "        vertical-align: middle;\n",
       "    }\n",
       "\n",
       "    .dataframe tbody tr th {\n",
       "        vertical-align: top;\n",
       "    }\n",
       "\n",
       "    .dataframe thead th {\n",
       "        text-align: right;\n",
       "    }\n",
       "</style>\n",
       "<table border=\"1\" class=\"dataframe\">\n",
       "  <thead>\n",
       "    <tr style=\"text-align: right;\">\n",
       "      <th></th>\n",
       "      <th>name</th>\n",
       "      <th>platform</th>\n",
       "      <th>year_of_release</th>\n",
       "      <th>genre</th>\n",
       "      <th>na_sales</th>\n",
       "      <th>eu_sales</th>\n",
       "      <th>jp_sales</th>\n",
       "      <th>other_sales</th>\n",
       "      <th>critic_score</th>\n",
       "      <th>user_score</th>\n",
       "      <th>rating</th>\n",
       "    </tr>\n",
       "  </thead>\n",
       "  <tbody>\n",
       "    <tr>\n",
       "      <th>659</th>\n",
       "      <td>NaN</td>\n",
       "      <td>GEN</td>\n",
       "      <td>1993</td>\n",
       "      <td>NaN</td>\n",
       "      <td>1.78</td>\n",
       "      <td>0.53</td>\n",
       "      <td>0.00</td>\n",
       "      <td>0.08</td>\n",
       "      <td>NaN</td>\n",
       "      <td>NaN</td>\n",
       "      <td>NaN</td>\n",
       "    </tr>\n",
       "  </tbody>\n",
       "</table>\n",
       "</div>"
      ],
      "text/plain": [
       "    name platform  year_of_release genre  na_sales  eu_sales  jp_sales  \\\n",
       "659  NaN      GEN             1993   NaN      1.78      0.53      0.00   \n",
       "\n",
       "     other_sales  critic_score user_score rating  \n",
       "659         0.08           NaN        NaN    NaN  "
      ]
     },
     "execution_count": 13,
     "metadata": {},
     "output_type": "execute_result"
    }
   ],
   "source": [
    "df[df['name'].isna()]"
   ]
  },
  {
   "cell_type": "markdown",
   "metadata": {},
   "source": [
    "С данной строкой уже сталкивались, она не несет важной информации.  \n",
    "Удалим ее."
   ]
  },
  {
   "cell_type": "code",
   "execution_count": 14,
   "metadata": {},
   "outputs": [],
   "source": [
    "df.dropna(subset=['name'], inplace=True)"
   ]
  },
  {
   "cell_type": "markdown",
   "metadata": {},
   "source": [
    "#### year_of_release"
   ]
  },
  {
   "cell_type": "code",
   "execution_count": 15,
   "metadata": {},
   "outputs": [
    {
     "data": {
      "text/html": [
       "<div>\n",
       "<style scoped>\n",
       "    .dataframe tbody tr th:only-of-type {\n",
       "        vertical-align: middle;\n",
       "    }\n",
       "\n",
       "    .dataframe tbody tr th {\n",
       "        vertical-align: top;\n",
       "    }\n",
       "\n",
       "    .dataframe thead th {\n",
       "        text-align: right;\n",
       "    }\n",
       "</style>\n",
       "<table border=\"1\" class=\"dataframe\">\n",
       "  <thead>\n",
       "    <tr style=\"text-align: right;\">\n",
       "      <th></th>\n",
       "      <th>name</th>\n",
       "      <th>platform</th>\n",
       "      <th>year_of_release</th>\n",
       "      <th>genre</th>\n",
       "      <th>na_sales</th>\n",
       "      <th>eu_sales</th>\n",
       "      <th>jp_sales</th>\n",
       "      <th>other_sales</th>\n",
       "      <th>critic_score</th>\n",
       "      <th>user_score</th>\n",
       "      <th>rating</th>\n",
       "    </tr>\n",
       "  </thead>\n",
       "  <tbody>\n",
       "    <tr>\n",
       "      <th>183</th>\n",
       "      <td>Madden NFL 2004</td>\n",
       "      <td>PS2</td>\n",
       "      <td>&lt;NA&gt;</td>\n",
       "      <td>Sports</td>\n",
       "      <td>4.26</td>\n",
       "      <td>0.26</td>\n",
       "      <td>0.01</td>\n",
       "      <td>0.71</td>\n",
       "      <td>94.00</td>\n",
       "      <td>8.5</td>\n",
       "      <td>E</td>\n",
       "    </tr>\n",
       "    <tr>\n",
       "      <th>377</th>\n",
       "      <td>FIFA Soccer 2004</td>\n",
       "      <td>PS2</td>\n",
       "      <td>&lt;NA&gt;</td>\n",
       "      <td>Sports</td>\n",
       "      <td>0.59</td>\n",
       "      <td>2.36</td>\n",
       "      <td>0.04</td>\n",
       "      <td>0.51</td>\n",
       "      <td>84.00</td>\n",
       "      <td>6.4</td>\n",
       "      <td>E</td>\n",
       "    </tr>\n",
       "    <tr>\n",
       "      <th>456</th>\n",
       "      <td>LEGO Batman: The Videogame</td>\n",
       "      <td>Wii</td>\n",
       "      <td>&lt;NA&gt;</td>\n",
       "      <td>Action</td>\n",
       "      <td>1.80</td>\n",
       "      <td>0.97</td>\n",
       "      <td>0.00</td>\n",
       "      <td>0.29</td>\n",
       "      <td>74.00</td>\n",
       "      <td>7.9</td>\n",
       "      <td>E10+</td>\n",
       "    </tr>\n",
       "    <tr>\n",
       "      <th>475</th>\n",
       "      <td>wwe Smackdown vs. Raw 2006</td>\n",
       "      <td>PS2</td>\n",
       "      <td>&lt;NA&gt;</td>\n",
       "      <td>Fighting</td>\n",
       "      <td>1.57</td>\n",
       "      <td>1.02</td>\n",
       "      <td>0.00</td>\n",
       "      <td>0.41</td>\n",
       "      <td>NaN</td>\n",
       "      <td>NaN</td>\n",
       "      <td>NaN</td>\n",
       "    </tr>\n",
       "    <tr>\n",
       "      <th>609</th>\n",
       "      <td>Space Invaders</td>\n",
       "      <td>2600</td>\n",
       "      <td>&lt;NA&gt;</td>\n",
       "      <td>Shooter</td>\n",
       "      <td>2.36</td>\n",
       "      <td>0.14</td>\n",
       "      <td>0.00</td>\n",
       "      <td>0.03</td>\n",
       "      <td>NaN</td>\n",
       "      <td>NaN</td>\n",
       "      <td>NaN</td>\n",
       "    </tr>\n",
       "    <tr>\n",
       "      <th>627</th>\n",
       "      <td>Rock Band</td>\n",
       "      <td>X360</td>\n",
       "      <td>&lt;NA&gt;</td>\n",
       "      <td>Misc</td>\n",
       "      <td>1.93</td>\n",
       "      <td>0.33</td>\n",
       "      <td>0.00</td>\n",
       "      <td>0.21</td>\n",
       "      <td>92.00</td>\n",
       "      <td>8.2</td>\n",
       "      <td>T</td>\n",
       "    </tr>\n",
       "    <tr>\n",
       "      <th>657</th>\n",
       "      <td>Frogger's Adventures: Temple of the Frog</td>\n",
       "      <td>GBA</td>\n",
       "      <td>&lt;NA&gt;</td>\n",
       "      <td>Adventure</td>\n",
       "      <td>2.15</td>\n",
       "      <td>0.18</td>\n",
       "      <td>0.00</td>\n",
       "      <td>0.07</td>\n",
       "      <td>73.00</td>\n",
       "      <td>tbd</td>\n",
       "      <td>E</td>\n",
       "    </tr>\n",
       "    <tr>\n",
       "      <th>678</th>\n",
       "      <td>LEGO Indiana Jones: The Original Adventures</td>\n",
       "      <td>Wii</td>\n",
       "      <td>&lt;NA&gt;</td>\n",
       "      <td>Action</td>\n",
       "      <td>1.51</td>\n",
       "      <td>0.61</td>\n",
       "      <td>0.00</td>\n",
       "      <td>0.21</td>\n",
       "      <td>78.00</td>\n",
       "      <td>6.6</td>\n",
       "      <td>E10+</td>\n",
       "    </tr>\n",
       "    <tr>\n",
       "      <th>719</th>\n",
       "      <td>Call of Duty 3</td>\n",
       "      <td>Wii</td>\n",
       "      <td>&lt;NA&gt;</td>\n",
       "      <td>Shooter</td>\n",
       "      <td>1.17</td>\n",
       "      <td>0.84</td>\n",
       "      <td>0.00</td>\n",
       "      <td>0.23</td>\n",
       "      <td>69.00</td>\n",
       "      <td>6.7</td>\n",
       "      <td>T</td>\n",
       "    </tr>\n",
       "    <tr>\n",
       "      <th>805</th>\n",
       "      <td>Rock Band</td>\n",
       "      <td>Wii</td>\n",
       "      <td>&lt;NA&gt;</td>\n",
       "      <td>Misc</td>\n",
       "      <td>1.33</td>\n",
       "      <td>0.56</td>\n",
       "      <td>0.00</td>\n",
       "      <td>0.20</td>\n",
       "      <td>80.00</td>\n",
       "      <td>6.3</td>\n",
       "      <td>T</td>\n",
       "    </tr>\n",
       "    <tr>\n",
       "      <th>1131</th>\n",
       "      <td>Call of Duty: Black Ops</td>\n",
       "      <td>PC</td>\n",
       "      <td>&lt;NA&gt;</td>\n",
       "      <td>Shooter</td>\n",
       "      <td>0.58</td>\n",
       "      <td>0.81</td>\n",
       "      <td>0.00</td>\n",
       "      <td>0.23</td>\n",
       "      <td>81.00</td>\n",
       "      <td>5.2</td>\n",
       "      <td>M</td>\n",
       "    </tr>\n",
       "    <tr>\n",
       "      <th>1142</th>\n",
       "      <td>Rock Band</td>\n",
       "      <td>PS3</td>\n",
       "      <td>&lt;NA&gt;</td>\n",
       "      <td>Misc</td>\n",
       "      <td>0.99</td>\n",
       "      <td>0.41</td>\n",
       "      <td>0.00</td>\n",
       "      <td>0.22</td>\n",
       "      <td>92.00</td>\n",
       "      <td>8.4</td>\n",
       "      <td>T</td>\n",
       "    </tr>\n",
       "    <tr>\n",
       "      <th>1301</th>\n",
       "      <td>Triple Play 99</td>\n",
       "      <td>PS</td>\n",
       "      <td>&lt;NA&gt;</td>\n",
       "      <td>Sports</td>\n",
       "      <td>0.81</td>\n",
       "      <td>0.55</td>\n",
       "      <td>0.00</td>\n",
       "      <td>0.10</td>\n",
       "      <td>NaN</td>\n",
       "      <td>NaN</td>\n",
       "      <td>NaN</td>\n",
       "    </tr>\n",
       "    <tr>\n",
       "      <th>1506</th>\n",
       "      <td>Adventure</td>\n",
       "      <td>2600</td>\n",
       "      <td>&lt;NA&gt;</td>\n",
       "      <td>Adventure</td>\n",
       "      <td>1.21</td>\n",
       "      <td>0.08</td>\n",
       "      <td>0.00</td>\n",
       "      <td>0.01</td>\n",
       "      <td>NaN</td>\n",
       "      <td>NaN</td>\n",
       "      <td>NaN</td>\n",
       "    </tr>\n",
       "    <tr>\n",
       "      <th>1538</th>\n",
       "      <td>LEGO Batman: The Videogame</td>\n",
       "      <td>PSP</td>\n",
       "      <td>&lt;NA&gt;</td>\n",
       "      <td>Action</td>\n",
       "      <td>0.57</td>\n",
       "      <td>0.44</td>\n",
       "      <td>0.00</td>\n",
       "      <td>0.27</td>\n",
       "      <td>73.00</td>\n",
       "      <td>7.4</td>\n",
       "      <td>E10+</td>\n",
       "    </tr>\n",
       "    <tr>\n",
       "      <th>1585</th>\n",
       "      <td>Combat</td>\n",
       "      <td>2600</td>\n",
       "      <td>&lt;NA&gt;</td>\n",
       "      <td>Action</td>\n",
       "      <td>1.17</td>\n",
       "      <td>0.07</td>\n",
       "      <td>0.00</td>\n",
       "      <td>0.01</td>\n",
       "      <td>NaN</td>\n",
       "      <td>NaN</td>\n",
       "      <td>NaN</td>\n",
       "    </tr>\n",
       "    <tr>\n",
       "      <th>1609</th>\n",
       "      <td>LEGO Harry Potter: Years 5-7</td>\n",
       "      <td>Wii</td>\n",
       "      <td>&lt;NA&gt;</td>\n",
       "      <td>Action</td>\n",
       "      <td>0.69</td>\n",
       "      <td>0.42</td>\n",
       "      <td>0.00</td>\n",
       "      <td>0.12</td>\n",
       "      <td>76.00</td>\n",
       "      <td>7.8</td>\n",
       "      <td>E10+</td>\n",
       "    </tr>\n",
       "    <tr>\n",
       "      <th>1650</th>\n",
       "      <td>NASCAR Thunder 2003</td>\n",
       "      <td>PS2</td>\n",
       "      <td>&lt;NA&gt;</td>\n",
       "      <td>Racing</td>\n",
       "      <td>0.60</td>\n",
       "      <td>0.46</td>\n",
       "      <td>0.00</td>\n",
       "      <td>0.16</td>\n",
       "      <td>84.00</td>\n",
       "      <td>8.7</td>\n",
       "      <td>E</td>\n",
       "    </tr>\n",
       "    <tr>\n",
       "      <th>1699</th>\n",
       "      <td>Hitman 2: Silent Assassin</td>\n",
       "      <td>XB</td>\n",
       "      <td>&lt;NA&gt;</td>\n",
       "      <td>Action</td>\n",
       "      <td>0.76</td>\n",
       "      <td>0.38</td>\n",
       "      <td>0.00</td>\n",
       "      <td>0.05</td>\n",
       "      <td>84.00</td>\n",
       "      <td>8</td>\n",
       "      <td>M</td>\n",
       "    </tr>\n",
       "    <tr>\n",
       "      <th>1840</th>\n",
       "      <td>Rock Band</td>\n",
       "      <td>PS2</td>\n",
       "      <td>&lt;NA&gt;</td>\n",
       "      <td>Misc</td>\n",
       "      <td>0.71</td>\n",
       "      <td>0.06</td>\n",
       "      <td>0.00</td>\n",
       "      <td>0.35</td>\n",
       "      <td>82.00</td>\n",
       "      <td>6.8</td>\n",
       "      <td>T</td>\n",
       "    </tr>\n",
       "  </tbody>\n",
       "</table>\n",
       "</div>"
      ],
      "text/plain": [
       "                                             name platform  year_of_release  \\\n",
       "183                               Madden NFL 2004      PS2             <NA>   \n",
       "377                              FIFA Soccer 2004      PS2             <NA>   \n",
       "456                    LEGO Batman: The Videogame      Wii             <NA>   \n",
       "475                    wwe Smackdown vs. Raw 2006      PS2             <NA>   \n",
       "609                                Space Invaders     2600             <NA>   \n",
       "627                                     Rock Band     X360             <NA>   \n",
       "657      Frogger's Adventures: Temple of the Frog      GBA             <NA>   \n",
       "678   LEGO Indiana Jones: The Original Adventures      Wii             <NA>   \n",
       "719                                Call of Duty 3      Wii             <NA>   \n",
       "805                                     Rock Band      Wii             <NA>   \n",
       "1131                      Call of Duty: Black Ops       PC             <NA>   \n",
       "1142                                    Rock Band      PS3             <NA>   \n",
       "1301                               Triple Play 99       PS             <NA>   \n",
       "1506                                    Adventure     2600             <NA>   \n",
       "1538                   LEGO Batman: The Videogame      PSP             <NA>   \n",
       "1585                                       Combat     2600             <NA>   \n",
       "1609                 LEGO Harry Potter: Years 5-7      Wii             <NA>   \n",
       "1650                          NASCAR Thunder 2003      PS2             <NA>   \n",
       "1699                    Hitman 2: Silent Assassin       XB             <NA>   \n",
       "1840                                    Rock Band      PS2             <NA>   \n",
       "\n",
       "          genre  na_sales  eu_sales  jp_sales  other_sales  critic_score  \\\n",
       "183      Sports      4.26      0.26      0.01         0.71         94.00   \n",
       "377      Sports      0.59      2.36      0.04         0.51         84.00   \n",
       "456      Action      1.80      0.97      0.00         0.29         74.00   \n",
       "475    Fighting      1.57      1.02      0.00         0.41           NaN   \n",
       "609     Shooter      2.36      0.14      0.00         0.03           NaN   \n",
       "627        Misc      1.93      0.33      0.00         0.21         92.00   \n",
       "657   Adventure      2.15      0.18      0.00         0.07         73.00   \n",
       "678      Action      1.51      0.61      0.00         0.21         78.00   \n",
       "719     Shooter      1.17      0.84      0.00         0.23         69.00   \n",
       "805        Misc      1.33      0.56      0.00         0.20         80.00   \n",
       "1131    Shooter      0.58      0.81      0.00         0.23         81.00   \n",
       "1142       Misc      0.99      0.41      0.00         0.22         92.00   \n",
       "1301     Sports      0.81      0.55      0.00         0.10           NaN   \n",
       "1506  Adventure      1.21      0.08      0.00         0.01           NaN   \n",
       "1538     Action      0.57      0.44      0.00         0.27         73.00   \n",
       "1585     Action      1.17      0.07      0.00         0.01           NaN   \n",
       "1609     Action      0.69      0.42      0.00         0.12         76.00   \n",
       "1650     Racing      0.60      0.46      0.00         0.16         84.00   \n",
       "1699     Action      0.76      0.38      0.00         0.05         84.00   \n",
       "1840       Misc      0.71      0.06      0.00         0.35         82.00   \n",
       "\n",
       "     user_score rating  \n",
       "183         8.5      E  \n",
       "377         6.4      E  \n",
       "456         7.9   E10+  \n",
       "475         NaN    NaN  \n",
       "609         NaN    NaN  \n",
       "627         8.2      T  \n",
       "657         tbd      E  \n",
       "678         6.6   E10+  \n",
       "719         6.7      T  \n",
       "805         6.3      T  \n",
       "1131        5.2      M  \n",
       "1142        8.4      T  \n",
       "1301        NaN    NaN  \n",
       "1506        NaN    NaN  \n",
       "1538        7.4   E10+  \n",
       "1585        NaN    NaN  \n",
       "1609        7.8   E10+  \n",
       "1650        8.7      E  \n",
       "1699          8      M  \n",
       "1840        6.8      T  "
      ]
     },
     "execution_count": 15,
     "metadata": {},
     "output_type": "execute_result"
    }
   ],
   "source": [
    "df[df['year_of_release'].isna()].head(20)"
   ]
  },
  {
   "cell_type": "code",
   "execution_count": 16,
   "metadata": {
    "scrolled": true
   },
   "outputs": [
    {
     "name": "stdout",
     "output_type": "stream",
     "text": [
      "процент пропусков от всего датасета 1.61\n"
     ]
    }
   ],
   "source": [
    "print('процент пропусков от всего датасета', round(df['year_of_release'].isna().mean()*100,2))"
   ]
  },
  {
   "cell_type": "markdown",
   "metadata": {},
   "source": [
    "В данных с пропусками по году релиза за частую отсутствуют данные в оценках и рейтинге.  \n",
    "Так как заменить год достоверно мы не сможем, а процент пропусков от всего датасета 1.61%, то можно удалить данные строки."
   ]
  },
  {
   "cell_type": "code",
   "execution_count": 17,
   "metadata": {},
   "outputs": [],
   "source": [
    "df.dropna(subset=['year_of_release'], inplace=True)"
   ]
  },
  {
   "cell_type": "markdown",
   "metadata": {},
   "source": [
    "#### critic_score, user_score,\trating"
   ]
  },
  {
   "cell_type": "code",
   "execution_count": 18,
   "metadata": {},
   "outputs": [
    {
     "data": {
      "text/html": [
       "<div>\n",
       "<style scoped>\n",
       "    .dataframe tbody tr th:only-of-type {\n",
       "        vertical-align: middle;\n",
       "    }\n",
       "\n",
       "    .dataframe tbody tr th {\n",
       "        vertical-align: top;\n",
       "    }\n",
       "\n",
       "    .dataframe thead th {\n",
       "        text-align: right;\n",
       "    }\n",
       "</style>\n",
       "<table border=\"1\" class=\"dataframe\">\n",
       "  <thead>\n",
       "    <tr style=\"text-align: right;\">\n",
       "      <th></th>\n",
       "      <th>name</th>\n",
       "      <th>platform</th>\n",
       "      <th>year_of_release</th>\n",
       "      <th>genre</th>\n",
       "      <th>na_sales</th>\n",
       "      <th>eu_sales</th>\n",
       "      <th>jp_sales</th>\n",
       "      <th>other_sales</th>\n",
       "      <th>critic_score</th>\n",
       "      <th>user_score</th>\n",
       "      <th>rating</th>\n",
       "    </tr>\n",
       "  </thead>\n",
       "  <tbody>\n",
       "    <tr>\n",
       "      <th>1</th>\n",
       "      <td>Super Mario Bros.</td>\n",
       "      <td>NES</td>\n",
       "      <td>1985</td>\n",
       "      <td>Platform</td>\n",
       "      <td>29.08</td>\n",
       "      <td>3.58</td>\n",
       "      <td>6.81</td>\n",
       "      <td>0.77</td>\n",
       "      <td>NaN</td>\n",
       "      <td>NaN</td>\n",
       "      <td>NaN</td>\n",
       "    </tr>\n",
       "    <tr>\n",
       "      <th>4</th>\n",
       "      <td>Pokemon Red/Pokemon Blue</td>\n",
       "      <td>GB</td>\n",
       "      <td>1996</td>\n",
       "      <td>Role-Playing</td>\n",
       "      <td>11.27</td>\n",
       "      <td>8.89</td>\n",
       "      <td>10.22</td>\n",
       "      <td>1.00</td>\n",
       "      <td>NaN</td>\n",
       "      <td>NaN</td>\n",
       "      <td>NaN</td>\n",
       "    </tr>\n",
       "    <tr>\n",
       "      <th>5</th>\n",
       "      <td>Tetris</td>\n",
       "      <td>GB</td>\n",
       "      <td>1989</td>\n",
       "      <td>Puzzle</td>\n",
       "      <td>23.20</td>\n",
       "      <td>2.26</td>\n",
       "      <td>4.22</td>\n",
       "      <td>0.58</td>\n",
       "      <td>NaN</td>\n",
       "      <td>NaN</td>\n",
       "      <td>NaN</td>\n",
       "    </tr>\n",
       "    <tr>\n",
       "      <th>9</th>\n",
       "      <td>Duck Hunt</td>\n",
       "      <td>NES</td>\n",
       "      <td>1984</td>\n",
       "      <td>Shooter</td>\n",
       "      <td>26.93</td>\n",
       "      <td>0.63</td>\n",
       "      <td>0.28</td>\n",
       "      <td>0.47</td>\n",
       "      <td>NaN</td>\n",
       "      <td>NaN</td>\n",
       "      <td>NaN</td>\n",
       "    </tr>\n",
       "    <tr>\n",
       "      <th>10</th>\n",
       "      <td>Nintendogs</td>\n",
       "      <td>DS</td>\n",
       "      <td>2005</td>\n",
       "      <td>Simulation</td>\n",
       "      <td>9.05</td>\n",
       "      <td>10.95</td>\n",
       "      <td>1.93</td>\n",
       "      <td>2.74</td>\n",
       "      <td>NaN</td>\n",
       "      <td>NaN</td>\n",
       "      <td>NaN</td>\n",
       "    </tr>\n",
       "    <tr>\n",
       "      <th>...</th>\n",
       "      <td>...</td>\n",
       "      <td>...</td>\n",
       "      <td>...</td>\n",
       "      <td>...</td>\n",
       "      <td>...</td>\n",
       "      <td>...</td>\n",
       "      <td>...</td>\n",
       "      <td>...</td>\n",
       "      <td>...</td>\n",
       "      <td>...</td>\n",
       "      <td>...</td>\n",
       "    </tr>\n",
       "    <tr>\n",
       "      <th>16710</th>\n",
       "      <td>Samurai Warriors: Sanada Maru</td>\n",
       "      <td>PS3</td>\n",
       "      <td>2016</td>\n",
       "      <td>Action</td>\n",
       "      <td>0.00</td>\n",
       "      <td>0.00</td>\n",
       "      <td>0.01</td>\n",
       "      <td>0.00</td>\n",
       "      <td>NaN</td>\n",
       "      <td>NaN</td>\n",
       "      <td>NaN</td>\n",
       "    </tr>\n",
       "    <tr>\n",
       "      <th>16711</th>\n",
       "      <td>LMA Manager 2007</td>\n",
       "      <td>X360</td>\n",
       "      <td>2006</td>\n",
       "      <td>Sports</td>\n",
       "      <td>0.00</td>\n",
       "      <td>0.01</td>\n",
       "      <td>0.00</td>\n",
       "      <td>0.00</td>\n",
       "      <td>NaN</td>\n",
       "      <td>NaN</td>\n",
       "      <td>NaN</td>\n",
       "    </tr>\n",
       "    <tr>\n",
       "      <th>16712</th>\n",
       "      <td>Haitaka no Psychedelica</td>\n",
       "      <td>PSV</td>\n",
       "      <td>2016</td>\n",
       "      <td>Adventure</td>\n",
       "      <td>0.00</td>\n",
       "      <td>0.00</td>\n",
       "      <td>0.01</td>\n",
       "      <td>0.00</td>\n",
       "      <td>NaN</td>\n",
       "      <td>NaN</td>\n",
       "      <td>NaN</td>\n",
       "    </tr>\n",
       "    <tr>\n",
       "      <th>16713</th>\n",
       "      <td>Spirits &amp; Spells</td>\n",
       "      <td>GBA</td>\n",
       "      <td>2003</td>\n",
       "      <td>Platform</td>\n",
       "      <td>0.01</td>\n",
       "      <td>0.00</td>\n",
       "      <td>0.00</td>\n",
       "      <td>0.00</td>\n",
       "      <td>NaN</td>\n",
       "      <td>NaN</td>\n",
       "      <td>NaN</td>\n",
       "    </tr>\n",
       "    <tr>\n",
       "      <th>16714</th>\n",
       "      <td>Winning Post 8 2016</td>\n",
       "      <td>PSV</td>\n",
       "      <td>2016</td>\n",
       "      <td>Simulation</td>\n",
       "      <td>0.00</td>\n",
       "      <td>0.00</td>\n",
       "      <td>0.01</td>\n",
       "      <td>0.00</td>\n",
       "      <td>NaN</td>\n",
       "      <td>NaN</td>\n",
       "      <td>NaN</td>\n",
       "    </tr>\n",
       "  </tbody>\n",
       "</table>\n",
       "<p>8461 rows × 11 columns</p>\n",
       "</div>"
      ],
      "text/plain": [
       "                                name platform  year_of_release         genre  \\\n",
       "1                  Super Mario Bros.      NES             1985      Platform   \n",
       "4           Pokemon Red/Pokemon Blue       GB             1996  Role-Playing   \n",
       "5                             Tetris       GB             1989        Puzzle   \n",
       "9                          Duck Hunt      NES             1984       Shooter   \n",
       "10                        Nintendogs       DS             2005    Simulation   \n",
       "...                              ...      ...              ...           ...   \n",
       "16710  Samurai Warriors: Sanada Maru      PS3             2016        Action   \n",
       "16711               LMA Manager 2007     X360             2006        Sports   \n",
       "16712        Haitaka no Psychedelica      PSV             2016     Adventure   \n",
       "16713               Spirits & Spells      GBA             2003      Platform   \n",
       "16714            Winning Post 8 2016      PSV             2016    Simulation   \n",
       "\n",
       "       na_sales  eu_sales  jp_sales  other_sales  critic_score user_score  \\\n",
       "1         29.08      3.58      6.81         0.77           NaN        NaN   \n",
       "4         11.27      8.89     10.22         1.00           NaN        NaN   \n",
       "5         23.20      2.26      4.22         0.58           NaN        NaN   \n",
       "9         26.93      0.63      0.28         0.47           NaN        NaN   \n",
       "10         9.05     10.95      1.93         2.74           NaN        NaN   \n",
       "...         ...       ...       ...          ...           ...        ...   \n",
       "16710      0.00      0.00      0.01         0.00           NaN        NaN   \n",
       "16711      0.00      0.01      0.00         0.00           NaN        NaN   \n",
       "16712      0.00      0.00      0.01         0.00           NaN        NaN   \n",
       "16713      0.01      0.00      0.00         0.00           NaN        NaN   \n",
       "16714      0.00      0.00      0.01         0.00           NaN        NaN   \n",
       "\n",
       "      rating  \n",
       "1        NaN  \n",
       "4        NaN  \n",
       "5        NaN  \n",
       "9        NaN  \n",
       "10       NaN  \n",
       "...      ...  \n",
       "16710    NaN  \n",
       "16711    NaN  \n",
       "16712    NaN  \n",
       "16713    NaN  \n",
       "16714    NaN  \n",
       "\n",
       "[8461 rows x 11 columns]"
      ]
     },
     "execution_count": 18,
     "metadata": {},
     "output_type": "execute_result"
    }
   ],
   "source": [
    "df[df['critic_score'].isna()]"
   ]
  },
  {
   "cell_type": "markdown",
   "metadata": {},
   "source": [
    "Пропуски в столбцах `critic_score`,`user_score`\tи `rating` часто совпадают. Пропуски есть независимо от того новая это игра или старая, на какой платформе можно в нее поиграть, и к какому жанру относиться. \n",
    "Однако заменить их на достоверные значения не получится, так что в столбцах `critic_score`, `user_score` оставим без изменений, а в `rating` заменим на заглушку."
   ]
  },
  {
   "cell_type": "code",
   "execution_count": 19,
   "metadata": {},
   "outputs": [],
   "source": [
    "df['rating'] = df['rating'].fillna('Unknown')"
   ]
  },
  {
   "cell_type": "markdown",
   "metadata": {},
   "source": [
    "### Обзор значений столбцов"
   ]
  },
  {
   "cell_type": "markdown",
   "metadata": {},
   "source": [
    "#### name"
   ]
  },
  {
   "cell_type": "code",
   "execution_count": 20,
   "metadata": {},
   "outputs": [
    {
     "data": {
      "text/plain": [
       "Need for Speed: Most Wanted                12\n",
       "LEGO Marvel Super Heroes                    9\n",
       "Ratatouille                                 9\n",
       "FIFA 14                                     9\n",
       "LEGO Star Wars II: The Original Trilogy     8\n",
       "                                           ..\n",
       "Mahjong Master                              1\n",
       "Ken to Mahou to Gakuen Mono. 3D             1\n",
       "Naruto: Clash of Ninja (JP sales)           1\n",
       "Super Batter Up                             1\n",
       "Kirby: Planet Robobot                       1\n",
       "Name: name, Length: 11426, dtype: int64"
      ]
     },
     "execution_count": 20,
     "metadata": {},
     "output_type": "execute_result"
    }
   ],
   "source": [
    "df['name'].value_counts()"
   ]
  },
  {
   "cell_type": "markdown",
   "metadata": {},
   "source": [
    "Посмотрим строки с большим количеством упоминаний."
   ]
  },
  {
   "cell_type": "code",
   "execution_count": 21,
   "metadata": {
    "scrolled": true
   },
   "outputs": [
    {
     "data": {
      "text/html": [
       "<div>\n",
       "<style scoped>\n",
       "    .dataframe tbody tr th:only-of-type {\n",
       "        vertical-align: middle;\n",
       "    }\n",
       "\n",
       "    .dataframe tbody tr th {\n",
       "        vertical-align: top;\n",
       "    }\n",
       "\n",
       "    .dataframe thead th {\n",
       "        text-align: right;\n",
       "    }\n",
       "</style>\n",
       "<table border=\"1\" class=\"dataframe\">\n",
       "  <thead>\n",
       "    <tr style=\"text-align: right;\">\n",
       "      <th></th>\n",
       "      <th>name</th>\n",
       "      <th>platform</th>\n",
       "      <th>year_of_release</th>\n",
       "      <th>genre</th>\n",
       "      <th>na_sales</th>\n",
       "      <th>eu_sales</th>\n",
       "      <th>jp_sales</th>\n",
       "      <th>other_sales</th>\n",
       "      <th>critic_score</th>\n",
       "      <th>user_score</th>\n",
       "      <th>rating</th>\n",
       "    </tr>\n",
       "  </thead>\n",
       "  <tbody>\n",
       "    <tr>\n",
       "      <th>253</th>\n",
       "      <td>Need for Speed: Most Wanted</td>\n",
       "      <td>PS2</td>\n",
       "      <td>2005</td>\n",
       "      <td>Racing</td>\n",
       "      <td>2.03</td>\n",
       "      <td>1.79</td>\n",
       "      <td>0.08</td>\n",
       "      <td>0.47</td>\n",
       "      <td>82.00</td>\n",
       "      <td>9.1</td>\n",
       "      <td>T</td>\n",
       "    </tr>\n",
       "    <tr>\n",
       "      <th>523</th>\n",
       "      <td>Need for Speed: Most Wanted</td>\n",
       "      <td>PS3</td>\n",
       "      <td>2012</td>\n",
       "      <td>Racing</td>\n",
       "      <td>0.71</td>\n",
       "      <td>1.46</td>\n",
       "      <td>0.06</td>\n",
       "      <td>0.58</td>\n",
       "      <td>NaN</td>\n",
       "      <td>NaN</td>\n",
       "      <td>Unknown</td>\n",
       "    </tr>\n",
       "    <tr>\n",
       "      <th>1190</th>\n",
       "      <td>Need for Speed: Most Wanted</td>\n",
       "      <td>X360</td>\n",
       "      <td>2012</td>\n",
       "      <td>Racing</td>\n",
       "      <td>0.62</td>\n",
       "      <td>0.78</td>\n",
       "      <td>0.01</td>\n",
       "      <td>0.15</td>\n",
       "      <td>83.00</td>\n",
       "      <td>8.5</td>\n",
       "      <td>T</td>\n",
       "    </tr>\n",
       "    <tr>\n",
       "      <th>1591</th>\n",
       "      <td>Need for Speed: Most Wanted</td>\n",
       "      <td>X360</td>\n",
       "      <td>2005</td>\n",
       "      <td>Racing</td>\n",
       "      <td>1.00</td>\n",
       "      <td>0.13</td>\n",
       "      <td>0.02</td>\n",
       "      <td>0.10</td>\n",
       "      <td>83.00</td>\n",
       "      <td>8.5</td>\n",
       "      <td>T</td>\n",
       "    </tr>\n",
       "    <tr>\n",
       "      <th>1998</th>\n",
       "      <td>Need for Speed: Most Wanted</td>\n",
       "      <td>XB</td>\n",
       "      <td>2005</td>\n",
       "      <td>Racing</td>\n",
       "      <td>0.53</td>\n",
       "      <td>0.46</td>\n",
       "      <td>0.00</td>\n",
       "      <td>0.05</td>\n",
       "      <td>83.00</td>\n",
       "      <td>8.8</td>\n",
       "      <td>T</td>\n",
       "    </tr>\n",
       "    <tr>\n",
       "      <th>2048</th>\n",
       "      <td>Need for Speed: Most Wanted</td>\n",
       "      <td>PSV</td>\n",
       "      <td>2012</td>\n",
       "      <td>Racing</td>\n",
       "      <td>0.33</td>\n",
       "      <td>0.45</td>\n",
       "      <td>0.01</td>\n",
       "      <td>0.22</td>\n",
       "      <td>NaN</td>\n",
       "      <td>NaN</td>\n",
       "      <td>Unknown</td>\n",
       "    </tr>\n",
       "    <tr>\n",
       "      <th>3581</th>\n",
       "      <td>Need for Speed: Most Wanted</td>\n",
       "      <td>GC</td>\n",
       "      <td>2005</td>\n",
       "      <td>Racing</td>\n",
       "      <td>0.43</td>\n",
       "      <td>0.11</td>\n",
       "      <td>0.00</td>\n",
       "      <td>0.02</td>\n",
       "      <td>80.00</td>\n",
       "      <td>9.1</td>\n",
       "      <td>T</td>\n",
       "    </tr>\n",
       "    <tr>\n",
       "      <th>5972</th>\n",
       "      <td>Need for Speed: Most Wanted</td>\n",
       "      <td>PC</td>\n",
       "      <td>2005</td>\n",
       "      <td>Racing</td>\n",
       "      <td>0.02</td>\n",
       "      <td>0.23</td>\n",
       "      <td>0.00</td>\n",
       "      <td>0.04</td>\n",
       "      <td>82.00</td>\n",
       "      <td>8.5</td>\n",
       "      <td>T</td>\n",
       "    </tr>\n",
       "    <tr>\n",
       "      <th>6273</th>\n",
       "      <td>Need for Speed: Most Wanted</td>\n",
       "      <td>WiiU</td>\n",
       "      <td>2013</td>\n",
       "      <td>Racing</td>\n",
       "      <td>0.13</td>\n",
       "      <td>0.12</td>\n",
       "      <td>0.00</td>\n",
       "      <td>0.02</td>\n",
       "      <td>NaN</td>\n",
       "      <td>NaN</td>\n",
       "      <td>Unknown</td>\n",
       "    </tr>\n",
       "    <tr>\n",
       "      <th>6410</th>\n",
       "      <td>Need for Speed: Most Wanted</td>\n",
       "      <td>DS</td>\n",
       "      <td>2005</td>\n",
       "      <td>Racing</td>\n",
       "      <td>0.24</td>\n",
       "      <td>0.01</td>\n",
       "      <td>0.00</td>\n",
       "      <td>0.02</td>\n",
       "      <td>45.00</td>\n",
       "      <td>6.1</td>\n",
       "      <td>E</td>\n",
       "    </tr>\n",
       "    <tr>\n",
       "      <th>6473</th>\n",
       "      <td>Need for Speed: Most Wanted</td>\n",
       "      <td>GBA</td>\n",
       "      <td>2005</td>\n",
       "      <td>Racing</td>\n",
       "      <td>0.19</td>\n",
       "      <td>0.07</td>\n",
       "      <td>0.00</td>\n",
       "      <td>0.00</td>\n",
       "      <td>NaN</td>\n",
       "      <td>8.3</td>\n",
       "      <td>E</td>\n",
       "    </tr>\n",
       "    <tr>\n",
       "      <th>11715</th>\n",
       "      <td>Need for Speed: Most Wanted</td>\n",
       "      <td>PC</td>\n",
       "      <td>2012</td>\n",
       "      <td>Racing</td>\n",
       "      <td>0.00</td>\n",
       "      <td>0.06</td>\n",
       "      <td>0.00</td>\n",
       "      <td>0.02</td>\n",
       "      <td>82.00</td>\n",
       "      <td>8.5</td>\n",
       "      <td>T</td>\n",
       "    </tr>\n",
       "  </tbody>\n",
       "</table>\n",
       "</div>"
      ],
      "text/plain": [
       "                              name platform  year_of_release   genre  \\\n",
       "253    Need for Speed: Most Wanted      PS2             2005  Racing   \n",
       "523    Need for Speed: Most Wanted      PS3             2012  Racing   \n",
       "1190   Need for Speed: Most Wanted     X360             2012  Racing   \n",
       "1591   Need for Speed: Most Wanted     X360             2005  Racing   \n",
       "1998   Need for Speed: Most Wanted       XB             2005  Racing   \n",
       "2048   Need for Speed: Most Wanted      PSV             2012  Racing   \n",
       "3581   Need for Speed: Most Wanted       GC             2005  Racing   \n",
       "5972   Need for Speed: Most Wanted       PC             2005  Racing   \n",
       "6273   Need for Speed: Most Wanted     WiiU             2013  Racing   \n",
       "6410   Need for Speed: Most Wanted       DS             2005  Racing   \n",
       "6473   Need for Speed: Most Wanted      GBA             2005  Racing   \n",
       "11715  Need for Speed: Most Wanted       PC             2012  Racing   \n",
       "\n",
       "       na_sales  eu_sales  jp_sales  other_sales  critic_score user_score  \\\n",
       "253        2.03      1.79      0.08         0.47         82.00        9.1   \n",
       "523        0.71      1.46      0.06         0.58           NaN        NaN   \n",
       "1190       0.62      0.78      0.01         0.15         83.00        8.5   \n",
       "1591       1.00      0.13      0.02         0.10         83.00        8.5   \n",
       "1998       0.53      0.46      0.00         0.05         83.00        8.8   \n",
       "2048       0.33      0.45      0.01         0.22           NaN        NaN   \n",
       "3581       0.43      0.11      0.00         0.02         80.00        9.1   \n",
       "5972       0.02      0.23      0.00         0.04         82.00        8.5   \n",
       "6273       0.13      0.12      0.00         0.02           NaN        NaN   \n",
       "6410       0.24      0.01      0.00         0.02         45.00        6.1   \n",
       "6473       0.19      0.07      0.00         0.00           NaN        8.3   \n",
       "11715      0.00      0.06      0.00         0.02         82.00        8.5   \n",
       "\n",
       "        rating  \n",
       "253          T  \n",
       "523    Unknown  \n",
       "1190         T  \n",
       "1591         T  \n",
       "1998         T  \n",
       "2048   Unknown  \n",
       "3581         T  \n",
       "5972         T  \n",
       "6273   Unknown  \n",
       "6410         E  \n",
       "6473         E  \n",
       "11715        T  "
      ]
     },
     "execution_count": 21,
     "metadata": {},
     "output_type": "execute_result"
    }
   ],
   "source": [
    "df.query('name == \"Need for Speed: Most Wanted\"')"
   ]
  },
  {
   "cell_type": "markdown",
   "metadata": {},
   "source": [
    "Названия некоторых игр повторяются - это связано с тем, что игры могли выходить в разные года или для разных платформ.  Так же некоторые игры представлены один раз."
   ]
  },
  {
   "cell_type": "markdown",
   "metadata": {},
   "source": [
    "#### platform"
   ]
  },
  {
   "cell_type": "code",
   "execution_count": 22,
   "metadata": {},
   "outputs": [
    {
     "data": {
      "text/plain": [
       "2600     116\n",
       "3DO        3\n",
       "3DS      512\n",
       "DC        52\n",
       "DS      2121\n",
       "GB        97\n",
       "GBA      811\n",
       "GC       542\n",
       "GEN       27\n",
       "GG         1\n",
       "N64      316\n",
       "NES       98\n",
       "NG        12\n",
       "PC       957\n",
       "PCFX       1\n",
       "PS      1190\n",
       "PS2     2127\n",
       "PS3     1305\n",
       "PS4      392\n",
       "PSP     1193\n",
       "PSV      429\n",
       "SAT      173\n",
       "SCD        6\n",
       "SNES     239\n",
       "TG16       2\n",
       "WS         6\n",
       "Wii     1286\n",
       "WiiU     147\n",
       "X360    1232\n",
       "XB       803\n",
       "XOne     247\n",
       "Name: platform, dtype: int64"
      ]
     },
     "execution_count": 22,
     "metadata": {},
     "output_type": "execute_result"
    }
   ],
   "source": [
    "df['platform'].value_counts().sort_index()"
   ]
  },
  {
   "cell_type": "markdown",
   "metadata": {},
   "source": [
    "Всего 31 платформа.  \n",
    "Есть платформы, для которых разрабатывают игры чаще; для некоторых платформ количество игр ограничено."
   ]
  },
  {
   "cell_type": "markdown",
   "metadata": {},
   "source": [
    "#### year_of_release"
   ]
  },
  {
   "cell_type": "code",
   "execution_count": 23,
   "metadata": {},
   "outputs": [
    {
     "data": {
      "text/plain": [
       "<IntegerArray>\n",
       "[1980, 1981, 1982, 1983, 1984, 1985, 1986, 1987, 1988, 1989, 1990, 1991, 1992,\n",
       " 1993, 1994, 1995, 1996, 1997, 1998, 1999, 2000, 2001, 2002, 2003, 2004, 2005,\n",
       " 2006, 2007, 2008, 2009, 2010, 2011, 2012, 2013, 2014, 2015, 2016]\n",
       "Length: 37, dtype: Int32"
      ]
     },
     "execution_count": 23,
     "metadata": {},
     "output_type": "execute_result"
    }
   ],
   "source": [
    "df['year_of_release'].sort_values().unique()"
   ]
  },
  {
   "cell_type": "markdown",
   "metadata": {},
   "source": [
    "Игры представлены за период с 1980г по 2016.  \n",
    "Посмотрим рапределение."
   ]
  },
  {
   "cell_type": "code",
   "execution_count": 24,
   "metadata": {},
   "outputs": [
    {
     "data": {
      "image/png": "[encoded data removed]",
      "text/plain": [
       "<Figure size 432x288 with 1 Axes>"
      ]
     },
     "metadata": {
      "needs_background": "light"
     },
     "output_type": "display_data"
    }
   ],
   "source": [
    "df['year_of_release'].hist()\n",
    "plt.title('Распределение по году релиза',fontsize=13)\n",
    "plt.show()"
   ]
  },
  {
   "cell_type": "markdown",
   "metadata": {},
   "source": [
    "До 1995г игр представлено мало, возможно их мало выпускалось. Затем количество стремительно увеличивается, пик приходиться на 2010г."
   ]
  },
  {
   "cell_type": "markdown",
   "metadata": {},
   "source": [
    "#### genre"
   ]
  },
  {
   "cell_type": "code",
   "execution_count": 25,
   "metadata": {},
   "outputs": [
    {
     "data": {
      "text/plain": [
       "array(['Action', 'Adventure', 'Fighting', 'Misc', 'Platform', 'Puzzle',\n",
       "       'Racing', 'Role-Playing', 'Shooter', 'Simulation', 'Sports',\n",
       "       'Strategy'], dtype=object)"
      ]
     },
     "execution_count": 25,
     "metadata": {},
     "output_type": "execute_result"
    }
   ],
   "source": [
    "df['genre'].sort_values().unique()"
   ]
  },
  {
   "cell_type": "markdown",
   "metadata": {},
   "source": [
    "Представлено 12 жанров: \"Экшн\", \"Приключения\", \"Борьба\", \"Разное\", \"Платформа\", \"Головоломка\",\n",
    "\"Гонки\", \"Ролевые игры\", \"Шутер\", \"Симулятор\", \"Спорт\", \"Стратегия\"."
   ]
  },
  {
   "cell_type": "markdown",
   "metadata": {},
   "source": [
    "#### critic_score"
   ]
  },
  {
   "cell_type": "code",
   "execution_count": 26,
   "metadata": {},
   "outputs": [
    {
     "data": {
      "text/plain": [
       "array([13., 17., 19., 20., 21., 23., 24., 25., 26., 27., 28., 29., 30.,\n",
       "       31., 32., 33., 34., 35., 36., 37., 38., 39., 40., 41., 42., 43.,\n",
       "       44., 45., 46., 47., 48., 49., 50., 51., 52., 53., 54., 55., 56.,\n",
       "       57., 58., 59., 60., 61., 62., 63., 64., 65., 66., 67., 68., 69.,\n",
       "       70., 71., 72., 73., 74., 75., 76., 77., 78., 79., 80., 81., 82.,\n",
       "       83., 84., 85., 86., 87., 88., 89., 90., 91., 92., 93., 94., 95.,\n",
       "       96., 97., 98., nan])"
      ]
     },
     "execution_count": 26,
     "metadata": {},
     "output_type": "execute_result"
    }
   ],
   "source": [
    "df['critic_score'].sort_values().unique()"
   ]
  },
  {
   "cell_type": "markdown",
   "metadata": {},
   "source": [
    "Оценка критиков находится в диапазоне от 13 до 98 баллов."
   ]
  },
  {
   "cell_type": "markdown",
   "metadata": {},
   "source": [
    "#### user_score"
   ]
  },
  {
   "cell_type": "code",
   "execution_count": 27,
   "metadata": {},
   "outputs": [
    {
     "data": {
      "text/plain": [
       "array(['0', '0.2', '0.3', '0.5', '0.6', '0.7', '0.9', '1', '1.1', '1.2',\n",
       "       '1.3', '1.4', '1.5', '1.6', '1.7', '1.8', '1.9', '2', '2.1', '2.2',\n",
       "       '2.3', '2.4', '2.5', '2.6', '2.7', '2.8', '2.9', '3', '3.1', '3.2',\n",
       "       '3.3', '3.4', '3.5', '3.6', '3.7', '3.8', '3.9', '4', '4.1', '4.2',\n",
       "       '4.3', '4.4', '4.5', '4.6', '4.7', '4.8', '4.9', '5', '5.1', '5.2',\n",
       "       '5.3', '5.4', '5.5', '5.6', '5.7', '5.8', '5.9', '6', '6.1', '6.2',\n",
       "       '6.3', '6.4', '6.5', '6.6', '6.7', '6.8', '6.9', '7', '7.1', '7.2',\n",
       "       '7.3', '7.4', '7.5', '7.6', '7.7', '7.8', '7.9', '8', '8.1', '8.2',\n",
       "       '8.3', '8.4', '8.5', '8.6', '8.7', '8.8', '8.9', '9', '9.1', '9.2',\n",
       "       '9.3', '9.4', '9.5', '9.6', '9.7', 'tbd', nan], dtype=object)"
      ]
     },
     "execution_count": 27,
     "metadata": {},
     "output_type": "execute_result"
    }
   ],
   "source": [
    "df['user_score'].sort_values().unique()"
   ]
  },
  {
   "cell_type": "markdown",
   "metadata": {},
   "source": [
    "Оценка пользователей находится в диапазоне от 0 до 9.7 баллов.  \n",
    "\n",
    "Мы обнаружили аббревиатуру \"tbd\", что означает \"рейтинг не определен\". Можно просто заменить на *nan*  \n",
    "И изменить тип данных на *float*"
   ]
  },
  {
   "cell_type": "code",
   "execution_count": 28,
   "metadata": {},
   "outputs": [],
   "source": [
    "df.loc[df['user_score'] == 'tbd', 'user_score'] = np.nan\n",
    "df['user_score'] = df['user_score'].astype('float')"
   ]
  },
  {
   "cell_type": "markdown",
   "metadata": {},
   "source": [
    "#### rating"
   ]
  },
  {
   "cell_type": "code",
   "execution_count": 29,
   "metadata": {},
   "outputs": [
    {
     "data": {
      "text/plain": [
       "array(['AO', 'E', 'E10+', 'EC', 'K-A', 'M', 'RP', 'T', 'Unknown'],\n",
       "      dtype=object)"
      ]
     },
     "execution_count": 29,
     "metadata": {},
     "output_type": "execute_result"
    }
   ],
   "source": [
    "df['rating'].sort_values().unique()"
   ]
  },
  {
   "cell_type": "markdown",
   "metadata": {},
   "source": [
    "ESRB присваивает следующие рейтинги:  \n",
    "\n",
    "* «EC» («Early childhood») — «Для детей младшего возраста» \n",
    "* «E» («Everyone») — «Для всех»\n",
    "* «E10+» («Everyone 10 and older») — «Для всех от 10 лет и старше»\n",
    "* «T» («Teen») — «Подросткам»\n",
    "* «M» («Mature») — «Для взрослых»\n",
    "* «AO» («Adults Only 18+») — «Только для взрослых»\n",
    "* «RP» («Rating Pending») — «Рейтинг ожидается»\n",
    "* K-A - старый вариант маркировки E (for everyone)"
   ]
  },
  {
   "cell_type": "code",
   "execution_count": 30,
   "metadata": {},
   "outputs": [
    {
     "data": {
      "text/plain": [
       "Unknown    6676\n",
       "E          3920\n",
       "T          2905\n",
       "M          1536\n",
       "E10+       1393\n",
       "EC            8\n",
       "K-A           3\n",
       "RP            1\n",
       "AO            1\n",
       "Name: rating, dtype: int64"
      ]
     },
     "execution_count": 30,
     "metadata": {},
     "output_type": "execute_result"
    }
   ],
   "source": [
    "df.rating.value_counts()"
   ]
  },
  {
   "cell_type": "markdown",
   "metadata": {},
   "source": [
    "Маркировок 'RP', 'K-A' и 'AO' мало.\n",
    "Исходя из этого можно заменить 'RP' на 'Unknown', 'K-A' на 'E', 'AO' на 'M'.  \n",
    "Категория 'EC' тоже малочисленна, к сожалению ее не скем объединить."
   ]
  },
  {
   "cell_type": "code",
   "execution_count": 31,
   "metadata": {},
   "outputs": [],
   "source": [
    "df.loc[df['rating'] == 'RP', 'rating'] = 'unknown'\n",
    "df.loc[df['rating'].isin(['K-A']), 'rating'] = 'E'\n",
    "df.loc[df['rating'].isin(['AO']), 'rating'] = 'M'"
   ]
  },
  {
   "cell_type": "markdown",
   "metadata": {},
   "source": [
    "#### na_sales"
   ]
  },
  {
   "cell_type": "code",
   "execution_count": 32,
   "metadata": {},
   "outputs": [
    {
     "data": {
      "text/html": [
       "<div>\n",
       "<style scoped>\n",
       "    .dataframe tbody tr th:only-of-type {\n",
       "        vertical-align: middle;\n",
       "    }\n",
       "\n",
       "    .dataframe tbody tr th {\n",
       "        vertical-align: top;\n",
       "    }\n",
       "\n",
       "    .dataframe thead th {\n",
       "        text-align: right;\n",
       "    }\n",
       "</style>\n",
       "<table border=\"1\" class=\"dataframe\">\n",
       "  <thead>\n",
       "    <tr style=\"text-align: right;\">\n",
       "      <th></th>\n",
       "      <th>na_sales</th>\n",
       "    </tr>\n",
       "  </thead>\n",
       "  <tbody>\n",
       "    <tr>\n",
       "      <th>count</th>\n",
       "      <td>16,443.00</td>\n",
       "    </tr>\n",
       "    <tr>\n",
       "      <th>mean</th>\n",
       "      <td>0.26</td>\n",
       "    </tr>\n",
       "    <tr>\n",
       "      <th>std</th>\n",
       "      <td>0.82</td>\n",
       "    </tr>\n",
       "    <tr>\n",
       "      <th>min</th>\n",
       "      <td>0.00</td>\n",
       "    </tr>\n",
       "    <tr>\n",
       "      <th>25%</th>\n",
       "      <td>0.00</td>\n",
       "    </tr>\n",
       "    <tr>\n",
       "      <th>50%</th>\n",
       "      <td>0.08</td>\n",
       "    </tr>\n",
       "    <tr>\n",
       "      <th>75%</th>\n",
       "      <td>0.24</td>\n",
       "    </tr>\n",
       "    <tr>\n",
       "      <th>max</th>\n",
       "      <td>41.36</td>\n",
       "    </tr>\n",
       "  </tbody>\n",
       "</table>\n",
       "</div>"
      ],
      "text/plain": [
       "       na_sales\n",
       "count 16,443.00\n",
       "mean       0.26\n",
       "std        0.82\n",
       "min        0.00\n",
       "25%        0.00\n",
       "50%        0.08\n",
       "75%        0.24\n",
       "max       41.36"
      ]
     },
     "execution_count": 32,
     "metadata": {},
     "output_type": "execute_result"
    }
   ],
   "source": [
    "df[['na_sales']].describe()"
   ]
  },
  {
   "cell_type": "markdown",
   "metadata": {},
   "source": [
    "Продажи в Северной Америке:  \n",
    "В 25% случаях цена либо не указана, либо действительно 0.  \n",
    "Максимальное значение - 41.3 млн.проданных копий.  \n",
    "Большая часть игр продана меньше чем в 300тыс. экземпляров.  \n",
    "Но есть и достаточно успешные игры."
   ]
  },
  {
   "cell_type": "code",
   "execution_count": 33,
   "metadata": {},
   "outputs": [
    {
     "data": {
      "image/png": "[encoded data removed]",
      "text/plain": [
       "<Figure size 432x288 with 1 Axes>"
      ]
     },
     "metadata": {
      "needs_background": "light"
     },
     "output_type": "display_data"
    }
   ],
   "source": [
    "df['na_sales'].hist(bins=30)\n",
    "plt.title('Распределение продаж в Северной Америке',fontsize=13)\n",
    "plt.show()"
   ]
  },
  {
   "cell_type": "markdown",
   "metadata": {},
   "source": [
    "По распределению видим, что основное количество продаж близко к 0.  \n",
    "Посмотрим на срезе до 3млн. проданных копий."
   ]
  },
  {
   "cell_type": "code",
   "execution_count": 34,
   "metadata": {},
   "outputs": [
    {
     "data": {
      "image/png": "[encoded data removed]",
      "text/plain": [
       "<Figure size 432x288 with 1 Axes>"
      ]
     },
     "metadata": {
      "needs_background": "light"
     },
     "output_type": "display_data"
    }
   ],
   "source": [
    "df.query('na_sales < 3')['na_sales'].hist(bins=15)\n",
    "plt.title('Распределение продаж в СА меньше 3млн.',fontsize=13)\n",
    "plt.show()"
   ]
  },
  {
   "cell_type": "markdown",
   "metadata": {},
   "source": [
    "По распределению подтверждается, что основная часть игр продана меньше чем в 300тыс. экземпляров.  \n",
    "При этом есть малое количество успешных игр. Не будем считать их выбросами и удалять. Для анализа они нам так же пригодяться."
   ]
  },
  {
   "cell_type": "markdown",
   "metadata": {},
   "source": [
    "#### eu_sales"
   ]
  },
  {
   "cell_type": "code",
   "execution_count": 35,
   "metadata": {},
   "outputs": [
    {
     "data": {
      "text/html": [
       "<div>\n",
       "<style scoped>\n",
       "    .dataframe tbody tr th:only-of-type {\n",
       "        vertical-align: middle;\n",
       "    }\n",
       "\n",
       "    .dataframe tbody tr th {\n",
       "        vertical-align: top;\n",
       "    }\n",
       "\n",
       "    .dataframe thead th {\n",
       "        text-align: right;\n",
       "    }\n",
       "</style>\n",
       "<table border=\"1\" class=\"dataframe\">\n",
       "  <thead>\n",
       "    <tr style=\"text-align: right;\">\n",
       "      <th></th>\n",
       "      <th>eu_sales</th>\n",
       "    </tr>\n",
       "  </thead>\n",
       "  <tbody>\n",
       "    <tr>\n",
       "      <th>count</th>\n",
       "      <td>16,443.00</td>\n",
       "    </tr>\n",
       "    <tr>\n",
       "      <th>mean</th>\n",
       "      <td>0.15</td>\n",
       "    </tr>\n",
       "    <tr>\n",
       "      <th>std</th>\n",
       "      <td>0.51</td>\n",
       "    </tr>\n",
       "    <tr>\n",
       "      <th>min</th>\n",
       "      <td>0.00</td>\n",
       "    </tr>\n",
       "    <tr>\n",
       "      <th>25%</th>\n",
       "      <td>0.00</td>\n",
       "    </tr>\n",
       "    <tr>\n",
       "      <th>50%</th>\n",
       "      <td>0.02</td>\n",
       "    </tr>\n",
       "    <tr>\n",
       "      <th>75%</th>\n",
       "      <td>0.11</td>\n",
       "    </tr>\n",
       "    <tr>\n",
       "      <th>max</th>\n",
       "      <td>28.96</td>\n",
       "    </tr>\n",
       "  </tbody>\n",
       "</table>\n",
       "</div>"
      ],
      "text/plain": [
       "       eu_sales\n",
       "count 16,443.00\n",
       "mean       0.15\n",
       "std        0.51\n",
       "min        0.00\n",
       "25%        0.00\n",
       "50%        0.02\n",
       "75%        0.11\n",
       "max       28.96"
      ]
     },
     "execution_count": 35,
     "metadata": {},
     "output_type": "execute_result"
    }
   ],
   "source": [
    "df[['eu_sales']].describe()"
   ]
  },
  {
   "cell_type": "markdown",
   "metadata": {},
   "source": [
    "Продажи в Европе:  \n",
    "В 25% случаях цена либо не указана, либо действительно 0.  \n",
    "Максимальное значение - 28.9 млн.проданных копий.  \n",
    "Большая часть игр продана меньше чем в 100тыс. экземпляров.  \n",
    "Но есть и достаточно успешные игры.  "
   ]
  },
  {
   "cell_type": "code",
   "execution_count": 36,
   "metadata": {},
   "outputs": [
    {
     "data": {
      "image/png": "[encoded data removed]",
      "text/plain": [
       "<Figure size 432x288 with 1 Axes>"
      ]
     },
     "metadata": {
      "needs_background": "light"
     },
     "output_type": "display_data"
    }
   ],
   "source": [
    "df['eu_sales'].hist(bins=30)\n",
    "plt.title('Распределение продаж в Европе',fontsize=13)\n",
    "plt.show()"
   ]
  },
  {
   "cell_type": "code",
   "execution_count": 37,
   "metadata": {},
   "outputs": [
    {
     "data": {
      "image/png": "[encoded data removed]",
      "text/plain": [
       "<Figure size 432x288 with 1 Axes>"
      ]
     },
     "metadata": {
      "needs_background": "light"
     },
     "output_type": "display_data"
    }
   ],
   "source": [
    "df.query('eu_sales < 3')['eu_sales'].hist(bins=15)\n",
    "plt.title('Распределение продаж в Европе меньше 3млн.',fontsize=13)\n",
    "plt.show()"
   ]
  },
  {
   "cell_type": "markdown",
   "metadata": {},
   "source": [
    "Распределение по количеству продаж схоже с Северной Америкой, только количество копий меньше."
   ]
  },
  {
   "cell_type": "markdown",
   "metadata": {},
   "source": [
    "#### jp_sales"
   ]
  },
  {
   "cell_type": "code",
   "execution_count": 38,
   "metadata": {},
   "outputs": [
    {
     "data": {
      "text/html": [
       "<div>\n",
       "<style scoped>\n",
       "    .dataframe tbody tr th:only-of-type {\n",
       "        vertical-align: middle;\n",
       "    }\n",
       "\n",
       "    .dataframe tbody tr th {\n",
       "        vertical-align: top;\n",
       "    }\n",
       "\n",
       "    .dataframe thead th {\n",
       "        text-align: right;\n",
       "    }\n",
       "</style>\n",
       "<table border=\"1\" class=\"dataframe\">\n",
       "  <thead>\n",
       "    <tr style=\"text-align: right;\">\n",
       "      <th></th>\n",
       "      <th>jp_sales</th>\n",
       "    </tr>\n",
       "  </thead>\n",
       "  <tbody>\n",
       "    <tr>\n",
       "      <th>count</th>\n",
       "      <td>16,443.00</td>\n",
       "    </tr>\n",
       "    <tr>\n",
       "      <th>mean</th>\n",
       "      <td>0.08</td>\n",
       "    </tr>\n",
       "    <tr>\n",
       "      <th>std</th>\n",
       "      <td>0.31</td>\n",
       "    </tr>\n",
       "    <tr>\n",
       "      <th>min</th>\n",
       "      <td>0.00</td>\n",
       "    </tr>\n",
       "    <tr>\n",
       "      <th>25%</th>\n",
       "      <td>0.00</td>\n",
       "    </tr>\n",
       "    <tr>\n",
       "      <th>50%</th>\n",
       "      <td>0.00</td>\n",
       "    </tr>\n",
       "    <tr>\n",
       "      <th>75%</th>\n",
       "      <td>0.04</td>\n",
       "    </tr>\n",
       "    <tr>\n",
       "      <th>max</th>\n",
       "      <td>10.22</td>\n",
       "    </tr>\n",
       "  </tbody>\n",
       "</table>\n",
       "</div>"
      ],
      "text/plain": [
       "       jp_sales\n",
       "count 16,443.00\n",
       "mean       0.08\n",
       "std        0.31\n",
       "min        0.00\n",
       "25%        0.00\n",
       "50%        0.00\n",
       "75%        0.04\n",
       "max       10.22"
      ]
     },
     "execution_count": 38,
     "metadata": {},
     "output_type": "execute_result"
    }
   ],
   "source": [
    "df[['jp_sales']].describe()"
   ]
  },
  {
   "cell_type": "markdown",
   "metadata": {},
   "source": [
    "Продажи в Японии:  \n",
    "В 50% случаях цена либо не указана, либо действительно 0.  \n",
    "Максимальное значение - 10.2 млн.проданных копий.  \n",
    "Большая часть игр продана меньше чем в 40тыс. экземпляров.  \n",
    "Так же есть и достаточно успешные игры.  "
   ]
  },
  {
   "cell_type": "code",
   "execution_count": 39,
   "metadata": {
    "scrolled": true
   },
   "outputs": [
    {
     "data": {
      "image/png": "[encoded data removed]",
      "text/plain": [
       "<Figure size 432x288 with 1 Axes>"
      ]
     },
     "metadata": {
      "needs_background": "light"
     },
     "output_type": "display_data"
    }
   ],
   "source": [
    "df['jp_sales'].hist(bins=15)\n",
    "plt.title('Распределение продаж в Японии',fontsize=13)\n",
    "plt.show()"
   ]
  },
  {
   "cell_type": "code",
   "execution_count": 40,
   "metadata": {},
   "outputs": [
    {
     "data": {
      "image/png": "[encoded data removed]",
      "text/plain": [
       "<Figure size 432x288 with 1 Axes>"
      ]
     },
     "metadata": {
      "needs_background": "light"
     },
     "output_type": "display_data"
    }
   ],
   "source": [
    "df.query('jp_sales < 2')['jp_sales'].hist(bins=15)\n",
    "plt.title('Распределение продаж в Японии меньше 2млн.',fontsize=13)\n",
    "plt.show()"
   ]
  },
  {
   "cell_type": "markdown",
   "metadata": {},
   "source": [
    "Распределение по количеству продаж схоже с Северной Америкой и Европой.  \n",
    "По распределению видно, что основная часть игр продана меньше чем в 25тыс. экземпляров."
   ]
  },
  {
   "cell_type": "markdown",
   "metadata": {},
   "source": [
    "#### other_sales"
   ]
  },
  {
   "cell_type": "code",
   "execution_count": 41,
   "metadata": {},
   "outputs": [
    {
     "data": {
      "text/html": [
       "<div>\n",
       "<style scoped>\n",
       "    .dataframe tbody tr th:only-of-type {\n",
       "        vertical-align: middle;\n",
       "    }\n",
       "\n",
       "    .dataframe tbody tr th {\n",
       "        vertical-align: top;\n",
       "    }\n",
       "\n",
       "    .dataframe thead th {\n",
       "        text-align: right;\n",
       "    }\n",
       "</style>\n",
       "<table border=\"1\" class=\"dataframe\">\n",
       "  <thead>\n",
       "    <tr style=\"text-align: right;\">\n",
       "      <th></th>\n",
       "      <th>other_sales</th>\n",
       "    </tr>\n",
       "  </thead>\n",
       "  <tbody>\n",
       "    <tr>\n",
       "      <th>count</th>\n",
       "      <td>16,443.00</td>\n",
       "    </tr>\n",
       "    <tr>\n",
       "      <th>mean</th>\n",
       "      <td>0.05</td>\n",
       "    </tr>\n",
       "    <tr>\n",
       "      <th>std</th>\n",
       "      <td>0.19</td>\n",
       "    </tr>\n",
       "    <tr>\n",
       "      <th>min</th>\n",
       "      <td>0.00</td>\n",
       "    </tr>\n",
       "    <tr>\n",
       "      <th>25%</th>\n",
       "      <td>0.00</td>\n",
       "    </tr>\n",
       "    <tr>\n",
       "      <th>50%</th>\n",
       "      <td>0.01</td>\n",
       "    </tr>\n",
       "    <tr>\n",
       "      <th>75%</th>\n",
       "      <td>0.03</td>\n",
       "    </tr>\n",
       "    <tr>\n",
       "      <th>max</th>\n",
       "      <td>10.57</td>\n",
       "    </tr>\n",
       "  </tbody>\n",
       "</table>\n",
       "</div>"
      ],
      "text/plain": [
       "       other_sales\n",
       "count    16,443.00\n",
       "mean          0.05\n",
       "std           0.19\n",
       "min           0.00\n",
       "25%           0.00\n",
       "50%           0.01\n",
       "75%           0.03\n",
       "max          10.57"
      ]
     },
     "execution_count": 41,
     "metadata": {},
     "output_type": "execute_result"
    }
   ],
   "source": [
    "df[['other_sales']].describe()"
   ]
  },
  {
   "cell_type": "markdown",
   "metadata": {},
   "source": [
    "Продажи в других странах:  \n",
    "В 25% случаях цена либо не указана, либо действительно 0.  \n",
    "Максимальное значение - 10.5 млн.проданных копий.  \n",
    "Большая часть игр продана меньше чем в 30тыс. экземпляров.  \n",
    "Так же есть и достаточно успешные игры.  "
   ]
  },
  {
   "cell_type": "code",
   "execution_count": 42,
   "metadata": {
    "scrolled": true
   },
   "outputs": [
    {
     "data": {
      "image/png": "[encoded data removed]",
      "text/plain": [
       "<Figure size 432x288 with 1 Axes>"
      ]
     },
     "metadata": {
      "needs_background": "light"
     },
     "output_type": "display_data"
    }
   ],
   "source": [
    "df['other_sales'].hist(bins=15)\n",
    "plt.title('Распределение продаж в других странах',fontsize=13)\n",
    "plt.show()"
   ]
  },
  {
   "cell_type": "code",
   "execution_count": 43,
   "metadata": {},
   "outputs": [
    {
     "data": {
      "image/png": "[encoded data removed]",
      "text/plain": [
       "<Figure size 432x288 with 1 Axes>"
      ]
     },
     "metadata": {
      "needs_background": "light"
     },
     "output_type": "display_data"
    }
   ],
   "source": [
    "df.query('other_sales < 2')['other_sales'].hist(bins=15)\n",
    "plt.title('Распределение продаж в других странах меньше 2млн.',fontsize=13)\n",
    "plt.show()"
   ]
  },
  {
   "cell_type": "markdown",
   "metadata": {},
   "source": [
    "Распределение по количеству продаж схоже с другими регионами.\n",
    "По распределению видно, что основная часть игр продана меньше чем в 25тыс. экземпляров."
   ]
  },
  {
   "cell_type": "markdown",
   "metadata": {},
   "source": [
    "### Создадим столбец с суммарными продажами во всех регионах"
   ]
  },
  {
   "cell_type": "code",
   "execution_count": 44,
   "metadata": {},
   "outputs": [
    {
     "data": {
      "text/html": [
       "<div>\n",
       "<style scoped>\n",
       "    .dataframe tbody tr th:only-of-type {\n",
       "        vertical-align: middle;\n",
       "    }\n",
       "\n",
       "    .dataframe tbody tr th {\n",
       "        vertical-align: top;\n",
       "    }\n",
       "\n",
       "    .dataframe thead th {\n",
       "        text-align: right;\n",
       "    }\n",
       "</style>\n",
       "<table border=\"1\" class=\"dataframe\">\n",
       "  <thead>\n",
       "    <tr style=\"text-align: right;\">\n",
       "      <th></th>\n",
       "      <th>name</th>\n",
       "      <th>platform</th>\n",
       "      <th>year_of_release</th>\n",
       "      <th>genre</th>\n",
       "      <th>na_sales</th>\n",
       "      <th>eu_sales</th>\n",
       "      <th>jp_sales</th>\n",
       "      <th>other_sales</th>\n",
       "      <th>critic_score</th>\n",
       "      <th>user_score</th>\n",
       "      <th>rating</th>\n",
       "      <th>sales</th>\n",
       "    </tr>\n",
       "  </thead>\n",
       "  <tbody>\n",
       "    <tr>\n",
       "      <th>0</th>\n",
       "      <td>Wii Sports</td>\n",
       "      <td>Wii</td>\n",
       "      <td>2006</td>\n",
       "      <td>Sports</td>\n",
       "      <td>41.36</td>\n",
       "      <td>28.96</td>\n",
       "      <td>3.77</td>\n",
       "      <td>8.45</td>\n",
       "      <td>76.00</td>\n",
       "      <td>8.00</td>\n",
       "      <td>E</td>\n",
       "      <td>82.54</td>\n",
       "    </tr>\n",
       "    <tr>\n",
       "      <th>1</th>\n",
       "      <td>Super Mario Bros.</td>\n",
       "      <td>NES</td>\n",
       "      <td>1985</td>\n",
       "      <td>Platform</td>\n",
       "      <td>29.08</td>\n",
       "      <td>3.58</td>\n",
       "      <td>6.81</td>\n",
       "      <td>0.77</td>\n",
       "      <td>NaN</td>\n",
       "      <td>NaN</td>\n",
       "      <td>Unknown</td>\n",
       "      <td>40.24</td>\n",
       "    </tr>\n",
       "  </tbody>\n",
       "</table>\n",
       "</div>"
      ],
      "text/plain": [
       "                name platform  year_of_release     genre  na_sales  eu_sales  \\\n",
       "0         Wii Sports      Wii             2006    Sports     41.36     28.96   \n",
       "1  Super Mario Bros.      NES             1985  Platform     29.08      3.58   \n",
       "\n",
       "   jp_sales  other_sales  critic_score  user_score   rating  sales  \n",
       "0      3.77         8.45         76.00        8.00        E  82.54  \n",
       "1      6.81         0.77           NaN         NaN  Unknown  40.24  "
      ]
     },
     "execution_count": 44,
     "metadata": {},
     "output_type": "execute_result"
    }
   ],
   "source": [
    "df['sales'] = df[['na_sales', 'eu_sales', 'jp_sales', 'other_sales']].sum(axis=1)\n",
    "df.head(2)"
   ]
  },
  {
   "cell_type": "markdown",
   "metadata": {},
   "source": [
    "Столбец готов."
   ]
  },
  {
   "cell_type": "markdown",
   "metadata": {},
   "source": [
    "**Вывод:**"
   ]
  },
  {
   "cell_type": "markdown",
   "metadata": {},
   "source": [
    "Проверяем количество удаленных данных."
   ]
  },
  {
   "cell_type": "code",
   "execution_count": 45,
   "metadata": {},
   "outputs": [
    {
     "data": {
      "text/plain": [
       "0.984"
      ]
     },
     "execution_count": 45,
     "metadata": {},
     "output_type": "execute_result"
    }
   ],
   "source": [
    "round(df.shape[0] / data.shape[0], 3)"
   ]
  },
  {
   "cell_type": "markdown",
   "metadata": {},
   "source": [
    "В результате предобработки удалили ~ 1% данных.  \n",
    "\n",
    "Заменили названия столбцов (привел к нижнему регистру)  \n",
    "Преобразовали данные в нужные типы.  \n",
    "Выявили и удалили неявные дубликаты.  \n",
    "Выявили пропуски в 6 столбцах.  \n",
    "Заменили пропуски на заглушку или оставили без изменений.  \n",
    "Посмотрели значения и распределение значений столбцов.\n",
    "Добавили новый столбец с суммой продаж во всех регионах."
   ]
  },
  {
   "cell_type": "markdown",
   "metadata": {},
   "source": [
    "## Исследовательский анализ данных"
   ]
  },
  {
   "cell_type": "markdown",
   "metadata": {},
   "source": [
    "### Сколько игр выпускалось в разные годы. Важны ли данные за все периоды?"
   ]
  },
  {
   "cell_type": "code",
   "execution_count": 46,
   "metadata": {},
   "outputs": [
    {
     "data": {
      "text/plain": [
       "year_of_release\n",
       "1980       9\n",
       "1984      14\n",
       "1985      14\n",
       "1988      15\n",
       "1990      16\n",
       "1987      16\n",
       "1989      17\n",
       "1983      17\n",
       "1986      21\n",
       "1982      36\n",
       "1991      41\n",
       "1992      43\n",
       "1981      46\n",
       "1993      60\n",
       "1994     121\n",
       "1995     219\n",
       "1996     263\n",
       "1997     289\n",
       "1999     338\n",
       "2000     350\n",
       "1998     379\n",
       "2001     482\n",
       "2016     502\n",
       "2013     544\n",
       "2014     581\n",
       "2015     606\n",
       "2012     652\n",
       "2004     762\n",
       "2003     775\n",
       "2002     829\n",
       "2005     939\n",
       "2006    1006\n",
       "2011    1136\n",
       "2007    1197\n",
       "2010    1255\n",
       "2009    1426\n",
       "2008    1427\n",
       "Name: name, dtype: int64"
      ]
     },
     "execution_count": 46,
     "metadata": {},
     "output_type": "execute_result"
    }
   ],
   "source": [
    "df.groupby('year_of_release')['name'].count().sort_values()"
   ]
  },
  {
   "cell_type": "code",
   "execution_count": 47,
   "metadata": {},
   "outputs": [
    {
     "data": {
      "image/png": "[encoded data removed]",
      "text/plain": [
       "<Figure size 720x360 with 1 Axes>"
      ]
     },
     "metadata": {
      "needs_background": "light"
     },
     "output_type": "display_data"
    }
   ],
   "source": [
    "plt.figure(figsize=(10, 5))\n",
    "ax = df.groupby('year_of_release')['name'].count().plot(kind='bar')\n",
    "plt.title('Кол-во релизов по годам', fontsize=14)\n",
    "ax.set_xlabel('Год')\n",
    "ax.set_ylabel('Количество игр')\n",
    "plt.show()"
   ]
  },
  {
   "cell_type": "markdown",
   "metadata": {},
   "source": [
    "Период до 1994 года характеризуется малой активностью. Хорошо видно, что важный период в релизах игр наступает в 1993-94 гг - и после начинается резкий рост производства и продаж игр (до 1426-1427 шт/год). В 2010 наступает переломный момент и уже в 2012 релизы падают примерно в 2 раза (до 652шт/год) и до 2016 держатся примерно на одном уровне."
   ]
  },
  {
   "cell_type": "markdown",
   "metadata": {},
   "source": [
    "### Продажи по платформам"
   ]
  },
  {
   "cell_type": "code",
   "execution_count": 48,
   "metadata": {},
   "outputs": [
    {
     "data": {
      "text/html": [
       "<div>\n",
       "<style scoped>\n",
       "    .dataframe tbody tr th:only-of-type {\n",
       "        vertical-align: middle;\n",
       "    }\n",
       "\n",
       "    .dataframe tbody tr th {\n",
       "        vertical-align: top;\n",
       "    }\n",
       "\n",
       "    .dataframe thead th {\n",
       "        text-align: right;\n",
       "    }\n",
       "</style>\n",
       "<table border=\"1\" class=\"dataframe\">\n",
       "  <thead>\n",
       "    <tr style=\"text-align: right;\">\n",
       "      <th></th>\n",
       "      <th>sales</th>\n",
       "    </tr>\n",
       "    <tr>\n",
       "      <th>platform</th>\n",
       "      <th></th>\n",
       "    </tr>\n",
       "  </thead>\n",
       "  <tbody>\n",
       "    <tr>\n",
       "      <th>PS2</th>\n",
       "      <td>1,233.56</td>\n",
       "    </tr>\n",
       "    <tr>\n",
       "      <th>X360</th>\n",
       "      <td>961.24</td>\n",
       "    </tr>\n",
       "    <tr>\n",
       "      <th>PS3</th>\n",
       "      <td>931.33</td>\n",
       "    </tr>\n",
       "    <tr>\n",
       "      <th>Wii</th>\n",
       "      <td>891.18</td>\n",
       "    </tr>\n",
       "    <tr>\n",
       "      <th>DS</th>\n",
       "      <td>802.78</td>\n",
       "    </tr>\n",
       "    <tr>\n",
       "      <th>PS</th>\n",
       "      <td>727.58</td>\n",
       "    </tr>\n",
       "    <tr>\n",
       "      <th>PS4</th>\n",
       "      <td>314.14</td>\n",
       "    </tr>\n",
       "    <tr>\n",
       "      <th>GBA</th>\n",
       "      <td>312.88</td>\n",
       "    </tr>\n",
       "    <tr>\n",
       "      <th>PSP</th>\n",
       "      <td>289.53</td>\n",
       "    </tr>\n",
       "    <tr>\n",
       "      <th>3DS</th>\n",
       "      <td>257.81</td>\n",
       "    </tr>\n",
       "    <tr>\n",
       "      <th>PC</th>\n",
       "      <td>255.76</td>\n",
       "    </tr>\n",
       "    <tr>\n",
       "      <th>GB</th>\n",
       "      <td>254.43</td>\n",
       "    </tr>\n",
       "    <tr>\n",
       "      <th>XB</th>\n",
       "      <td>251.57</td>\n",
       "    </tr>\n",
       "    <tr>\n",
       "      <th>NES</th>\n",
       "      <td>251.05</td>\n",
       "    </tr>\n",
       "    <tr>\n",
       "      <th>N64</th>\n",
       "      <td>218.01</td>\n",
       "    </tr>\n",
       "    <tr>\n",
       "      <th>SNES</th>\n",
       "      <td>200.04</td>\n",
       "    </tr>\n",
       "    <tr>\n",
       "      <th>GC</th>\n",
       "      <td>196.73</td>\n",
       "    </tr>\n",
       "    <tr>\n",
       "      <th>XOne</th>\n",
       "      <td>159.32</td>\n",
       "    </tr>\n",
       "    <tr>\n",
       "      <th>2600</th>\n",
       "      <td>86.48</td>\n",
       "    </tr>\n",
       "    <tr>\n",
       "      <th>WiiU</th>\n",
       "      <td>82.19</td>\n",
       "    </tr>\n",
       "    <tr>\n",
       "      <th>PSV</th>\n",
       "      <td>53.81</td>\n",
       "    </tr>\n",
       "    <tr>\n",
       "      <th>SAT</th>\n",
       "      <td>33.59</td>\n",
       "    </tr>\n",
       "    <tr>\n",
       "      <th>GEN</th>\n",
       "      <td>28.35</td>\n",
       "    </tr>\n",
       "    <tr>\n",
       "      <th>DC</th>\n",
       "      <td>15.95</td>\n",
       "    </tr>\n",
       "    <tr>\n",
       "      <th>SCD</th>\n",
       "      <td>1.86</td>\n",
       "    </tr>\n",
       "    <tr>\n",
       "      <th>NG</th>\n",
       "      <td>1.44</td>\n",
       "    </tr>\n",
       "    <tr>\n",
       "      <th>WS</th>\n",
       "      <td>1.42</td>\n",
       "    </tr>\n",
       "    <tr>\n",
       "      <th>TG16</th>\n",
       "      <td>0.16</td>\n",
       "    </tr>\n",
       "    <tr>\n",
       "      <th>3DO</th>\n",
       "      <td>0.10</td>\n",
       "    </tr>\n",
       "    <tr>\n",
       "      <th>GG</th>\n",
       "      <td>0.04</td>\n",
       "    </tr>\n",
       "    <tr>\n",
       "      <th>PCFX</th>\n",
       "      <td>0.03</td>\n",
       "    </tr>\n",
       "  </tbody>\n",
       "</table>\n",
       "</div>"
      ],
      "text/plain": [
       "            sales\n",
       "platform         \n",
       "PS2      1,233.56\n",
       "X360       961.24\n",
       "PS3        931.33\n",
       "Wii        891.18\n",
       "DS         802.78\n",
       "PS         727.58\n",
       "PS4        314.14\n",
       "GBA        312.88\n",
       "PSP        289.53\n",
       "3DS        257.81\n",
       "PC         255.76\n",
       "GB         254.43\n",
       "XB         251.57\n",
       "NES        251.05\n",
       "N64        218.01\n",
       "SNES       200.04\n",
       "GC         196.73\n",
       "XOne       159.32\n",
       "2600        86.48\n",
       "WiiU        82.19\n",
       "PSV         53.81\n",
       "SAT         33.59\n",
       "GEN         28.35\n",
       "DC          15.95\n",
       "SCD          1.86\n",
       "NG           1.44\n",
       "WS           1.42\n",
       "TG16         0.16\n",
       "3DO          0.10\n",
       "GG           0.04\n",
       "PCFX         0.03"
      ]
     },
     "execution_count": 48,
     "metadata": {},
     "output_type": "execute_result"
    }
   ],
   "source": [
    "platform_sales = (df.pivot_table(index='platform', values='sales', aggfunc='sum')\n",
    "    .sort_values('sales', ascending=False)\n",
    ")\n",
    "platform_sales"
   ]
  },
  {
   "cell_type": "markdown",
   "metadata": {},
   "source": [
    "Продажи по платформам сильно отличаются.  \n",
    "Есть очень популярные платформы - с продажами в несколько сотен миллн.  \n",
    "И сильно отстающие - с продажами в несколько тысяч экземпляров.  \n",
    "Наибольшее количество продаж было у игр для PlayStation 2.  \n",
    "\n",
    "Возьмем 10 платформ с наибольшими объемами продаж. Построим по ним распределение продаж по годам"
   ]
  },
  {
   "cell_type": "code",
   "execution_count": 49,
   "metadata": {},
   "outputs": [],
   "source": [
    "top_platform = platform_sales [:10]"
   ]
  },
  {
   "cell_type": "code",
   "execution_count": 50,
   "metadata": {},
   "outputs": [
    {
     "data": {
      "image/png": "[encoded data removed]",
      "text/plain": [
       "<Figure size 1152x432 with 1 Axes>"
      ]
     },
     "metadata": {
      "needs_background": "light"
     },
     "output_type": "display_data"
    }
   ],
   "source": [
    "pl_10 = (\n",
    "          df.query('platform in @top_platform.index')\n",
    "          .pivot_table(index='year_of_release', columns = 'platform', values='sales', aggfunc='sum')\n",
    "        )\n",
    "pl_10.plot(figsize=(16, 6))\n",
    "plt.title('Объёмы продаж на топ-10 платформах по годам', fontsize=14)\n",
    "plt.xlabel('Год')    \n",
    "plt.ylabel('Объём продаж за год')\n",
    "plt.legend(bbox_to_anchor=( 1.02 , 1 ), loc='upper left', borderaxespad= 0 )\n",
    "plt.xlim(1995, 2017)\n",
    "plt.show()"
   ]
  },
  {
   "cell_type": "code",
   "execution_count": 51,
   "metadata": {
    "scrolled": true
   },
   "outputs": [
    {
     "data": {
      "text/plain": [
       "9.7"
      ]
     },
     "execution_count": 51,
     "metadata": {},
     "output_type": "execute_result"
    }
   ],
   "source": [
    "(pl_10.count()).mean()"
   ]
  },
  {
   "cell_type": "markdown",
   "metadata": {},
   "source": [
    "Среднее количество лет существования платформы - 9,7 лет.  \n",
    "Пик продаж приходится примерно на середину этого срока.  \n",
    "Так как сфера видеоигр достаточно быстро развивается, а данные за 2016 год не полные, возмем данные за последние 3 года (с 2013г). Возникшие в эти годы платформы скорее всего будут популярными в ближайшее время."
   ]
  },
  {
   "cell_type": "markdown",
   "metadata": {},
   "source": [
    "Актуальными данными будем считать последние данные с 2013г.  \n",
    "Создаем таблицу с актуальными годами"
   ]
  },
  {
   "cell_type": "code",
   "execution_count": 52,
   "metadata": {},
   "outputs": [],
   "source": [
    "actual_df = df.query('year_of_release >= 2013')"
   ]
  },
  {
   "cell_type": "code",
   "execution_count": 53,
   "metadata": {},
   "outputs": [
    {
     "data": {
      "text/html": [
       "<div>\n",
       "<style scoped>\n",
       "    .dataframe tbody tr th:only-of-type {\n",
       "        vertical-align: middle;\n",
       "    }\n",
       "\n",
       "    .dataframe tbody tr th {\n",
       "        vertical-align: top;\n",
       "    }\n",
       "\n",
       "    .dataframe thead th {\n",
       "        text-align: right;\n",
       "    }\n",
       "</style>\n",
       "<table border=\"1\" class=\"dataframe\">\n",
       "  <thead>\n",
       "    <tr style=\"text-align: right;\">\n",
       "      <th></th>\n",
       "      <th>sales</th>\n",
       "    </tr>\n",
       "    <tr>\n",
       "      <th>platform</th>\n",
       "      <th></th>\n",
       "    </tr>\n",
       "  </thead>\n",
       "  <tbody>\n",
       "    <tr>\n",
       "      <th>PS4</th>\n",
       "      <td>314.14</td>\n",
       "    </tr>\n",
       "    <tr>\n",
       "      <th>PS3</th>\n",
       "      <td>181.43</td>\n",
       "    </tr>\n",
       "    <tr>\n",
       "      <th>XOne</th>\n",
       "      <td>159.32</td>\n",
       "    </tr>\n",
       "    <tr>\n",
       "      <th>3DS</th>\n",
       "      <td>143.25</td>\n",
       "    </tr>\n",
       "    <tr>\n",
       "      <th>X360</th>\n",
       "      <td>136.80</td>\n",
       "    </tr>\n",
       "    <tr>\n",
       "      <th>WiiU</th>\n",
       "      <td>64.63</td>\n",
       "    </tr>\n",
       "    <tr>\n",
       "      <th>PC</th>\n",
       "      <td>39.43</td>\n",
       "    </tr>\n",
       "    <tr>\n",
       "      <th>PSV</th>\n",
       "      <td>32.99</td>\n",
       "    </tr>\n",
       "    <tr>\n",
       "      <th>Wii</th>\n",
       "      <td>13.66</td>\n",
       "    </tr>\n",
       "    <tr>\n",
       "      <th>PSP</th>\n",
       "      <td>3.50</td>\n",
       "    </tr>\n",
       "    <tr>\n",
       "      <th>DS</th>\n",
       "      <td>1.54</td>\n",
       "    </tr>\n",
       "  </tbody>\n",
       "</table>\n",
       "</div>"
      ],
      "text/plain": [
       "          sales\n",
       "platform       \n",
       "PS4      314.14\n",
       "PS3      181.43\n",
       "XOne     159.32\n",
       "3DS      143.25\n",
       "X360     136.80\n",
       "WiiU      64.63\n",
       "PC        39.43\n",
       "PSV       32.99\n",
       "Wii       13.66\n",
       "PSP        3.50\n",
       "DS         1.54"
      ]
     },
     "execution_count": 53,
     "metadata": {},
     "output_type": "execute_result"
    }
   ],
   "source": [
    "actual_pl_sales = (\n",
    "    actual_df.pivot_table(index='platform', values='sales', aggfunc='sum')\n",
    "    .sort_values('sales', ascending=False)\n",
    ")\n",
    "actual_pl_sales"
   ]
  },
  {
   "cell_type": "markdown",
   "metadata": {},
   "source": [
    "В срезе по годам с 2013г. лидеры по продажам меняются.  \n",
    "PlayStation 2 - исчезает.    \n",
    "Лидером становится PlayStation 4."
   ]
  },
  {
   "cell_type": "markdown",
   "metadata": {},
   "source": [
    "Построим распределение продаж по годам по актуальным данным."
   ]
  },
  {
   "cell_type": "code",
   "execution_count": 54,
   "metadata": {},
   "outputs": [
    {
     "data": {
      "image/png": "[encoded data removed]",
      "text/plain": [
       "<Figure size 1152x432 with 1 Axes>"
      ]
     },
     "metadata": {
      "needs_background": "light"
     },
     "output_type": "display_data"
    }
   ],
   "source": [
    "actual_pl = (\n",
    "          actual_df.query('platform in @actual_pl_sales.index')\n",
    "          .pivot_table(index='year_of_release', columns = 'platform', values='sales', aggfunc='sum')\n",
    "        )\n",
    "actual_pl.plot(figsize=(16, 6))\n",
    "plt.title('Объёмы продаж на разных платформах по годам', fontsize=14)\n",
    "plt.xlabel('Год')    \n",
    "plt.ylabel('Объём продаж за год')\n",
    "plt.legend(bbox_to_anchor=( 1.02 , 1 ), loc='upper left', borderaxespad= 0 )\n",
    "plt.show()"
   ]
  },
  {
   "cell_type": "markdown",
   "metadata": {},
   "source": [
    "Видно , что многие популярные платформы, такие как: Wii, PS3, X360, PSP, - прошли свой цикл развития 10-12 лет, и как раз в районе текущего 2016 года завершают его.  \n",
    "Есть две платформы - PlayStation 4 и XboxOne, которые появились относительно недавно (в 2013 году), в 2016 был спад; но так как у нас имеются не все данные за 2016 год, сложно сказать о том, находятся ли сейчас продажи каких-либо игр на определенных платформах на пике или на спаде.\n",
    "\n",
    "На данный момент это самые перспективные платформы."
   ]
  },
  {
   "cell_type": "markdown",
   "metadata": {},
   "source": [
    "### Глобальные продажи игр в разбивке по платформам"
   ]
  },
  {
   "cell_type": "code",
   "execution_count": 55,
   "metadata": {},
   "outputs": [
    {
     "data": {
      "image/png": "[encoded data removed]",
      "text/plain": [
       "<Figure size 720x648 with 1 Axes>"
      ]
     },
     "metadata": {
      "needs_background": "light"
     },
     "output_type": "display_data"
    }
   ],
   "source": [
    "# график «ящик с усами» по глобальным продажам игр в разбивке по платформам\n",
    "category_order = actual_pl_sales.index.tolist()\n",
    "\n",
    "fig, ax = plt.subplots(figsize=(10, 9))\n",
    "sns.boxplot(data=actual_df, x='sales', y='platform', \n",
    "            showfliers=False,\n",
    "            order=category_order, ax=ax)\n",
    "    \n",
    "\n",
    "plt.title('Продажи по платформам за 2011-2016 гг', fontsize=14)\n",
    "plt.ylabel('Платформы')\n",
    "plt.xlabel('Общие продажи')\n",
    "plt.show()"
   ]
  },
  {
   "cell_type": "code",
   "execution_count": 56,
   "metadata": {},
   "outputs": [
    {
     "data": {
      "image/png": "[encoded data removed]",
      "text/plain": [
       "<Figure size 720x648 with 1 Axes>"
      ]
     },
     "metadata": {
      "needs_background": "light"
     },
     "output_type": "display_data"
    }
   ],
   "source": [
    "category_order = actual_pl_sales[:5].index.tolist()\n",
    "\n",
    "fig, ax = plt.subplots(figsize=(10, 9))\n",
    "sns.boxplot(data=actual_df, x='sales', y='platform', \n",
    "            showfliers=False, \n",
    "            order=category_order, ax=ax)\n",
    "    \n",
    "\n",
    "plt.title('Продажи по лидирующим платформам за 2011-2016 гг', fontsize=14)\n",
    "plt.ylabel('Платформы')\n",
    "plt.xlabel('Общие продажи')\n",
    "plt.show()"
   ]
  },
  {
   "cell_type": "markdown",
   "metadata": {},
   "source": [
    "Мы видим, что у успешных платформ медианы продаж находятся примерно на одном урвне (~ 0.2млн. проданных копий).  \n",
    "Выделяются 4 платформы с огромным количеством продаж: PS3, X360, PS4 и XOne."
   ]
  },
  {
   "cell_type": "markdown",
   "metadata": {},
   "source": [
    "###  Влияние на продажи внутри одной популярной платформы отзывов пользователей и критиков"
   ]
  },
  {
   "cell_type": "markdown",
   "metadata": {},
   "source": [
    "Выберем для примера популярную платформу *PS4*"
   ]
  },
  {
   "cell_type": "code",
   "execution_count": 57,
   "metadata": {},
   "outputs": [],
   "source": [
    "one_pl = actual_df.query('platform == \"PS4\"')"
   ]
  },
  {
   "cell_type": "code",
   "execution_count": 58,
   "metadata": {},
   "outputs": [
    {
     "data": {
      "text/plain": [
       "'Зависимость продаж от отзывов критиков:'"
      ]
     },
     "metadata": {},
     "output_type": "display_data"
    },
    {
     "data": {
      "text/plain": [
       "0.406567902061781"
      ]
     },
     "metadata": {},
     "output_type": "display_data"
    },
    {
     "data": {
      "image/png": "[encoded data removed]",
      "text/plain": [
       "<Figure size 720x360 with 1 Axes>"
      ]
     },
     "metadata": {
      "needs_background": "light"
     },
     "output_type": "display_data"
    }
   ],
   "source": [
    "display('Зависимость продаж от отзывов критиков:' , one_pl['sales'].corr(one_pl['critic_score']))\n",
    "one_pl.plot(x='critic_score',y='sales',kind='scatter', figsize=(10,5))\n",
    "plt.title('Зависимость продаж от отзывов критиков', fontsize=14)\n",
    "plt.xlabel('Оценка критиков')\n",
    "plt.ylabel('Продажи')\n",
    "plt.show()"
   ]
  },
  {
   "cell_type": "code",
   "execution_count": 59,
   "metadata": {},
   "outputs": [
    {
     "data": {
      "text/plain": [
       "'Зависимость продаж от отзывов пользователей:'"
      ]
     },
     "metadata": {},
     "output_type": "display_data"
    },
    {
     "data": {
      "text/plain": [
       "-0.031957110204556376"
      ]
     },
     "metadata": {},
     "output_type": "display_data"
    },
    {
     "data": {
      "image/png": "[encoded data removed]",
      "text/plain": [
       "<Figure size 720x360 with 1 Axes>"
      ]
     },
     "metadata": {
      "needs_background": "light"
     },
     "output_type": "display_data"
    }
   ],
   "source": [
    "display(\"Зависимость продаж от отзывов пользователей:\", one_pl['sales'].corr(one_pl['user_score']))\n",
    "one_pl.plot(x='user_score',y='sales',kind='scatter', figsize=(10,5))\n",
    "plt.title('Зависимость продаж от отзывов пользователей', fontsize=14)\n",
    "plt.xlabel('Оценка пользователей')\n",
    "plt.ylabel('Продажи')\n",
    "plt.show()"
   ]
  },
  {
   "cell_type": "markdown",
   "metadata": {},
   "source": [
    "Как видно из графиков, корреляция между пользовательсикими оценками и продажами нет, так как значение почти нулевое. \n",
    "А вот оценки критиков влияют на продажи игр, об этом нам говорит корреляция в 40 %, чем выше оценка критиков, тем больше происходит продаж."
   ]
  },
  {
   "cell_type": "markdown",
   "metadata": {},
   "source": [
    "Соотношение с продажами игр на других платформах."
   ]
  },
  {
   "cell_type": "code",
   "execution_count": 60,
   "metadata": {},
   "outputs": [
    {
     "data": {
      "text/html": [
       "<div>\n",
       "<style scoped>\n",
       "    .dataframe tbody tr th:only-of-type {\n",
       "        vertical-align: middle;\n",
       "    }\n",
       "\n",
       "    .dataframe tbody tr th {\n",
       "        vertical-align: top;\n",
       "    }\n",
       "\n",
       "    .dataframe thead th {\n",
       "        text-align: right;\n",
       "    }\n",
       "</style>\n",
       "<table border=\"1\" class=\"dataframe\">\n",
       "  <thead>\n",
       "    <tr style=\"text-align: right;\">\n",
       "      <th></th>\n",
       "      <th></th>\n",
       "      <th>sales</th>\n",
       "    </tr>\n",
       "    <tr>\n",
       "      <th>platform</th>\n",
       "      <th></th>\n",
       "      <th></th>\n",
       "    </tr>\n",
       "  </thead>\n",
       "  <tbody>\n",
       "    <tr>\n",
       "      <th rowspan=\"3\" valign=\"top\">3DS</th>\n",
       "      <th>critic_score</th>\n",
       "      <td>0.36</td>\n",
       "    </tr>\n",
       "    <tr>\n",
       "      <th>user_score</th>\n",
       "      <td>0.24</td>\n",
       "    </tr>\n",
       "    <tr>\n",
       "      <th>sales</th>\n",
       "      <td>1.00</td>\n",
       "    </tr>\n",
       "    <tr>\n",
       "      <th>DS</th>\n",
       "      <th>sales</th>\n",
       "      <td>1.00</td>\n",
       "    </tr>\n",
       "    <tr>\n",
       "      <th rowspan=\"3\" valign=\"top\">PC</th>\n",
       "      <th>critic_score</th>\n",
       "      <td>0.20</td>\n",
       "    </tr>\n",
       "    <tr>\n",
       "      <th>user_score</th>\n",
       "      <td>-0.09</td>\n",
       "    </tr>\n",
       "    <tr>\n",
       "      <th>sales</th>\n",
       "      <td>1.00</td>\n",
       "    </tr>\n",
       "    <tr>\n",
       "      <th rowspan=\"3\" valign=\"top\">PS3</th>\n",
       "      <th>critic_score</th>\n",
       "      <td>0.33</td>\n",
       "    </tr>\n",
       "    <tr>\n",
       "      <th>user_score</th>\n",
       "      <td>0.00</td>\n",
       "    </tr>\n",
       "    <tr>\n",
       "      <th>sales</th>\n",
       "      <td>1.00</td>\n",
       "    </tr>\n",
       "    <tr>\n",
       "      <th rowspan=\"3\" valign=\"top\">PS4</th>\n",
       "      <th>critic_score</th>\n",
       "      <td>0.41</td>\n",
       "    </tr>\n",
       "    <tr>\n",
       "      <th>user_score</th>\n",
       "      <td>-0.03</td>\n",
       "    </tr>\n",
       "    <tr>\n",
       "      <th>sales</th>\n",
       "      <td>1.00</td>\n",
       "    </tr>\n",
       "    <tr>\n",
       "      <th rowspan=\"2\" valign=\"top\">PSP</th>\n",
       "      <th>user_score</th>\n",
       "      <td>-1.00</td>\n",
       "    </tr>\n",
       "    <tr>\n",
       "      <th>sales</th>\n",
       "      <td>1.00</td>\n",
       "    </tr>\n",
       "    <tr>\n",
       "      <th rowspan=\"3\" valign=\"top\">PSV</th>\n",
       "      <th>critic_score</th>\n",
       "      <td>0.25</td>\n",
       "    </tr>\n",
       "    <tr>\n",
       "      <th>user_score</th>\n",
       "      <td>0.00</td>\n",
       "    </tr>\n",
       "    <tr>\n",
       "      <th>sales</th>\n",
       "      <td>1.00</td>\n",
       "    </tr>\n",
       "    <tr>\n",
       "      <th rowspan=\"2\" valign=\"top\">Wii</th>\n",
       "      <th>user_score</th>\n",
       "      <td>0.68</td>\n",
       "    </tr>\n",
       "    <tr>\n",
       "      <th>sales</th>\n",
       "      <td>1.00</td>\n",
       "    </tr>\n",
       "    <tr>\n",
       "      <th rowspan=\"3\" valign=\"top\">WiiU</th>\n",
       "      <th>critic_score</th>\n",
       "      <td>0.38</td>\n",
       "    </tr>\n",
       "    <tr>\n",
       "      <th>user_score</th>\n",
       "      <td>0.42</td>\n",
       "    </tr>\n",
       "    <tr>\n",
       "      <th>sales</th>\n",
       "      <td>1.00</td>\n",
       "    </tr>\n",
       "    <tr>\n",
       "      <th rowspan=\"3\" valign=\"top\">X360</th>\n",
       "      <th>critic_score</th>\n",
       "      <td>0.35</td>\n",
       "    </tr>\n",
       "    <tr>\n",
       "      <th>user_score</th>\n",
       "      <td>-0.01</td>\n",
       "    </tr>\n",
       "    <tr>\n",
       "      <th>sales</th>\n",
       "      <td>1.00</td>\n",
       "    </tr>\n",
       "    <tr>\n",
       "      <th rowspan=\"3\" valign=\"top\">XOne</th>\n",
       "      <th>critic_score</th>\n",
       "      <td>0.42</td>\n",
       "    </tr>\n",
       "    <tr>\n",
       "      <th>user_score</th>\n",
       "      <td>-0.07</td>\n",
       "    </tr>\n",
       "    <tr>\n",
       "      <th>sales</th>\n",
       "      <td>1.00</td>\n",
       "    </tr>\n",
       "  </tbody>\n",
       "</table>\n",
       "</div>"
      ],
      "text/plain": [
       "                       sales\n",
       "platform                    \n",
       "3DS      critic_score   0.36\n",
       "         user_score     0.24\n",
       "         sales          1.00\n",
       "DS       sales          1.00\n",
       "PC       critic_score   0.20\n",
       "         user_score    -0.09\n",
       "         sales          1.00\n",
       "PS3      critic_score   0.33\n",
       "         user_score     0.00\n",
       "         sales          1.00\n",
       "PS4      critic_score   0.41\n",
       "         user_score    -0.03\n",
       "         sales          1.00\n",
       "PSP      user_score    -1.00\n",
       "         sales          1.00\n",
       "PSV      critic_score   0.25\n",
       "         user_score     0.00\n",
       "         sales          1.00\n",
       "Wii      user_score     0.68\n",
       "         sales          1.00\n",
       "WiiU     critic_score   0.38\n",
       "         user_score     0.42\n",
       "         sales          1.00\n",
       "X360     critic_score   0.35\n",
       "         user_score    -0.01\n",
       "         sales          1.00\n",
       "XOne     critic_score   0.42\n",
       "         user_score    -0.07\n",
       "         sales          1.00"
      ]
     },
     "execution_count": 60,
     "metadata": {},
     "output_type": "execute_result"
    }
   ],
   "source": [
    "actual_pl_corr = (\n",
    "    actual_df.pivot_table(index='platform', values= ['critic_score', 'user_score','sales'], aggfunc='corr'))\n",
    "actual_pl_corr.drop(['critic_score', 'user_score'], axis=1, inplace= True )\n",
    "actual_pl_corr"
   ]
  },
  {
   "cell_type": "markdown",
   "metadata": {},
   "source": [
    "Схожие тенденции имеют место почти для всех платформ. Зависимость продаж пропорцианальная - от отзывов критиков слабая, но ближе к средней, а от отзывов пользователей значительно слабее, чем от критиков."
   ]
  },
  {
   "cell_type": "markdown",
   "metadata": {},
   "source": [
    "### Oбщее распределение игр по жанрам"
   ]
  },
  {
   "cell_type": "code",
   "execution_count": 61,
   "metadata": {},
   "outputs": [
    {
     "data": {
      "text/html": [
       "<div>\n",
       "<style scoped>\n",
       "    .dataframe tbody tr th:only-of-type {\n",
       "        vertical-align: middle;\n",
       "    }\n",
       "\n",
       "    .dataframe tbody tr th {\n",
       "        vertical-align: top;\n",
       "    }\n",
       "\n",
       "    .dataframe thead th {\n",
       "        text-align: right;\n",
       "    }\n",
       "</style>\n",
       "<table border=\"1\" class=\"dataframe\">\n",
       "  <thead>\n",
       "    <tr style=\"text-align: right;\">\n",
       "      <th></th>\n",
       "      <th>name</th>\n",
       "      <th>sales</th>\n",
       "    </tr>\n",
       "    <tr>\n",
       "      <th>genre</th>\n",
       "      <th></th>\n",
       "      <th></th>\n",
       "    </tr>\n",
       "  </thead>\n",
       "  <tbody>\n",
       "    <tr>\n",
       "      <th>Shooter</th>\n",
       "      <td>187</td>\n",
       "      <td>0.45</td>\n",
       "    </tr>\n",
       "    <tr>\n",
       "      <th>Sports</th>\n",
       "      <td>214</td>\n",
       "      <td>0.24</td>\n",
       "    </tr>\n",
       "    <tr>\n",
       "      <th>Platform</th>\n",
       "      <td>74</td>\n",
       "      <td>0.22</td>\n",
       "    </tr>\n",
       "    <tr>\n",
       "      <th>Role-Playing</th>\n",
       "      <td>292</td>\n",
       "      <td>0.12</td>\n",
       "    </tr>\n",
       "    <tr>\n",
       "      <th>Fighting</th>\n",
       "      <td>80</td>\n",
       "      <td>0.12</td>\n",
       "    </tr>\n",
       "    <tr>\n",
       "      <th>Racing</th>\n",
       "      <td>85</td>\n",
       "      <td>0.12</td>\n",
       "    </tr>\n",
       "    <tr>\n",
       "      <th>Action</th>\n",
       "      <td>766</td>\n",
       "      <td>0.11</td>\n",
       "    </tr>\n",
       "    <tr>\n",
       "      <th>Simulation</th>\n",
       "      <td>62</td>\n",
       "      <td>0.10</td>\n",
       "    </tr>\n",
       "    <tr>\n",
       "      <th>Misc</th>\n",
       "      <td>155</td>\n",
       "      <td>0.10</td>\n",
       "    </tr>\n",
       "    <tr>\n",
       "      <th>Strategy</th>\n",
       "      <td>56</td>\n",
       "      <td>0.08</td>\n",
       "    </tr>\n",
       "    <tr>\n",
       "      <th>Puzzle</th>\n",
       "      <td>17</td>\n",
       "      <td>0.06</td>\n",
       "    </tr>\n",
       "    <tr>\n",
       "      <th>Adventure</th>\n",
       "      <td>245</td>\n",
       "      <td>0.03</td>\n",
       "    </tr>\n",
       "  </tbody>\n",
       "</table>\n",
       "</div>"
      ],
      "text/plain": [
       "              name  sales\n",
       "genre                    \n",
       "Shooter        187   0.45\n",
       "Sports         214   0.24\n",
       "Platform        74   0.22\n",
       "Role-Playing   292   0.12\n",
       "Fighting        80   0.12\n",
       "Racing          85   0.12\n",
       "Action         766   0.11\n",
       "Simulation      62   0.10\n",
       "Misc           155   0.10\n",
       "Strategy        56   0.08\n",
       "Puzzle          17   0.06\n",
       "Adventure      245   0.03"
      ]
     },
     "execution_count": 61,
     "metadata": {},
     "output_type": "execute_result"
    }
   ],
   "source": [
    "genre = actual_df.groupby('genre').agg({'name' : 'count', 'sales' : 'median'}).sort_values(by = 'sales', ascending=False)\n",
    "genre"
   ]
  },
  {
   "cell_type": "code",
   "execution_count": 62,
   "metadata": {},
   "outputs": [
    {
     "data": {
      "image/png": "[encoded data removed]",
      "text/plain": [
       "<Figure size 1152x504 with 2 Axes>"
      ]
     },
     "metadata": {},
     "output_type": "display_data"
    }
   ],
   "source": [
    "fig, (ax1, ax2) = plt.subplots(1, 2, figsize=(16, 7))\n",
    "\n",
    "labels1 = genre.index\n",
    "sizes1 = genre['sales']\n",
    "\n",
    "labels2 = genre.sort_values('name', ascending = False).index\n",
    "sizes2 = genre.sort_values('name', ascending = False)['name']\n",
    "\n",
    "ax1.pie(sizes1, labels=labels1, autopct='%1.1f%%', pctdistance=0.7)\n",
    "ax1.set_title('Медианное значение продаж по жанрам')\n",
    "\n",
    "ax2.pie(sizes2, labels=labels2, autopct='%1.1f%%', pctdistance=0.8)\n",
    "ax2.set_title('Кол-во игр по жанрам')\n",
    "\n",
    "plt.show()"
   ]
  },
  {
   "cell_type": "markdown",
   "metadata": {},
   "source": [
    "В продажах по жанрам в лидерах: *Shooter(25,5%), Sports(13,6%), Platform(12,7%)*; аутсайдеры здесь *Adventure(1,7%), Puzzle(3,4%)*   \n",
    "\n",
    "В количестве игр по жанрам лидеры: *Action(34,3%),  Role-Playing(13,1%) и Adventure(11%)*; аутсайдеры здесь *Puzzle(0,8%) и Strategy(2,5%)*"
   ]
  },
  {
   "cell_type": "markdown",
   "metadata": {},
   "source": [
    "## Портрет пользователя каждого региона"
   ]
  },
  {
   "cell_type": "markdown",
   "metadata": {},
   "source": [
    "### Самые популярные платформы (топ-5)"
   ]
  },
  {
   "cell_type": "code",
   "execution_count": 63,
   "metadata": {},
   "outputs": [],
   "source": [
    "sales_region = actual_df.pivot_table(index= 'platform', values=['na_sales','eu_sales','jp_sales'], aggfunc = 'sum')"
   ]
  },
  {
   "cell_type": "code",
   "execution_count": 64,
   "metadata": {},
   "outputs": [
    {
     "data": {
      "text/html": [
       "<div>\n",
       "<style scoped>\n",
       "    .dataframe tbody tr th:only-of-type {\n",
       "        vertical-align: middle;\n",
       "    }\n",
       "\n",
       "    .dataframe tbody tr th {\n",
       "        vertical-align: top;\n",
       "    }\n",
       "\n",
       "    .dataframe thead th {\n",
       "        text-align: right;\n",
       "    }\n",
       "</style>\n",
       "<table border=\"1\" class=\"dataframe\">\n",
       "  <thead>\n",
       "    <tr style=\"text-align: right;\">\n",
       "      <th></th>\n",
       "      <th>na_sales</th>\n",
       "    </tr>\n",
       "    <tr>\n",
       "      <th>platform</th>\n",
       "      <th></th>\n",
       "    </tr>\n",
       "  </thead>\n",
       "  <tbody>\n",
       "    <tr>\n",
       "      <th>PS4</th>\n",
       "      <td>108.74</td>\n",
       "    </tr>\n",
       "    <tr>\n",
       "      <th>XOne</th>\n",
       "      <td>93.12</td>\n",
       "    </tr>\n",
       "    <tr>\n",
       "      <th>X360</th>\n",
       "      <td>81.66</td>\n",
       "    </tr>\n",
       "    <tr>\n",
       "      <th>PS3</th>\n",
       "      <td>63.50</td>\n",
       "    </tr>\n",
       "    <tr>\n",
       "      <th>3DS</th>\n",
       "      <td>38.20</td>\n",
       "    </tr>\n",
       "  </tbody>\n",
       "</table>\n",
       "</div>"
      ],
      "text/plain": [
       "          na_sales\n",
       "platform          \n",
       "PS4         108.74\n",
       "XOne         93.12\n",
       "X360         81.66\n",
       "PS3          63.50\n",
       "3DS          38.20"
      ]
     },
     "execution_count": 64,
     "metadata": {},
     "output_type": "execute_result"
    }
   ],
   "source": [
    "na_sales_region = sales_region[['na_sales']].sort_values('na_sales', ascending=False)[:5]\n",
    "na_sales_region"
   ]
  },
  {
   "cell_type": "code",
   "execution_count": 65,
   "metadata": {},
   "outputs": [
    {
     "data": {
      "text/html": [
       "<div>\n",
       "<style scoped>\n",
       "    .dataframe tbody tr th:only-of-type {\n",
       "        vertical-align: middle;\n",
       "    }\n",
       "\n",
       "    .dataframe tbody tr th {\n",
       "        vertical-align: top;\n",
       "    }\n",
       "\n",
       "    .dataframe thead th {\n",
       "        text-align: right;\n",
       "    }\n",
       "</style>\n",
       "<table border=\"1\" class=\"dataframe\">\n",
       "  <thead>\n",
       "    <tr style=\"text-align: right;\">\n",
       "      <th></th>\n",
       "      <th>eu_sales</th>\n",
       "    </tr>\n",
       "    <tr>\n",
       "      <th>platform</th>\n",
       "      <th></th>\n",
       "    </tr>\n",
       "  </thead>\n",
       "  <tbody>\n",
       "    <tr>\n",
       "      <th>PS4</th>\n",
       "      <td>141.09</td>\n",
       "    </tr>\n",
       "    <tr>\n",
       "      <th>PS3</th>\n",
       "      <td>67.81</td>\n",
       "    </tr>\n",
       "    <tr>\n",
       "      <th>XOne</th>\n",
       "      <td>51.59</td>\n",
       "    </tr>\n",
       "    <tr>\n",
       "      <th>X360</th>\n",
       "      <td>42.52</td>\n",
       "    </tr>\n",
       "    <tr>\n",
       "      <th>3DS</th>\n",
       "      <td>30.96</td>\n",
       "    </tr>\n",
       "  </tbody>\n",
       "</table>\n",
       "</div>"
      ],
      "text/plain": [
       "          eu_sales\n",
       "platform          \n",
       "PS4         141.09\n",
       "PS3          67.81\n",
       "XOne         51.59\n",
       "X360         42.52\n",
       "3DS          30.96"
      ]
     },
     "execution_count": 65,
     "metadata": {},
     "output_type": "execute_result"
    }
   ],
   "source": [
    "eu_sales_region = sales_region[['eu_sales']].sort_values('eu_sales', ascending=False)[:5]\n",
    "eu_sales_region"
   ]
  },
  {
   "cell_type": "code",
   "execution_count": 66,
   "metadata": {},
   "outputs": [
    {
     "data": {
      "text/html": [
       "<div>\n",
       "<style scoped>\n",
       "    .dataframe tbody tr th:only-of-type {\n",
       "        vertical-align: middle;\n",
       "    }\n",
       "\n",
       "    .dataframe tbody tr th {\n",
       "        vertical-align: top;\n",
       "    }\n",
       "\n",
       "    .dataframe thead th {\n",
       "        text-align: right;\n",
       "    }\n",
       "</style>\n",
       "<table border=\"1\" class=\"dataframe\">\n",
       "  <thead>\n",
       "    <tr style=\"text-align: right;\">\n",
       "      <th></th>\n",
       "      <th>jp_sales</th>\n",
       "    </tr>\n",
       "    <tr>\n",
       "      <th>platform</th>\n",
       "      <th></th>\n",
       "    </tr>\n",
       "  </thead>\n",
       "  <tbody>\n",
       "    <tr>\n",
       "      <th>3DS</th>\n",
       "      <td>67.81</td>\n",
       "    </tr>\n",
       "    <tr>\n",
       "      <th>PS3</th>\n",
       "      <td>23.35</td>\n",
       "    </tr>\n",
       "    <tr>\n",
       "      <th>PSV</th>\n",
       "      <td>18.59</td>\n",
       "    </tr>\n",
       "    <tr>\n",
       "      <th>PS4</th>\n",
       "      <td>15.96</td>\n",
       "    </tr>\n",
       "    <tr>\n",
       "      <th>WiiU</th>\n",
       "      <td>10.88</td>\n",
       "    </tr>\n",
       "  </tbody>\n",
       "</table>\n",
       "</div>"
      ],
      "text/plain": [
       "          jp_sales\n",
       "platform          \n",
       "3DS          67.81\n",
       "PS3          23.35\n",
       "PSV          18.59\n",
       "PS4          15.96\n",
       "WiiU         10.88"
      ]
     },
     "execution_count": 66,
     "metadata": {},
     "output_type": "execute_result"
    }
   ],
   "source": [
    "jp_sales_region = sales_region[['jp_sales']].sort_values('jp_sales', ascending=False)[:5]\n",
    "jp_sales_region"
   ]
  },
  {
   "cell_type": "code",
   "execution_count": 67,
   "metadata": {},
   "outputs": [
    {
     "data": {
      "image/png": "[encoded data removed]",
      "text/plain": [
       "<Figure size 1080x360 with 3 Axes>"
      ]
     },
     "metadata": {},
     "output_type": "display_data"
    }
   ],
   "source": [
    "fig, (ax1, ax2, ax3) = plt.subplots(1, 3, figsize=(15, 5))\n",
    "fig.suptitle('ТОП-5 платформ в регионах')\n",
    "\n",
    "labels1 = na_sales_region.index\n",
    "sizes1 = na_sales_region['na_sales']\n",
    "\n",
    "labels2 = eu_sales_region.index\n",
    "sizes2 = eu_sales_region['eu_sales']\n",
    "\n",
    "labels3 = jp_sales_region.index\n",
    "sizes3 = jp_sales_region['jp_sales']\n",
    "\n",
    "ax1.pie(sizes1, labels=labels1, autopct='%1.1f%%')\n",
    "ax1.set_title('Продажи в NA')\n",
    "\n",
    "ax2.pie(sizes2, labels=labels2, autopct='%1.1f%%')\n",
    "ax2.set_title('Продажи в EU')\n",
    "\n",
    "ax3.pie(sizes3, labels=labels3, autopct='%1.1f%%')\n",
    "ax3.set_title('Продажи в JP')\n",
    "\n",
    "plt.show()"
   ]
  },
  {
   "cell_type": "markdown",
   "metadata": {},
   "source": [
    "Лидеры продаж во всех регионах разные:  \n",
    "Америка - PS4    \n",
    "Европа - PS4  \n",
    "Япония - 3DS  \n",
    "В Америке и Европе пользуются в основном одними и теми же платформами - XOne, X360, PS4, 3DS, PS3  \n",
    "В Японии совсем другая картина: тут более популярны платформы WiiU и PSV.  \n",
    "Надо отметить, что платформы PS4 и PS3 популярны во всех регионах."
   ]
  },
  {
   "cell_type": "markdown",
   "metadata": {},
   "source": [
    "### Самые популярные жанры (топ-5)"
   ]
  },
  {
   "cell_type": "code",
   "execution_count": 68,
   "metadata": {},
   "outputs": [],
   "source": [
    "genre_region = actual_df.pivot_table(index= 'genre', values=['na_sales','eu_sales','jp_sales'], aggfunc = 'sum')"
   ]
  },
  {
   "cell_type": "code",
   "execution_count": 69,
   "metadata": {},
   "outputs": [
    {
     "data": {
      "text/html": [
       "<div>\n",
       "<style scoped>\n",
       "    .dataframe tbody tr th:only-of-type {\n",
       "        vertical-align: middle;\n",
       "    }\n",
       "\n",
       "    .dataframe tbody tr th {\n",
       "        vertical-align: top;\n",
       "    }\n",
       "\n",
       "    .dataframe thead th {\n",
       "        text-align: right;\n",
       "    }\n",
       "</style>\n",
       "<table border=\"1\" class=\"dataframe\">\n",
       "  <thead>\n",
       "    <tr style=\"text-align: right;\">\n",
       "      <th></th>\n",
       "      <th>na_sales</th>\n",
       "    </tr>\n",
       "    <tr>\n",
       "      <th>genre</th>\n",
       "      <th></th>\n",
       "    </tr>\n",
       "  </thead>\n",
       "  <tbody>\n",
       "    <tr>\n",
       "      <th>Action</th>\n",
       "      <td>126.05</td>\n",
       "    </tr>\n",
       "    <tr>\n",
       "      <th>Shooter</th>\n",
       "      <td>109.74</td>\n",
       "    </tr>\n",
       "    <tr>\n",
       "      <th>Sports</th>\n",
       "      <td>65.27</td>\n",
       "    </tr>\n",
       "    <tr>\n",
       "      <th>Role-Playing</th>\n",
       "      <td>46.40</td>\n",
       "    </tr>\n",
       "    <tr>\n",
       "      <th>Misc</th>\n",
       "      <td>27.49</td>\n",
       "    </tr>\n",
       "  </tbody>\n",
       "</table>\n",
       "</div>"
      ],
      "text/plain": [
       "              na_sales\n",
       "genre                 \n",
       "Action          126.05\n",
       "Shooter         109.74\n",
       "Sports           65.27\n",
       "Role-Playing     46.40\n",
       "Misc             27.49"
      ]
     },
     "execution_count": 69,
     "metadata": {},
     "output_type": "execute_result"
    }
   ],
   "source": [
    "na_genre_region = genre_region[['na_sales']].sort_values('na_sales', ascending=False)[:5]\n",
    "na_genre_region"
   ]
  },
  {
   "cell_type": "code",
   "execution_count": 70,
   "metadata": {},
   "outputs": [
    {
     "data": {
      "text/html": [
       "<div>\n",
       "<style scoped>\n",
       "    .dataframe tbody tr th:only-of-type {\n",
       "        vertical-align: middle;\n",
       "    }\n",
       "\n",
       "    .dataframe tbody tr th {\n",
       "        vertical-align: top;\n",
       "    }\n",
       "\n",
       "    .dataframe thead th {\n",
       "        text-align: right;\n",
       "    }\n",
       "</style>\n",
       "<table border=\"1\" class=\"dataframe\">\n",
       "  <thead>\n",
       "    <tr style=\"text-align: right;\">\n",
       "      <th></th>\n",
       "      <th>eu_sales</th>\n",
       "    </tr>\n",
       "    <tr>\n",
       "      <th>genre</th>\n",
       "      <th></th>\n",
       "    </tr>\n",
       "  </thead>\n",
       "  <tbody>\n",
       "    <tr>\n",
       "      <th>Action</th>\n",
       "      <td>118.13</td>\n",
       "    </tr>\n",
       "    <tr>\n",
       "      <th>Shooter</th>\n",
       "      <td>87.86</td>\n",
       "    </tr>\n",
       "    <tr>\n",
       "      <th>Sports</th>\n",
       "      <td>60.52</td>\n",
       "    </tr>\n",
       "    <tr>\n",
       "      <th>Role-Playing</th>\n",
       "      <td>36.97</td>\n",
       "    </tr>\n",
       "    <tr>\n",
       "      <th>Racing</th>\n",
       "      <td>20.19</td>\n",
       "    </tr>\n",
       "  </tbody>\n",
       "</table>\n",
       "</div>"
      ],
      "text/plain": [
       "              eu_sales\n",
       "genre                 \n",
       "Action          118.13\n",
       "Shooter          87.86\n",
       "Sports           60.52\n",
       "Role-Playing     36.97\n",
       "Racing           20.19"
      ]
     },
     "execution_count": 70,
     "metadata": {},
     "output_type": "execute_result"
    }
   ],
   "source": [
    "eu_genre_region = genre_region[['eu_sales']].sort_values('eu_sales', ascending=False)[:5]\n",
    "eu_genre_region"
   ]
  },
  {
   "cell_type": "code",
   "execution_count": 71,
   "metadata": {},
   "outputs": [
    {
     "data": {
      "text/html": [
       "<div>\n",
       "<style scoped>\n",
       "    .dataframe tbody tr th:only-of-type {\n",
       "        vertical-align: middle;\n",
       "    }\n",
       "\n",
       "    .dataframe tbody tr th {\n",
       "        vertical-align: top;\n",
       "    }\n",
       "\n",
       "    .dataframe thead th {\n",
       "        text-align: right;\n",
       "    }\n",
       "</style>\n",
       "<table border=\"1\" class=\"dataframe\">\n",
       "  <thead>\n",
       "    <tr style=\"text-align: right;\">\n",
       "      <th></th>\n",
       "      <th>jp_sales</th>\n",
       "    </tr>\n",
       "    <tr>\n",
       "      <th>genre</th>\n",
       "      <th></th>\n",
       "    </tr>\n",
       "  </thead>\n",
       "  <tbody>\n",
       "    <tr>\n",
       "      <th>Role-Playing</th>\n",
       "      <td>51.04</td>\n",
       "    </tr>\n",
       "    <tr>\n",
       "      <th>Action</th>\n",
       "      <td>40.49</td>\n",
       "    </tr>\n",
       "    <tr>\n",
       "      <th>Misc</th>\n",
       "      <td>9.20</td>\n",
       "    </tr>\n",
       "    <tr>\n",
       "      <th>Fighting</th>\n",
       "      <td>7.65</td>\n",
       "    </tr>\n",
       "    <tr>\n",
       "      <th>Shooter</th>\n",
       "      <td>6.61</td>\n",
       "    </tr>\n",
       "  </tbody>\n",
       "</table>\n",
       "</div>"
      ],
      "text/plain": [
       "              jp_sales\n",
       "genre                 \n",
       "Role-Playing     51.04\n",
       "Action           40.49\n",
       "Misc              9.20\n",
       "Fighting          7.65\n",
       "Shooter           6.61"
      ]
     },
     "execution_count": 71,
     "metadata": {},
     "output_type": "execute_result"
    }
   ],
   "source": [
    "jp_genre_region = genre_region[['jp_sales']].sort_values('jp_sales', ascending=False)[:5]\n",
    "jp_genre_region"
   ]
  },
  {
   "cell_type": "code",
   "execution_count": 72,
   "metadata": {},
   "outputs": [
    {
     "data": {
      "image/png": "[encoded data removed]",
      "text/plain": [
       "<Figure size 1080x360 with 3 Axes>"
      ]
     },
     "metadata": {},
     "output_type": "display_data"
    }
   ],
   "source": [
    "fig, (ax1, ax2, ax3) = plt.subplots(1, 3, figsize=(15, 5))\n",
    "fig.suptitle('ТОП-5 жанров в регионах')\n",
    "\n",
    "labels1 = na_genre_region.index\n",
    "sizes1 = na_genre_region['na_sales']\n",
    "\n",
    "labels2 = eu_genre_region.index\n",
    "sizes2 = eu_genre_region['eu_sales']\n",
    "\n",
    "labels3 = jp_genre_region.index\n",
    "sizes3 = jp_genre_region['jp_sales']\n",
    "\n",
    "ax1.pie(sizes1, labels=labels1, autopct='%1.1f%%')\n",
    "ax1.set_title('Продажи в NA')\n",
    "\n",
    "ax2.pie(sizes2, labels=labels2, autopct='%1.1f%%')\n",
    "ax2.set_title('Продажи в EU')\n",
    "\n",
    "ax3.pie(sizes3, labels=labels3, autopct='%1.1f%%')\n",
    "ax3.set_title('Продажи в JP')\n",
    "\n",
    "plt.show()"
   ]
  },
  {
   "cell_type": "markdown",
   "metadata": {},
   "source": [
    "По жанрам Америка и Европа схожи в предпочтениях:  \n",
    "1 место –  Экшен  \n",
    "2 - Шутер  \n",
    "3 - Спорт  \n",
    "4 - Ролевые игры  \n",
    "различаются только 5е места.  \n",
    "В Японии другие предпочтения. На первом месте Ролевые игры. Экшен на втором месте.  "
   ]
  },
  {
   "cell_type": "markdown",
   "metadata": {},
   "source": [
    "### Влияние рейтинга ESRB на продажи в отдельных регионах"
   ]
  },
  {
   "cell_type": "code",
   "execution_count": 73,
   "metadata": {},
   "outputs": [],
   "source": [
    "rating_region = actual_df.pivot_table(index= 'rating', values=['na_sales','eu_sales','jp_sales'], aggfunc = 'sum')"
   ]
  },
  {
   "cell_type": "code",
   "execution_count": 74,
   "metadata": {},
   "outputs": [
    {
     "data": {
      "text/html": [
       "<div>\n",
       "<style scoped>\n",
       "    .dataframe tbody tr th:only-of-type {\n",
       "        vertical-align: middle;\n",
       "    }\n",
       "\n",
       "    .dataframe tbody tr th {\n",
       "        vertical-align: top;\n",
       "    }\n",
       "\n",
       "    .dataframe thead th {\n",
       "        text-align: right;\n",
       "    }\n",
       "</style>\n",
       "<table border=\"1\" class=\"dataframe\">\n",
       "  <thead>\n",
       "    <tr style=\"text-align: right;\">\n",
       "      <th></th>\n",
       "      <th>na_sales</th>\n",
       "    </tr>\n",
       "    <tr>\n",
       "      <th>rating</th>\n",
       "      <th></th>\n",
       "    </tr>\n",
       "  </thead>\n",
       "  <tbody>\n",
       "    <tr>\n",
       "      <th>M</th>\n",
       "      <td>165.21</td>\n",
       "    </tr>\n",
       "    <tr>\n",
       "      <th>Unknown</th>\n",
       "      <td>89.42</td>\n",
       "    </tr>\n",
       "    <tr>\n",
       "      <th>E</th>\n",
       "      <td>79.05</td>\n",
       "    </tr>\n",
       "    <tr>\n",
       "      <th>E10+</th>\n",
       "      <td>54.24</td>\n",
       "    </tr>\n",
       "    <tr>\n",
       "      <th>T</th>\n",
       "      <td>49.79</td>\n",
       "    </tr>\n",
       "  </tbody>\n",
       "</table>\n",
       "</div>"
      ],
      "text/plain": [
       "         na_sales\n",
       "rating           \n",
       "M          165.21\n",
       "Unknown     89.42\n",
       "E           79.05\n",
       "E10+        54.24\n",
       "T           49.79"
      ]
     },
     "execution_count": 74,
     "metadata": {},
     "output_type": "execute_result"
    }
   ],
   "source": [
    "na_rating_region = rating_region[['na_sales']].sort_values('na_sales', ascending=False)\n",
    "na_rating_region"
   ]
  },
  {
   "cell_type": "code",
   "execution_count": 75,
   "metadata": {},
   "outputs": [
    {
     "data": {
      "text/html": [
       "<div>\n",
       "<style scoped>\n",
       "    .dataframe tbody tr th:only-of-type {\n",
       "        vertical-align: middle;\n",
       "    }\n",
       "\n",
       "    .dataframe tbody tr th {\n",
       "        vertical-align: top;\n",
       "    }\n",
       "\n",
       "    .dataframe thead th {\n",
       "        text-align: right;\n",
       "    }\n",
       "</style>\n",
       "<table border=\"1\" class=\"dataframe\">\n",
       "  <thead>\n",
       "    <tr style=\"text-align: right;\">\n",
       "      <th></th>\n",
       "      <th>eu_sales</th>\n",
       "    </tr>\n",
       "    <tr>\n",
       "      <th>rating</th>\n",
       "      <th></th>\n",
       "    </tr>\n",
       "  </thead>\n",
       "  <tbody>\n",
       "    <tr>\n",
       "      <th>M</th>\n",
       "      <td>145.32</td>\n",
       "    </tr>\n",
       "    <tr>\n",
       "      <th>E</th>\n",
       "      <td>83.36</td>\n",
       "    </tr>\n",
       "    <tr>\n",
       "      <th>Unknown</th>\n",
       "      <td>78.91</td>\n",
       "    </tr>\n",
       "    <tr>\n",
       "      <th>E10+</th>\n",
       "      <td>42.69</td>\n",
       "    </tr>\n",
       "    <tr>\n",
       "      <th>T</th>\n",
       "      <td>41.95</td>\n",
       "    </tr>\n",
       "  </tbody>\n",
       "</table>\n",
       "</div>"
      ],
      "text/plain": [
       "         eu_sales\n",
       "rating           \n",
       "M          145.32\n",
       "E           83.36\n",
       "Unknown     78.91\n",
       "E10+        42.69\n",
       "T           41.95"
      ]
     },
     "execution_count": 75,
     "metadata": {},
     "output_type": "execute_result"
    }
   ],
   "source": [
    "eu_rating_region = rating_region[['eu_sales']].sort_values('eu_sales', ascending=False)\n",
    "eu_rating_region"
   ]
  },
  {
   "cell_type": "code",
   "execution_count": 76,
   "metadata": {},
   "outputs": [
    {
     "data": {
      "text/html": [
       "<div>\n",
       "<style scoped>\n",
       "    .dataframe tbody tr th:only-of-type {\n",
       "        vertical-align: middle;\n",
       "    }\n",
       "\n",
       "    .dataframe tbody tr th {\n",
       "        vertical-align: top;\n",
       "    }\n",
       "\n",
       "    .dataframe thead th {\n",
       "        text-align: right;\n",
       "    }\n",
       "</style>\n",
       "<table border=\"1\" class=\"dataframe\">\n",
       "  <thead>\n",
       "    <tr style=\"text-align: right;\">\n",
       "      <th></th>\n",
       "      <th>jp_sales</th>\n",
       "    </tr>\n",
       "    <tr>\n",
       "      <th>rating</th>\n",
       "      <th></th>\n",
       "    </tr>\n",
       "  </thead>\n",
       "  <tbody>\n",
       "    <tr>\n",
       "      <th>Unknown</th>\n",
       "      <td>85.05</td>\n",
       "    </tr>\n",
       "    <tr>\n",
       "      <th>T</th>\n",
       "      <td>20.59</td>\n",
       "    </tr>\n",
       "    <tr>\n",
       "      <th>E</th>\n",
       "      <td>15.14</td>\n",
       "    </tr>\n",
       "    <tr>\n",
       "      <th>M</th>\n",
       "      <td>14.11</td>\n",
       "    </tr>\n",
       "    <tr>\n",
       "      <th>E10+</th>\n",
       "      <td>5.89</td>\n",
       "    </tr>\n",
       "  </tbody>\n",
       "</table>\n",
       "</div>"
      ],
      "text/plain": [
       "         jp_sales\n",
       "rating           \n",
       "Unknown     85.05\n",
       "T           20.59\n",
       "E           15.14\n",
       "M           14.11\n",
       "E10+         5.89"
      ]
     },
     "execution_count": 76,
     "metadata": {},
     "output_type": "execute_result"
    }
   ],
   "source": [
    "jp_rating_region = rating_region[['jp_sales']].sort_values('jp_sales', ascending=False)\n",
    "jp_rating_region"
   ]
  },
  {
   "cell_type": "code",
   "execution_count": 77,
   "metadata": {},
   "outputs": [
    {
     "data": {
      "image/png": "[encoded data removed]",
      "text/plain": [
       "<Figure size 1080x360 with 3 Axes>"
      ]
     },
     "metadata": {},
     "output_type": "display_data"
    }
   ],
   "source": [
    "fig, (ax1, ax2, ax3) = plt.subplots(1, 3, figsize=(15, 5))\n",
    "fig.suptitle('Рейтинг в регионах')\n",
    "\n",
    "labels1 = na_rating_region.index\n",
    "sizes1 = na_rating_region['na_sales']\n",
    "\n",
    "labels2 = eu_rating_region.index\n",
    "sizes2 = eu_rating_region['eu_sales']\n",
    "\n",
    "labels3 = jp_rating_region.index\n",
    "sizes3 = jp_rating_region['jp_sales']\n",
    "\n",
    "ax1.pie(sizes1, labels=labels1, autopct='%1.1f%%')\n",
    "ax1.set_title('Продажи в NA')\n",
    "\n",
    "ax2.pie(sizes2, labels=labels2, autopct='%1.1f%%')\n",
    "ax2.set_title('Продажи в EU')\n",
    "\n",
    "ax3.pie(sizes3, labels=labels3, autopct='%1.1f%%')\n",
    "ax3.set_title('Продажи в JP')\n",
    "\n",
    "plt.show()"
   ]
  },
  {
   "cell_type": "markdown",
   "metadata": {},
   "source": [
    "В Северной Америке и Европе предпочитают категорию М - для взрослых  \n",
    "В Японии - игры без категорий.  Скорее всего это игры собстенного производства. так как компания ESRB в основном базируется на оценивании Американских и Канадских компаний. "
   ]
  },
  {
   "cell_type": "markdown",
   "metadata": {},
   "source": [
    "**Портрет Американца**  \n",
    "\n",
    "* Любит играть на PS4  \n",
    "* Предпочитает играть в Экшен \n",
    "* Играет в игры для взрослых  \n",
    "\n",
    "**Портрет Европейца**\n",
    "* Любит играть на PS4\n",
    "* Предпочитает играть в Экшен \n",
    "* Играет в игры для взрослых  \n",
    "\n",
    "**Портрет Японца**\n",
    "* Любит играть на 3DS  \n",
    "* Предпочитает играть в Ролевые игры\n",
    "* Играет в игры без маркировки   \n",
    "\n",
    "Регионы Северная Америка и Европа схожи."
   ]
  },
  {
   "cell_type": "markdown",
   "metadata": {},
   "source": [
    "## Проверка гипотез"
   ]
  },
  {
   "cell_type": "markdown",
   "metadata": {},
   "source": [
    "### Средние пользовательские рейтинги платформ Xbox One и PC одинаковые"
   ]
  },
  {
   "cell_type": "markdown",
   "metadata": {},
   "source": [
    "Нулевая гипотеза (H0): Средние пользовательские рейтинги платформ Xbox One и PC одинаковые.  \n",
    "Альтерантивная гипотеза (H1): Средние пользовательские рейтинги платформ Xbox One и PC различаются."
   ]
  },
  {
   "cell_type": "code",
   "execution_count": 78,
   "metadata": {},
   "outputs": [
    {
     "name": "stdout",
     "output_type": "stream",
     "text": [
      "Средний пользовательский рейтинг платформ Xbox One: 6.52\n",
      "Средний пользовательский рейтинг платформ PC: 7.07\n"
     ]
    }
   ],
   "source": [
    "print('Средний пользовательский рейтинг платформ Xbox One:', round(df.query('platform == \"XOne\"')['user_score'].mean(),2))\n",
    "print('Средний пользовательский рейтинг платформ PC:', round(df.query('platform == \"PC\"')['user_score'].mean(),2))"
   ]
  },
  {
   "cell_type": "markdown",
   "metadata": {},
   "source": [
    "На первый взгляд разница кажется не значительной.  \n",
    "Проверим."
   ]
  },
  {
   "cell_type": "markdown",
   "metadata": {},
   "source": [
    "Сформируем массивы для обоих платформ"
   ]
  },
  {
   "cell_type": "code",
   "execution_count": 79,
   "metadata": {},
   "outputs": [],
   "source": [
    "XOne = df.query(' platform == \"XOne\" ')['user_score'].dropna().to_list()\n",
    "PC = df.query(' platform == \"PC\" ')['user_score'].dropna().to_list()"
   ]
  },
  {
   "cell_type": "markdown",
   "metadata": {},
   "source": [
    "Посчитаем дисперсии, чтобы определиться с параметром `equal_var`"
   ]
  },
  {
   "cell_type": "code",
   "execution_count": 80,
   "metadata": {},
   "outputs": [
    {
     "name": "stdout",
     "output_type": "stream",
     "text": [
      "Дисперсия XOne = 1.8965188383045526\n",
      "Дисперсия PC = 2.346112819613175\n"
     ]
    }
   ],
   "source": [
    "print('Дисперсия XOne =', np.var(XOne))\n",
    "print('Дисперсия PC =', np.var(PC))"
   ]
  },
  {
   "cell_type": "markdown",
   "metadata": {},
   "source": [
    "Дисперсии отличаются (~ 20%), поэтому возьмем `equal_var=False`"
   ]
  },
  {
   "cell_type": "code",
   "execution_count": 81,
   "metadata": {},
   "outputs": [
    {
     "name": "stdout",
     "output_type": "stream",
     "text": [
      "p-значение: 4.5385802963771835e-06\n",
      "Отвергаем нулевую гипотезу\n"
     ]
    }
   ],
   "source": [
    "alpha = 0.05\n",
    "\n",
    "results = st.ttest_ind(XOne, PC, equal_var = False)\n",
    "\n",
    "print('p-значение:', results.pvalue)\n",
    "\n",
    "if (results.pvalue < alpha):\n",
    "    print(\"Отвергаем нулевую гипотезу\")\n",
    "else:\n",
    "    print(\"Не получилось отвергнуть нулевую гипотезу\")"
   ]
  },
  {
   "cell_type": "markdown",
   "metadata": {},
   "source": [
    "Нулевая гипотеза отвергнута - это значит, что cредние пользовательские рейтинги платформ *Xbox One* и *PC* различны."
   ]
  },
  {
   "cell_type": "markdown",
   "metadata": {},
   "source": [
    "### Средние пользовательские рейтинги жанров Action и Sports разные"
   ]
  },
  {
   "cell_type": "markdown",
   "metadata": {},
   "source": [
    "Нулевая гипотеза (H0): Средние пользовательские рейтинги жанров Action и Sports одинаковые.  \n",
    "Альтерантивная гипотеза (H1): Средние пользовательские рейтинги жанров Action и Sports различаются."
   ]
  },
  {
   "cell_type": "code",
   "execution_count": 82,
   "metadata": {},
   "outputs": [
    {
     "name": "stdout",
     "output_type": "stream",
     "text": [
      "Средний пользовательский рейтинг жанра экшен: 7.06\n",
      "Средний пользовательский рейтинг жанра спортивных игр: 6.95\n"
     ]
    }
   ],
   "source": [
    "print('Средний пользовательский рейтинг жанра экшен:', round(df.query('genre == \"Action\"')['user_score'].mean(),2))\n",
    "print('Средний пользовательский рейтинг жанра спортивных игр:', round(df.query('genre == \"Sports\"')['user_score'].mean(),2))"
   ]
  },
  {
   "cell_type": "markdown",
   "metadata": {},
   "source": [
    "Сформируем массивы для обоих жанров"
   ]
  },
  {
   "cell_type": "code",
   "execution_count": 83,
   "metadata": {},
   "outputs": [],
   "source": [
    "action = df.query(' genre == \"Action\" ')['user_score'].dropna().to_list()\n",
    "sports = df.query(' genre == \"Sports\" ')['user_score'].dropna().to_list()"
   ]
  },
  {
   "cell_type": "markdown",
   "metadata": {},
   "source": [
    "Посчитаем дисперсии, чтобы определиться с параметром `equal_var`"
   ]
  },
  {
   "cell_type": "code",
   "execution_count": 84,
   "metadata": {
    "scrolled": true
   },
   "outputs": [
    {
     "name": "stdout",
     "output_type": "stream",
     "text": [
      "Дисперсия Action = 2.0263648741821716\n",
      "Дисперсия Sports = 2.621103395061729\n"
     ]
    }
   ],
   "source": [
    "print('Дисперсия Action =', np.var(action))\n",
    "print('Дисперсия Sports =', np.var(sports))"
   ]
  },
  {
   "cell_type": "markdown",
   "metadata": {},
   "source": [
    "Дисперсии отличаются (~ 33%), поэтому возьмем `equal_var=False`"
   ]
  },
  {
   "cell_type": "code",
   "execution_count": 85,
   "metadata": {},
   "outputs": [
    {
     "name": "stdout",
     "output_type": "stream",
     "text": [
      "p-значение: 0.07751671595536253\n",
      "Не получилось отвергнуть нулевую гипотезу\n"
     ]
    }
   ],
   "source": [
    "alpha = 0.05\n",
    "\n",
    "results = st.ttest_ind(action, sports, equal_var = False)\n",
    "\n",
    "print('p-значение:', results.pvalue)\n",
    "\n",
    "if (results.pvalue < alpha):\n",
    "    print(\"Отвергаем нулевую гипотезу\")\n",
    "else:\n",
    "    print(\"Не получилось отвергнуть нулевую гипотезу\")"
   ]
  },
  {
   "cell_type": "markdown",
   "metadata": {},
   "source": [
    "Не получилось отвергнуть нулевую гипотезу - это значит средние пользовательские рейтинги жанров *Action* и *Sports* одинаковые."
   ]
  },
  {
   "cell_type": "markdown",
   "metadata": {},
   "source": [
    "## Итог"
   ]
  },
  {
   "cell_type": "markdown",
   "metadata": {},
   "source": [
    "Мы провели исследование 16715 игр на исторических данных о продажах игр за период с 1980г по 2016г.  \n",
    "\n",
    "Необходимо было выявить закономерности, определяющие успешность игры.  \n",
    "\n",
    "Исследование проходило в 5 этапов: \n",
    "* обзор данных\n",
    "* предобработка\n",
    "* исследование данных\n",
    "* составление портрета пользователя каждого региона\n",
    "* проверка гипотез:  \n",
    "1) Средние пользовательские рейтинги платформ Xbox One и PC одинаковые  \n",
    "2) Средние пользовательские рейтинги жанров Action (англ. «действие», экшен игры) и Sports (англ. «спортивные соревнования») разные"
   ]
  },
  {
   "cell_type": "markdown",
   "metadata": {},
   "source": [
    "**Обзор данных**  \n",
    "В обзоре данных мы выявили пропуски в 6 столбцах.  \n",
    "Расхождения в стиле заголовков и типах данных.  \n",
    "Явных дубликатов нет."
   ]
  },
  {
   "cell_type": "markdown",
   "metadata": {},
   "source": [
    "**Предобработка данных**  \n",
    "\n",
    "В результате предобработки удалили ~ 2% данных.  \n",
    "\n",
    "Заменили названия столбцов (привел к нижнему регистру)  \n",
    "Преобразовали данные в нужные типы.  \n",
    "Выявили и удалили неявные дубликаты.  \n",
    "Выявили пропуски в 6 столбцах. Заменили пропуски на заглушку или оставили без изменений.  \n",
    "Посмотрели значения и распределение значений столбцов.  \n",
    "Добавили новый столбец с суммой продаж во всех регионах.  \n",
    "\n",
    "Некоторые игры выпускались в разные года и для разных платформ.  \n",
    "\n",
    "Всего 31 платформа.\n",
    "Есть платформы, для которых разрабатывают игры чаще; для некоторых платформ количество игр ограничено.  \n",
    "\n",
    "Представлено 12 жанров: \"Экшн\", \"Приключения\", \"Борьба\", \"Разное\", \"Платформа\", \"Головоломка\", \"Гонки\", \"Ролевые игры\", \"Шутер\", \"Симулятор\", \"Спорт\", \"Стратегия\".  \n",
    "\n",
    "Оценка критиков находится в диапазоне от 13 до 98 баллов.  \n",
    "\n",
    "Оценка пользователей находится в диапазоне от 0 до 9.7 баллов.  \n",
    "\n",
    "ESRB присваивает следующие рейтинги:  \n",
    "\n",
    "«EC» («Early childhood») — «Для детей младшего возраста»  \n",
    "«E» («Everyone») — «Для всех»  \n",
    "«E10+» («Everyone 10 and older») — «Для всех от 10 лет и старше»  \n",
    "«T» («Teen») — «Подросткам»  \n",
    "«M» («Mature») — «Для взрослых»  \n",
    "«AO» («Adults Only 18+») — «Только для взрослых»  \n",
    "«RP» («Rating Pending») — «Рейтинг ожидается»  \n",
    "K-A - старый вариант маркировки E (for everyone)  \n",
    "Маркировок 'RP', 'K-A' и 'AO' мало. Заменили 'RP' на 'Unknown', 'K-A' на 'E', 'AO' на 'M'  \n",
    "\n",
    "Продажи в Северной Америке:  \n",
    "В 25% случаях цена либо не указана, либо действительно 0.  \n",
    "Максимальное значение - 41.3 млн.проданных копий.  \n",
    "Большая часть игр продана меньше чем в 300тыс. экземпляров.  \n",
    "Но есть и достаточно успешные игры.   \n",
    "\n",
    "Продажи в Европе:  \n",
    "В 25% случаях цена либо не указана, либо действительно 0.  \n",
    "Максимальное значение - 28.9 млн.проданных копий.  \n",
    "Большая часть игр продана меньше чем в 100тыс. экземпляров.  \n",
    "Но есть и достаточно успешные игры.  \n",
    "\n",
    "Продажи в Японии:  \n",
    "В 50% случаях цена либо не указана, либо действительно 0.  \n",
    "Максимальное значение - 10.2 млн.проданных копий.  \n",
    "Большая часть игр продана меньше чем в 40тыс. экземпляров.  \n",
    "Так же есть и достаточно успешные игры.  \n",
    "\n",
    "Продажи в других странах:  \n",
    "В 25% случаях цена либо не указана, либо действительно 0.  \n",
    "Максимальное значение - 10.5 млн.проданных копий.  \n",
    "Большая часть игр продана меньше чем в 30тыс. экземпляров.  \n",
    "Так же есть и достаточно успешные игры.  \n",
    "\n",
    "**В Северной Америке компьютерные игры востребованы больше, чем в других регионах**"
   ]
  },
  {
   "cell_type": "markdown",
   "metadata": {},
   "source": [
    "**Исследовательский анализ данных**  "
   ]
  },
  {
   "cell_type": "markdown",
   "metadata": {},
   "source": [
    "1. Период до 1994 года характеризуется малой активностью. Хорошо видно, что важный период в релизах игр наступает в 1993-94 гг - и после начинается резкий рост производства и продаж игр (до 1426-1427 шт/год).  \n",
    "В 2010 наступает переломный момент и уже в 2012 релизы падают примерно в 2 раза (до 652шт/год) и до 2016 держатся примерно на одном уровне.  \n",
    "\n",
    "\n",
    "2. Продажи по платформам сильно отличаются.  \n",
    "Есть очень популярные платформы - с продажами в несколько сотен миллн.  \n",
    "И сильно отстающие - с продажами в несколько тысяч экземпляров.  \n",
    "Наибольшее количество продаж было у игр для PlayStation 2.  \n",
    "\n",
    "\n",
    "3. Среднее количество лет существования платформы - 9,7 лет.  \n",
    "Пик продаж приходится примерно на середину этого срока.  \n",
    "Поэтому для прогноза на следующий год (2017г) мы выбрали данные за последние 3 года(с 2013г). Возникшие в эти годы платформы скорее всего будут популярными в ближайшее время.  \n",
    "\n",
    "\n",
    "4. Многие популярные платформы, такие как: Wii, PS3, X360, PSP, - прошли свой цикл развития 10-12 лет, и как раз в районе текущего 2016 года завершают его.  \n",
    "Есть две платформы - **PlayStation 4** и **XboxOne**, которые появились относительно недавно (в 2013 году), в 2016 был спад; но так как у нас имеются не все данные за 2016 год, сложно сказать о том, находятся ли сейчас продажи каких-либо игр на определенных платформах на пике или на спаде.\n",
    "На данный момент это самые перспективные платформы.  \n",
    "\n",
    "\n",
    "5. У успешных платформ медианы продаж находятся примерно на одном урвне (~ 0.2млн. проданных копий).  \n",
    "Выделяются 4 платформы с огромным количеством продаж: PS3, X360, PS4 и XOne.  \n",
    "\n",
    "\n",
    "6. Зависимость продаж пропорцианальная - от отзывов критиков слабая, но ближе к средней, а от отзывов пользователей значительно слабее, чем от критиков.  \n",
    "\n",
    "\n",
    "7. В продажах по жанрам в лидерах: *Shooter(25,5%), Sports(13,6%), Platform(12,7%)*; аутсайдеры здесь *Adventure(1,7%), Puzzle(3,4%)*   \n",
    "Распределение количества игр по жанрам: *Action(34,3%),  Role-Playing(13,1%) и Adventure(11%)*; аутсайдеры здесь *Puzzle(0,8%) и Strategy(2,5%)*"
   ]
  },
  {
   "cell_type": "markdown",
   "metadata": {},
   "source": [
    "**Портрет пользователя каждого региона**  \n",
    "\n",
    "**Портрет Американца**  \n",
    "\n",
    "* Любит играть на PS4  \n",
    "* Предпочитает играть в Экшен \n",
    "* Играет в игры для взрослых  \n",
    "\n",
    "**Портрет Европейца**\n",
    "* Любит играть на PS4\n",
    "* Предпочитает играть в Экшен \n",
    "* Играет в игры для взрослых  \n",
    "\n",
    "**Портрет Японца**\n",
    "* Любит играть на 3DS  \n",
    "* Предпочитает играть в Ролевые игры \n",
    "* Играет в игры без маркировки   \n",
    "\n",
    "Регионы Северная Америка и Европа схожи."
   ]
  },
  {
   "cell_type": "markdown",
   "metadata": {},
   "source": [
    "**Проверка гипотез**  \n",
    "\n",
    "1. Средние пользовательские рейтинги платформ *Xbox One* и *PC* различны.  \n",
    "2. Средние пользовательские рейтинги жанров *Action* и *Sports* одинаковые."
   ]
  },
  {
   "cell_type": "markdown",
   "metadata": {},
   "source": [
    "**Критерии определяющие успешность игры:**\n",
    "\n",
    "* Регион\n",
    "* Рейтинг ассоциации, определяющей возрастной рейтинг компьютерных игр\n",
    "* Платформа, которая наиболее распространена в данном регионе\n",
    "* Жанр\n",
    "* Рейтинг критиков  \n",
    "\n",
    "Игры, которые будут продаваться в Северной Америке лучше всего:  \n",
    "ESRB: M, E  \n",
    "Платформы (в порядке убывания): PS4, XOne, X360, PS3, 3DS\t \n",
    "Жанры: Action,  Shooter, Sports, Role-Playing, Misc  \n",
    "\n",
    "Игры, которые будут продаваться в Европе лучше всего:  \n",
    "ESRB: M, E  \n",
    "Платформы: PS4, PS3, XOne, X360, 3DS\t \n",
    "Жанры: Action, Shooter, Sports, Role-Playing, Racing  \n",
    "\n",
    "Игры, которые будут продаваться в Японии лучше всего:  \n",
    "ESRB: без маркировки (собственного производства)  \n",
    "Платформы: 3DS, PS3, PSV, PS4, WiiU  \n",
    "Жанры: Role-Playing, Action, Misc, Fighting, Shooter  \t\n",
    "\n",
    "На данный момент самые перспективные платформы:  **PlayStation 4** и **XboxOne**"
   ]
  }
 ],
 "metadata": {
  "ExecuteTimeLog": [
   {
    "duration": 1311,
    "start_time": "2023-08-26T09:35:43.391Z"
   },
   {
    "duration": 166,
    "start_time": "2023-08-26T09:36:25.035Z"
   },
   {
    "duration": 18,
    "start_time": "2023-08-26T09:36:32.582Z"
   },
   {
    "duration": 17,
    "start_time": "2023-08-26T09:37:24.416Z"
   },
   {
    "duration": 19,
    "start_time": "2023-08-26T09:38:29.912Z"
   },
   {
    "duration": 5,
    "start_time": "2023-08-26T09:45:41.379Z"
   },
   {
    "duration": 913,
    "start_time": "2023-08-26T09:54:21.765Z"
   },
   {
    "duration": 5,
    "start_time": "2023-08-26T09:54:40.329Z"
   },
   {
    "duration": 845,
    "start_time": "2023-08-26T09:54:54.707Z"
   },
   {
    "duration": 5,
    "start_time": "2023-08-26T09:55:17.395Z"
   },
   {
    "duration": 15,
    "start_time": "2023-08-26T09:55:27.260Z"
   },
   {
    "duration": 16,
    "start_time": "2023-08-26T09:57:08.924Z"
   },
   {
    "duration": 14,
    "start_time": "2023-08-26T10:02:29.131Z"
   },
   {
    "duration": 5,
    "start_time": "2023-08-26T10:12:03.684Z"
   },
   {
    "duration": 30,
    "start_time": "2023-08-26T10:15:40.826Z"
   },
   {
    "duration": 13,
    "start_time": "2023-08-26T10:18:15.993Z"
   },
   {
    "duration": 23,
    "start_time": "2023-08-26T10:18:31.412Z"
   },
   {
    "duration": 7,
    "start_time": "2023-08-26T10:23:05.785Z"
   },
   {
    "duration": 20,
    "start_time": "2023-08-26T10:24:38.245Z"
   },
   {
    "duration": 12,
    "start_time": "2023-08-26T10:25:19.791Z"
   },
   {
    "duration": 7,
    "start_time": "2023-08-26T10:26:31.057Z"
   },
   {
    "duration": 6,
    "start_time": "2023-08-26T10:27:36.313Z"
   },
   {
    "duration": 6,
    "start_time": "2023-08-26T10:28:09.413Z"
   },
   {
    "duration": 18,
    "start_time": "2023-08-26T10:30:15.203Z"
   },
   {
    "duration": 14,
    "start_time": "2023-08-26T10:30:44.914Z"
   },
   {
    "duration": 7,
    "start_time": "2023-08-26T10:30:59.206Z"
   },
   {
    "duration": 30,
    "start_time": "2023-08-26T10:31:23.834Z"
   },
   {
    "duration": 18,
    "start_time": "2023-08-26T10:32:14.420Z"
   },
   {
    "duration": 15,
    "start_time": "2023-08-26T10:37:40.008Z"
   },
   {
    "duration": 12,
    "start_time": "2023-08-26T10:37:48.178Z"
   },
   {
    "duration": 291,
    "start_time": "2023-08-26T10:38:05.170Z"
   },
   {
    "duration": 18,
    "start_time": "2023-08-26T10:38:09.686Z"
   },
   {
    "duration": 16,
    "start_time": "2023-08-26T10:38:28.803Z"
   },
   {
    "duration": 17,
    "start_time": "2023-08-26T10:42:19.899Z"
   },
   {
    "duration": 16,
    "start_time": "2023-08-26T10:42:44.365Z"
   },
   {
    "duration": 28,
    "start_time": "2023-08-26T10:43:30.917Z"
   },
   {
    "duration": 75,
    "start_time": "2023-08-26T10:43:58.277Z"
   },
   {
    "duration": 263,
    "start_time": "2023-08-26T10:45:29.845Z"
   },
   {
    "duration": 12,
    "start_time": "2023-08-26T10:47:10.195Z"
   },
   {
    "duration": 6,
    "start_time": "2023-08-26T10:48:29.565Z"
   },
   {
    "duration": 11,
    "start_time": "2023-08-26T10:49:00.079Z"
   },
   {
    "duration": 14,
    "start_time": "2023-08-26T10:50:02.313Z"
   },
   {
    "duration": 164,
    "start_time": "2023-08-26T10:50:28.578Z"
   },
   {
    "duration": 129,
    "start_time": "2023-08-26T10:50:57.093Z"
   },
   {
    "duration": 143,
    "start_time": "2023-08-26T10:51:17.572Z"
   },
   {
    "duration": 0,
    "start_time": "2023-08-26T10:51:46.131Z"
   },
   {
    "duration": 7,
    "start_time": "2023-08-26T10:52:18.440Z"
   },
   {
    "duration": 0,
    "start_time": "2023-08-26T10:53:20.798Z"
   },
   {
    "duration": 0,
    "start_time": "2023-08-26T10:53:20.799Z"
   },
   {
    "duration": 0,
    "start_time": "2023-08-26T10:53:20.800Z"
   },
   {
    "duration": 0,
    "start_time": "2023-08-26T10:53:20.801Z"
   },
   {
    "duration": 0,
    "start_time": "2023-08-26T10:53:20.802Z"
   },
   {
    "duration": 0,
    "start_time": "2023-08-26T10:53:20.803Z"
   },
   {
    "duration": 0,
    "start_time": "2023-08-26T10:53:20.804Z"
   },
   {
    "duration": 0,
    "start_time": "2023-08-26T10:53:20.805Z"
   },
   {
    "duration": 0,
    "start_time": "2023-08-26T10:53:20.806Z"
   },
   {
    "duration": 0,
    "start_time": "2023-08-26T10:53:20.807Z"
   },
   {
    "duration": 0,
    "start_time": "2023-08-26T10:53:20.808Z"
   },
   {
    "duration": 0,
    "start_time": "2023-08-26T10:53:20.809Z"
   },
   {
    "duration": 0,
    "start_time": "2023-08-26T10:53:20.810Z"
   },
   {
    "duration": 0,
    "start_time": "2023-08-26T10:53:20.811Z"
   },
   {
    "duration": 0,
    "start_time": "2023-08-26T10:53:20.812Z"
   },
   {
    "duration": 0,
    "start_time": "2023-08-26T10:53:20.813Z"
   },
   {
    "duration": 1,
    "start_time": "2023-08-26T10:53:20.813Z"
   },
   {
    "duration": 0,
    "start_time": "2023-08-26T10:53:20.814Z"
   },
   {
    "duration": 0,
    "start_time": "2023-08-26T10:53:20.815Z"
   },
   {
    "duration": 0,
    "start_time": "2023-08-26T10:53:20.816Z"
   },
   {
    "duration": 0,
    "start_time": "2023-08-26T10:53:20.817Z"
   },
   {
    "duration": 0,
    "start_time": "2023-08-26T10:53:20.818Z"
   },
   {
    "duration": 16,
    "start_time": "2023-08-26T10:53:52.422Z"
   },
   {
    "duration": 52,
    "start_time": "2023-08-26T10:53:52.453Z"
   },
   {
    "duration": 11,
    "start_time": "2023-08-26T10:53:52.506Z"
   },
   {
    "duration": 29,
    "start_time": "2023-08-26T10:53:52.519Z"
   },
   {
    "duration": 18,
    "start_time": "2023-08-26T10:53:52.552Z"
   },
   {
    "duration": 32,
    "start_time": "2023-08-26T10:53:52.572Z"
   },
   {
    "duration": 23,
    "start_time": "2023-08-26T10:53:52.606Z"
   },
   {
    "duration": 22,
    "start_time": "2023-08-26T10:53:52.635Z"
   },
   {
    "duration": 21,
    "start_time": "2023-08-26T10:53:52.659Z"
   },
   {
    "duration": 21,
    "start_time": "2023-08-26T10:53:52.682Z"
   },
   {
    "duration": 29,
    "start_time": "2023-08-26T10:53:52.705Z"
   },
   {
    "duration": 20,
    "start_time": "2023-08-26T10:53:52.735Z"
   },
   {
    "duration": 15,
    "start_time": "2023-08-26T10:53:52.757Z"
   },
   {
    "duration": 209,
    "start_time": "2023-08-26T10:53:52.773Z"
   },
   {
    "duration": 13,
    "start_time": "2023-08-26T10:53:52.984Z"
   },
   {
    "duration": 15,
    "start_time": "2023-08-26T10:53:52.998Z"
   },
   {
    "duration": 26,
    "start_time": "2023-08-26T10:53:53.014Z"
   },
   {
    "duration": 22,
    "start_time": "2023-08-26T10:53:53.043Z"
   },
   {
    "duration": 154,
    "start_time": "2023-08-26T10:53:53.067Z"
   },
   {
    "duration": 170,
    "start_time": "2023-08-26T10:53:53.224Z"
   },
   {
    "duration": 28153,
    "start_time": "2023-08-26T10:53:53.396Z"
   },
   {
    "duration": 0,
    "start_time": "2023-08-26T10:54:21.551Z"
   },
   {
    "duration": 5,
    "start_time": "2023-08-26T10:55:51.197Z"
   },
   {
    "duration": 9,
    "start_time": "2023-08-26T10:55:55.569Z"
   },
   {
    "duration": 134,
    "start_time": "2023-08-26T10:56:02.358Z"
   },
   {
    "duration": 218,
    "start_time": "2023-08-26T10:56:05.679Z"
   },
   {
    "duration": 180,
    "start_time": "2023-08-26T10:56:37.479Z"
   },
   {
    "duration": 177,
    "start_time": "2023-08-26T10:56:54.190Z"
   },
   {
    "duration": 154,
    "start_time": "2023-08-26T10:57:09.426Z"
   },
   {
    "duration": 157,
    "start_time": "2023-08-26T10:57:24.202Z"
   },
   {
    "duration": 12,
    "start_time": "2023-08-26T10:58:25.343Z"
   },
   {
    "duration": 896,
    "start_time": "2023-08-26T11:00:19.148Z"
   },
   {
    "duration": 13,
    "start_time": "2023-08-26T11:00:39.815Z"
   },
   {
    "duration": 182,
    "start_time": "2023-08-26T11:00:56.494Z"
   },
   {
    "duration": 262,
    "start_time": "2023-08-26T11:01:56.492Z"
   },
   {
    "duration": 146,
    "start_time": "2023-08-26T11:02:20.750Z"
   },
   {
    "duration": 135,
    "start_time": "2023-08-26T11:02:59.250Z"
   },
   {
    "duration": 176,
    "start_time": "2023-08-26T11:03:40.483Z"
   },
   {
    "duration": 160,
    "start_time": "2023-08-26T11:03:46.802Z"
   },
   {
    "duration": 149,
    "start_time": "2023-08-26T11:03:55.138Z"
   },
   {
    "duration": 163,
    "start_time": "2023-08-26T11:04:20.907Z"
   },
   {
    "duration": 140,
    "start_time": "2023-08-26T11:04:42.262Z"
   },
   {
    "duration": 159,
    "start_time": "2023-08-26T11:04:57.478Z"
   },
   {
    "duration": 169,
    "start_time": "2023-08-26T11:05:40.438Z"
   },
   {
    "duration": 183,
    "start_time": "2023-08-26T11:05:50.643Z"
   },
   {
    "duration": 24,
    "start_time": "2023-08-26T11:14:55.949Z"
   },
   {
    "duration": 3,
    "start_time": "2023-08-26T11:15:19.166Z"
   },
   {
    "duration": 67,
    "start_time": "2023-08-26T11:15:19.173Z"
   },
   {
    "duration": 11,
    "start_time": "2023-08-26T11:15:19.249Z"
   },
   {
    "duration": 13,
    "start_time": "2023-08-26T11:15:19.262Z"
   },
   {
    "duration": 13,
    "start_time": "2023-08-26T11:15:19.277Z"
   },
   {
    "duration": 3,
    "start_time": "2023-08-26T11:15:19.292Z"
   },
   {
    "duration": 8,
    "start_time": "2023-08-26T11:15:22.880Z"
   },
   {
    "duration": 3,
    "start_time": "2023-08-26T11:15:32.107Z"
   },
   {
    "duration": 263,
    "start_time": "2023-08-26T11:15:32.112Z"
   },
   {
    "duration": 54,
    "start_time": "2023-08-26T11:15:32.376Z"
   },
   {
    "duration": 36,
    "start_time": "2023-08-26T11:15:32.432Z"
   },
   {
    "duration": 17,
    "start_time": "2023-08-26T11:15:32.470Z"
   },
   {
    "duration": 16,
    "start_time": "2023-08-26T11:15:32.489Z"
   },
   {
    "duration": 15,
    "start_time": "2023-08-26T11:15:32.506Z"
   },
   {
    "duration": 28,
    "start_time": "2023-08-26T11:15:32.523Z"
   },
   {
    "duration": 37,
    "start_time": "2023-08-26T11:15:32.553Z"
   },
   {
    "duration": 25,
    "start_time": "2023-08-26T11:15:32.591Z"
   },
   {
    "duration": 130,
    "start_time": "2023-08-26T11:15:32.617Z"
   },
   {
    "duration": 13,
    "start_time": "2023-08-26T11:15:32.749Z"
   },
   {
    "duration": 35,
    "start_time": "2023-08-26T11:15:32.764Z"
   },
   {
    "duration": 177,
    "start_time": "2023-08-26T11:15:32.801Z"
   },
   {
    "duration": 14,
    "start_time": "2023-08-26T11:15:32.979Z"
   },
   {
    "duration": 25,
    "start_time": "2023-08-26T11:15:32.995Z"
   },
   {
    "duration": 35,
    "start_time": "2023-08-26T11:15:33.022Z"
   },
   {
    "duration": 20,
    "start_time": "2023-08-26T11:15:33.059Z"
   },
   {
    "duration": 204,
    "start_time": "2023-08-26T11:15:33.081Z"
   },
   {
    "duration": 282,
    "start_time": "2023-08-26T11:15:33.287Z"
   },
   {
    "duration": 191,
    "start_time": "2023-08-26T11:15:33.571Z"
   },
   {
    "duration": 146,
    "start_time": "2023-08-26T11:15:33.763Z"
   },
   {
    "duration": 165,
    "start_time": "2023-08-26T11:15:33.911Z"
   },
   {
    "duration": 216,
    "start_time": "2023-08-26T11:15:34.077Z"
   },
   {
    "duration": 167,
    "start_time": "2023-08-26T11:15:34.295Z"
   },
   {
    "duration": 165,
    "start_time": "2023-08-26T11:15:34.464Z"
   },
   {
    "duration": 5,
    "start_time": "2023-08-26T12:06:09.710Z"
   },
   {
    "duration": 1235,
    "start_time": "2023-08-27T13:26:24.961Z"
   },
   {
    "duration": 189,
    "start_time": "2023-08-27T13:26:26.201Z"
   },
   {
    "duration": 18,
    "start_time": "2023-08-27T13:26:26.394Z"
   },
   {
    "duration": 32,
    "start_time": "2023-08-27T13:26:26.414Z"
   },
   {
    "duration": 32,
    "start_time": "2023-08-27T13:26:26.447Z"
   },
   {
    "duration": 24,
    "start_time": "2023-08-27T13:26:26.481Z"
   },
   {
    "duration": 26,
    "start_time": "2023-08-27T13:26:26.507Z"
   },
   {
    "duration": 35,
    "start_time": "2023-08-27T13:26:26.534Z"
   },
   {
    "duration": 26,
    "start_time": "2023-08-27T13:26:26.570Z"
   },
   {
    "duration": 31,
    "start_time": "2023-08-27T13:26:26.599Z"
   },
   {
    "duration": 18,
    "start_time": "2023-08-27T13:26:26.631Z"
   },
   {
    "duration": 40,
    "start_time": "2023-08-27T13:26:26.650Z"
   },
   {
    "duration": 12,
    "start_time": "2023-08-27T13:26:26.692Z"
   },
   {
    "duration": 33,
    "start_time": "2023-08-27T13:26:26.706Z"
   },
   {
    "duration": 132,
    "start_time": "2023-08-27T13:26:26.740Z"
   },
   {
    "duration": 11,
    "start_time": "2023-08-27T13:26:26.874Z"
   },
   {
    "duration": 24,
    "start_time": "2023-08-27T13:26:26.887Z"
   },
   {
    "duration": 33,
    "start_time": "2023-08-27T13:26:26.912Z"
   },
   {
    "duration": 14,
    "start_time": "2023-08-27T13:26:26.946Z"
   },
   {
    "duration": 160,
    "start_time": "2023-08-27T13:26:26.961Z"
   },
   {
    "duration": 120,
    "start_time": "2023-08-27T13:26:27.122Z"
   },
   {
    "duration": 155,
    "start_time": "2023-08-27T13:26:27.243Z"
   },
   {
    "duration": 133,
    "start_time": "2023-08-27T13:26:27.399Z"
   },
   {
    "duration": 147,
    "start_time": "2023-08-27T13:26:27.534Z"
   },
   {
    "duration": 149,
    "start_time": "2023-08-27T13:26:27.683Z"
   },
   {
    "duration": 149,
    "start_time": "2023-08-27T13:26:27.834Z"
   },
   {
    "duration": 150,
    "start_time": "2023-08-27T13:26:27.984Z"
   },
   {
    "duration": 12,
    "start_time": "2023-08-27T13:26:28.137Z"
   },
   {
    "duration": 4,
    "start_time": "2023-08-27T13:28:55.158Z"
   },
   {
    "duration": 6,
    "start_time": "2023-08-27T13:28:58.190Z"
   },
   {
    "duration": 8,
    "start_time": "2023-08-27T13:34:45.687Z"
   },
   {
    "duration": 19,
    "start_time": "2023-08-27T13:35:13.804Z"
   },
   {
    "duration": 21,
    "start_time": "2023-08-27T13:38:43.311Z"
   },
   {
    "duration": 21,
    "start_time": "2023-08-27T13:39:25.720Z"
   },
   {
    "duration": 4,
    "start_time": "2023-08-27T13:40:45.141Z"
   },
   {
    "duration": 15,
    "start_time": "2023-08-27T13:40:48.757Z"
   },
   {
    "duration": 100,
    "start_time": "2023-08-27T13:54:00.037Z"
   },
   {
    "duration": 23,
    "start_time": "2023-08-27T13:54:23.592Z"
   },
   {
    "duration": 17,
    "start_time": "2023-08-27T13:54:57.475Z"
   },
   {
    "duration": 9,
    "start_time": "2023-08-27T13:55:31.717Z"
   },
   {
    "duration": 12,
    "start_time": "2023-08-27T13:55:33.099Z"
   },
   {
    "duration": 1420,
    "start_time": "2023-08-27T13:55:52.286Z"
   },
   {
    "duration": 1461,
    "start_time": "2023-08-27T13:56:03.981Z"
   },
   {
    "duration": 23,
    "start_time": "2023-08-27T13:56:16.475Z"
   },
   {
    "duration": 18,
    "start_time": "2023-08-27T13:56:46.391Z"
   },
   {
    "duration": 18,
    "start_time": "2023-08-27T13:57:03.889Z"
   },
   {
    "duration": 17,
    "start_time": "2023-08-27T13:57:09.571Z"
   },
   {
    "duration": 3,
    "start_time": "2023-08-27T13:58:51.234Z"
   },
   {
    "duration": 123,
    "start_time": "2023-08-27T13:58:51.239Z"
   },
   {
    "duration": 11,
    "start_time": "2023-08-27T13:58:51.364Z"
   },
   {
    "duration": 18,
    "start_time": "2023-08-27T13:58:51.376Z"
   },
   {
    "duration": 14,
    "start_time": "2023-08-27T13:58:51.396Z"
   },
   {
    "duration": 5,
    "start_time": "2023-08-27T13:58:51.411Z"
   },
   {
    "duration": 10,
    "start_time": "2023-08-27T13:58:51.418Z"
   },
   {
    "duration": 26,
    "start_time": "2023-08-27T13:58:51.430Z"
   },
   {
    "duration": 8,
    "start_time": "2023-08-27T13:58:51.458Z"
   },
   {
    "duration": 16,
    "start_time": "2023-08-27T13:58:51.467Z"
   },
   {
    "duration": 22,
    "start_time": "2023-08-27T13:58:51.486Z"
   },
   {
    "duration": 10,
    "start_time": "2023-08-27T13:58:51.510Z"
   },
   {
    "duration": 35,
    "start_time": "2023-08-27T13:58:51.521Z"
   },
   {
    "duration": 7,
    "start_time": "2023-08-27T13:58:51.557Z"
   },
   {
    "duration": 16,
    "start_time": "2023-08-27T13:58:51.566Z"
   },
   {
    "duration": 12,
    "start_time": "2023-08-27T13:58:51.584Z"
   },
   {
    "duration": 12,
    "start_time": "2023-08-27T13:58:51.598Z"
   },
   {
    "duration": 13,
    "start_time": "2023-08-27T13:58:51.612Z"
   },
   {
    "duration": 144,
    "start_time": "2023-08-27T13:58:51.627Z"
   },
   {
    "duration": 12,
    "start_time": "2023-08-27T13:58:51.772Z"
   },
   {
    "duration": 9,
    "start_time": "2023-08-27T13:58:51.786Z"
   },
   {
    "duration": 25,
    "start_time": "2023-08-27T13:58:51.796Z"
   },
   {
    "duration": 11,
    "start_time": "2023-08-27T13:58:51.822Z"
   },
   {
    "duration": 226,
    "start_time": "2023-08-27T13:58:51.834Z"
   },
   {
    "duration": 133,
    "start_time": "2023-08-27T13:58:52.061Z"
   },
   {
    "duration": 160,
    "start_time": "2023-08-27T13:58:52.196Z"
   },
   {
    "duration": 144,
    "start_time": "2023-08-27T13:58:52.358Z"
   },
   {
    "duration": 158,
    "start_time": "2023-08-27T13:58:52.504Z"
   },
   {
    "duration": 167,
    "start_time": "2023-08-27T13:58:52.665Z"
   },
   {
    "duration": 132,
    "start_time": "2023-08-27T13:58:52.834Z"
   },
   {
    "duration": 142,
    "start_time": "2023-08-27T13:58:52.968Z"
   },
   {
    "duration": 4,
    "start_time": "2023-08-27T13:58:53.112Z"
   },
   {
    "duration": 18,
    "start_time": "2023-08-27T14:00:05.006Z"
   },
   {
    "duration": 12,
    "start_time": "2023-08-27T14:00:12.601Z"
   },
   {
    "duration": 3,
    "start_time": "2023-08-27T14:00:17.829Z"
   },
   {
    "duration": 55,
    "start_time": "2023-08-27T14:00:17.834Z"
   },
   {
    "duration": 13,
    "start_time": "2023-08-27T14:00:17.891Z"
   },
   {
    "duration": 33,
    "start_time": "2023-08-27T14:00:17.905Z"
   },
   {
    "duration": 27,
    "start_time": "2023-08-27T14:00:17.942Z"
   },
   {
    "duration": 6,
    "start_time": "2023-08-27T14:00:17.972Z"
   },
   {
    "duration": 6,
    "start_time": "2023-08-27T14:00:17.980Z"
   },
   {
    "duration": 32,
    "start_time": "2023-08-27T14:00:17.988Z"
   },
   {
    "duration": 29,
    "start_time": "2023-08-27T14:00:18.022Z"
   },
   {
    "duration": 0,
    "start_time": "2023-08-27T14:00:18.054Z"
   },
   {
    "duration": 0,
    "start_time": "2023-08-27T14:00:18.056Z"
   },
   {
    "duration": 0,
    "start_time": "2023-08-27T14:00:18.057Z"
   },
   {
    "duration": 0,
    "start_time": "2023-08-27T14:00:18.058Z"
   },
   {
    "duration": 0,
    "start_time": "2023-08-27T14:00:18.060Z"
   },
   {
    "duration": 0,
    "start_time": "2023-08-27T14:00:18.061Z"
   },
   {
    "duration": 0,
    "start_time": "2023-08-27T14:00:18.062Z"
   },
   {
    "duration": 0,
    "start_time": "2023-08-27T14:00:18.064Z"
   },
   {
    "duration": 0,
    "start_time": "2023-08-27T14:00:18.066Z"
   },
   {
    "duration": 0,
    "start_time": "2023-08-27T14:00:18.067Z"
   },
   {
    "duration": 0,
    "start_time": "2023-08-27T14:00:18.068Z"
   },
   {
    "duration": 0,
    "start_time": "2023-08-27T14:00:18.069Z"
   },
   {
    "duration": 0,
    "start_time": "2023-08-27T14:00:18.070Z"
   },
   {
    "duration": 0,
    "start_time": "2023-08-27T14:00:18.072Z"
   },
   {
    "duration": 0,
    "start_time": "2023-08-27T14:00:18.073Z"
   },
   {
    "duration": 0,
    "start_time": "2023-08-27T14:00:18.074Z"
   },
   {
    "duration": 0,
    "start_time": "2023-08-27T14:00:18.076Z"
   },
   {
    "duration": 0,
    "start_time": "2023-08-27T14:00:18.078Z"
   },
   {
    "duration": 0,
    "start_time": "2023-08-27T14:00:18.079Z"
   },
   {
    "duration": 0,
    "start_time": "2023-08-27T14:00:18.081Z"
   },
   {
    "duration": 0,
    "start_time": "2023-08-27T14:00:18.082Z"
   },
   {
    "duration": 0,
    "start_time": "2023-08-27T14:00:18.084Z"
   },
   {
    "duration": 14,
    "start_time": "2023-08-27T14:01:15.544Z"
   },
   {
    "duration": 19,
    "start_time": "2023-08-27T14:01:22.564Z"
   },
   {
    "duration": 14,
    "start_time": "2023-08-27T14:01:22.585Z"
   },
   {
    "duration": 18,
    "start_time": "2023-08-27T14:01:22.601Z"
   },
   {
    "duration": 27,
    "start_time": "2023-08-27T14:01:22.622Z"
   },
   {
    "duration": 28,
    "start_time": "2023-08-27T14:01:22.652Z"
   },
   {
    "duration": 16,
    "start_time": "2023-08-27T14:01:22.682Z"
   },
   {
    "duration": 29,
    "start_time": "2023-08-27T14:01:22.700Z"
   },
   {
    "duration": 8,
    "start_time": "2023-08-27T14:01:22.731Z"
   },
   {
    "duration": 157,
    "start_time": "2023-08-27T14:01:22.749Z"
   },
   {
    "duration": 12,
    "start_time": "2023-08-27T14:01:22.908Z"
   },
   {
    "duration": 17,
    "start_time": "2023-08-27T14:01:22.922Z"
   },
   {
    "duration": 20,
    "start_time": "2023-08-27T14:01:22.941Z"
   },
   {
    "duration": 12,
    "start_time": "2023-08-27T14:01:22.963Z"
   },
   {
    "duration": 198,
    "start_time": "2023-08-27T14:01:22.977Z"
   },
   {
    "duration": 136,
    "start_time": "2023-08-27T14:01:23.176Z"
   },
   {
    "duration": 268,
    "start_time": "2023-08-27T14:01:23.314Z"
   },
   {
    "duration": 166,
    "start_time": "2023-08-27T14:01:23.583Z"
   },
   {
    "duration": 163,
    "start_time": "2023-08-27T14:01:23.751Z"
   },
   {
    "duration": 183,
    "start_time": "2023-08-27T14:01:23.917Z"
   },
   {
    "duration": 157,
    "start_time": "2023-08-27T14:01:24.101Z"
   },
   {
    "duration": 150,
    "start_time": "2023-08-27T14:01:24.260Z"
   },
   {
    "duration": 4,
    "start_time": "2023-08-27T14:01:24.412Z"
   },
   {
    "duration": 16,
    "start_time": "2023-08-27T14:06:06.510Z"
   },
   {
    "duration": 7,
    "start_time": "2023-08-27T14:11:27.016Z"
   },
   {
    "duration": 5,
    "start_time": "2023-08-27T14:14:12.472Z"
   },
   {
    "duration": 18,
    "start_time": "2023-08-27T14:21:24.806Z"
   },
   {
    "duration": 12,
    "start_time": "2023-08-27T14:21:45.025Z"
   },
   {
    "duration": 13,
    "start_time": "2023-08-27T14:23:19.222Z"
   },
   {
    "duration": 12,
    "start_time": "2023-08-27T14:24:39.927Z"
   },
   {
    "duration": 20,
    "start_time": "2023-08-27T14:25:37.893Z"
   },
   {
    "duration": 11,
    "start_time": "2023-08-27T14:28:59.028Z"
   },
   {
    "duration": 10,
    "start_time": "2023-08-27T14:29:15.173Z"
   },
   {
    "duration": 18,
    "start_time": "2023-08-27T14:54:47.301Z"
   },
   {
    "duration": 20,
    "start_time": "2023-08-27T14:55:40.073Z"
   },
   {
    "duration": 28,
    "start_time": "2023-08-27T14:55:44.668Z"
   },
   {
    "duration": 12,
    "start_time": "2023-08-27T14:57:16.230Z"
   },
   {
    "duration": 11,
    "start_time": "2023-08-27T14:57:23.408Z"
   },
   {
    "duration": 7,
    "start_time": "2023-08-27T14:58:03.105Z"
   },
   {
    "duration": 11,
    "start_time": "2023-08-27T14:58:08.065Z"
   },
   {
    "duration": 6,
    "start_time": "2023-08-27T15:17:58.388Z"
   },
   {
    "duration": 10,
    "start_time": "2023-08-27T15:18:11.085Z"
   },
   {
    "duration": 6,
    "start_time": "2023-08-27T15:20:00.975Z"
   },
   {
    "duration": 9,
    "start_time": "2023-08-27T15:20:21.195Z"
   },
   {
    "duration": 13,
    "start_time": "2023-08-27T15:20:22.033Z"
   },
   {
    "duration": 7,
    "start_time": "2023-08-27T15:20:31.169Z"
   },
   {
    "duration": 12,
    "start_time": "2023-08-27T15:20:31.878Z"
   },
   {
    "duration": 8,
    "start_time": "2023-08-27T15:20:37.689Z"
   },
   {
    "duration": 12,
    "start_time": "2023-08-27T15:20:38.594Z"
   },
   {
    "duration": 3,
    "start_time": "2023-08-27T15:20:47.282Z"
   },
   {
    "duration": 65,
    "start_time": "2023-08-27T15:20:47.287Z"
   },
   {
    "duration": 10,
    "start_time": "2023-08-27T15:20:47.354Z"
   },
   {
    "duration": 29,
    "start_time": "2023-08-27T15:20:47.366Z"
   },
   {
    "duration": 24,
    "start_time": "2023-08-27T15:20:47.396Z"
   },
   {
    "duration": 3,
    "start_time": "2023-08-27T15:20:47.422Z"
   },
   {
    "duration": 6,
    "start_time": "2023-08-27T15:20:47.426Z"
   },
   {
    "duration": 17,
    "start_time": "2023-08-27T15:20:47.433Z"
   },
   {
    "duration": 13,
    "start_time": "2023-08-27T15:20:47.451Z"
   },
   {
    "duration": 15,
    "start_time": "2023-08-27T15:20:47.466Z"
   },
   {
    "duration": 7,
    "start_time": "2023-08-27T15:20:47.484Z"
   },
   {
    "duration": 14,
    "start_time": "2023-08-27T15:20:47.493Z"
   },
   {
    "duration": 12,
    "start_time": "2023-08-27T15:20:47.508Z"
   },
   {
    "duration": 29,
    "start_time": "2023-08-27T15:20:47.521Z"
   },
   {
    "duration": 5,
    "start_time": "2023-08-27T15:20:47.552Z"
   },
   {
    "duration": 14,
    "start_time": "2023-08-27T15:20:47.558Z"
   },
   {
    "duration": 18,
    "start_time": "2023-08-27T15:20:47.573Z"
   },
   {
    "duration": 11,
    "start_time": "2023-08-27T15:20:47.592Z"
   },
   {
    "duration": 6,
    "start_time": "2023-08-27T15:20:47.604Z"
   },
   {
    "duration": 11,
    "start_time": "2023-08-27T15:20:47.611Z"
   },
   {
    "duration": 135,
    "start_time": "2023-08-27T15:20:47.649Z"
   },
   {
    "duration": 13,
    "start_time": "2023-08-27T15:20:47.786Z"
   },
   {
    "duration": 8,
    "start_time": "2023-08-27T15:20:47.800Z"
   },
   {
    "duration": 10,
    "start_time": "2023-08-27T15:20:47.810Z"
   },
   {
    "duration": 36,
    "start_time": "2023-08-27T15:20:47.821Z"
   },
   {
    "duration": 7,
    "start_time": "2023-08-27T15:20:47.859Z"
   },
   {
    "duration": 18,
    "start_time": "2023-08-27T15:20:47.868Z"
   },
   {
    "duration": 11,
    "start_time": "2023-08-27T15:23:23.789Z"
   },
   {
    "duration": 5,
    "start_time": "2023-08-27T15:23:34.160Z"
   },
   {
    "duration": 6,
    "start_time": "2023-08-27T15:25:12.166Z"
   },
   {
    "duration": 15,
    "start_time": "2023-08-27T15:46:32.430Z"
   },
   {
    "duration": 8,
    "start_time": "2023-08-27T15:51:31.972Z"
   },
   {
    "duration": 3,
    "start_time": "2023-08-27T15:55:18.341Z"
   },
   {
    "duration": 71,
    "start_time": "2023-08-27T15:55:18.346Z"
   },
   {
    "duration": 19,
    "start_time": "2023-08-27T15:55:18.418Z"
   },
   {
    "duration": 25,
    "start_time": "2023-08-27T15:55:18.439Z"
   },
   {
    "duration": 19,
    "start_time": "2023-08-27T15:55:18.466Z"
   },
   {
    "duration": 3,
    "start_time": "2023-08-27T15:55:18.487Z"
   },
   {
    "duration": 7,
    "start_time": "2023-08-27T15:55:18.492Z"
   },
   {
    "duration": 18,
    "start_time": "2023-08-27T15:55:18.501Z"
   },
   {
    "duration": 33,
    "start_time": "2023-08-27T15:55:18.521Z"
   },
   {
    "duration": 15,
    "start_time": "2023-08-27T15:55:18.555Z"
   },
   {
    "duration": 9,
    "start_time": "2023-08-27T15:55:18.571Z"
   },
   {
    "duration": 12,
    "start_time": "2023-08-27T15:55:18.581Z"
   },
   {
    "duration": 15,
    "start_time": "2023-08-27T15:55:18.595Z"
   },
   {
    "duration": 44,
    "start_time": "2023-08-27T15:55:18.612Z"
   },
   {
    "duration": 5,
    "start_time": "2023-08-27T15:55:18.658Z"
   },
   {
    "duration": 6,
    "start_time": "2023-08-27T15:55:18.664Z"
   },
   {
    "duration": 15,
    "start_time": "2023-08-27T15:55:18.672Z"
   },
   {
    "duration": 10,
    "start_time": "2023-08-27T15:55:18.689Z"
   },
   {
    "duration": 49,
    "start_time": "2023-08-27T15:55:18.701Z"
   },
   {
    "duration": 21,
    "start_time": "2023-08-27T15:55:18.752Z"
   },
   {
    "duration": 134,
    "start_time": "2023-08-27T15:55:18.774Z"
   },
   {
    "duration": 15,
    "start_time": "2023-08-27T15:55:18.910Z"
   },
   {
    "duration": 32,
    "start_time": "2023-08-27T15:55:18.927Z"
   },
   {
    "duration": 16,
    "start_time": "2023-08-27T15:55:18.962Z"
   },
   {
    "duration": 7,
    "start_time": "2023-08-27T15:55:18.980Z"
   },
   {
    "duration": 11,
    "start_time": "2023-08-27T15:55:18.989Z"
   },
   {
    "duration": 8,
    "start_time": "2023-08-27T15:55:19.002Z"
   },
   {
    "duration": 20,
    "start_time": "2023-08-27T15:55:19.011Z"
   },
   {
    "duration": 162,
    "start_time": "2023-08-27T15:55:19.050Z"
   },
   {
    "duration": 128,
    "start_time": "2023-08-27T15:55:19.214Z"
   },
   {
    "duration": 12,
    "start_time": "2023-08-27T15:55:19.349Z"
   },
   {
    "duration": 167,
    "start_time": "2023-08-27T15:55:19.363Z"
   },
   {
    "duration": 149,
    "start_time": "2023-08-27T15:55:19.533Z"
   },
   {
    "duration": 13,
    "start_time": "2023-08-27T15:55:19.684Z"
   },
   {
    "duration": 155,
    "start_time": "2023-08-27T15:55:19.699Z"
   },
   {
    "duration": 258,
    "start_time": "2023-08-27T15:55:19.856Z"
   },
   {
    "duration": 11,
    "start_time": "2023-08-27T15:55:20.115Z"
   },
   {
    "duration": 142,
    "start_time": "2023-08-27T15:55:20.128Z"
   },
   {
    "duration": 145,
    "start_time": "2023-08-27T15:55:20.272Z"
   },
   {
    "duration": 4,
    "start_time": "2023-08-27T15:55:20.419Z"
   },
   {
    "duration": 8,
    "start_time": "2023-08-27T15:55:20.425Z"
   },
   {
    "duration": 4,
    "start_time": "2023-08-27T15:57:47.685Z"
   },
   {
    "duration": 4,
    "start_time": "2023-08-27T15:57:54.088Z"
   },
   {
    "duration": 8,
    "start_time": "2023-08-27T16:00:56.297Z"
   },
   {
    "duration": 7,
    "start_time": "2023-08-27T16:01:27.319Z"
   },
   {
    "duration": 1204,
    "start_time": "2023-08-27T18:22:13.420Z"
   },
   {
    "duration": 153,
    "start_time": "2023-08-27T18:22:14.626Z"
   },
   {
    "duration": 14,
    "start_time": "2023-08-27T18:22:14.781Z"
   },
   {
    "duration": 13,
    "start_time": "2023-08-27T18:22:14.798Z"
   },
   {
    "duration": 15,
    "start_time": "2023-08-27T18:22:14.813Z"
   },
   {
    "duration": 20,
    "start_time": "2023-08-27T18:22:14.829Z"
   },
   {
    "duration": 3,
    "start_time": "2023-08-27T18:22:14.851Z"
   },
   {
    "duration": 16,
    "start_time": "2023-08-27T18:22:14.856Z"
   },
   {
    "duration": 18,
    "start_time": "2023-08-27T18:22:14.873Z"
   },
   {
    "duration": 17,
    "start_time": "2023-08-27T18:22:14.894Z"
   },
   {
    "duration": 9,
    "start_time": "2023-08-27T18:22:14.912Z"
   },
   {
    "duration": 33,
    "start_time": "2023-08-27T18:22:14.922Z"
   },
   {
    "duration": 6,
    "start_time": "2023-08-27T18:22:14.957Z"
   },
   {
    "duration": 20,
    "start_time": "2023-08-27T18:22:14.964Z"
   },
   {
    "duration": 6,
    "start_time": "2023-08-27T18:22:14.985Z"
   },
   {
    "duration": 11,
    "start_time": "2023-08-27T18:22:14.992Z"
   },
   {
    "duration": 16,
    "start_time": "2023-08-27T18:22:15.004Z"
   },
   {
    "duration": 30,
    "start_time": "2023-08-27T18:22:15.021Z"
   },
   {
    "duration": 6,
    "start_time": "2023-08-27T18:22:15.053Z"
   },
   {
    "duration": 20,
    "start_time": "2023-08-27T18:22:15.060Z"
   },
   {
    "duration": 127,
    "start_time": "2023-08-27T18:22:15.081Z"
   },
   {
    "duration": 11,
    "start_time": "2023-08-27T18:22:15.210Z"
   },
   {
    "duration": 12,
    "start_time": "2023-08-27T18:22:15.222Z"
   },
   {
    "duration": 21,
    "start_time": "2023-08-27T18:22:15.235Z"
   },
   {
    "duration": 8,
    "start_time": "2023-08-27T18:22:15.258Z"
   },
   {
    "duration": 44,
    "start_time": "2023-08-27T18:22:15.267Z"
   },
   {
    "duration": 16,
    "start_time": "2023-08-27T18:22:15.312Z"
   },
   {
    "duration": 29,
    "start_time": "2023-08-27T18:22:15.330Z"
   },
   {
    "duration": 142,
    "start_time": "2023-08-27T18:22:15.360Z"
   },
   {
    "duration": 120,
    "start_time": "2023-08-27T18:22:15.504Z"
   },
   {
    "duration": 10,
    "start_time": "2023-08-27T18:22:15.626Z"
   },
   {
    "duration": 147,
    "start_time": "2023-08-27T18:22:15.637Z"
   },
   {
    "duration": 134,
    "start_time": "2023-08-27T18:22:15.786Z"
   },
   {
    "duration": 16,
    "start_time": "2023-08-27T18:22:15.922Z"
   },
   {
    "duration": 187,
    "start_time": "2023-08-27T18:22:15.940Z"
   },
   {
    "duration": 152,
    "start_time": "2023-08-27T18:22:16.129Z"
   },
   {
    "duration": 15,
    "start_time": "2023-08-27T18:22:16.283Z"
   },
   {
    "duration": 140,
    "start_time": "2023-08-27T18:22:16.301Z"
   },
   {
    "duration": 137,
    "start_time": "2023-08-27T18:22:16.449Z"
   },
   {
    "duration": 5,
    "start_time": "2023-08-27T18:22:16.588Z"
   },
   {
    "duration": 4,
    "start_time": "2023-08-27T18:22:16.595Z"
   },
   {
    "duration": 9,
    "start_time": "2023-08-27T18:22:16.600Z"
   },
   {
    "duration": 109,
    "start_time": "2023-08-27T18:22:16.610Z"
   },
   {
    "duration": 10,
    "start_time": "2023-08-27T18:22:37.118Z"
   },
   {
    "duration": 10,
    "start_time": "2023-08-27T18:22:41.612Z"
   },
   {
    "duration": 303,
    "start_time": "2023-08-27T18:25:47.872Z"
   },
   {
    "duration": 252,
    "start_time": "2023-08-27T18:28:59.407Z"
   },
   {
    "duration": 272,
    "start_time": "2023-08-27T18:29:18.632Z"
   },
   {
    "duration": 301,
    "start_time": "2023-08-27T18:30:16.191Z"
   },
   {
    "duration": 9,
    "start_time": "2023-08-27T18:38:17.175Z"
   },
   {
    "duration": 14,
    "start_time": "2023-08-27T18:38:25.624Z"
   },
   {
    "duration": 6,
    "start_time": "2023-08-27T18:45:08.089Z"
   },
   {
    "duration": 115,
    "start_time": "2023-08-27T18:45:28.995Z"
   },
   {
    "duration": 3,
    "start_time": "2023-08-27T18:46:14.678Z"
   },
   {
    "duration": 2657,
    "start_time": "2023-08-27T18:47:14.204Z"
   },
   {
    "duration": 16,
    "start_time": "2023-08-27T18:47:51.779Z"
   },
   {
    "duration": 15,
    "start_time": "2023-08-27T18:49:52.040Z"
   },
   {
    "duration": 8,
    "start_time": "2023-08-27T18:50:01.783Z"
   },
   {
    "duration": 7,
    "start_time": "2023-08-27T18:50:27.383Z"
   },
   {
    "duration": 4,
    "start_time": "2023-08-27T18:50:31.017Z"
   },
   {
    "duration": 10,
    "start_time": "2023-08-27T18:51:54.929Z"
   },
   {
    "duration": 18,
    "start_time": "2023-08-27T18:53:20.986Z"
   },
   {
    "duration": 28,
    "start_time": "2023-08-27T18:53:30.984Z"
   },
   {
    "duration": 252,
    "start_time": "2023-08-27T18:54:04.631Z"
   },
   {
    "duration": 376,
    "start_time": "2023-08-27T18:56:13.175Z"
   },
   {
    "duration": 270,
    "start_time": "2023-08-27T18:57:03.997Z"
   },
   {
    "duration": 298,
    "start_time": "2023-08-27T18:58:07.207Z"
   },
   {
    "duration": 280,
    "start_time": "2023-08-27T18:59:53.889Z"
   },
   {
    "duration": 370,
    "start_time": "2023-08-27T19:00:19.548Z"
   },
   {
    "duration": 154,
    "start_time": "2023-08-27T19:01:06.819Z"
   },
   {
    "duration": 311,
    "start_time": "2023-08-27T19:01:17.385Z"
   },
   {
    "duration": 326,
    "start_time": "2023-08-27T19:02:13.977Z"
   },
   {
    "duration": 3,
    "start_time": "2023-08-27T19:02:52.402Z"
   },
   {
    "duration": 247,
    "start_time": "2023-08-27T19:02:53.279Z"
   },
   {
    "duration": 27,
    "start_time": "2023-08-27T19:09:27.112Z"
   },
   {
    "duration": 18,
    "start_time": "2023-08-27T19:10:47.266Z"
   },
   {
    "duration": 18,
    "start_time": "2023-08-27T19:11:29.382Z"
   },
   {
    "duration": 23,
    "start_time": "2023-08-27T19:12:01.997Z"
   },
   {
    "duration": 237,
    "start_time": "2023-08-27T19:13:50.231Z"
   },
   {
    "duration": 6,
    "start_time": "2023-08-27T19:14:07.588Z"
   },
   {
    "duration": 5,
    "start_time": "2023-08-27T19:14:50.684Z"
   },
   {
    "duration": 6,
    "start_time": "2023-08-27T19:15:04.274Z"
   },
   {
    "duration": 6,
    "start_time": "2023-08-27T19:16:00.317Z"
   },
   {
    "duration": 16,
    "start_time": "2023-08-27T19:17:55.263Z"
   },
   {
    "duration": 20,
    "start_time": "2023-08-27T19:18:00.025Z"
   },
   {
    "duration": 5,
    "start_time": "2023-08-27T19:18:17.169Z"
   },
   {
    "duration": 6,
    "start_time": "2023-08-27T19:34:21.796Z"
   },
   {
    "duration": 9,
    "start_time": "2023-08-27T19:36:23.171Z"
   },
   {
    "duration": 12,
    "start_time": "2023-08-27T19:36:33.329Z"
   },
   {
    "duration": 267,
    "start_time": "2023-08-27T19:40:17.272Z"
   },
   {
    "duration": 47,
    "start_time": "2023-08-28T08:17:19.815Z"
   },
   {
    "duration": 1318,
    "start_time": "2023-08-28T08:19:08.916Z"
   },
   {
    "duration": 189,
    "start_time": "2023-08-28T08:19:10.236Z"
   },
   {
    "duration": 17,
    "start_time": "2023-08-28T08:19:10.427Z"
   },
   {
    "duration": 14,
    "start_time": "2023-08-28T08:19:10.445Z"
   },
   {
    "duration": 15,
    "start_time": "2023-08-28T08:19:10.461Z"
   },
   {
    "duration": 5,
    "start_time": "2023-08-28T08:19:10.477Z"
   },
   {
    "duration": 6,
    "start_time": "2023-08-28T08:19:10.483Z"
   },
   {
    "duration": 25,
    "start_time": "2023-08-28T08:19:10.490Z"
   },
   {
    "duration": 8,
    "start_time": "2023-08-28T08:19:10.517Z"
   },
   {
    "duration": 37,
    "start_time": "2023-08-28T08:19:10.528Z"
   },
   {
    "duration": 8,
    "start_time": "2023-08-28T08:19:10.567Z"
   },
   {
    "duration": 17,
    "start_time": "2023-08-28T08:19:10.576Z"
   },
   {
    "duration": 12,
    "start_time": "2023-08-28T08:19:10.594Z"
   },
   {
    "duration": 28,
    "start_time": "2023-08-28T08:19:10.607Z"
   },
   {
    "duration": 16,
    "start_time": "2023-08-28T08:19:10.637Z"
   },
   {
    "duration": 23,
    "start_time": "2023-08-28T08:19:10.655Z"
   },
   {
    "duration": 20,
    "start_time": "2023-08-28T08:19:10.680Z"
   },
   {
    "duration": 11,
    "start_time": "2023-08-28T08:19:10.702Z"
   },
   {
    "duration": 9,
    "start_time": "2023-08-28T08:19:10.714Z"
   },
   {
    "duration": 11,
    "start_time": "2023-08-28T08:19:10.725Z"
   },
   {
    "duration": 155,
    "start_time": "2023-08-28T08:19:10.738Z"
   },
   {
    "duration": 11,
    "start_time": "2023-08-28T08:19:10.895Z"
   },
   {
    "duration": 7,
    "start_time": "2023-08-28T08:19:10.908Z"
   },
   {
    "duration": 16,
    "start_time": "2023-08-28T08:19:10.917Z"
   },
   {
    "duration": 24,
    "start_time": "2023-08-28T08:19:10.934Z"
   },
   {
    "duration": 10,
    "start_time": "2023-08-28T08:19:10.960Z"
   },
   {
    "duration": 8,
    "start_time": "2023-08-28T08:19:10.971Z"
   },
   {
    "duration": 16,
    "start_time": "2023-08-28T08:19:10.983Z"
   },
   {
    "duration": 180,
    "start_time": "2023-08-28T08:19:11.001Z"
   },
   {
    "duration": 145,
    "start_time": "2023-08-28T08:19:11.184Z"
   },
   {
    "duration": 27,
    "start_time": "2023-08-28T08:19:11.331Z"
   },
   {
    "duration": 162,
    "start_time": "2023-08-28T08:19:11.360Z"
   },
   {
    "duration": 137,
    "start_time": "2023-08-28T08:19:11.524Z"
   },
   {
    "duration": 12,
    "start_time": "2023-08-28T08:19:11.662Z"
   },
   {
    "duration": 151,
    "start_time": "2023-08-28T08:19:11.675Z"
   },
   {
    "duration": 149,
    "start_time": "2023-08-28T08:19:11.827Z"
   },
   {
    "duration": 12,
    "start_time": "2023-08-28T08:19:11.977Z"
   },
   {
    "duration": 151,
    "start_time": "2023-08-28T08:19:11.991Z"
   },
   {
    "duration": 157,
    "start_time": "2023-08-28T08:19:12.144Z"
   },
   {
    "duration": 5,
    "start_time": "2023-08-28T08:19:12.303Z"
   },
   {
    "duration": 13,
    "start_time": "2023-08-28T08:19:12.310Z"
   },
   {
    "duration": 23,
    "start_time": "2023-08-28T08:19:12.324Z"
   },
   {
    "duration": 382,
    "start_time": "2023-08-28T08:19:12.349Z"
   },
   {
    "duration": 24,
    "start_time": "2023-08-28T08:19:12.733Z"
   },
   {
    "duration": 3,
    "start_time": "2023-08-28T08:19:12.759Z"
   },
   {
    "duration": 306,
    "start_time": "2023-08-28T08:19:12.763Z"
   },
   {
    "duration": 7,
    "start_time": "2023-08-28T08:19:13.071Z"
   },
   {
    "duration": 10,
    "start_time": "2023-08-28T08:19:13.080Z"
   },
   {
    "duration": 14,
    "start_time": "2023-08-28T08:19:13.091Z"
   },
   {
    "duration": 319,
    "start_time": "2023-08-28T08:19:13.107Z"
   },
   {
    "duration": 271,
    "start_time": "2023-08-28T08:19:13.428Z"
   },
   {
    "duration": 257,
    "start_time": "2023-08-28T08:21:43.230Z"
   },
   {
    "duration": 276,
    "start_time": "2023-08-28T08:22:03.406Z"
   },
   {
    "duration": 77,
    "start_time": "2023-08-28T08:23:20.939Z"
   },
   {
    "duration": 12,
    "start_time": "2023-08-28T08:24:52.672Z"
   },
   {
    "duration": 127,
    "start_time": "2023-08-28T08:26:45.539Z"
   },
   {
    "duration": 239,
    "start_time": "2023-08-28T08:27:00.445Z"
   },
   {
    "duration": 18,
    "start_time": "2023-08-28T08:27:27.225Z"
   },
   {
    "duration": 123,
    "start_time": "2023-08-28T08:28:02.604Z"
   },
   {
    "duration": 247,
    "start_time": "2023-08-28T08:28:19.177Z"
   },
   {
    "duration": 252,
    "start_time": "2023-08-28T08:30:44.298Z"
   },
   {
    "duration": 258,
    "start_time": "2023-08-28T08:34:08.293Z"
   },
   {
    "duration": 171,
    "start_time": "2023-08-28T08:38:12.390Z"
   },
   {
    "duration": 23,
    "start_time": "2023-08-28T08:45:11.722Z"
   },
   {
    "duration": 7,
    "start_time": "2023-08-28T08:47:52.830Z"
   },
   {
    "duration": 542,
    "start_time": "2023-08-28T08:49:50.969Z"
   },
   {
    "duration": 925,
    "start_time": "2023-08-28T08:51:17.081Z"
   },
   {
    "duration": 5,
    "start_time": "2023-08-28T08:56:42.138Z"
   },
   {
    "duration": 3,
    "start_time": "2023-08-28T08:56:43.262Z"
   },
   {
    "duration": 155,
    "start_time": "2023-08-28T08:56:50.446Z"
   },
   {
    "duration": 581,
    "start_time": "2023-08-28T08:59:53.543Z"
   },
   {
    "duration": 145,
    "start_time": "2023-08-28T09:00:12.903Z"
   },
   {
    "duration": 681,
    "start_time": "2023-08-28T09:01:19.059Z"
   },
   {
    "duration": 5,
    "start_time": "2023-08-28T09:02:33.031Z"
   },
   {
    "duration": 600,
    "start_time": "2023-08-28T09:03:04.774Z"
   },
   {
    "duration": 4,
    "start_time": "2023-08-28T09:03:27.625Z"
   },
   {
    "duration": 53,
    "start_time": "2023-08-28T09:03:27.636Z"
   },
   {
    "duration": 11,
    "start_time": "2023-08-28T09:03:27.692Z"
   },
   {
    "duration": 15,
    "start_time": "2023-08-28T09:03:27.705Z"
   },
   {
    "duration": 14,
    "start_time": "2023-08-28T09:03:27.721Z"
   },
   {
    "duration": 4,
    "start_time": "2023-08-28T09:03:27.757Z"
   },
   {
    "duration": 14,
    "start_time": "2023-08-28T09:03:27.762Z"
   },
   {
    "duration": 30,
    "start_time": "2023-08-28T09:03:27.778Z"
   },
   {
    "duration": 11,
    "start_time": "2023-08-28T09:03:27.809Z"
   },
   {
    "duration": 21,
    "start_time": "2023-08-28T09:03:27.822Z"
   },
   {
    "duration": 12,
    "start_time": "2023-08-28T09:03:27.845Z"
   },
   {
    "duration": 24,
    "start_time": "2023-08-28T09:03:27.859Z"
   },
   {
    "duration": 27,
    "start_time": "2023-08-28T09:03:27.885Z"
   },
   {
    "duration": 23,
    "start_time": "2023-08-28T09:03:27.914Z"
   },
   {
    "duration": 15,
    "start_time": "2023-08-28T09:03:27.940Z"
   },
   {
    "duration": 10,
    "start_time": "2023-08-28T09:03:27.956Z"
   },
   {
    "duration": 37,
    "start_time": "2023-08-28T09:03:27.967Z"
   },
   {
    "duration": 19,
    "start_time": "2023-08-28T09:03:28.006Z"
   },
   {
    "duration": 7,
    "start_time": "2023-08-28T09:03:28.027Z"
   },
   {
    "duration": 15,
    "start_time": "2023-08-28T09:03:28.035Z"
   },
   {
    "duration": 144,
    "start_time": "2023-08-28T09:03:28.052Z"
   },
   {
    "duration": 13,
    "start_time": "2023-08-28T09:03:28.198Z"
   },
   {
    "duration": 9,
    "start_time": "2023-08-28T09:03:28.213Z"
   },
   {
    "duration": 33,
    "start_time": "2023-08-28T09:03:28.223Z"
   },
   {
    "duration": 8,
    "start_time": "2023-08-28T09:03:28.258Z"
   },
   {
    "duration": 14,
    "start_time": "2023-08-28T09:03:28.267Z"
   },
   {
    "duration": 11,
    "start_time": "2023-08-28T09:03:28.283Z"
   },
   {
    "duration": 23,
    "start_time": "2023-08-28T09:03:28.296Z"
   },
   {
    "duration": 287,
    "start_time": "2023-08-28T09:03:28.321Z"
   },
   {
    "duration": 145,
    "start_time": "2023-08-28T09:03:28.610Z"
   },
   {
    "duration": 13,
    "start_time": "2023-08-28T09:03:28.757Z"
   },
   {
    "duration": 236,
    "start_time": "2023-08-28T09:03:28.772Z"
   },
   {
    "duration": 169,
    "start_time": "2023-08-28T09:03:29.010Z"
   },
   {
    "duration": 15,
    "start_time": "2023-08-28T09:03:29.181Z"
   },
   {
    "duration": 168,
    "start_time": "2023-08-28T09:03:29.198Z"
   },
   {
    "duration": 154,
    "start_time": "2023-08-28T09:03:29.367Z"
   },
   {
    "duration": 15,
    "start_time": "2023-08-28T09:03:29.523Z"
   },
   {
    "duration": 158,
    "start_time": "2023-08-28T09:03:29.540Z"
   },
   {
    "duration": 157,
    "start_time": "2023-08-28T09:03:29.699Z"
   },
   {
    "duration": 5,
    "start_time": "2023-08-28T09:03:29.858Z"
   },
   {
    "duration": 22,
    "start_time": "2023-08-28T09:03:29.864Z"
   },
   {
    "duration": 38,
    "start_time": "2023-08-28T09:03:29.889Z"
   },
   {
    "duration": 317,
    "start_time": "2023-08-28T09:03:29.929Z"
   },
   {
    "duration": 16,
    "start_time": "2023-08-28T09:03:30.256Z"
   },
   {
    "duration": 38,
    "start_time": "2023-08-28T09:03:30.274Z"
   },
   {
    "duration": 273,
    "start_time": "2023-08-28T09:03:30.314Z"
   },
   {
    "duration": 6,
    "start_time": "2023-08-28T09:03:30.589Z"
   },
   {
    "duration": 37,
    "start_time": "2023-08-28T09:03:30.597Z"
   },
   {
    "duration": 49,
    "start_time": "2023-08-28T09:03:30.636Z"
   },
   {
    "duration": 436,
    "start_time": "2023-08-28T09:03:30.687Z"
   },
   {
    "duration": 279,
    "start_time": "2023-08-28T09:03:31.126Z"
   },
   {
    "duration": 186,
    "start_time": "2023-08-28T09:03:31.407Z"
   },
   {
    "duration": 5,
    "start_time": "2023-08-28T09:03:31.595Z"
   },
   {
    "duration": 181,
    "start_time": "2023-08-28T09:03:31.602Z"
   },
   {
    "duration": 525,
    "start_time": "2023-08-28T09:03:31.785Z"
   },
   {
    "duration": 156,
    "start_time": "2023-08-28T09:05:49.184Z"
   },
   {
    "duration": 803,
    "start_time": "2023-08-28T09:06:40.095Z"
   },
   {
    "duration": 11,
    "start_time": "2023-08-28T09:19:20.719Z"
   },
   {
    "duration": 19,
    "start_time": "2023-08-28T09:19:59.336Z"
   },
   {
    "duration": 13,
    "start_time": "2023-08-28T09:20:22.538Z"
   },
   {
    "duration": 12,
    "start_time": "2023-08-28T09:20:45.143Z"
   },
   {
    "duration": 1394,
    "start_time": "2023-08-29T13:04:38.107Z"
   },
   {
    "duration": 97,
    "start_time": "2023-08-29T13:04:39.503Z"
   },
   {
    "duration": 15,
    "start_time": "2023-08-29T13:04:39.602Z"
   },
   {
    "duration": 16,
    "start_time": "2023-08-29T13:04:39.619Z"
   },
   {
    "duration": 25,
    "start_time": "2023-08-29T13:04:39.637Z"
   },
   {
    "duration": 8,
    "start_time": "2023-08-29T13:04:39.663Z"
   },
   {
    "duration": 39,
    "start_time": "2023-08-29T13:04:39.673Z"
   },
   {
    "duration": 37,
    "start_time": "2023-08-29T13:04:39.713Z"
   },
   {
    "duration": 14,
    "start_time": "2023-08-29T13:04:39.751Z"
   },
   {
    "duration": 15,
    "start_time": "2023-08-29T13:04:39.768Z"
   },
   {
    "duration": 11,
    "start_time": "2023-08-29T13:04:39.785Z"
   },
   {
    "duration": 16,
    "start_time": "2023-08-29T13:04:39.797Z"
   },
   {
    "duration": 37,
    "start_time": "2023-08-29T13:04:39.814Z"
   },
   {
    "duration": 19,
    "start_time": "2023-08-29T13:04:39.853Z"
   },
   {
    "duration": 13,
    "start_time": "2023-08-29T13:04:39.874Z"
   },
   {
    "duration": 8,
    "start_time": "2023-08-29T13:04:39.888Z"
   },
   {
    "duration": 18,
    "start_time": "2023-08-29T13:04:39.897Z"
   },
   {
    "duration": 36,
    "start_time": "2023-08-29T13:04:39.917Z"
   },
   {
    "duration": 8,
    "start_time": "2023-08-29T13:04:39.954Z"
   },
   {
    "duration": 14,
    "start_time": "2023-08-29T13:04:39.963Z"
   },
   {
    "duration": 188,
    "start_time": "2023-08-29T13:04:39.978Z"
   },
   {
    "duration": 13,
    "start_time": "2023-08-29T13:04:40.167Z"
   },
   {
    "duration": 8,
    "start_time": "2023-08-29T13:04:40.182Z"
   },
   {
    "duration": 10,
    "start_time": "2023-08-29T13:04:40.192Z"
   },
   {
    "duration": 6,
    "start_time": "2023-08-29T13:04:40.204Z"
   },
   {
    "duration": 42,
    "start_time": "2023-08-29T13:04:40.212Z"
   },
   {
    "duration": 18,
    "start_time": "2023-08-29T13:04:40.255Z"
   },
   {
    "duration": 21,
    "start_time": "2023-08-29T13:04:40.277Z"
   },
   {
    "duration": 197,
    "start_time": "2023-08-29T13:04:40.300Z"
   },
   {
    "duration": 149,
    "start_time": "2023-08-29T13:04:40.499Z"
   },
   {
    "duration": 13,
    "start_time": "2023-08-29T13:04:40.650Z"
   },
   {
    "duration": 195,
    "start_time": "2023-08-29T13:04:40.665Z"
   },
   {
    "duration": 170,
    "start_time": "2023-08-29T13:04:40.862Z"
   },
   {
    "duration": 18,
    "start_time": "2023-08-29T13:04:41.034Z"
   },
   {
    "duration": 164,
    "start_time": "2023-08-29T13:04:41.054Z"
   },
   {
    "duration": 169,
    "start_time": "2023-08-29T13:04:41.220Z"
   },
   {
    "duration": 12,
    "start_time": "2023-08-29T13:04:41.391Z"
   },
   {
    "duration": 169,
    "start_time": "2023-08-29T13:04:41.405Z"
   },
   {
    "duration": 172,
    "start_time": "2023-08-29T13:04:41.576Z"
   },
   {
    "duration": 4,
    "start_time": "2023-08-29T13:04:41.750Z"
   },
   {
    "duration": 33,
    "start_time": "2023-08-29T13:04:41.755Z"
   },
   {
    "duration": 26,
    "start_time": "2023-08-29T13:04:41.790Z"
   },
   {
    "duration": 525,
    "start_time": "2023-08-29T13:04:41.818Z"
   },
   {
    "duration": 15,
    "start_time": "2023-08-29T13:04:42.347Z"
   },
   {
    "duration": 4,
    "start_time": "2023-08-29T13:04:42.363Z"
   },
   {
    "duration": 347,
    "start_time": "2023-08-29T13:04:42.370Z"
   },
   {
    "duration": 6,
    "start_time": "2023-08-29T13:04:42.719Z"
   },
   {
    "duration": 8,
    "start_time": "2023-08-29T13:04:42.726Z"
   },
   {
    "duration": 24,
    "start_time": "2023-08-29T13:04:42.735Z"
   },
   {
    "duration": 346,
    "start_time": "2023-08-29T13:04:42.761Z"
   },
   {
    "duration": 291,
    "start_time": "2023-08-29T13:04:43.109Z"
   },
   {
    "duration": 201,
    "start_time": "2023-08-29T13:04:43.402Z"
   },
   {
    "duration": 6,
    "start_time": "2023-08-29T13:04:43.604Z"
   },
   {
    "duration": 178,
    "start_time": "2023-08-29T13:04:43.612Z"
   },
   {
    "duration": 496,
    "start_time": "2023-08-29T13:04:43.792Z"
   },
   {
    "duration": 0,
    "start_time": "2023-08-29T13:04:44.290Z"
   },
   {
    "duration": 0,
    "start_time": "2023-08-29T13:04:44.291Z"
   },
   {
    "duration": 16,
    "start_time": "2023-08-29T13:05:25.523Z"
   },
   {
    "duration": 272,
    "start_time": "2023-08-29T13:05:40.503Z"
   },
   {
    "duration": 3,
    "start_time": "2023-08-29T13:05:50.142Z"
   },
   {
    "duration": 54,
    "start_time": "2023-08-29T13:05:50.153Z"
   },
   {
    "duration": 11,
    "start_time": "2023-08-29T13:05:50.209Z"
   },
   {
    "duration": 20,
    "start_time": "2023-08-29T13:05:50.222Z"
   },
   {
    "duration": 30,
    "start_time": "2023-08-29T13:05:50.243Z"
   },
   {
    "duration": 17,
    "start_time": "2023-08-29T13:05:50.275Z"
   },
   {
    "duration": 23,
    "start_time": "2023-08-29T13:05:50.294Z"
   },
   {
    "duration": 21,
    "start_time": "2023-08-29T13:05:50.319Z"
   },
   {
    "duration": 10,
    "start_time": "2023-08-29T13:05:50.342Z"
   },
   {
    "duration": 17,
    "start_time": "2023-08-29T13:05:50.353Z"
   },
   {
    "duration": 15,
    "start_time": "2023-08-29T13:05:50.371Z"
   },
   {
    "duration": 30,
    "start_time": "2023-08-29T13:05:50.388Z"
   },
   {
    "duration": 24,
    "start_time": "2023-08-29T13:05:50.419Z"
   },
   {
    "duration": 61,
    "start_time": "2023-08-29T13:05:50.444Z"
   },
   {
    "duration": 55,
    "start_time": "2023-08-29T13:05:50.508Z"
   },
   {
    "duration": 19,
    "start_time": "2023-08-29T13:05:50.565Z"
   },
   {
    "duration": 36,
    "start_time": "2023-08-29T13:05:50.586Z"
   },
   {
    "duration": 18,
    "start_time": "2023-08-29T13:05:50.624Z"
   },
   {
    "duration": 42,
    "start_time": "2023-08-29T13:05:50.643Z"
   },
   {
    "duration": 11,
    "start_time": "2023-08-29T13:05:50.687Z"
   },
   {
    "duration": 151,
    "start_time": "2023-08-29T13:05:50.699Z"
   },
   {
    "duration": 15,
    "start_time": "2023-08-29T13:05:50.852Z"
   },
   {
    "duration": 7,
    "start_time": "2023-08-29T13:05:50.870Z"
   },
   {
    "duration": 21,
    "start_time": "2023-08-29T13:05:50.879Z"
   },
   {
    "duration": 9,
    "start_time": "2023-08-29T13:05:50.902Z"
   },
   {
    "duration": 34,
    "start_time": "2023-08-29T13:05:50.913Z"
   },
   {
    "duration": 8,
    "start_time": "2023-08-29T13:05:50.949Z"
   },
   {
    "duration": 22,
    "start_time": "2023-08-29T13:05:50.959Z"
   },
   {
    "duration": 184,
    "start_time": "2023-08-29T13:05:50.983Z"
   },
   {
    "duration": 155,
    "start_time": "2023-08-29T13:05:51.169Z"
   },
   {
    "duration": 25,
    "start_time": "2023-08-29T13:05:51.325Z"
   },
   {
    "duration": 280,
    "start_time": "2023-08-29T13:05:51.351Z"
   },
   {
    "duration": 156,
    "start_time": "2023-08-29T13:05:51.633Z"
   },
   {
    "duration": 15,
    "start_time": "2023-08-29T13:05:51.790Z"
   },
   {
    "duration": 167,
    "start_time": "2023-08-29T13:05:51.807Z"
   },
   {
    "duration": 171,
    "start_time": "2023-08-29T13:05:51.976Z"
   },
   {
    "duration": 16,
    "start_time": "2023-08-29T13:05:52.148Z"
   },
   {
    "duration": 177,
    "start_time": "2023-08-29T13:05:52.166Z"
   },
   {
    "duration": 166,
    "start_time": "2023-08-29T13:05:52.346Z"
   },
   {
    "duration": 5,
    "start_time": "2023-08-29T13:05:52.515Z"
   },
   {
    "duration": 10,
    "start_time": "2023-08-29T13:05:52.522Z"
   },
   {
    "duration": 7,
    "start_time": "2023-08-29T13:05:52.547Z"
   },
   {
    "duration": 338,
    "start_time": "2023-08-29T13:05:52.556Z"
   },
   {
    "duration": 17,
    "start_time": "2023-08-29T13:05:52.896Z"
   },
   {
    "duration": 3,
    "start_time": "2023-08-29T13:05:52.915Z"
   },
   {
    "duration": 308,
    "start_time": "2023-08-29T13:05:52.920Z"
   },
   {
    "duration": 6,
    "start_time": "2023-08-29T13:05:53.229Z"
   },
   {
    "duration": 15,
    "start_time": "2023-08-29T13:05:53.237Z"
   },
   {
    "duration": 14,
    "start_time": "2023-08-29T13:05:53.253Z"
   },
   {
    "duration": 348,
    "start_time": "2023-08-29T13:05:53.268Z"
   },
   {
    "duration": 380,
    "start_time": "2023-08-29T13:05:53.618Z"
   },
   {
    "duration": 209,
    "start_time": "2023-08-29T13:05:54.001Z"
   },
   {
    "duration": 5,
    "start_time": "2023-08-29T13:05:54.211Z"
   },
   {
    "duration": 173,
    "start_time": "2023-08-29T13:05:54.218Z"
   },
   {
    "duration": 6,
    "start_time": "2023-08-29T13:05:54.393Z"
   },
   {
    "duration": 183,
    "start_time": "2023-08-29T13:05:54.401Z"
   },
   {
    "duration": 13,
    "start_time": "2023-08-29T13:05:54.586Z"
   },
   {
    "duration": 106,
    "start_time": "2023-08-29T13:06:44.085Z"
   },
   {
    "duration": 162,
    "start_time": "2023-08-29T13:06:53.269Z"
   },
   {
    "duration": 164,
    "start_time": "2023-08-29T13:07:06.635Z"
   },
   {
    "duration": 167,
    "start_time": "2023-08-29T13:07:37.610Z"
   },
   {
    "duration": 11,
    "start_time": "2023-08-29T13:19:03.084Z"
   },
   {
    "duration": 22,
    "start_time": "2023-08-29T13:19:32.100Z"
   },
   {
    "duration": 11,
    "start_time": "2023-08-29T13:25:21.715Z"
   },
   {
    "duration": 1503,
    "start_time": "2023-08-29T13:28:21.229Z"
   },
   {
    "duration": 1861,
    "start_time": "2023-08-29T13:29:32.145Z"
   },
   {
    "duration": 111,
    "start_time": "2023-08-29T13:32:07.420Z"
   },
   {
    "duration": 16,
    "start_time": "2023-08-29T13:32:24.889Z"
   },
   {
    "duration": 30,
    "start_time": "2023-08-29T13:32:35.312Z"
   },
   {
    "duration": 542,
    "start_time": "2023-08-29T13:34:25.483Z"
   },
   {
    "duration": 569,
    "start_time": "2023-08-29T13:35:19.524Z"
   },
   {
    "duration": 23,
    "start_time": "2023-08-29T13:36:17.506Z"
   },
   {
    "duration": 27,
    "start_time": "2023-08-29T13:39:39.596Z"
   },
   {
    "duration": 1603,
    "start_time": "2023-08-29T13:39:58.753Z"
   },
   {
    "duration": 1826,
    "start_time": "2023-08-29T13:40:09.622Z"
   },
   {
    "duration": 24,
    "start_time": "2023-08-29T13:42:21.507Z"
   },
   {
    "duration": 17,
    "start_time": "2023-08-29T13:42:40.832Z"
   },
   {
    "duration": 17,
    "start_time": "2023-08-29T13:42:47.593Z"
   },
   {
    "duration": 33,
    "start_time": "2023-08-29T13:42:59.931Z"
   },
   {
    "duration": 35,
    "start_time": "2023-08-29T13:43:59.150Z"
   },
   {
    "duration": 1585,
    "start_time": "2023-08-29T13:44:22.630Z"
   },
   {
    "duration": 23,
    "start_time": "2023-08-29T13:44:47.414Z"
   },
   {
    "duration": 35,
    "start_time": "2023-08-29T13:45:14.705Z"
   },
   {
    "duration": 27,
    "start_time": "2023-08-29T13:45:29.325Z"
   },
   {
    "duration": 17,
    "start_time": "2023-08-29T13:46:39.590Z"
   },
   {
    "duration": 14,
    "start_time": "2023-08-29T13:46:53.681Z"
   },
   {
    "duration": 13,
    "start_time": "2023-08-29T13:47:10.626Z"
   },
   {
    "duration": 12,
    "start_time": "2023-08-29T13:54:38.579Z"
   },
   {
    "duration": 83,
    "start_time": "2023-08-29T13:56:42.048Z"
   },
   {
    "duration": 5,
    "start_time": "2023-08-29T13:56:47.637Z"
   },
   {
    "duration": 16,
    "start_time": "2023-08-29T13:57:01.406Z"
   },
   {
    "duration": 17,
    "start_time": "2023-08-29T13:57:45.818Z"
   },
   {
    "duration": 12,
    "start_time": "2023-08-29T13:58:25.117Z"
   },
   {
    "duration": 11,
    "start_time": "2023-08-29T14:02:04.057Z"
   },
   {
    "duration": 169,
    "start_time": "2023-08-29T14:07:01.702Z"
   },
   {
    "duration": 10,
    "start_time": "2023-08-29T14:07:47.881Z"
   },
   {
    "duration": 166,
    "start_time": "2023-08-29T14:08:00.570Z"
   },
   {
    "duration": 114,
    "start_time": "2023-08-29T14:10:57.620Z"
   },
   {
    "duration": 549,
    "start_time": "2023-08-29T14:12:04.357Z"
   },
   {
    "duration": 234,
    "start_time": "2023-08-29T14:18:56.130Z"
   },
   {
    "duration": 8,
    "start_time": "2023-08-29T14:35:40.685Z"
   },
   {
    "duration": 21,
    "start_time": "2023-08-29T14:36:04.950Z"
   },
   {
    "duration": 12,
    "start_time": "2023-08-29T14:37:25.778Z"
   },
   {
    "duration": 9,
    "start_time": "2023-08-29T14:38:30.749Z"
   },
   {
    "duration": 9,
    "start_time": "2023-08-29T14:38:48.567Z"
   },
   {
    "duration": 276,
    "start_time": "2023-08-29T14:48:09.202Z"
   },
   {
    "duration": 287,
    "start_time": "2023-08-29T14:49:02.882Z"
   },
   {
    "duration": 17,
    "start_time": "2023-08-29T14:52:25.241Z"
   },
   {
    "duration": 8,
    "start_time": "2023-08-29T14:54:27.888Z"
   },
   {
    "duration": 8,
    "start_time": "2023-08-29T14:55:14.390Z"
   },
   {
    "duration": 8,
    "start_time": "2023-08-29T14:55:43.972Z"
   },
   {
    "duration": 10,
    "start_time": "2023-08-29T14:57:29.569Z"
   },
   {
    "duration": 9,
    "start_time": "2023-08-29T14:57:55.650Z"
   },
   {
    "duration": 1522,
    "start_time": "2023-08-29T14:58:13.396Z"
   },
   {
    "duration": 14,
    "start_time": "2023-08-29T14:58:31.411Z"
   },
   {
    "duration": 9,
    "start_time": "2023-08-29T14:58:52.417Z"
   },
   {
    "duration": 1380,
    "start_time": "2023-08-29T14:59:05.161Z"
   },
   {
    "duration": 168,
    "start_time": "2023-08-29T14:59:34.844Z"
   },
   {
    "duration": 9,
    "start_time": "2023-08-29T14:59:56.011Z"
   },
   {
    "duration": 167,
    "start_time": "2023-08-29T14:59:56.898Z"
   },
   {
    "duration": 329,
    "start_time": "2023-08-29T15:01:10.189Z"
   },
   {
    "duration": 330,
    "start_time": "2023-08-29T15:02:46.237Z"
   },
   {
    "duration": 149,
    "start_time": "2023-08-29T15:03:44.922Z"
   },
   {
    "duration": 135,
    "start_time": "2023-08-29T15:03:58.594Z"
   },
   {
    "duration": 152,
    "start_time": "2023-08-29T15:04:30.051Z"
   },
   {
    "duration": 468,
    "start_time": "2023-08-29T15:05:57.866Z"
   },
   {
    "duration": 458,
    "start_time": "2023-08-29T15:06:43.260Z"
   },
   {
    "duration": 594,
    "start_time": "2023-08-29T15:07:01.788Z"
   },
   {
    "duration": 215,
    "start_time": "2023-08-29T15:08:49.091Z"
   },
   {
    "duration": 204,
    "start_time": "2023-08-29T15:09:01.617Z"
   },
   {
    "duration": 203,
    "start_time": "2023-08-29T15:16:43.668Z"
   },
   {
    "duration": 360,
    "start_time": "2023-08-29T15:17:00.503Z"
   },
   {
    "duration": 355,
    "start_time": "2023-08-29T15:18:43.038Z"
   },
   {
    "duration": 358,
    "start_time": "2023-08-29T15:20:41.372Z"
   },
   {
    "duration": 13,
    "start_time": "2023-08-29T15:25:30.160Z"
   },
   {
    "duration": 22,
    "start_time": "2023-08-29T15:27:13.444Z"
   },
   {
    "duration": 56,
    "start_time": "2023-08-29T15:27:55.260Z"
   },
   {
    "duration": 10,
    "start_time": "2023-08-29T15:29:16.213Z"
   },
   {
    "duration": 9,
    "start_time": "2023-08-29T15:29:39.888Z"
   },
   {
    "duration": 8,
    "start_time": "2023-08-29T15:29:58.420Z"
   },
   {
    "duration": 9,
    "start_time": "2023-08-29T15:30:13.402Z"
   },
   {
    "duration": 8,
    "start_time": "2023-08-29T15:30:17.244Z"
   },
   {
    "duration": 9,
    "start_time": "2023-08-29T15:30:57.148Z"
   },
   {
    "duration": 8,
    "start_time": "2023-08-29T15:30:58.407Z"
   },
   {
    "duration": 10,
    "start_time": "2023-08-29T15:37:05.857Z"
   },
   {
    "duration": 9,
    "start_time": "2023-08-29T15:37:35.580Z"
   },
   {
    "duration": 9,
    "start_time": "2023-08-29T15:37:43.872Z"
   },
   {
    "duration": 9,
    "start_time": "2023-08-29T15:38:34.640Z"
   },
   {
    "duration": 8,
    "start_time": "2023-08-29T15:39:11.735Z"
   },
   {
    "duration": 22,
    "start_time": "2023-08-29T16:17:59.156Z"
   },
   {
    "duration": 316,
    "start_time": "2023-08-29T16:18:46.503Z"
   },
   {
    "duration": 295,
    "start_time": "2023-08-29T16:20:57.037Z"
   },
   {
    "duration": 313,
    "start_time": "2023-08-29T16:21:35.585Z"
   },
   {
    "duration": 446,
    "start_time": "2023-08-29T16:24:30.603Z"
   },
   {
    "duration": 303,
    "start_time": "2023-08-29T16:28:46.085Z"
   },
   {
    "duration": 13,
    "start_time": "2023-08-29T17:32:22.174Z"
   },
   {
    "duration": 10,
    "start_time": "2023-08-29T17:33:12.645Z"
   },
   {
    "duration": 5,
    "start_time": "2023-08-29T17:33:56.612Z"
   },
   {
    "duration": 11,
    "start_time": "2023-08-29T17:38:38.891Z"
   },
   {
    "duration": 20,
    "start_time": "2023-08-29T17:39:30.263Z"
   },
   {
    "duration": 109,
    "start_time": "2023-08-29T17:40:09.055Z"
   },
   {
    "duration": 11,
    "start_time": "2023-08-29T17:40:25.129Z"
   },
   {
    "duration": 6,
    "start_time": "2023-08-29T17:41:26.970Z"
   },
   {
    "duration": 12,
    "start_time": "2023-08-29T17:43:52.753Z"
   },
   {
    "duration": 8,
    "start_time": "2023-08-29T17:43:54.443Z"
   },
   {
    "duration": 7,
    "start_time": "2023-08-29T17:43:56.244Z"
   },
   {
    "duration": 10,
    "start_time": "2023-08-29T17:44:37.876Z"
   },
   {
    "duration": 5,
    "start_time": "2023-08-29T17:44:39.022Z"
   },
   {
    "duration": 6,
    "start_time": "2023-08-29T17:44:41.692Z"
   },
   {
    "duration": 16,
    "start_time": "2023-08-29T17:47:24.866Z"
   },
   {
    "duration": 13,
    "start_time": "2023-08-29T17:47:55.587Z"
   },
   {
    "duration": 10,
    "start_time": "2023-08-29T17:48:30.184Z"
   },
   {
    "duration": 11,
    "start_time": "2023-08-29T17:48:37.624Z"
   },
   {
    "duration": 4,
    "start_time": "2023-08-29T17:49:55.811Z"
   },
   {
    "duration": 7,
    "start_time": "2023-08-29T17:52:38.084Z"
   },
   {
    "duration": 14,
    "start_time": "2023-08-29T18:36:23.989Z"
   },
   {
    "duration": 13,
    "start_time": "2023-08-29T18:38:13.916Z"
   },
   {
    "duration": 5,
    "start_time": "2023-08-29T18:42:55.885Z"
   },
   {
    "duration": 239,
    "start_time": "2023-08-29T18:43:25.388Z"
   },
   {
    "duration": 3,
    "start_time": "2023-08-29T18:43:42.991Z"
   },
   {
    "duration": 72,
    "start_time": "2023-08-29T18:43:42.998Z"
   },
   {
    "duration": 11,
    "start_time": "2023-08-29T18:43:43.074Z"
   },
   {
    "duration": 30,
    "start_time": "2023-08-29T18:43:43.087Z"
   },
   {
    "duration": 15,
    "start_time": "2023-08-29T18:43:43.119Z"
   },
   {
    "duration": 32,
    "start_time": "2023-08-29T18:43:43.136Z"
   },
   {
    "duration": 15,
    "start_time": "2023-08-29T18:43:43.170Z"
   },
   {
    "duration": 30,
    "start_time": "2023-08-29T18:43:43.187Z"
   },
   {
    "duration": 15,
    "start_time": "2023-08-29T18:43:43.219Z"
   },
   {
    "duration": 39,
    "start_time": "2023-08-29T18:43:43.236Z"
   },
   {
    "duration": 11,
    "start_time": "2023-08-29T18:43:43.280Z"
   },
   {
    "duration": 19,
    "start_time": "2023-08-29T18:43:43.293Z"
   },
   {
    "duration": 30,
    "start_time": "2023-08-29T18:43:43.313Z"
   },
   {
    "duration": 43,
    "start_time": "2023-08-29T18:43:43.344Z"
   },
   {
    "duration": 23,
    "start_time": "2023-08-29T18:43:43.388Z"
   },
   {
    "duration": 11,
    "start_time": "2023-08-29T18:43:43.413Z"
   },
   {
    "duration": 54,
    "start_time": "2023-08-29T18:43:43.425Z"
   },
   {
    "duration": 12,
    "start_time": "2023-08-29T18:43:43.480Z"
   },
   {
    "duration": 8,
    "start_time": "2023-08-29T18:43:43.493Z"
   },
   {
    "duration": 8,
    "start_time": "2023-08-29T18:43:43.503Z"
   },
   {
    "duration": 208,
    "start_time": "2023-08-29T18:43:43.513Z"
   },
   {
    "duration": 39,
    "start_time": "2023-08-29T18:43:43.723Z"
   },
   {
    "duration": 16,
    "start_time": "2023-08-29T18:43:43.764Z"
   },
   {
    "duration": 5,
    "start_time": "2023-08-29T18:43:43.782Z"
   },
   {
    "duration": 19,
    "start_time": "2023-08-29T18:43:43.789Z"
   },
   {
    "duration": 9,
    "start_time": "2023-08-29T18:43:43.810Z"
   },
   {
    "duration": 40,
    "start_time": "2023-08-29T18:43:43.824Z"
   },
   {
    "duration": 13,
    "start_time": "2023-08-29T18:43:43.867Z"
   },
   {
    "duration": 100,
    "start_time": "2023-08-29T18:43:43.882Z"
   },
   {
    "duration": 251,
    "start_time": "2023-08-29T18:43:43.983Z"
   },
   {
    "duration": 162,
    "start_time": "2023-08-29T18:43:44.236Z"
   },
   {
    "duration": 13,
    "start_time": "2023-08-29T18:43:44.400Z"
   },
   {
    "duration": 211,
    "start_time": "2023-08-29T18:43:44.414Z"
   },
   {
    "duration": 180,
    "start_time": "2023-08-29T18:43:44.627Z"
   },
   {
    "duration": 14,
    "start_time": "2023-08-29T18:43:44.809Z"
   },
   {
    "duration": 190,
    "start_time": "2023-08-29T18:43:44.824Z"
   },
   {
    "duration": 178,
    "start_time": "2023-08-29T18:43:45.016Z"
   },
   {
    "duration": 14,
    "start_time": "2023-08-29T18:43:45.196Z"
   },
   {
    "duration": 244,
    "start_time": "2023-08-29T18:43:45.211Z"
   },
   {
    "duration": 231,
    "start_time": "2023-08-29T18:43:45.457Z"
   },
   {
    "duration": 6,
    "start_time": "2023-08-29T18:43:45.690Z"
   },
   {
    "duration": 26,
    "start_time": "2023-08-29T18:43:45.697Z"
   },
   {
    "duration": 24,
    "start_time": "2023-08-29T18:43:45.726Z"
   },
   {
    "duration": 527,
    "start_time": "2023-08-29T18:43:45.752Z"
   },
   {
    "duration": 18,
    "start_time": "2023-08-29T18:43:46.281Z"
   },
   {
    "duration": 3,
    "start_time": "2023-08-29T18:43:46.301Z"
   },
   {
    "duration": 330,
    "start_time": "2023-08-29T18:43:46.306Z"
   },
   {
    "duration": 21,
    "start_time": "2023-08-29T18:43:46.637Z"
   },
   {
    "duration": 12,
    "start_time": "2023-08-29T18:43:46.662Z"
   },
   {
    "duration": 15,
    "start_time": "2023-08-29T18:43:46.676Z"
   },
   {
    "duration": 381,
    "start_time": "2023-08-29T18:43:46.692Z"
   },
   {
    "duration": 324,
    "start_time": "2023-08-29T18:43:47.074Z"
   },
   {
    "duration": 221,
    "start_time": "2023-08-29T18:43:47.400Z"
   },
   {
    "duration": 5,
    "start_time": "2023-08-29T18:43:47.623Z"
   },
   {
    "duration": 330,
    "start_time": "2023-08-29T18:43:47.630Z"
   },
   {
    "duration": 0,
    "start_time": "2023-08-29T18:43:47.962Z"
   },
   {
    "duration": 0,
    "start_time": "2023-08-29T18:43:47.963Z"
   },
   {
    "duration": 0,
    "start_time": "2023-08-29T18:43:47.964Z"
   },
   {
    "duration": 0,
    "start_time": "2023-08-29T18:43:47.965Z"
   },
   {
    "duration": 0,
    "start_time": "2023-08-29T18:43:47.966Z"
   },
   {
    "duration": 0,
    "start_time": "2023-08-29T18:43:47.967Z"
   },
   {
    "duration": 0,
    "start_time": "2023-08-29T18:43:47.970Z"
   },
   {
    "duration": 0,
    "start_time": "2023-08-29T18:43:47.971Z"
   },
   {
    "duration": 0,
    "start_time": "2023-08-29T18:43:47.973Z"
   },
   {
    "duration": 0,
    "start_time": "2023-08-29T18:43:47.976Z"
   },
   {
    "duration": 0,
    "start_time": "2023-08-29T18:43:47.977Z"
   },
   {
    "duration": 0,
    "start_time": "2023-08-29T18:43:47.978Z"
   },
   {
    "duration": 0,
    "start_time": "2023-08-29T18:43:47.979Z"
   },
   {
    "duration": 0,
    "start_time": "2023-08-29T18:43:47.981Z"
   },
   {
    "duration": 0,
    "start_time": "2023-08-29T18:43:47.982Z"
   },
   {
    "duration": 0,
    "start_time": "2023-08-29T18:43:47.983Z"
   },
   {
    "duration": 0,
    "start_time": "2023-08-29T18:43:47.985Z"
   },
   {
    "duration": 0,
    "start_time": "2023-08-29T18:43:47.986Z"
   },
   {
    "duration": 0,
    "start_time": "2023-08-29T18:43:47.986Z"
   },
   {
    "duration": 0,
    "start_time": "2023-08-29T18:43:47.987Z"
   },
   {
    "duration": 0,
    "start_time": "2023-08-29T18:43:47.988Z"
   },
   {
    "duration": 0,
    "start_time": "2023-08-29T18:43:47.989Z"
   },
   {
    "duration": 0,
    "start_time": "2023-08-29T18:43:47.990Z"
   },
   {
    "duration": 0,
    "start_time": "2023-08-29T18:43:47.991Z"
   },
   {
    "duration": 0,
    "start_time": "2023-08-29T18:43:47.992Z"
   },
   {
    "duration": 0,
    "start_time": "2023-08-29T18:43:47.993Z"
   },
   {
    "duration": 0,
    "start_time": "2023-08-29T18:43:47.994Z"
   },
   {
    "duration": 0,
    "start_time": "2023-08-29T18:43:47.995Z"
   },
   {
    "duration": 0,
    "start_time": "2023-08-29T18:43:47.996Z"
   },
   {
    "duration": 4,
    "start_time": "2023-08-29T18:44:59.288Z"
   },
   {
    "duration": 86,
    "start_time": "2023-08-29T18:44:59.296Z"
   },
   {
    "duration": 12,
    "start_time": "2023-08-29T18:44:59.384Z"
   },
   {
    "duration": 25,
    "start_time": "2023-08-29T18:44:59.398Z"
   },
   {
    "duration": 45,
    "start_time": "2023-08-29T18:44:59.425Z"
   },
   {
    "duration": 4,
    "start_time": "2023-08-29T18:44:59.474Z"
   },
   {
    "duration": 7,
    "start_time": "2023-08-29T18:44:59.480Z"
   },
   {
    "duration": 21,
    "start_time": "2023-08-29T18:44:59.488Z"
   },
   {
    "duration": 13,
    "start_time": "2023-08-29T18:44:59.510Z"
   },
   {
    "duration": 44,
    "start_time": "2023-08-29T18:44:59.525Z"
   },
   {
    "duration": 12,
    "start_time": "2023-08-29T18:44:59.571Z"
   },
   {
    "duration": 23,
    "start_time": "2023-08-29T18:44:59.585Z"
   },
   {
    "duration": 28,
    "start_time": "2023-08-29T18:44:59.610Z"
   },
   {
    "duration": 42,
    "start_time": "2023-08-29T18:44:59.640Z"
   },
   {
    "duration": 6,
    "start_time": "2023-08-29T18:44:59.686Z"
   },
   {
    "duration": 9,
    "start_time": "2023-08-29T18:44:59.694Z"
   },
   {
    "duration": 18,
    "start_time": "2023-08-29T18:44:59.705Z"
   },
   {
    "duration": 25,
    "start_time": "2023-08-29T18:44:59.725Z"
   },
   {
    "duration": 17,
    "start_time": "2023-08-29T18:44:59.752Z"
   },
   {
    "duration": 32,
    "start_time": "2023-08-29T18:44:59.770Z"
   },
   {
    "duration": 169,
    "start_time": "2023-08-29T18:44:59.804Z"
   },
   {
    "duration": 15,
    "start_time": "2023-08-29T18:44:59.975Z"
   },
   {
    "duration": 6,
    "start_time": "2023-08-29T18:44:59.993Z"
   },
   {
    "duration": 13,
    "start_time": "2023-08-29T18:45:00.000Z"
   },
   {
    "duration": 56,
    "start_time": "2023-08-29T18:45:00.015Z"
   },
   {
    "duration": 28,
    "start_time": "2023-08-29T18:45:00.073Z"
   },
   {
    "duration": 39,
    "start_time": "2023-08-29T18:45:00.103Z"
   },
   {
    "duration": 56,
    "start_time": "2023-08-29T18:45:00.144Z"
   },
   {
    "duration": 250,
    "start_time": "2023-08-29T18:45:00.202Z"
   },
   {
    "duration": 178,
    "start_time": "2023-08-29T18:45:00.454Z"
   },
   {
    "duration": 33,
    "start_time": "2023-08-29T18:45:00.634Z"
   },
   {
    "duration": 272,
    "start_time": "2023-08-29T18:45:00.674Z"
   },
   {
    "duration": 190,
    "start_time": "2023-08-29T18:45:00.948Z"
   },
   {
    "duration": 35,
    "start_time": "2023-08-29T18:45:01.140Z"
   },
   {
    "duration": 185,
    "start_time": "2023-08-29T18:45:01.178Z"
   },
   {
    "duration": 172,
    "start_time": "2023-08-29T18:45:01.368Z"
   },
   {
    "duration": 26,
    "start_time": "2023-08-29T18:45:01.542Z"
   },
   {
    "duration": 355,
    "start_time": "2023-08-29T18:45:01.570Z"
   },
   {
    "duration": 201,
    "start_time": "2023-08-29T18:45:01.926Z"
   },
   {
    "duration": 7,
    "start_time": "2023-08-29T18:45:02.129Z"
   },
   {
    "duration": 37,
    "start_time": "2023-08-29T18:45:02.153Z"
   },
   {
    "duration": 104,
    "start_time": "2023-08-29T18:45:02.195Z"
   },
   {
    "duration": 591,
    "start_time": "2023-08-29T18:45:02.300Z"
   },
   {
    "duration": 16,
    "start_time": "2023-08-29T18:45:02.893Z"
   },
   {
    "duration": 49,
    "start_time": "2023-08-29T18:45:02.911Z"
   },
   {
    "duration": 346,
    "start_time": "2023-08-29T18:45:02.964Z"
   },
   {
    "duration": 6,
    "start_time": "2023-08-29T18:45:03.312Z"
   },
   {
    "duration": 31,
    "start_time": "2023-08-29T18:45:03.320Z"
   },
   {
    "duration": 27,
    "start_time": "2023-08-29T18:45:03.365Z"
   },
   {
    "duration": 422,
    "start_time": "2023-08-29T18:45:03.393Z"
   },
   {
    "duration": 379,
    "start_time": "2023-08-29T18:45:03.817Z"
   },
   {
    "duration": 229,
    "start_time": "2023-08-29T18:45:04.198Z"
   },
   {
    "duration": 6,
    "start_time": "2023-08-29T18:45:04.429Z"
   },
   {
    "duration": 197,
    "start_time": "2023-08-29T18:45:04.449Z"
   },
   {
    "duration": 205,
    "start_time": "2023-08-29T18:45:04.649Z"
   },
   {
    "duration": 28,
    "start_time": "2023-08-29T18:45:04.856Z"
   },
   {
    "duration": 17,
    "start_time": "2023-08-29T18:45:04.886Z"
   },
   {
    "duration": 4,
    "start_time": "2023-08-29T18:45:04.905Z"
   },
   {
    "duration": 444,
    "start_time": "2023-08-29T18:45:04.910Z"
   },
   {
    "duration": 26,
    "start_time": "2023-08-29T18:45:05.365Z"
   },
   {
    "duration": 16,
    "start_time": "2023-08-29T18:45:05.393Z"
   },
   {
    "duration": 12,
    "start_time": "2023-08-29T18:45:05.411Z"
   },
   {
    "duration": 16,
    "start_time": "2023-08-29T18:45:05.425Z"
   },
   {
    "duration": 38,
    "start_time": "2023-08-29T18:45:05.460Z"
   },
   {
    "duration": 329,
    "start_time": "2023-08-29T18:45:05.500Z"
   },
   {
    "duration": 27,
    "start_time": "2023-08-29T18:45:05.831Z"
   },
   {
    "duration": 24,
    "start_time": "2023-08-29T18:45:05.861Z"
   },
   {
    "duration": 12,
    "start_time": "2023-08-29T18:45:05.887Z"
   },
   {
    "duration": 11,
    "start_time": "2023-08-29T18:45:05.901Z"
   },
   {
    "duration": 354,
    "start_time": "2023-08-29T18:45:05.913Z"
   },
   {
    "duration": 15,
    "start_time": "2023-08-29T18:45:06.272Z"
   },
   {
    "duration": 17,
    "start_time": "2023-08-29T18:45:06.288Z"
   },
   {
    "duration": 11,
    "start_time": "2023-08-29T18:45:06.306Z"
   },
   {
    "duration": 10,
    "start_time": "2023-08-29T18:45:06.318Z"
   },
   {
    "duration": 358,
    "start_time": "2023-08-29T18:45:06.329Z"
   },
   {
    "duration": 11,
    "start_time": "2023-08-29T18:45:06.689Z"
   },
   {
    "duration": 11,
    "start_time": "2023-08-29T18:45:06.702Z"
   },
   {
    "duration": 5,
    "start_time": "2023-08-29T18:45:06.714Z"
   },
   {
    "duration": 41,
    "start_time": "2023-08-29T18:45:06.720Z"
   },
   {
    "duration": 16,
    "start_time": "2023-08-29T18:45:06.766Z"
   },
   {
    "duration": 10,
    "start_time": "2023-08-29T18:45:06.783Z"
   },
   {
    "duration": 16,
    "start_time": "2023-08-29T18:45:06.794Z"
   },
   {
    "duration": 11,
    "start_time": "2023-08-29T18:45:06.812Z"
   },
   {
    "duration": 8,
    "start_time": "2023-08-29T18:48:09.477Z"
   },
   {
    "duration": 8,
    "start_time": "2023-08-29T18:50:59.030Z"
   },
   {
    "duration": 7,
    "start_time": "2023-08-29T18:51:21.975Z"
   },
   {
    "duration": 6,
    "start_time": "2023-08-29T18:51:44.000Z"
   },
   {
    "duration": 5,
    "start_time": "2023-08-29T18:51:50.982Z"
   },
   {
    "duration": 98,
    "start_time": "2023-08-29T18:51:50.989Z"
   },
   {
    "duration": 12,
    "start_time": "2023-08-29T18:51:51.089Z"
   },
   {
    "duration": 25,
    "start_time": "2023-08-29T18:51:51.102Z"
   },
   {
    "duration": 45,
    "start_time": "2023-08-29T18:51:51.129Z"
   },
   {
    "duration": 8,
    "start_time": "2023-08-29T18:51:51.176Z"
   },
   {
    "duration": 16,
    "start_time": "2023-08-29T18:51:51.186Z"
   },
   {
    "duration": 25,
    "start_time": "2023-08-29T18:51:51.204Z"
   },
   {
    "duration": 23,
    "start_time": "2023-08-29T18:51:51.231Z"
   },
   {
    "duration": 22,
    "start_time": "2023-08-29T18:51:51.260Z"
   },
   {
    "duration": 23,
    "start_time": "2023-08-29T18:51:51.284Z"
   },
   {
    "duration": 14,
    "start_time": "2023-08-29T18:51:51.308Z"
   },
   {
    "duration": 9,
    "start_time": "2023-08-29T18:51:51.324Z"
   },
   {
    "duration": 46,
    "start_time": "2023-08-29T18:51:51.335Z"
   },
   {
    "duration": 16,
    "start_time": "2023-08-29T18:51:54.241Z"
   },
   {
    "duration": 8,
    "start_time": "2023-08-29T18:52:05.175Z"
   },
   {
    "duration": 8,
    "start_time": "2023-08-29T18:52:35.093Z"
   },
   {
    "duration": 17,
    "start_time": "2023-08-29T19:17:50.504Z"
   },
   {
    "duration": 1506,
    "start_time": "2023-08-30T16:26:31.732Z"
   },
   {
    "duration": 107,
    "start_time": "2023-08-30T16:26:33.240Z"
   },
   {
    "duration": 16,
    "start_time": "2023-08-30T16:26:33.349Z"
   },
   {
    "duration": 24,
    "start_time": "2023-08-30T16:26:33.367Z"
   },
   {
    "duration": 17,
    "start_time": "2023-08-30T16:26:33.392Z"
   },
   {
    "duration": 10,
    "start_time": "2023-08-30T16:26:33.411Z"
   },
   {
    "duration": 15,
    "start_time": "2023-08-30T16:26:33.422Z"
   },
   {
    "duration": 37,
    "start_time": "2023-08-30T16:26:33.439Z"
   },
   {
    "duration": 13,
    "start_time": "2023-08-30T16:26:33.478Z"
   },
   {
    "duration": 22,
    "start_time": "2023-08-30T16:26:33.494Z"
   },
   {
    "duration": 11,
    "start_time": "2023-08-30T16:26:33.518Z"
   },
   {
    "duration": 28,
    "start_time": "2023-08-30T16:26:33.531Z"
   },
   {
    "duration": 16,
    "start_time": "2023-08-30T16:26:33.561Z"
   },
   {
    "duration": 22,
    "start_time": "2023-08-30T16:26:33.579Z"
   },
   {
    "duration": 14,
    "start_time": "2023-08-30T16:26:33.603Z"
   },
   {
    "duration": 9,
    "start_time": "2023-08-30T16:26:33.619Z"
   },
   {
    "duration": 30,
    "start_time": "2023-08-30T16:26:33.629Z"
   },
   {
    "duration": 13,
    "start_time": "2023-08-30T16:26:33.661Z"
   },
   {
    "duration": 17,
    "start_time": "2023-08-30T16:26:33.676Z"
   },
   {
    "duration": 16,
    "start_time": "2023-08-30T16:26:33.695Z"
   },
   {
    "duration": 36,
    "start_time": "2023-08-30T16:26:33.712Z"
   },
   {
    "duration": 162,
    "start_time": "2023-08-30T16:26:33.750Z"
   },
   {
    "duration": 14,
    "start_time": "2023-08-30T16:26:33.914Z"
   },
   {
    "duration": 18,
    "start_time": "2023-08-30T16:26:33.929Z"
   },
   {
    "duration": 11,
    "start_time": "2023-08-30T16:26:33.949Z"
   },
   {
    "duration": 7,
    "start_time": "2023-08-30T16:26:33.962Z"
   },
   {
    "duration": 24,
    "start_time": "2023-08-30T16:26:33.971Z"
   },
   {
    "duration": 7,
    "start_time": "2023-08-30T16:26:33.999Z"
   },
   {
    "duration": 42,
    "start_time": "2023-08-30T16:26:34.008Z"
   },
   {
    "duration": 184,
    "start_time": "2023-08-30T16:26:34.051Z"
   },
   {
    "duration": 153,
    "start_time": "2023-08-30T16:26:34.237Z"
   },
   {
    "duration": 14,
    "start_time": "2023-08-30T16:26:34.392Z"
   },
   {
    "duration": 201,
    "start_time": "2023-08-30T16:26:34.408Z"
   },
   {
    "duration": 164,
    "start_time": "2023-08-30T16:26:34.611Z"
   },
   {
    "duration": 13,
    "start_time": "2023-08-30T16:26:34.777Z"
   },
   {
    "duration": 171,
    "start_time": "2023-08-30T16:26:34.791Z"
   },
   {
    "duration": 174,
    "start_time": "2023-08-30T16:26:34.964Z"
   },
   {
    "duration": 16,
    "start_time": "2023-08-30T16:26:35.140Z"
   },
   {
    "duration": 192,
    "start_time": "2023-08-30T16:26:35.158Z"
   },
   {
    "duration": 234,
    "start_time": "2023-08-30T16:26:35.353Z"
   },
   {
    "duration": 5,
    "start_time": "2023-08-30T16:26:35.590Z"
   },
   {
    "duration": 12,
    "start_time": "2023-08-30T16:26:35.597Z"
   },
   {
    "duration": 28,
    "start_time": "2023-08-30T16:26:35.611Z"
   },
   {
    "duration": 407,
    "start_time": "2023-08-30T16:26:35.640Z"
   },
   {
    "duration": 17,
    "start_time": "2023-08-30T16:26:36.049Z"
   },
   {
    "duration": 25,
    "start_time": "2023-08-30T16:26:36.067Z"
   },
   {
    "duration": 364,
    "start_time": "2023-08-30T16:26:36.094Z"
   },
   {
    "duration": 7,
    "start_time": "2023-08-30T16:26:36.460Z"
   },
   {
    "duration": 20,
    "start_time": "2023-08-30T16:26:36.468Z"
   },
   {
    "duration": 20,
    "start_time": "2023-08-30T16:26:36.490Z"
   },
   {
    "duration": 356,
    "start_time": "2023-08-30T16:26:36.512Z"
   },
   {
    "duration": 301,
    "start_time": "2023-08-30T16:26:36.870Z"
   },
   {
    "duration": 212,
    "start_time": "2023-08-30T16:26:37.172Z"
   },
   {
    "duration": 6,
    "start_time": "2023-08-30T16:26:37.385Z"
   },
   {
    "duration": 186,
    "start_time": "2023-08-30T16:26:37.392Z"
   },
   {
    "duration": 177,
    "start_time": "2023-08-30T16:26:37.580Z"
   },
   {
    "duration": 26,
    "start_time": "2023-08-30T16:26:37.759Z"
   },
   {
    "duration": 11,
    "start_time": "2023-08-30T16:26:37.787Z"
   },
   {
    "duration": 3,
    "start_time": "2023-08-30T16:26:37.800Z"
   },
   {
    "duration": 393,
    "start_time": "2023-08-30T16:26:37.805Z"
   },
   {
    "duration": 20,
    "start_time": "2023-08-30T16:26:38.199Z"
   },
   {
    "duration": 26,
    "start_time": "2023-08-30T16:26:38.221Z"
   },
   {
    "duration": 10,
    "start_time": "2023-08-30T16:26:38.249Z"
   },
   {
    "duration": 11,
    "start_time": "2023-08-30T16:26:38.261Z"
   },
   {
    "duration": 16,
    "start_time": "2023-08-30T16:26:38.274Z"
   },
   {
    "duration": 409,
    "start_time": "2023-08-30T16:26:38.292Z"
   },
   {
    "duration": 11,
    "start_time": "2023-08-30T16:26:38.702Z"
   },
   {
    "duration": 15,
    "start_time": "2023-08-30T16:26:38.715Z"
   },
   {
    "duration": 24,
    "start_time": "2023-08-30T16:26:38.732Z"
   },
   {
    "duration": 37,
    "start_time": "2023-08-30T16:26:38.758Z"
   },
   {
    "duration": 302,
    "start_time": "2023-08-30T16:26:38.797Z"
   },
   {
    "duration": 13,
    "start_time": "2023-08-30T16:26:39.101Z"
   },
   {
    "duration": 9,
    "start_time": "2023-08-30T16:26:39.116Z"
   },
   {
    "duration": 24,
    "start_time": "2023-08-30T16:26:39.127Z"
   },
   {
    "duration": 14,
    "start_time": "2023-08-30T16:26:39.153Z"
   },
   {
    "duration": 312,
    "start_time": "2023-08-30T16:26:39.168Z"
   },
   {
    "duration": 10,
    "start_time": "2023-08-30T16:26:39.482Z"
   },
   {
    "duration": 12,
    "start_time": "2023-08-30T16:26:39.494Z"
   },
   {
    "duration": 21,
    "start_time": "2023-08-30T16:26:39.508Z"
   },
   {
    "duration": 16,
    "start_time": "2023-08-30T16:26:39.531Z"
   },
   {
    "duration": 12,
    "start_time": "2023-08-30T16:26:39.549Z"
   },
   {
    "duration": 10,
    "start_time": "2023-08-30T16:26:39.566Z"
   },
   {
    "duration": 130,
    "start_time": "2023-08-30T16:26:39.577Z"
   },
   {
    "duration": 0,
    "start_time": "2023-08-30T16:26:39.709Z"
   },
   {
    "duration": 5,
    "start_time": "2023-08-30T16:36:22.665Z"
   },
   {
    "duration": 167,
    "start_time": "2023-08-30T16:47:23.937Z"
   },
   {
    "duration": 170,
    "start_time": "2023-08-30T16:49:41.791Z"
   },
   {
    "duration": 164,
    "start_time": "2023-08-30T16:49:52.449Z"
   },
   {
    "duration": 145,
    "start_time": "2023-08-30T16:50:03.794Z"
   },
   {
    "duration": 16,
    "start_time": "2023-08-30T16:53:22.137Z"
   },
   {
    "duration": 7,
    "start_time": "2023-08-30T16:54:03.486Z"
   },
   {
    "duration": 191,
    "start_time": "2023-08-30T17:02:27.231Z"
   },
   {
    "duration": 314,
    "start_time": "2023-08-30T17:03:14.959Z"
   },
   {
    "duration": 162,
    "start_time": "2023-08-30T17:08:01.677Z"
   },
   {
    "duration": 194,
    "start_time": "2023-08-30T17:15:05.949Z"
   },
   {
    "duration": 188,
    "start_time": "2023-08-30T17:15:43.144Z"
   },
   {
    "duration": 168,
    "start_time": "2023-08-30T17:19:32.722Z"
   },
   {
    "duration": 156,
    "start_time": "2023-08-30T17:19:49.892Z"
   },
   {
    "duration": 171,
    "start_time": "2023-08-30T17:25:32.806Z"
   },
   {
    "duration": 155,
    "start_time": "2023-08-30T17:26:06.272Z"
   },
   {
    "duration": 175,
    "start_time": "2023-08-30T17:26:46.143Z"
   },
   {
    "duration": 18,
    "start_time": "2023-08-30T17:30:16.103Z"
   },
   {
    "duration": 292,
    "start_time": "2023-08-30T18:00:14.293Z"
   },
   {
    "duration": 411,
    "start_time": "2023-08-30T18:20:59.425Z"
   },
   {
    "duration": 283,
    "start_time": "2023-08-30T18:21:16.168Z"
   },
   {
    "duration": 15,
    "start_time": "2023-08-30T19:26:35.342Z"
   },
   {
    "duration": 8,
    "start_time": "2023-08-30T19:27:25.383Z"
   },
   {
    "duration": 4,
    "start_time": "2023-08-30T19:27:35.006Z"
   },
   {
    "duration": 67,
    "start_time": "2023-08-30T19:27:35.014Z"
   },
   {
    "duration": 11,
    "start_time": "2023-08-30T19:27:35.083Z"
   },
   {
    "duration": 16,
    "start_time": "2023-08-30T19:27:35.095Z"
   },
   {
    "duration": 46,
    "start_time": "2023-08-30T19:27:35.115Z"
   },
   {
    "duration": 5,
    "start_time": "2023-08-30T19:27:35.162Z"
   },
   {
    "duration": 6,
    "start_time": "2023-08-30T19:27:35.170Z"
   },
   {
    "duration": 24,
    "start_time": "2023-08-30T19:27:35.178Z"
   },
   {
    "duration": 10,
    "start_time": "2023-08-30T19:27:35.204Z"
   },
   {
    "duration": 55,
    "start_time": "2023-08-30T19:27:35.215Z"
   },
   {
    "duration": 15,
    "start_time": "2023-08-30T19:27:35.274Z"
   },
   {
    "duration": 19,
    "start_time": "2023-08-30T19:27:35.291Z"
   },
   {
    "duration": 43,
    "start_time": "2023-08-30T19:27:35.313Z"
   },
   {
    "duration": 25,
    "start_time": "2023-08-30T19:27:35.360Z"
   },
   {
    "duration": 12,
    "start_time": "2023-08-30T19:27:35.388Z"
   },
   {
    "duration": 8,
    "start_time": "2023-08-30T19:27:35.402Z"
   },
   {
    "duration": 52,
    "start_time": "2023-08-30T19:27:35.412Z"
   },
   {
    "duration": 7,
    "start_time": "2023-08-30T19:27:35.467Z"
   },
   {
    "duration": 31,
    "start_time": "2023-08-30T19:27:35.476Z"
   },
   {
    "duration": 37,
    "start_time": "2023-08-30T19:27:35.510Z"
   },
   {
    "duration": 9,
    "start_time": "2023-08-30T19:27:35.549Z"
   },
   {
    "duration": 18,
    "start_time": "2023-08-30T19:27:35.561Z"
   },
   {
    "duration": 196,
    "start_time": "2023-08-30T19:27:35.581Z"
   },
   {
    "duration": 15,
    "start_time": "2023-08-30T19:27:35.779Z"
   },
   {
    "duration": 9,
    "start_time": "2023-08-30T19:27:35.796Z"
   },
   {
    "duration": 13,
    "start_time": "2023-08-30T19:27:35.807Z"
   },
   {
    "duration": 9,
    "start_time": "2023-08-30T19:27:35.848Z"
   },
   {
    "duration": 21,
    "start_time": "2023-08-30T19:27:35.859Z"
   },
   {
    "duration": 7,
    "start_time": "2023-08-30T19:27:35.882Z"
   },
   {
    "duration": 16,
    "start_time": "2023-08-30T19:27:35.891Z"
   },
   {
    "duration": 42,
    "start_time": "2023-08-30T19:27:35.909Z"
   },
   {
    "duration": 237,
    "start_time": "2023-08-30T19:27:35.954Z"
   },
   {
    "duration": 190,
    "start_time": "2023-08-30T19:27:36.194Z"
   },
   {
    "duration": 13,
    "start_time": "2023-08-30T19:27:36.385Z"
   },
   {
    "duration": 221,
    "start_time": "2023-08-30T19:27:36.400Z"
   },
   {
    "duration": 196,
    "start_time": "2023-08-30T19:27:36.623Z"
   },
   {
    "duration": 17,
    "start_time": "2023-08-30T19:27:36.821Z"
   },
   {
    "duration": 191,
    "start_time": "2023-08-30T19:27:36.847Z"
   },
   {
    "duration": 232,
    "start_time": "2023-08-30T19:27:37.040Z"
   },
   {
    "duration": 15,
    "start_time": "2023-08-30T19:27:37.275Z"
   },
   {
    "duration": 190,
    "start_time": "2023-08-30T19:27:37.292Z"
   },
   {
    "duration": 311,
    "start_time": "2023-08-30T19:27:37.484Z"
   },
   {
    "duration": 14,
    "start_time": "2023-08-30T19:27:37.796Z"
   },
   {
    "duration": 6,
    "start_time": "2023-08-30T19:27:37.811Z"
   },
   {
    "duration": 10,
    "start_time": "2023-08-30T19:27:37.818Z"
   },
   {
    "duration": 372,
    "start_time": "2023-08-30T19:27:37.847Z"
   },
   {
    "duration": 32,
    "start_time": "2023-08-30T19:27:38.221Z"
   },
   {
    "duration": 4,
    "start_time": "2023-08-30T19:27:38.255Z"
   },
   {
    "duration": 307,
    "start_time": "2023-08-30T19:27:38.263Z"
   },
   {
    "duration": 7,
    "start_time": "2023-08-30T19:27:38.571Z"
   },
   {
    "duration": 7,
    "start_time": "2023-08-30T19:27:38.579Z"
   },
   {
    "duration": 14,
    "start_time": "2023-08-30T19:27:38.587Z"
   },
   {
    "duration": 369,
    "start_time": "2023-08-30T19:27:38.603Z"
   },
   {
    "duration": 320,
    "start_time": "2023-08-30T19:27:38.974Z"
   },
   {
    "duration": 209,
    "start_time": "2023-08-30T19:27:39.296Z"
   },
   {
    "duration": 6,
    "start_time": "2023-08-30T19:27:39.507Z"
   },
   {
    "duration": 190,
    "start_time": "2023-08-30T19:27:39.514Z"
   },
   {
    "duration": 184,
    "start_time": "2023-08-30T19:27:39.706Z"
   },
   {
    "duration": 22,
    "start_time": "2023-08-30T19:27:39.892Z"
   },
   {
    "duration": 45,
    "start_time": "2023-08-30T19:27:39.916Z"
   },
   {
    "duration": 9,
    "start_time": "2023-08-30T19:27:39.963Z"
   },
   {
    "duration": 423,
    "start_time": "2023-08-30T19:27:39.974Z"
   },
   {
    "duration": 10,
    "start_time": "2023-08-30T19:27:40.399Z"
   },
   {
    "duration": 14,
    "start_time": "2023-08-30T19:27:40.411Z"
   },
   {
    "duration": 27,
    "start_time": "2023-08-30T19:27:40.427Z"
   },
   {
    "duration": 13,
    "start_time": "2023-08-30T19:27:40.456Z"
   },
   {
    "duration": 429,
    "start_time": "2023-08-30T19:27:40.471Z"
   },
   {
    "duration": 10,
    "start_time": "2023-08-30T19:27:40.902Z"
   },
   {
    "duration": 8,
    "start_time": "2023-08-30T19:27:40.914Z"
   },
   {
    "duration": 28,
    "start_time": "2023-08-30T19:27:40.923Z"
   },
   {
    "duration": 8,
    "start_time": "2023-08-30T19:27:40.954Z"
   },
   {
    "duration": 315,
    "start_time": "2023-08-30T19:27:40.968Z"
   },
   {
    "duration": 10,
    "start_time": "2023-08-30T19:27:41.285Z"
   },
   {
    "duration": 22,
    "start_time": "2023-08-30T19:27:41.297Z"
   },
   {
    "duration": 38,
    "start_time": "2023-08-30T19:27:41.321Z"
   },
   {
    "duration": 60,
    "start_time": "2023-08-30T19:27:41.361Z"
   },
   {
    "duration": 393,
    "start_time": "2023-08-30T19:27:41.423Z"
   },
   {
    "duration": 10,
    "start_time": "2023-08-30T19:27:41.818Z"
   },
   {
    "duration": 8,
    "start_time": "2023-08-30T19:27:41.830Z"
   },
   {
    "duration": 14,
    "start_time": "2023-08-30T19:27:41.846Z"
   },
   {
    "duration": 10,
    "start_time": "2023-08-30T19:27:41.862Z"
   },
   {
    "duration": 19,
    "start_time": "2023-08-30T19:27:41.874Z"
   },
   {
    "duration": 9,
    "start_time": "2023-08-30T19:27:41.894Z"
   },
   {
    "duration": 17,
    "start_time": "2023-08-30T19:27:41.904Z"
   },
   {
    "duration": 0,
    "start_time": "2023-08-30T19:27:41.922Z"
   },
   {
    "duration": 8,
    "start_time": "2023-08-30T19:29:27.823Z"
   },
   {
    "duration": 10,
    "start_time": "2023-08-30T19:31:47.970Z"
   },
   {
    "duration": 4,
    "start_time": "2023-08-30T19:32:17.574Z"
   },
   {
    "duration": 57,
    "start_time": "2023-08-30T19:32:17.580Z"
   },
   {
    "duration": 33,
    "start_time": "2023-08-30T19:32:17.639Z"
   },
   {
    "duration": 16,
    "start_time": "2023-08-30T19:32:17.674Z"
   },
   {
    "duration": 16,
    "start_time": "2023-08-30T19:32:17.692Z"
   },
   {
    "duration": 3,
    "start_time": "2023-08-30T19:32:17.710Z"
   },
   {
    "duration": 6,
    "start_time": "2023-08-30T19:32:17.714Z"
   },
   {
    "duration": 43,
    "start_time": "2023-08-30T19:32:17.721Z"
   },
   {
    "duration": 10,
    "start_time": "2023-08-30T19:32:17.768Z"
   },
   {
    "duration": 13,
    "start_time": "2023-08-30T19:32:17.781Z"
   },
   {
    "duration": 12,
    "start_time": "2023-08-30T19:32:17.798Z"
   },
   {
    "duration": 59,
    "start_time": "2023-08-30T19:32:17.812Z"
   },
   {
    "duration": 8,
    "start_time": "2023-08-30T19:32:17.873Z"
   },
   {
    "duration": 16,
    "start_time": "2023-08-30T19:32:17.883Z"
   },
   {
    "duration": 8,
    "start_time": "2023-08-30T19:32:17.900Z"
   },
   {
    "duration": 7,
    "start_time": "2023-08-30T19:32:17.910Z"
   },
   {
    "duration": 58,
    "start_time": "2023-08-30T19:32:17.918Z"
   },
   {
    "duration": 5,
    "start_time": "2023-08-30T19:32:17.978Z"
   },
   {
    "duration": 18,
    "start_time": "2023-08-30T19:32:17.984Z"
   },
   {
    "duration": 17,
    "start_time": "2023-08-30T19:32:18.004Z"
   },
   {
    "duration": 7,
    "start_time": "2023-08-30T19:32:18.022Z"
   },
   {
    "duration": 33,
    "start_time": "2023-08-30T19:32:18.031Z"
   },
   {
    "duration": 198,
    "start_time": "2023-08-30T19:32:18.068Z"
   },
   {
    "duration": 17,
    "start_time": "2023-08-30T19:32:18.269Z"
   },
   {
    "duration": 12,
    "start_time": "2023-08-30T19:32:18.287Z"
   },
   {
    "duration": 17,
    "start_time": "2023-08-30T19:32:18.301Z"
   },
   {
    "duration": 8,
    "start_time": "2023-08-30T19:32:18.320Z"
   },
   {
    "duration": 33,
    "start_time": "2023-08-30T19:32:18.347Z"
   },
   {
    "duration": 7,
    "start_time": "2023-08-30T19:32:18.384Z"
   },
   {
    "duration": 10,
    "start_time": "2023-08-30T19:32:18.393Z"
   },
   {
    "duration": 14,
    "start_time": "2023-08-30T19:32:18.405Z"
   },
   {
    "duration": 206,
    "start_time": "2023-08-30T19:32:18.420Z"
   },
   {
    "duration": 186,
    "start_time": "2023-08-30T19:32:18.628Z"
   },
   {
    "duration": 14,
    "start_time": "2023-08-30T19:32:18.816Z"
   },
   {
    "duration": 238,
    "start_time": "2023-08-30T19:32:18.832Z"
   },
   {
    "duration": 194,
    "start_time": "2023-08-30T19:32:19.072Z"
   },
   {
    "duration": 15,
    "start_time": "2023-08-30T19:32:19.274Z"
   },
   {
    "duration": 311,
    "start_time": "2023-08-30T19:32:19.291Z"
   },
   {
    "duration": 212,
    "start_time": "2023-08-30T19:32:19.604Z"
   },
   {
    "duration": 14,
    "start_time": "2023-08-30T19:32:19.817Z"
   },
   {
    "duration": 206,
    "start_time": "2023-08-30T19:32:19.833Z"
   },
   {
    "duration": 221,
    "start_time": "2023-08-30T19:32:20.047Z"
   },
   {
    "duration": 18,
    "start_time": "2023-08-30T19:32:20.270Z"
   },
   {
    "duration": 4,
    "start_time": "2023-08-30T19:32:20.289Z"
   },
   {
    "duration": 40,
    "start_time": "2023-08-30T19:32:20.295Z"
   },
   {
    "duration": 442,
    "start_time": "2023-08-30T19:32:20.337Z"
   },
   {
    "duration": 21,
    "start_time": "2023-08-30T19:32:20.781Z"
   },
   {
    "duration": 3,
    "start_time": "2023-08-30T19:32:20.803Z"
   },
   {
    "duration": 370,
    "start_time": "2023-08-30T19:32:20.808Z"
   },
   {
    "duration": 7,
    "start_time": "2023-08-30T19:32:21.179Z"
   },
   {
    "duration": 29,
    "start_time": "2023-08-30T19:32:21.188Z"
   },
   {
    "duration": 51,
    "start_time": "2023-08-30T19:32:21.219Z"
   },
   {
    "duration": 400,
    "start_time": "2023-08-30T19:32:21.273Z"
   },
   {
    "duration": 328,
    "start_time": "2023-08-30T19:32:21.675Z"
   },
   {
    "duration": 237,
    "start_time": "2023-08-30T19:32:22.005Z"
   },
   {
    "duration": 9,
    "start_time": "2023-08-30T19:32:22.246Z"
   },
   {
    "duration": 339,
    "start_time": "2023-08-30T19:32:22.257Z"
   },
   {
    "duration": 200,
    "start_time": "2023-08-30T19:32:22.598Z"
   },
   {
    "duration": 22,
    "start_time": "2023-08-30T19:32:22.800Z"
   },
   {
    "duration": 44,
    "start_time": "2023-08-30T19:32:22.824Z"
   },
   {
    "duration": 3,
    "start_time": "2023-08-30T19:32:22.873Z"
   },
   {
    "duration": 386,
    "start_time": "2023-08-30T19:32:22.877Z"
   },
   {
    "duration": 12,
    "start_time": "2023-08-30T19:32:23.271Z"
   },
   {
    "duration": 24,
    "start_time": "2023-08-30T19:32:23.285Z"
   },
   {
    "duration": 30,
    "start_time": "2023-08-30T19:32:23.311Z"
   },
   {
    "duration": 40,
    "start_time": "2023-08-30T19:32:23.342Z"
   },
   {
    "duration": 316,
    "start_time": "2023-08-30T19:32:23.384Z"
   },
   {
    "duration": 10,
    "start_time": "2023-08-30T19:32:23.702Z"
   },
   {
    "duration": 58,
    "start_time": "2023-08-30T19:32:23.713Z"
   },
   {
    "duration": 8,
    "start_time": "2023-08-30T19:32:23.774Z"
   },
   {
    "duration": 30,
    "start_time": "2023-08-30T19:32:23.783Z"
   },
   {
    "duration": 341,
    "start_time": "2023-08-30T19:32:23.815Z"
   },
   {
    "duration": 10,
    "start_time": "2023-08-30T19:32:24.161Z"
   },
   {
    "duration": 21,
    "start_time": "2023-08-30T19:32:24.173Z"
   },
   {
    "duration": 22,
    "start_time": "2023-08-30T19:32:24.195Z"
   },
   {
    "duration": 10,
    "start_time": "2023-08-30T19:32:24.219Z"
   },
   {
    "duration": 387,
    "start_time": "2023-08-30T19:32:24.231Z"
   },
   {
    "duration": 11,
    "start_time": "2023-08-30T19:32:24.620Z"
   },
   {
    "duration": 75,
    "start_time": "2023-08-30T19:32:24.633Z"
   },
   {
    "duration": 32,
    "start_time": "2023-08-30T19:32:24.710Z"
   },
   {
    "duration": 37,
    "start_time": "2023-08-30T19:32:24.744Z"
   },
   {
    "duration": 23,
    "start_time": "2023-08-30T19:32:24.786Z"
   },
   {
    "duration": 29,
    "start_time": "2023-08-30T19:32:24.811Z"
   },
   {
    "duration": 36,
    "start_time": "2023-08-30T19:32:24.842Z"
   },
   {
    "duration": 0,
    "start_time": "2023-08-30T19:32:24.880Z"
   },
   {
    "duration": 12,
    "start_time": "2023-08-30T19:41:15.691Z"
   },
   {
    "duration": 165,
    "start_time": "2023-08-30T19:42:39.065Z"
   },
   {
    "duration": 5,
    "start_time": "2023-08-30T19:43:05.850Z"
   },
   {
    "duration": 84,
    "start_time": "2023-08-30T19:43:05.863Z"
   },
   {
    "duration": 15,
    "start_time": "2023-08-30T19:43:05.949Z"
   },
   {
    "duration": 35,
    "start_time": "2023-08-30T19:43:05.974Z"
   },
   {
    "duration": 41,
    "start_time": "2023-08-30T19:43:06.012Z"
   },
   {
    "duration": 4,
    "start_time": "2023-08-30T19:43:06.055Z"
   },
   {
    "duration": 8,
    "start_time": "2023-08-30T19:43:06.061Z"
   },
   {
    "duration": 39,
    "start_time": "2023-08-30T19:43:06.072Z"
   },
   {
    "duration": 35,
    "start_time": "2023-08-30T19:43:06.113Z"
   },
   {
    "duration": 25,
    "start_time": "2023-08-30T19:43:06.152Z"
   },
   {
    "duration": 11,
    "start_time": "2023-08-30T19:43:06.180Z"
   },
   {
    "duration": 30,
    "start_time": "2023-08-30T19:43:06.192Z"
   },
   {
    "duration": 47,
    "start_time": "2023-08-30T19:43:06.224Z"
   },
   {
    "duration": 37,
    "start_time": "2023-08-30T19:43:06.274Z"
   },
   {
    "duration": 8,
    "start_time": "2023-08-30T19:43:06.314Z"
   },
   {
    "duration": 34,
    "start_time": "2023-08-30T19:43:06.324Z"
   },
   {
    "duration": 40,
    "start_time": "2023-08-30T19:43:06.360Z"
   },
   {
    "duration": 9,
    "start_time": "2023-08-30T19:43:06.402Z"
   },
   {
    "duration": 36,
    "start_time": "2023-08-30T19:43:06.413Z"
   },
   {
    "duration": 32,
    "start_time": "2023-08-30T19:43:06.452Z"
   },
   {
    "duration": 8,
    "start_time": "2023-08-30T19:43:06.487Z"
   },
   {
    "duration": 22,
    "start_time": "2023-08-30T19:43:06.496Z"
   },
   {
    "duration": 198,
    "start_time": "2023-08-30T19:43:06.521Z"
   },
   {
    "duration": 15,
    "start_time": "2023-08-30T19:43:06.721Z"
   },
   {
    "duration": 23,
    "start_time": "2023-08-30T19:43:06.751Z"
   },
   {
    "duration": 46,
    "start_time": "2023-08-30T19:43:06.776Z"
   },
   {
    "duration": 20,
    "start_time": "2023-08-30T19:43:06.824Z"
   },
   {
    "duration": 47,
    "start_time": "2023-08-30T19:43:06.846Z"
   },
   {
    "duration": 30,
    "start_time": "2023-08-30T19:43:06.898Z"
   },
   {
    "duration": 66,
    "start_time": "2023-08-30T19:43:06.930Z"
   },
   {
    "duration": 47,
    "start_time": "2023-08-30T19:43:06.998Z"
   },
   {
    "duration": 215,
    "start_time": "2023-08-30T19:43:07.049Z"
   },
   {
    "duration": 318,
    "start_time": "2023-08-30T19:43:07.266Z"
   },
   {
    "duration": 17,
    "start_time": "2023-08-30T19:43:07.586Z"
   },
   {
    "duration": 245,
    "start_time": "2023-08-30T19:43:07.606Z"
   },
   {
    "duration": 233,
    "start_time": "2023-08-30T19:43:07.854Z"
   },
   {
    "duration": 16,
    "start_time": "2023-08-30T19:43:08.089Z"
   },
   {
    "duration": 208,
    "start_time": "2023-08-30T19:43:08.107Z"
   },
   {
    "duration": 205,
    "start_time": "2023-08-30T19:43:08.317Z"
   },
   {
    "duration": 33,
    "start_time": "2023-08-30T19:43:08.524Z"
   },
   {
    "duration": 176,
    "start_time": "2023-08-30T19:43:08.560Z"
   },
   {
    "duration": 214,
    "start_time": "2023-08-30T19:43:08.738Z"
   },
   {
    "duration": 22,
    "start_time": "2023-08-30T19:43:08.955Z"
   },
   {
    "duration": 7,
    "start_time": "2023-08-30T19:43:08.979Z"
   },
   {
    "duration": 37,
    "start_time": "2023-08-30T19:43:08.988Z"
   },
   {
    "duration": 428,
    "start_time": "2023-08-30T19:43:09.027Z"
   },
   {
    "duration": 23,
    "start_time": "2023-08-30T19:43:09.458Z"
   },
   {
    "duration": 4,
    "start_time": "2023-08-30T19:43:09.483Z"
   },
   {
    "duration": 395,
    "start_time": "2023-08-30T19:43:09.489Z"
   },
   {
    "duration": 7,
    "start_time": "2023-08-30T19:43:09.886Z"
   },
   {
    "duration": 8,
    "start_time": "2023-08-30T19:43:09.895Z"
   },
   {
    "duration": 21,
    "start_time": "2023-08-30T19:43:09.905Z"
   },
   {
    "duration": 471,
    "start_time": "2023-08-30T19:43:09.951Z"
   },
   {
    "duration": 499,
    "start_time": "2023-08-30T19:43:10.424Z"
   },
   {
    "duration": 261,
    "start_time": "2023-08-30T19:43:10.925Z"
   },
   {
    "duration": 6,
    "start_time": "2023-08-30T19:43:11.188Z"
   },
   {
    "duration": 235,
    "start_time": "2023-08-30T19:43:11.196Z"
   },
   {
    "duration": 202,
    "start_time": "2023-08-30T19:43:11.433Z"
   },
   {
    "duration": 37,
    "start_time": "2023-08-30T19:43:11.637Z"
   },
   {
    "duration": 38,
    "start_time": "2023-08-30T19:43:11.676Z"
   },
   {
    "duration": 17,
    "start_time": "2023-08-30T19:43:11.716Z"
   },
   {
    "duration": 415,
    "start_time": "2023-08-30T19:43:11.735Z"
   },
   {
    "duration": 19,
    "start_time": "2023-08-30T19:43:12.153Z"
   },
   {
    "duration": 14,
    "start_time": "2023-08-30T19:43:12.179Z"
   },
   {
    "duration": 12,
    "start_time": "2023-08-30T19:43:12.195Z"
   },
   {
    "duration": 12,
    "start_time": "2023-08-30T19:43:12.210Z"
   },
   {
    "duration": 350,
    "start_time": "2023-08-30T19:43:12.224Z"
   },
   {
    "duration": 12,
    "start_time": "2023-08-30T19:43:12.575Z"
   },
   {
    "duration": 11,
    "start_time": "2023-08-30T19:43:12.589Z"
   },
   {
    "duration": 13,
    "start_time": "2023-08-30T19:43:12.602Z"
   },
   {
    "duration": 43,
    "start_time": "2023-08-30T19:43:12.617Z"
   },
   {
    "duration": 376,
    "start_time": "2023-08-30T19:43:12.664Z"
   },
   {
    "duration": 15,
    "start_time": "2023-08-30T19:43:13.049Z"
   },
   {
    "duration": 14,
    "start_time": "2023-08-30T19:43:13.068Z"
   },
   {
    "duration": 12,
    "start_time": "2023-08-30T19:43:13.084Z"
   },
   {
    "duration": 12,
    "start_time": "2023-08-30T19:43:13.098Z"
   },
   {
    "duration": 563,
    "start_time": "2023-08-30T19:43:13.112Z"
   },
   {
    "duration": 12,
    "start_time": "2023-08-30T19:43:13.677Z"
   },
   {
    "duration": 11,
    "start_time": "2023-08-30T19:43:13.690Z"
   },
   {
    "duration": 13,
    "start_time": "2023-08-30T19:43:13.702Z"
   },
   {
    "duration": 31,
    "start_time": "2023-08-30T19:43:13.717Z"
   },
   {
    "duration": 17,
    "start_time": "2023-08-30T19:43:13.750Z"
   },
   {
    "duration": 20,
    "start_time": "2023-08-30T19:43:13.775Z"
   },
   {
    "duration": 12,
    "start_time": "2023-08-30T19:43:13.798Z"
   },
   {
    "duration": 0,
    "start_time": "2023-08-30T19:43:13.812Z"
   },
   {
    "duration": 20,
    "start_time": "2023-08-30T19:43:44.749Z"
   },
   {
    "duration": 4,
    "start_time": "2023-08-30T19:44:27.418Z"
   },
   {
    "duration": 6,
    "start_time": "2023-08-30T19:44:37.452Z"
   },
   {
    "duration": 70,
    "start_time": "2023-08-31T06:28:55.333Z"
   },
   {
    "duration": 50,
    "start_time": "2023-08-31T10:46:25.294Z"
   },
   {
    "duration": 1484,
    "start_time": "2023-08-31T10:46:32.245Z"
   },
   {
    "duration": 113,
    "start_time": "2023-08-31T10:46:33.731Z"
   },
   {
    "duration": 17,
    "start_time": "2023-08-31T10:46:33.846Z"
   },
   {
    "duration": 26,
    "start_time": "2023-08-31T10:46:33.866Z"
   },
   {
    "duration": 18,
    "start_time": "2023-08-31T10:46:33.894Z"
   },
   {
    "duration": 3,
    "start_time": "2023-08-31T10:46:33.914Z"
   },
   {
    "duration": 7,
    "start_time": "2023-08-31T10:46:33.919Z"
   },
   {
    "duration": 37,
    "start_time": "2023-08-31T10:46:33.927Z"
   },
   {
    "duration": 9,
    "start_time": "2023-08-31T10:46:33.966Z"
   },
   {
    "duration": 27,
    "start_time": "2023-08-31T10:46:33.985Z"
   },
   {
    "duration": 66,
    "start_time": "2023-08-31T10:50:43.010Z"
   },
   {
    "duration": 10,
    "start_time": "2023-08-31T10:52:15.533Z"
   },
   {
    "duration": 3418,
    "start_time": "2023-08-31T10:53:22.786Z"
   },
   {
    "duration": 128,
    "start_time": "2023-08-31T10:54:43.587Z"
   },
   {
    "duration": 2334,
    "start_time": "2023-08-31T10:54:49.854Z"
   },
   {
    "duration": 1161,
    "start_time": "2023-08-31T11:06:18.014Z"
   },
   {
    "duration": 16,
    "start_time": "2023-08-31T11:08:45.911Z"
   },
   {
    "duration": 42,
    "start_time": "2023-08-31T11:11:47.481Z"
   },
   {
    "duration": 2411,
    "start_time": "2023-08-31T11:12:08.781Z"
   },
   {
    "duration": 54,
    "start_time": "2023-08-31T11:12:11.195Z"
   },
   {
    "duration": 12,
    "start_time": "2023-08-31T11:12:11.251Z"
   },
   {
    "duration": 25,
    "start_time": "2023-08-31T11:12:11.265Z"
   },
   {
    "duration": 14,
    "start_time": "2023-08-31T11:12:11.292Z"
   },
   {
    "duration": 3,
    "start_time": "2023-08-31T11:12:11.308Z"
   },
   {
    "duration": 6,
    "start_time": "2023-08-31T11:12:11.312Z"
   },
   {
    "duration": 25,
    "start_time": "2023-08-31T11:12:11.320Z"
   },
   {
    "duration": 20,
    "start_time": "2023-08-31T11:12:11.346Z"
   },
   {
    "duration": 16,
    "start_time": "2023-08-31T11:12:11.369Z"
   },
   {
    "duration": 9,
    "start_time": "2023-08-31T11:12:11.387Z"
   },
   {
    "duration": 1156,
    "start_time": "2023-08-31T11:12:11.397Z"
   },
   {
    "duration": 15,
    "start_time": "2023-08-31T11:12:12.555Z"
   },
   {
    "duration": 8,
    "start_time": "2023-08-31T11:12:12.581Z"
   },
   {
    "duration": 25,
    "start_time": "2023-08-31T11:12:12.591Z"
   },
   {
    "duration": 11,
    "start_time": "2023-08-31T11:12:12.618Z"
   },
   {
    "duration": 14,
    "start_time": "2023-08-31T11:12:12.631Z"
   },
   {
    "duration": 34,
    "start_time": "2023-08-31T11:12:12.647Z"
   },
   {
    "duration": 5,
    "start_time": "2023-08-31T11:12:12.683Z"
   },
   {
    "duration": 15,
    "start_time": "2023-08-31T11:12:12.690Z"
   },
   {
    "duration": 31,
    "start_time": "2023-08-31T11:12:12.707Z"
   },
   {
    "duration": 13,
    "start_time": "2023-08-31T11:12:12.740Z"
   },
   {
    "duration": 9,
    "start_time": "2023-08-31T11:12:12.754Z"
   },
   {
    "duration": 171,
    "start_time": "2023-08-31T11:12:12.764Z"
   },
   {
    "duration": 14,
    "start_time": "2023-08-31T11:12:12.936Z"
   },
   {
    "duration": 9,
    "start_time": "2023-08-31T11:12:12.952Z"
   },
   {
    "duration": 24,
    "start_time": "2023-08-31T11:12:12.963Z"
   },
   {
    "duration": 7,
    "start_time": "2023-08-31T11:12:12.991Z"
   },
   {
    "duration": 18,
    "start_time": "2023-08-31T11:12:13.000Z"
   },
   {
    "duration": 7,
    "start_time": "2023-08-31T11:12:13.020Z"
   },
   {
    "duration": 11,
    "start_time": "2023-08-31T11:12:13.028Z"
   },
   {
    "duration": 42,
    "start_time": "2023-08-31T11:12:13.041Z"
   },
   {
    "duration": 184,
    "start_time": "2023-08-31T11:12:13.085Z"
   },
   {
    "duration": 160,
    "start_time": "2023-08-31T11:12:13.270Z"
   },
   {
    "duration": 13,
    "start_time": "2023-08-31T11:12:13.431Z"
   },
   {
    "duration": 189,
    "start_time": "2023-08-31T11:12:13.446Z"
   },
   {
    "duration": 161,
    "start_time": "2023-08-31T11:12:13.637Z"
   },
   {
    "duration": 12,
    "start_time": "2023-08-31T11:12:13.800Z"
   },
   {
    "duration": 251,
    "start_time": "2023-08-31T11:12:13.814Z"
   },
   {
    "duration": 167,
    "start_time": "2023-08-31T11:12:14.067Z"
   },
   {
    "duration": 13,
    "start_time": "2023-08-31T11:12:14.237Z"
   },
   {
    "duration": 166,
    "start_time": "2023-08-31T11:12:14.251Z"
   },
   {
    "duration": 170,
    "start_time": "2023-08-31T11:12:14.419Z"
   },
   {
    "duration": 13,
    "start_time": "2023-08-31T11:12:14.591Z"
   },
   {
    "duration": 5,
    "start_time": "2023-08-31T11:12:14.606Z"
   },
   {
    "duration": 8,
    "start_time": "2023-08-31T11:12:14.613Z"
   },
   {
    "duration": 337,
    "start_time": "2023-08-31T11:12:14.623Z"
   },
   {
    "duration": 29,
    "start_time": "2023-08-31T11:12:14.962Z"
   },
   {
    "duration": 3,
    "start_time": "2023-08-31T11:12:14.993Z"
   },
   {
    "duration": 345,
    "start_time": "2023-08-31T11:12:18.700Z"
   },
   {
    "duration": 290,
    "start_time": "2023-08-31T11:14:59.502Z"
   },
   {
    "duration": 6,
    "start_time": "2023-08-31T11:20:35.641Z"
   },
   {
    "duration": 2366,
    "start_time": "2023-08-31T11:20:41.500Z"
   },
   {
    "duration": 53,
    "start_time": "2023-08-31T11:20:43.868Z"
   },
   {
    "duration": 13,
    "start_time": "2023-08-31T11:20:43.923Z"
   },
   {
    "duration": 19,
    "start_time": "2023-08-31T11:20:43.938Z"
   },
   {
    "duration": 15,
    "start_time": "2023-08-31T11:20:43.959Z"
   },
   {
    "duration": 4,
    "start_time": "2023-08-31T11:20:43.980Z"
   },
   {
    "duration": 9,
    "start_time": "2023-08-31T11:20:43.986Z"
   },
   {
    "duration": 24,
    "start_time": "2023-08-31T11:20:43.997Z"
   },
   {
    "duration": 10,
    "start_time": "2023-08-31T11:20:44.022Z"
   },
   {
    "duration": 20,
    "start_time": "2023-08-31T11:20:44.035Z"
   },
   {
    "duration": 27,
    "start_time": "2023-08-31T11:20:44.057Z"
   },
   {
    "duration": 1076,
    "start_time": "2023-08-31T11:20:44.086Z"
   },
   {
    "duration": 22,
    "start_time": "2023-08-31T11:20:45.164Z"
   },
   {
    "duration": 33,
    "start_time": "2023-08-31T11:20:45.189Z"
   },
   {
    "duration": 23,
    "start_time": "2023-08-31T11:20:45.223Z"
   },
   {
    "duration": 8,
    "start_time": "2023-08-31T11:20:45.248Z"
   },
   {
    "duration": 9,
    "start_time": "2023-08-31T11:20:45.257Z"
   },
   {
    "duration": 19,
    "start_time": "2023-08-31T11:20:45.267Z"
   },
   {
    "duration": 5,
    "start_time": "2023-08-31T11:20:45.288Z"
   },
   {
    "duration": 13,
    "start_time": "2023-08-31T11:20:45.294Z"
   },
   {
    "duration": 27,
    "start_time": "2023-08-31T11:20:45.308Z"
   },
   {
    "duration": 6,
    "start_time": "2023-08-31T11:20:45.337Z"
   },
   {
    "duration": 20,
    "start_time": "2023-08-31T11:20:45.345Z"
   },
   {
    "duration": 156,
    "start_time": "2023-08-31T11:20:45.366Z"
   },
   {
    "duration": 16,
    "start_time": "2023-08-31T11:20:45.524Z"
   },
   {
    "duration": 18,
    "start_time": "2023-08-31T11:20:45.542Z"
   },
   {
    "duration": 28,
    "start_time": "2023-08-31T11:20:45.562Z"
   },
   {
    "duration": 114,
    "start_time": "2023-08-31T11:20:45.594Z"
   },
   {
    "duration": 19,
    "start_time": "2023-08-31T11:20:45.709Z"
   },
   {
    "duration": 17,
    "start_time": "2023-08-31T11:20:45.729Z"
   },
   {
    "duration": 12,
    "start_time": "2023-08-31T11:20:45.748Z"
   },
   {
    "duration": 19,
    "start_time": "2023-08-31T11:20:45.762Z"
   },
   {
    "duration": 177,
    "start_time": "2023-08-31T11:20:45.783Z"
   },
   {
    "duration": 157,
    "start_time": "2023-08-31T11:20:45.962Z"
   },
   {
    "duration": 13,
    "start_time": "2023-08-31T11:20:46.121Z"
   },
   {
    "duration": 197,
    "start_time": "2023-08-31T11:20:46.136Z"
   },
   {
    "duration": 160,
    "start_time": "2023-08-31T11:20:46.334Z"
   },
   {
    "duration": 12,
    "start_time": "2023-08-31T11:20:46.496Z"
   },
   {
    "duration": 164,
    "start_time": "2023-08-31T11:20:46.510Z"
   },
   {
    "duration": 163,
    "start_time": "2023-08-31T11:20:46.681Z"
   },
   {
    "duration": 12,
    "start_time": "2023-08-31T11:20:46.846Z"
   },
   {
    "duration": 178,
    "start_time": "2023-08-31T11:20:46.860Z"
   },
   {
    "duration": 215,
    "start_time": "2023-08-31T11:20:47.040Z"
   },
   {
    "duration": 29,
    "start_time": "2023-08-31T11:20:47.257Z"
   },
   {
    "duration": 6,
    "start_time": "2023-08-31T11:20:47.288Z"
   },
   {
    "duration": 17,
    "start_time": "2023-08-31T11:20:47.296Z"
   },
   {
    "duration": 330,
    "start_time": "2023-08-31T11:20:47.315Z"
   },
   {
    "duration": 16,
    "start_time": "2023-08-31T11:20:47.646Z"
   },
   {
    "duration": 2,
    "start_time": "2023-08-31T11:20:47.664Z"
   },
   {
    "duration": 299,
    "start_time": "2023-08-31T11:20:47.682Z"
   },
   {
    "duration": 6,
    "start_time": "2023-08-31T11:20:47.982Z"
   },
   {
    "duration": 12,
    "start_time": "2023-08-31T11:20:47.990Z"
   },
   {
    "duration": 19,
    "start_time": "2023-08-31T11:20:48.004Z"
   },
   {
    "duration": 430,
    "start_time": "2023-08-31T11:20:48.025Z"
   },
   {
    "duration": 271,
    "start_time": "2023-08-31T11:20:48.457Z"
   },
   {
    "duration": 206,
    "start_time": "2023-08-31T11:20:48.730Z"
   },
   {
    "duration": 6,
    "start_time": "2023-08-31T11:20:48.937Z"
   },
   {
    "duration": 186,
    "start_time": "2023-08-31T11:20:48.944Z"
   },
   {
    "duration": 173,
    "start_time": "2023-08-31T11:20:49.132Z"
   },
   {
    "duration": 22,
    "start_time": "2023-08-31T11:20:49.307Z"
   },
   {
    "duration": 11,
    "start_time": "2023-08-31T11:20:49.330Z"
   },
   {
    "duration": 22,
    "start_time": "2023-08-31T11:20:49.342Z"
   },
   {
    "duration": 353,
    "start_time": "2023-08-31T11:20:49.365Z"
   },
   {
    "duration": 10,
    "start_time": "2023-08-31T11:20:49.719Z"
   },
   {
    "duration": 31,
    "start_time": "2023-08-31T11:20:49.731Z"
   },
   {
    "duration": 22,
    "start_time": "2023-08-31T11:20:49.764Z"
   },
   {
    "duration": 33,
    "start_time": "2023-08-31T11:20:49.788Z"
   },
   {
    "duration": 285,
    "start_time": "2023-08-31T11:20:49.823Z"
   },
   {
    "duration": 12,
    "start_time": "2023-08-31T11:20:50.109Z"
   },
   {
    "duration": 54,
    "start_time": "2023-08-31T11:20:50.122Z"
   },
   {
    "duration": 33,
    "start_time": "2023-08-31T11:20:50.177Z"
   },
   {
    "duration": 44,
    "start_time": "2023-08-31T11:20:50.212Z"
   },
   {
    "duration": 397,
    "start_time": "2023-08-31T11:20:50.257Z"
   },
   {
    "duration": 9,
    "start_time": "2023-08-31T11:20:50.656Z"
   },
   {
    "duration": 23,
    "start_time": "2023-08-31T11:20:50.667Z"
   },
   {
    "duration": 38,
    "start_time": "2023-08-31T11:20:50.692Z"
   },
   {
    "duration": 19,
    "start_time": "2023-08-31T11:20:50.731Z"
   },
   {
    "duration": 288,
    "start_time": "2023-08-31T11:20:50.752Z"
   },
   {
    "duration": 12,
    "start_time": "2023-08-31T11:20:51.043Z"
   },
   {
    "duration": 24,
    "start_time": "2023-08-31T11:20:51.057Z"
   },
   {
    "duration": 26,
    "start_time": "2023-08-31T11:20:51.082Z"
   },
   {
    "duration": 13,
    "start_time": "2023-08-31T11:20:51.114Z"
   },
   {
    "duration": 24,
    "start_time": "2023-08-31T11:20:51.129Z"
   },
   {
    "duration": 13,
    "start_time": "2023-08-31T11:20:51.154Z"
   },
   {
    "duration": 32,
    "start_time": "2023-08-31T11:20:51.169Z"
   },
   {
    "duration": 25,
    "start_time": "2023-08-31T11:20:51.203Z"
   },
   {
    "duration": 290,
    "start_time": "2023-08-31T11:23:07.959Z"
   },
   {
    "duration": 13,
    "start_time": "2023-08-31T11:27:53.293Z"
   },
   {
    "duration": 358,
    "start_time": "2023-08-31T11:29:08.303Z"
   },
   {
    "duration": 527,
    "start_time": "2023-08-31T11:33:21.992Z"
   },
   {
    "duration": 364,
    "start_time": "2023-08-31T11:33:38.980Z"
   },
   {
    "duration": 543,
    "start_time": "2023-08-31T11:33:50.231Z"
   },
   {
    "duration": 452,
    "start_time": "2023-08-31T11:38:03.461Z"
   },
   {
    "duration": 347,
    "start_time": "2023-08-31T11:38:21.219Z"
   },
   {
    "duration": 401,
    "start_time": "2023-08-31T11:38:36.631Z"
   },
   {
    "duration": 10,
    "start_time": "2023-08-31T11:53:54.732Z"
   },
   {
    "duration": 9,
    "start_time": "2023-08-31T11:53:55.498Z"
   },
   {
    "duration": 8,
    "start_time": "2023-08-31T11:53:56.428Z"
   },
   {
    "duration": 9,
    "start_time": "2023-08-31T11:53:57.202Z"
   },
   {
    "duration": 247,
    "start_time": "2023-08-31T11:53:58.050Z"
   },
   {
    "duration": 10,
    "start_time": "2023-08-31T11:55:16.664Z"
   },
   {
    "duration": 9,
    "start_time": "2023-08-31T11:55:18.398Z"
   },
   {
    "duration": 8,
    "start_time": "2023-08-31T11:55:19.105Z"
   },
   {
    "duration": 8,
    "start_time": "2023-08-31T11:55:19.942Z"
   },
   {
    "duration": 268,
    "start_time": "2023-08-31T11:55:20.712Z"
   },
   {
    "duration": 300,
    "start_time": "2023-08-31T12:13:59.888Z"
   },
   {
    "duration": 413,
    "start_time": "2023-08-31T12:14:17.356Z"
   },
   {
    "duration": 4584,
    "start_time": "2024-05-02T15:53:22.695Z"
   },
   {
    "duration": 192,
    "start_time": "2024-05-02T15:53:27.282Z"
   },
   {
    "duration": 17,
    "start_time": "2024-05-02T15:53:27.476Z"
   },
   {
    "duration": 18,
    "start_time": "2024-05-02T15:53:27.495Z"
   },
   {
    "duration": 22,
    "start_time": "2024-05-02T15:53:27.514Z"
   },
   {
    "duration": 4,
    "start_time": "2024-05-02T15:53:27.537Z"
   },
   {
    "duration": 11,
    "start_time": "2024-05-02T15:53:27.542Z"
   },
   {
    "duration": 27,
    "start_time": "2024-05-02T15:53:27.558Z"
   },
   {
    "duration": 9,
    "start_time": "2024-05-02T15:53:27.587Z"
   },
   {
    "duration": 29,
    "start_time": "2024-05-02T15:53:27.598Z"
   },
   {
    "duration": 14,
    "start_time": "2024-05-02T15:53:27.628Z"
   },
   {
    "duration": 1183,
    "start_time": "2024-05-02T15:53:27.644Z"
   },
   {
    "duration": 12,
    "start_time": "2024-05-02T15:53:28.828Z"
   },
   {
    "duration": 18,
    "start_time": "2024-05-02T15:53:28.842Z"
   },
   {
    "duration": 17,
    "start_time": "2024-05-02T15:53:28.861Z"
   },
   {
    "duration": 20,
    "start_time": "2024-05-02T15:53:28.880Z"
   },
   {
    "duration": 2539,
    "start_time": "2024-05-02T16:10:11.332Z"
   },
   {
    "duration": 63,
    "start_time": "2024-05-02T16:10:13.874Z"
   },
   {
    "duration": 12,
    "start_time": "2024-05-02T16:10:13.939Z"
   },
   {
    "duration": 20,
    "start_time": "2024-05-02T16:10:13.953Z"
   },
   {
    "duration": 16,
    "start_time": "2024-05-02T16:10:13.975Z"
   },
   {
    "duration": 26,
    "start_time": "2024-05-02T16:10:13.993Z"
   },
   {
    "duration": 37,
    "start_time": "2024-05-02T16:10:14.020Z"
   },
   {
    "duration": 45,
    "start_time": "2024-05-02T16:10:14.059Z"
   },
   {
    "duration": 9,
    "start_time": "2024-05-02T16:10:14.106Z"
   },
   {
    "duration": 23,
    "start_time": "2024-05-02T16:10:14.117Z"
   },
   {
    "duration": 12,
    "start_time": "2024-05-02T16:10:14.142Z"
   },
   {
    "duration": 1098,
    "start_time": "2024-05-02T16:10:14.155Z"
   },
   {
    "duration": 13,
    "start_time": "2024-05-02T16:10:15.259Z"
   },
   {
    "duration": 55,
    "start_time": "2024-05-02T16:10:15.273Z"
   },
   {
    "duration": 37,
    "start_time": "2024-05-02T16:10:15.329Z"
   },
   {
    "duration": 35,
    "start_time": "2024-05-02T16:10:15.368Z"
   },
   {
    "duration": 26,
    "start_time": "2024-05-02T16:10:15.404Z"
   },
   {
    "duration": 31,
    "start_time": "2024-05-02T16:10:15.432Z"
   },
   {
    "duration": 8,
    "start_time": "2024-05-02T16:10:15.465Z"
   },
   {
    "duration": 32,
    "start_time": "2024-05-02T16:10:15.474Z"
   },
   {
    "duration": 56,
    "start_time": "2024-05-02T16:10:15.508Z"
   },
   {
    "duration": 27,
    "start_time": "2024-05-02T16:10:15.566Z"
   },
   {
    "duration": 38,
    "start_time": "2024-05-02T16:10:15.595Z"
   },
   {
    "duration": 145,
    "start_time": "2024-05-02T16:10:15.635Z"
   },
   {
    "duration": 14,
    "start_time": "2024-05-02T16:10:15.782Z"
   },
   {
    "duration": 15,
    "start_time": "2024-05-02T16:10:15.798Z"
   },
   {
    "duration": 20,
    "start_time": "2024-05-02T16:10:15.815Z"
   },
   {
    "duration": 7,
    "start_time": "2024-05-02T16:10:15.838Z"
   },
   {
    "duration": 23,
    "start_time": "2024-05-02T16:10:15.847Z"
   },
   {
    "duration": 22,
    "start_time": "2024-05-02T16:10:15.872Z"
   },
   {
    "duration": 11,
    "start_time": "2024-05-02T16:10:15.895Z"
   },
   {
    "duration": 15,
    "start_time": "2024-05-02T16:10:15.907Z"
   },
   {
    "duration": 178,
    "start_time": "2024-05-02T16:10:15.924Z"
   },
   {
    "duration": 157,
    "start_time": "2024-05-02T16:10:16.104Z"
   },
   {
    "duration": 13,
    "start_time": "2024-05-02T16:10:16.263Z"
   },
   {
    "duration": 185,
    "start_time": "2024-05-02T16:10:16.277Z"
   },
   {
    "duration": 155,
    "start_time": "2024-05-02T16:10:16.464Z"
   },
   {
    "duration": 13,
    "start_time": "2024-05-02T16:10:16.620Z"
   },
   {
    "duration": 248,
    "start_time": "2024-05-02T16:10:16.634Z"
   },
   {
    "duration": 169,
    "start_time": "2024-05-02T16:10:16.884Z"
   },
   {
    "duration": 13,
    "start_time": "2024-05-02T16:10:17.058Z"
   },
   {
    "duration": 194,
    "start_time": "2024-05-02T16:10:17.072Z"
   },
   {
    "duration": 164,
    "start_time": "2024-05-02T16:10:17.267Z"
   },
   {
    "duration": 13,
    "start_time": "2024-05-02T16:10:17.433Z"
   },
   {
    "duration": 6,
    "start_time": "2024-05-02T16:10:17.466Z"
   },
   {
    "duration": 102,
    "start_time": "2024-05-02T16:21:16.286Z"
   },
   {
    "duration": 2718,
    "start_time": "2024-05-02T16:21:23.355Z"
   },
   {
    "duration": 56,
    "start_time": "2024-05-02T16:21:26.076Z"
   },
   {
    "duration": 13,
    "start_time": "2024-05-02T16:21:26.133Z"
   },
   {
    "duration": 27,
    "start_time": "2024-05-02T16:21:26.148Z"
   },
   {
    "duration": 21,
    "start_time": "2024-05-02T16:21:26.176Z"
   },
   {
    "duration": 8,
    "start_time": "2024-05-02T16:21:26.198Z"
   },
   {
    "duration": 12,
    "start_time": "2024-05-02T16:21:26.207Z"
   },
   {
    "duration": 21,
    "start_time": "2024-05-02T16:21:26.220Z"
   },
   {
    "duration": 18,
    "start_time": "2024-05-02T16:21:26.243Z"
   },
   {
    "duration": 12,
    "start_time": "2024-05-02T16:21:26.263Z"
   },
   {
    "duration": 11,
    "start_time": "2024-05-02T16:21:26.277Z"
   },
   {
    "duration": 1157,
    "start_time": "2024-05-02T16:21:26.290Z"
   },
   {
    "duration": 18,
    "start_time": "2024-05-02T16:21:27.449Z"
   },
   {
    "duration": 11,
    "start_time": "2024-05-02T16:21:27.468Z"
   },
   {
    "duration": 16,
    "start_time": "2024-05-02T16:21:27.481Z"
   },
   {
    "duration": 15,
    "start_time": "2024-05-02T16:21:27.498Z"
   },
   {
    "duration": 14,
    "start_time": "2024-05-02T16:21:27.515Z"
   },
   {
    "duration": 32,
    "start_time": "2024-05-02T16:21:27.530Z"
   },
   {
    "duration": 5,
    "start_time": "2024-05-02T16:21:27.563Z"
   },
   {
    "duration": 21,
    "start_time": "2024-05-02T16:21:27.570Z"
   },
   {
    "duration": 18,
    "start_time": "2024-05-02T16:21:27.592Z"
   },
   {
    "duration": 8,
    "start_time": "2024-05-02T16:21:27.611Z"
   },
   {
    "duration": 19,
    "start_time": "2024-05-02T16:21:27.620Z"
   },
   {
    "duration": 152,
    "start_time": "2024-05-02T16:21:27.640Z"
   },
   {
    "duration": 15,
    "start_time": "2024-05-02T16:21:27.794Z"
   },
   {
    "duration": 43,
    "start_time": "2024-05-02T16:21:27.810Z"
   },
   {
    "duration": 13,
    "start_time": "2024-05-02T16:21:27.855Z"
   },
   {
    "duration": 8,
    "start_time": "2024-05-02T16:21:27.872Z"
   },
   {
    "duration": 24,
    "start_time": "2024-05-02T16:21:27.882Z"
   },
   {
    "duration": 30,
    "start_time": "2024-05-02T16:21:27.907Z"
   },
   {
    "duration": 27,
    "start_time": "2024-05-02T16:21:27.939Z"
   },
   {
    "duration": 25,
    "start_time": "2024-05-02T16:21:27.969Z"
   },
   {
    "duration": 171,
    "start_time": "2024-05-02T16:21:27.996Z"
   },
   {
    "duration": 158,
    "start_time": "2024-05-02T16:21:28.168Z"
   },
   {
    "duration": 14,
    "start_time": "2024-05-02T16:21:28.327Z"
   },
   {
    "duration": 186,
    "start_time": "2024-05-02T16:21:28.359Z"
   },
   {
    "duration": 187,
    "start_time": "2024-05-02T16:21:28.547Z"
   },
   {
    "duration": 13,
    "start_time": "2024-05-02T16:21:28.736Z"
   },
   {
    "duration": 272,
    "start_time": "2024-05-02T16:21:28.750Z"
   },
   {
    "duration": 174,
    "start_time": "2024-05-02T16:21:29.024Z"
   },
   {
    "duration": 12,
    "start_time": "2024-05-02T16:21:29.200Z"
   },
   {
    "duration": 166,
    "start_time": "2024-05-02T16:21:29.214Z"
   },
   {
    "duration": 184,
    "start_time": "2024-05-02T16:21:29.381Z"
   },
   {
    "duration": 14,
    "start_time": "2024-05-02T16:21:29.567Z"
   },
   {
    "duration": 4,
    "start_time": "2024-05-02T16:21:29.582Z"
   },
   {
    "duration": 14,
    "start_time": "2024-05-02T16:21:29.587Z"
   },
   {
    "duration": 336,
    "start_time": "2024-05-02T16:21:29.603Z"
   },
   {
    "duration": 25,
    "start_time": "2024-05-02T16:21:29.941Z"
   },
   {
    "duration": 3,
    "start_time": "2024-05-02T16:21:29.967Z"
   },
   {
    "duration": 343,
    "start_time": "2024-05-02T16:21:29.972Z"
   },
   {
    "duration": 6,
    "start_time": "2024-05-02T16:21:30.317Z"
   },
   {
    "duration": 47,
    "start_time": "2024-05-02T16:21:30.324Z"
   },
   {
    "duration": 81,
    "start_time": "2024-05-02T16:21:30.373Z"
   },
   {
    "duration": 339,
    "start_time": "2024-05-02T16:21:30.455Z"
   },
   {
    "duration": 371,
    "start_time": "2024-05-02T16:21:30.796Z"
   },
   {
    "duration": 220,
    "start_time": "2024-05-02T16:21:31.170Z"
   },
   {
    "duration": 6,
    "start_time": "2024-05-02T16:21:31.392Z"
   },
   {
    "duration": 232,
    "start_time": "2024-05-02T16:21:31.400Z"
   },
   {
    "duration": 175,
    "start_time": "2024-05-02T16:21:31.634Z"
   },
   {
    "duration": 22,
    "start_time": "2024-05-02T16:21:31.810Z"
   },
   {
    "duration": 28,
    "start_time": "2024-05-02T16:21:31.834Z"
   },
   {
    "duration": 14,
    "start_time": "2024-05-02T16:21:31.864Z"
   },
   {
    "duration": 398,
    "start_time": "2024-05-02T16:21:31.879Z"
   },
   {
    "duration": 12,
    "start_time": "2024-05-02T16:21:32.279Z"
   },
   {
    "duration": 14,
    "start_time": "2024-05-02T16:21:32.294Z"
   },
   {
    "duration": 17,
    "start_time": "2024-05-02T16:21:32.310Z"
   },
   {
    "duration": 16,
    "start_time": "2024-05-02T16:21:32.329Z"
   },
   {
    "duration": 283,
    "start_time": "2024-05-02T16:21:32.347Z"
   },
   {
    "duration": 9,
    "start_time": "2024-05-02T16:21:32.632Z"
   },
   {
    "duration": 8,
    "start_time": "2024-05-02T16:21:32.658Z"
   },
   {
    "duration": 18,
    "start_time": "2024-05-02T16:21:32.668Z"
   },
   {
    "duration": 19,
    "start_time": "2024-05-02T16:21:32.687Z"
   },
   {
    "duration": 301,
    "start_time": "2024-05-02T16:21:32.708Z"
   },
   {
    "duration": 9,
    "start_time": "2024-05-02T16:21:33.011Z"
   },
   {
    "duration": 39,
    "start_time": "2024-05-02T16:21:33.022Z"
   },
   {
    "duration": 29,
    "start_time": "2024-05-02T16:21:33.062Z"
   },
   {
    "duration": 42,
    "start_time": "2024-05-02T16:21:33.093Z"
   },
   {
    "duration": 532,
    "start_time": "2024-05-02T16:21:33.136Z"
   },
   {
    "duration": 10,
    "start_time": "2024-05-02T16:21:33.670Z"
   },
   {
    "duration": 8,
    "start_time": "2024-05-02T16:21:33.682Z"
   },
   {
    "duration": 17,
    "start_time": "2024-05-02T16:21:33.692Z"
   },
   {
    "duration": 5,
    "start_time": "2024-05-02T16:21:33.759Z"
   },
   {
    "duration": 11,
    "start_time": "2024-05-02T16:21:33.766Z"
   },
   {
    "duration": 10,
    "start_time": "2024-05-02T16:21:33.778Z"
   },
   {
    "duration": 5,
    "start_time": "2024-05-02T16:21:33.790Z"
   },
   {
    "duration": 63,
    "start_time": "2024-05-02T16:21:33.796Z"
   },
   {
    "duration": 2537,
    "start_time": "2024-05-02T16:46:51.444Z"
   },
   {
    "duration": 59,
    "start_time": "2024-05-02T16:46:53.984Z"
   },
   {
    "duration": 13,
    "start_time": "2024-05-02T16:46:54.045Z"
   },
   {
    "duration": 34,
    "start_time": "2024-05-02T16:46:54.061Z"
   },
   {
    "duration": 17,
    "start_time": "2024-05-02T16:46:54.098Z"
   },
   {
    "duration": 17,
    "start_time": "2024-05-02T16:46:54.117Z"
   },
   {
    "duration": 20,
    "start_time": "2024-05-02T16:46:54.136Z"
   },
   {
    "duration": 42,
    "start_time": "2024-05-02T16:46:54.157Z"
   },
   {
    "duration": 15,
    "start_time": "2024-05-02T16:46:54.200Z"
   },
   {
    "duration": 22,
    "start_time": "2024-05-02T16:46:54.218Z"
   },
   {
    "duration": 10,
    "start_time": "2024-05-02T16:46:54.241Z"
   },
   {
    "duration": 1080,
    "start_time": "2024-05-02T16:46:54.253Z"
   },
   {
    "duration": 12,
    "start_time": "2024-05-02T16:46:55.335Z"
   },
   {
    "duration": 13,
    "start_time": "2024-05-02T16:46:55.358Z"
   },
   {
    "duration": 20,
    "start_time": "2024-05-02T16:46:55.372Z"
   },
   {
    "duration": 11,
    "start_time": "2024-05-02T16:46:55.394Z"
   },
   {
    "duration": 9,
    "start_time": "2024-05-02T16:46:55.407Z"
   },
   {
    "duration": 17,
    "start_time": "2024-05-02T16:46:55.418Z"
   },
   {
    "duration": 5,
    "start_time": "2024-05-02T16:46:55.437Z"
   },
   {
    "duration": 14,
    "start_time": "2024-05-02T16:46:55.460Z"
   },
   {
    "duration": 18,
    "start_time": "2024-05-02T16:46:55.476Z"
   },
   {
    "duration": 13,
    "start_time": "2024-05-02T16:46:55.496Z"
   },
   {
    "duration": 10,
    "start_time": "2024-05-02T16:46:55.510Z"
   },
   {
    "duration": 192,
    "start_time": "2024-05-02T16:46:55.521Z"
   },
   {
    "duration": 15,
    "start_time": "2024-05-02T16:46:55.714Z"
   },
   {
    "duration": 13,
    "start_time": "2024-05-02T16:46:55.730Z"
   },
   {
    "duration": 31,
    "start_time": "2024-05-02T16:46:55.744Z"
   },
   {
    "duration": 13,
    "start_time": "2024-05-02T16:46:55.779Z"
   },
   {
    "duration": 22,
    "start_time": "2024-05-02T16:46:55.794Z"
   },
   {
    "duration": 15,
    "start_time": "2024-05-02T16:46:55.817Z"
   },
   {
    "duration": 33,
    "start_time": "2024-05-02T16:46:55.834Z"
   },
   {
    "duration": 21,
    "start_time": "2024-05-02T16:46:55.869Z"
   },
   {
    "duration": 183,
    "start_time": "2024-05-02T16:46:55.891Z"
   },
   {
    "duration": 151,
    "start_time": "2024-05-02T16:46:56.076Z"
   },
   {
    "duration": 13,
    "start_time": "2024-05-02T16:46:56.229Z"
   },
   {
    "duration": 194,
    "start_time": "2024-05-02T16:46:56.243Z"
   },
   {
    "duration": 158,
    "start_time": "2024-05-02T16:46:56.438Z"
   },
   {
    "duration": 14,
    "start_time": "2024-05-02T16:46:56.598Z"
   },
   {
    "duration": 167,
    "start_time": "2024-05-02T16:46:56.613Z"
   },
   {
    "duration": 182,
    "start_time": "2024-05-02T16:46:56.782Z"
   },
   {
    "duration": 14,
    "start_time": "2024-05-02T16:46:56.967Z"
   },
   {
    "duration": 192,
    "start_time": "2024-05-02T16:46:56.983Z"
   },
   {
    "duration": 289,
    "start_time": "2024-05-02T16:46:57.176Z"
   },
   {
    "duration": 13,
    "start_time": "2024-05-02T16:46:57.467Z"
   },
   {
    "duration": 19,
    "start_time": "2024-05-02T16:46:57.482Z"
   },
   {
    "duration": 24,
    "start_time": "2024-05-02T16:46:57.503Z"
   },
   {
    "duration": 332,
    "start_time": "2024-05-02T16:46:57.528Z"
   },
   {
    "duration": 16,
    "start_time": "2024-05-02T16:46:57.861Z"
   },
   {
    "duration": 14,
    "start_time": "2024-05-02T16:46:57.878Z"
   },
   {
    "duration": 303,
    "start_time": "2024-05-02T16:46:57.893Z"
   },
   {
    "duration": 6,
    "start_time": "2024-05-02T16:46:58.198Z"
   },
   {
    "duration": 15,
    "start_time": "2024-05-02T16:46:58.205Z"
   },
   {
    "duration": 13,
    "start_time": "2024-05-02T16:46:58.222Z"
   },
   {
    "duration": 331,
    "start_time": "2024-05-02T16:46:58.237Z"
   },
   {
    "duration": 293,
    "start_time": "2024-05-02T16:46:58.570Z"
   },
   {
    "duration": 203,
    "start_time": "2024-05-02T16:46:58.865Z"
   },
   {
    "duration": 5,
    "start_time": "2024-05-02T16:46:59.069Z"
   },
   {
    "duration": 185,
    "start_time": "2024-05-02T16:46:59.076Z"
   },
   {
    "duration": 193,
    "start_time": "2024-05-02T16:46:59.263Z"
   },
   {
    "duration": 32,
    "start_time": "2024-05-02T16:46:59.458Z"
   },
   {
    "duration": 15,
    "start_time": "2024-05-02T16:46:59.493Z"
   },
   {
    "duration": 428,
    "start_time": "2024-05-02T16:46:59.510Z"
   },
   {
    "duration": 25,
    "start_time": "2024-05-02T16:46:59.940Z"
   },
   {
    "duration": 30,
    "start_time": "2024-05-02T16:46:59.968Z"
   },
   {
    "duration": 84,
    "start_time": "2024-05-02T16:47:00.000Z"
   },
   {
    "duration": 180,
    "start_time": "2024-05-02T16:47:00.086Z"
   },
   {
    "duration": 454,
    "start_time": "2024-05-02T16:47:00.267Z"
   },
   {
    "duration": 11,
    "start_time": "2024-05-02T16:47:00.723Z"
   },
   {
    "duration": 93,
    "start_time": "2024-05-02T16:47:00.736Z"
   },
   {
    "duration": 51,
    "start_time": "2024-05-02T16:47:00.830Z"
   },
   {
    "duration": 32,
    "start_time": "2024-05-02T16:47:00.883Z"
   },
   {
    "duration": 318,
    "start_time": "2024-05-02T16:47:00.916Z"
   },
   {
    "duration": 24,
    "start_time": "2024-05-02T16:47:01.236Z"
   },
   {
    "duration": 61,
    "start_time": "2024-05-02T16:47:01.263Z"
   },
   {
    "duration": 46,
    "start_time": "2024-05-02T16:47:01.326Z"
   },
   {
    "duration": 117,
    "start_time": "2024-05-02T16:47:01.374Z"
   },
   {
    "duration": 425,
    "start_time": "2024-05-02T16:47:01.493Z"
   },
   {
    "duration": 11,
    "start_time": "2024-05-02T16:47:01.920Z"
   },
   {
    "duration": 102,
    "start_time": "2024-05-02T16:47:01.932Z"
   },
   {
    "duration": 72,
    "start_time": "2024-05-02T16:47:02.036Z"
   },
   {
    "duration": 26,
    "start_time": "2024-05-02T16:47:02.110Z"
   },
   {
    "duration": 59,
    "start_time": "2024-05-02T16:47:02.145Z"
   },
   {
    "duration": 29,
    "start_time": "2024-05-02T16:47:02.206Z"
   },
   {
    "duration": 28,
    "start_time": "2024-05-02T16:47:02.236Z"
   },
   {
    "duration": 67,
    "start_time": "2024-05-02T16:47:02.266Z"
   },
   {
    "duration": 4731,
    "start_time": "2024-07-06T15:27:27.581Z"
   },
   {
    "duration": 212,
    "start_time": "2024-07-06T15:27:32.315Z"
   },
   {
    "duration": 51,
    "start_time": "2024-07-06T15:27:32.528Z"
   },
   {
    "duration": 12,
    "start_time": "2024-07-06T15:27:32.581Z"
   },
   {
    "duration": 13,
    "start_time": "2024-07-06T15:27:32.594Z"
   },
   {
    "duration": 10,
    "start_time": "2024-07-06T15:27:32.608Z"
   },
   {
    "duration": 53,
    "start_time": "2024-07-06T15:27:32.619Z"
   },
   {
    "duration": 17,
    "start_time": "2024-07-06T15:27:32.673Z"
   },
   {
    "duration": 7,
    "start_time": "2024-07-06T15:27:32.691Z"
   },
   {
    "duration": 18,
    "start_time": "2024-07-06T15:27:32.700Z"
   },
   {
    "duration": 56,
    "start_time": "2024-07-06T15:27:32.719Z"
   },
   {
    "duration": 1119,
    "start_time": "2024-07-06T15:27:32.776Z"
   },
   {
    "duration": 10,
    "start_time": "2024-07-06T15:27:33.896Z"
   },
   {
    "duration": 10,
    "start_time": "2024-07-06T15:27:33.908Z"
   },
   {
    "duration": 22,
    "start_time": "2024-07-06T15:27:33.920Z"
   },
   {
    "duration": 11,
    "start_time": "2024-07-06T15:27:33.943Z"
   },
   {
    "duration": 21,
    "start_time": "2024-07-06T15:27:33.955Z"
   },
   {
    "duration": 27,
    "start_time": "2024-07-06T15:27:33.978Z"
   },
   {
    "duration": 7,
    "start_time": "2024-07-06T15:27:34.007Z"
   },
   {
    "duration": 18,
    "start_time": "2024-07-06T15:27:34.015Z"
   },
   {
    "duration": 28,
    "start_time": "2024-07-06T15:27:34.034Z"
   },
   {
    "duration": 23,
    "start_time": "2024-07-06T15:27:34.063Z"
   },
   {
    "duration": 19,
    "start_time": "2024-07-06T15:27:34.087Z"
   },
   {
    "duration": 126,
    "start_time": "2024-07-06T15:27:34.107Z"
   },
   {
    "duration": 11,
    "start_time": "2024-07-06T15:27:34.234Z"
   },
   {
    "duration": 5,
    "start_time": "2024-07-06T15:27:34.246Z"
   },
   {
    "duration": 21,
    "start_time": "2024-07-06T15:27:34.252Z"
   },
   {
    "duration": 6,
    "start_time": "2024-07-06T15:27:34.277Z"
   },
   {
    "duration": 12,
    "start_time": "2024-07-06T15:27:34.284Z"
   },
   {
    "duration": 5,
    "start_time": "2024-07-06T15:27:34.297Z"
   },
   {
    "duration": 7,
    "start_time": "2024-07-06T15:27:34.303Z"
   },
   {
    "duration": 12,
    "start_time": "2024-07-06T15:27:34.311Z"
   },
   {
    "duration": 176,
    "start_time": "2024-07-06T15:27:34.324Z"
   },
   {
    "duration": 124,
    "start_time": "2024-07-06T15:27:34.501Z"
   },
   {
    "duration": 10,
    "start_time": "2024-07-06T15:27:34.626Z"
   },
   {
    "duration": 157,
    "start_time": "2024-07-06T15:27:34.638Z"
   },
   {
    "duration": 131,
    "start_time": "2024-07-06T15:27:34.797Z"
   },
   {
    "duration": 10,
    "start_time": "2024-07-06T15:27:34.929Z"
   },
   {
    "duration": 132,
    "start_time": "2024-07-06T15:27:34.940Z"
   },
   {
    "duration": 140,
    "start_time": "2024-07-06T15:27:35.073Z"
   },
   {
    "duration": 10,
    "start_time": "2024-07-06T15:27:35.214Z"
   },
   {
    "duration": 188,
    "start_time": "2024-07-06T15:27:35.225Z"
   },
   {
    "duration": 139,
    "start_time": "2024-07-06T15:27:35.415Z"
   },
   {
    "duration": 17,
    "start_time": "2024-07-06T15:27:35.555Z"
   },
   {
    "duration": 14,
    "start_time": "2024-07-06T15:27:35.573Z"
   },
   {
    "duration": 6,
    "start_time": "2024-07-06T15:27:35.589Z"
   },
   {
    "duration": 266,
    "start_time": "2024-07-06T15:27:35.596Z"
   },
   {
    "duration": 19,
    "start_time": "2024-07-06T15:27:35.863Z"
   },
   {
    "duration": 2,
    "start_time": "2024-07-06T15:27:35.883Z"
   },
   {
    "duration": 256,
    "start_time": "2024-07-06T15:27:35.887Z"
   },
   {
    "duration": 4,
    "start_time": "2024-07-06T15:27:36.145Z"
   },
   {
    "duration": 5,
    "start_time": "2024-07-06T15:27:36.151Z"
   },
   {
    "duration": 23,
    "start_time": "2024-07-06T15:27:36.157Z"
   },
   {
    "duration": 252,
    "start_time": "2024-07-06T15:27:36.181Z"
   },
   {
    "duration": 224,
    "start_time": "2024-07-06T15:27:36.435Z"
   },
   {
    "duration": 165,
    "start_time": "2024-07-06T15:27:36.660Z"
   },
   {
    "duration": 5,
    "start_time": "2024-07-06T15:27:36.827Z"
   },
   {
    "duration": 209,
    "start_time": "2024-07-06T15:27:36.834Z"
   },
   {
    "duration": 146,
    "start_time": "2024-07-06T15:27:37.045Z"
   },
   {
    "duration": 19,
    "start_time": "2024-07-06T15:27:37.192Z"
   },
   {
    "duration": 12,
    "start_time": "2024-07-06T15:27:37.213Z"
   },
   {
    "duration": 307,
    "start_time": "2024-07-06T15:27:37.227Z"
   },
   {
    "duration": 9,
    "start_time": "2024-07-06T15:27:37.535Z"
   },
   {
    "duration": 6,
    "start_time": "2024-07-06T15:27:37.545Z"
   },
   {
    "duration": 20,
    "start_time": "2024-07-06T15:27:37.553Z"
   },
   {
    "duration": 6,
    "start_time": "2024-07-06T15:27:37.574Z"
   },
   {
    "duration": 222,
    "start_time": "2024-07-06T15:27:37.582Z"
   },
   {
    "duration": 9,
    "start_time": "2024-07-06T15:27:37.806Z"
   },
   {
    "duration": 7,
    "start_time": "2024-07-06T15:27:37.816Z"
   },
   {
    "duration": 10,
    "start_time": "2024-07-06T15:27:37.824Z"
   },
   {
    "duration": 14,
    "start_time": "2024-07-06T15:27:37.835Z"
   },
   {
    "duration": 272,
    "start_time": "2024-07-06T15:27:37.850Z"
   },
   {
    "duration": 8,
    "start_time": "2024-07-06T15:27:38.124Z"
   },
   {
    "duration": 10,
    "start_time": "2024-07-06T15:27:38.133Z"
   },
   {
    "duration": 13,
    "start_time": "2024-07-06T15:27:38.144Z"
   },
   {
    "duration": 14,
    "start_time": "2024-07-06T15:27:38.158Z"
   },
   {
    "duration": 225,
    "start_time": "2024-07-06T15:27:38.174Z"
   },
   {
    "duration": 9,
    "start_time": "2024-07-06T15:27:38.400Z"
   },
   {
    "duration": 7,
    "start_time": "2024-07-06T15:27:38.410Z"
   },
   {
    "duration": 3,
    "start_time": "2024-07-06T15:27:38.419Z"
   },
   {
    "duration": 5,
    "start_time": "2024-07-06T15:27:38.424Z"
   },
   {
    "duration": 42,
    "start_time": "2024-07-06T15:27:38.434Z"
   },
   {
    "duration": 16,
    "start_time": "2024-07-06T15:27:38.477Z"
   },
   {
    "duration": 18,
    "start_time": "2024-07-06T15:27:38.494Z"
   },
   {
    "duration": 5,
    "start_time": "2024-07-06T15:27:38.513Z"
   },
   {
    "duration": 2465,
    "start_time": "2024-07-06T15:33:10.438Z"
   },
   {
    "duration": 51,
    "start_time": "2024-07-06T15:33:31.269Z"
   }
  ],
  "kernelspec": {
   "display_name": "Python 3 (ipykernel)",
   "language": "python",
   "name": "python3"
  },
  "language_info": {
   "codemirror_mode": {
    "name": "ipython",
    "version": 3
   },
   "file_extension": ".py",
   "mimetype": "text/x-python",
   "name": "python",
   "nbconvert_exporter": "python",
   "pygments_lexer": "ipython3",
   "version": "3.9.5"
  },
  "toc": {
   "base_numbering": 1,
   "nav_menu": {},
   "number_sections": true,
   "sideBar": true,
   "skip_h1_title": true,
   "title_cell": "Содержание",
   "title_sidebar": "Contents",
   "toc_cell": true,
   "toc_position": {
    "height": "446.667px",
    "left": "43px",
    "top": "111.441px",
    "width": "259.201px"
   },
   "toc_section_display": true,
   "toc_window_display": true
  }
 },
 "nbformat": 4,
 "nbformat_minor": 2
}
