{
 "cells": [
  {
   "cell_type": "markdown",
   "id": "75de0a92",
   "metadata": {
    "toc": true
   },
   "source": [
    "<h1>Содержание<span class=\"tocSkip\"></span></h1>\n",
    "<div class=\"toc\"><ul class=\"toc-item\"><li><span><a href=\"#Откройте-таблицу-и-изучите-общую-информацию-о-данных\" data-toc-modified-id=\"Откройте-таблицу-и-изучите-общую-информацию-о-данных-1\"><span class=\"toc-item-num\">1&nbsp;&nbsp;</span>Откройте таблицу и изучите общую информацию о данных</a></span></li><li><span><a href=\"#Предобработка-данных\" data-toc-modified-id=\"Предобработка-данных-2\"><span class=\"toc-item-num\">2&nbsp;&nbsp;</span>Предобработка данных</a></span><ul class=\"toc-item\"><li><span><a href=\"#Удаление-пропусков\" data-toc-modified-id=\"Удаление-пропусков-2.1\"><span class=\"toc-item-num\">2.1&nbsp;&nbsp;</span>Удаление пропусков</a></span></li><li><span><a href=\"#Обработка-аномальных-значений\" data-toc-modified-id=\"Обработка-аномальных-значений-2.2\"><span class=\"toc-item-num\">2.2&nbsp;&nbsp;</span>Обработка аномальных значений</a></span></li><li><span><a href=\"#Удаление-пропусков-(продолжение)\" data-toc-modified-id=\"Удаление-пропусков-(продолжение)-2.3\"><span class=\"toc-item-num\">2.3&nbsp;&nbsp;</span>Удаление пропусков (продолжение)</a></span></li><li><span><a href=\"#Изменение-типов-данных\" data-toc-modified-id=\"Изменение-типов-данных-2.4\"><span class=\"toc-item-num\">2.4&nbsp;&nbsp;</span>Изменение типов данных</a></span></li><li><span><a href=\"#Обработка-дубликатов\" data-toc-modified-id=\"Обработка-дубликатов-2.5\"><span class=\"toc-item-num\">2.5&nbsp;&nbsp;</span>Обработка дубликатов</a></span></li><li><span><a href=\"#Категоризация-данных\" data-toc-modified-id=\"Категоризация-данных-2.6\"><span class=\"toc-item-num\">2.6&nbsp;&nbsp;</span>Категоризация данных</a></span></li><li><span><a href=\"#Шаг-3.-Исследуйте-данные-и-ответьте-на-вопросы\" data-toc-modified-id=\"Шаг-3.-Исследуйте-данные-и-ответьте-на-вопросы-2.7\"><span class=\"toc-item-num\">2.7&nbsp;&nbsp;</span>Шаг 3. Исследуйте данные и ответьте на вопросы</a></span><ul class=\"toc-item\"><li><span><a href=\"#3.1-Есть-ли-зависимость-между-количеством-детей-и-возвратом-кредита-в-срок?\" data-toc-modified-id=\"3.1-Есть-ли-зависимость-между-количеством-детей-и-возвратом-кредита-в-срок?-2.7.1\"><span class=\"toc-item-num\">2.7.1&nbsp;&nbsp;</span>3.1 Есть ли зависимость между количеством детей и возвратом кредита в срок?</a></span></li><li><span><a href=\"#3.2-Есть-ли-зависимость-между-семейным-положением-и-возвратом-кредита-в-срок?\" data-toc-modified-id=\"3.2-Есть-ли-зависимость-между-семейным-положением-и-возвратом-кредита-в-срок?-2.7.2\"><span class=\"toc-item-num\">2.7.2&nbsp;&nbsp;</span>3.2 Есть ли зависимость между семейным положением и возвратом кредита в срок?</a></span></li><li><span><a href=\"#3.3-Есть-ли-зависимость-между-уровнем-дохода-и-возвратом-кредита-в-срок?\" data-toc-modified-id=\"3.3-Есть-ли-зависимость-между-уровнем-дохода-и-возвратом-кредита-в-срок?-2.7.3\"><span class=\"toc-item-num\">2.7.3&nbsp;&nbsp;</span>3.3 Есть ли зависимость между уровнем дохода и возвратом кредита в срок?</a></span></li><li><span><a href=\"#3.4-Как-разные-цели-кредита-влияют-на-его-возврат-в-срок?\" data-toc-modified-id=\"3.4-Как-разные-цели-кредита-влияют-на-его-возврат-в-срок?-2.7.4\"><span class=\"toc-item-num\">2.7.4&nbsp;&nbsp;</span>3.4 Как разные цели кредита влияют на его возврат в срок?</a></span></li><li><span><a href=\"#3.5-Приведите-возможные-причины-появления-пропусков-в-исходных-данных.\" data-toc-modified-id=\"3.5-Приведите-возможные-причины-появления-пропусков-в-исходных-данных.-2.7.5\"><span class=\"toc-item-num\">2.7.5&nbsp;&nbsp;</span>3.5 Приведите возможные причины появления пропусков в исходных данных.</a></span></li><li><span><a href=\"#3.6-Объясните,-почему-заполнить-пропуски-медианным-значением-—-лучшее-решение-для-количественных-переменных.\" data-toc-modified-id=\"3.6-Объясните,-почему-заполнить-пропуски-медианным-значением-—-лучшее-решение-для-количественных-переменных.-2.7.6\"><span class=\"toc-item-num\">2.7.6&nbsp;&nbsp;</span>3.6 Объясните, почему заполнить пропуски медианным значением — лучшее решение для количественных переменных.</a></span></li></ul></li><li><span><a href=\"#Шаг-4:-общий-вывод.\" data-toc-modified-id=\"Шаг-4:-общий-вывод.-2.8\"><span class=\"toc-item-num\">2.8&nbsp;&nbsp;</span>Шаг 4: общий вывод.</a></span></li></ul></li></ul></div>"
   ]
  },
  {
   "cell_type": "markdown",
   "id": "efa9aae0",
   "metadata": {
    "deletable": false,
    "editable": false,
    "id": "c81daeeb"
   },
   "source": [
    "# Исследование надежности заемщиков\n"
   ]
  },
  {
   "cell_type": "markdown",
   "id": "5203d2fc",
   "metadata": {
    "deletable": false,
    "editable": false,
    "id": "744d7639"
   },
   "source": [
    "## Откройте таблицу и изучите общую информацию о данных"
   ]
  },
  {
   "cell_type": "markdown",
   "id": "9853df28",
   "metadata": {
    "deletable": false,
    "editable": false,
    "id": "e7a14c31"
   },
   "source": [
    "**Задание 1. Импортируйте библиотеку pandas. Считайте данные из csv-файла в датафрейм и сохраните в переменную `data`. Путь к файлу:**\n",
    "\n",
    "`/datasets/data.csv`"
   ]
  },
  {
   "cell_type": "code",
   "execution_count": 1,
   "id": "2b31b63e",
   "metadata": {
    "deletable": false,
    "id": "7bcf75c9"
   },
   "outputs": [],
   "source": [
    "import pandas as pd"
   ]
  },
  {
   "cell_type": "code",
   "execution_count": 2,
   "id": "44015a33",
   "metadata": {},
   "outputs": [],
   "source": [
    "data = pd.read_csv('/datasets/data.csv')"
   ]
  },
  {
   "cell_type": "markdown",
   "id": "4c74557a",
   "metadata": {
    "deletable": false,
    "editable": false,
    "id": "b8038fe3"
   },
   "source": [
    "**Задание 2. Выведите первые 20 строчек датафрейма `data` на экран.**"
   ]
  },
  {
   "cell_type": "code",
   "execution_count": 2,
   "id": "f57b9761",
   "metadata": {
    "deletable": false,
    "id": "2a7cab99",
    "outputId": "1a8f3ef2-d323-4ec2-ddf7-89670b5944c4"
   },
   "outputs": [
    {
     "data": {
      "text/html": [
       "<div>\n",
       "<style scoped>\n",
       "    .dataframe tbody tr th:only-of-type {\n",
       "        vertical-align: middle;\n",
       "    }\n",
       "\n",
       "    .dataframe tbody tr th {\n",
       "        vertical-align: top;\n",
       "    }\n",
       "\n",
       "    .dataframe thead th {\n",
       "        text-align: right;\n",
       "    }\n",
       "</style>\n",
       "<table border=\"1\" class=\"dataframe\">\n",
       "  <thead>\n",
       "    <tr style=\"text-align: right;\">\n",
       "      <th></th>\n",
       "      <th>children</th>\n",
       "      <th>days_employed</th>\n",
       "      <th>dob_years</th>\n",
       "      <th>education</th>\n",
       "      <th>education_id</th>\n",
       "      <th>family_status</th>\n",
       "      <th>family_status_id</th>\n",
       "      <th>gender</th>\n",
       "      <th>income_type</th>\n",
       "      <th>debt</th>\n",
       "      <th>total_income</th>\n",
       "      <th>purpose</th>\n",
       "    </tr>\n",
       "  </thead>\n",
       "  <tbody>\n",
       "    <tr>\n",
       "      <th>0</th>\n",
       "      <td>1</td>\n",
       "      <td>-8437.673028</td>\n",
       "      <td>42</td>\n",
       "      <td>высшее</td>\n",
       "      <td>0</td>\n",
       "      <td>женат / замужем</td>\n",
       "      <td>0</td>\n",
       "      <td>F</td>\n",
       "      <td>сотрудник</td>\n",
       "      <td>0</td>\n",
       "      <td>253875.639453</td>\n",
       "      <td>покупка жилья</td>\n",
       "    </tr>\n",
       "    <tr>\n",
       "      <th>1</th>\n",
       "      <td>1</td>\n",
       "      <td>-4024.803754</td>\n",
       "      <td>36</td>\n",
       "      <td>среднее</td>\n",
       "      <td>1</td>\n",
       "      <td>женат / замужем</td>\n",
       "      <td>0</td>\n",
       "      <td>F</td>\n",
       "      <td>сотрудник</td>\n",
       "      <td>0</td>\n",
       "      <td>112080.014102</td>\n",
       "      <td>приобретение автомобиля</td>\n",
       "    </tr>\n",
       "    <tr>\n",
       "      <th>2</th>\n",
       "      <td>0</td>\n",
       "      <td>-5623.422610</td>\n",
       "      <td>33</td>\n",
       "      <td>Среднее</td>\n",
       "      <td>1</td>\n",
       "      <td>женат / замужем</td>\n",
       "      <td>0</td>\n",
       "      <td>M</td>\n",
       "      <td>сотрудник</td>\n",
       "      <td>0</td>\n",
       "      <td>145885.952297</td>\n",
       "      <td>покупка жилья</td>\n",
       "    </tr>\n",
       "    <tr>\n",
       "      <th>3</th>\n",
       "      <td>3</td>\n",
       "      <td>-4124.747207</td>\n",
       "      <td>32</td>\n",
       "      <td>среднее</td>\n",
       "      <td>1</td>\n",
       "      <td>женат / замужем</td>\n",
       "      <td>0</td>\n",
       "      <td>M</td>\n",
       "      <td>сотрудник</td>\n",
       "      <td>0</td>\n",
       "      <td>267628.550329</td>\n",
       "      <td>дополнительное образование</td>\n",
       "    </tr>\n",
       "    <tr>\n",
       "      <th>4</th>\n",
       "      <td>0</td>\n",
       "      <td>340266.072047</td>\n",
       "      <td>53</td>\n",
       "      <td>среднее</td>\n",
       "      <td>1</td>\n",
       "      <td>гражданский брак</td>\n",
       "      <td>1</td>\n",
       "      <td>F</td>\n",
       "      <td>пенсионер</td>\n",
       "      <td>0</td>\n",
       "      <td>158616.077870</td>\n",
       "      <td>сыграть свадьбу</td>\n",
       "    </tr>\n",
       "    <tr>\n",
       "      <th>5</th>\n",
       "      <td>0</td>\n",
       "      <td>-926.185831</td>\n",
       "      <td>27</td>\n",
       "      <td>высшее</td>\n",
       "      <td>0</td>\n",
       "      <td>гражданский брак</td>\n",
       "      <td>1</td>\n",
       "      <td>M</td>\n",
       "      <td>компаньон</td>\n",
       "      <td>0</td>\n",
       "      <td>255763.565419</td>\n",
       "      <td>покупка жилья</td>\n",
       "    </tr>\n",
       "    <tr>\n",
       "      <th>6</th>\n",
       "      <td>0</td>\n",
       "      <td>-2879.202052</td>\n",
       "      <td>43</td>\n",
       "      <td>высшее</td>\n",
       "      <td>0</td>\n",
       "      <td>женат / замужем</td>\n",
       "      <td>0</td>\n",
       "      <td>F</td>\n",
       "      <td>компаньон</td>\n",
       "      <td>0</td>\n",
       "      <td>240525.971920</td>\n",
       "      <td>операции с жильем</td>\n",
       "    </tr>\n",
       "    <tr>\n",
       "      <th>7</th>\n",
       "      <td>0</td>\n",
       "      <td>-152.779569</td>\n",
       "      <td>50</td>\n",
       "      <td>СРЕДНЕЕ</td>\n",
       "      <td>1</td>\n",
       "      <td>женат / замужем</td>\n",
       "      <td>0</td>\n",
       "      <td>M</td>\n",
       "      <td>сотрудник</td>\n",
       "      <td>0</td>\n",
       "      <td>135823.934197</td>\n",
       "      <td>образование</td>\n",
       "    </tr>\n",
       "    <tr>\n",
       "      <th>8</th>\n",
       "      <td>2</td>\n",
       "      <td>-6929.865299</td>\n",
       "      <td>35</td>\n",
       "      <td>ВЫСШЕЕ</td>\n",
       "      <td>0</td>\n",
       "      <td>гражданский брак</td>\n",
       "      <td>1</td>\n",
       "      <td>F</td>\n",
       "      <td>сотрудник</td>\n",
       "      <td>0</td>\n",
       "      <td>95856.832424</td>\n",
       "      <td>на проведение свадьбы</td>\n",
       "    </tr>\n",
       "    <tr>\n",
       "      <th>9</th>\n",
       "      <td>0</td>\n",
       "      <td>-2188.756445</td>\n",
       "      <td>41</td>\n",
       "      <td>среднее</td>\n",
       "      <td>1</td>\n",
       "      <td>женат / замужем</td>\n",
       "      <td>0</td>\n",
       "      <td>M</td>\n",
       "      <td>сотрудник</td>\n",
       "      <td>0</td>\n",
       "      <td>144425.938277</td>\n",
       "      <td>покупка жилья для семьи</td>\n",
       "    </tr>\n",
       "    <tr>\n",
       "      <th>10</th>\n",
       "      <td>2</td>\n",
       "      <td>-4171.483647</td>\n",
       "      <td>36</td>\n",
       "      <td>высшее</td>\n",
       "      <td>0</td>\n",
       "      <td>женат / замужем</td>\n",
       "      <td>0</td>\n",
       "      <td>M</td>\n",
       "      <td>компаньон</td>\n",
       "      <td>0</td>\n",
       "      <td>113943.491460</td>\n",
       "      <td>покупка недвижимости</td>\n",
       "    </tr>\n",
       "    <tr>\n",
       "      <th>11</th>\n",
       "      <td>0</td>\n",
       "      <td>-792.701887</td>\n",
       "      <td>40</td>\n",
       "      <td>среднее</td>\n",
       "      <td>1</td>\n",
       "      <td>женат / замужем</td>\n",
       "      <td>0</td>\n",
       "      <td>F</td>\n",
       "      <td>сотрудник</td>\n",
       "      <td>0</td>\n",
       "      <td>77069.234271</td>\n",
       "      <td>покупка коммерческой недвижимости</td>\n",
       "    </tr>\n",
       "    <tr>\n",
       "      <th>12</th>\n",
       "      <td>0</td>\n",
       "      <td>NaN</td>\n",
       "      <td>65</td>\n",
       "      <td>среднее</td>\n",
       "      <td>1</td>\n",
       "      <td>гражданский брак</td>\n",
       "      <td>1</td>\n",
       "      <td>M</td>\n",
       "      <td>пенсионер</td>\n",
       "      <td>0</td>\n",
       "      <td>NaN</td>\n",
       "      <td>сыграть свадьбу</td>\n",
       "    </tr>\n",
       "    <tr>\n",
       "      <th>13</th>\n",
       "      <td>0</td>\n",
       "      <td>-1846.641941</td>\n",
       "      <td>54</td>\n",
       "      <td>неоконченное высшее</td>\n",
       "      <td>2</td>\n",
       "      <td>женат / замужем</td>\n",
       "      <td>0</td>\n",
       "      <td>F</td>\n",
       "      <td>сотрудник</td>\n",
       "      <td>0</td>\n",
       "      <td>130458.228857</td>\n",
       "      <td>приобретение автомобиля</td>\n",
       "    </tr>\n",
       "    <tr>\n",
       "      <th>14</th>\n",
       "      <td>0</td>\n",
       "      <td>-1844.956182</td>\n",
       "      <td>56</td>\n",
       "      <td>высшее</td>\n",
       "      <td>0</td>\n",
       "      <td>гражданский брак</td>\n",
       "      <td>1</td>\n",
       "      <td>F</td>\n",
       "      <td>компаньон</td>\n",
       "      <td>1</td>\n",
       "      <td>165127.911772</td>\n",
       "      <td>покупка жилой недвижимости</td>\n",
       "    </tr>\n",
       "    <tr>\n",
       "      <th>15</th>\n",
       "      <td>1</td>\n",
       "      <td>-972.364419</td>\n",
       "      <td>26</td>\n",
       "      <td>среднее</td>\n",
       "      <td>1</td>\n",
       "      <td>женат / замужем</td>\n",
       "      <td>0</td>\n",
       "      <td>F</td>\n",
       "      <td>сотрудник</td>\n",
       "      <td>0</td>\n",
       "      <td>116820.904450</td>\n",
       "      <td>строительство собственной недвижимости</td>\n",
       "    </tr>\n",
       "    <tr>\n",
       "      <th>16</th>\n",
       "      <td>0</td>\n",
       "      <td>-1719.934226</td>\n",
       "      <td>35</td>\n",
       "      <td>среднее</td>\n",
       "      <td>1</td>\n",
       "      <td>женат / замужем</td>\n",
       "      <td>0</td>\n",
       "      <td>F</td>\n",
       "      <td>сотрудник</td>\n",
       "      <td>0</td>\n",
       "      <td>289202.704229</td>\n",
       "      <td>недвижимость</td>\n",
       "    </tr>\n",
       "    <tr>\n",
       "      <th>17</th>\n",
       "      <td>0</td>\n",
       "      <td>-2369.999720</td>\n",
       "      <td>33</td>\n",
       "      <td>высшее</td>\n",
       "      <td>0</td>\n",
       "      <td>гражданский брак</td>\n",
       "      <td>1</td>\n",
       "      <td>M</td>\n",
       "      <td>сотрудник</td>\n",
       "      <td>0</td>\n",
       "      <td>90410.586745</td>\n",
       "      <td>строительство недвижимости</td>\n",
       "    </tr>\n",
       "    <tr>\n",
       "      <th>18</th>\n",
       "      <td>0</td>\n",
       "      <td>400281.136913</td>\n",
       "      <td>53</td>\n",
       "      <td>среднее</td>\n",
       "      <td>1</td>\n",
       "      <td>вдовец / вдова</td>\n",
       "      <td>2</td>\n",
       "      <td>F</td>\n",
       "      <td>пенсионер</td>\n",
       "      <td>0</td>\n",
       "      <td>56823.777243</td>\n",
       "      <td>на покупку подержанного автомобиля</td>\n",
       "    </tr>\n",
       "    <tr>\n",
       "      <th>19</th>\n",
       "      <td>0</td>\n",
       "      <td>-10038.818549</td>\n",
       "      <td>48</td>\n",
       "      <td>СРЕДНЕЕ</td>\n",
       "      <td>1</td>\n",
       "      <td>в разводе</td>\n",
       "      <td>3</td>\n",
       "      <td>F</td>\n",
       "      <td>сотрудник</td>\n",
       "      <td>0</td>\n",
       "      <td>242831.107982</td>\n",
       "      <td>на покупку своего автомобиля</td>\n",
       "    </tr>\n",
       "  </tbody>\n",
       "</table>\n",
       "</div>"
      ],
      "text/plain": [
       "    children  days_employed  dob_years            education  education_id  \\\n",
       "0          1   -8437.673028         42               высшее             0   \n",
       "1          1   -4024.803754         36              среднее             1   \n",
       "2          0   -5623.422610         33              Среднее             1   \n",
       "3          3   -4124.747207         32              среднее             1   \n",
       "4          0  340266.072047         53              среднее             1   \n",
       "5          0    -926.185831         27               высшее             0   \n",
       "6          0   -2879.202052         43               высшее             0   \n",
       "7          0    -152.779569         50              СРЕДНЕЕ             1   \n",
       "8          2   -6929.865299         35               ВЫСШЕЕ             0   \n",
       "9          0   -2188.756445         41              среднее             1   \n",
       "10         2   -4171.483647         36               высшее             0   \n",
       "11         0    -792.701887         40              среднее             1   \n",
       "12         0            NaN         65              среднее             1   \n",
       "13         0   -1846.641941         54  неоконченное высшее             2   \n",
       "14         0   -1844.956182         56               высшее             0   \n",
       "15         1    -972.364419         26              среднее             1   \n",
       "16         0   -1719.934226         35              среднее             1   \n",
       "17         0   -2369.999720         33               высшее             0   \n",
       "18         0  400281.136913         53              среднее             1   \n",
       "19         0  -10038.818549         48              СРЕДНЕЕ             1   \n",
       "\n",
       "       family_status  family_status_id gender income_type  debt  \\\n",
       "0    женат / замужем                 0      F   сотрудник     0   \n",
       "1    женат / замужем                 0      F   сотрудник     0   \n",
       "2    женат / замужем                 0      M   сотрудник     0   \n",
       "3    женат / замужем                 0      M   сотрудник     0   \n",
       "4   гражданский брак                 1      F   пенсионер     0   \n",
       "5   гражданский брак                 1      M   компаньон     0   \n",
       "6    женат / замужем                 0      F   компаньон     0   \n",
       "7    женат / замужем                 0      M   сотрудник     0   \n",
       "8   гражданский брак                 1      F   сотрудник     0   \n",
       "9    женат / замужем                 0      M   сотрудник     0   \n",
       "10   женат / замужем                 0      M   компаньон     0   \n",
       "11   женат / замужем                 0      F   сотрудник     0   \n",
       "12  гражданский брак                 1      M   пенсионер     0   \n",
       "13   женат / замужем                 0      F   сотрудник     0   \n",
       "14  гражданский брак                 1      F   компаньон     1   \n",
       "15   женат / замужем                 0      F   сотрудник     0   \n",
       "16   женат / замужем                 0      F   сотрудник     0   \n",
       "17  гражданский брак                 1      M   сотрудник     0   \n",
       "18    вдовец / вдова                 2      F   пенсионер     0   \n",
       "19         в разводе                 3      F   сотрудник     0   \n",
       "\n",
       "     total_income                                 purpose  \n",
       "0   253875.639453                           покупка жилья  \n",
       "1   112080.014102                 приобретение автомобиля  \n",
       "2   145885.952297                           покупка жилья  \n",
       "3   267628.550329              дополнительное образование  \n",
       "4   158616.077870                         сыграть свадьбу  \n",
       "5   255763.565419                           покупка жилья  \n",
       "6   240525.971920                       операции с жильем  \n",
       "7   135823.934197                             образование  \n",
       "8    95856.832424                   на проведение свадьбы  \n",
       "9   144425.938277                 покупка жилья для семьи  \n",
       "10  113943.491460                    покупка недвижимости  \n",
       "11   77069.234271       покупка коммерческой недвижимости  \n",
       "12            NaN                         сыграть свадьбу  \n",
       "13  130458.228857                 приобретение автомобиля  \n",
       "14  165127.911772              покупка жилой недвижимости  \n",
       "15  116820.904450  строительство собственной недвижимости  \n",
       "16  289202.704229                            недвижимость  \n",
       "17   90410.586745              строительство недвижимости  \n",
       "18   56823.777243      на покупку подержанного автомобиля  \n",
       "19  242831.107982            на покупку своего автомобиля  "
      ]
     },
     "execution_count": 2,
     "metadata": {},
     "output_type": "execute_result"
    }
   ],
   "source": [
    "data.head(20)"
   ]
  },
  {
   "cell_type": "markdown",
   "id": "c0a7ec1f",
   "metadata": {
    "deletable": false,
    "editable": false,
    "id": "1c12e233"
   },
   "source": [
    "**Задание 3. Выведите основную информацию о датафрейме с помощью метода `info()`.**"
   ]
  },
  {
   "cell_type": "code",
   "execution_count": 3,
   "id": "67534c09",
   "metadata": {
    "deletable": false,
    "id": "2b757bca",
    "outputId": "15376089-8dad-46c9-b520-c05248d43158"
   },
   "outputs": [
    {
     "name": "stdout",
     "output_type": "stream",
     "text": [
      "<class 'pandas.core.frame.DataFrame'>\n",
      "RangeIndex: 21525 entries, 0 to 21524\n",
      "Data columns (total 12 columns):\n",
      " #   Column            Non-Null Count  Dtype  \n",
      "---  ------            --------------  -----  \n",
      " 0   children          21525 non-null  int64  \n",
      " 1   days_employed     19351 non-null  float64\n",
      " 2   dob_years         21525 non-null  int64  \n",
      " 3   education         21525 non-null  object \n",
      " 4   education_id      21525 non-null  int64  \n",
      " 5   family_status     21525 non-null  object \n",
      " 6   family_status_id  21525 non-null  int64  \n",
      " 7   gender            21525 non-null  object \n",
      " 8   income_type       21525 non-null  object \n",
      " 9   debt              21525 non-null  int64  \n",
      " 10  total_income      19351 non-null  float64\n",
      " 11  purpose           21525 non-null  object \n",
      "dtypes: float64(2), int64(5), object(5)\n",
      "memory usage: 2.0+ MB\n"
     ]
    }
   ],
   "source": [
    "data.info()"
   ]
  },
  {
   "cell_type": "markdown",
   "id": "2e92072f",
   "metadata": {
    "deletable": false,
    "editable": false,
    "id": "333ec665"
   },
   "source": [
    "## Предобработка данных"
   ]
  },
  {
   "cell_type": "markdown",
   "id": "ec2f10df",
   "metadata": {
    "deletable": false,
    "editable": false,
    "id": "02d92d53"
   },
   "source": [
    "### Удаление пропусков"
   ]
  },
  {
   "cell_type": "markdown",
   "id": "83d79e49",
   "metadata": {
    "deletable": false,
    "editable": false,
    "id": "cd84967c"
   },
   "source": [
    "**Задание 4. Выведите количество пропущенных значений для каждого столбца. Используйте комбинацию двух методов.**"
   ]
  },
  {
   "cell_type": "code",
   "execution_count": 4,
   "id": "3372ad7c",
   "metadata": {
    "deletable": false,
    "id": "7f9b2309",
    "outputId": "81f4d817-781c-465c-ed15-91ce4446810d"
   },
   "outputs": [
    {
     "data": {
      "text/plain": [
       "children               0\n",
       "days_employed       2174\n",
       "dob_years              0\n",
       "education              0\n",
       "education_id           0\n",
       "family_status          0\n",
       "family_status_id       0\n",
       "gender                 0\n",
       "income_type            0\n",
       "debt                   0\n",
       "total_income        2174\n",
       "purpose                0\n",
       "dtype: int64"
      ]
     },
     "execution_count": 4,
     "metadata": {},
     "output_type": "execute_result"
    }
   ],
   "source": [
    "data.isna().sum()"
   ]
  },
  {
   "cell_type": "markdown",
   "id": "ae24bbf5",
   "metadata": {
    "deletable": false,
    "editable": false,
    "id": "db86e27b"
   },
   "source": [
    "**Задание 5. В двух столбцах есть пропущенные значения. Один из них — `days_employed`. Пропуски в этом столбце вы обработаете на следующем этапе. Другой столбец с пропущенными значениями — `total_income` — хранит данные о доходах. На сумму дохода сильнее всего влияет тип занятости, поэтому заполнить пропуски в этом столбце нужно медианным значением по каждому типу из столбца `income_type`. Например, у человека с типом занятости `сотрудник` пропуск в столбце `total_income` должен быть заполнен медианным доходом среди всех записей с тем же типом.**"
   ]
  },
  {
   "cell_type": "code",
   "execution_count": 3,
   "id": "9bfe547e",
   "metadata": {
    "deletable": false,
    "id": "42006a93"
   },
   "outputs": [],
   "source": [
    "for income in data['income_type'].unique():\n",
    "    data.loc[(data['income_type'] == income) & (data['total_income'].isna()), 'total_income'] = \\\n",
    "    data.loc[(data['income_type'] == income), 'total_income'].median()"
   ]
  },
  {
   "cell_type": "markdown",
   "id": "8bc3008d",
   "metadata": {
    "deletable": false,
    "editable": false,
    "id": "89da5ece"
   },
   "source": [
    "### Обработка аномальных значений"
   ]
  },
  {
   "cell_type": "markdown",
   "id": "e04d9e9a",
   "metadata": {
    "deletable": false,
    "editable": false,
    "id": "57964554"
   },
   "source": [
    "**Задание 6. В данных могут встречаться артефакты (аномалии) — значения, которые не отражают действительность и появились по какой-то ошибке. таким артефактом будет отрицательное количество дней трудового стажа в столбце `days_employed`. Для реальных данных это нормально. Обработайте значения в этом столбце: замените все отрицательные значения положительными с помощью метода `abs()`.**"
   ]
  },
  {
   "cell_type": "code",
   "execution_count": 6,
   "id": "4a845142",
   "metadata": {
    "deletable": false,
    "id": "f6f055bf"
   },
   "outputs": [],
   "source": [
    "data['days_employed'] = data['days_employed'].abs()"
   ]
  },
  {
   "cell_type": "markdown",
   "id": "94590409",
   "metadata": {
    "deletable": false,
    "editable": false,
    "id": "6107dd2f"
   },
   "source": [
    "**Задание 7. Для каждого типа занятости выведите медианное значение трудового стажа `days_employed` в днях.**"
   ]
  },
  {
   "cell_type": "code",
   "execution_count": 7,
   "id": "14aaeab2",
   "metadata": {
    "deletable": false,
    "id": "85a5faf6",
    "outputId": "801ef80e-522b-4668-f34e-565af7432bcf"
   },
   "outputs": [
    {
     "data": {
      "text/plain": [
       "income_type\n",
       "безработный        366413.652744\n",
       "в декрете            3296.759962\n",
       "госслужащий          2689.368353\n",
       "компаньон            1547.382223\n",
       "пенсионер          365213.306266\n",
       "предприниматель       520.848083\n",
       "сотрудник            1574.202821\n",
       "студент               578.751554\n",
       "Name: days_employed, dtype: float64"
      ]
     },
     "execution_count": 7,
     "metadata": {},
     "output_type": "execute_result"
    }
   ],
   "source": [
    "data.groupby('income_type')['days_employed'].agg('median')"
   ]
  },
  {
   "cell_type": "markdown",
   "id": "5bc5daa6",
   "metadata": {
    "deletable": false,
    "id": "38d1a030"
   },
   "source": [
    "У двух типов (безработные и пенсионеры) аномально большие значения. Исправить такие значения сложно, поэтому оставим их как есть. Тем более этот столбец не понадобится вам для исследования."
   ]
  },
  {
   "cell_type": "markdown",
   "id": "292735a5",
   "metadata": {
    "deletable": false,
    "editable": false,
    "id": "d8a9f147"
   },
   "source": [
    "**Задание 8. Выведите перечень уникальных значений столбца `children`.**"
   ]
  },
  {
   "cell_type": "code",
   "execution_count": 8,
   "id": "b8b390d6",
   "metadata": {
    "deletable": false,
    "id": "ef5056eb",
    "outputId": "6975b15c-7f95-4697-d16d-a0c79b657b03"
   },
   "outputs": [
    {
     "data": {
      "text/plain": [
       "array([ 1,  0,  3,  2, -1,  4, 20,  5])"
      ]
     },
     "execution_count": 8,
     "metadata": {},
     "output_type": "execute_result"
    }
   ],
   "source": [
    "data['children'].unique()"
   ]
  },
  {
   "cell_type": "markdown",
   "id": "463e2fbf",
   "metadata": {
    "deletable": false,
    "editable": false,
    "id": "40b9ebf2"
   },
   "source": [
    "**Задание 9. В столбце `children` есть два аномальных значения. Удалите строки, в которых встречаются такие аномальные значения из датафрейма `data`.**"
   ]
  },
  {
   "cell_type": "code",
   "execution_count": 9,
   "id": "ff73a9ca",
   "metadata": {
    "deletable": false,
    "id": "3ff9801d"
   },
   "outputs": [],
   "source": [
    "data = data[(data['children'] != -1) & (data['children'] != 20)]"
   ]
  },
  {
   "cell_type": "markdown",
   "id": "ac6283f4",
   "metadata": {
    "deletable": false,
    "editable": false,
    "id": "bbc4d0ce"
   },
   "source": [
    "**Задание 10. Ещё раз выведите перечень уникальных значений столбца `children`, чтобы убедиться, что артефакты удалены.**"
   ]
  },
  {
   "cell_type": "code",
   "execution_count": 10,
   "id": "823b4b4d",
   "metadata": {
    "deletable": false,
    "id": "ad4fa8b7",
    "outputId": "b2097101-d49d-44d9-901b-32a65c9463d1"
   },
   "outputs": [
    {
     "data": {
      "text/plain": [
       "array([1, 0, 3, 2, 4, 5])"
      ]
     },
     "execution_count": 10,
     "metadata": {},
     "output_type": "execute_result"
    }
   ],
   "source": [
    "data['children'].unique()"
   ]
  },
  {
   "cell_type": "markdown",
   "id": "b2bc114c",
   "metadata": {
    "deletable": false,
    "editable": false,
    "id": "75440b63"
   },
   "source": [
    "### Удаление пропусков (продолжение)"
   ]
  },
  {
   "cell_type": "markdown",
   "id": "914747c3",
   "metadata": {
    "deletable": false,
    "editable": false,
    "id": "f4ea573f"
   },
   "source": [
    "**Задание 11. Заполните пропуски в столбце `days_employed` медианными значениями по каждого типа занятости `income_type`.**"
   ]
  },
  {
   "cell_type": "code",
   "execution_count": 4,
   "id": "6a35d8e4",
   "metadata": {
    "deletable": false,
    "id": "af6b1a7e"
   },
   "outputs": [],
   "source": [
    "for income in data['income_type'].unique():\n",
    "    data.loc[(data['income_type'] == income) & (data['days_employed'].isna()), 'days_employed'] = \\\n",
    "    data.loc[(data['income_type'] == income), 'days_employed'].median()"
   ]
  },
  {
   "cell_type": "markdown",
   "id": "1e285227",
   "metadata": {
    "deletable": false,
    "editable": false,
    "id": "2753f40d"
   },
   "source": [
    "**Задание 12. Убедитесь, что все пропуски заполнены. Проверьте себя и ещё раз выведите количество пропущенных значений для каждого столбца с помощью двух методов.**"
   ]
  },
  {
   "cell_type": "code",
   "execution_count": 12,
   "id": "a72066b3",
   "metadata": {
    "deletable": false,
    "id": "55f78bc2",
    "outputId": "8da1e4e1-358e-4e87-98c9-f261bce0a7b2"
   },
   "outputs": [
    {
     "data": {
      "text/plain": [
       "children            0\n",
       "days_employed       0\n",
       "dob_years           0\n",
       "education           0\n",
       "education_id        0\n",
       "family_status       0\n",
       "family_status_id    0\n",
       "gender              0\n",
       "income_type         0\n",
       "debt                0\n",
       "total_income        0\n",
       "purpose             0\n",
       "dtype: int64"
      ]
     },
     "execution_count": 12,
     "metadata": {},
     "output_type": "execute_result"
    }
   ],
   "source": [
    "data.isna().sum()"
   ]
  },
  {
   "cell_type": "markdown",
   "id": "443b6cab",
   "metadata": {
    "deletable": false,
    "editable": false,
    "id": "ddc81e43"
   },
   "source": [
    "### Изменение типов данных"
   ]
  },
  {
   "cell_type": "markdown",
   "id": "10b5dea7",
   "metadata": {
    "deletable": false,
    "editable": false,
    "id": "42d19d24"
   },
   "source": [
    "**Задание 13. Замените вещественный тип данных в столбце `total_income` на целочисленный с помощью метода `astype()`.**"
   ]
  },
  {
   "cell_type": "code",
   "execution_count": 13,
   "id": "c5b52841",
   "metadata": {
    "deletable": false,
    "id": "920b65ad"
   },
   "outputs": [],
   "source": [
    "data['total_income'] = data['total_income'].astype(int)"
   ]
  },
  {
   "cell_type": "markdown",
   "id": "7b9bc296",
   "metadata": {
    "deletable": false,
    "editable": false,
    "id": "80c420ba"
   },
   "source": [
    "### Обработка дубликатов"
   ]
  },
  {
   "cell_type": "markdown",
   "id": "4b5631b3",
   "metadata": {
    "deletable": false,
    "editable": false
   },
   "source": [
    "**Задание 14. Обработайте неявные дубликаты в столбце `education`. В этом столбце есть одни и те же значения, но записанные по-разному: с использованием заглавных и строчных букв. Приведите их к нижнему регистру. Проверьте остальные столбцы.**"
   ]
  },
  {
   "cell_type": "code",
   "execution_count": 14,
   "id": "bdbef0ed",
   "metadata": {
    "deletable": false
   },
   "outputs": [],
   "source": [
    "data['education'] = data['education'].str.lower()"
   ]
  },
  {
   "cell_type": "markdown",
   "id": "f6b05c0e",
   "metadata": {
    "deletable": false,
    "editable": false,
    "id": "dc587695"
   },
   "source": [
    "**Задание 15. Выведите на экран количество строк-дубликатов в данных. Если такие строки присутствуют, удалите их.**"
   ]
  },
  {
   "cell_type": "code",
   "execution_count": 15,
   "id": "64fb85a5",
   "metadata": {
    "deletable": false,
    "id": "3ee445e4",
    "outputId": "9684deba-1934-42d1-99e1-cda61740f822"
   },
   "outputs": [
    {
     "data": {
      "text/plain": [
       "71"
      ]
     },
     "execution_count": 15,
     "metadata": {},
     "output_type": "execute_result"
    }
   ],
   "source": [
    "data.duplicated().sum()"
   ]
  },
  {
   "cell_type": "code",
   "execution_count": 16,
   "id": "3c61959c",
   "metadata": {
    "deletable": false,
    "id": "8575fe05"
   },
   "outputs": [],
   "source": [
    "data = data.drop_duplicates()"
   ]
  },
  {
   "cell_type": "markdown",
   "id": "85a9c7b1",
   "metadata": {
    "deletable": false,
    "editable": false,
    "id": "9904cf55"
   },
   "source": [
    "### Категоризация данных"
   ]
  },
  {
   "cell_type": "markdown",
   "id": "d12b15c9",
   "metadata": {
    "deletable": false,
    "editable": false,
    "id": "72fcc8a2"
   },
   "source": [
    "**Задание 16. На основании диапазонов, указанных ниже, создайте в датафрейме `data` столбец `total_income_category` с категориями:**\n",
    "\n",
    "- 0–30000 — `'E'`;\n",
    "- 30001–50000 — `'D'`;\n",
    "- 50001–200000 — `'C'`;\n",
    "- 200001–1000000 — `'B'`;\n",
    "- 1000001 и выше — `'A'`.\n",
    "\n",
    "\n",
    "**Например, кредитополучателю с доходом 25000 нужно назначить категорию `'E'`, а клиенту, получающему 235000, — `'B'`. Используйте собственную функцию с именем `categorize_income()` и метод `apply()`.**"
   ]
  },
  {
   "cell_type": "code",
   "execution_count": 5,
   "id": "837c5fbd",
   "metadata": {
    "deletable": false,
    "id": "e1771346"
   },
   "outputs": [],
   "source": [
    "def categorize_income(total_income):\n",
    "    if total_income <= 30000:\n",
    "        return 'E'\n",
    "    if 30001 <= total_income <= 50000:\n",
    "        return 'D'\n",
    "    if 50001 <= total_income <= 200000:\n",
    "        return 'C'\n",
    "    if 200001 <= total_income <= 1000000:\n",
    "        return 'B'\n",
    "    if total_income >= 1000001:\n",
    "        return 'A'"
   ]
  },
  {
   "cell_type": "code",
   "execution_count": 6,
   "id": "b6f7ae6b",
   "metadata": {
    "deletable": false,
    "id": "d5f3586d"
   },
   "outputs": [],
   "source": [
    "data['total_income_category'] = data['total_income'].apply(categorize_income)"
   ]
  },
  {
   "cell_type": "markdown",
   "id": "09634949",
   "metadata": {
    "deletable": false,
    "editable": false,
    "id": "dde49b5c"
   },
   "source": [
    "**Задание 17. Выведите на экран перечень уникальных целей взятия кредита из столбца `purpose`.**"
   ]
  },
  {
   "cell_type": "code",
   "execution_count": 19,
   "id": "b4af3c2a",
   "metadata": {
    "deletable": false,
    "id": "f67ce9b3",
    "outputId": "673c12d9-7d7e-4ae0-9812-c622c89dd244",
    "scrolled": true
   },
   "outputs": [
    {
     "data": {
      "text/plain": [
       "array(['покупка жилья', 'приобретение автомобиля',\n",
       "       'дополнительное образование', 'сыграть свадьбу',\n",
       "       'операции с жильем', 'образование', 'на проведение свадьбы',\n",
       "       'покупка жилья для семьи', 'покупка недвижимости',\n",
       "       'покупка коммерческой недвижимости', 'покупка жилой недвижимости',\n",
       "       'строительство собственной недвижимости', 'недвижимость',\n",
       "       'строительство недвижимости', 'на покупку подержанного автомобиля',\n",
       "       'на покупку своего автомобиля',\n",
       "       'операции с коммерческой недвижимостью',\n",
       "       'строительство жилой недвижимости', 'жилье',\n",
       "       'операции со своей недвижимостью', 'автомобили',\n",
       "       'заняться образованием', 'сделка с подержанным автомобилем',\n",
       "       'получение образования', 'автомобиль', 'свадьба',\n",
       "       'получение дополнительного образования', 'покупка своего жилья',\n",
       "       'операции с недвижимостью', 'получение высшего образования',\n",
       "       'свой автомобиль', 'сделка с автомобилем',\n",
       "       'профильное образование', 'высшее образование',\n",
       "       'покупка жилья для сдачи', 'на покупку автомобиля', 'ремонт жилью',\n",
       "       'заняться высшим образованием'], dtype=object)"
      ]
     },
     "execution_count": 19,
     "metadata": {},
     "output_type": "execute_result"
    }
   ],
   "source": [
    "data['purpose'].unique()"
   ]
  },
  {
   "cell_type": "markdown",
   "id": "0e5f140c",
   "metadata": {
    "deletable": false,
    "editable": false,
    "id": "85d0aef0"
   },
   "source": [
    "**Задание 18. Создайте функцию, которая на основании данных из столбца `purpose` сформирует новый столбец `purpose_category`, в который войдут следующие категории:**\n",
    "\n",
    "- `'операции с автомобилем'`,\n",
    "- `'операции с недвижимостью'`,\n",
    "- `'проведение свадьбы'`,\n",
    "- `'получение образования'`.\n",
    "\n",
    "**Например, если в столбце `purpose` находится подстрока `'на покупку автомобиля'`, то в столбце `purpose_category` должна появиться строка `'операции с автомобилем'`.**\n",
    "\n",
    "**Используйте собственную функцию с именем `categorize_purpose()` и метод `apply()`. Изучите данные в столбце `purpose` и определите, какие подстроки помогут вам правильно определить категорию.**"
   ]
  },
  {
   "cell_type": "code",
   "execution_count": 7,
   "id": "d32a3888",
   "metadata": {
    "deletable": false,
    "id": "e149fab4"
   },
   "outputs": [],
   "source": [
    "def categorize_purpose(purpose):\n",
    "    if 'авто' in purpose:\n",
    "        return 'операции с автомобилем'\n",
    "    if 'жил' in purpose or 'недвижимост' in purpose:\n",
    "        return 'операции с недвижимостью'\n",
    "    if 'свадьб' in purpose:\n",
    "        return 'проведение свадьбы'\n",
    "    if 'образован' in purpose:\n",
    "        return 'получение образования'\n",
    "    else:\n",
    "        return 'не определено'"
   ]
  },
  {
   "cell_type": "code",
   "execution_count": 8,
   "id": "36ef5d7a",
   "metadata": {
    "deletable": false,
    "id": "bf36e69b"
   },
   "outputs": [],
   "source": [
    "data['purpose_category'] = data['purpose'].apply(categorize_purpose)"
   ]
  },
  {
   "cell_type": "markdown",
   "id": "e4537480",
   "metadata": {
    "deletable": false,
    "editable": false,
    "id": "09b242bf"
   },
   "source": [
    "### Шаг 3. Исследуйте данные и ответьте на вопросы"
   ]
  },
  {
   "cell_type": "markdown",
   "id": "bdd9b3db",
   "metadata": {
    "deletable": false,
    "editable": false,
    "id": "c5d66278"
   },
   "source": [
    "#### 3.1 Есть ли зависимость между количеством детей и возвратом кредита в срок?"
   ]
  },
  {
   "cell_type": "code",
   "execution_count": 22,
   "id": "b7b39e96",
   "metadata": {
    "deletable": false,
    "id": "2cacfc4a"
   },
   "outputs": [
    {
     "name": "stdout",
     "output_type": "stream",
     "text": [
      "Процент просрочек по кредиту в зависимости от количества детей, количество и доля заемщиков от общего числа:\n",
      "          result  count  ratio\n",
      "children                      \n",
      "4           9.76     41   0.19\n",
      "2           9.45   2052   9.62\n",
      "1           9.23   4808  22.54\n",
      "3           8.18    330   1.55\n",
      "0           7.54  14091  66.06\n",
      "5           0.00      9   0.04\n"
     ]
    }
   ],
   "source": [
    "children_debt_result = pd.DataFrame()\n",
    "\n",
    "#Группируем по количеству детей и считаем среднее, и количество для каждой группы\n",
    "children_debt_result = data.groupby('children').agg({'debt': ['mean', 'count']})\n",
    "\n",
    "#Переводим в проценты\n",
    "children_debt_result.iloc[:, 0] = children_debt_result.iloc[:, 0] * 100\n",
    "\n",
    "#Меняем название столбцов\n",
    "children_debt_result.columns = ['result']+['count']\n",
    "\n",
    "#Процент заемщиков с данным количеством детей от общего чила кредитополучателей\n",
    "children_debt_result['ratio'] = (children_debt_result['count'] / data['children'].count()) * 100\n",
    "\n",
    "#Сортируем по убыванию\n",
    "children_debt_result = children_debt_result.sort_values(by = 'result',ascending=False)\n",
    "\n",
    "print('Процент просрочек по кредиту в зависимости от количества детей, количество и доля заемщиков от общего числа:')\n",
    "print(round(children_debt_result, 2))  "
   ]
  },
  {
   "cell_type": "markdown",
   "id": "de5c0cd8",
   "metadata": {
    "deletable": false,
    "id": "3a6b99ec"
   },
   "source": [
    "**Вывод:** \n",
    "- Результаты не однозначные. \n",
    "- Заемщики имеющие 1,2 и 4 детей имеют примерно одинаковый процент просрочек, немного увеличивающийся с возрастанием количества детей. \n",
    "- А вот заемщики имеющие 3 детей чуть меньше допускают просрочек.\n",
    "- При этом количество клиентов имеющих 3,4 или 5 детей в разы меньше остальных, что искажает результаты.\n",
    "- Бездетные как правило реже допускают просрочку, чем имеющие детей.\n",
    "- Возможно выборка слишком мала, чтобы делать однозначные выводы."
   ]
  },
  {
   "cell_type": "markdown",
   "id": "9bbf2a24",
   "metadata": {
    "deletable": false,
    "editable": false,
    "id": "97be82ca"
   },
   "source": [
    "#### 3.2 Есть ли зависимость между семейным положением и возвратом кредита в срок?"
   ]
  },
  {
   "cell_type": "code",
   "execution_count": 23,
   "id": "baf52059",
   "metadata": {
    "deletable": false,
    "id": "dc3f7ee8"
   },
   "outputs": [
    {
     "data": {
      "text/plain": [
       "array(['женат / замужем', 'гражданский брак', 'вдовец / вдова',\n",
       "       'в разводе', 'Не женат / не замужем'], dtype=object)"
      ]
     },
     "execution_count": 23,
     "metadata": {},
     "output_type": "execute_result"
    }
   ],
   "source": [
    "#Узнаем значения в столбце семейное положение, чтобы проверить нет ли дубликатов и убедиться,что все значения попадут в группировку\n",
    "data['family_status'].unique() "
   ]
  },
  {
   "cell_type": "code",
   "execution_count": 24,
   "id": "69072d25",
   "metadata": {},
   "outputs": [
    {
     "name": "stdout",
     "output_type": "stream",
     "text": [
      "Процент просрочек по кредиту в зависимости от семейного положения, количество и доля заемщиков от общего числа: \n",
      "                       result  count  ratio\n",
      "family_status                              \n",
      "Не женат / не замужем    9.76   2796  13.11\n",
      "гражданский брак         9.31   4134  19.38\n",
      "женат / замужем          7.56  12261  57.48\n",
      "в разводе                7.06   1189   5.57\n",
      "вдовец / вдова           6.62    951   4.46\n"
     ]
    }
   ],
   "source": [
    "family_debt_result = pd.DataFrame()\n",
    "\n",
    "family_debt_result = data.groupby('family_status').agg({'debt': ['mean', 'count']})\n",
    "\n",
    "family_debt_result.iloc[:, 0] = family_debt_result.iloc[:, 0] * 100\n",
    "family_debt_result.columns = ['result']+['count']\n",
    "\n",
    "family_debt_result['ratio'] = (family_debt_result['count'] / data['family_status'].count()) * 100\n",
    "\n",
    "family_debt_result = family_debt_result.sort_values(by='result',ascending=False)\n",
    "\n",
    "print('Процент просрочек по кредиту в зависимости от семейного положения, количество и доля заемщиков от общего числа: ')\n",
    "print(round(family_debt_result, 2))"
   ]
  },
  {
   "cell_type": "markdown",
   "id": "6faa9ba9",
   "metadata": {
    "deletable": false,
    "id": "1cef7837"
   },
   "source": [
    "**Вывод:**  \n",
    "Да, мы наблюдаем зависимость от семейного статуса\n",
    "- Заемщики,не находящиеся в отношениях или находящиеся в неофициальных отношения, чаще допускают пропуски по оплате, чем замужние.\n",
    "- При этом разведеные или овдовевщие допускают просрочки меньше, чем состоящие в браке. Хотя их доля от общего числа мала - 5.57% и 4.46%.\n",
    "- Чаще кредит берут семейные люди."
   ]
  },
  {
   "cell_type": "markdown",
   "id": "1a03e9dc",
   "metadata": {
    "deletable": false,
    "editable": false,
    "id": "1e8b2fca"
   },
   "source": [
    "#### 3.3 Есть ли зависимость между уровнем дохода и возвратом кредита в срок?"
   ]
  },
  {
   "cell_type": "code",
   "execution_count": 25,
   "id": "0a3d3463",
   "metadata": {
    "deletable": false,
    "id": "cd7e3720"
   },
   "outputs": [
    {
     "name": "stdout",
     "output_type": "stream",
     "text": [
      "Процент просрочек по кредиту в зависимости от уровня дохода, количество и доля заемщиков от общего числа:\n",
      "                                  value  result  count  ratio\n",
      "total_income_category                                        \n",
      "E                             0 - 30000    9.09     22   0.10\n",
      "C                        50001 - 200000    8.50  15921  74.64\n",
      "A                             > 1000001    8.00     25   0.12\n",
      "B                      200001 - 1000000    7.06   5014  23.51\n",
      "D                         30001 - 50000    6.02    349   1.64\n"
     ]
    }
   ],
   "source": [
    "income_debt_result = pd.DataFrame()\n",
    "\n",
    "#income_debt_sum = data.groupby('total_income_category')['debt'].sum()\n",
    "#income_debt_count = data.groupby('total_income_category')['debt'].count()\n",
    "#income_debt_result['result'] = (income_debt_sum / income_debt_count) * 100\n",
    "\n",
    "income_debt_result = data.groupby('total_income_category').agg({'debt': ['mean', 'count']})\n",
    "\n",
    "income_debt_result.iloc[:, 0] = income_debt_result.iloc[:, 0] * 100\n",
    "income_debt_result.columns = ['result']+['count']\n",
    "                                                               \n",
    "#Добавляем столбец со значениями категорий\n",
    "income_debt_result.insert(0, 'value', [\"> 1000001\", \"200001 - 1000000\", \"50001 - 200000\", \"30001 - 50000\", \"0 - 30000\"])\n",
    "\n",
    "#Добавляем столбец с долей заемщиков по каждой категории\n",
    "income_debt_result['ratio'] = (income_debt_result['count'] / data['total_income_category'].count()) * 100\n",
    "\n",
    "income_debt_result_sort = income_debt_result.sort_values(by = 'result', ascending=False)\n",
    "\n",
    "\n",
    "print('Процент просрочек по кредиту в зависимости от уровня дохода, количество и доля заемщиков от общего числа:')\n",
    "print(round(income_debt_result_sort, 2))"
   ]
  },
  {
   "cell_type": "markdown",
   "id": "a9d87eeb",
   "metadata": {},
   "source": [
    "**Для наглядности построим график: по оси Y значения уровня дохода по возрастанию, по оси X процент просрочек.**"
   ]
  },
  {
   "cell_type": "code",
   "execution_count": 26,
   "id": "ec7a07a6",
   "metadata": {},
   "outputs": [
    {
     "data": {
      "text/plain": [
       "<AxesSubplot:xlabel='result', ylabel='value'>"
      ]
     },
     "execution_count": 26,
     "metadata": {},
     "output_type": "execute_result"
    },
    {
     "data": {
      "image/png": "[encoded data removed]",
      "text/plain": [
       "<Figure size 432x288 with 1 Axes>"
      ]
     },
     "metadata": {
      "needs_background": "light"
     },
     "output_type": "display_data"
    }
   ],
   "source": [
    "import seaborn as sns\n",
    "\n",
    "sns.barplot(x=income_debt_result['result'],y=income_debt_result['value'])"
   ]
  },
  {
   "cell_type": "markdown",
   "id": "e32198c8",
   "metadata": {
    "deletable": false,
    "id": "e8593def"
   },
   "source": [
    "**Вывод:**  \n",
    "- Возврат кредита в срок не зависит от уровня дохода. Задолженности бывают как у клиентов с низким уровнем дохода, так и с высоким.\n",
    "- Результат по группам A и E не однозначный, так как выборка с данными категориями мала.\n"
   ]
  },
  {
   "cell_type": "markdown",
   "id": "39a16b7e",
   "metadata": {
    "deletable": false,
    "editable": false,
    "id": "99ecbd1f"
   },
   "source": [
    "#### 3.4 Как разные цели кредита влияют на его возврат в срок?"
   ]
  },
  {
   "cell_type": "code",
   "execution_count": 27,
   "id": "1b56a14b",
   "metadata": {
    "deletable": false,
    "id": "2b687290"
   },
   "outputs": [
    {
     "name": "stdout",
     "output_type": "stream",
     "text": [
      "Процент просрочек по кредиту в зависимости от цели кредита, количество и доля заемщиков от общего числа:\n",
      "                          result  count  ratio\n",
      "purpose_category                              \n",
      "операции с автомобилем      9.35   4279  20.06\n",
      "получение образования       9.25   3988  18.70\n",
      "проведение свадьбы          7.91   2313  10.84\n",
      "операции с недвижимостью    7.26  10751  50.40\n"
     ]
    }
   ],
   "source": [
    "purpose_debt_result = pd.DataFrame()\n",
    "\n",
    "purpose_debt_result = data.groupby('purpose_category').agg({'debt': ['mean', 'count']})\n",
    "\n",
    "purpose_debt_result.iloc[:, 0] = purpose_debt_result.iloc[:, 0] * 100\n",
    "purpose_debt_result.columns = ['result']+['count']\n",
    "\n",
    "purpose_debt_result['ratio'] = (purpose_debt_result['count'] / data['purpose_category'].count()) * 100\n",
    "\n",
    "purpose_debt_result = purpose_debt_result.sort_values(by='result', ascending=False)\n",
    "\n",
    "print('Процент просрочек по кредиту в зависимости от цели кредита, количество и доля заемщиков от общего числа:')\n",
    "print(round(purpose_debt_result, 2))  # Ваш код будет здесь. Вы можете создавать новые ячейки."
   ]
  },
  {
   "cell_type": "markdown",
   "id": "7f07f372",
   "metadata": {
    "deletable": false,
    "id": "b4bb2ce6"
   },
   "source": [
    "**Вывод:**  \n",
    "- Займы взятые под сделки с автомобилем и получение образования имеют примерно одинаковый процент просрочек, и чаще пропускают срок выплат. Их доля от общего числа займов сопоставима. \n",
    "- В то время как займы под проведение свадьбы и операции с недвижимостью чаще выплачивают в срок.\n",
    "- Примерно в половине случаев от общего числа кредитов - это операции с недвижимостью."
   ]
  },
  {
   "cell_type": "markdown",
   "id": "834bdb94",
   "metadata": {
    "deletable": false,
    "editable": false,
    "id": "09c3ac4c"
   },
   "source": [
    "#### 3.5 Приведите возможные причины появления пропусков в исходных данных."
   ]
  },
  {
   "cell_type": "markdown",
   "id": "9aca4523",
   "metadata": {
    "deletable": false,
    "id": "9da2ceda"
   },
   "source": [
    "*Ответ:*  \n",
    "Мы видим, что пропуски встречаются в столбцах **days_employed** - *общий трудовой стаж в днях* и **total_income** — *ежемесячный доход* в одних и тех же строках. Скорее всего это техническая ошибка. Необходимо уточнить у разработчиков о сборе и выгрузке данных."
   ]
  },
  {
   "cell_type": "markdown",
   "id": "b749aa44",
   "metadata": {
    "deletable": false,
    "editable": false,
    "id": "7b0487d6"
   },
   "source": [
    "#### 3.6 Объясните, почему заполнить пропуски медианным значением — лучшее решение для количественных переменных."
   ]
  },
  {
   "cell_type": "markdown",
   "id": "3c0fdb49",
   "metadata": {
    "deletable": false,
    "id": "7ecf2b8e"
   },
   "source": [
    "*Ответ:*  \n",
    "Так как в количественных переменных, а именно в значениях доходов, могут быть аномальные значения в обе стороны, которые искажают среднее арифметическое, лучше использовать медианное значение. Медиана в данном случае покажет характерное значение выборки, приближенное к средним показателям наиболее часто встречающимся."
   ]
  },
  {
   "cell_type": "markdown",
   "id": "508a8996",
   "metadata": {
    "deletable": false,
    "editable": false,
    "id": "6db5255a"
   },
   "source": [
    "### Шаг 4: общий вывод."
   ]
  },
  {
   "cell_type": "markdown",
   "id": "2e37e2f3",
   "metadata": {},
   "source": [
    "Проведено исследование надежности заемщиков.  \n",
    "Для анализа использовалась статистика о платёжеспособности клиентов.\n",
    "Результаты исследования будут учтены при построении модели кредитного скоринга.  \n",
    "Необходимо понять, влияют ли различные факторы на погашение кредита в срок."
   ]
  },
  {
   "cell_type": "markdown",
   "id": "7b70e556",
   "metadata": {},
   "source": [
    "**Поставленные и исследуемые гипотезы:**"
   ]
  },
  {
   "cell_type": "markdown",
   "id": "48e87240",
   "metadata": {},
   "source": [
    "1. Количество детей влияет на возврат кредита в срок.\n",
    "2. Семейное положение влияет на возврат кредита в срок.\n",
    "3. Уровень дохода влияет на возврат кредита в срок.\n",
    "4. Цель кредита влияет на возврат кредита в срок."
   ]
  },
  {
   "cell_type": "markdown",
   "id": "19b28f7f",
   "metadata": {},
   "source": [
    "**Допущения:**"
   ]
  },
  {
   "cell_type": "markdown",
   "id": "88d4b058",
   "metadata": {
    "deletable": false,
    "id": "bad65432"
   },
   "source": [
    "Так как у нас нет информации об условиях займа (сумма кредита, сумма ежемесячного платежа, ставка по кредиту, срок погашения и другие) предположим, что условия равны или не существенны, и не влияют на наше исследование."
   ]
  },
  {
   "cell_type": "markdown",
   "id": "ce93f7b4",
   "metadata": {},
   "source": [
    "**Основываясь на предоставленной выборке, можно сделать следующие выводы:**\n"
   ]
  },
  {
   "cell_type": "markdown",
   "id": "c7ad5fef",
   "metadata": {},
   "source": [
    "**1.** В данных имеются пропуски и артефакты. Этот вопрос необходимо обсудить с отделом предоставившим данные."
   ]
  },
  {
   "cell_type": "markdown",
   "id": "05afe731",
   "metadata": {},
   "source": [
    "**2.** Гипотеза №1 \"Количество детей влияет на возврат кредита в срок\" - не подтверждена.  \n",
    "На данном этапе четкая зависимость не прослеживается.\n",
    "\n",
    "- **7.54%** - Доля просрочек по кредиту у заемщиков без детей.\n",
    "- **9.23%** - Доля просрочек по кредиту у заемщиков имеющих 1 ребенка.\n",
    "- **9.45%** - Доля просрочек по кредиту у заемщиков имеющих 2 детей.  \n",
    "\n",
    "Заемщики без детей как правило меньше допускают просрочек.\n",
    "  \n",
    "Данные по просрочкам клиентов имеющих **3**,**4** и **5** детей не репрезентативны. Так как их количество от общего числа кредитов **1.55%**, **0.19%**, **0.04%** соответственно. \n",
    "\n",
    "**66%** - Доля заемщиков без детей от общего числа кредитополучателей.\n",
    "\n",
    "Можно предположить, что клиенты не имеющие детей охотнее берут кредиты и реже допускают просрочки. Так как их бюджет меньше подразумевает неожиданных и непредвиденных трат, и они могу планировать как доходы так и расходы. С другой стороны клиенты имеющие детей стараются жить по средствам и брать кредит только по необходимости.\n",
    "\n",
    "**Рекомендации**  \n",
    "Для выявления зависимости между количеством детей и возвратом кредита в срок необходимо проанализировать большее количество заемщиков."
   ]
  },
  {
   "cell_type": "markdown",
   "id": "4c39b01a",
   "metadata": {},
   "source": [
    "**3.** Гипотеза №2 \"Семейное положение влияет на возврат кредита в срок\" - подтверждена.  \n",
    "Мы видим зависимость между семейным положением и возвратом кредита в срок.  \n",
    "\n",
    "- **9.76%** - Доля просрочек по кредиту у заемщиков не состоящих в отношениях.\n",
    "- **9.31%** - Доля просрочек по кредиту у заемщиков в гражданском браке.\n",
    "- **7.56** - Доля просрочек по кредиту у семейных заемщиков.\n",
    "- **7.06%** - Доля просрочек по кредиту у разведеных.\n",
    "- **6.62%** - Доля просрочек по кредиту у вдовцов.\n",
    "\n",
    "Люди не состоящие в отношениях или состоящие в гражданском браке чаще допускают просрочки, чем замужние. \n",
    "Разведеные и вдовцы более ответственно погашают кредит. Хотя их доля от общего числа мала - **5.57%** и **4.46%**.\n",
    "\n",
    "Чаще всего кредит берут семейные - **57.5%** от общего числа кредитополучателей.\n",
    "\n",
    "**Рекомендации**  \n",
    "Не смотря на то, что тенденция просматривается, разница между неженатыми и состоящими в браке **2%**. Я бы не рекомендовала придавать высокое значение данной категории при принятии решения о кредитоспособности при прочих равных условиях.\n"
   ]
  },
  {
   "cell_type": "markdown",
   "id": "0435e2c6",
   "metadata": {},
   "source": [
    "**4.** Гипотеза №3 \"Уровень дохода влияет на возврат кредита в срок\" - не подтверждена.  \n",
    "Зависимости между уровнем дохода и возвратом кредита в срок не выявлено.\n",
    "\n",
    "Выборка по заемщикам, как с наименьшим доходом, так и с наибольшим крайне мала (**0.1%** от общего числа займов) для формирования однозначных выводов.\n",
    "\n",
    "**8.5%** - Доля просрочек по кредиту у заемщиков с уровнем дохода 50001 - 200000.  \n",
    "**7.06%** - Доля просрочек по кредиту у заемщиков с уровнем дохода 200001 - 100000.\n",
    "\n",
    "\n",
    "**Рекомендации**  \n",
    "Для более точных результатов необходим анализ большей выборки по клиентам категоии Е(0-30000), D(30001-50000) и А(>1000000).\n",
    "\n",
    "Считаю данный анализ мало информативным. Необходимо дополнительно исследовать соотношение суммы кредита или ежемесячного платежа к ежемесячным доходам."
   ]
  },
  {
   "cell_type": "markdown",
   "id": "b4b5004f",
   "metadata": {},
   "source": [
    "**5.** Гипотеза №4 \"Цель кредита влияет на возврат кредита в срок\" - подтверждена.  \n",
    "Цели кредита влияют на его возврат в срок.\n",
    "\n",
    "- **9.35%** - Доля просрочек по кредиту с целью сделок с автомобилем.\n",
    "- **9.25%** - Доля просрочек по кредиту с целью получения образования.\n",
    "- **7.91** - Доля просрочек по кредиту с целью проведения свадьбы.\n",
    "- **7.26%** - Доля просрочек по кредиту с целью операций с недвижимостью.\n",
    "\n",
    "Так займы взятые под проведение свадьбы и операции с недвижимостью чаще погашаются в срок, чем взятые под сделки с автомобилем и получение образования.\n",
    "\n",
    "Примерно в половине случаев от общего числа кредитов - это операции с недвижимостью.\n",
    "\n",
    "**Рекомендации**  \n",
    "Разница между пунктами **2%**. Я бы не рекомендовала придавать высокое значение данной категории при принятии решения о кредитоспособности при прочих равных условиях."
   ]
  },
  {
   "cell_type": "markdown",
   "id": "683f5500",
   "metadata": {},
   "source": [
    "**Общие рекомендации**  \n",
    "**1.** Специалистам, занимающимся построением модели кредитного скоринга, использовать категории \"Смейное положение\" и \"Цели кредита\".  \n",
    "**2.** Дополнительно провести анализ для проверки зависимости между \"Количеством детей\" или \"Уровнем доха\" и погашением кредита в срок на более полной выборке.  \n",
    "**3.** Дополнительно исследовать зависимость соотношения дохода к сумме займа и погашением кредита в срок."
   ]
  }
 ],
 "metadata": {
  "ExecuteTimeLog": [
   {
    "duration": 49,
    "start_time": "2022-09-13T11:07:04.543Z"
   },
   {
    "duration": 658,
    "start_time": "2022-09-13T11:08:10.880Z"
   },
   {
    "duration": 22,
    "start_time": "2022-09-13T11:08:11.539Z"
   },
   {
    "duration": 12,
    "start_time": "2022-09-13T11:08:11.563Z"
   },
   {
    "duration": 9,
    "start_time": "2022-09-13T11:08:11.577Z"
   },
   {
    "duration": 33,
    "start_time": "2022-09-13T11:08:11.587Z"
   },
   {
    "duration": 3,
    "start_time": "2022-09-13T11:08:11.622Z"
   },
   {
    "duration": 10,
    "start_time": "2022-09-13T11:08:11.627Z"
   },
   {
    "duration": 5,
    "start_time": "2022-09-13T11:08:11.638Z"
   },
   {
    "duration": 9,
    "start_time": "2022-09-13T11:08:11.644Z"
   },
   {
    "duration": 4,
    "start_time": "2022-09-13T11:08:11.655Z"
   },
   {
    "duration": 52,
    "start_time": "2022-09-13T11:08:11.660Z"
   },
   {
    "duration": 8,
    "start_time": "2022-09-13T11:08:11.713Z"
   },
   {
    "duration": 5,
    "start_time": "2022-09-13T11:08:11.722Z"
   },
   {
    "duration": 10,
    "start_time": "2022-09-13T11:08:11.729Z"
   },
   {
    "duration": 16,
    "start_time": "2022-09-13T11:08:11.740Z"
   },
   {
    "duration": 14,
    "start_time": "2022-09-13T11:08:11.758Z"
   },
   {
    "duration": 28,
    "start_time": "2022-09-13T11:08:11.773Z"
   },
   {
    "duration": 10,
    "start_time": "2022-09-13T11:08:11.802Z"
   },
   {
    "duration": 7,
    "start_time": "2022-09-13T11:08:11.813Z"
   },
   {
    "duration": 3,
    "start_time": "2022-09-13T11:08:11.822Z"
   },
   {
    "duration": 12,
    "start_time": "2022-09-13T11:08:11.826Z"
   },
   {
    "duration": 26,
    "start_time": "2022-09-13T11:08:11.840Z"
   },
   {
    "duration": 9,
    "start_time": "2022-09-13T11:08:17.054Z"
   },
   {
    "duration": 4,
    "start_time": "2022-09-13T11:08:47.041Z"
   },
   {
    "duration": 4,
    "start_time": "2022-09-13T11:08:53.175Z"
   },
   {
    "duration": 6,
    "start_time": "2022-09-13T11:09:46.597Z"
   },
   {
    "duration": 49,
    "start_time": "2022-09-13T20:14:05.039Z"
   },
   {
    "duration": 734,
    "start_time": "2022-09-13T20:14:18.985Z"
   },
   {
    "duration": 21,
    "start_time": "2022-09-13T20:14:19.721Z"
   },
   {
    "duration": 14,
    "start_time": "2022-09-13T20:14:19.743Z"
   },
   {
    "duration": 8,
    "start_time": "2022-09-13T20:14:19.758Z"
   },
   {
    "duration": 41,
    "start_time": "2022-09-13T20:14:19.768Z"
   },
   {
    "duration": 3,
    "start_time": "2022-09-13T20:14:19.810Z"
   },
   {
    "duration": 10,
    "start_time": "2022-09-13T20:14:19.815Z"
   },
   {
    "duration": 4,
    "start_time": "2022-09-13T20:14:19.826Z"
   },
   {
    "duration": 8,
    "start_time": "2022-09-13T20:14:19.831Z"
   },
   {
    "duration": 3,
    "start_time": "2022-09-13T20:14:19.841Z"
   },
   {
    "duration": 30,
    "start_time": "2022-09-13T20:14:19.846Z"
   },
   {
    "duration": 31,
    "start_time": "2022-09-13T20:14:19.878Z"
   },
   {
    "duration": 3,
    "start_time": "2022-09-13T20:14:19.911Z"
   },
   {
    "duration": 12,
    "start_time": "2022-09-13T20:14:19.917Z"
   },
   {
    "duration": 19,
    "start_time": "2022-09-13T20:14:19.931Z"
   },
   {
    "duration": 15,
    "start_time": "2022-09-13T20:14:19.951Z"
   },
   {
    "duration": 3,
    "start_time": "2022-09-13T20:14:19.968Z"
   },
   {
    "duration": 10,
    "start_time": "2022-09-13T20:14:19.972Z"
   },
   {
    "duration": 6,
    "start_time": "2022-09-13T20:14:20.009Z"
   },
   {
    "duration": 3,
    "start_time": "2022-09-13T20:14:20.016Z"
   },
   {
    "duration": 10,
    "start_time": "2022-09-13T20:14:20.021Z"
   },
   {
    "duration": 30,
    "start_time": "2022-09-13T20:14:20.033Z"
   },
   {
    "duration": 10,
    "start_time": "2022-09-13T20:14:27.907Z"
   },
   {
    "duration": 5,
    "start_time": "2022-09-13T20:14:39.413Z"
   },
   {
    "duration": 7,
    "start_time": "2022-09-13T20:14:44.577Z"
   },
   {
    "duration": 7,
    "start_time": "2022-09-13T20:15:09.011Z"
   },
   {
    "duration": 12,
    "start_time": "2022-09-13T20:26:13.867Z"
   },
   {
    "duration": 10,
    "start_time": "2022-09-13T20:26:56.404Z"
   },
   {
    "duration": 14,
    "start_time": "2022-09-13T20:30:34.131Z"
   },
   {
    "duration": 10,
    "start_time": "2022-09-13T20:31:20.649Z"
   },
   {
    "duration": 6,
    "start_time": "2022-09-13T20:31:42.274Z"
   },
   {
    "duration": 8,
    "start_time": "2022-09-13T20:31:56.772Z"
   },
   {
    "duration": 10,
    "start_time": "2022-09-13T20:35:07.666Z"
   },
   {
    "duration": 469,
    "start_time": "2022-09-13T20:36:19.267Z"
   },
   {
    "duration": 8,
    "start_time": "2022-09-13T20:36:43.223Z"
   },
   {
    "duration": 6,
    "start_time": "2022-09-13T20:37:01.300Z"
   },
   {
    "duration": 11,
    "start_time": "2022-09-13T20:37:13.096Z"
   },
   {
    "duration": 8,
    "start_time": "2022-09-13T20:37:56.355Z"
   },
   {
    "duration": 7,
    "start_time": "2022-09-13T20:40:03.209Z"
   },
   {
    "duration": 715,
    "start_time": "2022-09-15T17:03:14.236Z"
   },
   {
    "duration": 24,
    "start_time": "2022-09-15T17:03:14.954Z"
   },
   {
    "duration": 15,
    "start_time": "2022-09-15T17:03:14.981Z"
   },
   {
    "duration": 10,
    "start_time": "2022-09-15T17:03:14.998Z"
   },
   {
    "duration": 54,
    "start_time": "2022-09-15T17:03:15.010Z"
   },
   {
    "duration": 3,
    "start_time": "2022-09-15T17:03:15.066Z"
   },
   {
    "duration": 31,
    "start_time": "2022-09-15T17:03:15.070Z"
   },
   {
    "duration": 7,
    "start_time": "2022-09-15T17:03:15.103Z"
   },
   {
    "duration": 14,
    "start_time": "2022-09-15T17:03:15.112Z"
   },
   {
    "duration": 8,
    "start_time": "2022-09-15T17:03:15.129Z"
   },
   {
    "duration": 42,
    "start_time": "2022-09-15T17:03:15.138Z"
   },
   {
    "duration": 11,
    "start_time": "2022-09-15T17:03:15.182Z"
   },
   {
    "duration": 6,
    "start_time": "2022-09-15T17:03:15.195Z"
   },
   {
    "duration": 18,
    "start_time": "2022-09-15T17:03:15.203Z"
   },
   {
    "duration": 32,
    "start_time": "2022-09-15T17:03:15.222Z"
   },
   {
    "duration": 26,
    "start_time": "2022-09-15T17:03:15.256Z"
   },
   {
    "duration": 3,
    "start_time": "2022-09-15T17:03:15.284Z"
   },
   {
    "duration": 19,
    "start_time": "2022-09-15T17:03:15.288Z"
   },
   {
    "duration": 11,
    "start_time": "2022-09-15T17:03:15.308Z"
   },
   {
    "duration": 4,
    "start_time": "2022-09-15T17:03:15.320Z"
   },
   {
    "duration": 23,
    "start_time": "2022-09-15T17:03:15.326Z"
   },
   {
    "duration": 77,
    "start_time": "2022-09-15T17:03:47.209Z"
   },
   {
    "duration": 9,
    "start_time": "2022-09-15T17:05:11.160Z"
   },
   {
    "duration": 8,
    "start_time": "2022-09-15T17:06:10.838Z"
   },
   {
    "duration": 6,
    "start_time": "2022-09-15T17:07:51.631Z"
   },
   {
    "duration": 12,
    "start_time": "2022-09-15T17:14:26.950Z"
   },
   {
    "duration": 12,
    "start_time": "2022-09-15T17:16:44.471Z"
   },
   {
    "duration": 73,
    "start_time": "2022-09-15T17:29:33.558Z"
   },
   {
    "duration": 15,
    "start_time": "2022-09-15T17:29:33.633Z"
   },
   {
    "duration": 27,
    "start_time": "2022-09-15T17:29:33.650Z"
   },
   {
    "duration": 15,
    "start_time": "2022-09-15T17:29:33.680Z"
   },
   {
    "duration": 70,
    "start_time": "2022-09-15T17:29:33.697Z"
   },
   {
    "duration": 3,
    "start_time": "2022-09-15T17:29:33.769Z"
   },
   {
    "duration": 11,
    "start_time": "2022-09-15T17:29:33.773Z"
   },
   {
    "duration": 4,
    "start_time": "2022-09-15T17:29:33.786Z"
   },
   {
    "duration": 6,
    "start_time": "2022-09-15T17:29:33.792Z"
   },
   {
    "duration": 4,
    "start_time": "2022-09-15T17:29:33.801Z"
   },
   {
    "duration": 79,
    "start_time": "2022-09-15T17:29:33.807Z"
   },
   {
    "duration": 9,
    "start_time": "2022-09-15T17:29:33.887Z"
   },
   {
    "duration": 4,
    "start_time": "2022-09-15T17:29:33.898Z"
   },
   {
    "duration": 12,
    "start_time": "2022-09-15T17:29:33.903Z"
   },
   {
    "duration": 40,
    "start_time": "2022-09-15T17:29:33.917Z"
   },
   {
    "duration": 16,
    "start_time": "2022-09-15T17:29:33.958Z"
   },
   {
    "duration": 3,
    "start_time": "2022-09-15T17:29:33.976Z"
   },
   {
    "duration": 16,
    "start_time": "2022-09-15T17:29:33.981Z"
   },
   {
    "duration": 8,
    "start_time": "2022-09-15T17:29:33.999Z"
   },
   {
    "duration": 5,
    "start_time": "2022-09-15T17:29:34.009Z"
   },
   {
    "duration": 13,
    "start_time": "2022-09-15T17:29:34.047Z"
   },
   {
    "duration": 12,
    "start_time": "2022-09-15T17:29:34.062Z"
   },
   {
    "duration": 7,
    "start_time": "2022-09-15T17:29:34.076Z"
   },
   {
    "duration": 20,
    "start_time": "2022-09-15T17:29:34.085Z"
   },
   {
    "duration": 15,
    "start_time": "2022-09-15T17:29:41.019Z"
   },
   {
    "duration": 11,
    "start_time": "2022-09-15T17:30:52.109Z"
   },
   {
    "duration": 12,
    "start_time": "2022-09-15T17:52:35.433Z"
   },
   {
    "duration": 15,
    "start_time": "2022-09-15T18:08:01.146Z"
   },
   {
    "duration": 11,
    "start_time": "2022-09-15T18:15:34.796Z"
   },
   {
    "duration": 15,
    "start_time": "2022-09-15T18:16:05.442Z"
   },
   {
    "duration": 14,
    "start_time": "2022-09-15T18:16:17.871Z"
   },
   {
    "duration": 20,
    "start_time": "2022-09-15T18:18:25.017Z"
   },
   {
    "duration": 25,
    "start_time": "2022-09-15T18:26:28.962Z"
   },
   {
    "duration": 143,
    "start_time": "2022-09-15T18:30:05.141Z"
   },
   {
    "duration": 232,
    "start_time": "2022-09-15T18:31:01.210Z"
   },
   {
    "duration": 93,
    "start_time": "2022-09-15T18:31:29.086Z"
   },
   {
    "duration": 15,
    "start_time": "2022-09-15T18:33:00.551Z"
   },
   {
    "duration": 64,
    "start_time": "2022-09-15T18:33:26.022Z"
   },
   {
    "duration": 52,
    "start_time": "2022-09-15T18:34:01.468Z"
   },
   {
    "duration": 132,
    "start_time": "2022-09-15T18:34:10.499Z"
   },
   {
    "duration": 13,
    "start_time": "2022-09-15T18:34:32.141Z"
   },
   {
    "duration": 15,
    "start_time": "2022-09-15T18:34:38.873Z"
   },
   {
    "duration": 15,
    "start_time": "2022-09-15T18:35:00.679Z"
   },
   {
    "duration": 46,
    "start_time": "2022-09-15T18:38:48.528Z"
   },
   {
    "duration": 92,
    "start_time": "2022-09-15T18:39:00.273Z"
   },
   {
    "duration": 121,
    "start_time": "2022-09-15T18:39:23.215Z"
   },
   {
    "duration": 15,
    "start_time": "2022-09-15T18:39:30.090Z"
   },
   {
    "duration": 13,
    "start_time": "2022-09-15T18:46:50.204Z"
   },
   {
    "duration": 73,
    "start_time": "2022-09-15T18:48:46.564Z"
   },
   {
    "duration": 13,
    "start_time": "2022-09-15T18:48:56.183Z"
   },
   {
    "duration": 10,
    "start_time": "2022-09-15T18:51:52.782Z"
   },
   {
    "duration": 61,
    "start_time": "2022-09-15T18:58:40.031Z"
   },
   {
    "duration": 61,
    "start_time": "2022-09-15T18:58:59.522Z"
   },
   {
    "duration": 4,
    "start_time": "2022-09-15T19:01:42.589Z"
   },
   {
    "duration": 7,
    "start_time": "2022-09-15T19:01:59.099Z"
   },
   {
    "duration": 7,
    "start_time": "2022-09-15T19:02:24.794Z"
   },
   {
    "duration": 5,
    "start_time": "2022-09-15T19:05:06.272Z"
   },
   {
    "duration": 4,
    "start_time": "2022-09-15T19:05:08.910Z"
   },
   {
    "duration": 14,
    "start_time": "2022-09-15T19:05:23.543Z"
   },
   {
    "duration": 6,
    "start_time": "2022-09-15T19:05:27.289Z"
   },
   {
    "duration": 548,
    "start_time": "2022-09-15T19:06:51.778Z"
   },
   {
    "duration": 19,
    "start_time": "2022-09-15T19:07:22.829Z"
   },
   {
    "duration": 13,
    "start_time": "2022-09-15T19:09:28.406Z"
   },
   {
    "duration": 4,
    "start_time": "2022-09-15T19:09:34.878Z"
   },
   {
    "duration": 9,
    "start_time": "2022-09-15T19:09:50.230Z"
   },
   {
    "duration": 72,
    "start_time": "2022-09-15T19:10:07.105Z"
   },
   {
    "duration": 14,
    "start_time": "2022-09-15T19:10:07.179Z"
   },
   {
    "duration": 20,
    "start_time": "2022-09-15T19:10:07.195Z"
   },
   {
    "duration": 33,
    "start_time": "2022-09-15T19:10:07.218Z"
   },
   {
    "duration": 33,
    "start_time": "2022-09-15T19:10:07.253Z"
   },
   {
    "duration": 3,
    "start_time": "2022-09-15T19:10:07.288Z"
   },
   {
    "duration": 11,
    "start_time": "2022-09-15T19:10:07.293Z"
   },
   {
    "duration": 4,
    "start_time": "2022-09-15T19:10:07.306Z"
   },
   {
    "duration": 40,
    "start_time": "2022-09-15T19:10:07.312Z"
   },
   {
    "duration": 20,
    "start_time": "2022-09-15T19:10:07.354Z"
   },
   {
    "duration": 60,
    "start_time": "2022-09-15T19:10:07.376Z"
   },
   {
    "duration": 14,
    "start_time": "2022-09-15T19:10:07.438Z"
   },
   {
    "duration": 6,
    "start_time": "2022-09-15T19:10:07.453Z"
   },
   {
    "duration": 15,
    "start_time": "2022-09-15T19:10:07.461Z"
   },
   {
    "duration": 19,
    "start_time": "2022-09-15T19:10:07.477Z"
   },
   {
    "duration": 19,
    "start_time": "2022-09-15T19:10:07.498Z"
   },
   {
    "duration": 30,
    "start_time": "2022-09-15T19:10:07.519Z"
   },
   {
    "duration": 22,
    "start_time": "2022-09-15T19:10:07.551Z"
   },
   {
    "duration": 15,
    "start_time": "2022-09-15T19:10:07.574Z"
   },
   {
    "duration": 5,
    "start_time": "2022-09-15T19:10:07.591Z"
   },
   {
    "duration": 16,
    "start_time": "2022-09-15T19:10:07.598Z"
   },
   {
    "duration": 11,
    "start_time": "2022-09-15T19:10:07.616Z"
   },
   {
    "duration": 19,
    "start_time": "2022-09-15T19:10:07.629Z"
   },
   {
    "duration": 11,
    "start_time": "2022-09-15T19:10:07.649Z"
   },
   {
    "duration": 14,
    "start_time": "2022-09-15T19:10:07.662Z"
   },
   {
    "duration": 23,
    "start_time": "2022-09-15T19:13:00.706Z"
   },
   {
    "duration": 14,
    "start_time": "2022-09-15T19:14:20.878Z"
   },
   {
    "duration": 20,
    "start_time": "2022-09-15T19:15:45.064Z"
   },
   {
    "duration": 19,
    "start_time": "2022-09-15T19:16:59.214Z"
   },
   {
    "duration": 25,
    "start_time": "2022-09-15T19:22:11.453Z"
   },
   {
    "duration": 17,
    "start_time": "2022-09-15T19:22:36.716Z"
   },
   {
    "duration": 16,
    "start_time": "2022-09-15T19:23:00.387Z"
   },
   {
    "duration": 19,
    "start_time": "2022-09-15T19:23:55.398Z"
   },
   {
    "duration": 3,
    "start_time": "2022-09-15T19:25:37.893Z"
   },
   {
    "duration": 86,
    "start_time": "2022-09-15T19:25:43.303Z"
   },
   {
    "duration": 18,
    "start_time": "2022-09-15T19:25:43.391Z"
   },
   {
    "duration": 42,
    "start_time": "2022-09-15T19:25:43.411Z"
   },
   {
    "duration": 18,
    "start_time": "2022-09-15T19:25:43.455Z"
   },
   {
    "duration": 35,
    "start_time": "2022-09-15T19:25:43.475Z"
   },
   {
    "duration": 4,
    "start_time": "2022-09-15T19:25:43.512Z"
   },
   {
    "duration": 31,
    "start_time": "2022-09-15T19:25:43.517Z"
   },
   {
    "duration": 6,
    "start_time": "2022-09-15T19:25:43.551Z"
   },
   {
    "duration": 14,
    "start_time": "2022-09-15T19:25:43.560Z"
   },
   {
    "duration": 6,
    "start_time": "2022-09-15T19:25:43.576Z"
   },
   {
    "duration": 32,
    "start_time": "2022-09-15T19:25:43.583Z"
   },
   {
    "duration": 33,
    "start_time": "2022-09-15T19:25:43.617Z"
   },
   {
    "duration": 7,
    "start_time": "2022-09-15T19:25:43.653Z"
   },
   {
    "duration": 20,
    "start_time": "2022-09-15T19:25:43.667Z"
   },
   {
    "duration": 22,
    "start_time": "2022-09-15T19:25:43.689Z"
   },
   {
    "duration": 16,
    "start_time": "2022-09-15T19:25:43.712Z"
   },
   {
    "duration": 3,
    "start_time": "2022-09-15T19:25:43.730Z"
   },
   {
    "duration": 22,
    "start_time": "2022-09-15T19:25:43.734Z"
   },
   {
    "duration": 8,
    "start_time": "2022-09-15T19:25:43.763Z"
   },
   {
    "duration": 9,
    "start_time": "2022-09-15T19:25:43.772Z"
   },
   {
    "duration": 17,
    "start_time": "2022-09-15T19:25:43.782Z"
   },
   {
    "duration": 11,
    "start_time": "2022-09-15T19:25:43.801Z"
   },
   {
    "duration": 6,
    "start_time": "2022-09-15T19:25:43.814Z"
   },
   {
    "duration": 40,
    "start_time": "2022-09-15T19:25:43.822Z"
   },
   {
    "duration": 30,
    "start_time": "2022-09-15T19:25:43.865Z"
   },
   {
    "duration": 3,
    "start_time": "2022-09-15T19:25:43.897Z"
   },
   {
    "duration": 16,
    "start_time": "2022-09-15T19:26:02.577Z"
   },
   {
    "duration": 74,
    "start_time": "2022-09-15T19:26:30.792Z"
   },
   {
    "duration": 546,
    "start_time": "2022-09-15T19:27:05.063Z"
   },
   {
    "duration": 25,
    "start_time": "2022-09-15T19:27:05.611Z"
   },
   {
    "duration": 31,
    "start_time": "2022-09-15T19:27:05.638Z"
   },
   {
    "duration": 15,
    "start_time": "2022-09-15T19:27:05.672Z"
   },
   {
    "duration": 58,
    "start_time": "2022-09-15T19:27:05.689Z"
   },
   {
    "duration": 9,
    "start_time": "2022-09-15T19:27:05.750Z"
   },
   {
    "duration": 26,
    "start_time": "2022-09-15T19:27:05.763Z"
   },
   {
    "duration": 5,
    "start_time": "2022-09-15T19:27:05.792Z"
   },
   {
    "duration": 11,
    "start_time": "2022-09-15T19:27:05.798Z"
   },
   {
    "duration": 5,
    "start_time": "2022-09-15T19:27:05.813Z"
   },
   {
    "duration": 67,
    "start_time": "2022-09-15T19:27:05.820Z"
   },
   {
    "duration": 10,
    "start_time": "2022-09-15T19:27:05.888Z"
   },
   {
    "duration": 3,
    "start_time": "2022-09-15T19:27:05.900Z"
   },
   {
    "duration": 14,
    "start_time": "2022-09-15T19:27:05.905Z"
   },
   {
    "duration": 45,
    "start_time": "2022-09-15T19:27:05.921Z"
   },
   {
    "duration": 17,
    "start_time": "2022-09-15T19:27:05.969Z"
   },
   {
    "duration": 4,
    "start_time": "2022-09-15T19:27:05.988Z"
   },
   {
    "duration": 20,
    "start_time": "2022-09-15T19:27:05.994Z"
   },
   {
    "duration": 8,
    "start_time": "2022-09-15T19:27:06.015Z"
   },
   {
    "duration": 7,
    "start_time": "2022-09-15T19:27:06.047Z"
   },
   {
    "duration": 24,
    "start_time": "2022-09-15T19:27:06.057Z"
   },
   {
    "duration": 20,
    "start_time": "2022-09-15T19:27:06.082Z"
   },
   {
    "duration": 8,
    "start_time": "2022-09-15T19:27:06.104Z"
   },
   {
    "duration": 16,
    "start_time": "2022-09-15T19:27:06.114Z"
   },
   {
    "duration": 43,
    "start_time": "2022-09-15T19:27:10.746Z"
   },
   {
    "duration": 17,
    "start_time": "2022-09-15T19:27:42.025Z"
   },
   {
    "duration": 22,
    "start_time": "2022-09-15T19:27:48.969Z"
   },
   {
    "duration": 460,
    "start_time": "2022-09-15T19:28:32.360Z"
   },
   {
    "duration": 21,
    "start_time": "2022-09-15T19:28:32.822Z"
   },
   {
    "duration": 26,
    "start_time": "2022-09-15T19:28:32.845Z"
   },
   {
    "duration": 18,
    "start_time": "2022-09-15T19:28:32.873Z"
   },
   {
    "duration": 67,
    "start_time": "2022-09-15T19:28:32.893Z"
   },
   {
    "duration": 9,
    "start_time": "2022-09-15T19:28:32.963Z"
   },
   {
    "duration": 15,
    "start_time": "2022-09-15T19:28:32.974Z"
   },
   {
    "duration": 5,
    "start_time": "2022-09-15T19:28:32.991Z"
   },
   {
    "duration": 14,
    "start_time": "2022-09-15T19:28:32.998Z"
   },
   {
    "duration": 5,
    "start_time": "2022-09-15T19:28:33.017Z"
   },
   {
    "duration": 61,
    "start_time": "2022-09-15T19:28:33.024Z"
   },
   {
    "duration": 13,
    "start_time": "2022-09-15T19:28:33.087Z"
   },
   {
    "duration": 6,
    "start_time": "2022-09-15T19:28:33.102Z"
   },
   {
    "duration": 20,
    "start_time": "2022-09-15T19:28:33.110Z"
   },
   {
    "duration": 42,
    "start_time": "2022-09-15T19:28:33.132Z"
   },
   {
    "duration": 15,
    "start_time": "2022-09-15T19:28:33.178Z"
   },
   {
    "duration": 3,
    "start_time": "2022-09-15T19:28:33.195Z"
   },
   {
    "duration": 14,
    "start_time": "2022-09-15T19:28:33.199Z"
   },
   {
    "duration": 8,
    "start_time": "2022-09-15T19:28:33.214Z"
   },
   {
    "duration": 24,
    "start_time": "2022-09-15T19:28:33.223Z"
   },
   {
    "duration": 25,
    "start_time": "2022-09-15T19:28:33.252Z"
   },
   {
    "duration": 12,
    "start_time": "2022-09-15T19:28:33.279Z"
   },
   {
    "duration": 7,
    "start_time": "2022-09-15T19:28:33.292Z"
   },
   {
    "duration": 14,
    "start_time": "2022-09-15T19:28:33.300Z"
   },
   {
    "duration": 85,
    "start_time": "2022-09-15T19:28:40.911Z"
   },
   {
    "duration": 25,
    "start_time": "2022-09-15T19:29:05.847Z"
   },
   {
    "duration": 8,
    "start_time": "2022-09-15T19:29:11.018Z"
   },
   {
    "duration": 20,
    "start_time": "2022-09-15T19:30:05.756Z"
   },
   {
    "duration": 13,
    "start_time": "2022-09-15T19:30:49.726Z"
   },
   {
    "duration": 14,
    "start_time": "2022-09-15T19:31:00.621Z"
   },
   {
    "duration": 29,
    "start_time": "2022-09-15T19:32:01.256Z"
   },
   {
    "duration": 89,
    "start_time": "2022-09-15T19:34:04.109Z"
   },
   {
    "duration": 15,
    "start_time": "2022-09-15T19:34:21.688Z"
   },
   {
    "duration": 24,
    "start_time": "2022-09-15T19:34:34.062Z"
   },
   {
    "duration": 578,
    "start_time": "2022-09-17T10:04:55.504Z"
   },
   {
    "duration": 29,
    "start_time": "2022-09-17T10:04:56.084Z"
   },
   {
    "duration": 17,
    "start_time": "2022-09-17T10:04:56.115Z"
   },
   {
    "duration": 26,
    "start_time": "2022-09-17T10:04:56.134Z"
   },
   {
    "duration": 50,
    "start_time": "2022-09-17T10:04:56.162Z"
   },
   {
    "duration": 5,
    "start_time": "2022-09-17T10:04:56.214Z"
   },
   {
    "duration": 26,
    "start_time": "2022-09-17T10:04:56.221Z"
   },
   {
    "duration": 11,
    "start_time": "2022-09-17T10:04:56.249Z"
   },
   {
    "duration": 19,
    "start_time": "2022-09-17T10:04:56.261Z"
   },
   {
    "duration": 30,
    "start_time": "2022-09-17T10:04:56.283Z"
   },
   {
    "duration": 47,
    "start_time": "2022-09-17T10:04:56.315Z"
   },
   {
    "duration": 10,
    "start_time": "2022-09-17T10:04:56.364Z"
   },
   {
    "duration": 28,
    "start_time": "2022-09-17T10:04:56.376Z"
   },
   {
    "duration": 31,
    "start_time": "2022-09-17T10:04:56.406Z"
   },
   {
    "duration": 53,
    "start_time": "2022-09-17T10:04:56.439Z"
   },
   {
    "duration": 22,
    "start_time": "2022-09-17T10:04:56.498Z"
   },
   {
    "duration": 9,
    "start_time": "2022-09-17T10:04:56.521Z"
   },
   {
    "duration": 19,
    "start_time": "2022-09-17T10:04:56.532Z"
   },
   {
    "duration": 15,
    "start_time": "2022-09-17T10:04:56.552Z"
   },
   {
    "duration": 5,
    "start_time": "2022-09-17T10:04:56.569Z"
   },
   {
    "duration": 34,
    "start_time": "2022-09-17T10:04:56.575Z"
   },
   {
    "duration": 11,
    "start_time": "2022-09-17T10:04:56.611Z"
   },
   {
    "duration": 6,
    "start_time": "2022-09-17T10:04:56.623Z"
   },
   {
    "duration": 21,
    "start_time": "2022-09-17T10:04:56.630Z"
   },
   {
    "duration": 16,
    "start_time": "2022-09-17T10:05:36.010Z"
   },
   {
    "duration": 16,
    "start_time": "2022-09-17T10:08:34.250Z"
   },
   {
    "duration": 15,
    "start_time": "2022-09-17T10:08:43.051Z"
   },
   {
    "duration": 17,
    "start_time": "2022-09-17T10:09:37.114Z"
   },
   {
    "duration": 14,
    "start_time": "2022-09-17T10:13:37.870Z"
   },
   {
    "duration": 1091,
    "start_time": "2022-09-17T10:16:38.386Z"
   },
   {
    "duration": 15,
    "start_time": "2022-09-17T10:18:38.160Z"
   },
   {
    "duration": 115,
    "start_time": "2022-09-17T10:18:47.407Z"
   },
   {
    "duration": 17,
    "start_time": "2022-09-17T10:26:37.174Z"
   },
   {
    "duration": 126,
    "start_time": "2022-09-17T10:27:54.407Z"
   },
   {
    "duration": 12,
    "start_time": "2022-09-17T10:42:10.671Z"
   },
   {
    "duration": 1410,
    "start_time": "2022-09-17T20:14:42.171Z"
   },
   {
    "duration": 296,
    "start_time": "2022-09-17T20:14:52.977Z"
   },
   {
    "duration": 20,
    "start_time": "2022-09-17T20:14:53.275Z"
   },
   {
    "duration": 14,
    "start_time": "2022-09-17T20:14:53.296Z"
   },
   {
    "duration": 16,
    "start_time": "2022-09-17T20:14:53.312Z"
   },
   {
    "duration": 48,
    "start_time": "2022-09-17T20:14:53.330Z"
   },
   {
    "duration": 4,
    "start_time": "2022-09-17T20:14:53.379Z"
   },
   {
    "duration": 13,
    "start_time": "2022-09-17T20:14:53.385Z"
   },
   {
    "duration": 9,
    "start_time": "2022-09-17T20:14:53.399Z"
   },
   {
    "duration": 12,
    "start_time": "2022-09-17T20:14:53.410Z"
   },
   {
    "duration": 7,
    "start_time": "2022-09-17T20:14:53.425Z"
   },
   {
    "duration": 76,
    "start_time": "2022-09-17T20:14:53.434Z"
   },
   {
    "duration": 11,
    "start_time": "2022-09-17T20:14:53.512Z"
   },
   {
    "duration": 5,
    "start_time": "2022-09-17T20:14:53.524Z"
   },
   {
    "duration": 14,
    "start_time": "2022-09-17T20:14:53.531Z"
   },
   {
    "duration": 31,
    "start_time": "2022-09-17T20:14:53.547Z"
   },
   {
    "duration": 17,
    "start_time": "2022-09-17T20:14:53.579Z"
   },
   {
    "duration": 3,
    "start_time": "2022-09-17T20:14:53.597Z"
   },
   {
    "duration": 12,
    "start_time": "2022-09-17T20:14:53.602Z"
   },
   {
    "duration": 8,
    "start_time": "2022-09-17T20:14:53.616Z"
   },
   {
    "duration": 4,
    "start_time": "2022-09-17T20:14:53.626Z"
   },
   {
    "duration": 16,
    "start_time": "2022-09-17T20:14:53.631Z"
   },
   {
    "duration": 35,
    "start_time": "2022-09-17T20:14:53.649Z"
   },
   {
    "duration": 14,
    "start_time": "2022-09-17T20:14:53.686Z"
   },
   {
    "duration": 13,
    "start_time": "2022-09-17T20:14:53.702Z"
   },
   {
    "duration": 17,
    "start_time": "2022-09-17T20:14:53.717Z"
   },
   {
    "duration": 3,
    "start_time": "2022-09-17T20:14:53.736Z"
   },
   {
    "duration": 41,
    "start_time": "2022-09-17T20:14:53.740Z"
   },
   {
    "duration": 8,
    "start_time": "2022-09-17T20:15:13.937Z"
   },
   {
    "duration": 15,
    "start_time": "2022-09-17T20:17:03.289Z"
   },
   {
    "duration": 18,
    "start_time": "2022-09-17T20:17:38.844Z"
   },
   {
    "duration": 15,
    "start_time": "2022-09-17T20:18:19.706Z"
   },
   {
    "duration": 133,
    "start_time": "2022-09-17T20:18:40.138Z"
   },
   {
    "duration": 14,
    "start_time": "2022-09-17T20:19:57.235Z"
   },
   {
    "duration": 15,
    "start_time": "2022-09-17T20:20:41.382Z"
   },
   {
    "duration": 15,
    "start_time": "2022-09-17T20:21:12.071Z"
   },
   {
    "duration": 11,
    "start_time": "2022-09-17T20:23:15.010Z"
   },
   {
    "duration": 14,
    "start_time": "2022-09-17T20:23:56.035Z"
   },
   {
    "duration": 8,
    "start_time": "2022-09-17T20:24:25.673Z"
   },
   {
    "duration": 8,
    "start_time": "2022-09-17T20:24:40.244Z"
   },
   {
    "duration": 777,
    "start_time": "2022-09-17T20:26:20.345Z"
   },
   {
    "duration": 983,
    "start_time": "2022-09-17T20:26:44.845Z"
   },
   {
    "duration": 132,
    "start_time": "2022-09-17T20:27:18.610Z"
   },
   {
    "duration": 116,
    "start_time": "2022-09-17T20:28:14.439Z"
   },
   {
    "duration": 103,
    "start_time": "2022-09-17T20:40:08.290Z"
   },
   {
    "duration": 121,
    "start_time": "2022-09-17T20:41:07.112Z"
   },
   {
    "duration": 107,
    "start_time": "2022-09-17T20:42:15.665Z"
   },
   {
    "duration": 113,
    "start_time": "2022-09-17T20:42:31.968Z"
   },
   {
    "duration": 47,
    "start_time": "2022-09-18T11:27:06.360Z"
   },
   {
    "duration": 6,
    "start_time": "2022-09-18T11:27:21.702Z"
   },
   {
    "duration": 8,
    "start_time": "2022-09-18T11:27:22.959Z"
   },
   {
    "duration": 564,
    "start_time": "2022-09-18T11:27:27.668Z"
   },
   {
    "duration": 22,
    "start_time": "2022-09-18T11:27:28.235Z"
   },
   {
    "duration": 16,
    "start_time": "2022-09-18T11:27:28.259Z"
   },
   {
    "duration": 13,
    "start_time": "2022-09-18T11:27:28.277Z"
   },
   {
    "duration": 39,
    "start_time": "2022-09-18T11:27:28.291Z"
   },
   {
    "duration": 4,
    "start_time": "2022-09-18T11:27:28.331Z"
   },
   {
    "duration": 29,
    "start_time": "2022-09-18T11:27:28.337Z"
   },
   {
    "duration": 24,
    "start_time": "2022-09-18T11:27:28.368Z"
   },
   {
    "duration": 32,
    "start_time": "2022-09-18T11:27:28.394Z"
   },
   {
    "duration": 5,
    "start_time": "2022-09-18T11:27:28.428Z"
   },
   {
    "duration": 54,
    "start_time": "2022-09-18T11:27:28.434Z"
   },
   {
    "duration": 9,
    "start_time": "2022-09-18T11:27:28.490Z"
   },
   {
    "duration": 16,
    "start_time": "2022-09-18T11:27:28.501Z"
   },
   {
    "duration": 15,
    "start_time": "2022-09-18T11:27:28.519Z"
   },
   {
    "duration": 25,
    "start_time": "2022-09-18T11:27:28.536Z"
   },
   {
    "duration": 18,
    "start_time": "2022-09-18T11:27:28.562Z"
   },
   {
    "duration": 9,
    "start_time": "2022-09-18T11:27:28.581Z"
   },
   {
    "duration": 23,
    "start_time": "2022-09-18T11:27:28.592Z"
   },
   {
    "duration": 6,
    "start_time": "2022-09-18T11:27:28.616Z"
   },
   {
    "duration": 4,
    "start_time": "2022-09-18T11:27:28.624Z"
   },
   {
    "duration": 10,
    "start_time": "2022-09-18T11:27:28.629Z"
   },
   {
    "duration": 11,
    "start_time": "2022-09-18T11:27:28.641Z"
   },
   {
    "duration": 6,
    "start_time": "2022-09-18T11:27:28.653Z"
   },
   {
    "duration": 34,
    "start_time": "2022-09-18T11:27:28.660Z"
   },
   {
    "duration": 14,
    "start_time": "2022-09-18T11:27:28.696Z"
   },
   {
    "duration": 1053,
    "start_time": "2022-09-18T11:27:28.712Z"
   },
   {
    "duration": 23,
    "start_time": "2022-09-18T11:27:29.767Z"
   },
   {
    "duration": 6,
    "start_time": "2022-09-18T11:28:21.511Z"
   },
   {
    "duration": 6,
    "start_time": "2022-09-18T11:28:40.798Z"
   },
   {
    "duration": 16,
    "start_time": "2022-09-18T11:29:20.566Z"
   },
   {
    "duration": 5,
    "start_time": "2022-09-18T11:29:35.648Z"
   },
   {
    "duration": 120,
    "start_time": "2022-09-18T11:30:25.496Z"
   },
   {
    "duration": 77,
    "start_time": "2022-09-18T11:47:01.794Z"
   },
   {
    "duration": 88,
    "start_time": "2022-09-18T11:47:10.451Z"
   },
   {
    "duration": 72,
    "start_time": "2022-09-18T12:04:37.714Z"
   },
   {
    "duration": 413,
    "start_time": "2022-09-18T12:48:17.668Z"
   },
   {
    "duration": 21,
    "start_time": "2022-09-18T12:48:18.083Z"
   },
   {
    "duration": 15,
    "start_time": "2022-09-18T12:48:18.105Z"
   },
   {
    "duration": 9,
    "start_time": "2022-09-18T12:48:18.122Z"
   },
   {
    "duration": 32,
    "start_time": "2022-09-18T12:48:18.134Z"
   },
   {
    "duration": 3,
    "start_time": "2022-09-18T12:48:18.168Z"
   },
   {
    "duration": 11,
    "start_time": "2022-09-18T12:48:18.172Z"
   },
   {
    "duration": 4,
    "start_time": "2022-09-18T12:48:18.209Z"
   },
   {
    "duration": 12,
    "start_time": "2022-09-18T12:48:18.214Z"
   },
   {
    "duration": 4,
    "start_time": "2022-09-18T12:48:18.228Z"
   },
   {
    "duration": 30,
    "start_time": "2022-09-18T12:48:18.234Z"
   },
   {
    "duration": 10,
    "start_time": "2022-09-18T12:48:18.266Z"
   },
   {
    "duration": 32,
    "start_time": "2022-09-18T12:48:18.278Z"
   },
   {
    "duration": 10,
    "start_time": "2022-09-18T12:48:18.314Z"
   },
   {
    "duration": 19,
    "start_time": "2022-09-18T12:48:18.326Z"
   },
   {
    "duration": 16,
    "start_time": "2022-09-18T12:48:18.346Z"
   },
   {
    "duration": 4,
    "start_time": "2022-09-18T12:48:18.363Z"
   },
   {
    "duration": 11,
    "start_time": "2022-09-18T12:48:18.368Z"
   },
   {
    "duration": 28,
    "start_time": "2022-09-18T12:48:18.381Z"
   },
   {
    "duration": 3,
    "start_time": "2022-09-18T12:48:18.411Z"
   },
   {
    "duration": 11,
    "start_time": "2022-09-18T12:48:18.415Z"
   },
   {
    "duration": 8,
    "start_time": "2022-09-18T12:48:18.427Z"
   },
   {
    "duration": 5,
    "start_time": "2022-09-18T12:48:18.436Z"
   },
   {
    "duration": 10,
    "start_time": "2022-09-18T12:48:18.442Z"
   },
   {
    "duration": 12,
    "start_time": "2022-09-18T12:48:18.453Z"
   },
   {
    "duration": 871,
    "start_time": "2022-09-18T12:48:18.466Z"
   },
   {
    "duration": 13,
    "start_time": "2022-09-18T12:48:19.339Z"
   },
   {
    "duration": 76,
    "start_time": "2022-09-18T17:29:04.686Z"
   },
   {
    "duration": 1276,
    "start_time": "2022-09-18T17:29:26.080Z"
   },
   {
    "duration": 26,
    "start_time": "2022-09-18T17:29:27.359Z"
   },
   {
    "duration": 16,
    "start_time": "2022-09-18T17:29:27.386Z"
   },
   {
    "duration": 29,
    "start_time": "2022-09-18T17:29:27.404Z"
   },
   {
    "duration": 80,
    "start_time": "2022-09-18T17:29:27.435Z"
   },
   {
    "duration": 11,
    "start_time": "2022-09-18T17:29:27.517Z"
   },
   {
    "duration": 52,
    "start_time": "2022-09-18T17:29:27.532Z"
   },
   {
    "duration": 16,
    "start_time": "2022-09-18T17:29:27.586Z"
   },
   {
    "duration": 49,
    "start_time": "2022-09-18T17:29:27.604Z"
   },
   {
    "duration": 12,
    "start_time": "2022-09-18T17:29:27.659Z"
   },
   {
    "duration": 54,
    "start_time": "2022-09-18T17:29:27.673Z"
   },
   {
    "duration": 20,
    "start_time": "2022-09-18T17:29:27.729Z"
   },
   {
    "duration": 30,
    "start_time": "2022-09-18T17:29:27.751Z"
   },
   {
    "duration": 23,
    "start_time": "2022-09-18T17:29:27.783Z"
   },
   {
    "duration": 38,
    "start_time": "2022-09-18T17:29:27.808Z"
   },
   {
    "duration": 68,
    "start_time": "2022-09-18T17:29:27.847Z"
   },
   {
    "duration": 57,
    "start_time": "2022-09-18T17:29:27.917Z"
   },
   {
    "duration": 27,
    "start_time": "2022-09-18T17:29:27.976Z"
   },
   {
    "duration": 24,
    "start_time": "2022-09-18T17:29:28.005Z"
   },
   {
    "duration": 56,
    "start_time": "2022-09-18T17:29:28.035Z"
   },
   {
    "duration": 23,
    "start_time": "2022-09-18T17:29:28.093Z"
   },
   {
    "duration": 50,
    "start_time": "2022-09-18T17:29:28.118Z"
   },
   {
    "duration": 24,
    "start_time": "2022-09-18T17:29:28.169Z"
   },
   {
    "duration": 20,
    "start_time": "2022-09-18T17:29:28.195Z"
   },
   {
    "duration": 69,
    "start_time": "2022-09-18T17:29:28.216Z"
   },
   {
    "duration": 1373,
    "start_time": "2022-09-18T17:29:28.287Z"
   },
   {
    "duration": 14,
    "start_time": "2022-09-18T17:29:29.665Z"
   },
   {
    "duration": 11,
    "start_time": "2022-09-18T17:30:39.239Z"
   },
   {
    "duration": 8,
    "start_time": "2022-09-18T17:30:56.150Z"
   },
   {
    "duration": 9,
    "start_time": "2022-09-18T17:31:34.477Z"
   },
   {
    "duration": 9,
    "start_time": "2022-09-18T17:31:53.876Z"
   },
   {
    "duration": 9,
    "start_time": "2022-09-18T17:34:06.288Z"
   },
   {
    "duration": 94,
    "start_time": "2022-09-18T17:35:47.862Z"
   },
   {
    "duration": 13,
    "start_time": "2022-09-18T17:36:55.605Z"
   },
   {
    "duration": 159,
    "start_time": "2022-09-18T17:37:13.284Z"
   },
   {
    "duration": 13,
    "start_time": "2022-09-18T17:38:57.976Z"
   },
   {
    "duration": 83,
    "start_time": "2022-09-18T17:39:20.262Z"
   },
   {
    "duration": 24,
    "start_time": "2022-09-18T17:39:20.349Z"
   },
   {
    "duration": 16,
    "start_time": "2022-09-18T17:39:20.375Z"
   },
   {
    "duration": 9,
    "start_time": "2022-09-18T17:39:20.394Z"
   },
   {
    "duration": 48,
    "start_time": "2022-09-18T17:39:20.427Z"
   },
   {
    "duration": 4,
    "start_time": "2022-09-18T17:39:20.477Z"
   },
   {
    "duration": 14,
    "start_time": "2022-09-18T17:39:20.483Z"
   },
   {
    "duration": 6,
    "start_time": "2022-09-18T17:39:20.498Z"
   },
   {
    "duration": 16,
    "start_time": "2022-09-18T17:39:20.529Z"
   },
   {
    "duration": 36,
    "start_time": "2022-09-18T17:39:20.557Z"
   },
   {
    "duration": 75,
    "start_time": "2022-09-18T17:39:20.595Z"
   },
   {
    "duration": 9,
    "start_time": "2022-09-18T17:39:20.672Z"
   },
   {
    "duration": 4,
    "start_time": "2022-09-18T17:39:20.683Z"
   },
   {
    "duration": 16,
    "start_time": "2022-09-18T17:39:20.689Z"
   },
   {
    "duration": 32,
    "start_time": "2022-09-18T17:39:20.707Z"
   },
   {
    "duration": 24,
    "start_time": "2022-09-18T17:39:20.740Z"
   },
   {
    "duration": 12,
    "start_time": "2022-09-18T17:39:20.766Z"
   },
   {
    "duration": 20,
    "start_time": "2022-09-18T17:39:20.780Z"
   },
   {
    "duration": 20,
    "start_time": "2022-09-18T17:39:20.803Z"
   },
   {
    "duration": 15,
    "start_time": "2022-09-18T17:39:20.826Z"
   },
   {
    "duration": 37,
    "start_time": "2022-09-18T17:39:20.851Z"
   },
   {
    "duration": 9,
    "start_time": "2022-09-18T17:39:20.890Z"
   },
   {
    "duration": 7,
    "start_time": "2022-09-18T17:39:20.902Z"
   },
   {
    "duration": 10,
    "start_time": "2022-09-18T17:39:20.911Z"
   },
   {
    "duration": 55,
    "start_time": "2022-09-18T17:39:20.925Z"
   },
   {
    "duration": 139,
    "start_time": "2022-09-18T17:39:20.982Z"
   },
   {
    "duration": 10,
    "start_time": "2022-09-18T17:39:21.122Z"
   },
   {
    "duration": 94,
    "start_time": "2022-09-18T18:16:44.112Z"
   },
   {
    "duration": 46,
    "start_time": "2022-09-18T19:33:39.120Z"
   },
   {
    "duration": 22,
    "start_time": "2022-09-18T19:33:53.710Z"
   },
   {
    "duration": 14,
    "start_time": "2022-09-18T19:35:23.355Z"
   },
   {
    "duration": 16,
    "start_time": "2022-09-18T19:36:25.466Z"
   },
   {
    "duration": 14,
    "start_time": "2022-09-18T19:36:51.698Z"
   },
   {
    "duration": 16,
    "start_time": "2022-09-18T19:39:38.569Z"
   },
   {
    "duration": 18,
    "start_time": "2022-09-18T19:40:11.677Z"
   },
   {
    "duration": 16,
    "start_time": "2022-09-18T19:40:46.950Z"
   },
   {
    "duration": 13,
    "start_time": "2022-09-18T19:41:49.665Z"
   },
   {
    "duration": 957,
    "start_time": "2022-09-18T19:43:19.299Z"
   },
   {
    "duration": 16,
    "start_time": "2022-09-18T19:43:50.493Z"
   },
   {
    "duration": 20,
    "start_time": "2022-09-18T19:46:24.563Z"
   },
   {
    "duration": 21,
    "start_time": "2022-09-18T19:47:10.196Z"
   },
   {
    "duration": 16,
    "start_time": "2022-09-18T19:48:29.818Z"
   },
   {
    "duration": 14,
    "start_time": "2022-09-18T19:48:40.515Z"
   },
   {
    "duration": 53,
    "start_time": "2022-09-18T19:53:07.810Z"
   },
   {
    "duration": 0,
    "start_time": "2022-09-18T19:53:24.871Z"
   },
   {
    "duration": 0,
    "start_time": "2022-09-18T19:53:41.415Z"
   },
   {
    "duration": 0,
    "start_time": "2022-09-18T19:53:41.417Z"
   },
   {
    "duration": 0,
    "start_time": "2022-09-18T19:53:41.418Z"
   },
   {
    "duration": 0,
    "start_time": "2022-09-18T19:53:41.421Z"
   },
   {
    "duration": 0,
    "start_time": "2022-09-18T19:53:41.422Z"
   },
   {
    "duration": 0,
    "start_time": "2022-09-18T19:53:41.423Z"
   },
   {
    "duration": 0,
    "start_time": "2022-09-18T19:53:41.424Z"
   },
   {
    "duration": 0,
    "start_time": "2022-09-18T19:53:41.425Z"
   },
   {
    "duration": 0,
    "start_time": "2022-09-18T19:53:41.426Z"
   },
   {
    "duration": 0,
    "start_time": "2022-09-18T19:53:41.427Z"
   },
   {
    "duration": 0,
    "start_time": "2022-09-18T19:53:41.428Z"
   },
   {
    "duration": 0,
    "start_time": "2022-09-18T19:53:41.433Z"
   },
   {
    "duration": 0,
    "start_time": "2022-09-18T19:53:41.435Z"
   },
   {
    "duration": 0,
    "start_time": "2022-09-18T19:53:41.437Z"
   },
   {
    "duration": 0,
    "start_time": "2022-09-18T19:53:41.438Z"
   },
   {
    "duration": 0,
    "start_time": "2022-09-18T19:53:41.439Z"
   },
   {
    "duration": 0,
    "start_time": "2022-09-18T19:53:41.440Z"
   },
   {
    "duration": 0,
    "start_time": "2022-09-18T19:53:41.441Z"
   },
   {
    "duration": 0,
    "start_time": "2022-09-18T19:53:41.442Z"
   },
   {
    "duration": 0,
    "start_time": "2022-09-18T19:53:41.443Z"
   },
   {
    "duration": 0,
    "start_time": "2022-09-18T19:53:41.444Z"
   },
   {
    "duration": 0,
    "start_time": "2022-09-18T19:53:41.445Z"
   },
   {
    "duration": 0,
    "start_time": "2022-09-18T19:53:41.447Z"
   },
   {
    "duration": 0,
    "start_time": "2022-09-18T19:53:41.448Z"
   },
   {
    "duration": 0,
    "start_time": "2022-09-18T19:53:41.449Z"
   },
   {
    "duration": 0,
    "start_time": "2022-09-18T19:53:41.450Z"
   },
   {
    "duration": 0,
    "start_time": "2022-09-18T19:53:41.451Z"
   },
   {
    "duration": 1134,
    "start_time": "2022-09-18T19:55:14.298Z"
   },
   {
    "duration": 48,
    "start_time": "2022-09-18T19:56:03.314Z"
   },
   {
    "duration": 12,
    "start_time": "2022-09-18T19:56:39.901Z"
   },
   {
    "duration": 1228,
    "start_time": "2022-09-18T20:00:40.697Z"
   },
   {
    "duration": 981,
    "start_time": "2022-09-18T20:01:10.816Z"
   },
   {
    "duration": 14,
    "start_time": "2022-09-18T20:01:48.441Z"
   },
   {
    "duration": 15,
    "start_time": "2022-09-18T20:01:58.432Z"
   },
   {
    "duration": 14,
    "start_time": "2022-09-18T20:05:25.263Z"
   },
   {
    "duration": 14,
    "start_time": "2022-09-18T20:09:27.725Z"
   },
   {
    "duration": 12,
    "start_time": "2022-09-18T20:24:46.016Z"
   },
   {
    "duration": 74,
    "start_time": "2022-09-18T20:24:50.844Z"
   },
   {
    "duration": 16,
    "start_time": "2022-09-18T20:24:50.920Z"
   },
   {
    "duration": 17,
    "start_time": "2022-09-18T20:24:50.938Z"
   },
   {
    "duration": 13,
    "start_time": "2022-09-18T20:24:50.958Z"
   },
   {
    "duration": 62,
    "start_time": "2022-09-18T20:24:50.973Z"
   },
   {
    "duration": 4,
    "start_time": "2022-09-18T20:24:51.037Z"
   },
   {
    "duration": 14,
    "start_time": "2022-09-18T20:24:51.043Z"
   },
   {
    "duration": 6,
    "start_time": "2022-09-18T20:24:51.059Z"
   },
   {
    "duration": 9,
    "start_time": "2022-09-18T20:24:51.067Z"
   },
   {
    "duration": 4,
    "start_time": "2022-09-18T20:24:51.079Z"
   },
   {
    "duration": 69,
    "start_time": "2022-09-18T20:24:51.085Z"
   },
   {
    "duration": 14,
    "start_time": "2022-09-18T20:24:51.156Z"
   },
   {
    "duration": 7,
    "start_time": "2022-09-18T20:24:51.172Z"
   },
   {
    "duration": 17,
    "start_time": "2022-09-18T20:24:51.180Z"
   },
   {
    "duration": 39,
    "start_time": "2022-09-18T20:24:51.199Z"
   },
   {
    "duration": 28,
    "start_time": "2022-09-18T20:24:51.240Z"
   },
   {
    "duration": 5,
    "start_time": "2022-09-18T20:24:51.270Z"
   },
   {
    "duration": 16,
    "start_time": "2022-09-18T20:24:51.276Z"
   },
   {
    "duration": 10,
    "start_time": "2022-09-18T20:24:51.294Z"
   },
   {
    "duration": 16,
    "start_time": "2022-09-18T20:24:51.306Z"
   },
   {
    "duration": 28,
    "start_time": "2022-09-18T20:24:51.324Z"
   },
   {
    "duration": 16,
    "start_time": "2022-09-18T20:24:51.354Z"
   },
   {
    "duration": 5,
    "start_time": "2022-09-18T20:24:51.372Z"
   },
   {
    "duration": 10,
    "start_time": "2022-09-18T20:24:51.379Z"
   },
   {
    "duration": 39,
    "start_time": "2022-09-18T20:24:51.390Z"
   },
   {
    "duration": 149,
    "start_time": "2022-09-18T20:24:51.431Z"
   },
   {
    "duration": 10,
    "start_time": "2022-09-18T20:24:51.582Z"
   },
   {
    "duration": 20,
    "start_time": "2022-09-18T20:27:51.938Z"
   },
   {
    "duration": 14,
    "start_time": "2022-09-18T20:28:14.053Z"
   },
   {
    "duration": 19,
    "start_time": "2022-09-18T20:28:45.169Z"
   },
   {
    "duration": 10,
    "start_time": "2022-09-18T20:29:34.512Z"
   },
   {
    "duration": 13,
    "start_time": "2022-09-18T20:30:06.466Z"
   },
   {
    "duration": 43,
    "start_time": "2022-09-19T18:10:41.169Z"
   },
   {
    "duration": 461,
    "start_time": "2022-09-19T18:10:50.271Z"
   },
   {
    "duration": 20,
    "start_time": "2022-09-19T18:10:50.734Z"
   },
   {
    "duration": 12,
    "start_time": "2022-09-19T18:10:50.756Z"
   },
   {
    "duration": 29,
    "start_time": "2022-09-19T18:10:50.769Z"
   },
   {
    "duration": 41,
    "start_time": "2022-09-19T18:10:50.799Z"
   },
   {
    "duration": 4,
    "start_time": "2022-09-19T18:10:50.842Z"
   },
   {
    "duration": 18,
    "start_time": "2022-09-19T18:10:50.848Z"
   },
   {
    "duration": 15,
    "start_time": "2022-09-19T18:10:50.867Z"
   },
   {
    "duration": 14,
    "start_time": "2022-09-19T18:10:50.884Z"
   },
   {
    "duration": 12,
    "start_time": "2022-09-19T18:10:50.900Z"
   },
   {
    "duration": 55,
    "start_time": "2022-09-19T18:10:50.913Z"
   },
   {
    "duration": 8,
    "start_time": "2022-09-19T18:10:50.969Z"
   },
   {
    "duration": 20,
    "start_time": "2022-09-19T18:10:50.978Z"
   },
   {
    "duration": 16,
    "start_time": "2022-09-19T18:10:50.999Z"
   },
   {
    "duration": 23,
    "start_time": "2022-09-19T18:10:51.017Z"
   },
   {
    "duration": 28,
    "start_time": "2022-09-19T18:10:51.042Z"
   },
   {
    "duration": 3,
    "start_time": "2022-09-19T18:10:51.072Z"
   },
   {
    "duration": 20,
    "start_time": "2022-09-19T18:10:51.077Z"
   },
   {
    "duration": 6,
    "start_time": "2022-09-19T18:10:51.099Z"
   },
   {
    "duration": 4,
    "start_time": "2022-09-19T18:10:51.107Z"
   },
   {
    "duration": 23,
    "start_time": "2022-09-19T18:10:51.112Z"
   },
   {
    "duration": 11,
    "start_time": "2022-09-19T18:10:51.137Z"
   },
   {
    "duration": 4,
    "start_time": "2022-09-19T18:10:51.149Z"
   },
   {
    "duration": 6,
    "start_time": "2022-09-19T18:10:51.155Z"
   },
   {
    "duration": 13,
    "start_time": "2022-09-19T18:10:51.163Z"
   },
   {
    "duration": 1003,
    "start_time": "2022-09-19T18:10:51.177Z"
   },
   {
    "duration": 8,
    "start_time": "2022-09-19T18:10:52.181Z"
   },
   {
    "duration": 11,
    "start_time": "2022-09-19T18:13:19.210Z"
   },
   {
    "duration": 62,
    "start_time": "2022-09-19T18:13:39.984Z"
   },
   {
    "duration": 6,
    "start_time": "2022-09-19T18:13:55.056Z"
   },
   {
    "duration": 3,
    "start_time": "2022-09-19T18:15:12.569Z"
   },
   {
    "duration": 13,
    "start_time": "2022-09-19T18:15:20.396Z"
   },
   {
    "duration": 18,
    "start_time": "2022-09-19T18:16:27.947Z"
   },
   {
    "duration": 14,
    "start_time": "2022-09-19T18:18:05.169Z"
   },
   {
    "duration": 1467,
    "start_time": "2022-09-19T18:19:01.070Z"
   },
   {
    "duration": 1552,
    "start_time": "2022-09-19T18:21:20.762Z"
   },
   {
    "duration": 12,
    "start_time": "2022-09-19T18:22:15.591Z"
   },
   {
    "duration": 13,
    "start_time": "2022-09-19T18:23:09.503Z"
   },
   {
    "duration": 15,
    "start_time": "2022-09-19T18:23:41.687Z"
   },
   {
    "duration": 13,
    "start_time": "2022-09-19T18:24:08.846Z"
   },
   {
    "duration": 13,
    "start_time": "2022-09-19T18:24:31.868Z"
   },
   {
    "duration": 17,
    "start_time": "2022-09-19T18:24:41.490Z"
   },
   {
    "duration": 101,
    "start_time": "2022-09-19T18:31:38.185Z"
   },
   {
    "duration": 101,
    "start_time": "2022-09-19T18:34:39.594Z"
   },
   {
    "duration": 14,
    "start_time": "2022-09-19T18:34:48.946Z"
   },
   {
    "duration": 20,
    "start_time": "2022-09-19T18:35:38.928Z"
   },
   {
    "duration": 21,
    "start_time": "2022-09-19T18:35:54.822Z"
   },
   {
    "duration": 12,
    "start_time": "2022-09-19T18:40:27.402Z"
   },
   {
    "duration": 69,
    "start_time": "2022-09-20T07:18:55.426Z"
   },
   {
    "duration": 720,
    "start_time": "2022-09-20T07:19:05.326Z"
   },
   {
    "duration": 23,
    "start_time": "2022-09-20T07:19:06.048Z"
   },
   {
    "duration": 17,
    "start_time": "2022-09-20T07:19:06.073Z"
   },
   {
    "duration": 9,
    "start_time": "2022-09-20T07:19:06.092Z"
   },
   {
    "duration": 50,
    "start_time": "2022-09-20T07:19:06.103Z"
   },
   {
    "duration": 3,
    "start_time": "2022-09-20T07:19:06.155Z"
   },
   {
    "duration": 14,
    "start_time": "2022-09-20T07:19:06.160Z"
   },
   {
    "duration": 6,
    "start_time": "2022-09-20T07:19:06.176Z"
   },
   {
    "duration": 17,
    "start_time": "2022-09-20T07:19:06.185Z"
   },
   {
    "duration": 15,
    "start_time": "2022-09-20T07:19:06.205Z"
   },
   {
    "duration": 82,
    "start_time": "2022-09-20T07:19:06.222Z"
   },
   {
    "duration": 16,
    "start_time": "2022-09-20T07:19:06.306Z"
   },
   {
    "duration": 7,
    "start_time": "2022-09-20T07:19:06.324Z"
   },
   {
    "duration": 36,
    "start_time": "2022-09-20T07:19:06.341Z"
   },
   {
    "duration": 36,
    "start_time": "2022-09-20T07:19:06.379Z"
   },
   {
    "duration": 25,
    "start_time": "2022-09-20T07:19:06.417Z"
   },
   {
    "duration": 6,
    "start_time": "2022-09-20T07:19:06.443Z"
   },
   {
    "duration": 22,
    "start_time": "2022-09-20T07:19:06.450Z"
   },
   {
    "duration": 20,
    "start_time": "2022-09-20T07:19:06.474Z"
   },
   {
    "duration": 10,
    "start_time": "2022-09-20T07:19:06.496Z"
   },
   {
    "duration": 13,
    "start_time": "2022-09-20T07:19:06.508Z"
   },
   {
    "duration": 22,
    "start_time": "2022-09-20T07:19:06.523Z"
   },
   {
    "duration": 17,
    "start_time": "2022-09-20T07:19:36.273Z"
   },
   {
    "duration": 16,
    "start_time": "2022-09-20T07:21:17.548Z"
   },
   {
    "duration": 58,
    "start_time": "2022-09-20T07:45:10.425Z"
   },
   {
    "duration": 187,
    "start_time": "2022-09-20T07:45:36.681Z"
   },
   {
    "duration": 36,
    "start_time": "2022-09-20T07:45:47.846Z"
   },
   {
    "duration": 22,
    "start_time": "2022-09-20T07:46:30.228Z"
   },
   {
    "duration": 71,
    "start_time": "2022-09-20T07:46:40.528Z"
   },
   {
    "duration": 77,
    "start_time": "2022-09-20T07:46:50.471Z"
   },
   {
    "duration": 23,
    "start_time": "2022-09-20T07:47:11.320Z"
   },
   {
    "duration": 180,
    "start_time": "2022-09-20T08:30:20.253Z"
   },
   {
    "duration": 129,
    "start_time": "2022-09-20T08:30:43.368Z"
   },
   {
    "duration": 56,
    "start_time": "2022-09-20T08:31:15.541Z"
   },
   {
    "duration": 126,
    "start_time": "2022-09-20T08:31:33.728Z"
   },
   {
    "duration": 89,
    "start_time": "2022-09-20T08:32:25.977Z"
   },
   {
    "duration": 113,
    "start_time": "2022-09-20T08:33:45.062Z"
   },
   {
    "duration": 20,
    "start_time": "2022-09-20T08:35:29.079Z"
   },
   {
    "duration": 17,
    "start_time": "2022-09-20T08:35:52.781Z"
   },
   {
    "duration": 16,
    "start_time": "2022-09-20T08:36:29.750Z"
   },
   {
    "duration": 17,
    "start_time": "2022-09-20T08:36:51.709Z"
   },
   {
    "duration": 21,
    "start_time": "2022-09-20T09:54:13.187Z"
   },
   {
    "duration": 17,
    "start_time": "2022-09-20T09:54:50.517Z"
   },
   {
    "duration": 16,
    "start_time": "2022-09-20T09:54:57.395Z"
   },
   {
    "duration": 72,
    "start_time": "2022-09-20T09:57:38.904Z"
   },
   {
    "duration": 15,
    "start_time": "2022-09-20T09:57:39.004Z"
   },
   {
    "duration": 15,
    "start_time": "2022-09-20T09:57:39.021Z"
   },
   {
    "duration": 15,
    "start_time": "2022-09-20T09:57:39.037Z"
   },
   {
    "duration": 40,
    "start_time": "2022-09-20T09:57:39.054Z"
   },
   {
    "duration": 3,
    "start_time": "2022-09-20T09:57:39.096Z"
   },
   {
    "duration": 11,
    "start_time": "2022-09-20T09:57:39.100Z"
   },
   {
    "duration": 3,
    "start_time": "2022-09-20T09:57:39.113Z"
   },
   {
    "duration": 18,
    "start_time": "2022-09-20T09:57:39.118Z"
   },
   {
    "duration": 6,
    "start_time": "2022-09-20T09:57:39.137Z"
   },
   {
    "duration": 40,
    "start_time": "2022-09-20T09:57:39.145Z"
   },
   {
    "duration": 10,
    "start_time": "2022-09-20T09:57:39.186Z"
   },
   {
    "duration": 3,
    "start_time": "2022-09-20T09:57:39.198Z"
   },
   {
    "duration": 51,
    "start_time": "2022-09-20T09:57:39.203Z"
   },
   {
    "duration": 23,
    "start_time": "2022-09-20T09:57:39.256Z"
   },
   {
    "duration": 17,
    "start_time": "2022-09-20T09:57:39.281Z"
   },
   {
    "duration": 4,
    "start_time": "2022-09-20T09:57:39.299Z"
   },
   {
    "duration": 20,
    "start_time": "2022-09-20T09:57:39.304Z"
   },
   {
    "duration": 10,
    "start_time": "2022-09-20T09:57:39.325Z"
   },
   {
    "duration": 3,
    "start_time": "2022-09-20T09:57:39.338Z"
   },
   {
    "duration": 13,
    "start_time": "2022-09-20T09:57:39.343Z"
   },
   {
    "duration": 14,
    "start_time": "2022-09-20T09:57:39.358Z"
   },
   {
    "duration": 5,
    "start_time": "2022-09-20T09:57:39.373Z"
   },
   {
    "duration": 16,
    "start_time": "2022-09-20T09:57:39.380Z"
   },
   {
    "duration": 47,
    "start_time": "2022-09-20T09:57:39.398Z"
   },
   {
    "duration": 1019,
    "start_time": "2022-09-20T09:57:39.447Z"
   },
   {
    "duration": 17,
    "start_time": "2022-09-20T09:57:44.241Z"
   },
   {
    "duration": 22,
    "start_time": "2022-09-20T09:59:41.311Z"
   },
   {
    "duration": 17,
    "start_time": "2022-09-20T09:59:49.261Z"
   },
   {
    "duration": 17,
    "start_time": "2022-09-20T10:00:01.509Z"
   },
   {
    "duration": 82,
    "start_time": "2023-03-28T13:45:16.897Z"
   },
   {
    "duration": 557,
    "start_time": "2024-04-30T16:51:22.663Z"
   },
   {
    "duration": 20,
    "start_time": "2024-04-30T16:51:23.222Z"
   },
   {
    "duration": 23,
    "start_time": "2024-04-30T16:51:23.243Z"
   },
   {
    "duration": 11,
    "start_time": "2024-04-30T16:51:23.269Z"
   },
   {
    "duration": 35,
    "start_time": "2024-04-30T16:51:23.281Z"
   },
   {
    "duration": 3,
    "start_time": "2024-04-30T16:51:23.318Z"
   },
   {
    "duration": 7,
    "start_time": "2024-04-30T16:51:23.322Z"
   },
   {
    "duration": 4,
    "start_time": "2024-04-30T16:51:23.330Z"
   },
   {
    "duration": 7,
    "start_time": "2024-04-30T16:51:23.335Z"
   },
   {
    "duration": 3,
    "start_time": "2024-04-30T16:51:23.344Z"
   },
   {
    "duration": 28,
    "start_time": "2024-04-30T16:51:23.348Z"
   },
   {
    "duration": 38,
    "start_time": "2024-04-30T16:51:23.377Z"
   },
   {
    "duration": 3,
    "start_time": "2024-04-30T16:51:23.419Z"
   },
   {
    "duration": 11,
    "start_time": "2024-04-30T16:51:23.423Z"
   },
   {
    "duration": 18,
    "start_time": "2024-04-30T16:51:23.435Z"
   },
   {
    "duration": 15,
    "start_time": "2024-04-30T16:51:23.454Z"
   },
   {
    "duration": 3,
    "start_time": "2024-04-30T16:51:23.470Z"
   },
   {
    "duration": 37,
    "start_time": "2024-04-30T16:51:23.474Z"
   },
   {
    "duration": 5,
    "start_time": "2024-04-30T16:51:23.512Z"
   },
   {
    "duration": 10,
    "start_time": "2024-04-30T16:51:23.518Z"
   },
   {
    "duration": 24,
    "start_time": "2024-04-30T16:51:23.529Z"
   },
   {
    "duration": 11,
    "start_time": "2024-04-30T16:51:23.554Z"
   },
   {
    "duration": 6,
    "start_time": "2024-04-30T16:51:23.566Z"
   },
   {
    "duration": 14,
    "start_time": "2024-04-30T16:51:23.574Z"
   },
   {
    "duration": 26,
    "start_time": "2024-04-30T16:51:23.590Z"
   },
   {
    "duration": 925,
    "start_time": "2024-04-30T16:51:23.617Z"
   },
   {
    "duration": 17,
    "start_time": "2024-04-30T16:51:24.543Z"
   },
   {
    "duration": 412,
    "start_time": "2024-07-02T14:09:09.260Z"
   },
   {
    "duration": 205,
    "start_time": "2024-07-02T14:09:36.150Z"
   },
   {
    "duration": 36,
    "start_time": "2024-07-02T14:12:43.999Z"
   },
   {
    "duration": 37,
    "start_time": "2024-07-02T14:32:02.876Z"
   },
   {
    "duration": 4,
    "start_time": "2024-07-02T14:34:31.424Z"
   },
   {
    "duration": 14,
    "start_time": "2024-07-02T14:34:32.357Z"
   },
   {
    "duration": 4,
    "start_time": "2024-07-02T14:35:56.802Z"
   },
   {
    "duration": 8,
    "start_time": "2024-07-02T14:35:57.837Z"
   }
  ],
  "celltoolbar": "Необработанный формат ячейки",
  "colab": {
   "name": "dpp_template_part2.ipynb",
   "provenance": []
  },
  "kernelspec": {
   "display_name": "Python 3 (ipykernel)",
   "language": "python",
   "name": "python3"
  },
  "language_info": {
   "codemirror_mode": {
    "name": "ipython",
    "version": 3
   },
   "file_extension": ".py",
   "mimetype": "text/x-python",
   "name": "python",
   "nbconvert_exporter": "python",
   "pygments_lexer": "ipython3",
   "version": "3.9.5"
  },
  "toc": {
   "base_numbering": 1,
   "nav_menu": {},
   "number_sections": true,
   "sideBar": true,
   "skip_h1_title": true,
   "title_cell": "Содержание",
   "title_sidebar": "Contents",
   "toc_cell": true,
   "toc_position": {},
   "toc_section_display": true,
   "toc_window_display": true
  }
 },
 "nbformat": 4,
 "nbformat_minor": 5
}
