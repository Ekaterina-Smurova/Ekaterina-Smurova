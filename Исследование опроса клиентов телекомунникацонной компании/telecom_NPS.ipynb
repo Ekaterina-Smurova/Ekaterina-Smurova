{
 "cells": [
  {
   "cell_type": "markdown",
   "id": "691d2ff0",
   "metadata": {},
   "source": [
    "# Исследование опроса клиентов телекомунникацонной компании"
   ]
  },
  {
   "cell_type": "markdown",
   "id": "147b3317",
   "metadata": {},
   "source": [
    "## Выгрузка данных"
   ]
  },
  {
   "cell_type": "code",
   "execution_count": 1,
   "id": "fc7efa54",
   "metadata": {},
   "outputs": [],
   "source": [
    "import os\n",
    "import pandas as pd\n",
    "import numpy as np\n",
    "\n",
    "from sqlalchemy import create_engine"
   ]
  },
  {
   "cell_type": "code",
   "execution_count": 2,
   "id": "0017f8e7",
   "metadata": {},
   "outputs": [],
   "source": [
    "path_to_db_local = 'telecomm_csi.db'\n",
    "path_to_db_platform = '/datasets/telecomm_csi.db'\n",
    "path_to_db = None\n",
    "\n",
    "if os.path.exists(path_to_db_local):\n",
    "    path_to_db = path_to_db_local\n",
    "elif os.path.exists(path_to_db_platform):\n",
    "    path_to_db = path_to_db_platform\n",
    "else:\n",
    "    raise Exception('Файл с базой данных SQLite не найден!')\n",
    "\n",
    "if path_to_db:\n",
    "    engine = create_engine(f'sqlite:///{path_to_db}', echo=False)"
   ]
  },
  {
   "cell_type": "code",
   "execution_count": 3,
   "id": "84ebad43",
   "metadata": {},
   "outputs": [],
   "source": [
    "query = \"\"\"\n",
    "           SELECT u.user_id,\n",
    "                u.lt_day,\n",
    "                CASE \n",
    "                    WHEN lt_day <=365 THEN 'новый'\n",
    "                    ELSE 'старый'\n",
    "                END AS is_new,\n",
    "                u.age,\n",
    "                CASE\n",
    "                    WHEN gender_segment = 0 THEN 'мужчина'\n",
    "                    WHEN gender_segment = 1 THEN 'женщина'\n",
    "                    ELSE 'неизвестно'\n",
    "                END AS gender_segment,\n",
    "                u.os_name,\n",
    "                u.cpe_type_name,\n",
    "                l.country,\n",
    "                l.city,\n",
    "                SUBSTRING(age.title, 4, 5) AS age_segment,\n",
    "                ts.title AS traffic_segment,\n",
    "                ls.title As lifetime_segment,\n",
    "                u.nps_score,\n",
    "                CASE\n",
    "                    WHEN nps_score >= 9 THEN 'cторонники'\n",
    "                    WHEN nps_score >= 7 AND nps_score <=8 THEN 'нейтралы'\n",
    "                    ELSE 'критики'\n",
    "                    END AS nps_group\n",
    "           FROM user As u\n",
    "           JOIN location AS l ON u.location_id = l.location_id\n",
    "           JOIN age_segment AS age ON u.age_gr_id = age.age_gr_id\n",
    "           JOIN traffic_segment AS ts ON u.tr_gr_id = ts.tr_gr_id\n",
    "           JOIN lifetime_segment AS ls ON u.lt_gr_id = ls.lt_gr_id\n",
    "           WHERE u.lt_day > 0;\n",
    "        \"\"\""
   ]
  },
  {
   "cell_type": "code",
   "execution_count": 4,
   "id": "3965faf2",
   "metadata": {},
   "outputs": [
    {
     "data": {
      "text/html": [
       "<div>\n",
       "<style scoped>\n",
       "    .dataframe tbody tr th:only-of-type {\n",
       "        vertical-align: middle;\n",
       "    }\n",
       "\n",
       "    .dataframe tbody tr th {\n",
       "        vertical-align: top;\n",
       "    }\n",
       "\n",
       "    .dataframe thead th {\n",
       "        text-align: right;\n",
       "    }\n",
       "</style>\n",
       "<table border=\"1\" class=\"dataframe\">\n",
       "  <thead>\n",
       "    <tr style=\"text-align: right;\">\n",
       "      <th></th>\n",
       "      <th>user_id</th>\n",
       "      <th>lt_day</th>\n",
       "      <th>is_new</th>\n",
       "      <th>age</th>\n",
       "      <th>gender_segment</th>\n",
       "      <th>os_name</th>\n",
       "      <th>cpe_type_name</th>\n",
       "      <th>country</th>\n",
       "      <th>city</th>\n",
       "      <th>age_segment</th>\n",
       "      <th>traffic_segment</th>\n",
       "      <th>lifetime_segment</th>\n",
       "      <th>nps_score</th>\n",
       "      <th>nps_group</th>\n",
       "    </tr>\n",
       "  </thead>\n",
       "  <tbody>\n",
       "    <tr>\n",
       "      <th>0</th>\n",
       "      <td>A001A2</td>\n",
       "      <td>2320</td>\n",
       "      <td>старый</td>\n",
       "      <td>45.0</td>\n",
       "      <td>женщина</td>\n",
       "      <td>ANDROID</td>\n",
       "      <td>SMARTPHONE</td>\n",
       "      <td>Россия</td>\n",
       "      <td>Уфа</td>\n",
       "      <td>45-54</td>\n",
       "      <td>04 1-5</td>\n",
       "      <td>08 36+</td>\n",
       "      <td>10</td>\n",
       "      <td>cторонники</td>\n",
       "    </tr>\n",
       "    <tr>\n",
       "      <th>1</th>\n",
       "      <td>A001WF</td>\n",
       "      <td>2344</td>\n",
       "      <td>старый</td>\n",
       "      <td>53.0</td>\n",
       "      <td>мужчина</td>\n",
       "      <td>ANDROID</td>\n",
       "      <td>SMARTPHONE</td>\n",
       "      <td>Россия</td>\n",
       "      <td>Киров</td>\n",
       "      <td>45-54</td>\n",
       "      <td>04 1-5</td>\n",
       "      <td>08 36+</td>\n",
       "      <td>10</td>\n",
       "      <td>cторонники</td>\n",
       "    </tr>\n",
       "    <tr>\n",
       "      <th>2</th>\n",
       "      <td>A003Q7</td>\n",
       "      <td>467</td>\n",
       "      <td>старый</td>\n",
       "      <td>57.0</td>\n",
       "      <td>мужчина</td>\n",
       "      <td>ANDROID</td>\n",
       "      <td>SMARTPHONE</td>\n",
       "      <td>Россия</td>\n",
       "      <td>Москва</td>\n",
       "      <td>55-64</td>\n",
       "      <td>08 20-25</td>\n",
       "      <td>06 13-24</td>\n",
       "      <td>10</td>\n",
       "      <td>cторонники</td>\n",
       "    </tr>\n",
       "  </tbody>\n",
       "</table>\n",
       "</div>"
      ],
      "text/plain": [
       "  user_id  lt_day  is_new   age gender_segment  os_name cpe_type_name country  \\\n",
       "0  A001A2    2320  старый  45.0        женщина  ANDROID    SMARTPHONE  Россия   \n",
       "1  A001WF    2344  старый  53.0        мужчина  ANDROID    SMARTPHONE  Россия   \n",
       "2  A003Q7     467  старый  57.0        мужчина  ANDROID    SMARTPHONE  Россия   \n",
       "\n",
       "     city age_segment traffic_segment lifetime_segment  nps_score   nps_group  \n",
       "0     Уфа       45-54          04 1-5           08 36+         10  cторонники  \n",
       "1   Киров       45-54          04 1-5           08 36+         10  cторонники  \n",
       "2  Москва       55-64        08 20-25         06 13-24         10  cторонники  "
      ]
     },
     "execution_count": 4,
     "metadata": {},
     "output_type": "execute_result"
    }
   ],
   "source": [
    "df = pd.read_sql(query, engine)\n",
    "df.head(3)"
   ]
  },
  {
   "cell_type": "markdown",
   "id": "951d6efd",
   "metadata": {},
   "source": [
    "Сохраняем данные в csv формате"
   ]
  },
  {
   "cell_type": "code",
   "execution_count": 5,
   "id": "9db04858",
   "metadata": {},
   "outputs": [],
   "source": [
    "df.to_csv('telecomm_csi_tableau.csv', index=False)"
   ]
  },
  {
   "cell_type": "markdown",
   "id": "46cb2ebb",
   "metadata": {},
   "source": [
    "[Ссылка на дашборд](https://public.tableau.com/views/NPS_16762041189940/Dashboard1?:language=en-US&:display_count=n&:origin=viz_share_link)"
   ]
  },
  {
   "cell_type": "markdown",
   "id": "b9b53448",
   "metadata": {},
   "source": [
    "[Ссылка на презентацию](https://drive.google.com/file/d/1tcmPJ-6c5Vuf3bh_IE6IDfV5xcva4VYZ/view?usp=sharing)"
   ]
  }
 ],
 "metadata": {
  "ExecuteTimeLog": [
   {
    "duration": 494,
    "start_time": "2023-02-11T17:12:41.418Z"
   },
   {
    "duration": 108,
    "start_time": "2023-02-11T17:12:41.914Z"
   },
   {
    "duration": 3,
    "start_time": "2023-02-11T17:12:42.025Z"
   },
   {
    "duration": 6246,
    "start_time": "2023-02-11T17:12:42.029Z"
   },
   {
    "duration": 5052,
    "start_time": "2023-02-11T17:12:48.276Z"
   },
   {
    "duration": 480,
    "start_time": "2023-02-12T06:21:08.264Z"
   },
   {
    "duration": 9,
    "start_time": "2023-02-12T06:21:08.746Z"
   },
   {
    "duration": 4,
    "start_time": "2023-02-12T06:21:08.757Z"
   },
   {
    "duration": 480,
    "start_time": "2023-02-12T06:21:08.764Z"
   },
   {
    "duration": 0,
    "start_time": "2023-02-12T06:21:09.246Z"
   },
   {
    "duration": 503,
    "start_time": "2023-02-12T06:22:45.075Z"
   },
   {
    "duration": 83,
    "start_time": "2023-02-12T06:22:45.580Z"
   },
   {
    "duration": 3,
    "start_time": "2023-02-12T06:22:45.665Z"
   },
   {
    "duration": 5653,
    "start_time": "2023-02-12T06:22:45.670Z"
   },
   {
    "duration": 5573,
    "start_time": "2023-02-12T06:22:51.324Z"
   },
   {
    "duration": 522,
    "start_time": "2023-02-13T04:29:11.292Z"
   },
   {
    "duration": 74,
    "start_time": "2023-02-13T04:29:11.816Z"
   },
   {
    "duration": 4,
    "start_time": "2023-02-13T04:29:11.891Z"
   },
   {
    "duration": 6512,
    "start_time": "2023-02-13T04:29:11.896Z"
   },
   {
    "duration": 5441,
    "start_time": "2023-02-13T04:29:18.410Z"
   }
  ],
  "kernelspec": {
   "display_name": "Python 3 (ipykernel)",
   "language": "python",
   "name": "python3"
  },
  "language_info": {
   "codemirror_mode": {
    "name": "ipython",
    "version": 3
   },
   "file_extension": ".py",
   "mimetype": "text/x-python",
   "name": "python",
   "nbconvert_exporter": "python",
   "pygments_lexer": "ipython3",
   "version": "3.9.5"
  },
  "toc": {
   "base_numbering": 1,
   "nav_menu": {},
   "number_sections": true,
   "sideBar": true,
   "skip_h1_title": true,
   "title_cell": "Table of Contents",
   "title_sidebar": "Contents",
   "toc_cell": false,
   "toc_position": {},
   "toc_section_display": true,
   "toc_window_display": false
  }
 },
 "nbformat": 4,
 "nbformat_minor": 5
}
