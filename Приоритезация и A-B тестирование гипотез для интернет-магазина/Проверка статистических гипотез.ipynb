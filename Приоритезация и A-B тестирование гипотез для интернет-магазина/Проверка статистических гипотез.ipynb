{
 "cells": [
  {
   "cell_type": "markdown",
   "metadata": {
    "toc": true
   },
   "source": [
    "<h1>Содержание<span class=\"tocSkip\"></span></h1>\n",
    "<div class=\"toc\"><ul class=\"toc-item\"><li><span><a href=\"#Обзор\" data-toc-modified-id=\"Обзор-1\"><span class=\"toc-item-num\">1&nbsp;&nbsp;</span>Обзор</a></span><ul class=\"toc-item\"><li><span><a href=\"#Обзор-таблицы-hypothesis---гипотезы:\" data-toc-modified-id=\"Обзор-таблицы-hypothesis---гипотезы:-1.1\"><span class=\"toc-item-num\">1.1&nbsp;&nbsp;</span>Обзор таблицы <em>hypothesis</em> - гипотезы:</a></span></li><li><span><a href=\"#Обзор-таблицы-orders---заказы:\" data-toc-modified-id=\"Обзор-таблицы-orders---заказы:-1.2\"><span class=\"toc-item-num\">1.2&nbsp;&nbsp;</span>Обзор таблицы <em>orders</em> - заказы:</a></span></li><li><span><a href=\"#Обзор-таблицы-visitors---посетители:\" data-toc-modified-id=\"Обзор-таблицы-visitors---посетители:-1.3\"><span class=\"toc-item-num\">1.3&nbsp;&nbsp;</span>Обзор таблицы <em>visitors</em> - посетители:</a></span></li></ul></li><li><span><a href=\"#Предобработка\" data-toc-modified-id=\"Предобработка-2\"><span class=\"toc-item-num\">2&nbsp;&nbsp;</span>Предобработка</a></span><ul class=\"toc-item\"><li><span><a href=\"#Приведение-названий-столбцов-к-стандартному-виду\" data-toc-modified-id=\"Приведение-названий-столбцов-к-стандартному-виду-2.1\"><span class=\"toc-item-num\">2.1&nbsp;&nbsp;</span>Приведение названий столбцов к стандартному виду</a></span></li><li><span><a href=\"#Приведение-дат-к-нужному-типу\" data-toc-modified-id=\"Приведение-дат-к-нужному-типу-2.2\"><span class=\"toc-item-num\">2.2&nbsp;&nbsp;</span>Приведение дат к нужному типу</a></span></li><li><span><a href=\"#Обзор-значений-столбцов\" data-toc-modified-id=\"Обзор-значений-столбцов-2.3\"><span class=\"toc-item-num\">2.3&nbsp;&nbsp;</span>Обзор значений столбцов</a></span></li><li><span><a href=\"#Выбивающиеся-значения\" data-toc-modified-id=\"Выбивающиеся-значения-2.4\"><span class=\"toc-item-num\">2.4&nbsp;&nbsp;</span>Выбивающиеся значения</a></span></li></ul></li><li><span><a href=\"#Приоритизация-гипотез\" data-toc-modified-id=\"Приоритизация-гипотез-3\"><span class=\"toc-item-num\">3&nbsp;&nbsp;</span>Приоритизация гипотез</a></span></li><li><span><a href=\"#Анализ-А/В-теста\" data-toc-modified-id=\"Анализ-А/В-теста-4\"><span class=\"toc-item-num\">4&nbsp;&nbsp;</span>Анализ А/В-теста</a></span><ul class=\"toc-item\"><li><span><a href=\"#График-кумулятивной-выручки-по-группам\" data-toc-modified-id=\"График-кумулятивной-выручки-по-группам-4.1\"><span class=\"toc-item-num\">4.1&nbsp;&nbsp;</span>График кумулятивной выручки по группам</a></span></li><li><span><a href=\"#График-кумулятивного-среднего-чека-по-группам\" data-toc-modified-id=\"График-кумулятивного-среднего-чека-по-группам-4.2\"><span class=\"toc-item-num\">4.2&nbsp;&nbsp;</span>График кумулятивного среднего чека по группам</a></span></li><li><span><a href=\"#График-относительного-изменения-кумулятивного-среднего-чека-группы-B-к-группе-A\" data-toc-modified-id=\"График-относительного-изменения-кумулятивного-среднего-чека-группы-B-к-группе-A-4.3\"><span class=\"toc-item-num\">4.3&nbsp;&nbsp;</span>График относительного изменения кумулятивного среднего чека группы B к группе A</a></span></li><li><span><a href=\"#График-кумулятивного-среднего-количества-заказов-на-посетителя-по-группам\" data-toc-modified-id=\"График-кумулятивного-среднего-количества-заказов-на-посетителя-по-группам-4.4\"><span class=\"toc-item-num\">4.4&nbsp;&nbsp;</span>График кумулятивного среднего количества заказов на посетителя по группам</a></span></li><li><span><a href=\"#График-относительного-изменения-кумулятивного-среднего-количества-заказов-на-посетителя-группы-B-к-группе-A\" data-toc-modified-id=\"График-относительного-изменения-кумулятивного-среднего-количества-заказов-на-посетителя-группы-B-к-группе-A-4.5\"><span class=\"toc-item-num\">4.5&nbsp;&nbsp;</span>График относительного изменения кумулятивного среднего количества заказов на посетителя группы B к группе A</a></span></li><li><span><a href=\"#Точечный-график-количества-заказов-по-пользователям\" data-toc-modified-id=\"Точечный-график-количества-заказов-по-пользователям-4.6\"><span class=\"toc-item-num\">4.6&nbsp;&nbsp;</span>Точечный график количества заказов по пользователям</a></span></li><li><span><a href=\"#Вычисление-аномалий-в-количестве-заказов-пользователями\" data-toc-modified-id=\"Вычисление-аномалий-в-количестве-заказов-пользователями-4.7\"><span class=\"toc-item-num\">4.7&nbsp;&nbsp;</span>Вычисление аномалий в количестве заказов пользователями</a></span></li><li><span><a href=\"#Точечный-график-стоимостей-заказов\" data-toc-modified-id=\"Точечный-график-стоимостей-заказов-4.8\"><span class=\"toc-item-num\">4.8&nbsp;&nbsp;</span>Точечный график стоимостей заказов</a></span></li><li><span><a href=\"#Вычисление-аномалий-в-стоимости-заказов-пользователями\" data-toc-modified-id=\"Вычисление-аномалий-в-стоимости-заказов-пользователями-4.9\"><span class=\"toc-item-num\">4.9&nbsp;&nbsp;</span>Вычисление аномалий в стоимости заказов пользователями</a></span></li><li><span><a href=\"#Статистическая-значимость-различий-в-среднем-количестве-заказов-на-посетителя-между-группами-по-«сырым»-данным.\" data-toc-modified-id=\"Статистическая-значимость-различий-в-среднем-количестве-заказов-на-посетителя-между-группами-по-«сырым»-данным.-4.10\"><span class=\"toc-item-num\">4.10&nbsp;&nbsp;</span>Статистическая значимость различий в среднем количестве заказов на посетителя между группами по «сырым» данным.</a></span></li><li><span><a href=\"#Статистическая-значимость-различий-в-среднем-чеке-заказа-между-группами-по-«сырым»-данным\" data-toc-modified-id=\"Статистическая-значимость-различий-в-среднем-чеке-заказа-между-группами-по-«сырым»-данным-4.11\"><span class=\"toc-item-num\">4.11&nbsp;&nbsp;</span>Статистическая значимость различий в среднем чеке заказа между группами по «сырым» данным</a></span></li><li><span><a href=\"#Статистическая-значимость-различий-в-среднем-количестве-заказов-на-посетителя-между-группами-по-«очищенным»-данным\" data-toc-modified-id=\"Статистическая-значимость-различий-в-среднем-количестве-заказов-на-посетителя-между-группами-по-«очищенным»-данным-4.12\"><span class=\"toc-item-num\">4.12&nbsp;&nbsp;</span>Статистическая значимость различий в среднем количестве заказов на посетителя между группами по «очищенным» данным</a></span></li><li><span><a href=\"#Статистическая-значимость-различий-в-среднем-чеке-заказа-между-группами-по-«очищенным»-даннымa\" data-toc-modified-id=\"Статистическая-значимость-различий-в-среднем-чеке-заказа-между-группами-по-«очищенным»-даннымa-4.13\"><span class=\"toc-item-num\">4.13&nbsp;&nbsp;</span>Статистическая значимость различий в среднем чеке заказа между группами по «очищенным» даннымa</a></span></li></ul></li><li><span><a href=\"#Вывод\" data-toc-modified-id=\"Вывод-5\"><span class=\"toc-item-num\">5&nbsp;&nbsp;</span>Вывод</a></span></li></ul></div>"
   ]
  },
  {
   "cell_type": "markdown",
   "metadata": {},
   "source": [
    "# Проверка статистических гипотез"
   ]
  },
  {
   "cell_type": "markdown",
   "metadata": {},
   "source": [
    "**Цель проекта:** провести анализ гипотез и результатов А/В теста с целью увеличения выручки.  \n",
    "**Заказчик:** интернет-магазин.  \n",
    "\n",
    "**Задачи:** приоритизировать гипотезы, запустить A/B-тест и проанализировать результаты."
   ]
  },
  {
   "cell_type": "markdown",
   "metadata": {},
   "source": [
    "**Предоставленные данные для анализа:** \n",
    "* Данные с гипотезами:  \n",
    "`Hypothesis` — краткое описание гипотезы;  \n",
    "`Reach` — охват пользователей по 10-балльной шкале;  \n",
    "`Impact` — влияние на пользователей по 10-балльной шкале;  \n",
    "`Confidence` — уверенность в гипотезе по 10-балльной шкале;  \n",
    "`Efforts` — затраты ресурсов на проверку гипотезы по 10-балльной шкале. Чем больше значение Efforts, тем дороже проверка гипотезы.  \n",
    "  \n",
    "  \n",
    "* Данные с заказами:  \n",
    "`transactionId` — идентификатор заказа;  \n",
    "`visitorId` — идентификатор пользователя, совершившего заказ;  \n",
    "`date` — дата, когда был совершён заказ;  \n",
    "`revenue` — выручка заказа;  \n",
    "`group` — группа A/B-теста, в которую попал заказ.  \n",
    "\n",
    "\n",
    "* Данные с посещениями:\n",
    "`date` — дата;  \n",
    "`group` — группа A/B-теста;  \n",
    "`visitors` — количество пользователей в указанную дату в указанной группе A/B-теста"
   ]
  },
  {
   "cell_type": "markdown",
   "metadata": {},
   "source": [
    "Исследование пройдет в несколько этапов:\n",
    "\n",
    "1 обзор данных  \n",
    "2 предобработка  \n",
    "3 приоритизация гипотез методами ICE и RICE  \n",
    "4 анализ А/В-теста  \n",
    "изучение следующих метрик: \n",
    "* кумулятивной выручки по группам, \n",
    "* кумулятивного среднего чека по группам,\n",
    "* кумулятивного среднего количества заказов на посетителя по группам, \n",
    "* статистической значимости различий в среднем количестве заказов на посетителя между группами по «сырым» и «очищенным» данным, \n",
    "* статистической значимости различий в среднем чеке заказа между группами по «сырым» и «очищенным» данным"
   ]
  },
  {
   "cell_type": "markdown",
   "metadata": {},
   "source": [
    "## Обзор"
   ]
  },
  {
   "cell_type": "code",
   "execution_count": 90,
   "metadata": {},
   "outputs": [],
   "source": [
    "# импортируем нужные библиотеки\n",
    "import pandas as pd\n",
    "import datetime as dt\n",
    "from scipy import stats as st\n",
    "import numpy as np\n",
    "import math as mth\n",
    "import matplotlib.pyplot as plt"
   ]
  },
  {
   "cell_type": "markdown",
   "metadata": {},
   "source": [
    "### Обзор таблицы *hypothesis* - гипотезы:"
   ]
  },
  {
   "cell_type": "code",
   "execution_count": 91,
   "metadata": {},
   "outputs": [
    {
     "data": {
      "text/html": [
       "<div>\n",
       "<style scoped>\n",
       "    .dataframe tbody tr th:only-of-type {\n",
       "        vertical-align: middle;\n",
       "    }\n",
       "\n",
       "    .dataframe tbody tr th {\n",
       "        vertical-align: top;\n",
       "    }\n",
       "\n",
       "    .dataframe thead th {\n",
       "        text-align: right;\n",
       "    }\n",
       "</style>\n",
       "<table border=\"1\" class=\"dataframe\">\n",
       "  <thead>\n",
       "    <tr style=\"text-align: right;\">\n",
       "      <th></th>\n",
       "      <th>Hypothesis</th>\n",
       "      <th>Reach</th>\n",
       "      <th>Impact</th>\n",
       "      <th>Confidence</th>\n",
       "      <th>Efforts</th>\n",
       "    </tr>\n",
       "  </thead>\n",
       "  <tbody>\n",
       "    <tr>\n",
       "      <th>0</th>\n",
       "      <td>Добавить два новых канала привлечения трафика, что позволит привлекать на 30% больше пользователей</td>\n",
       "      <td>3</td>\n",
       "      <td>10</td>\n",
       "      <td>8</td>\n",
       "      <td>6</td>\n",
       "    </tr>\n",
       "    <tr>\n",
       "      <th>1</th>\n",
       "      <td>Запустить собственную службу доставки, что сократит срок доставки заказов</td>\n",
       "      <td>2</td>\n",
       "      <td>5</td>\n",
       "      <td>4</td>\n",
       "      <td>10</td>\n",
       "    </tr>\n",
       "    <tr>\n",
       "      <th>2</th>\n",
       "      <td>Добавить блоки рекомендаций товаров на сайт интернет магазина, чтобы повысить конверсию и средний чек заказа</td>\n",
       "      <td>8</td>\n",
       "      <td>3</td>\n",
       "      <td>7</td>\n",
       "      <td>3</td>\n",
       "    </tr>\n",
       "    <tr>\n",
       "      <th>3</th>\n",
       "      <td>Изменить структура категорий, что увеличит конверсию, т.к. пользователи быстрее найдут нужный товар</td>\n",
       "      <td>8</td>\n",
       "      <td>3</td>\n",
       "      <td>3</td>\n",
       "      <td>8</td>\n",
       "    </tr>\n",
       "    <tr>\n",
       "      <th>4</th>\n",
       "      <td>Изменить цвет фона главной страницы, чтобы увеличить вовлеченность пользователей</td>\n",
       "      <td>3</td>\n",
       "      <td>1</td>\n",
       "      <td>1</td>\n",
       "      <td>1</td>\n",
       "    </tr>\n",
       "    <tr>\n",
       "      <th>5</th>\n",
       "      <td>Добавить страницу отзывов клиентов о магазине, что позволит увеличить количество заказов</td>\n",
       "      <td>3</td>\n",
       "      <td>2</td>\n",
       "      <td>2</td>\n",
       "      <td>3</td>\n",
       "    </tr>\n",
       "    <tr>\n",
       "      <th>6</th>\n",
       "      <td>Показать на главной странице баннеры с актуальными акциями и распродажами, чтобы увеличить конверсию</td>\n",
       "      <td>5</td>\n",
       "      <td>3</td>\n",
       "      <td>8</td>\n",
       "      <td>3</td>\n",
       "    </tr>\n",
       "    <tr>\n",
       "      <th>7</th>\n",
       "      <td>Добавить форму подписки на все основные страницы, чтобы собрать базу клиентов для email-рассылок</td>\n",
       "      <td>10</td>\n",
       "      <td>7</td>\n",
       "      <td>8</td>\n",
       "      <td>5</td>\n",
       "    </tr>\n",
       "    <tr>\n",
       "      <th>8</th>\n",
       "      <td>Запустить акцию, дающую скидку на товар в день рождения</td>\n",
       "      <td>1</td>\n",
       "      <td>9</td>\n",
       "      <td>9</td>\n",
       "      <td>5</td>\n",
       "    </tr>\n",
       "  </tbody>\n",
       "</table>\n",
       "</div>"
      ],
      "text/plain": [
       "                                                                                                     Hypothesis  \\\n",
       "0            Добавить два новых канала привлечения трафика, что позволит привлекать на 30% больше пользователей   \n",
       "1                                     Запустить собственную службу доставки, что сократит срок доставки заказов   \n",
       "2  Добавить блоки рекомендаций товаров на сайт интернет магазина, чтобы повысить конверсию и средний чек заказа   \n",
       "3           Изменить структура категорий, что увеличит конверсию, т.к. пользователи быстрее найдут нужный товар   \n",
       "4                              Изменить цвет фона главной страницы, чтобы увеличить вовлеченность пользователей   \n",
       "5                      Добавить страницу отзывов клиентов о магазине, что позволит увеличить количество заказов   \n",
       "6          Показать на главной странице баннеры с актуальными акциями и распродажами, чтобы увеличить конверсию   \n",
       "7              Добавить форму подписки на все основные страницы, чтобы собрать базу клиентов для email-рассылок   \n",
       "8                                                       Запустить акцию, дающую скидку на товар в день рождения   \n",
       "\n",
       "   Reach  Impact  Confidence  Efforts  \n",
       "0      3      10           8        6  \n",
       "1      2       5           4       10  \n",
       "2      8       3           7        3  \n",
       "3      8       3           3        8  \n",
       "4      3       1           1        1  \n",
       "5      3       2           2        3  \n",
       "6      5       3           8        3  \n",
       "7     10       7           8        5  \n",
       "8      1       9           9        5  "
      ]
     },
     "execution_count": 91,
     "metadata": {},
     "output_type": "execute_result"
    }
   ],
   "source": [
    "data = pd.read_csv('/datasets/hypothesis.csv')\n",
    "pd.options.display.max_colwidth = 150\n",
    "data"
   ]
  },
  {
   "cell_type": "code",
   "execution_count": 92,
   "metadata": {},
   "outputs": [
    {
     "name": "stdout",
     "output_type": "stream",
     "text": [
      "<class 'pandas.core.frame.DataFrame'>\n",
      "RangeIndex: 9 entries, 0 to 8\n",
      "Data columns (total 5 columns):\n",
      " #   Column      Non-Null Count  Dtype \n",
      "---  ------      --------------  ----- \n",
      " 0   Hypothesis  9 non-null      object\n",
      " 1   Reach       9 non-null      int64 \n",
      " 2   Impact      9 non-null      int64 \n",
      " 3   Confidence  9 non-null      int64 \n",
      " 4   Efforts     9 non-null      int64 \n",
      "dtypes: int64(4), object(1)\n",
      "memory usage: 488.0+ bytes\n"
     ]
    }
   ],
   "source": [
    "data.info()"
   ]
  },
  {
   "cell_type": "markdown",
   "metadata": {},
   "source": [
    "В датасете представлена информация о 9 гипотезах по увеличению выручки интернет-магазина.\n",
    "Каждая строка содержит информацию с указанными параметрами:  \n",
    "`Reach` — охват пользователей по 10-балльной шкале;  \n",
    "`Impact` — влияние на пользователей по 10-балльной шкале;  \n",
    "`Confidence` — уверенность в гипотезе по 10-балльной шкале;  \n",
    "`Efforts` — затраты ресурсов на проверку гипотезы по 10-балльной шкале. Чем больше значение Efforts, тем дороже проверка гипотезы.  \n",
    "Названия некоторых столбцов написаны не принятым стилем.  \n",
    "Данные записаны в корректном типе, пропусков нет."
   ]
  },
  {
   "cell_type": "markdown",
   "metadata": {},
   "source": [
    "### Обзор таблицы *orders* - заказы:"
   ]
  },
  {
   "cell_type": "code",
   "execution_count": 93,
   "metadata": {},
   "outputs": [
    {
     "data": {
      "text/html": [
       "<div>\n",
       "<style scoped>\n",
       "    .dataframe tbody tr th:only-of-type {\n",
       "        vertical-align: middle;\n",
       "    }\n",
       "\n",
       "    .dataframe tbody tr th {\n",
       "        vertical-align: top;\n",
       "    }\n",
       "\n",
       "    .dataframe thead th {\n",
       "        text-align: right;\n",
       "    }\n",
       "</style>\n",
       "<table border=\"1\" class=\"dataframe\">\n",
       "  <thead>\n",
       "    <tr style=\"text-align: right;\">\n",
       "      <th></th>\n",
       "      <th>transactionId</th>\n",
       "      <th>visitorId</th>\n",
       "      <th>date</th>\n",
       "      <th>revenue</th>\n",
       "      <th>group</th>\n",
       "    </tr>\n",
       "  </thead>\n",
       "  <tbody>\n",
       "    <tr>\n",
       "      <th>0</th>\n",
       "      <td>3667963787</td>\n",
       "      <td>3312258926</td>\n",
       "      <td>2019-08-15</td>\n",
       "      <td>1650</td>\n",
       "      <td>B</td>\n",
       "    </tr>\n",
       "    <tr>\n",
       "      <th>1</th>\n",
       "      <td>2804400009</td>\n",
       "      <td>3642806036</td>\n",
       "      <td>2019-08-15</td>\n",
       "      <td>730</td>\n",
       "      <td>B</td>\n",
       "    </tr>\n",
       "    <tr>\n",
       "      <th>2</th>\n",
       "      <td>2961555356</td>\n",
       "      <td>4069496402</td>\n",
       "      <td>2019-08-15</td>\n",
       "      <td>400</td>\n",
       "      <td>A</td>\n",
       "    </tr>\n",
       "    <tr>\n",
       "      <th>3</th>\n",
       "      <td>3797467345</td>\n",
       "      <td>1196621759</td>\n",
       "      <td>2019-08-15</td>\n",
       "      <td>9759</td>\n",
       "      <td>B</td>\n",
       "    </tr>\n",
       "    <tr>\n",
       "      <th>4</th>\n",
       "      <td>2282983706</td>\n",
       "      <td>2322279887</td>\n",
       "      <td>2019-08-15</td>\n",
       "      <td>2308</td>\n",
       "      <td>B</td>\n",
       "    </tr>\n",
       "  </tbody>\n",
       "</table>\n",
       "</div>"
      ],
      "text/plain": [
       "   transactionId   visitorId        date  revenue group\n",
       "0     3667963787  3312258926  2019-08-15     1650     B\n",
       "1     2804400009  3642806036  2019-08-15      730     B\n",
       "2     2961555356  4069496402  2019-08-15      400     A\n",
       "3     3797467345  1196621759  2019-08-15     9759     B\n",
       "4     2282983706  2322279887  2019-08-15     2308     B"
      ]
     },
     "execution_count": 93,
     "metadata": {},
     "output_type": "execute_result"
    }
   ],
   "source": [
    "orders = pd.read_csv('/datasets/orders.csv')\n",
    "orders.head()"
   ]
  },
  {
   "cell_type": "code",
   "execution_count": 94,
   "metadata": {
    "scrolled": true
   },
   "outputs": [
    {
     "name": "stdout",
     "output_type": "stream",
     "text": [
      "<class 'pandas.core.frame.DataFrame'>\n",
      "RangeIndex: 1197 entries, 0 to 1196\n",
      "Data columns (total 5 columns):\n",
      " #   Column         Non-Null Count  Dtype \n",
      "---  ------         --------------  ----- \n",
      " 0   transactionId  1197 non-null   int64 \n",
      " 1   visitorId      1197 non-null   int64 \n",
      " 2   date           1197 non-null   object\n",
      " 3   revenue        1197 non-null   int64 \n",
      " 4   group          1197 non-null   object\n",
      "dtypes: int64(3), object(2)\n",
      "memory usage: 46.9+ KB\n"
     ]
    }
   ],
   "source": [
    "orders.info()"
   ]
  },
  {
   "cell_type": "markdown",
   "metadata": {},
   "source": [
    "**Проверим на дубликаты**"
   ]
  },
  {
   "cell_type": "code",
   "execution_count": 95,
   "metadata": {},
   "outputs": [
    {
     "data": {
      "text/plain": [
       "0"
      ]
     },
     "execution_count": 95,
     "metadata": {},
     "output_type": "execute_result"
    }
   ],
   "source": [
    "orders.duplicated().sum()"
   ]
  },
  {
   "cell_type": "markdown",
   "metadata": {},
   "source": [
    "В датасете представлена информация о 1197 заказах.  \n",
    "Каждая строка содержит информацию о конкретном заказе(кем и когда оформлен заказ, на какую суммму, к какой группе теста принадлежит).  \n",
    "Всего 5 столбцов.  \n",
    "Названия некоторых столбцов написаны не принятым стилем.  \n",
    "Столбцы с датами представлены в другом типе.  \n",
    "Пропусков нет.  \n",
    "Дубликатов нет."
   ]
  },
  {
   "cell_type": "markdown",
   "metadata": {},
   "source": [
    "### Обзор таблицы *visitors* - посетители:"
   ]
  },
  {
   "cell_type": "code",
   "execution_count": 96,
   "metadata": {
    "scrolled": true
   },
   "outputs": [
    {
     "data": {
      "text/html": [
       "<div>\n",
       "<style scoped>\n",
       "    .dataframe tbody tr th:only-of-type {\n",
       "        vertical-align: middle;\n",
       "    }\n",
       "\n",
       "    .dataframe tbody tr th {\n",
       "        vertical-align: top;\n",
       "    }\n",
       "\n",
       "    .dataframe thead th {\n",
       "        text-align: right;\n",
       "    }\n",
       "</style>\n",
       "<table border=\"1\" class=\"dataframe\">\n",
       "  <thead>\n",
       "    <tr style=\"text-align: right;\">\n",
       "      <th></th>\n",
       "      <th>date</th>\n",
       "      <th>group</th>\n",
       "      <th>visitors</th>\n",
       "    </tr>\n",
       "  </thead>\n",
       "  <tbody>\n",
       "    <tr>\n",
       "      <th>0</th>\n",
       "      <td>2019-08-01</td>\n",
       "      <td>A</td>\n",
       "      <td>719</td>\n",
       "    </tr>\n",
       "    <tr>\n",
       "      <th>1</th>\n",
       "      <td>2019-08-02</td>\n",
       "      <td>A</td>\n",
       "      <td>619</td>\n",
       "    </tr>\n",
       "    <tr>\n",
       "      <th>2</th>\n",
       "      <td>2019-08-03</td>\n",
       "      <td>A</td>\n",
       "      <td>507</td>\n",
       "    </tr>\n",
       "    <tr>\n",
       "      <th>3</th>\n",
       "      <td>2019-08-04</td>\n",
       "      <td>A</td>\n",
       "      <td>717</td>\n",
       "    </tr>\n",
       "    <tr>\n",
       "      <th>4</th>\n",
       "      <td>2019-08-05</td>\n",
       "      <td>A</td>\n",
       "      <td>756</td>\n",
       "    </tr>\n",
       "  </tbody>\n",
       "</table>\n",
       "</div>"
      ],
      "text/plain": [
       "         date group  visitors\n",
       "0  2019-08-01     A       719\n",
       "1  2019-08-02     A       619\n",
       "2  2019-08-03     A       507\n",
       "3  2019-08-04     A       717\n",
       "4  2019-08-05     A       756"
      ]
     },
     "execution_count": 96,
     "metadata": {},
     "output_type": "execute_result"
    }
   ],
   "source": [
    "visitors = pd.read_csv('/datasets/visitors.csv')\n",
    "visitors.head()"
   ]
  },
  {
   "cell_type": "code",
   "execution_count": 97,
   "metadata": {
    "scrolled": false
   },
   "outputs": [
    {
     "name": "stdout",
     "output_type": "stream",
     "text": [
      "<class 'pandas.core.frame.DataFrame'>\n",
      "RangeIndex: 62 entries, 0 to 61\n",
      "Data columns (total 3 columns):\n",
      " #   Column    Non-Null Count  Dtype \n",
      "---  ------    --------------  ----- \n",
      " 0   date      62 non-null     object\n",
      " 1   group     62 non-null     object\n",
      " 2   visitors  62 non-null     int64 \n",
      "dtypes: int64(1), object(2)\n",
      "memory usage: 1.6+ KB\n"
     ]
    }
   ],
   "source": [
    "visitors.info()"
   ]
  },
  {
   "cell_type": "code",
   "execution_count": 98,
   "metadata": {},
   "outputs": [
    {
     "data": {
      "text/plain": [
       "0"
      ]
     },
     "execution_count": 98,
     "metadata": {},
     "output_type": "execute_result"
    }
   ],
   "source": [
    "visitors.duplicated().sum()"
   ]
  },
  {
   "cell_type": "markdown",
   "metadata": {},
   "source": [
    "В датасете представлена информация о количестве пользователей в указанную дату в указанной группе A/B-теста (всего 62 записи).  \n",
    "Всего 3 столбцов.  \n",
    "Столбцы с датами представлены в другом типе.  \n",
    "Пропусков нет.  \n",
    "Дубликатов нет."
   ]
  },
  {
   "cell_type": "markdown",
   "metadata": {},
   "source": [
    "## Предобработка"
   ]
  },
  {
   "cell_type": "markdown",
   "metadata": {},
   "source": [
    "### Приведение названий столбцов к стандартному виду"
   ]
  },
  {
   "cell_type": "code",
   "execution_count": 99,
   "metadata": {},
   "outputs": [],
   "source": [
    "data = data.rename(columns={'Hypothesis' : 'hypothesis', 'Reach' : 'reach', 'Impact' : 'impact', 'Confidence' : 'confidence', 'Efforts' : 'efforts'})"
   ]
  },
  {
   "cell_type": "code",
   "execution_count": 100,
   "metadata": {},
   "outputs": [],
   "source": [
    "orders = orders.rename(columns={'transactionId' : 'transaction_id', 'visitorId' : 'visitor_id'})"
   ]
  },
  {
   "cell_type": "markdown",
   "metadata": {},
   "source": [
    "### Приведение дат к нужному типу"
   ]
  },
  {
   "cell_type": "code",
   "execution_count": 101,
   "metadata": {},
   "outputs": [],
   "source": [
    "orders['date'] = orders['date'].map(\n",
    "    lambda x: dt.datetime.strptime(x, '%Y-%m-%d')\n",
    ")\n"
   ]
  },
  {
   "cell_type": "code",
   "execution_count": 102,
   "metadata": {},
   "outputs": [],
   "source": [
    "visitors['date'] = visitors['date'].map(\n",
    "    lambda x: dt.datetime.strptime(x, '%Y-%m-%d')\n",
    ")"
   ]
  },
  {
   "cell_type": "markdown",
   "metadata": {},
   "source": [
    "### Обзор значений столбцов"
   ]
  },
  {
   "cell_type": "markdown",
   "metadata": {},
   "source": [
    "Посмотрим за какой период предоставлены данные"
   ]
  },
  {
   "cell_type": "code",
   "execution_count": 103,
   "metadata": {},
   "outputs": [
    {
     "data": {
      "text/plain": [
       "Timestamp('2019-08-01 00:00:00')"
      ]
     },
     "metadata": {},
     "output_type": "display_data"
    },
    {
     "data": {
      "text/plain": [
       "Timestamp('2019-08-31 00:00:00')"
      ]
     },
     "execution_count": 103,
     "metadata": {},
     "output_type": "execute_result"
    }
   ],
   "source": [
    "display(orders['date'].min())\n",
    "orders['date'].max()"
   ]
  },
  {
   "cell_type": "code",
   "execution_count": 104,
   "metadata": {},
   "outputs": [
    {
     "data": {
      "text/plain": [
       "Timestamp('2019-08-01 00:00:00')"
      ]
     },
     "metadata": {},
     "output_type": "display_data"
    },
    {
     "data": {
      "text/plain": [
       "Timestamp('2019-08-31 00:00:00')"
      ]
     },
     "execution_count": 104,
     "metadata": {},
     "output_type": "execute_result"
    }
   ],
   "source": [
    "display(visitors['date'].min())\n",
    "visitors['date'].max()"
   ]
  },
  {
   "cell_type": "markdown",
   "metadata": {},
   "source": [
    "Данные предоставлены за период с 01 августа 2019г по 31 августа 2019г.  \n",
    "И совпадают в обоих датасетах."
   ]
  },
  {
   "cell_type": "markdown",
   "metadata": {},
   "source": [
    "Посмотрим участников"
   ]
  },
  {
   "cell_type": "code",
   "execution_count": 105,
   "metadata": {},
   "outputs": [
    {
     "data": {
      "text/plain": [
       "group\n",
       "A    557\n",
       "B    640\n",
       "Name: visitor_id, dtype: int64"
      ]
     },
     "execution_count": 105,
     "metadata": {},
     "output_type": "execute_result"
    }
   ],
   "source": [
    "orders.groupby('group')['visitor_id'].count()"
   ]
  },
  {
   "cell_type": "markdown",
   "metadata": {},
   "source": [
    "Количество групп в тесте - 2.  \n",
    "Количество участников в группах разное:  \n",
    "\"А\" - 557 чел.  \n",
    "\"В\" - 640 чел."
   ]
  },
  {
   "cell_type": "markdown",
   "metadata": {},
   "source": [
    "Проверим вероятность попадания пользователей в обе группы"
   ]
  },
  {
   "cell_type": "code",
   "execution_count": 106,
   "metadata": {},
   "outputs": [
    {
     "data": {
      "text/html": [
       "<div>\n",
       "<style scoped>\n",
       "    .dataframe tbody tr th:only-of-type {\n",
       "        vertical-align: middle;\n",
       "    }\n",
       "\n",
       "    .dataframe tbody tr th {\n",
       "        vertical-align: top;\n",
       "    }\n",
       "\n",
       "    .dataframe thead th {\n",
       "        text-align: right;\n",
       "    }\n",
       "</style>\n",
       "<table border=\"1\" class=\"dataframe\">\n",
       "  <thead>\n",
       "    <tr style=\"text-align: right;\">\n",
       "      <th>group</th>\n",
       "      <th>visitor_id</th>\n",
       "      <th>A</th>\n",
       "      <th>B</th>\n",
       "    </tr>\n",
       "  </thead>\n",
       "  <tbody>\n",
       "    <tr>\n",
       "      <th>0</th>\n",
       "      <td>5114589</td>\n",
       "      <td>NaN</td>\n",
       "      <td>1.0</td>\n",
       "    </tr>\n",
       "    <tr>\n",
       "      <th>1</th>\n",
       "      <td>6958315</td>\n",
       "      <td>NaN</td>\n",
       "      <td>1.0</td>\n",
       "    </tr>\n",
       "    <tr>\n",
       "      <th>2</th>\n",
       "      <td>8300375</td>\n",
       "      <td>1.0</td>\n",
       "      <td>1.0</td>\n",
       "    </tr>\n",
       "    <tr>\n",
       "      <th>3</th>\n",
       "      <td>11685486</td>\n",
       "      <td>1.0</td>\n",
       "      <td>NaN</td>\n",
       "    </tr>\n",
       "    <tr>\n",
       "      <th>4</th>\n",
       "      <td>39475350</td>\n",
       "      <td>NaN</td>\n",
       "      <td>1.0</td>\n",
       "    </tr>\n",
       "    <tr>\n",
       "      <th>...</th>\n",
       "      <td>...</td>\n",
       "      <td>...</td>\n",
       "      <td>...</td>\n",
       "    </tr>\n",
       "    <tr>\n",
       "      <th>1026</th>\n",
       "      <td>4266935830</td>\n",
       "      <td>1.0</td>\n",
       "      <td>1.0</td>\n",
       "    </tr>\n",
       "    <tr>\n",
       "      <th>1027</th>\n",
       "      <td>4278982564</td>\n",
       "      <td>1.0</td>\n",
       "      <td>NaN</td>\n",
       "    </tr>\n",
       "    <tr>\n",
       "      <th>1028</th>\n",
       "      <td>4279090005</td>\n",
       "      <td>NaN</td>\n",
       "      <td>1.0</td>\n",
       "    </tr>\n",
       "    <tr>\n",
       "      <th>1029</th>\n",
       "      <td>4281247801</td>\n",
       "      <td>NaN</td>\n",
       "      <td>1.0</td>\n",
       "    </tr>\n",
       "    <tr>\n",
       "      <th>1030</th>\n",
       "      <td>4283872382</td>\n",
       "      <td>NaN</td>\n",
       "      <td>1.0</td>\n",
       "    </tr>\n",
       "  </tbody>\n",
       "</table>\n",
       "<p>1031 rows × 3 columns</p>\n",
       "</div>"
      ],
      "text/plain": [
       "group  visitor_id    A    B\n",
       "0         5114589  NaN  1.0\n",
       "1         6958315  NaN  1.0\n",
       "2         8300375  1.0  1.0\n",
       "3        11685486  1.0  NaN\n",
       "4        39475350  NaN  1.0\n",
       "...           ...  ...  ...\n",
       "1026   4266935830  1.0  1.0\n",
       "1027   4278982564  1.0  NaN\n",
       "1028   4279090005  NaN  1.0\n",
       "1029   4281247801  NaN  1.0\n",
       "1030   4283872382  NaN  1.0\n",
       "\n",
       "[1031 rows x 3 columns]"
      ]
     },
     "execution_count": 106,
     "metadata": {},
     "output_type": "execute_result"
    }
   ],
   "source": [
    "orders_table = orders.pivot_table(index='visitor_id', columns='group', values='transaction_id', aggfunc = 'count').reset_index()\n",
    "orders_table"
   ]
  },
  {
   "cell_type": "code",
   "execution_count": 107,
   "metadata": {},
   "outputs": [
    {
     "data": {
      "text/plain": [
       "group\n",
       "visitor_id    35\n",
       "A             35\n",
       "B             35\n",
       "dtype: int64"
      ]
     },
     "execution_count": 107,
     "metadata": {},
     "output_type": "execute_result"
    }
   ],
   "source": [
    "orders_table.query('A == 1 and B == 1').count()"
   ]
  },
  {
   "cell_type": "markdown",
   "metadata": {},
   "source": [
    "Есть 35 человек, которые попали в обе группы.  \n",
    "Удалим их, чтобы не исказились выводы анализа."
   ]
  },
  {
   "cell_type": "code",
   "execution_count": 108,
   "metadata": {},
   "outputs": [
    {
     "data": {
      "text/plain": [
       "[8300375,\n",
       " 232979603,\n",
       " 276558944,\n",
       " 351125977,\n",
       " 471551937,\n",
       " 477780734,\n",
       " 818047933,\n",
       " 963407295,\n",
       " 1316129916,\n",
       " 1333886533,\n",
       " 1602967004,\n",
       " 1648269707,\n",
       " 1801183820,\n",
       " 1959144690,\n",
       " 2579882178,\n",
       " 2600415354,\n",
       " 2654030115,\n",
       " 2686716486,\n",
       " 2712142231,\n",
       " 2716752286,\n",
       " 2927087541,\n",
       " 2949041841,\n",
       " 2954449915,\n",
       " 3202540741,\n",
       " 3234906277,\n",
       " 3656415546,\n",
       " 3766097110,\n",
       " 3941795274,\n",
       " 3951559397,\n",
       " 3957174400,\n",
       " 3963646447,\n",
       " 3972127743,\n",
       " 4069496402,\n",
       " 4120364173,\n",
       " 4266935830]"
      ]
     },
     "execution_count": 108,
     "metadata": {},
     "output_type": "execute_result"
    }
   ],
   "source": [
    "visitor_id_duble = list(orders_table.query('A == 1 and B == 1')['visitor_id'])\n",
    "visitor_id_duble"
   ]
  },
  {
   "cell_type": "code",
   "execution_count": 109,
   "metadata": {},
   "outputs": [],
   "source": [
    "orders = orders.query('visitor_id !=@visitor_id_duble')"
   ]
  },
  {
   "cell_type": "markdown",
   "metadata": {},
   "source": [
    "Посмотрим, сколько осталось участников"
   ]
  },
  {
   "cell_type": "code",
   "execution_count": 110,
   "metadata": {},
   "outputs": [
    {
     "data": {
      "text/plain": [
       "group\n",
       "A    522\n",
       "B    605\n",
       "Name: visitor_id, dtype: int64"
      ]
     },
     "execution_count": 110,
     "metadata": {},
     "output_type": "execute_result"
    }
   ],
   "source": [
    "orders.groupby('group')['visitor_id'].count()"
   ]
  },
  {
   "cell_type": "markdown",
   "metadata": {},
   "source": [
    "Количество участников в группах:  \n",
    "\"А\" - 522 чел.  \n",
    "\"В\" - 605 чел."
   ]
  },
  {
   "cell_type": "markdown",
   "metadata": {},
   "source": [
    "### Выбивающиеся значения"
   ]
  },
  {
   "cell_type": "markdown",
   "metadata": {},
   "source": [
    "`revenue` - выручка заказа"
   ]
  },
  {
   "cell_type": "code",
   "execution_count": 111,
   "metadata": {},
   "outputs": [
    {
     "data": {
      "image/png": "[encoded data removed]",
      "text/plain": [
       "<Figure size 432x288 with 1 Axes>"
      ]
     },
     "metadata": {
      "needs_background": "light"
     },
     "output_type": "display_data"
    }
   ],
   "source": [
    "orders['revenue'].hist(bins=20)\n",
    "plt.title('Распределение выручки заказов',fontsize=12)\n",
    "plt.show()"
   ]
  },
  {
   "cell_type": "markdown",
   "metadata": {},
   "source": [
    "Большинство заказов не превышает 100тыс.руб.  Однко есть и совсем крупные заказы около 1,2 млн.руб."
   ]
  },
  {
   "cell_type": "markdown",
   "metadata": {},
   "source": [
    "`visitors` - количество пользователей в указанную дату"
   ]
  },
  {
   "cell_type": "code",
   "execution_count": 112,
   "metadata": {
    "scrolled": true
   },
   "outputs": [
    {
     "data": {
      "image/png": "[encoded data removed]",
      "text/plain": [
       "<Figure size 432x288 with 1 Axes>"
      ]
     },
     "metadata": {
      "needs_background": "light"
     },
     "output_type": "display_data"
    }
   ],
   "source": [
    "visitors['visitors'].hist(bins=20)\n",
    "plt.title('Распределение количества пользователей',fontsize=12)\n",
    "plt.show()"
   ]
  },
  {
   "cell_type": "markdown",
   "metadata": {},
   "source": [
    "Количество пользователей в день от 360 до 770 чел."
   ]
  },
  {
   "cell_type": "markdown",
   "metadata": {},
   "source": [
    "## Приоритизация гипотез"
   ]
  },
  {
   "cell_type": "markdown",
   "metadata": {},
   "source": [
    "**Приоритизация гипотез способом ICE:**"
   ]
  },
  {
   "cell_type": "code",
   "execution_count": 143,
   "metadata": {
    "scrolled": false
   },
   "outputs": [
    {
     "data": {
      "text/html": [
       "<div>\n",
       "<style scoped>\n",
       "    .dataframe tbody tr th:only-of-type {\n",
       "        vertical-align: middle;\n",
       "    }\n",
       "\n",
       "    .dataframe tbody tr th {\n",
       "        vertical-align: top;\n",
       "    }\n",
       "\n",
       "    .dataframe thead th {\n",
       "        text-align: right;\n",
       "    }\n",
       "</style>\n",
       "<table border=\"1\" class=\"dataframe\">\n",
       "  <thead>\n",
       "    <tr style=\"text-align: right;\">\n",
       "      <th></th>\n",
       "      <th>hypothesis</th>\n",
       "      <th>ICE</th>\n",
       "    </tr>\n",
       "  </thead>\n",
       "  <tbody>\n",
       "    <tr>\n",
       "      <th>8</th>\n",
       "      <td>Запустить акцию, дающую скидку на товар в день рождения</td>\n",
       "      <td>16.20</td>\n",
       "    </tr>\n",
       "    <tr>\n",
       "      <th>0</th>\n",
       "      <td>Добавить два новых канала привлечения трафика, что позволит привлекать на 30% больше пользователей</td>\n",
       "      <td>13.33</td>\n",
       "    </tr>\n",
       "    <tr>\n",
       "      <th>7</th>\n",
       "      <td>Добавить форму подписки на все основные страницы, чтобы собрать базу клиентов для email-рассылок</td>\n",
       "      <td>11.20</td>\n",
       "    </tr>\n",
       "    <tr>\n",
       "      <th>6</th>\n",
       "      <td>Показать на главной странице баннеры с актуальными акциями и распродажами, чтобы увеличить конверсию</td>\n",
       "      <td>8.00</td>\n",
       "    </tr>\n",
       "    <tr>\n",
       "      <th>2</th>\n",
       "      <td>Добавить блоки рекомендаций товаров на сайт интернет магазина, чтобы повысить конверсию и средний чек заказа</td>\n",
       "      <td>7.00</td>\n",
       "    </tr>\n",
       "    <tr>\n",
       "      <th>1</th>\n",
       "      <td>Запустить собственную службу доставки, что сократит срок доставки заказов</td>\n",
       "      <td>2.00</td>\n",
       "    </tr>\n",
       "    <tr>\n",
       "      <th>5</th>\n",
       "      <td>Добавить страницу отзывов клиентов о магазине, что позволит увеличить количество заказов</td>\n",
       "      <td>1.33</td>\n",
       "    </tr>\n",
       "    <tr>\n",
       "      <th>3</th>\n",
       "      <td>Изменить структура категорий, что увеличит конверсию, т.к. пользователи быстрее найдут нужный товар</td>\n",
       "      <td>1.12</td>\n",
       "    </tr>\n",
       "    <tr>\n",
       "      <th>4</th>\n",
       "      <td>Изменить цвет фона главной страницы, чтобы увеличить вовлеченность пользователей</td>\n",
       "      <td>1.00</td>\n",
       "    </tr>\n",
       "  </tbody>\n",
       "</table>\n",
       "</div>"
      ],
      "text/plain": [
       "                                                                                                     hypothesis  \\\n",
       "8                                                       Запустить акцию, дающую скидку на товар в день рождения   \n",
       "0            Добавить два новых канала привлечения трафика, что позволит привлекать на 30% больше пользователей   \n",
       "7              Добавить форму подписки на все основные страницы, чтобы собрать базу клиентов для email-рассылок   \n",
       "6          Показать на главной странице баннеры с актуальными акциями и распродажами, чтобы увеличить конверсию   \n",
       "2  Добавить блоки рекомендаций товаров на сайт интернет магазина, чтобы повысить конверсию и средний чек заказа   \n",
       "1                                     Запустить собственную службу доставки, что сократит срок доставки заказов   \n",
       "5                      Добавить страницу отзывов клиентов о магазине, что позволит увеличить количество заказов   \n",
       "3           Изменить структура категорий, что увеличит конверсию, т.к. пользователи быстрее найдут нужный товар   \n",
       "4                              Изменить цвет фона главной страницы, чтобы увеличить вовлеченность пользователей   \n",
       "\n",
       "     ICE  \n",
       "8  16.20  \n",
       "0  13.33  \n",
       "7  11.20  \n",
       "6   8.00  \n",
       "2   7.00  \n",
       "1   2.00  \n",
       "5   1.33  \n",
       "3   1.12  \n",
       "4   1.00  "
      ]
     },
     "execution_count": 143,
     "metadata": {},
     "output_type": "execute_result"
    }
   ],
   "source": [
    "data['ICE'] = round((data['impact'] * data['confidence']) / data['efforts'], 2)\n",
    "data[['hypothesis', 'ICE']].sort_values(by='ICE', ascending=False)"
   ]
  },
  {
   "cell_type": "markdown",
   "metadata": {},
   "source": [
    "Лидируют гипотезы:  \n",
    "8 - Запустить акцию, дающую скидку на товар в день рождения  \n",
    "0 - Добавить два новых канала привлечения трафика, что позволит привлекать на 30% больше пользователей  \n",
    "7 - Добавить форму подписки на все основные страницы, чтобы собрать базу клиентов для email-рассылок"
   ]
  },
  {
   "cell_type": "markdown",
   "metadata": {},
   "source": [
    "**Приоритизация гипотез способом RICE:**"
   ]
  },
  {
   "cell_type": "code",
   "execution_count": 142,
   "metadata": {
    "scrolled": false
   },
   "outputs": [
    {
     "data": {
      "text/html": [
       "<div>\n",
       "<style scoped>\n",
       "    .dataframe tbody tr th:only-of-type {\n",
       "        vertical-align: middle;\n",
       "    }\n",
       "\n",
       "    .dataframe tbody tr th {\n",
       "        vertical-align: top;\n",
       "    }\n",
       "\n",
       "    .dataframe thead th {\n",
       "        text-align: right;\n",
       "    }\n",
       "</style>\n",
       "<table border=\"1\" class=\"dataframe\">\n",
       "  <thead>\n",
       "    <tr style=\"text-align: right;\">\n",
       "      <th></th>\n",
       "      <th>hypothesis</th>\n",
       "      <th>RICE</th>\n",
       "    </tr>\n",
       "  </thead>\n",
       "  <tbody>\n",
       "    <tr>\n",
       "      <th>7</th>\n",
       "      <td>Добавить форму подписки на все основные страницы, чтобы собрать базу клиентов для email-рассылок</td>\n",
       "      <td>112.0</td>\n",
       "    </tr>\n",
       "    <tr>\n",
       "      <th>2</th>\n",
       "      <td>Добавить блоки рекомендаций товаров на сайт интернет магазина, чтобы повысить конверсию и средний чек заказа</td>\n",
       "      <td>56.0</td>\n",
       "    </tr>\n",
       "    <tr>\n",
       "      <th>0</th>\n",
       "      <td>Добавить два новых канала привлечения трафика, что позволит привлекать на 30% больше пользователей</td>\n",
       "      <td>40.0</td>\n",
       "    </tr>\n",
       "    <tr>\n",
       "      <th>6</th>\n",
       "      <td>Показать на главной странице баннеры с актуальными акциями и распродажами, чтобы увеличить конверсию</td>\n",
       "      <td>40.0</td>\n",
       "    </tr>\n",
       "    <tr>\n",
       "      <th>8</th>\n",
       "      <td>Запустить акцию, дающую скидку на товар в день рождения</td>\n",
       "      <td>16.2</td>\n",
       "    </tr>\n",
       "    <tr>\n",
       "      <th>3</th>\n",
       "      <td>Изменить структура категорий, что увеличит конверсию, т.к. пользователи быстрее найдут нужный товар</td>\n",
       "      <td>9.0</td>\n",
       "    </tr>\n",
       "    <tr>\n",
       "      <th>1</th>\n",
       "      <td>Запустить собственную службу доставки, что сократит срок доставки заказов</td>\n",
       "      <td>4.0</td>\n",
       "    </tr>\n",
       "    <tr>\n",
       "      <th>5</th>\n",
       "      <td>Добавить страницу отзывов клиентов о магазине, что позволит увеличить количество заказов</td>\n",
       "      <td>4.0</td>\n",
       "    </tr>\n",
       "    <tr>\n",
       "      <th>4</th>\n",
       "      <td>Изменить цвет фона главной страницы, чтобы увеличить вовлеченность пользователей</td>\n",
       "      <td>3.0</td>\n",
       "    </tr>\n",
       "  </tbody>\n",
       "</table>\n",
       "</div>"
      ],
      "text/plain": [
       "                                                                                                     hypothesis  \\\n",
       "7              Добавить форму подписки на все основные страницы, чтобы собрать базу клиентов для email-рассылок   \n",
       "2  Добавить блоки рекомендаций товаров на сайт интернет магазина, чтобы повысить конверсию и средний чек заказа   \n",
       "0            Добавить два новых канала привлечения трафика, что позволит привлекать на 30% больше пользователей   \n",
       "6          Показать на главной странице баннеры с актуальными акциями и распродажами, чтобы увеличить конверсию   \n",
       "8                                                       Запустить акцию, дающую скидку на товар в день рождения   \n",
       "3           Изменить структура категорий, что увеличит конверсию, т.к. пользователи быстрее найдут нужный товар   \n",
       "1                                     Запустить собственную службу доставки, что сократит срок доставки заказов   \n",
       "5                      Добавить страницу отзывов клиентов о магазине, что позволит увеличить количество заказов   \n",
       "4                              Изменить цвет фона главной страницы, чтобы увеличить вовлеченность пользователей   \n",
       "\n",
       "    RICE  \n",
       "7  112.0  \n",
       "2   56.0  \n",
       "0   40.0  \n",
       "6   40.0  \n",
       "8   16.2  \n",
       "3    9.0  \n",
       "1    4.0  \n",
       "5    4.0  \n",
       "4    3.0  "
      ]
     },
     "execution_count": 142,
     "metadata": {},
     "output_type": "execute_result"
    }
   ],
   "source": [
    "data['RICE'] = (data['reach'] * data['impact'] * data['confidence']) / data['efforts']\n",
    "data[['hypothesis', 'RICE']].sort_values(by = 'RICE', ascending = False)"
   ]
  },
  {
   "cell_type": "markdown",
   "metadata": {},
   "source": [
    "7 - Добавить форму подписки на все основные страницы, чтобы собрать базу клиентов для email-рассылок  \n",
    "2 - Добавить блоки рекомендаций товаров на сайт интернет магазина, чтобы повысить конверсию и средний чек заказа  \n",
    "0 - Добавить два новых канала привлечения трафика, что позволит привлекать на 30% больше пользователей"
   ]
  },
  {
   "cell_type": "code",
   "execution_count": 144,
   "metadata": {},
   "outputs": [
    {
     "data": {
      "text/html": [
       "<div>\n",
       "<style scoped>\n",
       "    .dataframe tbody tr th:only-of-type {\n",
       "        vertical-align: middle;\n",
       "    }\n",
       "\n",
       "    .dataframe tbody tr th {\n",
       "        vertical-align: top;\n",
       "    }\n",
       "\n",
       "    .dataframe thead th {\n",
       "        text-align: right;\n",
       "    }\n",
       "</style>\n",
       "<table border=\"1\" class=\"dataframe\">\n",
       "  <thead>\n",
       "    <tr style=\"text-align: right;\">\n",
       "      <th></th>\n",
       "      <th>hypothesis</th>\n",
       "      <th>RICE</th>\n",
       "      <th>ICE</th>\n",
       "    </tr>\n",
       "  </thead>\n",
       "  <tbody>\n",
       "    <tr>\n",
       "      <th>7</th>\n",
       "      <td>Добавить форму подписки на все основные страницы, чтобы собрать базу клиентов для email-рассылок</td>\n",
       "      <td>112.0</td>\n",
       "      <td>11.20</td>\n",
       "    </tr>\n",
       "    <tr>\n",
       "      <th>2</th>\n",
       "      <td>Добавить блоки рекомендаций товаров на сайт интернет магазина, чтобы повысить конверсию и средний чек заказа</td>\n",
       "      <td>56.0</td>\n",
       "      <td>7.00</td>\n",
       "    </tr>\n",
       "    <tr>\n",
       "      <th>0</th>\n",
       "      <td>Добавить два новых канала привлечения трафика, что позволит привлекать на 30% больше пользователей</td>\n",
       "      <td>40.0</td>\n",
       "      <td>13.33</td>\n",
       "    </tr>\n",
       "    <tr>\n",
       "      <th>6</th>\n",
       "      <td>Показать на главной странице баннеры с актуальными акциями и распродажами, чтобы увеличить конверсию</td>\n",
       "      <td>40.0</td>\n",
       "      <td>8.00</td>\n",
       "    </tr>\n",
       "    <tr>\n",
       "      <th>8</th>\n",
       "      <td>Запустить акцию, дающую скидку на товар в день рождения</td>\n",
       "      <td>16.2</td>\n",
       "      <td>16.20</td>\n",
       "    </tr>\n",
       "    <tr>\n",
       "      <th>3</th>\n",
       "      <td>Изменить структура категорий, что увеличит конверсию, т.к. пользователи быстрее найдут нужный товар</td>\n",
       "      <td>9.0</td>\n",
       "      <td>1.12</td>\n",
       "    </tr>\n",
       "    <tr>\n",
       "      <th>1</th>\n",
       "      <td>Запустить собственную службу доставки, что сократит срок доставки заказов</td>\n",
       "      <td>4.0</td>\n",
       "      <td>2.00</td>\n",
       "    </tr>\n",
       "    <tr>\n",
       "      <th>5</th>\n",
       "      <td>Добавить страницу отзывов клиентов о магазине, что позволит увеличить количество заказов</td>\n",
       "      <td>4.0</td>\n",
       "      <td>1.33</td>\n",
       "    </tr>\n",
       "    <tr>\n",
       "      <th>4</th>\n",
       "      <td>Изменить цвет фона главной страницы, чтобы увеличить вовлеченность пользователей</td>\n",
       "      <td>3.0</td>\n",
       "      <td>1.00</td>\n",
       "    </tr>\n",
       "  </tbody>\n",
       "</table>\n",
       "</div>"
      ],
      "text/plain": [
       "                                                                                                     hypothesis  \\\n",
       "7              Добавить форму подписки на все основные страницы, чтобы собрать базу клиентов для email-рассылок   \n",
       "2  Добавить блоки рекомендаций товаров на сайт интернет магазина, чтобы повысить конверсию и средний чек заказа   \n",
       "0            Добавить два новых канала привлечения трафика, что позволит привлекать на 30% больше пользователей   \n",
       "6          Показать на главной странице баннеры с актуальными акциями и распродажами, чтобы увеличить конверсию   \n",
       "8                                                       Запустить акцию, дающую скидку на товар в день рождения   \n",
       "3           Изменить структура категорий, что увеличит конверсию, т.к. пользователи быстрее найдут нужный товар   \n",
       "1                                     Запустить собственную службу доставки, что сократит срок доставки заказов   \n",
       "5                      Добавить страницу отзывов клиентов о магазине, что позволит увеличить количество заказов   \n",
       "4                              Изменить цвет фона главной страницы, чтобы увеличить вовлеченность пользователей   \n",
       "\n",
       "    RICE    ICE  \n",
       "7  112.0  11.20  \n",
       "2   56.0   7.00  \n",
       "0   40.0  13.33  \n",
       "6   40.0   8.00  \n",
       "8   16.2  16.20  \n",
       "3    9.0   1.12  \n",
       "1    4.0   2.00  \n",
       "5    4.0   1.33  \n",
       "4    3.0   1.00  "
      ]
     },
     "execution_count": 144,
     "metadata": {},
     "output_type": "execute_result"
    }
   ],
   "source": [
    "data[['hypothesis', 'RICE', 'ICE']].sort_values(by = 'RICE', ascending = False)"
   ]
  },
  {
   "cell_type": "markdown",
   "metadata": {},
   "source": [
    "**Вывод:**  \n",
    "Мы видим, что в способах ICE и RICE лидеры разные и меняются местами.  \n",
    "Такое отличие продиктовано, тем что во фреймворке RICE мы учитываем важный параметр - Reach (скольких пользователей затронет изменение, которое мы хотим внести)  \n",
    "\n",
    "При этом можно отметить, что гипотезы 7 (Добавить форму подписки на все основные страницы, чтобы собрать базу клиентов для email-рассылок) и 0 (Добавить два новых канала привлечения трафика, что позволит привлекать на 30% больше пользователей) вошли в тройку лидеров в обоих способах приоритизации.  \n",
    "А вот гипотеза 4 (Изменить цвет фона главной страницы, чтобы увеличить вовлеченность пользователей) является аутсайдером в обоих способах."
   ]
  },
  {
   "cell_type": "markdown",
   "metadata": {},
   "source": [
    "## Анализ А/В-теста"
   ]
  },
  {
   "cell_type": "markdown",
   "metadata": {},
   "source": [
    "### График кумулятивной выручки по группам"
   ]
  },
  {
   "cell_type": "code",
   "execution_count": 116,
   "metadata": {},
   "outputs": [],
   "source": [
    "# создаем массив уникальных пар значений дат и групп теста\n",
    "dates_groups = orders[['date','group']].drop_duplicates()"
   ]
  },
  {
   "cell_type": "markdown",
   "metadata": {},
   "source": [
    "**Создадим таблицу `cumulativeData` куммулятивных данных по обеим таблицам**"
   ]
  },
  {
   "cell_type": "code",
   "execution_count": 117,
   "metadata": {},
   "outputs": [
    {
     "data": {
      "text/html": [
       "<div>\n",
       "<style scoped>\n",
       "    .dataframe tbody tr th:only-of-type {\n",
       "        vertical-align: middle;\n",
       "    }\n",
       "\n",
       "    .dataframe tbody tr th {\n",
       "        vertical-align: top;\n",
       "    }\n",
       "\n",
       "    .dataframe thead th {\n",
       "        text-align: right;\n",
       "    }\n",
       "</style>\n",
       "<table border=\"1\" class=\"dataframe\">\n",
       "  <thead>\n",
       "    <tr style=\"text-align: right;\">\n",
       "      <th></th>\n",
       "      <th>date</th>\n",
       "      <th>group</th>\n",
       "      <th>orders</th>\n",
       "      <th>buyers</th>\n",
       "      <th>revenue</th>\n",
       "      <th>visitors</th>\n",
       "    </tr>\n",
       "  </thead>\n",
       "  <tbody>\n",
       "    <tr>\n",
       "      <th>0</th>\n",
       "      <td>2019-08-01</td>\n",
       "      <td>A</td>\n",
       "      <td>24</td>\n",
       "      <td>20</td>\n",
       "      <td>148579</td>\n",
       "      <td>719</td>\n",
       "    </tr>\n",
       "    <tr>\n",
       "      <th>1</th>\n",
       "      <td>2019-08-01</td>\n",
       "      <td>B</td>\n",
       "      <td>19</td>\n",
       "      <td>18</td>\n",
       "      <td>82717</td>\n",
       "      <td>713</td>\n",
       "    </tr>\n",
       "    <tr>\n",
       "      <th>2</th>\n",
       "      <td>2019-08-02</td>\n",
       "      <td>A</td>\n",
       "      <td>43</td>\n",
       "      <td>37</td>\n",
       "      <td>240181</td>\n",
       "      <td>1338</td>\n",
       "    </tr>\n",
       "    <tr>\n",
       "      <th>3</th>\n",
       "      <td>2019-08-02</td>\n",
       "      <td>B</td>\n",
       "      <td>43</td>\n",
       "      <td>41</td>\n",
       "      <td>248248</td>\n",
       "      <td>1294</td>\n",
       "    </tr>\n",
       "    <tr>\n",
       "      <th>4</th>\n",
       "      <td>2019-08-03</td>\n",
       "      <td>A</td>\n",
       "      <td>67</td>\n",
       "      <td>61</td>\n",
       "      <td>352654</td>\n",
       "      <td>1845</td>\n",
       "    </tr>\n",
       "  </tbody>\n",
       "</table>\n",
       "</div>"
      ],
      "text/plain": [
       "        date group  orders  buyers  revenue  visitors\n",
       "0 2019-08-01     A      24      20   148579       719\n",
       "1 2019-08-01     B      19      18    82717       713\n",
       "2 2019-08-02     A      43      37   240181      1338\n",
       "3 2019-08-02     B      43      41   248248      1294\n",
       "4 2019-08-03     A      67      61   352654      1845"
      ]
     },
     "execution_count": 117,
     "metadata": {},
     "output_type": "execute_result"
    }
   ],
   "source": [
    "# получаем агрегированные кумулятивные по дням данные о заказах \n",
    "orders_aggregated = dates_groups.apply(lambda x: orders[np.logical_and(orders['date'] <= x['date'], orders['group'] == x['group'])].agg({'date' : 'max', 'group' : 'max', 'transaction_id' : 'nunique', 'visitor_id' : 'nunique', 'revenue' : 'sum'}), axis=1).sort_values(by=['date','group'])\n",
    "\n",
    "# получаем агрегированные кумулятивные по дням данные о посетителях интернет-магазина \n",
    "visitors_aggregated = dates_groups.apply(lambda x: visitors[np.logical_and(visitors['date'] <= x['date'], visitors['group'] == x['group'])].agg({'date' : 'max', 'group' : 'max', 'visitors' : 'sum'}), axis=1).sort_values(by=['date','group'])\n",
    "\n",
    "# объединяем кумулятивные данные в одной таблице и присваиваем ее столбцам понятные названия\n",
    "cumulative_data = orders_aggregated.merge(visitors_aggregated, left_on=['date', 'group'], right_on=['date', 'group'])\n",
    "cumulative_data.columns = ['date', 'group', 'orders', 'buyers', 'revenue', 'visitors']\n",
    "\n",
    "cumulative_data.head(5) "
   ]
  },
  {
   "cell_type": "code",
   "execution_count": 118,
   "metadata": {},
   "outputs": [
    {
     "data": {
      "image/png": "[encoded data removed]",
      "text/plain": [
       "<Figure size 792x360 with 1 Axes>"
      ]
     },
     "metadata": {
      "needs_background": "light"
     },
     "output_type": "display_data"
    }
   ],
   "source": [
    "# датафрейм с кумулятивным количеством заказов и кумулятивной выручкой по дням в группе А\n",
    "cumulative_revenue_A = cumulative_data[cumulative_data['group']=='A'][['date','revenue', 'orders']]\n",
    "\n",
    "# датафрейм с кумулятивным количеством заказов и кумулятивной выручкой по дням в группе B\n",
    "cumulative_revenue_B = cumulative_data[cumulative_data['group']=='B'][['date','revenue', 'orders']]\n",
    "\n",
    "plt.figure(figsize=(11,5))\n",
    "plt.title('График кумулятивной выручки по группам:')\n",
    "\n",
    "# Строим график выручки группы А\n",
    "plt.plot(cumulative_revenue_A['date'], cumulative_revenue_A['revenue'], label='Кум.выручка группы A')\n",
    "\n",
    "# Строим график выручки группы B\n",
    "plt.plot(cumulative_revenue_B['date'], cumulative_revenue_B['revenue'], label='Кум.выручка группы B')\n",
    "\n",
    "plt.xlabel('Дата')\n",
    "plt.ylabel('Выручка')\n",
    "plt.legend()\n",
    "plt.grid()\n",
    "plt.show()"
   ]
  },
  {
   "cell_type": "markdown",
   "metadata": {},
   "source": [
    "В обоих группах выручка в течении месяца растет.  В группе \"В\" 19 августа произошел резкий скачок.  Это может сигнализировать о всплесках числа заказов, либо о появлении очень дорогих заказов в выборке.  \n",
    "Во второй половине месяца группа \"В\" лидирует по выручке."
   ]
  },
  {
   "cell_type": "markdown",
   "metadata": {},
   "source": [
    "Посмотрим какие заказы были 19 августа в группе \"В\""
   ]
  },
  {
   "cell_type": "code",
   "execution_count": 119,
   "metadata": {},
   "outputs": [
    {
     "data": {
      "text/html": [
       "<div>\n",
       "<style scoped>\n",
       "    .dataframe tbody tr th:only-of-type {\n",
       "        vertical-align: middle;\n",
       "    }\n",
       "\n",
       "    .dataframe tbody tr th {\n",
       "        vertical-align: top;\n",
       "    }\n",
       "\n",
       "    .dataframe thead th {\n",
       "        text-align: right;\n",
       "    }\n",
       "</style>\n",
       "<table border=\"1\" class=\"dataframe\">\n",
       "  <thead>\n",
       "    <tr style=\"text-align: right;\">\n",
       "      <th></th>\n",
       "      <th>transaction_id</th>\n",
       "      <th>visitor_id</th>\n",
       "      <th>date</th>\n",
       "      <th>revenue</th>\n",
       "      <th>group</th>\n",
       "    </tr>\n",
       "  </thead>\n",
       "  <tbody>\n",
       "    <tr>\n",
       "      <th>425</th>\n",
       "      <td>590470918</td>\n",
       "      <td>1920142716</td>\n",
       "      <td>2019-08-19</td>\n",
       "      <td>1294500</td>\n",
       "      <td>B</td>\n",
       "    </tr>\n",
       "    <tr>\n",
       "      <th>530</th>\n",
       "      <td>3970235543</td>\n",
       "      <td>2912540959</td>\n",
       "      <td>2019-08-19</td>\n",
       "      <td>43990</td>\n",
       "      <td>A</td>\n",
       "    </tr>\n",
       "    <tr>\n",
       "      <th>527</th>\n",
       "      <td>1570513684</td>\n",
       "      <td>2837914161</td>\n",
       "      <td>2019-08-19</td>\n",
       "      <td>33405</td>\n",
       "      <td>B</td>\n",
       "    </tr>\n",
       "    <tr>\n",
       "      <th>421</th>\n",
       "      <td>3765974140</td>\n",
       "      <td>1357170471</td>\n",
       "      <td>2019-08-19</td>\n",
       "      <td>31680</td>\n",
       "      <td>A</td>\n",
       "    </tr>\n",
       "    <tr>\n",
       "      <th>461</th>\n",
       "      <td>2683113224</td>\n",
       "      <td>154576532</td>\n",
       "      <td>2019-08-19</td>\n",
       "      <td>26550</td>\n",
       "      <td>B</td>\n",
       "    </tr>\n",
       "  </tbody>\n",
       "</table>\n",
       "</div>"
      ],
      "text/plain": [
       "     transaction_id  visitor_id       date  revenue group\n",
       "425       590470918  1920142716 2019-08-19  1294500     B\n",
       "530      3970235543  2912540959 2019-08-19    43990     A\n",
       "527      1570513684  2837914161 2019-08-19    33405     B\n",
       "421      3765974140  1357170471 2019-08-19    31680     A\n",
       "461      2683113224   154576532 2019-08-19    26550     B"
      ]
     },
     "execution_count": 119,
     "metadata": {},
     "output_type": "execute_result"
    }
   ],
   "source": [
    "orders.query(' date == \"2019-08-19\" ').sort_values(by='revenue', ascending=False).head()"
   ]
  },
  {
   "cell_type": "markdown",
   "metadata": {},
   "source": [
    "Есть заказ на ~1,3млн в группе \"B\" 19 августа. Можно предположить, что этот заказ является выбросом и при дальнейшем анализе это надо учитывать."
   ]
  },
  {
   "cell_type": "markdown",
   "metadata": {},
   "source": [
    "### График кумулятивного среднего чека по группам"
   ]
  },
  {
   "cell_type": "markdown",
   "metadata": {},
   "source": [
    "Чтобы построить графики среднего кумулятивного чека по группам — разделим кумулятивную выручку на кумулятивное число заказов."
   ]
  },
  {
   "cell_type": "code",
   "execution_count": 120,
   "metadata": {},
   "outputs": [
    {
     "data": {
      "image/png": "[encoded data removed]",
      "text/plain": [
       "<Figure size 792x360 with 1 Axes>"
      ]
     },
     "metadata": {
      "needs_background": "light"
     },
     "output_type": "display_data"
    }
   ],
   "source": [
    "plt.figure(figsize=(11,5))\n",
    "plt.title('График кумулятивного среднего чека по группам:')\n",
    "plt.plot(cumulative_revenue_A['date'], cumulative_revenue_A['revenue']/cumulative_revenue_A['orders'], label='средний кумулятивный чек группы A')\n",
    "plt.plot(cumulative_revenue_B['date'], cumulative_revenue_B['revenue']/cumulative_revenue_B['orders'], label='средний кумулятивный чек группы B')\n",
    "plt.legend()\n",
    "plt.xlabel('Дата')\n",
    "plt.ylabel('Выручка')\n",
    "plt.grid()\n",
    "plt.show()"
   ]
  },
  {
   "cell_type": "markdown",
   "metadata": {},
   "source": [
    "В первой половине месяца в группе \"B\" чек преимущественно больше, но есть даты где наоборот, чек больше в группе \"A\", это начало августа и 12-14 августа. Далее чек группы \"B\" стабильно больше. Но также мы видим сильное влияние на ср.чек огромного заказа 19 августа,  после этого средний чек в \"B\" постепенно снижается. В то время как в \"A\" во второй половине месяца ср.чек стабилизировался.  \n",
    "\n",
    "Так как в группу \"B\" попал крупный заказ, возможно нужно больше данных, чтобы прийти к реальному среднему чеку и установиться на его уровне. "
   ]
  },
  {
   "cell_type": "markdown",
   "metadata": {},
   "source": [
    "### График относительного изменения кумулятивного среднего чека группы B к группе A"
   ]
  },
  {
   "cell_type": "markdown",
   "metadata": {},
   "source": [
    "Cобирем данные в одном датафрейме и потом построим график относительного изменения кумулятивного среднего чека групп."
   ]
  },
  {
   "cell_type": "code",
   "execution_count": 121,
   "metadata": {},
   "outputs": [
    {
     "data": {
      "image/png": "[encoded data removed]",
      "text/plain": [
       "<Figure size 792x360 with 1 Axes>"
      ]
     },
     "metadata": {
      "needs_background": "light"
     },
     "output_type": "display_data"
    }
   ],
   "source": [
    "# собираем данные в одном датафрейме\n",
    "merged_cumulative_revenue = cumulative_revenue_A.merge(cumulative_revenue_B, left_on='date', right_on='date', how='left', suffixes=['A', 'B'])\n",
    "\n",
    "plt.figure(figsize=(11,5))\n",
    "plt.title('График относительного изменения кумулятивного среднего чека группы В к А:')\n",
    "# cтроим отношение средних чеков\n",
    "plt.plot(merged_cumulative_revenue['date'], (merged_cumulative_revenue['revenueB']/merged_cumulative_revenue['ordersB'])/(merged_cumulative_revenue['revenueA']/merged_cumulative_revenue['ordersA'])-1)\n",
    "\n",
    "# добавляем ось X\n",
    "plt.axhline(y=0, color='black', linestyle='--')\n",
    "plt.xlabel('Дата')\n",
    "plt.ylabel('Различие в среднем чеке')\n",
    "plt.show()"
   ]
  },
  {
   "cell_type": "markdown",
   "metadata": {},
   "source": [
    "Средний чек группы \"B\" рос с 1 августа и рос до 7 августа. 8 августа пошло обратное движение до 13 августа, причем 3 дня 12-14 августа ср. чек \"A\" был больше \"B\", возможно там тоже есть крупные заказы. \n",
    "С 13 числа чек группы \"B\" опять начал расти, и был больше ср.чека группы \"A\" вторую половину месяца.  \n",
    "На графике хорошо видно отмеченный ранее всплеск 19 августа, в последующие дни ср. чек \"B\" также постепенно снижался."
   ]
  },
  {
   "cell_type": "markdown",
   "metadata": {},
   "source": [
    "### График кумулятивного среднего количества заказов на посетителя по группам"
   ]
  },
  {
   "cell_type": "markdown",
   "metadata": {},
   "source": [
    "Считаем кумулятивное значение среднего количества заказов на посетителя по группам."
   ]
  },
  {
   "cell_type": "code",
   "execution_count": 122,
   "metadata": {},
   "outputs": [],
   "source": [
    "cumulative_orders_A = cumulative_data[cumulative_data['group']=='A'][['date','orders', 'visitors']]\n",
    "cumulative_orders_B = cumulative_data[cumulative_data['group']=='B'][['date','orders', 'visitors']]"
   ]
  },
  {
   "cell_type": "code",
   "execution_count": 123,
   "metadata": {},
   "outputs": [
    {
     "data": {
      "text/html": [
       "<div>\n",
       "<style scoped>\n",
       "    .dataframe tbody tr th:only-of-type {\n",
       "        vertical-align: middle;\n",
       "    }\n",
       "\n",
       "    .dataframe tbody tr th {\n",
       "        vertical-align: top;\n",
       "    }\n",
       "\n",
       "    .dataframe thead th {\n",
       "        text-align: right;\n",
       "    }\n",
       "</style>\n",
       "<table border=\"1\" class=\"dataframe\">\n",
       "  <thead>\n",
       "    <tr style=\"text-align: right;\">\n",
       "      <th></th>\n",
       "      <th>date</th>\n",
       "      <th>orders</th>\n",
       "      <th>visitors</th>\n",
       "    </tr>\n",
       "  </thead>\n",
       "  <tbody>\n",
       "    <tr>\n",
       "      <th>0</th>\n",
       "      <td>2019-08-01</td>\n",
       "      <td>24</td>\n",
       "      <td>719</td>\n",
       "    </tr>\n",
       "    <tr>\n",
       "      <th>2</th>\n",
       "      <td>2019-08-02</td>\n",
       "      <td>43</td>\n",
       "      <td>1338</td>\n",
       "    </tr>\n",
       "    <tr>\n",
       "      <th>4</th>\n",
       "      <td>2019-08-03</td>\n",
       "      <td>67</td>\n",
       "      <td>1845</td>\n",
       "    </tr>\n",
       "    <tr>\n",
       "      <th>6</th>\n",
       "      <td>2019-08-04</td>\n",
       "      <td>83</td>\n",
       "      <td>2562</td>\n",
       "    </tr>\n",
       "    <tr>\n",
       "      <th>8</th>\n",
       "      <td>2019-08-05</td>\n",
       "      <td>106</td>\n",
       "      <td>3318</td>\n",
       "    </tr>\n",
       "  </tbody>\n",
       "</table>\n",
       "</div>"
      ],
      "text/plain": [
       "        date  orders  visitors\n",
       "0 2019-08-01      24       719\n",
       "2 2019-08-02      43      1338\n",
       "4 2019-08-03      67      1845\n",
       "6 2019-08-04      83      2562\n",
       "8 2019-08-05     106      3318"
      ]
     },
     "execution_count": 123,
     "metadata": {},
     "output_type": "execute_result"
    }
   ],
   "source": [
    "cumulative_orders_A.head()"
   ]
  },
  {
   "cell_type": "code",
   "execution_count": 141,
   "metadata": {},
   "outputs": [
    {
     "data": {
      "image/png": "[encoded data removed]",
      "text/plain": [
       "<Figure size 792x360 with 1 Axes>"
      ]
     },
     "metadata": {
      "needs_background": "light"
     },
     "output_type": "display_data"
    }
   ],
   "source": [
    "plt.figure(figsize=(11,5))\n",
    "plt.title('График кумулятивного среднего количества заказов на посетителя по группам:')\n",
    "plt.plot(cumulative_orders_A['date'], cumulative_orders_A['orders']/cumulative_orders_A['visitors'], label='A')\n",
    "plt.plot(cumulative_orders_B['date'], cumulative_orders_B['orders']/cumulative_orders_B['visitors'], label='B')\n",
    "plt.legend() \n",
    "plt.xlabel('Дата')\n",
    "plt.ylabel('Конверсия')\n",
    "plt.grid()\n",
    "plt.show()"
   ]
  },
  {
   "cell_type": "markdown",
   "metadata": {},
   "source": [
    "В первые шесть дней теста конверсия в целом была выше у группы \"А\", затем у группы \"В\" произошёл рост конверсии и начиная со второй недели теста, конверсии выровнялись у обеих групп, но в группе \"В\" конверсия выше на протяжении остального времени теста."
   ]
  },
  {
   "cell_type": "markdown",
   "metadata": {},
   "source": [
    "### График относительного изменения кумулятивного среднего количества заказов на посетителя группы B к группе A"
   ]
  },
  {
   "cell_type": "markdown",
   "metadata": {},
   "source": [
    "Создание таблицы для построения графика изменения кумулятивного среднего количества заказов на посетителя группы B к группе A."
   ]
  },
  {
   "cell_type": "code",
   "execution_count": 125,
   "metadata": {},
   "outputs": [
    {
     "data": {
      "image/png": "[encoded data removed]",
      "text/plain": [
       "<Figure size 792x360 with 1 Axes>"
      ]
     },
     "metadata": {
      "needs_background": "light"
     },
     "output_type": "display_data"
    }
   ],
   "source": [
    "# собираем данные в одном датафрейме\n",
    "merged_cumulative_orders = cumulative_orders_A.merge(cumulative_orders_B, left_on='date', right_on='date', how='left', suffixes=['A', 'B'])\n",
    "\n",
    "plt.figure(figsize=(11,5))\n",
    "plt.title('График кумулятивного среднего количества заказов на посетителя группы B к группе A:') \n",
    "# cтроим отношение средних чеков\n",
    "plt.plot(merged_cumulative_orders['date'], (merged_cumulative_orders['ordersB']/merged_cumulative_orders['visitorsB'])/(merged_cumulative_orders['ordersA']/merged_cumulative_orders['visitorsA'])-1)\n",
    "\n",
    "# добавляем ось X\n",
    "plt.axhline(y=0, color='black', linestyle='--')\n",
    "plt.xlabel('Дата')\n",
    "plt.ylabel('Конверсия')\n",
    "plt.show()"
   ]
  },
  {
   "cell_type": "markdown",
   "metadata": {},
   "source": [
    "После 6 дней теста по среднему количеству заказов на посетителя лидирует группа \"В\". \n",
    "До 15 августа стабильно растёт, разница с \"A\" на максимуме составила 21%, затем постепенно снизилась  до 10%-14%."
   ]
  },
  {
   "cell_type": "markdown",
   "metadata": {},
   "source": [
    "### Точечный график количества заказов по пользователям"
   ]
  },
  {
   "cell_type": "markdown",
   "metadata": {},
   "source": [
    "Подсчитаем количество заказов по пользователям `orders_by_users`.  \n",
    "\n",
    "Создадим переменные `orders_by_users_A` и `orders_by_users_B`.  \n",
    "В них для пользователей, которые заказывали хотя бы 1 раз, укажем число совершённых заказов."
   ]
  },
  {
   "cell_type": "code",
   "execution_count": 126,
   "metadata": {},
   "outputs": [
    {
     "data": {
      "text/html": [
       "<div>\n",
       "<style scoped>\n",
       "    .dataframe tbody tr th:only-of-type {\n",
       "        vertical-align: middle;\n",
       "    }\n",
       "\n",
       "    .dataframe tbody tr th {\n",
       "        vertical-align: top;\n",
       "    }\n",
       "\n",
       "    .dataframe thead th {\n",
       "        text-align: right;\n",
       "    }\n",
       "</style>\n",
       "<table border=\"1\" class=\"dataframe\">\n",
       "  <thead>\n",
       "    <tr style=\"text-align: right;\">\n",
       "      <th></th>\n",
       "      <th>user_id</th>\n",
       "      <th>orders</th>\n",
       "    </tr>\n",
       "  </thead>\n",
       "  <tbody>\n",
       "    <tr>\n",
       "      <th>989</th>\n",
       "      <td>4256040402</td>\n",
       "      <td>11</td>\n",
       "    </tr>\n",
       "    <tr>\n",
       "      <th>577</th>\n",
       "      <td>2458001652</td>\n",
       "      <td>11</td>\n",
       "    </tr>\n",
       "    <tr>\n",
       "      <th>555</th>\n",
       "      <td>2378935119</td>\n",
       "      <td>9</td>\n",
       "    </tr>\n",
       "    <tr>\n",
       "      <th>473</th>\n",
       "      <td>2038680547</td>\n",
       "      <td>8</td>\n",
       "    </tr>\n",
       "    <tr>\n",
       "      <th>721</th>\n",
       "      <td>3062433592</td>\n",
       "      <td>5</td>\n",
       "    </tr>\n",
       "    <tr>\n",
       "      <th>...</th>\n",
       "      <td>...</td>\n",
       "      <td>...</td>\n",
       "    </tr>\n",
       "    <tr>\n",
       "      <th>343</th>\n",
       "      <td>1463715810</td>\n",
       "      <td>1</td>\n",
       "    </tr>\n",
       "    <tr>\n",
       "      <th>344</th>\n",
       "      <td>1471458381</td>\n",
       "      <td>1</td>\n",
       "    </tr>\n",
       "    <tr>\n",
       "      <th>345</th>\n",
       "      <td>1471496742</td>\n",
       "      <td>1</td>\n",
       "    </tr>\n",
       "    <tr>\n",
       "      <th>346</th>\n",
       "      <td>1474473704</td>\n",
       "      <td>1</td>\n",
       "    </tr>\n",
       "    <tr>\n",
       "      <th>995</th>\n",
       "      <td>4283872382</td>\n",
       "      <td>1</td>\n",
       "    </tr>\n",
       "  </tbody>\n",
       "</table>\n",
       "<p>996 rows × 2 columns</p>\n",
       "</div>"
      ],
      "text/plain": [
       "        user_id  orders\n",
       "989  4256040402      11\n",
       "577  2458001652      11\n",
       "555  2378935119       9\n",
       "473  2038680547       8\n",
       "721  3062433592       5\n",
       "..          ...     ...\n",
       "343  1463715810       1\n",
       "344  1471458381       1\n",
       "345  1471496742       1\n",
       "346  1474473704       1\n",
       "995  4283872382       1\n",
       "\n",
       "[996 rows x 2 columns]"
      ]
     },
     "execution_count": 126,
     "metadata": {},
     "output_type": "execute_result"
    }
   ],
   "source": [
    "orders_by_users = (\n",
    "    orders.groupby(['visitor_id'], as_index=False)\n",
    "    .agg({'transaction_id':  pd.Series.nunique})\n",
    ")\n",
    "\n",
    "orders_by_users.columns = ['user_id', 'orders']\n",
    "\n",
    "orders_by_users_A = (\n",
    "    orders[orders['group'] == 'A']\n",
    "    .groupby('visitor_id', as_index=False)\n",
    "    .agg({'transaction_id': pd.Series.nunique})\n",
    ")\n",
    "orders_by_users_A.columns = ['user_id', 'orders']\n",
    "\n",
    "orders_by_users_B = (\n",
    "    orders[orders['group'] == 'B']\n",
    "    .groupby('visitor_id', as_index=False)\n",
    "    .agg({'transaction_id': pd.Series.nunique})\n",
    ")\n",
    "orders_by_users_B.columns = ['user_id', 'orders'] \n",
    "\n",
    "orders_by_users.sort_values(by='orders', ascending = False)"
   ]
  },
  {
   "cell_type": "markdown",
   "metadata": {},
   "source": [
    "Есть пользователи, которые совершали 5, 8, 9 и 11 заказов. Значительно больше, чем обычный пользователь."
   ]
  },
  {
   "cell_type": "markdown",
   "metadata": {},
   "source": [
    "Построим точечную диаграмму числа заказов на одного пользователя."
   ]
  },
  {
   "cell_type": "code",
   "execution_count": 127,
   "metadata": {},
   "outputs": [
    {
     "data": {
      "image/png": "[encoded data removed]",
      "text/plain": [
       "<Figure size 792x360 with 1 Axes>"
      ]
     },
     "metadata": {
      "needs_background": "light"
     },
     "output_type": "display_data"
    }
   ],
   "source": [
    "x_values = pd.Series(range(0,len(orders_by_users)))\n",
    "\n",
    "plt.figure(figsize=(11,5))\n",
    "plt.title('График количества заказов по пользователям:')\n",
    "plt.scatter(x_values, orders_by_users['orders']) \n",
    "plt.xlabel('Пользователи')\n",
    "plt.ylabel('Количество заказов')\n",
    "plt.show()"
   ]
  },
  {
   "cell_type": "markdown",
   "metadata": {},
   "source": [
    "Больше всего пользователей, которые совершили 1 заказ. Тех кто совершили 3 заказа уже не так много. И уже те кто совершил 4 заказа совсем мало, их точная доля не ясна — непонятно, считать их аномалиями или нет.   Необходимо посчитать перцентили (95 и 99)."
   ]
  },
  {
   "cell_type": "markdown",
   "metadata": {},
   "source": [
    "### Вычисление аномалий в количестве заказов пользователями"
   ]
  },
  {
   "cell_type": "markdown",
   "metadata": {},
   "source": [
    "95-й и 99-й перцентили количества заказов на пользователя"
   ]
  },
  {
   "cell_type": "code",
   "execution_count": 128,
   "metadata": {},
   "outputs": [
    {
     "name": "stdout",
     "output_type": "stream",
     "text": [
      "Количество заказов для 5% и 1% пользователей: [2.   4.05]\n"
     ]
    }
   ],
   "source": [
    "print('Количество заказов для 5% и 1% пользователей:', np.percentile(orders_by_users['orders'], [95, 99])) "
   ]
  },
  {
   "cell_type": "markdown",
   "metadata": {},
   "source": [
    "Не более 5% пользователей оформляли больше 2 заказов. И 1% пользователей заказывали 4 и более раз.  \n",
    "Разумно выбрать 3 заказа на одного пользователя за верхнюю границу числа заказов, и отсеять аномальных пользователей по ней."
   ]
  },
  {
   "cell_type": "markdown",
   "metadata": {},
   "source": [
    "### Точечный график стоимостей заказов"
   ]
  },
  {
   "cell_type": "code",
   "execution_count": 129,
   "metadata": {},
   "outputs": [
    {
     "data": {
      "image/png": "[encoded data removed]",
      "text/plain": [
       "<Figure size 792x360 with 1 Axes>"
      ]
     },
     "metadata": {
      "needs_background": "light"
     },
     "output_type": "display_data"
    }
   ],
   "source": [
    "x_values = pd.Series(range(0,len(orders['revenue'])))\n",
    "\n",
    "plt.figure(figsize=(11,5))\n",
    "plt.title('График стоимости заказов:')\n",
    "plt.scatter(x_values, orders['revenue']) \n",
    "plt.xlabel('Пользователи')\n",
    "plt.ylabel('Стоимость заказов')\n",
    "plt.show()"
   ]
  },
  {
   "cell_type": "markdown",
   "metadata": {},
   "source": [
    "Хорошо видно тот самый аномальный заказ на 1.3 млн.руб и еще один на ~200 тыс.руб, остальные примерно не больше 100 тыс., что мы выявили еще на обзоре выбивающихся значений.  \n",
    "Чтобы найти более точную границу аномальных заказов рассчитаем перцентили."
   ]
  },
  {
   "cell_type": "markdown",
   "metadata": {},
   "source": [
    "### Вычисление аномалий в стоимости заказов пользователями"
   ]
  },
  {
   "cell_type": "markdown",
   "metadata": {},
   "source": [
    "95-й и 99-й перцентили стоимости заказов."
   ]
  },
  {
   "cell_type": "code",
   "execution_count": 130,
   "metadata": {},
   "outputs": [
    {
     "name": "stdout",
     "output_type": "stream",
     "text": [
      "Стоимость заказа для 5% и 1% пользователей: [27460.   55936.04]\n"
     ]
    }
   ],
   "source": [
    "print('Стоимость заказа для 5% и 1% пользователей:', np.percentile(orders['revenue'], [95, 99])) "
   ]
  },
  {
   "cell_type": "markdown",
   "metadata": {},
   "source": [
    "Не более 5% заказов дороже 27460 рублей.  \n",
    "99% заказов меньше суммы 55936.04 , установим её в качестве границы для аномалий"
   ]
  },
  {
   "cell_type": "markdown",
   "metadata": {},
   "source": [
    "### Статистическая значимость различий в среднем количестве заказов на посетителя между группами по «сырым» данным."
   ]
  },
  {
   "cell_type": "markdown",
   "metadata": {},
   "source": [
    "Соберем все данные по заказам и визитам (а также добавим кумулятивные показатели) в одну таблицу. Для этого создадим несколько таблиц и затем объединим их."
   ]
  },
  {
   "cell_type": "code",
   "execution_count": 131,
   "metadata": {},
   "outputs": [],
   "source": [
    "visitors_A_daily = visitors[visitors['group']=='A'][['date', 'visitors']]\n",
    "visitors_A_daily.columns = ['date', 'visitors_per_date_A']\n",
    "\n",
    "visitors_A_cummulative = visitors_A_daily.apply(lambda x: visitors_A_daily[visitors_A_daily['date'] <= x['date']]. \\\n",
    "                                            agg({'date' : 'max', 'visitors_per_date_A' : 'sum'}), axis=1)\n",
    "visitors_A_cummulative.columns = ['date', 'visitors_cummulative_A']\n",
    "\n",
    "visitors_B_daily = visitors[visitors['group']=='B'][['date', 'visitors']]\n",
    "visitors_B_daily.columns = ['date', 'visitors_per_date_B']\n",
    "\n",
    "visitors_B_cummulative = visitors_B_daily.apply(lambda x: visitors_B_daily[visitors_B_daily['date'] <= x['date']]. \\\n",
    "                                            agg({'date' : 'max', 'visitors_per_date_B' : 'sum'}), axis=1)\n",
    "visitors_B_cummulative.columns = ['date', 'visitors_cummulative_B']\n",
    "\n",
    "\n",
    "orders_A_daily = orders[orders['group']=='A'][['date', 'transaction_id', 'visitor_id', 'revenue']]\\\n",
    "    .groupby('date', as_index=False)\\\n",
    "    .agg({'transaction_id' : pd.Series.nunique, 'revenue' : 'sum'})\n",
    "orders_A_daily.columns = ['date', 'orders_per_date_A', 'revenue_per_date_A']\n",
    "\n",
    "orders_A_cummulative = orders_A_daily.apply(\n",
    "    lambda x: \\\n",
    "        orders_A_daily[orders_A_daily['date'] <= x['date']]\\\n",
    "            .agg({\n",
    "                'date' : 'max',\n",
    "                'orders_per_date_A' : 'sum',\n",
    "                'revenue_per_date_A' : 'sum'}), axis=1).sort_values(by=['date'])\n",
    "orders_A_cummulative.columns = ['date', 'orders_cummulative_A', 'revenue_cummulative_A']\n",
    "\n",
    "orders_B_daily = orders[orders['group']=='B'][['date', 'transaction_id', 'visitor_id', 'revenue']]\\\n",
    "    .groupby('date', as_index=False)\\\n",
    "    .agg({'transaction_id' : pd.Series.nunique, 'revenue' : 'sum'})\n",
    "orders_B_daily.columns = ['date', 'orders_per_date_B', 'revenue_per_date_B']\n",
    "\n",
    "orders_B_cummulative = orders_B_daily.apply(\n",
    "    lambda x: \\\n",
    "        orders_B_daily[orders_B_daily['date'] <= x['date']]\\\n",
    "            .agg({\n",
    "                'date' : 'max',\n",
    "                'orders_per_date_B' : 'sum',\n",
    "                'revenue_per_date_B' : 'sum'}), axis=1).sort_values(by=['date'])\n",
    "orders_B_cummulative.columns = ['date', 'orders_cummulative_B', 'revenue_cummulative_B']"
   ]
  },
  {
   "cell_type": "markdown",
   "metadata": {},
   "source": [
    "Теперь соединим всё в одну таблицу"
   ]
  },
  {
   "cell_type": "code",
   "execution_count": 132,
   "metadata": {},
   "outputs": [
    {
     "data": {
      "text/html": [
       "<div>\n",
       "<style scoped>\n",
       "    .dataframe tbody tr th:only-of-type {\n",
       "        vertical-align: middle;\n",
       "    }\n",
       "\n",
       "    .dataframe tbody tr th {\n",
       "        vertical-align: top;\n",
       "    }\n",
       "\n",
       "    .dataframe thead th {\n",
       "        text-align: right;\n",
       "    }\n",
       "</style>\n",
       "<table border=\"1\" class=\"dataframe\">\n",
       "  <thead>\n",
       "    <tr style=\"text-align: right;\">\n",
       "      <th></th>\n",
       "      <th>date</th>\n",
       "      <th>orders_per_date_A</th>\n",
       "      <th>revenue_per_date_A</th>\n",
       "      <th>orders_per_date_B</th>\n",
       "      <th>revenue_per_date_B</th>\n",
       "      <th>orders_cummulative_A</th>\n",
       "      <th>revenue_cummulative_A</th>\n",
       "      <th>orders_cummulative_B</th>\n",
       "      <th>revenue_cummulative_B</th>\n",
       "      <th>visitors_per_date_A</th>\n",
       "      <th>visitors_per_date_B</th>\n",
       "      <th>visitors_cummulative_A</th>\n",
       "      <th>visitors_cummulative_B</th>\n",
       "    </tr>\n",
       "  </thead>\n",
       "  <tbody>\n",
       "    <tr>\n",
       "      <th>0</th>\n",
       "      <td>2019-08-01</td>\n",
       "      <td>24</td>\n",
       "      <td>148579</td>\n",
       "      <td>19</td>\n",
       "      <td>82717</td>\n",
       "      <td>24</td>\n",
       "      <td>148579</td>\n",
       "      <td>19</td>\n",
       "      <td>82717</td>\n",
       "      <td>719</td>\n",
       "      <td>713</td>\n",
       "      <td>719</td>\n",
       "      <td>713</td>\n",
       "    </tr>\n",
       "    <tr>\n",
       "      <th>1</th>\n",
       "      <td>2019-08-02</td>\n",
       "      <td>19</td>\n",
       "      <td>91602</td>\n",
       "      <td>24</td>\n",
       "      <td>165531</td>\n",
       "      <td>43</td>\n",
       "      <td>240181</td>\n",
       "      <td>43</td>\n",
       "      <td>248248</td>\n",
       "      <td>619</td>\n",
       "      <td>581</td>\n",
       "      <td>1338</td>\n",
       "      <td>1294</td>\n",
       "    </tr>\n",
       "    <tr>\n",
       "      <th>2</th>\n",
       "      <td>2019-08-03</td>\n",
       "      <td>24</td>\n",
       "      <td>112473</td>\n",
       "      <td>16</td>\n",
       "      <td>114248</td>\n",
       "      <td>67</td>\n",
       "      <td>352654</td>\n",
       "      <td>59</td>\n",
       "      <td>362496</td>\n",
       "      <td>507</td>\n",
       "      <td>509</td>\n",
       "      <td>1845</td>\n",
       "      <td>1803</td>\n",
       "    </tr>\n",
       "    <tr>\n",
       "      <th>3</th>\n",
       "      <td>2019-08-04</td>\n",
       "      <td>16</td>\n",
       "      <td>70825</td>\n",
       "      <td>16</td>\n",
       "      <td>100170</td>\n",
       "      <td>83</td>\n",
       "      <td>423479</td>\n",
       "      <td>75</td>\n",
       "      <td>462666</td>\n",
       "      <td>717</td>\n",
       "      <td>770</td>\n",
       "      <td>2562</td>\n",
       "      <td>2573</td>\n",
       "    </tr>\n",
       "    <tr>\n",
       "      <th>4</th>\n",
       "      <td>2019-08-05</td>\n",
       "      <td>23</td>\n",
       "      <td>100878</td>\n",
       "      <td>22</td>\n",
       "      <td>92328</td>\n",
       "      <td>106</td>\n",
       "      <td>524357</td>\n",
       "      <td>97</td>\n",
       "      <td>554994</td>\n",
       "      <td>756</td>\n",
       "      <td>707</td>\n",
       "      <td>3318</td>\n",
       "      <td>3280</td>\n",
       "    </tr>\n",
       "  </tbody>\n",
       "</table>\n",
       "</div>"
      ],
      "text/plain": [
       "        date  orders_per_date_A  revenue_per_date_A  orders_per_date_B  \\\n",
       "0 2019-08-01                 24              148579                 19   \n",
       "1 2019-08-02                 19               91602                 24   \n",
       "2 2019-08-03                 24              112473                 16   \n",
       "3 2019-08-04                 16               70825                 16   \n",
       "4 2019-08-05                 23              100878                 22   \n",
       "\n",
       "   revenue_per_date_B  orders_cummulative_A  revenue_cummulative_A  \\\n",
       "0               82717                    24                 148579   \n",
       "1              165531                    43                 240181   \n",
       "2              114248                    67                 352654   \n",
       "3              100170                    83                 423479   \n",
       "4               92328                   106                 524357   \n",
       "\n",
       "   orders_cummulative_B  revenue_cummulative_B  visitors_per_date_A  \\\n",
       "0                    19                  82717                  719   \n",
       "1                    43                 248248                  619   \n",
       "2                    59                 362496                  507   \n",
       "3                    75                 462666                  717   \n",
       "4                    97                 554994                  756   \n",
       "\n",
       "   visitors_per_date_B  visitors_cummulative_A  visitors_cummulative_B  \n",
       "0                  713                     719                     713  \n",
       "1                  581                    1338                    1294  \n",
       "2                  509                    1845                    1803  \n",
       "3                  770                    2562                    2573  \n",
       "4                  707                    3318                    3280  "
      ]
     },
     "execution_count": 132,
     "metadata": {},
     "output_type": "execute_result"
    }
   ],
   "source": [
    "df = orders_A_daily.merge(orders_B_daily, left_on='date', right_on='date', how='left')\\\n",
    "    .merge(orders_A_cummulative, left_on='date', right_on='date', how='left')\\\n",
    "    .merge(orders_B_cummulative, left_on='date', right_on='date', how='left')\\\n",
    "    .merge(visitors_A_daily, left_on='date', right_on='date', how='left')\\\n",
    "    .merge(visitors_B_daily, left_on='date', right_on='date', how='left')\\\n",
    "    .merge(visitors_A_cummulative, left_on='date', right_on='date', how='left')\\\n",
    "    .merge(visitors_B_cummulative, left_on='date', right_on='date', how='left')\n",
    "df.head()"
   ]
  },
  {
   "cell_type": "markdown",
   "metadata": {},
   "source": [
    "Объявим переменные `sampleA` и `sampleB`, в которых пользователям из разных групп будет соответствовать количество заказов. Тем, кто ничего не заказал, будут соответствовать нули."
   ]
  },
  {
   "cell_type": "code",
   "execution_count": 133,
   "metadata": {},
   "outputs": [],
   "source": [
    "sampleA = pd.concat([orders_by_users_A['orders'],pd.Series(0, index=np.arange(df['visitors_per_date_A'].sum() - len(orders_by_users_A['orders'])), name='orders')],axis=0)\n",
    "\n",
    "sampleB = pd.concat([orders_by_users_B['orders'],pd.Series(0, index=np.arange(df['visitors_per_date_B'].sum() - len(orders_by_users_B['orders'])), name='orders')],axis=0)\n"
   ]
  },
  {
   "cell_type": "markdown",
   "metadata": {},
   "source": [
    "Выведем относительный прирост конверсии группы B: *конверсия группы B / конверсия группы A - 1*. Округлим до трёх знаков после запятой, пороговое значение возьмём равное 5%.  \n",
    "\n",
    "По тесту Манна-Уитни проведение проверки гипотез:  \n",
    "За нулевую гипотезу возьмём что: \"по сырым данным статистически значимых различий в конверсии между группами нет\";  \n",
    "тогда альтернативная гипотеза будет гласить - \" по сырым данным статистически значимые различия в конверсии между группами есть\"."
   ]
  },
  {
   "cell_type": "code",
   "execution_count": 134,
   "metadata": {},
   "outputs": [
    {
     "name": "stdout",
     "output_type": "stream",
     "text": [
      "alpha = 0.05\n",
      "p-value: 0.013\n",
      "Относительное различие в конверсии между группами: 0.148\n",
      "Отвергаем нулевую гипотезу\n"
     ]
    }
   ],
   "source": [
    "# критический уровень статистической значимости\n",
    "alpha = 0.05\n",
    "\n",
    "results = st.mannwhitneyu(sampleA, sampleB)\n",
    "\n",
    "print(\"alpha =\",0.05)\n",
    "print(\"p-value: {0:.3f}\".format(results[1]))\n",
    "print(\"Относительное различие в конверсии между группами: {0:.3f}\".format(sampleB.mean() / sampleA.mean() - 1))\n",
    "\n",
    "if results.pvalue < alpha:\n",
    "    print('Отвергаем нулевую гипотезу')\n",
    "else:\n",
    "    print(\n",
    "        'Не получилось отвергнуть нулевую гипотезу')"
   ]
  },
  {
   "cell_type": "markdown",
   "metadata": {},
   "source": [
    "p-value = 0.013 меньше 0.05. Нулевую гипотезу - отвергаем.  \n",
    "Это значит: по сырым данным различия в конверсии групп \"A\" и \"B\" есть. А относительный выигрыш группы \"B\" над \"A\" равен 14.8% ."
   ]
  },
  {
   "cell_type": "markdown",
   "metadata": {},
   "source": [
    "### Статистическая значимость различий в среднем чеке заказа между группами по «сырым» данным"
   ]
  },
  {
   "cell_type": "markdown",
   "metadata": {},
   "source": [
    "За нулевую гипотезу возьмём что: \"по сырым данным статистически значимых различий в средних чеках между группами нет\";  \n",
    "тогда альтернативная гипотеза будет гласить - \"по сырым данным статистически значимые различия есть\"."
   ]
  },
  {
   "cell_type": "code",
   "execution_count": 135,
   "metadata": {},
   "outputs": [
    {
     "name": "stdout",
     "output_type": "stream",
     "text": [
      "alpha = 0.05\n",
      "p-value: 0.677\n",
      "Относительное различие в среднем чеке между группами: 0.303\n",
      "Не получилось отвергнуть нулевую гипотезу\n"
     ]
    }
   ],
   "source": [
    "# критический уровень статистической значимости\n",
    "alpha = 0.05\n",
    "\n",
    "results = st.mannwhitneyu(orders[orders['group']=='A']['revenue'], orders[orders['group']=='B']['revenue'], alternative = 'two-sided')\n",
    "\n",
    "print(\"alpha =\",0.05)\n",
    "print(\"p-value: {0:.3f}\".format(results[1]))\n",
    "print(\"Относительное различие в среднем чеке между группами: {0:.3f}\".format(orders[orders['group']=='B']['revenue'].mean()/orders[orders['group']=='A']['revenue'].mean()-1)) \n",
    "\n",
    "if results.pvalue < alpha:\n",
    "    print('Отвергаем нулевую гипотезу')\n",
    "else:\n",
    "    print(\n",
    "        'Не получилось отвергнуть нулевую гипотезу')"
   ]
  },
  {
   "cell_type": "markdown",
   "metadata": {},
   "source": [
    "p-value больше 0,05. Не получилось отвергнуть нулевую гипотезу  \n",
    "Значит, что статистически значимых различий по сырым данным в среднем чеке между группами \"А\" и \"В\" нет.  \n",
    "И при этом, средний чек группы \"B\" значительно выше среднего чека группы \"A\" (на ~30% !)"
   ]
  },
  {
   "cell_type": "markdown",
   "metadata": {},
   "source": [
    "### Статистическая значимость различий в среднем количестве заказов на посетителя между группами по «очищенным» данным"
   ]
  },
  {
   "cell_type": "markdown",
   "metadata": {},
   "source": [
    "Сделаем срезы пользователей с числом заказов больше 3 , и пользователей, совершивших заказы дороже 55936  \n",
    "Узнаем, сколько всего аномальных пользователей атрибутом `shape`."
   ]
  },
  {
   "cell_type": "code",
   "execution_count": 140,
   "metadata": {},
   "outputs": [
    {
     "name": "stdout",
     "output_type": "stream",
     "text": [
      "1099    148427295\n",
      "17      199603092\n",
      "21      237748145\n",
      "949     887908475\n",
      "744     888512513\n",
      "dtype: int64\n",
      "18\n"
     ]
    }
   ],
   "source": [
    "users_with_many_orders = pd.concat(\n",
    "    [\n",
    "        orders_by_users_A[orders_by_users_A['orders'] > 3]['user_id'],\n",
    "        orders_by_users_B[orders_by_users_B['orders'] > 3]['user_id'],\n",
    "    ],\n",
    "    axis=0,\n",
    ")\n",
    "users_with_expensive_orders = orders[orders['revenue'] > 55936]['visitor_id']\n",
    "abnormal_users = (\n",
    "    pd.concat([users_with_many_orders, users_with_expensive_orders], axis=0)\n",
    "    .drop_duplicates()\n",
    "    .sort_values()\n",
    ")\n",
    "print(abnormal_users.head(5))\n",
    "print(abnormal_users.shape[0]) "
   ]
  },
  {
   "cell_type": "markdown",
   "metadata": {},
   "source": [
    "Всего 18 аномальных пользователей."
   ]
  },
  {
   "cell_type": "markdown",
   "metadata": {},
   "source": [
    "Посчитаем статистическую значимость различий в среднем количестве заказов между группами теста по очищенным данным.  \n",
    "За нулевую гипотезу возьмём что: \"по очищенным данным статистически значимых различий в конверсии между группами нет\";  \n",
    "тогда альтернативная гипотеза будет гласить - \"по очищенным данным статистически значимые различия есть\".  \n",
    "\n",
    "Сначала подготовим выборки количества заказов по пользователям по группам теста:"
   ]
  },
  {
   "cell_type": "code",
   "execution_count": 137,
   "metadata": {},
   "outputs": [],
   "source": [
    "sampleA_filtered = pd.concat(\n",
    "    [\n",
    "        orders_by_users_A[\n",
    "            np.logical_not(orders_by_users_A['user_id'].isin(abnormal_users))\n",
    "        ]['orders'],\n",
    "        pd.Series(\n",
    "            0,\n",
    "            index=np.arange(\n",
    "                df['visitors_per_date_A'].sum() - len(orders_by_users_A['orders'])\n",
    "            ),\n",
    "            name='orders',\n",
    "        ),\n",
    "    ],\n",
    "    axis=0,\n",
    ")\n",
    "\n",
    "sampleB_filtered = pd.concat(\n",
    "    [\n",
    "        orders_by_users_B[\n",
    "            np.logical_not(orders_by_users_B['user_id'].isin(abnormal_users))\n",
    "        ]['orders'],\n",
    "        pd.Series(\n",
    "            0,\n",
    "            index=np.arange(\n",
    "                df['visitors_per_date_B'].sum() - len(orders_by_users_B['orders'])\n",
    "            ),\n",
    "            name='orders',\n",
    "        ),\n",
    "    ],\n",
    "    axis=0,\n",
    ") "
   ]
  },
  {
   "cell_type": "markdown",
   "metadata": {},
   "source": [
    "Применим статистический критерий Манна-Уитни к полученным выборкам"
   ]
  },
  {
   "cell_type": "code",
   "execution_count": 138,
   "metadata": {},
   "outputs": [
    {
     "name": "stdout",
     "output_type": "stream",
     "text": [
      "alpha  0.05\n",
      "p-value: 0.011\n",
      "Относительное различие в конверсии между группами: 0.162\n",
      "Отвергаем нулевую гипотезу\n"
     ]
    }
   ],
   "source": [
    "# критический уровень статистической значимости\n",
    "alpha = 0.05\n",
    "\n",
    "results = st.mannwhitneyu(sampleA_filtered, sampleB_filtered)\n",
    "\n",
    "print(\"alpha \",0.05)\n",
    "print('p-value: {0:.3f}'.format(results[1]))\n",
    "print('Относительное различие в конверсии между группами: {0:.3f}'.format(sampleB_filtered.mean()/sampleA_filtered.mean()-1))\n",
    "\n",
    "if results.pvalue < alpha:\n",
    "    print('Отвергаем нулевую гипотезу')\n",
    "else:\n",
    "    print(\n",
    "        'Не получилось отвергнуть нулевую гипотезу')"
   ]
  },
  {
   "cell_type": "markdown",
   "metadata": {},
   "source": [
    "Отвергаем нулевую гипотезу.  \n",
    "По «очищенным» данным различия в конверсии групп \"A\" и \"B\" есть. А относительный выигрыш группы \"B\" над \"A\" равен 16,2% (выше, чем с «сырыми» данными - 14.8%)."
   ]
  },
  {
   "cell_type": "markdown",
   "metadata": {},
   "source": [
    "### Статистическая значимость различий в среднем чеке заказа между группами по «очищенным» даннымa"
   ]
  },
  {
   "cell_type": "markdown",
   "metadata": {},
   "source": [
    "Теперь мосмотрим произошло ли что-нибудь с результатами по среднему чеку.\n",
    "\n",
    "За нулевую гипотезу возьмём что: \"по очищенным данным статистически значимых различий в средних чеках между группами нет\";  \n",
    "тогда альтернативная гипотеза будет гласить - \"по очищенным данным статистически значимые различия есть\"."
   ]
  },
  {
   "cell_type": "code",
   "execution_count": 139,
   "metadata": {},
   "outputs": [
    {
     "name": "stdout",
     "output_type": "stream",
     "text": [
      "alpha  0.05\n",
      "p-value: 0.985\n",
      "Относительное различие в среднем чеке между группами: -0.022\n",
      "Не получилось отвергнуть нулевую гипотезу\n"
     ]
    }
   ],
   "source": [
    "# критический уровень статистической значимости\n",
    "alpha = 0.05\n",
    "\n",
    "results = st.mannwhitneyu(\n",
    "            orders[\n",
    "                np.logical_and(\n",
    "                    orders['group'] == 'A',\n",
    "                    np.logical_not(orders['visitor_id'].isin(abnormal_users)),\n",
    "                )\n",
    "            ]['revenue'],\n",
    "            orders[\n",
    "                np.logical_and(\n",
    "                    orders['group'] == 'B',\n",
    "                    np.logical_not(orders['visitor_id'].isin(abnormal_users)),\n",
    "                )\n",
    "            ]['revenue'],\n",
    "        )\n",
    "\n",
    "print(\"alpha \",0.05)\n",
    "print('p-value: {0:.3f}'.format(results[1]))\n",
    "\n",
    "print(\n",
    "    \"Относительное различие в среднем чеке между группами: {0:.3f}\".format(\n",
    "        orders[\n",
    "            np.logical_and(\n",
    "                orders['group'] == 'B',\n",
    "                np.logical_not(orders['visitor_id'].isin(abnormal_users)),\n",
    "            )\n",
    "        ]['revenue'].mean()\n",
    "        / orders[\n",
    "            np.logical_and(\n",
    "                orders['group'] == 'A',\n",
    "                np.logical_not(orders['visitor_id'].isin(abnormal_users)),\n",
    "            )\n",
    "        ]['revenue'].mean()\n",
    "        - 1\n",
    "    )\n",
    ") \n",
    "\n",
    "if results.pvalue < alpha:\n",
    "    print('Отвергаем нулевую гипотезу')\n",
    "else:\n",
    "    print(\n",
    "        'Не получилось отвергнуть нулевую гипотезу')"
   ]
  },
  {
   "cell_type": "markdown",
   "metadata": {},
   "source": [
    "p-value больше 0,05. Не получилось отвергнуть нулевую гипотезу.    \n",
    "Значит, что статистически значимых различий по очищенным данным в среднем чеке между группами \"А\" и \"В\" нет.  \n",
    "А вот средний чек группы \"B\" оказался незначительно ниже среднего чека группы \"A\", в то время как по \"сырым\" данным, он был больше аж на ~30%,  и всё это из-за выбросов."
   ]
  },
  {
   "cell_type": "markdown",
   "metadata": {},
   "source": [
    "## Вывод"
   ]
  },
  {
   "cell_type": "markdown",
   "metadata": {},
   "source": [
    "По результатам тестирования было выявлено:\n",
    "И по \"сырым\" и по \"очищенным\" данным различия в конверсии групп \"A\" и \"B\" есть. Относительный выигрыш группы \"B\" над \"A\" равен 16,2% по \"очищенным\" и 14.8% по \"сырым\" данным.\n",
    "\n",
    "Оказалось, что и по \"сырым\" и по \"очищенным\" данным различия в средних чеках групп \"A\" и \"B\" отстутствуют, несмотря на то, что средний чек группы \"B\" оказался незначительно ниже среднего чека группы \"A\" по \"очищенным\" данным, в то время как по \"сырым\" данным, он был больше аж на ~30%.\n",
    "\n",
    "**В итоге можно принять решение остановить тестирование и констатировать успех и победу группы \"B\" : группа \"B\" значительно эффективнее группы \"A\" по конверсии, хотя по среднему чеку группы примерно равны.**"
   ]
  }
 ],
 "metadata": {
  "ExecuteTimeLog": [
   {
    "duration": 1352,
    "start_time": "2023-08-12T12:24:05.990Z"
   },
   {
    "duration": 241,
    "start_time": "2023-08-12T12:25:34.669Z"
   },
   {
    "duration": 32,
    "start_time": "2023-08-12T12:25:47.892Z"
   },
   {
    "duration": 13,
    "start_time": "2023-08-12T12:26:27.624Z"
   },
   {
    "duration": 4,
    "start_time": "2023-08-12T12:31:11.753Z"
   },
   {
    "duration": 14,
    "start_time": "2023-08-12T12:31:50.503Z"
   },
   {
    "duration": 11,
    "start_time": "2023-08-12T12:34:15.877Z"
   },
   {
    "duration": 212,
    "start_time": "2023-08-12T12:38:39.937Z"
   },
   {
    "duration": 12,
    "start_time": "2023-08-12T12:39:20.323Z"
   },
   {
    "duration": 11,
    "start_time": "2023-08-12T12:39:44.465Z"
   },
   {
    "duration": 13,
    "start_time": "2023-08-12T12:45:39.105Z"
   },
   {
    "duration": 133,
    "start_time": "2023-08-12T12:46:54.058Z"
   },
   {
    "duration": 5,
    "start_time": "2023-08-12T12:47:10.793Z"
   },
   {
    "duration": 8,
    "start_time": "2023-08-12T12:47:22.756Z"
   },
   {
    "duration": 5,
    "start_time": "2023-08-12T13:15:11.415Z"
   },
   {
    "duration": 7,
    "start_time": "2023-08-12T13:16:00.317Z"
   },
   {
    "duration": 7,
    "start_time": "2023-08-12T13:16:16.587Z"
   },
   {
    "duration": 6,
    "start_time": "2023-08-12T13:16:41.542Z"
   },
   {
    "duration": 7,
    "start_time": "2023-08-12T13:19:10.400Z"
   },
   {
    "duration": 7,
    "start_time": "2023-08-12T13:19:50.262Z"
   },
   {
    "duration": 6,
    "start_time": "2023-08-12T13:21:54.909Z"
   },
   {
    "duration": 7,
    "start_time": "2023-08-12T13:22:27.159Z"
   },
   {
    "duration": 10,
    "start_time": "2023-08-12T13:23:05.524Z"
   },
   {
    "duration": 8,
    "start_time": "2023-08-12T13:23:19.953Z"
   },
   {
    "duration": 160,
    "start_time": "2023-08-12T13:26:19.801Z"
   },
   {
    "duration": 152,
    "start_time": "2023-08-12T13:26:37.029Z"
   },
   {
    "duration": 164,
    "start_time": "2023-08-12T13:28:47.559Z"
   },
   {
    "duration": 7,
    "start_time": "2023-08-12T13:33:30.431Z"
   },
   {
    "duration": 297,
    "start_time": "2023-08-12T13:37:14.829Z"
   },
   {
    "duration": 273,
    "start_time": "2023-08-12T13:38:23.326Z"
   },
   {
    "duration": 180,
    "start_time": "2023-08-12T13:39:46.955Z"
   },
   {
    "duration": 190,
    "start_time": "2023-08-12T13:40:29.728Z"
   },
   {
    "duration": 190,
    "start_time": "2023-08-12T13:42:49.303Z"
   },
   {
    "duration": 301,
    "start_time": "2023-08-12T13:45:30.901Z"
   },
   {
    "duration": 12,
    "start_time": "2023-08-12T14:37:00.170Z"
   },
   {
    "duration": 13,
    "start_time": "2023-08-12T14:38:07.100Z"
   },
   {
    "duration": 18,
    "start_time": "2023-08-12T14:53:24.218Z"
   },
   {
    "duration": 153,
    "start_time": "2023-08-12T14:55:28.490Z"
   },
   {
    "duration": 4,
    "start_time": "2023-08-12T15:02:24.820Z"
   },
   {
    "duration": 8,
    "start_time": "2023-08-12T15:02:31.841Z"
   },
   {
    "duration": 155,
    "start_time": "2023-08-12T15:43:11.558Z"
   },
   {
    "duration": 14,
    "start_time": "2023-08-12T15:46:03.978Z"
   },
   {
    "duration": 139,
    "start_time": "2023-08-12T15:46:29.134Z"
   },
   {
    "duration": 121,
    "start_time": "2023-08-12T15:46:56.217Z"
   },
   {
    "duration": 9,
    "start_time": "2023-08-12T15:48:43.531Z"
   },
   {
    "duration": 457,
    "start_time": "2023-08-12T15:51:15.482Z"
   },
   {
    "duration": 263,
    "start_time": "2023-08-12T15:51:41.266Z"
   },
   {
    "duration": 12,
    "start_time": "2023-08-12T15:51:44.810Z"
   },
   {
    "duration": 138,
    "start_time": "2023-08-12T15:52:56.654Z"
   },
   {
    "duration": 11,
    "start_time": "2023-08-12T15:53:12.453Z"
   },
   {
    "duration": 13,
    "start_time": "2023-08-12T15:53:24.939Z"
   },
   {
    "duration": 13,
    "start_time": "2023-08-12T15:54:34.763Z"
   },
   {
    "duration": 168,
    "start_time": "2023-08-12T15:55:36.308Z"
   },
   {
    "duration": 7,
    "start_time": "2023-08-12T16:07:48.294Z"
   },
   {
    "duration": 9,
    "start_time": "2023-08-12T16:12:45.785Z"
   },
   {
    "duration": 9,
    "start_time": "2023-08-12T16:12:49.795Z"
   },
   {
    "duration": 191,
    "start_time": "2023-08-12T16:15:26.645Z"
   },
   {
    "duration": 364,
    "start_time": "2023-08-12T17:27:08.130Z"
   },
   {
    "duration": 5,
    "start_time": "2023-08-12T17:31:45.245Z"
   },
   {
    "duration": 130,
    "start_time": "2023-08-12T17:35:51.612Z"
   },
   {
    "duration": 137,
    "start_time": "2023-08-12T17:36:56.693Z"
   },
   {
    "duration": 6,
    "start_time": "2023-08-12T17:37:58.750Z"
   },
   {
    "duration": 127,
    "start_time": "2023-08-12T17:51:21.440Z"
   },
   {
    "duration": 221,
    "start_time": "2023-08-12T17:52:33.131Z"
   },
   {
    "duration": 33,
    "start_time": "2023-08-12T17:53:14.299Z"
   },
   {
    "duration": 84,
    "start_time": "2023-08-12T17:56:42.180Z"
   },
   {
    "duration": 12,
    "start_time": "2023-08-12T17:57:33.576Z"
   },
   {
    "duration": 14,
    "start_time": "2023-08-12T17:59:29.975Z"
   },
   {
    "duration": 113,
    "start_time": "2023-08-12T18:07:37.612Z"
   },
   {
    "duration": 249,
    "start_time": "2023-08-12T18:08:27.868Z"
   },
   {
    "duration": 32,
    "start_time": "2023-08-12T18:08:57.872Z"
   },
   {
    "duration": 8,
    "start_time": "2023-08-12T18:09:09.997Z"
   },
   {
    "duration": 15,
    "start_time": "2023-08-12T18:09:35.914Z"
   },
   {
    "duration": 38,
    "start_time": "2023-08-12T18:09:45.361Z"
   },
   {
    "duration": 1417,
    "start_time": "2023-08-12T18:15:12.217Z"
   },
   {
    "duration": 1391,
    "start_time": "2023-08-12T18:15:34.758Z"
   },
   {
    "duration": 1678,
    "start_time": "2023-08-12T18:16:40.997Z"
   },
   {
    "duration": 10,
    "start_time": "2023-08-12T18:16:51.358Z"
   },
   {
    "duration": 1377,
    "start_time": "2023-08-12T18:18:13.618Z"
   },
   {
    "duration": 10,
    "start_time": "2023-08-12T18:18:40.334Z"
   },
   {
    "duration": 14,
    "start_time": "2023-08-12T18:18:59.263Z"
   },
   {
    "duration": 35,
    "start_time": "2023-08-12T18:19:05.021Z"
   },
   {
    "duration": 18,
    "start_time": "2023-08-12T18:22:11.644Z"
   },
   {
    "duration": 1714,
    "start_time": "2023-08-12T18:22:28.553Z"
   },
   {
    "duration": 23,
    "start_time": "2023-08-12T18:23:39.250Z"
   },
   {
    "duration": 1560,
    "start_time": "2023-08-13T12:39:52.992Z"
   },
   {
    "duration": 163,
    "start_time": "2023-08-13T12:44:25.167Z"
   },
   {
    "duration": 74,
    "start_time": "2023-08-13T12:44:36.632Z"
   },
   {
    "duration": 120,
    "start_time": "2023-08-13T13:37:36.928Z"
   },
   {
    "duration": 3,
    "start_time": "2023-08-13T13:37:45.700Z"
   },
   {
    "duration": 88,
    "start_time": "2023-08-13T13:37:45.709Z"
   },
   {
    "duration": 14,
    "start_time": "2023-08-13T13:37:45.799Z"
   },
   {
    "duration": 48,
    "start_time": "2023-08-13T13:37:45.815Z"
   },
   {
    "duration": 26,
    "start_time": "2023-08-13T13:37:45.866Z"
   },
   {
    "duration": 12,
    "start_time": "2023-08-13T13:37:45.895Z"
   },
   {
    "duration": 28,
    "start_time": "2023-08-13T13:37:45.909Z"
   },
   {
    "duration": 13,
    "start_time": "2023-08-13T13:37:45.939Z"
   },
   {
    "duration": 16,
    "start_time": "2023-08-13T13:37:45.954Z"
   },
   {
    "duration": 10,
    "start_time": "2023-08-13T13:37:45.972Z"
   },
   {
    "duration": 8,
    "start_time": "2023-08-13T13:37:45.992Z"
   },
   {
    "duration": 29,
    "start_time": "2023-08-13T13:37:46.003Z"
   },
   {
    "duration": 6,
    "start_time": "2023-08-13T13:37:46.035Z"
   },
   {
    "duration": 10,
    "start_time": "2023-08-13T13:37:46.043Z"
   },
   {
    "duration": 26,
    "start_time": "2023-08-13T13:37:46.056Z"
   },
   {
    "duration": 7,
    "start_time": "2023-08-13T13:37:46.084Z"
   },
   {
    "duration": 6,
    "start_time": "2023-08-13T13:37:46.093Z"
   },
   {
    "duration": 210,
    "start_time": "2023-08-13T13:37:46.101Z"
   },
   {
    "duration": 224,
    "start_time": "2023-08-13T13:37:46.312Z"
   },
   {
    "duration": 13,
    "start_time": "2023-08-13T13:37:46.539Z"
   },
   {
    "duration": 22,
    "start_time": "2023-08-13T13:37:46.570Z"
   },
   {
    "duration": 39,
    "start_time": "2023-08-13T13:37:46.594Z"
   },
   {
    "duration": 11,
    "start_time": "2023-08-13T13:37:46.635Z"
   },
   {
    "duration": 365,
    "start_time": "2023-08-13T13:37:46.648Z"
   },
   {
    "duration": 313,
    "start_time": "2023-08-13T13:37:47.015Z"
   },
   {
    "duration": 216,
    "start_time": "2023-08-13T13:37:47.329Z"
   },
   {
    "duration": 372,
    "start_time": "2023-08-13T13:37:47.547Z"
   },
   {
    "duration": 7,
    "start_time": "2023-08-13T13:37:47.920Z"
   },
   {
    "duration": 29,
    "start_time": "2023-08-13T13:37:47.929Z"
   },
   {
    "duration": 243,
    "start_time": "2023-08-13T13:37:47.959Z"
   },
   {
    "duration": 303,
    "start_time": "2023-08-13T13:37:48.204Z"
   },
   {
    "duration": 511,
    "start_time": "2023-08-13T13:37:48.509Z"
   },
   {
    "duration": 0,
    "start_time": "2023-08-13T13:37:49.022Z"
   },
   {
    "duration": 0,
    "start_time": "2023-08-13T13:37:49.023Z"
   },
   {
    "duration": 0,
    "start_time": "2023-08-13T13:37:49.025Z"
   },
   {
    "duration": 0,
    "start_time": "2023-08-13T13:37:49.026Z"
   },
   {
    "duration": 0,
    "start_time": "2023-08-13T13:37:49.027Z"
   },
   {
    "duration": 0,
    "start_time": "2023-08-13T13:37:49.029Z"
   },
   {
    "duration": 0,
    "start_time": "2023-08-13T13:37:49.030Z"
   },
   {
    "duration": 0,
    "start_time": "2023-08-13T13:37:49.032Z"
   },
   {
    "duration": 0,
    "start_time": "2023-08-13T13:37:49.033Z"
   },
   {
    "duration": 0,
    "start_time": "2023-08-13T13:37:49.034Z"
   },
   {
    "duration": 0,
    "start_time": "2023-08-13T13:37:49.035Z"
   },
   {
    "duration": 0,
    "start_time": "2023-08-13T13:37:49.036Z"
   },
   {
    "duration": 0,
    "start_time": "2023-08-13T13:37:49.038Z"
   },
   {
    "duration": 0,
    "start_time": "2023-08-13T13:37:49.040Z"
   },
   {
    "duration": 0,
    "start_time": "2023-08-13T13:37:49.041Z"
   },
   {
    "duration": 1,
    "start_time": "2023-08-13T13:37:49.041Z"
   },
   {
    "duration": 147,
    "start_time": "2023-08-13T13:44:37.814Z"
   },
   {
    "duration": 348,
    "start_time": "2023-08-13T13:44:47.067Z"
   },
   {
    "duration": 326,
    "start_time": "2023-08-13T13:45:49.607Z"
   },
   {
    "duration": 331,
    "start_time": "2023-08-13T13:46:04.812Z"
   },
   {
    "duration": 279,
    "start_time": "2023-08-13T13:46:56.714Z"
   },
   {
    "duration": 221,
    "start_time": "2023-08-13T13:47:19.086Z"
   },
   {
    "duration": 236,
    "start_time": "2023-08-13T13:47:49.154Z"
   },
   {
    "duration": 244,
    "start_time": "2023-08-13T13:54:08.226Z"
   },
   {
    "duration": 332,
    "start_time": "2023-08-13T13:55:42.581Z"
   },
   {
    "duration": 323,
    "start_time": "2023-08-13T13:56:49.795Z"
   },
   {
    "duration": 324,
    "start_time": "2023-08-13T13:57:11.482Z"
   },
   {
    "duration": 260,
    "start_time": "2023-08-13T14:02:17.571Z"
   },
   {
    "duration": 261,
    "start_time": "2023-08-13T14:02:34.187Z"
   },
   {
    "duration": 249,
    "start_time": "2023-08-13T14:02:47.061Z"
   },
   {
    "duration": 391,
    "start_time": "2023-08-13T14:02:53.561Z"
   },
   {
    "duration": 10,
    "start_time": "2023-08-13T14:04:00.010Z"
   },
   {
    "duration": 316,
    "start_time": "2023-08-13T14:07:02.690Z"
   },
   {
    "duration": 460,
    "start_time": "2023-08-13T14:07:43.424Z"
   },
   {
    "duration": 193,
    "start_time": "2023-08-13T14:08:36.896Z"
   },
   {
    "duration": 25,
    "start_time": "2023-08-13T14:10:36.350Z"
   },
   {
    "duration": 13,
    "start_time": "2023-08-13T14:11:52.848Z"
   },
   {
    "duration": 16,
    "start_time": "2023-08-13T14:11:52.864Z"
   },
   {
    "duration": 9,
    "start_time": "2023-08-13T14:11:52.883Z"
   },
   {
    "duration": 156,
    "start_time": "2023-08-13T14:11:52.894Z"
   },
   {
    "duration": 5,
    "start_time": "2023-08-13T14:11:53.052Z"
   },
   {
    "duration": 157,
    "start_time": "2023-08-13T14:11:53.073Z"
   },
   {
    "duration": 6,
    "start_time": "2023-08-13T14:11:53.232Z"
   },
   {
    "duration": 231,
    "start_time": "2023-08-13T14:11:53.240Z"
   },
   {
    "duration": 33,
    "start_time": "2023-08-13T14:11:53.473Z"
   },
   {
    "duration": 7,
    "start_time": "2023-08-13T14:11:53.507Z"
   },
   {
    "duration": 22,
    "start_time": "2023-08-13T14:11:53.515Z"
   },
   {
    "duration": 9,
    "start_time": "2023-08-13T14:11:53.539Z"
   },
   {
    "duration": 20,
    "start_time": "2023-08-13T14:11:53.567Z"
   },
   {
    "duration": 29,
    "start_time": "2023-08-13T14:11:53.589Z"
   },
   {
    "duration": 14,
    "start_time": "2023-08-13T14:11:53.620Z"
   },
   {
    "duration": 2212,
    "start_time": "2023-08-13T14:22:04.022Z"
   },
   {
    "duration": 2191,
    "start_time": "2023-08-13T14:22:11.157Z"
   },
   {
    "duration": 2838,
    "start_time": "2023-08-13T14:22:31.015Z"
   },
   {
    "duration": 143,
    "start_time": "2023-08-13T14:23:09.103Z"
   },
   {
    "duration": 20,
    "start_time": "2023-08-13T14:23:22.707Z"
   },
   {
    "duration": 152,
    "start_time": "2023-08-13T14:23:55.961Z"
   },
   {
    "duration": 6,
    "start_time": "2023-08-13T14:27:10.856Z"
   },
   {
    "duration": 3,
    "start_time": "2023-08-13T14:28:48.442Z"
   },
   {
    "duration": 37,
    "start_time": "2023-08-13T14:28:48.452Z"
   },
   {
    "duration": 17,
    "start_time": "2023-08-13T14:28:48.493Z"
   },
   {
    "duration": 42,
    "start_time": "2023-08-13T14:28:48.512Z"
   },
   {
    "duration": 26,
    "start_time": "2023-08-13T14:28:48.556Z"
   },
   {
    "duration": 13,
    "start_time": "2023-08-13T14:28:48.585Z"
   },
   {
    "duration": 20,
    "start_time": "2023-08-13T14:28:48.600Z"
   },
   {
    "duration": 11,
    "start_time": "2023-08-13T14:28:48.623Z"
   },
   {
    "duration": 22,
    "start_time": "2023-08-13T14:28:48.636Z"
   },
   {
    "duration": 10,
    "start_time": "2023-08-13T14:28:48.671Z"
   },
   {
    "duration": 7,
    "start_time": "2023-08-13T14:28:48.683Z"
   },
   {
    "duration": 15,
    "start_time": "2023-08-13T14:28:48.692Z"
   },
   {
    "duration": 21,
    "start_time": "2023-08-13T14:28:48.709Z"
   },
   {
    "duration": 18,
    "start_time": "2023-08-13T14:28:48.732Z"
   },
   {
    "duration": 26,
    "start_time": "2023-08-13T14:28:48.753Z"
   },
   {
    "duration": 8,
    "start_time": "2023-08-13T14:28:48.780Z"
   },
   {
    "duration": 7,
    "start_time": "2023-08-13T14:28:48.789Z"
   },
   {
    "duration": 225,
    "start_time": "2023-08-13T14:28:48.797Z"
   },
   {
    "duration": 202,
    "start_time": "2023-08-13T14:28:49.024Z"
   },
   {
    "duration": 13,
    "start_time": "2023-08-13T14:28:49.229Z"
   },
   {
    "duration": 33,
    "start_time": "2023-08-13T14:28:49.244Z"
   },
   {
    "duration": 11,
    "start_time": "2023-08-13T14:28:49.287Z"
   },
   {
    "duration": 7,
    "start_time": "2023-08-13T14:28:49.301Z"
   },
   {
    "duration": 320,
    "start_time": "2023-08-13T14:28:49.311Z"
   },
   {
    "duration": 272,
    "start_time": "2023-08-13T14:28:49.633Z"
   },
   {
    "duration": 286,
    "start_time": "2023-08-13T14:28:49.907Z"
   },
   {
    "duration": 352,
    "start_time": "2023-08-13T14:28:50.195Z"
   },
   {
    "duration": 7,
    "start_time": "2023-08-13T14:28:50.549Z"
   },
   {
    "duration": 22,
    "start_time": "2023-08-13T14:28:50.567Z"
   },
   {
    "duration": 267,
    "start_time": "2023-08-13T14:28:50.591Z"
   },
   {
    "duration": 476,
    "start_time": "2023-08-13T14:28:50.868Z"
   },
   {
    "duration": 35,
    "start_time": "2023-08-13T14:28:51.345Z"
   },
   {
    "duration": 158,
    "start_time": "2023-08-13T14:28:51.382Z"
   },
   {
    "duration": 4,
    "start_time": "2023-08-13T14:28:51.542Z"
   },
   {
    "duration": 23,
    "start_time": "2023-08-13T14:28:51.548Z"
   },
   {
    "duration": 6,
    "start_time": "2023-08-13T14:28:51.573Z"
   },
   {
    "duration": 4,
    "start_time": "2023-08-13T14:28:51.581Z"
   },
   {
    "duration": 12,
    "start_time": "2023-08-13T14:28:51.586Z"
   },
   {
    "duration": 158,
    "start_time": "2023-08-13T14:28:51.600Z"
   },
   {
    "duration": 7,
    "start_time": "2023-08-13T14:28:51.768Z"
   },
   {
    "duration": 233,
    "start_time": "2023-08-13T14:28:51.776Z"
   },
   {
    "duration": 32,
    "start_time": "2023-08-13T14:28:52.012Z"
   },
   {
    "duration": 38,
    "start_time": "2023-08-13T14:28:52.046Z"
   },
   {
    "duration": 35,
    "start_time": "2023-08-13T14:28:52.086Z"
   },
   {
    "duration": 13,
    "start_time": "2023-08-13T14:28:52.123Z"
   },
   {
    "duration": 20,
    "start_time": "2023-08-13T14:28:52.139Z"
   },
   {
    "duration": 45,
    "start_time": "2023-08-13T14:28:52.161Z"
   },
   {
    "duration": 18,
    "start_time": "2023-08-13T14:28:52.208Z"
   },
   {
    "duration": 274,
    "start_time": "2023-08-13T14:31:59.399Z"
   },
   {
    "duration": 143,
    "start_time": "2023-08-13T14:34:36.599Z"
   },
   {
    "duration": 312,
    "start_time": "2023-08-13T14:34:55.146Z"
   },
   {
    "duration": 1383,
    "start_time": "2023-08-13T14:35:44.441Z"
   },
   {
    "duration": 115,
    "start_time": "2023-08-13T14:35:45.827Z"
   },
   {
    "duration": 13,
    "start_time": "2023-08-13T14:35:45.944Z"
   },
   {
    "duration": 68,
    "start_time": "2023-08-13T14:35:45.960Z"
   },
   {
    "duration": 29,
    "start_time": "2023-08-13T14:35:46.031Z"
   },
   {
    "duration": 28,
    "start_time": "2023-08-13T14:35:46.062Z"
   },
   {
    "duration": 31,
    "start_time": "2023-08-13T14:35:46.092Z"
   },
   {
    "duration": 14,
    "start_time": "2023-08-13T14:35:46.125Z"
   },
   {
    "duration": 7,
    "start_time": "2023-08-13T14:35:46.141Z"
   },
   {
    "duration": 7,
    "start_time": "2023-08-13T14:35:46.152Z"
   },
   {
    "duration": 11,
    "start_time": "2023-08-13T14:35:46.161Z"
   },
   {
    "duration": 30,
    "start_time": "2023-08-13T14:35:46.176Z"
   },
   {
    "duration": 5,
    "start_time": "2023-08-13T14:35:46.208Z"
   },
   {
    "duration": 9,
    "start_time": "2023-08-13T14:35:46.216Z"
   },
   {
    "duration": 8,
    "start_time": "2023-08-13T14:35:46.227Z"
   },
   {
    "duration": 7,
    "start_time": "2023-08-13T14:35:46.237Z"
   },
   {
    "duration": 10,
    "start_time": "2023-08-13T14:35:46.273Z"
   },
   {
    "duration": 248,
    "start_time": "2023-08-13T14:35:46.285Z"
   },
   {
    "duration": 250,
    "start_time": "2023-08-13T14:35:46.535Z"
   },
   {
    "duration": 21,
    "start_time": "2023-08-13T14:35:46.796Z"
   },
   {
    "duration": 14,
    "start_time": "2023-08-13T14:35:46.819Z"
   },
   {
    "duration": 19,
    "start_time": "2023-08-13T14:35:46.835Z"
   },
   {
    "duration": 27,
    "start_time": "2023-08-13T14:35:46.856Z"
   },
   {
    "duration": 487,
    "start_time": "2023-08-13T14:35:46.885Z"
   },
   {
    "duration": 438,
    "start_time": "2023-08-13T14:35:47.375Z"
   },
   {
    "duration": 319,
    "start_time": "2023-08-13T14:35:47.815Z"
   },
   {
    "duration": 357,
    "start_time": "2023-08-13T14:35:48.136Z"
   },
   {
    "duration": 8,
    "start_time": "2023-08-13T14:35:48.498Z"
   },
   {
    "duration": 13,
    "start_time": "2023-08-13T14:35:48.509Z"
   },
   {
    "duration": 328,
    "start_time": "2023-08-13T14:35:48.524Z"
   },
   {
    "duration": 440,
    "start_time": "2023-08-13T14:35:48.856Z"
   },
   {
    "duration": 234,
    "start_time": "2023-08-13T14:35:49.312Z"
   },
   {
    "duration": 224,
    "start_time": "2023-08-13T14:35:49.547Z"
   },
   {
    "duration": 6,
    "start_time": "2023-08-13T14:35:49.780Z"
   },
   {
    "duration": 14,
    "start_time": "2023-08-13T14:35:49.788Z"
   },
   {
    "duration": 7,
    "start_time": "2023-08-13T14:35:49.805Z"
   },
   {
    "duration": 4,
    "start_time": "2023-08-13T14:35:49.821Z"
   },
   {
    "duration": 18,
    "start_time": "2023-08-13T14:35:49.828Z"
   },
   {
    "duration": 189,
    "start_time": "2023-08-13T14:35:49.849Z"
   },
   {
    "duration": 5,
    "start_time": "2023-08-13T14:35:50.040Z"
   },
   {
    "duration": 392,
    "start_time": "2023-08-13T14:35:50.046Z"
   },
   {
    "duration": 45,
    "start_time": "2023-08-13T14:35:50.440Z"
   },
   {
    "duration": 147,
    "start_time": "2023-08-13T14:35:50.487Z"
   },
   {
    "duration": 0,
    "start_time": "2023-08-13T14:35:50.637Z"
   },
   {
    "duration": 0,
    "start_time": "2023-08-13T14:35:50.639Z"
   },
   {
    "duration": 0,
    "start_time": "2023-08-13T14:35:50.641Z"
   },
   {
    "duration": 0,
    "start_time": "2023-08-13T14:35:50.642Z"
   },
   {
    "duration": 0,
    "start_time": "2023-08-13T14:35:50.644Z"
   },
   {
    "duration": 203,
    "start_time": "2023-08-13T14:37:57.140Z"
   },
   {
    "duration": 198,
    "start_time": "2023-08-13T14:38:02.556Z"
   },
   {
    "duration": 206,
    "start_time": "2023-08-13T14:39:29.553Z"
   },
   {
    "duration": 206,
    "start_time": "2023-08-13T14:39:46.179Z"
   },
   {
    "duration": 204,
    "start_time": "2023-08-13T14:40:37.131Z"
   },
   {
    "duration": 7,
    "start_time": "2023-08-13T14:42:57.899Z"
   },
   {
    "duration": 44,
    "start_time": "2023-08-13T18:21:27.283Z"
   },
   {
    "duration": 7,
    "start_time": "2023-08-13T18:22:14.938Z"
   },
   {
    "duration": 7,
    "start_time": "2023-08-13T18:23:13.428Z"
   },
   {
    "duration": 1134,
    "start_time": "2023-08-13T18:23:27.752Z"
   },
   {
    "duration": 111,
    "start_time": "2023-08-13T18:23:28.888Z"
   },
   {
    "duration": 10,
    "start_time": "2023-08-13T18:23:29.000Z"
   },
   {
    "duration": 87,
    "start_time": "2023-08-13T18:23:29.011Z"
   },
   {
    "duration": 54,
    "start_time": "2023-08-13T18:23:29.100Z"
   },
   {
    "duration": 8,
    "start_time": "2023-08-13T18:23:29.156Z"
   },
   {
    "duration": 11,
    "start_time": "2023-08-13T18:23:29.165Z"
   },
   {
    "duration": 13,
    "start_time": "2023-08-13T18:23:29.178Z"
   },
   {
    "duration": 8,
    "start_time": "2023-08-13T18:23:29.192Z"
   },
   {
    "duration": 5,
    "start_time": "2023-08-13T18:23:29.202Z"
   },
   {
    "duration": 6,
    "start_time": "2023-08-13T18:23:29.208Z"
   },
   {
    "duration": 21,
    "start_time": "2023-08-13T18:23:29.216Z"
   },
   {
    "duration": 7,
    "start_time": "2023-08-13T18:23:29.239Z"
   },
   {
    "duration": 13,
    "start_time": "2023-08-13T18:23:29.247Z"
   },
   {
    "duration": 11,
    "start_time": "2023-08-13T18:23:29.261Z"
   },
   {
    "duration": 9,
    "start_time": "2023-08-13T18:23:29.273Z"
   },
   {
    "duration": 11,
    "start_time": "2023-08-13T18:23:29.283Z"
   },
   {
    "duration": 140,
    "start_time": "2023-08-13T18:23:29.296Z"
   },
   {
    "duration": 142,
    "start_time": "2023-08-13T18:23:29.437Z"
   },
   {
    "duration": 19,
    "start_time": "2023-08-13T18:23:29.581Z"
   },
   {
    "duration": 10,
    "start_time": "2023-08-13T18:23:29.602Z"
   },
   {
    "duration": 14,
    "start_time": "2023-08-13T18:23:29.613Z"
   },
   {
    "duration": 7,
    "start_time": "2023-08-13T18:23:29.629Z"
   },
   {
    "duration": 264,
    "start_time": "2023-08-13T18:23:29.637Z"
   },
   {
    "duration": 263,
    "start_time": "2023-08-13T18:23:29.902Z"
   },
   {
    "duration": 251,
    "start_time": "2023-08-13T18:23:30.167Z"
   },
   {
    "duration": 314,
    "start_time": "2023-08-13T18:23:30.420Z"
   },
   {
    "duration": 5,
    "start_time": "2023-08-13T18:23:30.737Z"
   },
   {
    "duration": 53,
    "start_time": "2023-08-13T18:23:30.744Z"
   },
   {
    "duration": 247,
    "start_time": "2023-08-13T18:23:30.798Z"
   },
   {
    "duration": 239,
    "start_time": "2023-08-13T18:23:31.046Z"
   },
   {
    "duration": 274,
    "start_time": "2023-08-13T18:23:38.165Z"
   },
   {
    "duration": 63,
    "start_time": "2023-08-13T18:24:10.169Z"
   },
   {
    "duration": 3,
    "start_time": "2023-08-13T18:24:17.620Z"
   },
   {
    "duration": 41,
    "start_time": "2023-08-13T18:24:17.625Z"
   },
   {
    "duration": 9,
    "start_time": "2023-08-13T18:24:17.667Z"
   },
   {
    "duration": 51,
    "start_time": "2023-08-13T18:24:17.677Z"
   },
   {
    "duration": 16,
    "start_time": "2023-08-13T18:24:17.730Z"
   },
   {
    "duration": 8,
    "start_time": "2023-08-13T18:24:17.747Z"
   },
   {
    "duration": 13,
    "start_time": "2023-08-13T18:24:17.756Z"
   },
   {
    "duration": 9,
    "start_time": "2023-08-13T18:24:17.770Z"
   },
   {
    "duration": 12,
    "start_time": "2023-08-13T18:24:17.781Z"
   },
   {
    "duration": 7,
    "start_time": "2023-08-13T18:24:17.794Z"
   },
   {
    "duration": 11,
    "start_time": "2023-08-13T18:24:17.804Z"
   },
   {
    "duration": 15,
    "start_time": "2023-08-13T18:24:17.816Z"
   },
   {
    "duration": 12,
    "start_time": "2023-08-13T18:24:17.833Z"
   },
   {
    "duration": 14,
    "start_time": "2023-08-13T18:24:17.846Z"
   },
   {
    "duration": 11,
    "start_time": "2023-08-13T18:24:17.861Z"
   },
   {
    "duration": 9,
    "start_time": "2023-08-13T18:24:17.874Z"
   },
   {
    "duration": 7,
    "start_time": "2023-08-13T18:24:17.885Z"
   },
   {
    "duration": 130,
    "start_time": "2023-08-13T18:24:17.894Z"
   },
   {
    "duration": 130,
    "start_time": "2023-08-13T18:24:18.025Z"
   },
   {
    "duration": 6,
    "start_time": "2023-08-13T18:24:18.157Z"
   },
   {
    "duration": 13,
    "start_time": "2023-08-13T18:24:18.165Z"
   },
   {
    "duration": 16,
    "start_time": "2023-08-13T18:24:18.184Z"
   },
   {
    "duration": 5,
    "start_time": "2023-08-13T18:24:18.201Z"
   },
   {
    "duration": 298,
    "start_time": "2023-08-13T18:24:18.207Z"
   },
   {
    "duration": 186,
    "start_time": "2023-08-13T18:24:18.506Z"
   },
   {
    "duration": 186,
    "start_time": "2023-08-13T18:24:18.694Z"
   },
   {
    "duration": 306,
    "start_time": "2023-08-13T18:24:18.881Z"
   },
   {
    "duration": 13,
    "start_time": "2023-08-13T18:24:19.189Z"
   },
   {
    "duration": 15,
    "start_time": "2023-08-13T18:24:19.206Z"
   },
   {
    "duration": 192,
    "start_time": "2023-08-13T18:24:19.223Z"
   },
   {
    "duration": 282,
    "start_time": "2023-08-13T18:24:19.417Z"
   },
   {
    "duration": 229,
    "start_time": "2023-08-13T18:24:19.701Z"
   },
   {
    "duration": 127,
    "start_time": "2023-08-13T18:24:19.932Z"
   },
   {
    "duration": 2,
    "start_time": "2023-08-13T18:24:20.061Z"
   },
   {
    "duration": 9,
    "start_time": "2023-08-13T18:24:20.065Z"
   },
   {
    "duration": 17,
    "start_time": "2023-08-13T18:24:20.075Z"
   },
   {
    "duration": 16,
    "start_time": "2023-08-13T18:24:20.093Z"
   },
   {
    "duration": 6,
    "start_time": "2023-08-13T18:24:20.111Z"
   },
   {
    "duration": 136,
    "start_time": "2023-08-13T18:24:20.118Z"
   },
   {
    "duration": 4,
    "start_time": "2023-08-13T18:24:20.256Z"
   },
   {
    "duration": 184,
    "start_time": "2023-08-13T18:24:20.261Z"
   },
   {
    "duration": 25,
    "start_time": "2023-08-13T18:24:20.446Z"
   },
   {
    "duration": 5,
    "start_time": "2023-08-13T18:24:23.335Z"
   },
   {
    "duration": 18,
    "start_time": "2023-08-13T18:25:04.754Z"
   },
   {
    "duration": 18,
    "start_time": "2023-08-13T18:28:22.644Z"
   },
   {
    "duration": 20,
    "start_time": "2023-08-13T18:28:29.155Z"
   },
   {
    "duration": 11,
    "start_time": "2023-08-13T18:39:43.410Z"
   },
   {
    "duration": 10,
    "start_time": "2023-08-13T18:39:51.662Z"
   },
   {
    "duration": 9,
    "start_time": "2023-08-13T18:41:09.292Z"
   },
   {
    "duration": 8,
    "start_time": "2023-08-13T18:42:58.267Z"
   },
   {
    "duration": 7,
    "start_time": "2023-08-13T18:43:05.005Z"
   },
   {
    "duration": 27,
    "start_time": "2023-08-13T18:43:05.963Z"
   },
   {
    "duration": 11,
    "start_time": "2023-08-13T18:44:34.424Z"
   },
   {
    "duration": 53,
    "start_time": "2023-08-14T18:16:42.974Z"
   },
   {
    "duration": 2644,
    "start_time": "2023-08-14T18:16:50.524Z"
   },
   {
    "duration": 147,
    "start_time": "2023-08-14T18:16:53.171Z"
   },
   {
    "duration": 11,
    "start_time": "2023-08-14T18:16:53.320Z"
   },
   {
    "duration": 142,
    "start_time": "2023-08-14T18:16:53.334Z"
   },
   {
    "duration": 55,
    "start_time": "2023-08-14T18:16:53.478Z"
   },
   {
    "duration": 11,
    "start_time": "2023-08-14T18:16:53.535Z"
   },
   {
    "duration": 13,
    "start_time": "2023-08-14T18:16:53.548Z"
   },
   {
    "duration": 12,
    "start_time": "2023-08-14T18:16:53.563Z"
   },
   {
    "duration": 6,
    "start_time": "2023-08-14T18:16:53.576Z"
   },
   {
    "duration": 13,
    "start_time": "2023-08-14T18:16:53.584Z"
   },
   {
    "duration": 10,
    "start_time": "2023-08-14T18:16:53.598Z"
   },
   {
    "duration": 13,
    "start_time": "2023-08-14T18:16:53.610Z"
   },
   {
    "duration": 9,
    "start_time": "2023-08-14T18:16:53.625Z"
   },
   {
    "duration": 9,
    "start_time": "2023-08-14T18:16:53.636Z"
   },
   {
    "duration": 9,
    "start_time": "2023-08-14T18:16:53.647Z"
   },
   {
    "duration": 16,
    "start_time": "2023-08-14T18:16:53.657Z"
   },
   {
    "duration": 27,
    "start_time": "2023-08-14T18:16:53.675Z"
   },
   {
    "duration": 180,
    "start_time": "2023-08-14T18:16:53.708Z"
   },
   {
    "duration": 174,
    "start_time": "2023-08-14T18:16:53.890Z"
   },
   {
    "duration": 11,
    "start_time": "2023-08-14T18:16:54.066Z"
   },
   {
    "duration": 13,
    "start_time": "2023-08-14T18:16:54.079Z"
   },
   {
    "duration": 20,
    "start_time": "2023-08-14T18:16:54.094Z"
   },
   {
    "duration": 10,
    "start_time": "2023-08-14T18:16:54.116Z"
   },
   {
    "duration": 298,
    "start_time": "2023-08-14T18:16:54.127Z"
   },
   {
    "duration": 7,
    "start_time": "2023-08-14T18:16:57.196Z"
   },
   {
    "duration": 6,
    "start_time": "2023-08-14T18:17:48.714Z"
   },
   {
    "duration": 7,
    "start_time": "2023-08-14T18:18:35.805Z"
   },
   {
    "duration": 64,
    "start_time": "2023-08-14T18:31:55.427Z"
   },
   {
    "duration": 3,
    "start_time": "2023-08-14T18:32:03.416Z"
   },
   {
    "duration": 31,
    "start_time": "2023-08-14T18:32:03.468Z"
   },
   {
    "duration": 18,
    "start_time": "2023-08-14T18:32:03.501Z"
   },
   {
    "duration": 47,
    "start_time": "2023-08-14T18:32:03.521Z"
   },
   {
    "duration": 19,
    "start_time": "2023-08-14T18:32:03.569Z"
   },
   {
    "duration": 12,
    "start_time": "2023-08-14T18:32:03.591Z"
   },
   {
    "duration": 26,
    "start_time": "2023-08-14T18:32:03.605Z"
   },
   {
    "duration": 13,
    "start_time": "2023-08-14T18:32:03.634Z"
   },
   {
    "duration": 7,
    "start_time": "2023-08-14T18:32:03.649Z"
   },
   {
    "duration": 6,
    "start_time": "2023-08-14T18:32:03.658Z"
   },
   {
    "duration": 8,
    "start_time": "2023-08-14T18:32:03.665Z"
   },
   {
    "duration": 17,
    "start_time": "2023-08-14T18:32:03.675Z"
   },
   {
    "duration": 15,
    "start_time": "2023-08-14T18:32:03.694Z"
   },
   {
    "duration": 24,
    "start_time": "2023-08-14T18:32:03.710Z"
   },
   {
    "duration": 10,
    "start_time": "2023-08-14T18:32:03.738Z"
   },
   {
    "duration": 18,
    "start_time": "2023-08-14T18:32:03.749Z"
   },
   {
    "duration": 16,
    "start_time": "2023-08-14T18:32:03.768Z"
   },
   {
    "duration": 164,
    "start_time": "2023-08-14T18:32:03.786Z"
   },
   {
    "duration": 178,
    "start_time": "2023-08-14T18:32:03.952Z"
   },
   {
    "duration": 9,
    "start_time": "2023-08-14T18:32:04.132Z"
   },
   {
    "duration": 13,
    "start_time": "2023-08-14T18:32:04.142Z"
   },
   {
    "duration": 12,
    "start_time": "2023-08-14T18:32:04.157Z"
   },
   {
    "duration": 13,
    "start_time": "2023-08-14T18:32:04.171Z"
   },
   {
    "duration": 24,
    "start_time": "2023-08-14T18:32:04.185Z"
   },
   {
    "duration": 285,
    "start_time": "2023-08-14T18:32:04.211Z"
   },
   {
    "duration": 300,
    "start_time": "2023-08-14T18:32:04.498Z"
   },
   {
    "duration": 233,
    "start_time": "2023-08-14T18:32:04.800Z"
   },
   {
    "duration": 327,
    "start_time": "2023-08-14T18:32:05.035Z"
   },
   {
    "duration": 6,
    "start_time": "2023-08-14T18:32:05.364Z"
   },
   {
    "duration": 24,
    "start_time": "2023-08-14T18:32:05.372Z"
   },
   {
    "duration": 235,
    "start_time": "2023-08-14T18:32:05.398Z"
   },
   {
    "duration": 431,
    "start_time": "2023-08-14T18:32:05.634Z"
   },
   {
    "duration": 288,
    "start_time": "2023-08-14T18:32:06.067Z"
   },
   {
    "duration": 144,
    "start_time": "2023-08-14T18:32:06.356Z"
   },
   {
    "duration": 14,
    "start_time": "2023-08-14T18:32:06.509Z"
   },
   {
    "duration": 0,
    "start_time": "2023-08-14T18:32:06.525Z"
   },
   {
    "duration": 0,
    "start_time": "2023-08-14T18:32:06.526Z"
   },
   {
    "duration": 0,
    "start_time": "2023-08-14T18:32:06.527Z"
   },
   {
    "duration": 0,
    "start_time": "2023-08-14T18:32:06.529Z"
   },
   {
    "duration": 0,
    "start_time": "2023-08-14T18:32:06.530Z"
   },
   {
    "duration": 0,
    "start_time": "2023-08-14T18:32:06.531Z"
   },
   {
    "duration": 0,
    "start_time": "2023-08-14T18:32:06.532Z"
   },
   {
    "duration": 0,
    "start_time": "2023-08-14T18:32:06.532Z"
   },
   {
    "duration": 0,
    "start_time": "2023-08-14T18:32:06.533Z"
   },
   {
    "duration": 0,
    "start_time": "2023-08-14T18:32:06.534Z"
   },
   {
    "duration": 0,
    "start_time": "2023-08-14T18:32:06.535Z"
   },
   {
    "duration": 0,
    "start_time": "2023-08-14T18:32:06.536Z"
   },
   {
    "duration": 0,
    "start_time": "2023-08-14T18:32:06.536Z"
   },
   {
    "duration": 0,
    "start_time": "2023-08-14T18:32:06.537Z"
   },
   {
    "duration": 0,
    "start_time": "2023-08-14T18:32:06.538Z"
   },
   {
    "duration": 13,
    "start_time": "2023-08-14T18:32:19.543Z"
   },
   {
    "duration": 5,
    "start_time": "2023-08-14T18:33:29.766Z"
   },
   {
    "duration": 159,
    "start_time": "2023-08-14T18:33:37.172Z"
   },
   {
    "duration": 5,
    "start_time": "2023-08-14T18:34:45.571Z"
   },
   {
    "duration": 208,
    "start_time": "2023-08-14T18:34:45.579Z"
   },
   {
    "duration": 38,
    "start_time": "2023-08-14T18:34:45.789Z"
   },
   {
    "duration": 6,
    "start_time": "2023-08-14T18:34:45.829Z"
   },
   {
    "duration": 27,
    "start_time": "2023-08-14T18:34:45.837Z"
   },
   {
    "duration": 11,
    "start_time": "2023-08-14T18:34:45.866Z"
   },
   {
    "duration": 33,
    "start_time": "2023-08-14T18:34:45.879Z"
   },
   {
    "duration": 10,
    "start_time": "2023-08-14T18:34:45.914Z"
   },
   {
    "duration": 29,
    "start_time": "2023-08-14T18:34:45.926Z"
   },
   {
    "duration": 18,
    "start_time": "2023-08-14T18:34:45.956Z"
   },
   {
    "duration": 123,
    "start_time": "2023-08-14T18:51:25.183Z"
   },
   {
    "duration": 29,
    "start_time": "2023-08-14T18:51:33.324Z"
   },
   {
    "duration": 28,
    "start_time": "2023-08-14T18:57:33.569Z"
   },
   {
    "duration": 24,
    "start_time": "2023-08-14T18:57:53.670Z"
   },
   {
    "duration": 23,
    "start_time": "2023-08-14T18:58:34.162Z"
   },
   {
    "duration": 14,
    "start_time": "2023-08-14T19:00:06.337Z"
   },
   {
    "duration": 24,
    "start_time": "2023-08-14T19:07:01.504Z"
   },
   {
    "duration": 17,
    "start_time": "2023-08-14T19:11:44.127Z"
   },
   {
    "duration": 18,
    "start_time": "2023-08-14T19:12:17.765Z"
   },
   {
    "duration": 1348,
    "start_time": "2023-08-15T12:37:20.110Z"
   },
   {
    "duration": 118,
    "start_time": "2023-08-15T12:37:21.463Z"
   },
   {
    "duration": 32,
    "start_time": "2023-08-15T12:37:21.583Z"
   },
   {
    "duration": 106,
    "start_time": "2023-08-15T12:37:21.618Z"
   },
   {
    "duration": 61,
    "start_time": "2023-08-15T12:37:21.727Z"
   },
   {
    "duration": 22,
    "start_time": "2023-08-15T12:37:21.790Z"
   },
   {
    "duration": 47,
    "start_time": "2023-08-15T12:37:21.817Z"
   },
   {
    "duration": 36,
    "start_time": "2023-08-15T12:37:21.866Z"
   },
   {
    "duration": 20,
    "start_time": "2023-08-15T12:37:21.906Z"
   },
   {
    "duration": 28,
    "start_time": "2023-08-15T12:37:21.930Z"
   },
   {
    "duration": 34,
    "start_time": "2023-08-15T12:37:21.960Z"
   },
   {
    "duration": 31,
    "start_time": "2023-08-15T12:37:21.999Z"
   },
   {
    "duration": 27,
    "start_time": "2023-08-15T12:37:22.032Z"
   },
   {
    "duration": 54,
    "start_time": "2023-08-15T12:37:22.062Z"
   },
   {
    "duration": 94,
    "start_time": "2023-08-15T12:37:22.120Z"
   },
   {
    "duration": 29,
    "start_time": "2023-08-15T12:37:22.217Z"
   },
   {
    "duration": 29,
    "start_time": "2023-08-15T12:37:22.248Z"
   },
   {
    "duration": 230,
    "start_time": "2023-08-15T12:37:22.280Z"
   },
   {
    "duration": 242,
    "start_time": "2023-08-15T12:37:22.514Z"
   },
   {
    "duration": 10,
    "start_time": "2023-08-15T12:37:22.758Z"
   },
   {
    "duration": 27,
    "start_time": "2023-08-15T12:37:22.770Z"
   },
   {
    "duration": 22,
    "start_time": "2023-08-15T12:37:22.799Z"
   },
   {
    "duration": 39,
    "start_time": "2023-08-15T12:37:22.823Z"
   },
   {
    "duration": 33,
    "start_time": "2023-08-15T12:37:22.864Z"
   },
   {
    "duration": 341,
    "start_time": "2023-08-15T12:37:22.903Z"
   },
   {
    "duration": 355,
    "start_time": "2023-08-15T12:37:23.246Z"
   },
   {
    "duration": 252,
    "start_time": "2023-08-15T12:37:23.605Z"
   },
   {
    "duration": 437,
    "start_time": "2023-08-15T12:37:23.862Z"
   },
   {
    "duration": 8,
    "start_time": "2023-08-15T12:37:24.301Z"
   },
   {
    "duration": 51,
    "start_time": "2023-08-15T12:37:24.311Z"
   },
   {
    "duration": 343,
    "start_time": "2023-08-15T12:37:24.364Z"
   },
   {
    "duration": 363,
    "start_time": "2023-08-15T12:37:24.712Z"
   },
   {
    "duration": 465,
    "start_time": "2023-08-15T12:37:25.077Z"
   },
   {
    "duration": 178,
    "start_time": "2023-08-15T12:37:25.545Z"
   },
   {
    "duration": 5,
    "start_time": "2023-08-15T12:37:25.724Z"
   },
   {
    "duration": 210,
    "start_time": "2023-08-15T12:37:25.731Z"
   },
   {
    "duration": 5,
    "start_time": "2023-08-15T12:37:25.943Z"
   },
   {
    "duration": 366,
    "start_time": "2023-08-15T12:37:25.950Z"
   },
   {
    "duration": 43,
    "start_time": "2023-08-15T12:37:26.318Z"
   },
   {
    "duration": 26,
    "start_time": "2023-08-15T12:37:26.363Z"
   },
   {
    "duration": 63,
    "start_time": "2023-08-15T12:37:26.391Z"
   },
   {
    "duration": 16,
    "start_time": "2023-08-15T12:37:26.457Z"
   },
   {
    "duration": 38,
    "start_time": "2023-08-15T12:37:26.474Z"
   },
   {
    "duration": 28,
    "start_time": "2023-08-15T12:37:26.514Z"
   },
   {
    "duration": 56,
    "start_time": "2023-08-15T12:37:26.544Z"
   },
   {
    "duration": 21,
    "start_time": "2023-08-15T12:37:26.604Z"
   },
   {
    "duration": 4,
    "start_time": "2023-08-15T13:16:30.862Z"
   },
   {
    "duration": 83,
    "start_time": "2023-08-15T13:16:30.871Z"
   },
   {
    "duration": 23,
    "start_time": "2023-08-15T13:16:30.956Z"
   },
   {
    "duration": 69,
    "start_time": "2023-08-15T13:16:30.981Z"
   },
   {
    "duration": 20,
    "start_time": "2023-08-15T13:16:31.053Z"
   },
   {
    "duration": 22,
    "start_time": "2023-08-15T13:16:31.075Z"
   },
   {
    "duration": 48,
    "start_time": "2023-08-15T13:16:31.099Z"
   },
   {
    "duration": 26,
    "start_time": "2023-08-15T13:16:31.149Z"
   },
   {
    "duration": 45,
    "start_time": "2023-08-15T13:16:31.177Z"
   },
   {
    "duration": 40,
    "start_time": "2023-08-15T13:16:31.223Z"
   },
   {
    "duration": 64,
    "start_time": "2023-08-15T13:16:31.266Z"
   },
   {
    "duration": 92,
    "start_time": "2023-08-15T13:16:31.332Z"
   },
   {
    "duration": 48,
    "start_time": "2023-08-15T13:16:31.426Z"
   },
   {
    "duration": 40,
    "start_time": "2023-08-15T13:16:31.476Z"
   },
   {
    "duration": 40,
    "start_time": "2023-08-15T13:16:31.519Z"
   },
   {
    "duration": 48,
    "start_time": "2023-08-15T13:16:31.561Z"
   },
   {
    "duration": 41,
    "start_time": "2023-08-15T13:16:31.613Z"
   },
   {
    "duration": 207,
    "start_time": "2023-08-15T13:16:31.656Z"
   },
   {
    "duration": 191,
    "start_time": "2023-08-15T13:16:31.865Z"
   },
   {
    "duration": 9,
    "start_time": "2023-08-15T13:16:32.058Z"
   },
   {
    "duration": 45,
    "start_time": "2023-08-15T13:16:32.069Z"
   },
   {
    "duration": 47,
    "start_time": "2023-08-15T13:16:32.116Z"
   },
   {
    "duration": 22,
    "start_time": "2023-08-15T13:16:32.164Z"
   },
   {
    "duration": 28,
    "start_time": "2023-08-15T13:16:32.202Z"
   },
   {
    "duration": 392,
    "start_time": "2023-08-15T13:16:32.232Z"
   },
   {
    "duration": 232,
    "start_time": "2023-08-15T13:16:32.626Z"
   },
   {
    "duration": 249,
    "start_time": "2023-08-15T13:16:32.860Z"
   },
   {
    "duration": 317,
    "start_time": "2023-08-15T13:16:33.111Z"
   },
   {
    "duration": 6,
    "start_time": "2023-08-15T13:16:33.432Z"
   },
   {
    "duration": 38,
    "start_time": "2023-08-15T13:16:33.439Z"
   },
   {
    "duration": 254,
    "start_time": "2023-08-15T13:16:33.478Z"
   },
   {
    "duration": 305,
    "start_time": "2023-08-15T13:16:33.734Z"
   },
   {
    "duration": 263,
    "start_time": "2023-08-15T13:16:34.041Z"
   },
   {
    "duration": 155,
    "start_time": "2023-08-15T13:16:34.306Z"
   },
   {
    "duration": 5,
    "start_time": "2023-08-15T13:16:34.462Z"
   },
   {
    "duration": 192,
    "start_time": "2023-08-15T13:16:34.468Z"
   },
   {
    "duration": 4,
    "start_time": "2023-08-15T13:16:34.662Z"
   },
   {
    "duration": 198,
    "start_time": "2023-08-15T13:16:34.668Z"
   },
   {
    "duration": 0,
    "start_time": "2023-08-15T13:16:34.868Z"
   },
   {
    "duration": 0,
    "start_time": "2023-08-15T13:16:34.870Z"
   },
   {
    "duration": 0,
    "start_time": "2023-08-15T13:16:34.871Z"
   },
   {
    "duration": 0,
    "start_time": "2023-08-15T13:16:34.873Z"
   },
   {
    "duration": 0,
    "start_time": "2023-08-15T13:16:34.874Z"
   },
   {
    "duration": 0,
    "start_time": "2023-08-15T13:16:34.876Z"
   },
   {
    "duration": 0,
    "start_time": "2023-08-15T13:16:34.889Z"
   },
   {
    "duration": 0,
    "start_time": "2023-08-15T13:16:34.894Z"
   },
   {
    "duration": 208,
    "start_time": "2023-08-15T13:17:25.203Z"
   },
   {
    "duration": 4,
    "start_time": "2023-08-15T13:17:34.817Z"
   },
   {
    "duration": 37,
    "start_time": "2023-08-15T13:17:34.826Z"
   },
   {
    "duration": 15,
    "start_time": "2023-08-15T13:17:34.866Z"
   },
   {
    "duration": 51,
    "start_time": "2023-08-15T13:17:34.883Z"
   },
   {
    "duration": 31,
    "start_time": "2023-08-15T13:17:34.937Z"
   },
   {
    "duration": 13,
    "start_time": "2023-08-15T13:17:34.970Z"
   },
   {
    "duration": 14,
    "start_time": "2023-08-15T13:17:34.986Z"
   },
   {
    "duration": 13,
    "start_time": "2023-08-15T13:17:35.002Z"
   },
   {
    "duration": 7,
    "start_time": "2023-08-15T13:17:35.018Z"
   },
   {
    "duration": 36,
    "start_time": "2023-08-15T13:17:35.028Z"
   },
   {
    "duration": 33,
    "start_time": "2023-08-15T13:17:35.067Z"
   },
   {
    "duration": 17,
    "start_time": "2023-08-15T13:17:35.105Z"
   },
   {
    "duration": 8,
    "start_time": "2023-08-15T13:17:35.124Z"
   },
   {
    "duration": 23,
    "start_time": "2023-08-15T13:17:35.134Z"
   },
   {
    "duration": 7,
    "start_time": "2023-08-15T13:17:35.158Z"
   },
   {
    "duration": 32,
    "start_time": "2023-08-15T13:17:35.167Z"
   },
   {
    "duration": 14,
    "start_time": "2023-08-15T13:17:35.202Z"
   },
   {
    "duration": 331,
    "start_time": "2023-08-15T13:17:35.218Z"
   },
   {
    "duration": 209,
    "start_time": "2023-08-15T13:17:35.551Z"
   },
   {
    "duration": 11,
    "start_time": "2023-08-15T13:17:35.763Z"
   },
   {
    "duration": 25,
    "start_time": "2023-08-15T13:17:35.789Z"
   },
   {
    "duration": 34,
    "start_time": "2023-08-15T13:17:35.816Z"
   },
   {
    "duration": 62,
    "start_time": "2023-08-15T13:17:35.852Z"
   },
   {
    "duration": 43,
    "start_time": "2023-08-15T13:17:35.916Z"
   },
   {
    "duration": 333,
    "start_time": "2023-08-15T13:17:35.962Z"
   },
   {
    "duration": 262,
    "start_time": "2023-08-15T13:17:36.299Z"
   },
   {
    "duration": 301,
    "start_time": "2023-08-15T13:17:36.564Z"
   },
   {
    "duration": 363,
    "start_time": "2023-08-15T13:17:36.867Z"
   },
   {
    "duration": 7,
    "start_time": "2023-08-15T13:17:37.235Z"
   },
   {
    "duration": 19,
    "start_time": "2023-08-15T13:17:37.244Z"
   },
   {
    "duration": 268,
    "start_time": "2023-08-15T13:17:37.265Z"
   },
   {
    "duration": 310,
    "start_time": "2023-08-15T13:17:37.535Z"
   },
   {
    "duration": 283,
    "start_time": "2023-08-15T13:17:37.847Z"
   },
   {
    "duration": 183,
    "start_time": "2023-08-15T13:17:38.132Z"
   },
   {
    "duration": 6,
    "start_time": "2023-08-15T13:17:38.317Z"
   },
   {
    "duration": 205,
    "start_time": "2023-08-15T13:17:38.325Z"
   },
   {
    "duration": 5,
    "start_time": "2023-08-15T13:17:38.532Z"
   },
   {
    "duration": 266,
    "start_time": "2023-08-15T13:17:38.539Z"
   },
   {
    "duration": 37,
    "start_time": "2023-08-15T13:17:38.807Z"
   },
   {
    "duration": 10,
    "start_time": "2023-08-15T13:17:38.846Z"
   },
   {
    "duration": 61,
    "start_time": "2023-08-15T13:17:38.858Z"
   },
   {
    "duration": 14,
    "start_time": "2023-08-15T13:17:38.924Z"
   },
   {
    "duration": 10,
    "start_time": "2023-08-15T13:17:38.939Z"
   },
   {
    "duration": 14,
    "start_time": "2023-08-15T13:17:38.950Z"
   },
   {
    "duration": 0,
    "start_time": "2023-08-15T13:17:38.966Z"
   },
   {
    "duration": 0,
    "start_time": "2023-08-15T13:17:38.968Z"
   },
   {
    "duration": 9,
    "start_time": "2023-08-15T13:18:37.455Z"
   },
   {
    "duration": 3,
    "start_time": "2023-08-15T13:18:42.366Z"
   },
   {
    "duration": 44,
    "start_time": "2023-08-15T13:18:42.377Z"
   },
   {
    "duration": 12,
    "start_time": "2023-08-15T13:18:42.423Z"
   },
   {
    "duration": 111,
    "start_time": "2023-08-15T13:18:42.437Z"
   },
   {
    "duration": 21,
    "start_time": "2023-08-15T13:18:42.551Z"
   },
   {
    "duration": 30,
    "start_time": "2023-08-15T13:18:42.575Z"
   },
   {
    "duration": 17,
    "start_time": "2023-08-15T13:18:42.607Z"
   },
   {
    "duration": 44,
    "start_time": "2023-08-15T13:18:42.626Z"
   },
   {
    "duration": 43,
    "start_time": "2023-08-15T13:18:42.673Z"
   },
   {
    "duration": 36,
    "start_time": "2023-08-15T13:18:42.718Z"
   },
   {
    "duration": 21,
    "start_time": "2023-08-15T13:18:42.757Z"
   },
   {
    "duration": 45,
    "start_time": "2023-08-15T13:18:42.781Z"
   },
   {
    "duration": 25,
    "start_time": "2023-08-15T13:18:42.828Z"
   },
   {
    "duration": 27,
    "start_time": "2023-08-15T13:18:42.855Z"
   },
   {
    "duration": 48,
    "start_time": "2023-08-15T13:18:42.887Z"
   },
   {
    "duration": 46,
    "start_time": "2023-08-15T13:18:42.937Z"
   },
   {
    "duration": 36,
    "start_time": "2023-08-15T13:18:42.985Z"
   },
   {
    "duration": 187,
    "start_time": "2023-08-15T13:18:43.023Z"
   },
   {
    "duration": 266,
    "start_time": "2023-08-15T13:18:43.213Z"
   },
   {
    "duration": 24,
    "start_time": "2023-08-15T13:18:43.482Z"
   },
   {
    "duration": 31,
    "start_time": "2023-08-15T13:18:43.512Z"
   },
   {
    "duration": 50,
    "start_time": "2023-08-15T13:18:43.545Z"
   },
   {
    "duration": 80,
    "start_time": "2023-08-15T13:18:43.596Z"
   },
   {
    "duration": 39,
    "start_time": "2023-08-15T13:18:43.678Z"
   },
   {
    "duration": 307,
    "start_time": "2023-08-15T13:18:43.719Z"
   },
   {
    "duration": 247,
    "start_time": "2023-08-15T13:18:44.028Z"
   },
   {
    "duration": 259,
    "start_time": "2023-08-15T13:18:44.277Z"
   },
   {
    "duration": 342,
    "start_time": "2023-08-15T13:18:44.538Z"
   },
   {
    "duration": 13,
    "start_time": "2023-08-15T13:18:44.882Z"
   },
   {
    "duration": 36,
    "start_time": "2023-08-15T13:18:44.896Z"
   },
   {
    "duration": 343,
    "start_time": "2023-08-15T13:18:44.934Z"
   },
   {
    "duration": 350,
    "start_time": "2023-08-15T13:18:45.279Z"
   },
   {
    "duration": 306,
    "start_time": "2023-08-15T13:18:45.631Z"
   },
   {
    "duration": 177,
    "start_time": "2023-08-15T13:18:45.939Z"
   },
   {
    "duration": 6,
    "start_time": "2023-08-15T13:18:46.117Z"
   },
   {
    "duration": 314,
    "start_time": "2023-08-15T13:18:46.125Z"
   },
   {
    "duration": 5,
    "start_time": "2023-08-15T13:18:46.442Z"
   },
   {
    "duration": 280,
    "start_time": "2023-08-15T13:18:46.449Z"
   },
   {
    "duration": 33,
    "start_time": "2023-08-15T13:18:46.731Z"
   },
   {
    "duration": 45,
    "start_time": "2023-08-15T13:18:46.765Z"
   },
   {
    "duration": 54,
    "start_time": "2023-08-15T13:18:46.812Z"
   },
   {
    "duration": 14,
    "start_time": "2023-08-15T13:18:46.871Z"
   },
   {
    "duration": 58,
    "start_time": "2023-08-15T13:18:46.887Z"
   },
   {
    "duration": 41,
    "start_time": "2023-08-15T13:18:46.947Z"
   },
   {
    "duration": 48,
    "start_time": "2023-08-15T13:18:47.004Z"
   },
   {
    "duration": 23,
    "start_time": "2023-08-15T13:18:47.054Z"
   },
   {
    "duration": 26,
    "start_time": "2023-08-15T13:23:38.607Z"
   },
   {
    "duration": 14,
    "start_time": "2023-08-15T13:23:44.522Z"
   },
   {
    "duration": 40,
    "start_time": "2023-08-15T13:23:56.393Z"
   },
   {
    "duration": 27,
    "start_time": "2023-08-15T13:24:02.376Z"
   },
   {
    "duration": 40,
    "start_time": "2023-08-15T13:28:42.284Z"
   },
   {
    "duration": 7,
    "start_time": "2023-08-15T14:43:47.708Z"
   },
   {
    "duration": 9,
    "start_time": "2023-08-15T14:43:52.824Z"
   },
   {
    "duration": 7,
    "start_time": "2023-08-15T14:44:08.211Z"
   },
   {
    "duration": 5,
    "start_time": "2023-08-15T14:47:33.000Z"
   },
   {
    "duration": 32,
    "start_time": "2023-08-15T15:51:26.946Z"
   },
   {
    "duration": 34,
    "start_time": "2023-08-15T15:51:55.295Z"
   },
   {
    "duration": 32,
    "start_time": "2023-08-15T15:52:03.401Z"
   },
   {
    "duration": 55,
    "start_time": "2023-08-15T15:52:11.046Z"
   },
   {
    "duration": 32,
    "start_time": "2023-08-15T15:52:21.572Z"
   },
   {
    "duration": 1279,
    "start_time": "2023-08-15T15:53:13.699Z"
   },
   {
    "duration": 1360,
    "start_time": "2023-08-15T15:55:24.577Z"
   },
   {
    "duration": 2,
    "start_time": "2023-08-15T15:55:46.728Z"
   },
   {
    "duration": 36,
    "start_time": "2023-08-15T15:55:46.734Z"
   },
   {
    "duration": 9,
    "start_time": "2023-08-15T15:55:46.772Z"
   },
   {
    "duration": 68,
    "start_time": "2023-08-15T15:55:46.782Z"
   },
   {
    "duration": 10,
    "start_time": "2023-08-15T15:55:46.852Z"
   },
   {
    "duration": 6,
    "start_time": "2023-08-15T15:55:46.864Z"
   },
   {
    "duration": 23,
    "start_time": "2023-08-15T15:55:46.872Z"
   },
   {
    "duration": 8,
    "start_time": "2023-08-15T15:55:46.897Z"
   },
   {
    "duration": 8,
    "start_time": "2023-08-15T15:55:46.907Z"
   },
   {
    "duration": 7,
    "start_time": "2023-08-15T15:55:46.917Z"
   },
   {
    "duration": 10,
    "start_time": "2023-08-15T15:55:46.926Z"
   },
   {
    "duration": 20,
    "start_time": "2023-08-15T15:55:46.937Z"
   },
   {
    "duration": 7,
    "start_time": "2023-08-15T15:55:46.959Z"
   },
   {
    "duration": 11,
    "start_time": "2023-08-15T15:55:46.968Z"
   },
   {
    "duration": 18,
    "start_time": "2023-08-15T15:55:46.981Z"
   },
   {
    "duration": 145,
    "start_time": "2023-08-15T15:55:47.000Z"
   },
   {
    "duration": 148,
    "start_time": "2023-08-15T15:55:47.147Z"
   },
   {
    "duration": 8,
    "start_time": "2023-08-15T15:55:47.297Z"
   },
   {
    "duration": 5,
    "start_time": "2023-08-15T15:55:50.517Z"
   },
   {
    "duration": 4,
    "start_time": "2023-08-15T15:56:07.959Z"
   },
   {
    "duration": 3,
    "start_time": "2023-08-15T16:07:23.754Z"
   },
   {
    "duration": 66,
    "start_time": "2023-08-15T16:07:23.760Z"
   },
   {
    "duration": 8,
    "start_time": "2023-08-15T16:07:23.828Z"
   },
   {
    "duration": 52,
    "start_time": "2023-08-15T16:07:23.838Z"
   },
   {
    "duration": 9,
    "start_time": "2023-08-15T16:07:23.892Z"
   },
   {
    "duration": 8,
    "start_time": "2023-08-15T16:07:23.902Z"
   },
   {
    "duration": 21,
    "start_time": "2023-08-15T16:07:23.911Z"
   },
   {
    "duration": 10,
    "start_time": "2023-08-15T16:07:23.933Z"
   },
   {
    "duration": 7,
    "start_time": "2023-08-15T16:07:23.945Z"
   },
   {
    "duration": 13,
    "start_time": "2023-08-15T16:07:23.954Z"
   },
   {
    "duration": 20,
    "start_time": "2023-08-15T16:07:23.969Z"
   },
   {
    "duration": 19,
    "start_time": "2023-08-15T16:07:23.990Z"
   },
   {
    "duration": 11,
    "start_time": "2023-08-15T16:07:24.011Z"
   },
   {
    "duration": 83,
    "start_time": "2023-08-15T16:07:24.024Z"
   },
   {
    "duration": 16,
    "start_time": "2023-08-15T16:07:24.109Z"
   },
   {
    "duration": 147,
    "start_time": "2023-08-15T16:07:24.126Z"
   },
   {
    "duration": 149,
    "start_time": "2023-08-15T16:07:24.275Z"
   },
   {
    "duration": 9,
    "start_time": "2023-08-15T16:07:24.426Z"
   },
   {
    "duration": 10,
    "start_time": "2023-08-15T16:07:24.436Z"
   },
   {
    "duration": 38,
    "start_time": "2023-08-15T16:07:24.447Z"
   },
   {
    "duration": 31,
    "start_time": "2023-08-15T16:07:24.487Z"
   },
   {
    "duration": 327,
    "start_time": "2023-08-15T16:07:24.519Z"
   },
   {
    "duration": 247,
    "start_time": "2023-08-15T16:07:24.848Z"
   },
   {
    "duration": 200,
    "start_time": "2023-08-15T16:07:25.096Z"
   },
   {
    "duration": 302,
    "start_time": "2023-08-15T16:07:25.298Z"
   },
   {
    "duration": 6,
    "start_time": "2023-08-15T16:07:25.601Z"
   },
   {
    "duration": 16,
    "start_time": "2023-08-15T16:07:25.609Z"
   },
   {
    "duration": 214,
    "start_time": "2023-08-15T16:07:25.627Z"
   },
   {
    "duration": 281,
    "start_time": "2023-08-15T16:07:25.844Z"
   },
   {
    "duration": 262,
    "start_time": "2023-08-15T16:07:26.127Z"
   },
   {
    "duration": 144,
    "start_time": "2023-08-15T16:07:26.391Z"
   },
   {
    "duration": 4,
    "start_time": "2023-08-15T16:07:26.537Z"
   },
   {
    "duration": 167,
    "start_time": "2023-08-15T16:07:26.543Z"
   },
   {
    "duration": 5,
    "start_time": "2023-08-15T16:07:26.712Z"
   },
   {
    "duration": 213,
    "start_time": "2023-08-15T16:07:26.718Z"
   },
   {
    "duration": 27,
    "start_time": "2023-08-15T16:07:26.933Z"
   },
   {
    "duration": 7,
    "start_time": "2023-08-15T16:07:26.963Z"
   },
   {
    "duration": 44,
    "start_time": "2023-08-15T16:07:26.986Z"
   },
   {
    "duration": 57,
    "start_time": "2023-08-15T16:07:27.032Z"
   },
   {
    "duration": 17,
    "start_time": "2023-08-15T16:07:27.091Z"
   },
   {
    "duration": 23,
    "start_time": "2023-08-15T16:07:27.110Z"
   },
   {
    "duration": 131,
    "start_time": "2023-08-15T16:07:27.135Z"
   },
   {
    "duration": 106,
    "start_time": "2023-08-15T16:07:27.267Z"
   },
   {
    "duration": 263,
    "start_time": "2023-08-15T16:07:45.370Z"
   },
   {
    "duration": 14,
    "start_time": "2023-08-15T16:23:35.642Z"
   },
   {
    "duration": 11,
    "start_time": "2023-08-15T16:23:50.585Z"
   },
   {
    "duration": 8,
    "start_time": "2023-08-15T17:20:19.226Z"
   },
   {
    "duration": 8,
    "start_time": "2023-08-15T17:20:26.512Z"
   },
   {
    "duration": 18,
    "start_time": "2023-08-15T17:20:34.059Z"
   },
   {
    "duration": 26,
    "start_time": "2023-08-15T17:37:46.233Z"
   },
   {
    "duration": 14,
    "start_time": "2023-08-15T17:51:34.041Z"
   },
   {
    "duration": 44,
    "start_time": "2023-08-16T05:35:41.595Z"
   },
   {
    "duration": 1317,
    "start_time": "2023-08-16T05:35:59.936Z"
   },
   {
    "duration": 234,
    "start_time": "2023-08-16T05:36:01.256Z"
   },
   {
    "duration": 0,
    "start_time": "2023-08-16T05:36:01.493Z"
   },
   {
    "duration": 0,
    "start_time": "2023-08-16T05:36:01.494Z"
   },
   {
    "duration": 0,
    "start_time": "2023-08-16T05:36:01.495Z"
   },
   {
    "duration": 0,
    "start_time": "2023-08-16T05:36:01.497Z"
   },
   {
    "duration": 0,
    "start_time": "2023-08-16T05:36:01.498Z"
   },
   {
    "duration": 0,
    "start_time": "2023-08-16T05:36:01.499Z"
   },
   {
    "duration": 0,
    "start_time": "2023-08-16T05:36:01.500Z"
   },
   {
    "duration": 0,
    "start_time": "2023-08-16T05:36:01.501Z"
   },
   {
    "duration": 0,
    "start_time": "2023-08-16T05:36:01.503Z"
   },
   {
    "duration": 0,
    "start_time": "2023-08-16T05:36:01.504Z"
   },
   {
    "duration": 0,
    "start_time": "2023-08-16T05:36:01.505Z"
   },
   {
    "duration": 0,
    "start_time": "2023-08-16T05:36:01.506Z"
   },
   {
    "duration": 0,
    "start_time": "2023-08-16T05:36:01.508Z"
   },
   {
    "duration": 0,
    "start_time": "2023-08-16T05:36:01.509Z"
   },
   {
    "duration": 0,
    "start_time": "2023-08-16T05:36:01.511Z"
   },
   {
    "duration": 0,
    "start_time": "2023-08-16T05:36:01.512Z"
   },
   {
    "duration": 0,
    "start_time": "2023-08-16T05:36:01.513Z"
   },
   {
    "duration": 0,
    "start_time": "2023-08-16T05:36:01.514Z"
   },
   {
    "duration": 0,
    "start_time": "2023-08-16T05:36:01.515Z"
   },
   {
    "duration": 0,
    "start_time": "2023-08-16T05:36:01.516Z"
   },
   {
    "duration": 0,
    "start_time": "2023-08-16T05:36:01.517Z"
   },
   {
    "duration": 0,
    "start_time": "2023-08-16T05:36:01.518Z"
   },
   {
    "duration": 0,
    "start_time": "2023-08-16T05:36:01.557Z"
   },
   {
    "duration": 0,
    "start_time": "2023-08-16T05:36:01.558Z"
   },
   {
    "duration": 0,
    "start_time": "2023-08-16T05:36:01.560Z"
   },
   {
    "duration": 0,
    "start_time": "2023-08-16T05:36:01.561Z"
   },
   {
    "duration": 0,
    "start_time": "2023-08-16T05:36:01.562Z"
   },
   {
    "duration": 0,
    "start_time": "2023-08-16T05:36:01.564Z"
   },
   {
    "duration": 0,
    "start_time": "2023-08-16T05:36:01.566Z"
   },
   {
    "duration": 0,
    "start_time": "2023-08-16T05:36:01.567Z"
   },
   {
    "duration": 0,
    "start_time": "2023-08-16T05:36:01.569Z"
   },
   {
    "duration": 0,
    "start_time": "2023-08-16T05:36:01.570Z"
   },
   {
    "duration": 0,
    "start_time": "2023-08-16T05:36:01.571Z"
   },
   {
    "duration": 0,
    "start_time": "2023-08-16T05:36:01.573Z"
   },
   {
    "duration": 0,
    "start_time": "2023-08-16T05:36:01.574Z"
   },
   {
    "duration": 0,
    "start_time": "2023-08-16T05:36:01.576Z"
   },
   {
    "duration": 0,
    "start_time": "2023-08-16T05:36:01.577Z"
   },
   {
    "duration": 0,
    "start_time": "2023-08-16T05:36:01.579Z"
   },
   {
    "duration": 0,
    "start_time": "2023-08-16T05:36:01.580Z"
   },
   {
    "duration": 0,
    "start_time": "2023-08-16T05:36:01.581Z"
   },
   {
    "duration": 0,
    "start_time": "2023-08-16T05:36:01.583Z"
   },
   {
    "duration": 0,
    "start_time": "2023-08-16T05:36:01.584Z"
   },
   {
    "duration": 4,
    "start_time": "2023-08-16T05:36:27.551Z"
   },
   {
    "duration": 35,
    "start_time": "2023-08-16T05:36:32.219Z"
   },
   {
    "duration": 28,
    "start_time": "2023-08-16T05:36:49.485Z"
   },
   {
    "duration": 35,
    "start_time": "2023-08-16T05:37:02.045Z"
   },
   {
    "duration": 3,
    "start_time": "2023-08-16T05:38:08.110Z"
   },
   {
    "duration": 29,
    "start_time": "2023-08-16T05:38:08.117Z"
   },
   {
    "duration": 13,
    "start_time": "2023-08-16T05:38:08.148Z"
   },
   {
    "duration": 83,
    "start_time": "2023-08-16T05:38:08.163Z"
   },
   {
    "duration": 11,
    "start_time": "2023-08-16T05:38:08.248Z"
   },
   {
    "duration": 8,
    "start_time": "2023-08-16T05:38:08.261Z"
   },
   {
    "duration": 92,
    "start_time": "2023-08-16T05:38:08.271Z"
   },
   {
    "duration": 17,
    "start_time": "2023-08-16T05:38:08.365Z"
   },
   {
    "duration": 12,
    "start_time": "2023-08-16T05:38:08.384Z"
   },
   {
    "duration": 29,
    "start_time": "2023-08-16T05:38:08.397Z"
   },
   {
    "duration": 5,
    "start_time": "2023-08-16T05:38:08.429Z"
   },
   {
    "duration": 16,
    "start_time": "2023-08-16T05:38:08.435Z"
   },
   {
    "duration": 9,
    "start_time": "2023-08-16T05:38:08.452Z"
   },
   {
    "duration": 8,
    "start_time": "2023-08-16T05:38:08.463Z"
   },
   {
    "duration": 7,
    "start_time": "2023-08-16T05:38:08.473Z"
   },
   {
    "duration": 191,
    "start_time": "2023-08-16T05:38:08.481Z"
   },
   {
    "duration": 158,
    "start_time": "2023-08-16T05:38:08.673Z"
   },
   {
    "duration": 11,
    "start_time": "2023-08-16T05:38:08.834Z"
   },
   {
    "duration": 9,
    "start_time": "2023-08-16T05:38:08.857Z"
   },
   {
    "duration": 15,
    "start_time": "2023-08-16T05:38:08.868Z"
   },
   {
    "duration": 7,
    "start_time": "2023-08-16T05:38:08.885Z"
   },
   {
    "duration": 325,
    "start_time": "2023-08-16T05:38:08.894Z"
   },
   {
    "duration": 295,
    "start_time": "2023-08-16T05:38:09.220Z"
   },
   {
    "duration": 13,
    "start_time": "2023-08-16T05:38:09.516Z"
   },
   {
    "duration": 212,
    "start_time": "2023-08-16T05:38:09.531Z"
   },
   {
    "duration": 356,
    "start_time": "2023-08-16T05:38:09.744Z"
   },
   {
    "duration": 6,
    "start_time": "2023-08-16T05:38:10.101Z"
   },
   {
    "duration": 10,
    "start_time": "2023-08-16T05:38:10.108Z"
   },
   {
    "duration": 214,
    "start_time": "2023-08-16T05:38:10.121Z"
   },
   {
    "duration": 328,
    "start_time": "2023-08-16T05:38:10.337Z"
   },
   {
    "duration": 236,
    "start_time": "2023-08-16T05:38:10.666Z"
   },
   {
    "duration": 142,
    "start_time": "2023-08-16T05:38:10.904Z"
   },
   {
    "duration": 8,
    "start_time": "2023-08-16T05:38:11.048Z"
   },
   {
    "duration": 152,
    "start_time": "2023-08-16T05:38:11.058Z"
   },
   {
    "duration": 4,
    "start_time": "2023-08-16T05:38:11.212Z"
   },
   {
    "duration": 298,
    "start_time": "2023-08-16T05:38:11.218Z"
   },
   {
    "duration": 27,
    "start_time": "2023-08-16T05:38:11.518Z"
   },
   {
    "duration": 7,
    "start_time": "2023-08-16T05:38:11.556Z"
   },
   {
    "duration": 23,
    "start_time": "2023-08-16T05:38:11.564Z"
   },
   {
    "duration": 11,
    "start_time": "2023-08-16T05:38:11.589Z"
   },
   {
    "duration": 17,
    "start_time": "2023-08-16T05:38:11.602Z"
   },
   {
    "duration": 7,
    "start_time": "2023-08-16T05:38:11.621Z"
   },
   {
    "duration": 45,
    "start_time": "2023-08-16T05:38:11.629Z"
   },
   {
    "duration": 15,
    "start_time": "2023-08-16T05:38:11.676Z"
   },
   {
    "duration": 9,
    "start_time": "2023-08-16T05:38:45.126Z"
   },
   {
    "duration": 8,
    "start_time": "2023-08-16T05:39:25.950Z"
   },
   {
    "duration": 314,
    "start_time": "2023-08-16T05:45:52.749Z"
   },
   {
    "duration": 63,
    "start_time": "2023-08-17T11:06:37.765Z"
   },
   {
    "duration": 1460,
    "start_time": "2023-08-17T11:06:43.416Z"
   },
   {
    "duration": 199,
    "start_time": "2023-08-17T11:06:44.880Z"
   },
   {
    "duration": 27,
    "start_time": "2023-08-17T11:06:45.081Z"
   },
   {
    "duration": 148,
    "start_time": "2023-08-17T11:06:45.111Z"
   },
   {
    "duration": 18,
    "start_time": "2023-08-17T11:06:45.262Z"
   },
   {
    "duration": 47,
    "start_time": "2023-08-17T11:06:45.282Z"
   },
   {
    "duration": 133,
    "start_time": "2023-08-17T11:06:45.333Z"
   },
   {
    "duration": 11,
    "start_time": "2023-08-17T11:06:45.468Z"
   },
   {
    "duration": 45,
    "start_time": "2023-08-17T11:06:45.481Z"
   },
   {
    "duration": 72,
    "start_time": "2023-08-17T11:06:45.528Z"
   },
   {
    "duration": 55,
    "start_time": "2023-08-17T11:06:45.603Z"
   },
   {
    "duration": 52,
    "start_time": "2023-08-17T11:06:45.660Z"
   },
   {
    "duration": 33,
    "start_time": "2023-08-17T11:06:45.713Z"
   },
   {
    "duration": 39,
    "start_time": "2023-08-17T11:06:45.749Z"
   },
   {
    "duration": 48,
    "start_time": "2023-08-17T11:06:45.790Z"
   },
   {
    "duration": 238,
    "start_time": "2023-08-17T11:06:45.840Z"
   },
   {
    "duration": 197,
    "start_time": "2023-08-17T11:06:46.080Z"
   },
   {
    "duration": 12,
    "start_time": "2023-08-17T11:06:46.279Z"
   },
   {
    "duration": 25,
    "start_time": "2023-08-17T11:06:46.294Z"
   },
   {
    "duration": 35,
    "start_time": "2023-08-17T11:06:46.321Z"
   },
   {
    "duration": 31,
    "start_time": "2023-08-17T11:06:46.358Z"
   },
   {
    "duration": 372,
    "start_time": "2023-08-17T11:06:46.391Z"
   },
   {
    "duration": 371,
    "start_time": "2023-08-17T11:06:46.764Z"
   },
   {
    "duration": 12,
    "start_time": "2023-08-17T11:06:47.137Z"
   },
   {
    "duration": 304,
    "start_time": "2023-08-17T11:06:47.150Z"
   },
   {
    "duration": 414,
    "start_time": "2023-08-17T11:06:47.456Z"
   },
   {
    "duration": 7,
    "start_time": "2023-08-17T11:06:47.871Z"
   },
   {
    "duration": 28,
    "start_time": "2023-08-17T11:06:47.879Z"
   },
   {
    "duration": 320,
    "start_time": "2023-08-17T11:06:47.909Z"
   },
   {
    "duration": 322,
    "start_time": "2023-08-17T11:06:48.231Z"
   },
   {
    "duration": 284,
    "start_time": "2023-08-17T11:06:48.555Z"
   },
   {
    "duration": 178,
    "start_time": "2023-08-17T11:06:48.840Z"
   },
   {
    "duration": 5,
    "start_time": "2023-08-17T11:06:49.021Z"
   },
   {
    "duration": 187,
    "start_time": "2023-08-17T11:06:49.028Z"
   },
   {
    "duration": 6,
    "start_time": "2023-08-17T11:06:49.221Z"
   },
   {
    "duration": 325,
    "start_time": "2023-08-17T11:06:49.229Z"
   },
   {
    "duration": 31,
    "start_time": "2023-08-17T11:06:49.556Z"
   },
   {
    "duration": 17,
    "start_time": "2023-08-17T11:06:49.588Z"
   },
   {
    "duration": 39,
    "start_time": "2023-08-17T11:06:49.606Z"
   },
   {
    "duration": 11,
    "start_time": "2023-08-17T11:06:49.647Z"
   },
   {
    "duration": 11,
    "start_time": "2023-08-17T11:06:49.662Z"
   },
   {
    "duration": 22,
    "start_time": "2023-08-17T11:06:49.674Z"
   },
   {
    "duration": 53,
    "start_time": "2023-08-17T11:06:49.698Z"
   },
   {
    "duration": 34,
    "start_time": "2023-08-17T11:06:49.753Z"
   },
   {
    "duration": 33,
    "start_time": "2023-08-17T11:07:01.748Z"
   },
   {
    "duration": 39,
    "start_time": "2023-08-17T11:07:16.520Z"
   },
   {
    "duration": 35,
    "start_time": "2023-08-17T11:07:29.011Z"
   },
   {
    "duration": 47,
    "start_time": "2023-08-17T11:07:56.068Z"
   },
   {
    "duration": 5,
    "start_time": "2023-08-17T11:13:29.550Z"
   },
   {
    "duration": 18,
    "start_time": "2023-08-17T11:14:09.018Z"
   },
   {
    "duration": 6,
    "start_time": "2023-08-17T11:14:39.435Z"
   },
   {
    "duration": 12,
    "start_time": "2023-08-17T11:15:34.654Z"
   },
   {
    "duration": 6,
    "start_time": "2023-08-17T11:15:50.849Z"
   },
   {
    "duration": 15,
    "start_time": "2023-08-17T11:22:42.645Z"
   },
   {
    "duration": 129,
    "start_time": "2023-08-17T11:24:11.978Z"
   },
   {
    "duration": 15,
    "start_time": "2023-08-17T11:38:45.443Z"
   },
   {
    "duration": 33,
    "start_time": "2023-08-17T11:41:05.834Z"
   },
   {
    "duration": 8,
    "start_time": "2023-08-17T11:41:22.762Z"
   },
   {
    "duration": 22,
    "start_time": "2023-08-17T11:41:57.615Z"
   },
   {
    "duration": 44,
    "start_time": "2023-08-17T11:45:28.081Z"
   },
   {
    "duration": 63,
    "start_time": "2023-08-17T11:46:34.655Z"
   },
   {
    "duration": 47,
    "start_time": "2023-08-17T11:47:14.911Z"
   },
   {
    "duration": 17,
    "start_time": "2023-08-17T11:48:51.519Z"
   },
   {
    "duration": 25,
    "start_time": "2023-08-17T11:49:34.157Z"
   },
   {
    "duration": 8,
    "start_time": "2023-08-17T11:49:59.943Z"
   },
   {
    "duration": 15,
    "start_time": "2023-08-17T11:50:36.559Z"
   },
   {
    "duration": 19,
    "start_time": "2023-08-17T11:51:34.463Z"
   },
   {
    "duration": 27,
    "start_time": "2023-08-17T11:51:39.509Z"
   },
   {
    "duration": 25,
    "start_time": "2023-08-17T11:55:57.615Z"
   },
   {
    "duration": 8,
    "start_time": "2023-08-17T11:57:47.712Z"
   },
   {
    "duration": 7,
    "start_time": "2023-08-17T11:58:43.371Z"
   },
   {
    "duration": 48,
    "start_time": "2023-08-17T11:58:50.706Z"
   },
   {
    "duration": 7,
    "start_time": "2023-08-17T12:00:38.974Z"
   },
   {
    "duration": 57,
    "start_time": "2023-08-17T12:00:51.014Z"
   },
   {
    "duration": 2207,
    "start_time": "2023-08-17T12:01:23.227Z"
   },
   {
    "duration": 2061,
    "start_time": "2023-08-17T12:01:47.006Z"
   },
   {
    "duration": 23,
    "start_time": "2023-08-17T12:03:17.929Z"
   },
   {
    "duration": 10,
    "start_time": "2023-08-17T12:03:34.057Z"
   },
   {
    "duration": 15,
    "start_time": "2023-08-17T12:03:40.211Z"
   },
   {
    "duration": 10,
    "start_time": "2023-08-17T12:03:56.962Z"
   },
   {
    "duration": 10,
    "start_time": "2023-08-17T12:04:03.730Z"
   },
   {
    "duration": 27,
    "start_time": "2023-08-17T12:04:07.677Z"
   },
   {
    "duration": 11,
    "start_time": "2023-08-17T12:05:05.607Z"
   },
   {
    "duration": 16,
    "start_time": "2023-08-17T12:05:10.164Z"
   },
   {
    "duration": 7,
    "start_time": "2023-08-17T12:12:40.974Z"
   },
   {
    "duration": 26,
    "start_time": "2023-08-17T12:12:42.303Z"
   },
   {
    "duration": 10,
    "start_time": "2023-08-17T12:13:15.805Z"
   },
   {
    "duration": 16,
    "start_time": "2023-08-17T12:13:19.228Z"
   },
   {
    "duration": 5,
    "start_time": "2023-08-17T12:13:40.006Z"
   },
   {
    "duration": 135,
    "start_time": "2023-08-17T12:13:40.016Z"
   },
   {
    "duration": 11,
    "start_time": "2023-08-17T12:13:40.154Z"
   },
   {
    "duration": 132,
    "start_time": "2023-08-17T12:13:40.167Z"
   },
   {
    "duration": 18,
    "start_time": "2023-08-17T12:13:40.301Z"
   },
   {
    "duration": 29,
    "start_time": "2023-08-17T12:13:40.321Z"
   },
   {
    "duration": 36,
    "start_time": "2023-08-17T12:13:40.352Z"
   },
   {
    "duration": 17,
    "start_time": "2023-08-17T12:13:40.394Z"
   },
   {
    "duration": 28,
    "start_time": "2023-08-17T12:13:40.414Z"
   },
   {
    "duration": 9,
    "start_time": "2023-08-17T12:13:40.444Z"
   },
   {
    "duration": 19,
    "start_time": "2023-08-17T12:13:40.457Z"
   },
   {
    "duration": 67,
    "start_time": "2023-08-17T12:13:40.478Z"
   },
   {
    "duration": 26,
    "start_time": "2023-08-17T12:13:40.547Z"
   },
   {
    "duration": 83,
    "start_time": "2023-08-17T12:13:40.574Z"
   },
   {
    "duration": 63,
    "start_time": "2023-08-17T12:13:40.659Z"
   },
   {
    "duration": 87,
    "start_time": "2023-08-17T12:13:40.724Z"
   },
   {
    "duration": 47,
    "start_time": "2023-08-17T12:13:40.813Z"
   },
   {
    "duration": 8,
    "start_time": "2023-08-17T12:13:40.862Z"
   },
   {
    "duration": 22,
    "start_time": "2023-08-17T12:13:40.872Z"
   },
   {
    "duration": 39,
    "start_time": "2023-08-17T12:13:40.896Z"
   },
   {
    "duration": 21,
    "start_time": "2023-08-17T12:13:40.937Z"
   },
   {
    "duration": 199,
    "start_time": "2023-08-17T12:13:40.959Z"
   },
   {
    "duration": 217,
    "start_time": "2023-08-17T12:13:41.160Z"
   },
   {
    "duration": 34,
    "start_time": "2023-08-17T12:13:41.379Z"
   },
   {
    "duration": 27,
    "start_time": "2023-08-17T12:13:41.415Z"
   },
   {
    "duration": 61,
    "start_time": "2023-08-17T12:13:41.445Z"
   },
   {
    "duration": 52,
    "start_time": "2023-08-17T12:13:41.508Z"
   },
   {
    "duration": 390,
    "start_time": "2023-08-17T12:13:41.563Z"
   },
   {
    "duration": 250,
    "start_time": "2023-08-17T12:13:41.956Z"
   },
   {
    "duration": 32,
    "start_time": "2023-08-17T12:13:42.208Z"
   },
   {
    "duration": 314,
    "start_time": "2023-08-17T12:13:42.242Z"
   },
   {
    "duration": 391,
    "start_time": "2023-08-17T12:13:42.559Z"
   },
   {
    "duration": 6,
    "start_time": "2023-08-17T12:13:42.951Z"
   },
   {
    "duration": 71,
    "start_time": "2023-08-17T12:13:42.959Z"
   },
   {
    "duration": 280,
    "start_time": "2023-08-17T12:13:43.032Z"
   },
   {
    "duration": 315,
    "start_time": "2023-08-17T12:13:43.315Z"
   },
   {
    "duration": 321,
    "start_time": "2023-08-17T12:13:43.633Z"
   },
   {
    "duration": 194,
    "start_time": "2023-08-17T12:13:43.957Z"
   },
   {
    "duration": 6,
    "start_time": "2023-08-17T12:13:44.153Z"
   },
   {
    "duration": 215,
    "start_time": "2023-08-17T12:13:44.161Z"
   },
   {
    "duration": 16,
    "start_time": "2023-08-17T12:13:44.377Z"
   },
   {
    "duration": 270,
    "start_time": "2023-08-17T12:13:44.394Z"
   },
   {
    "duration": 63,
    "start_time": "2023-08-17T12:13:44.666Z"
   },
   {
    "duration": 13,
    "start_time": "2023-08-17T12:13:44.737Z"
   },
   {
    "duration": 95,
    "start_time": "2023-08-17T12:13:44.752Z"
   },
   {
    "duration": 21,
    "start_time": "2023-08-17T12:13:44.849Z"
   },
   {
    "duration": 93,
    "start_time": "2023-08-17T12:13:44.873Z"
   },
   {
    "duration": 30,
    "start_time": "2023-08-17T12:13:44.968Z"
   },
   {
    "duration": 142,
    "start_time": "2023-08-17T12:13:45.000Z"
   },
   {
    "duration": 19,
    "start_time": "2023-08-17T12:13:45.145Z"
   },
   {
    "duration": 17,
    "start_time": "2023-08-17T12:21:44.292Z"
   },
   {
    "duration": 244,
    "start_time": "2023-08-17T12:45:04.042Z"
   },
   {
    "duration": 11,
    "start_time": "2023-08-17T13:01:27.058Z"
   },
   {
    "duration": 11,
    "start_time": "2023-08-17T13:01:37.563Z"
   },
   {
    "duration": 11,
    "start_time": "2023-08-17T13:01:48.274Z"
   }
  ],
  "kernelspec": {
   "display_name": "Python 3 (ipykernel)",
   "language": "python",
   "name": "python3"
  },
  "language_info": {
   "codemirror_mode": {
    "name": "ipython",
    "version": 3
   },
   "file_extension": ".py",
   "mimetype": "text/x-python",
   "name": "python",
   "nbconvert_exporter": "python",
   "pygments_lexer": "ipython3",
   "version": "3.9.5"
  },
  "toc": {
   "base_numbering": 1,
   "nav_menu": {},
   "number_sections": true,
   "sideBar": true,
   "skip_h1_title": true,
   "title_cell": "Содержание",
   "title_sidebar": "Contents",
   "toc_cell": true,
   "toc_position": {},
   "toc_section_display": true,
   "toc_window_display": true
  }
 },
 "nbformat": 4,
 "nbformat_minor": 2
}
