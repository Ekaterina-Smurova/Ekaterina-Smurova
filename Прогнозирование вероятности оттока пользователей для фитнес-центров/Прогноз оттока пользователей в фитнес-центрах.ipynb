{
 "cells": [
  {
   "cell_type": "markdown",
   "metadata": {},
   "source": [
    "# Прогноз оттока пользователей в фитнес-центрах"
   ]
  },
  {
   "cell_type": "markdown",
   "metadata": {},
   "source": [
    "# Описание проекта\n",
    "\n",
    "Сеть фитнес-центров «Культурист-датасаентист» разрабатывает стратегию взаимодействия с клиентами на основе аналитических данных.\n",
    "\n",
    "Распространённая проблема фитнес-клубов и других сервисов — отток клиентов. Как понять, что клиент больше не с вами? Можно записать в отток тех, кто попросил закрыть договор или удалил аккаунт. Однако клиенты не всегда уходят демонстративно: чаще перестают пользоваться сервисом тихо.\n",
    "\n",
    "Ваша задача — провести анализ и подготовить план действий по удержанию клиентов:\n",
    " \n",
    "- научиться прогнозировать вероятность оттока (на уровне следующего месяца) для каждого клиента; - сформировать типичные портреты клиентов: выделить несколько наиболее ярких групп и охарактеризовать их основные свойства; \n",
    "- проанализировать основные признаки, наиболее сильно влияющие на отток; \n",
    "- сформулировать основные выводы и разработать рекомендации по повышению качества работы с клиентами:\n",
    "\n",
    "1. Выделить целевые группы клиентов \n",
    "2. Предложить меры по снижению оттока \n",
    "3. Определить другие особенности взаимодействия с клиентами."
   ]
  },
  {
   "cell_type": "markdown",
   "metadata": {},
   "source": [
    "«Культурист-датасаентист» предоставил следующие сведения:  \n",
    "\n",
    "1. Данные клиента за предыдущий до проверки факта оттока месяц:  \n",
    "\n",
    "`gender` — пол;  \n",
    "`Near_Location` — проживание или работа в районе, где находится фитнес-центр;  \n",
    "`Partner` — сотрудник компании-партнёра клуба (сотрудничество с компаниями, чьи сотрудники могут получать скидки на абонемент — в таком случае фитнес-центр хранит информацию о работодателе клиента);  \n",
    "`Promo_friends` — факт первоначальной записи в рамках акции «приведи друга» (использовал промо-код от знакомого при оплате первого абонемента);  \n",
    "`Phone` — наличие контактного телефона;  \n",
    "`Age` — возраст;  \n",
    "`Lifetim` — время с момента первого обращения в фитнес-центр (в месяцах).  \n",
    "\n",
    "\n",
    "2. Информация на основе журнала посещений, покупок и информация о текущем статусе абонемента клиента:  \n",
    "\n",
    "`Contract_period` — длительность текущего действующего абонемента (месяц, 6 месяцев, год);  \n",
    "`Month_to_end_contract` — срок до окончания текущего действующего абонемента (в месяцах);  \n",
    "`Group_visits` — факт посещения групповых занятий;  \n",
    "`Avg_class_frequency_total` — средняя частота посещений в неделю за все время с начала действия абонемента;  \n",
    "`Avg_class_frequency_current_month` — средняя частота посещений в неделю за предыдущий месяц;  \n",
    "`Avg_additional_charges_total` — суммарная выручка от других услуг фитнес-центра: кафе, спорттовары, косметический и массажный салон;  \n",
    "`Churn` — факт оттока в текущем месяце."
   ]
  },
  {
   "cell_type": "markdown",
   "metadata": {},
   "source": [
    "## Обзор данных"
   ]
  },
  {
   "cell_type": "code",
   "execution_count": 1,
   "metadata": {},
   "outputs": [],
   "source": [
    "#импортируем необходимые библиотеки\n",
    "import pandas as pd\n",
    "import numpy as np\n",
    "import seaborn as sns\n",
    "\n",
    "import matplotlib\n",
    "import matplotlib.pyplot as plt\n",
    "#import re\n",
    "\n",
    "from sklearn.model_selection import train_test_split\n",
    "from sklearn.linear_model import LogisticRegression\n",
    "from sklearn.ensemble import RandomForestClassifier\n",
    "from sklearn.preprocessing import StandardScaler\n",
    "from sklearn.metrics import accuracy_score, precision_score, recall_score\n",
    "from scipy.cluster.hierarchy import dendrogram, linkage\n",
    "from sklearn.cluster import KMeans\n",
    "from sklearn.ensemble import RandomForestRegressor, GradientBoostingClassifier\n",
    "from sklearn.model_selection import RandomizedSearchCV\n",
    "from sklearn.model_selection import cross_val_score\n",
    "\n",
    "#доп настройки\n",
    "pd.options.display.float_format = '{:,.2f}'.format"
   ]
  },
  {
   "cell_type": "code",
   "execution_count": 2,
   "metadata": {},
   "outputs": [
    {
     "data": {
      "text/html": [
       "<div>\n",
       "<style scoped>\n",
       "    .dataframe tbody tr th:only-of-type {\n",
       "        vertical-align: middle;\n",
       "    }\n",
       "\n",
       "    .dataframe tbody tr th {\n",
       "        vertical-align: top;\n",
       "    }\n",
       "\n",
       "    .dataframe thead th {\n",
       "        text-align: right;\n",
       "    }\n",
       "</style>\n",
       "<table border=\"1\" class=\"dataframe\">\n",
       "  <thead>\n",
       "    <tr style=\"text-align: right;\">\n",
       "      <th></th>\n",
       "      <th>gender</th>\n",
       "      <th>Near_Location</th>\n",
       "      <th>Partner</th>\n",
       "      <th>Promo_friends</th>\n",
       "      <th>Phone</th>\n",
       "      <th>Contract_period</th>\n",
       "      <th>Group_visits</th>\n",
       "      <th>Age</th>\n",
       "      <th>Avg_additional_charges_total</th>\n",
       "      <th>Month_to_end_contract</th>\n",
       "      <th>Lifetime</th>\n",
       "      <th>Avg_class_frequency_total</th>\n",
       "      <th>Avg_class_frequency_current_month</th>\n",
       "      <th>Churn</th>\n",
       "    </tr>\n",
       "  </thead>\n",
       "  <tbody>\n",
       "    <tr>\n",
       "      <th>0</th>\n",
       "      <td>1</td>\n",
       "      <td>1</td>\n",
       "      <td>1</td>\n",
       "      <td>1</td>\n",
       "      <td>0</td>\n",
       "      <td>6</td>\n",
       "      <td>1</td>\n",
       "      <td>29</td>\n",
       "      <td>14.23</td>\n",
       "      <td>5.00</td>\n",
       "      <td>3</td>\n",
       "      <td>0.02</td>\n",
       "      <td>0.00</td>\n",
       "      <td>0</td>\n",
       "    </tr>\n",
       "    <tr>\n",
       "      <th>1</th>\n",
       "      <td>0</td>\n",
       "      <td>1</td>\n",
       "      <td>0</td>\n",
       "      <td>0</td>\n",
       "      <td>1</td>\n",
       "      <td>12</td>\n",
       "      <td>1</td>\n",
       "      <td>31</td>\n",
       "      <td>113.20</td>\n",
       "      <td>12.00</td>\n",
       "      <td>7</td>\n",
       "      <td>1.92</td>\n",
       "      <td>1.91</td>\n",
       "      <td>0</td>\n",
       "    </tr>\n",
       "    <tr>\n",
       "      <th>2</th>\n",
       "      <td>0</td>\n",
       "      <td>1</td>\n",
       "      <td>1</td>\n",
       "      <td>0</td>\n",
       "      <td>1</td>\n",
       "      <td>1</td>\n",
       "      <td>0</td>\n",
       "      <td>28</td>\n",
       "      <td>129.45</td>\n",
       "      <td>1.00</td>\n",
       "      <td>2</td>\n",
       "      <td>1.86</td>\n",
       "      <td>1.74</td>\n",
       "      <td>0</td>\n",
       "    </tr>\n",
       "    <tr>\n",
       "      <th>3</th>\n",
       "      <td>0</td>\n",
       "      <td>1</td>\n",
       "      <td>1</td>\n",
       "      <td>1</td>\n",
       "      <td>1</td>\n",
       "      <td>12</td>\n",
       "      <td>1</td>\n",
       "      <td>33</td>\n",
       "      <td>62.67</td>\n",
       "      <td>12.00</td>\n",
       "      <td>2</td>\n",
       "      <td>3.21</td>\n",
       "      <td>3.36</td>\n",
       "      <td>0</td>\n",
       "    </tr>\n",
       "    <tr>\n",
       "      <th>4</th>\n",
       "      <td>1</td>\n",
       "      <td>1</td>\n",
       "      <td>1</td>\n",
       "      <td>1</td>\n",
       "      <td>1</td>\n",
       "      <td>1</td>\n",
       "      <td>0</td>\n",
       "      <td>26</td>\n",
       "      <td>198.36</td>\n",
       "      <td>1.00</td>\n",
       "      <td>3</td>\n",
       "      <td>1.11</td>\n",
       "      <td>1.12</td>\n",
       "      <td>0</td>\n",
       "    </tr>\n",
       "  </tbody>\n",
       "</table>\n",
       "</div>"
      ],
      "text/plain": [
       "   gender  Near_Location  Partner  Promo_friends  Phone  Contract_period  \\\n",
       "0       1              1        1              1      0                6   \n",
       "1       0              1        0              0      1               12   \n",
       "2       0              1        1              0      1                1   \n",
       "3       0              1        1              1      1               12   \n",
       "4       1              1        1              1      1                1   \n",
       "\n",
       "   Group_visits  Age  Avg_additional_charges_total  Month_to_end_contract  \\\n",
       "0             1   29                         14.23                   5.00   \n",
       "1             1   31                        113.20                  12.00   \n",
       "2             0   28                        129.45                   1.00   \n",
       "3             1   33                         62.67                  12.00   \n",
       "4             0   26                        198.36                   1.00   \n",
       "\n",
       "   Lifetime  Avg_class_frequency_total  Avg_class_frequency_current_month  \\\n",
       "0         3                       0.02                               0.00   \n",
       "1         7                       1.92                               1.91   \n",
       "2         2                       1.86                               1.74   \n",
       "3         2                       3.21                               3.36   \n",
       "4         3                       1.11                               1.12   \n",
       "\n",
       "   Churn  \n",
       "0      0  \n",
       "1      0  \n",
       "2      0  \n",
       "3      0  \n",
       "4      0  "
      ]
     },
     "execution_count": 2,
     "metadata": {},
     "output_type": "execute_result"
    }
   ],
   "source": [
    "df = pd.read_csv('/datasets/gym_churn.csv')\n",
    "df.head()"
   ]
  },
  {
   "cell_type": "code",
   "execution_count": 3,
   "metadata": {},
   "outputs": [
    {
     "name": "stdout",
     "output_type": "stream",
     "text": [
      "<class 'pandas.core.frame.DataFrame'>\n",
      "RangeIndex: 4000 entries, 0 to 3999\n",
      "Data columns (total 14 columns):\n",
      " #   Column                             Non-Null Count  Dtype  \n",
      "---  ------                             --------------  -----  \n",
      " 0   gender                             4000 non-null   int64  \n",
      " 1   Near_Location                      4000 non-null   int64  \n",
      " 2   Partner                            4000 non-null   int64  \n",
      " 3   Promo_friends                      4000 non-null   int64  \n",
      " 4   Phone                              4000 non-null   int64  \n",
      " 5   Contract_period                    4000 non-null   int64  \n",
      " 6   Group_visits                       4000 non-null   int64  \n",
      " 7   Age                                4000 non-null   int64  \n",
      " 8   Avg_additional_charges_total       4000 non-null   float64\n",
      " 9   Month_to_end_contract              4000 non-null   float64\n",
      " 10  Lifetime                           4000 non-null   int64  \n",
      " 11  Avg_class_frequency_total          4000 non-null   float64\n",
      " 12  Avg_class_frequency_current_month  4000 non-null   float64\n",
      " 13  Churn                              4000 non-null   int64  \n",
      "dtypes: float64(4), int64(10)\n",
      "memory usage: 437.6 KB\n"
     ]
    }
   ],
   "source": [
    "df.info()"
   ]
  },
  {
   "cell_type": "code",
   "execution_count": 4,
   "metadata": {},
   "outputs": [
    {
     "data": {
      "text/plain": [
       "0"
      ]
     },
     "execution_count": 4,
     "metadata": {},
     "output_type": "execute_result"
    }
   ],
   "source": [
    "df.duplicated().sum()"
   ]
  },
  {
   "cell_type": "markdown",
   "metadata": {},
   "source": [
    "**Вывод:**  \n",
    "В датасете представлена информация о 4000 клиентов.  \n",
    "Каждая строка содержит информацию с полом, фактом проживания или работы в районе фитнес-центра, выделением сотрудников компании-партнёра клуба, фактом первоначальной записи в рамках акции «приведи друга», обозначением наличия контактного телефона, возрастом, временем с момента первого обращения в фитнес-центр, длительностью текущего действующего абонемента, сроком до окончания текущего действующего абонемента, фактом посещения групповых занятий, средней частотой посещений в неделю за все время с начала действия абонемента и за предыдущий месяц, суммарной выручкой от других услуг фитнес-центра, фактом оттока в текущем месяце.  \n",
    "\n",
    "Всего 14 столбцов.  \n",
    "Названия некоторых столбцов написаны в верхнем регистре.  \n",
    "\n",
    "Пропусков нет.  \n",
    "Дубликатов нет."
   ]
  },
  {
   "cell_type": "markdown",
   "metadata": {},
   "source": [
    "## Предобработка"
   ]
  },
  {
   "cell_type": "markdown",
   "metadata": {},
   "source": [
    "### Приведение названий столбцов к стандартному виду"
   ]
  },
  {
   "cell_type": "code",
   "execution_count": 5,
   "metadata": {},
   "outputs": [],
   "source": [
    "df = df.rename(columns=\n",
    "               {'Near_Location' : 'near_location',\n",
    "                'Partner' : 'partner',\n",
    "                'Promo_friends' : 'promo_friends',\n",
    "                'Phone' : 'phone',\n",
    "                'Contract_period' : 'contract_period',\n",
    "                'Group_visits' : 'group_visits',\n",
    "                'Age' : 'age',\n",
    "                'Avg_additional_charges_total' : 'avg_additional_charges_total',\n",
    "                'Month_to_end_contract' : 'month_to_end_contract',\n",
    "                'Lifetime' : 'lifetime',\n",
    "                'Avg_class_frequency_total' : 'avg_class_frequency_total',\n",
    "                'Avg_class_frequency_current_month' : 'avg_class_frequency_current_month',\n",
    "                'Churn' : 'churn'\n",
    "               })"
   ]
  },
  {
   "cell_type": "markdown",
   "metadata": {},
   "source": [
    "### Значения в столбце с месяцами"
   ]
  },
  {
   "cell_type": "markdown",
   "metadata": {},
   "source": [
    "Посмотрим на уникальные значения в столбце с месяцами"
   ]
  },
  {
   "cell_type": "code",
   "execution_count": 6,
   "metadata": {},
   "outputs": [
    {
     "data": {
      "text/plain": [
       "array([ 1.,  2.,  3.,  4.,  5.,  6.,  7.,  8.,  9., 10., 11., 12.])"
      ]
     },
     "execution_count": 6,
     "metadata": {},
     "output_type": "execute_result"
    }
   ],
   "source": [
    "df['month_to_end_contract'].sort_values().unique()"
   ]
  },
  {
   "cell_type": "code",
   "execution_count": 7,
   "metadata": {},
   "outputs": [],
   "source": [
    "#переведем тип данных в целочисленный\n",
    "df.month_to_end_contract = df.month_to_end_contract.astype(np.int64)"
   ]
  },
  {
   "cell_type": "markdown",
   "metadata": {},
   "source": [
    "## Исследовательский анализ данных (EDA)"
   ]
  },
  {
   "cell_type": "markdown",
   "metadata": {},
   "source": [
    "### Средние значения и стандартные отклонения "
   ]
  },
  {
   "cell_type": "code",
   "execution_count": 8,
   "metadata": {},
   "outputs": [
    {
     "data": {
      "text/html": [
       "<div>\n",
       "<style scoped>\n",
       "    .dataframe tbody tr th:only-of-type {\n",
       "        vertical-align: middle;\n",
       "    }\n",
       "\n",
       "    .dataframe tbody tr th {\n",
       "        vertical-align: top;\n",
       "    }\n",
       "\n",
       "    .dataframe thead th {\n",
       "        text-align: right;\n",
       "    }\n",
       "</style>\n",
       "<table border=\"1\" class=\"dataframe\">\n",
       "  <thead>\n",
       "    <tr style=\"text-align: right;\">\n",
       "      <th></th>\n",
       "      <th>count</th>\n",
       "      <th>mean</th>\n",
       "      <th>std</th>\n",
       "      <th>min</th>\n",
       "      <th>25%</th>\n",
       "      <th>50%</th>\n",
       "      <th>75%</th>\n",
       "      <th>max</th>\n",
       "    </tr>\n",
       "  </thead>\n",
       "  <tbody>\n",
       "    <tr>\n",
       "      <th>gender</th>\n",
       "      <td>4,000.00</td>\n",
       "      <td>0.51</td>\n",
       "      <td>0.50</td>\n",
       "      <td>0.00</td>\n",
       "      <td>0.00</td>\n",
       "      <td>1.00</td>\n",
       "      <td>1.00</td>\n",
       "      <td>1.00</td>\n",
       "    </tr>\n",
       "    <tr>\n",
       "      <th>near_location</th>\n",
       "      <td>4,000.00</td>\n",
       "      <td>0.85</td>\n",
       "      <td>0.36</td>\n",
       "      <td>0.00</td>\n",
       "      <td>1.00</td>\n",
       "      <td>1.00</td>\n",
       "      <td>1.00</td>\n",
       "      <td>1.00</td>\n",
       "    </tr>\n",
       "    <tr>\n",
       "      <th>partner</th>\n",
       "      <td>4,000.00</td>\n",
       "      <td>0.49</td>\n",
       "      <td>0.50</td>\n",
       "      <td>0.00</td>\n",
       "      <td>0.00</td>\n",
       "      <td>0.00</td>\n",
       "      <td>1.00</td>\n",
       "      <td>1.00</td>\n",
       "    </tr>\n",
       "    <tr>\n",
       "      <th>promo_friends</th>\n",
       "      <td>4,000.00</td>\n",
       "      <td>0.31</td>\n",
       "      <td>0.46</td>\n",
       "      <td>0.00</td>\n",
       "      <td>0.00</td>\n",
       "      <td>0.00</td>\n",
       "      <td>1.00</td>\n",
       "      <td>1.00</td>\n",
       "    </tr>\n",
       "    <tr>\n",
       "      <th>phone</th>\n",
       "      <td>4,000.00</td>\n",
       "      <td>0.90</td>\n",
       "      <td>0.30</td>\n",
       "      <td>0.00</td>\n",
       "      <td>1.00</td>\n",
       "      <td>1.00</td>\n",
       "      <td>1.00</td>\n",
       "      <td>1.00</td>\n",
       "    </tr>\n",
       "    <tr>\n",
       "      <th>contract_period</th>\n",
       "      <td>4,000.00</td>\n",
       "      <td>4.68</td>\n",
       "      <td>4.55</td>\n",
       "      <td>1.00</td>\n",
       "      <td>1.00</td>\n",
       "      <td>1.00</td>\n",
       "      <td>6.00</td>\n",
       "      <td>12.00</td>\n",
       "    </tr>\n",
       "    <tr>\n",
       "      <th>group_visits</th>\n",
       "      <td>4,000.00</td>\n",
       "      <td>0.41</td>\n",
       "      <td>0.49</td>\n",
       "      <td>0.00</td>\n",
       "      <td>0.00</td>\n",
       "      <td>0.00</td>\n",
       "      <td>1.00</td>\n",
       "      <td>1.00</td>\n",
       "    </tr>\n",
       "    <tr>\n",
       "      <th>age</th>\n",
       "      <td>4,000.00</td>\n",
       "      <td>29.18</td>\n",
       "      <td>3.26</td>\n",
       "      <td>18.00</td>\n",
       "      <td>27.00</td>\n",
       "      <td>29.00</td>\n",
       "      <td>31.00</td>\n",
       "      <td>41.00</td>\n",
       "    </tr>\n",
       "    <tr>\n",
       "      <th>avg_additional_charges_total</th>\n",
       "      <td>4,000.00</td>\n",
       "      <td>146.94</td>\n",
       "      <td>96.36</td>\n",
       "      <td>0.15</td>\n",
       "      <td>68.87</td>\n",
       "      <td>136.22</td>\n",
       "      <td>210.95</td>\n",
       "      <td>552.59</td>\n",
       "    </tr>\n",
       "    <tr>\n",
       "      <th>month_to_end_contract</th>\n",
       "      <td>4,000.00</td>\n",
       "      <td>4.32</td>\n",
       "      <td>4.19</td>\n",
       "      <td>1.00</td>\n",
       "      <td>1.00</td>\n",
       "      <td>1.00</td>\n",
       "      <td>6.00</td>\n",
       "      <td>12.00</td>\n",
       "    </tr>\n",
       "    <tr>\n",
       "      <th>lifetime</th>\n",
       "      <td>4,000.00</td>\n",
       "      <td>3.72</td>\n",
       "      <td>3.75</td>\n",
       "      <td>0.00</td>\n",
       "      <td>1.00</td>\n",
       "      <td>3.00</td>\n",
       "      <td>5.00</td>\n",
       "      <td>31.00</td>\n",
       "    </tr>\n",
       "    <tr>\n",
       "      <th>avg_class_frequency_total</th>\n",
       "      <td>4,000.00</td>\n",
       "      <td>1.88</td>\n",
       "      <td>0.97</td>\n",
       "      <td>0.00</td>\n",
       "      <td>1.18</td>\n",
       "      <td>1.83</td>\n",
       "      <td>2.54</td>\n",
       "      <td>6.02</td>\n",
       "    </tr>\n",
       "    <tr>\n",
       "      <th>avg_class_frequency_current_month</th>\n",
       "      <td>4,000.00</td>\n",
       "      <td>1.77</td>\n",
       "      <td>1.05</td>\n",
       "      <td>0.00</td>\n",
       "      <td>0.96</td>\n",
       "      <td>1.72</td>\n",
       "      <td>2.51</td>\n",
       "      <td>6.15</td>\n",
       "    </tr>\n",
       "    <tr>\n",
       "      <th>churn</th>\n",
       "      <td>4,000.00</td>\n",
       "      <td>0.27</td>\n",
       "      <td>0.44</td>\n",
       "      <td>0.00</td>\n",
       "      <td>0.00</td>\n",
       "      <td>0.00</td>\n",
       "      <td>1.00</td>\n",
       "      <td>1.00</td>\n",
       "    </tr>\n",
       "  </tbody>\n",
       "</table>\n",
       "</div>"
      ],
      "text/plain": [
       "                                     count   mean   std   min   25%    50%  \\\n",
       "gender                            4,000.00   0.51  0.50  0.00  0.00   1.00   \n",
       "near_location                     4,000.00   0.85  0.36  0.00  1.00   1.00   \n",
       "partner                           4,000.00   0.49  0.50  0.00  0.00   0.00   \n",
       "promo_friends                     4,000.00   0.31  0.46  0.00  0.00   0.00   \n",
       "phone                             4,000.00   0.90  0.30  0.00  1.00   1.00   \n",
       "contract_period                   4,000.00   4.68  4.55  1.00  1.00   1.00   \n",
       "group_visits                      4,000.00   0.41  0.49  0.00  0.00   0.00   \n",
       "age                               4,000.00  29.18  3.26 18.00 27.00  29.00   \n",
       "avg_additional_charges_total      4,000.00 146.94 96.36  0.15 68.87 136.22   \n",
       "month_to_end_contract             4,000.00   4.32  4.19  1.00  1.00   1.00   \n",
       "lifetime                          4,000.00   3.72  3.75  0.00  1.00   3.00   \n",
       "avg_class_frequency_total         4,000.00   1.88  0.97  0.00  1.18   1.83   \n",
       "avg_class_frequency_current_month 4,000.00   1.77  1.05  0.00  0.96   1.72   \n",
       "churn                             4,000.00   0.27  0.44  0.00  0.00   0.00   \n",
       "\n",
       "                                     75%    max  \n",
       "gender                              1.00   1.00  \n",
       "near_location                       1.00   1.00  \n",
       "partner                             1.00   1.00  \n",
       "promo_friends                       1.00   1.00  \n",
       "phone                               1.00   1.00  \n",
       "contract_period                     6.00  12.00  \n",
       "group_visits                        1.00   1.00  \n",
       "age                                31.00  41.00  \n",
       "avg_additional_charges_total      210.95 552.59  \n",
       "month_to_end_contract               6.00  12.00  \n",
       "lifetime                            5.00  31.00  \n",
       "avg_class_frequency_total           2.54   6.02  \n",
       "avg_class_frequency_current_month   2.51   6.15  \n",
       "churn                               1.00   1.00  "
      ]
     },
     "execution_count": 8,
     "metadata": {},
     "output_type": "execute_result"
    }
   ],
   "source": [
    "df.describe().T"
   ]
  },
  {
   "cell_type": "markdown",
   "metadata": {},
   "source": [
    "Распределение по полу примерно поровну.  \n",
    "\n",
    "Большая часть клиентов живет или работает рядом с фитнес-центром, об этом говорит высокое среднее и низкое стандартное отклонение.  \n",
    "\n",
    "Половина клиентов пришла по партнерским программам.  \n",
    "Мало тех, кто пришли по акции \"приведи друга\".  \n",
    "\n",
    "Почти у всех указан номер телефона.  \n",
    "\n",
    "Абонементы бывают от 1 до 12 месяцев и судя по стандартному отклонению разброс этих абонементов большой. Средняя длительность действующего абонемента составляет 4-5 месяцев. При этом есть смещение в данных: для большинства срок действующего абонемента равен 1 месяц. Это касается и срока окончания действия абонементов.  \n",
    "\n",
    "Менее половины посещают групповые занятия.  \n",
    "\n",
    "Средний возраст клиента 29-30 лет. Минимальный - 18 лет, максимальный - 41 год.  \n",
    "\n",
    "Средняя суммарная выручка от других услуг фитнес-центра - 147 у.е. Максимальная - 550 у.е.  \n",
    "\n",
    "Есть клиенты, которые еще ни разу не посетили занятия или только начали, и те, кто занимается более 2 лет.  Так же есть те, кто занимаются по 6 раз в неделю, но в среднем это 1-2 посещения в неделю.  \n",
    "\n",
    "Отток примерно 27%."
   ]
  },
  {
   "cell_type": "markdown",
   "metadata": {},
   "source": [
    "### Средние значения признаков в двух группах — тех, кто ушел в отток и тех, кто остался"
   ]
  },
  {
   "cell_type": "code",
   "execution_count": 9,
   "metadata": {},
   "outputs": [
    {
     "data": {
      "text/html": [
       "<div>\n",
       "<style scoped>\n",
       "    .dataframe tbody tr th:only-of-type {\n",
       "        vertical-align: middle;\n",
       "    }\n",
       "\n",
       "    .dataframe tbody tr th {\n",
       "        vertical-align: top;\n",
       "    }\n",
       "\n",
       "    .dataframe thead th {\n",
       "        text-align: right;\n",
       "    }\n",
       "</style>\n",
       "<table border=\"1\" class=\"dataframe\">\n",
       "  <thead>\n",
       "    <tr style=\"text-align: right;\">\n",
       "      <th>churn</th>\n",
       "      <th>остались</th>\n",
       "      <th>ушли</th>\n",
       "    </tr>\n",
       "  </thead>\n",
       "  <tbody>\n",
       "    <tr>\n",
       "      <th>gender</th>\n",
       "      <td>0.51</td>\n",
       "      <td>0.51</td>\n",
       "    </tr>\n",
       "    <tr>\n",
       "      <th>near_location</th>\n",
       "      <td>0.87</td>\n",
       "      <td>0.77</td>\n",
       "    </tr>\n",
       "    <tr>\n",
       "      <th>partner</th>\n",
       "      <td>0.53</td>\n",
       "      <td>0.36</td>\n",
       "    </tr>\n",
       "    <tr>\n",
       "      <th>promo_friends</th>\n",
       "      <td>0.35</td>\n",
       "      <td>0.18</td>\n",
       "    </tr>\n",
       "    <tr>\n",
       "      <th>phone</th>\n",
       "      <td>0.90</td>\n",
       "      <td>0.90</td>\n",
       "    </tr>\n",
       "    <tr>\n",
       "      <th>contract_period</th>\n",
       "      <td>5.75</td>\n",
       "      <td>1.73</td>\n",
       "    </tr>\n",
       "    <tr>\n",
       "      <th>group_visits</th>\n",
       "      <td>0.46</td>\n",
       "      <td>0.27</td>\n",
       "    </tr>\n",
       "    <tr>\n",
       "      <th>age</th>\n",
       "      <td>29.98</td>\n",
       "      <td>26.99</td>\n",
       "    </tr>\n",
       "    <tr>\n",
       "      <th>avg_additional_charges_total</th>\n",
       "      <td>158.45</td>\n",
       "      <td>115.08</td>\n",
       "    </tr>\n",
       "    <tr>\n",
       "      <th>month_to_end_contract</th>\n",
       "      <td>5.28</td>\n",
       "      <td>1.66</td>\n",
       "    </tr>\n",
       "    <tr>\n",
       "      <th>lifetime</th>\n",
       "      <td>4.71</td>\n",
       "      <td>0.99</td>\n",
       "    </tr>\n",
       "    <tr>\n",
       "      <th>avg_class_frequency_total</th>\n",
       "      <td>2.02</td>\n",
       "      <td>1.47</td>\n",
       "    </tr>\n",
       "    <tr>\n",
       "      <th>avg_class_frequency_current_month</th>\n",
       "      <td>2.03</td>\n",
       "      <td>1.04</td>\n",
       "    </tr>\n",
       "  </tbody>\n",
       "</table>\n",
       "</div>"
      ],
      "text/plain": [
       "churn                              остались   ушли\n",
       "gender                                 0.51   0.51\n",
       "near_location                          0.87   0.77\n",
       "partner                                0.53   0.36\n",
       "promo_friends                          0.35   0.18\n",
       "phone                                  0.90   0.90\n",
       "contract_period                        5.75   1.73\n",
       "group_visits                           0.46   0.27\n",
       "age                                   29.98  26.99\n",
       "avg_additional_charges_total         158.45 115.08\n",
       "month_to_end_contract                  5.28   1.66\n",
       "lifetime                               4.71   0.99\n",
       "avg_class_frequency_total              2.02   1.47\n",
       "avg_class_frequency_current_month      2.03   1.04"
      ]
     },
     "execution_count": 9,
     "metadata": {},
     "output_type": "execute_result"
    }
   ],
   "source": [
    "df.groupby('churn').mean().T.rename(columns={0 : 'остались', 1 : 'ушли'})"
   ]
  },
  {
   "cell_type": "markdown",
   "metadata": {},
   "source": [
    "Если среднее значение по бинарным показателям (0 и 1) ближе к 1, значит людей с признаком больше, чем без него. Если меньше 0,5, значит их меньше.\n",
    "\n",
    "По полу примерно равное количество человек разного пола в двух группах. Это говорит о том, что этот признак не влияет на отток.\n",
    "\n",
    "Большая часть клиентов, это те кто проживает или работает рядом. И отток клиентов происходит среди тех кто находиться дальше от фитнес-центра. Можно сказать, что этот признак слабо влияет на отток.  \n",
    "\n",
    "Есть различия в оттоке между сотрудниками компании-партнёра клуба. Среди партнеров оттток меньше.  \n",
    "\n",
    "Среди тех, кто остался, пришедших по промо-акции больше.  \n",
    "\n",
    "Практически все оставляют контакты для связи, поэтому на отток данный признак не влияет.  \n",
    "\n",
    "Длительность действующего абонемента по оставшимся пользователям в среднем 5-6 месяцев, а по ушедшим - 1-2 месяца. Это говорит о том, что купившие длительный абонемент реже идут в отток, чем те, у кого он на короткий срок. Влияние признака на клиентов высокое.  \n",
    "\n",
    "Посещение групповых занятий по выделенным группам также отличается: среди оставшихся клиентов распределение примерно равномерно. Среди тех, кто ушёл, непосещающих групповые занятия значительно больше.  \n",
    "\n",
    "По возрасту разница не значительная. В группе лояльных средний возраст составляет около 30 лет, а среди уходящих - около 27 лет.  \n",
    "\n",
    "Выручка от других услуг также незначительно отличается между группами.  \n",
    "\n",
    "В среднем срок до окончания действующего абонемента у людей, ушедших в отток около 1-2 месяцев, а у оставшихся клиентов - около 5 месяцев. Это снова указывает на то, что уходят чаще те, у кого до конца абонемента осталось чуть-чуть.  \n",
    "\n",
    "Время с момента первого обращения для уходящих в отток равно 1 месяцу, а для тех, кто остался, близко к 5 месяцам. Скорее всего те, кто проявил активность в первые месяцы, не уйдут в отток.  \n",
    "\n",
    "Средняя частота посещений в неделю не сильно отличается. Лояльные клиенты в среднем посещают центр 2 раза в неделю, а ушедшие - от 1 до 2 раз.  \n",
    "\n",
    "Средняя частота посещений в неделю за предыдущий месяц у оставшихся - 2 раза в неделю, у ушедших - 1 раз."
   ]
  },
  {
   "cell_type": "markdown",
   "metadata": {},
   "source": [
    "### Столбчатые гистограммы и распределения признаков для тех, кто ушёл / остался"
   ]
  },
  {
   "cell_type": "code",
   "execution_count": 10,
   "metadata": {},
   "outputs": [],
   "source": [
    "# разделим выборки на клиентов, ушедших в отток (churn_clients), и клиентов, которые остались (loyal_clients)\n",
    "churn_clients = df.query('churn == 1')\n",
    "loyal_clients = df.query('churn == 0')"
   ]
  },
  {
   "cell_type": "code",
   "execution_count": 11,
   "metadata": {
    "scrolled": false
   },
   "outputs": [
    {
     "data": {
      "image/png": "[encoded data removed]",
      "text/plain": [
       "<Figure size 504x288 with 1 Axes>"
      ]
     },
     "metadata": {
      "needs_background": "light"
     },
     "output_type": "display_data"
    },
    {
     "data": {
      "image/png": "[encoded data removed]",
      "text/plain": [
       "<Figure size 504x288 with 1 Axes>"
      ]
     },
     "metadata": {
      "needs_background": "light"
     },
     "output_type": "display_data"
    },
    {
     "data": {
      "image/png": "[encoded data removed]",
      "text/plain": [
       "<Figure size 504x288 with 1 Axes>"
      ]
     },
     "metadata": {
      "needs_background": "light"
     },
     "output_type": "display_data"
    },
    {
     "data": {
      "image/png": "[encoded data removed]",
      "text/plain": [
       "<Figure size 504x288 with 1 Axes>"
      ]
     },
     "metadata": {
      "needs_background": "light"
     },
     "output_type": "display_data"
    },
    {
     "data": {
      "image/png": "[encoded data removed]",
      "text/plain": [
       "<Figure size 504x288 with 1 Axes>"
      ]
     },
     "metadata": {
      "needs_background": "light"
     },
     "output_type": "display_data"
    },
    {
     "data": {
      "image/png": "[encoded data removed]",
      "text/plain": [
       "<Figure size 504x288 with 1 Axes>"
      ]
     },
     "metadata": {
      "needs_background": "light"
     },
     "output_type": "display_data"
    },
    {
     "data": {
      "image/png": "[encoded data removed]",
      "text/plain": [
       "<Figure size 504x288 with 1 Axes>"
      ]
     },
     "metadata": {
      "needs_background": "light"
     },
     "output_type": "display_data"
    },
    {
     "data": {
      "image/png": "[encoded data removed]",
      "text/plain": [
       "<Figure size 504x288 with 1 Axes>"
      ]
     },
     "metadata": {
      "needs_background": "light"
     },
     "output_type": "display_data"
    },
    {
     "data": {
      "image/png": "[encoded data removed]",
      "text/plain": [
       "<Figure size 504x288 with 1 Axes>"
      ]
     },
     "metadata": {
      "needs_background": "light"
     },
     "output_type": "display_data"
    },
    {
     "data": {
      "image/png": "[encoded data removed]",
      "text/plain": [
       "<Figure size 504x288 with 1 Axes>"
      ]
     },
     "metadata": {
      "needs_background": "light"
     },
     "output_type": "display_data"
    },
    {
     "data": {
      "image/png": "[encoded data removed]",
      "text/plain": [
       "<Figure size 504x288 with 1 Axes>"
      ]
     },
     "metadata": {
      "needs_background": "light"
     },
     "output_type": "display_data"
    },
    {
     "data": {
      "image/png": "[encoded data removed]",
      "text/plain": [
       "<Figure size 504x288 with 1 Axes>"
      ]
     },
     "metadata": {
      "needs_background": "light"
     },
     "output_type": "display_data"
    },
    {
     "data": {
      "image/png": "[encoded data removed]",
      "text/plain": [
       "<Figure size 504x288 with 1 Axes>"
      ]
     },
     "metadata": {
      "needs_background": "light"
     },
     "output_type": "display_data"
    }
   ],
   "source": [
    "# построим столбчатые гистограммы и распределения признаков для обоих групп\n",
    "for column in df.drop('churn', axis = 1):\n",
    "    fig = plt.figure(figsize = (7,4))\n",
    "    plt.hist(loyal_clients[column], alpha = 0.6, label='остались')\n",
    "    plt.hist(churn_clients[column], alpha = 0.8, label='ушли')\n",
    "    plt.title('Распределение признака ' + column)\n",
    "    plt.ylabel('Кол-во записей')\n",
    "    plt.xlabel(column)\n",
    "    plt.legend(bbox_to_anchor=( 1.02 , 1 ), loc='upper left', borderaxespad= 0 )\n",
    "    plt.show()"
   ]
  },
  {
   "cell_type": "markdown",
   "metadata": {},
   "source": [
    "Распределение клиентов на графиках подтверждают ранее сделанные выводы.  \n",
    "\n",
    "**Распределение:**  \n",
    "* **По полу:** доли оттока примерно одинаковые и среди мужчин, и среди женщин.  \n",
    "\n",
    "\n",
    "* **По расположению:** тех, кто живет или работает ближе значительно больше; и среди них доля оставшихся тоже значительно больше.  \n",
    "\n",
    "\n",
    "* **Среди партнёров клуба:** те, кто является сотрудником компании-партнёра клуба, склонны продолжать ходить в фитнес.  \n",
    "\n",
    "\n",
    "* **По акции \"Приведи друга\":** среди тех, кто воспользовался промо-акцией \"Приведи друга\" отток значитьлно меньше. Среди тех, кто не воспользовался, отток примерно 50%.  \n",
    "\n",
    "\n",
    "* **По наличию телефона:** восновном все оставляют контактный ноиер; распределение оттока одинаково и не зависит от наличия или отсутствия телефона.  \n",
    "\n",
    "\n",
    "* **По длительности текущего действующего абонемента:** чем дольше длительнось абонемента, тем у этих клиентов отток меньше. Абонементов на 1 месяц больше всего, и основной отток среди данных клиентов.  \n",
    "\n",
    "\n",
    "* **По факту посещения групповых занятий:** большая часть тех, кто ходит на групповые занятия, склонны остаться.  \n",
    "\n",
    "\n",
    "* **По возрасту:** по среднему возрасту обе группы имеют нормальное распределение, но датасет лояльных клиентов смещён вправо, а датасет ушедших клиентов - влево. Те кто уходит, чуть моложе.  \n",
    "\n",
    "\n",
    "* **По суммарной выручке от других услуг фитнес-центра:** распределение средней выручки от других услуг в двух группах смещено влево с большим смещением для ушедших людей. То есть те, кто уходит, почти не тратят на дополнительные услуги в фитнес-центре.  \n",
    "\n",
    "\n",
    "* **По сроку до окончания текущего действующего абонемента:** чем больше времени осталось до окончания абонемента, тем желание клиентов продолжать ходить в фитнес сильнее. Основной отток идет среди тех, у кого осталься 1 месяц.  \n",
    "\n",
    "\n",
    "* **По времени с момента первого обращения в фитнес-центр:** среди тех, кто длительно посещает центр, оттока почти нет. Основной отток идет среди тех, кто ходил до 2 месяцев.  \n",
    "\n",
    "\n",
    "* **По средней частоте посещений в неделю за все время с начала действия абонемента:** у тех, кто ходит до 2 раз в неделю, доли оттока примерно одинаковые; но ситуация резко меняется если клиент ходит 3 раза и более, отток снижается и сходит на нет, но таких клиентов значительно меньше.  \n",
    "\n",
    "\n",
    "* **По средней частоте посещений в неделю за предыдущий месяц:** чем реже клиент ходил в клуб за последний месяц, тем и отток больше."
   ]
  },
  {
   "cell_type": "markdown",
   "metadata": {},
   "source": [
    "### Матрица корреляций"
   ]
  },
  {
   "cell_type": "code",
   "execution_count": 12,
   "metadata": {},
   "outputs": [
    {
     "data": {
      "text/html": [
       "<div>\n",
       "<style scoped>\n",
       "    .dataframe tbody tr th:only-of-type {\n",
       "        vertical-align: middle;\n",
       "    }\n",
       "\n",
       "    .dataframe tbody tr th {\n",
       "        vertical-align: top;\n",
       "    }\n",
       "\n",
       "    .dataframe thead th {\n",
       "        text-align: right;\n",
       "    }\n",
       "</style>\n",
       "<table border=\"1\" class=\"dataframe\">\n",
       "  <thead>\n",
       "    <tr style=\"text-align: right;\">\n",
       "      <th></th>\n",
       "      <th>gender</th>\n",
       "      <th>near_location</th>\n",
       "      <th>partner</th>\n",
       "      <th>promo_friends</th>\n",
       "      <th>phone</th>\n",
       "      <th>contract_period</th>\n",
       "      <th>group_visits</th>\n",
       "      <th>age</th>\n",
       "      <th>avg_additional_charges_total</th>\n",
       "      <th>month_to_end_contract</th>\n",
       "      <th>lifetime</th>\n",
       "      <th>avg_class_frequency_total</th>\n",
       "      <th>avg_class_frequency_current_month</th>\n",
       "      <th>churn</th>\n",
       "    </tr>\n",
       "  </thead>\n",
       "  <tbody>\n",
       "    <tr>\n",
       "      <th>gender</th>\n",
       "      <td>1.00</td>\n",
       "      <td>0.01</td>\n",
       "      <td>-0.01</td>\n",
       "      <td>-0.01</td>\n",
       "      <td>-0.01</td>\n",
       "      <td>0.00</td>\n",
       "      <td>0.02</td>\n",
       "      <td>0.01</td>\n",
       "      <td>-0.01</td>\n",
       "      <td>-0.00</td>\n",
       "      <td>0.01</td>\n",
       "      <td>0.01</td>\n",
       "      <td>0.01</td>\n",
       "      <td>0.00</td>\n",
       "    </tr>\n",
       "    <tr>\n",
       "      <th>near_location</th>\n",
       "      <td>0.01</td>\n",
       "      <td>1.00</td>\n",
       "      <td>-0.01</td>\n",
       "      <td>0.21</td>\n",
       "      <td>-0.02</td>\n",
       "      <td>0.15</td>\n",
       "      <td>0.15</td>\n",
       "      <td>0.06</td>\n",
       "      <td>0.04</td>\n",
       "      <td>0.14</td>\n",
       "      <td>0.07</td>\n",
       "      <td>0.04</td>\n",
       "      <td>0.06</td>\n",
       "      <td>-0.13</td>\n",
       "    </tr>\n",
       "    <tr>\n",
       "      <th>partner</th>\n",
       "      <td>-0.01</td>\n",
       "      <td>-0.01</td>\n",
       "      <td>1.00</td>\n",
       "      <td>0.45</td>\n",
       "      <td>0.01</td>\n",
       "      <td>0.31</td>\n",
       "      <td>0.02</td>\n",
       "      <td>0.05</td>\n",
       "      <td>0.02</td>\n",
       "      <td>0.29</td>\n",
       "      <td>0.06</td>\n",
       "      <td>0.02</td>\n",
       "      <td>0.05</td>\n",
       "      <td>-0.16</td>\n",
       "    </tr>\n",
       "    <tr>\n",
       "      <th>promo_friends</th>\n",
       "      <td>-0.01</td>\n",
       "      <td>0.21</td>\n",
       "      <td>0.45</td>\n",
       "      <td>1.00</td>\n",
       "      <td>0.00</td>\n",
       "      <td>0.24</td>\n",
       "      <td>0.12</td>\n",
       "      <td>0.05</td>\n",
       "      <td>0.04</td>\n",
       "      <td>0.24</td>\n",
       "      <td>0.07</td>\n",
       "      <td>0.03</td>\n",
       "      <td>0.05</td>\n",
       "      <td>-0.16</td>\n",
       "    </tr>\n",
       "    <tr>\n",
       "      <th>phone</th>\n",
       "      <td>-0.01</td>\n",
       "      <td>-0.02</td>\n",
       "      <td>0.01</td>\n",
       "      <td>0.00</td>\n",
       "      <td>1.00</td>\n",
       "      <td>-0.01</td>\n",
       "      <td>-0.01</td>\n",
       "      <td>-0.01</td>\n",
       "      <td>0.01</td>\n",
       "      <td>-0.01</td>\n",
       "      <td>-0.02</td>\n",
       "      <td>0.01</td>\n",
       "      <td>0.01</td>\n",
       "      <td>-0.00</td>\n",
       "    </tr>\n",
       "    <tr>\n",
       "      <th>contract_period</th>\n",
       "      <td>0.00</td>\n",
       "      <td>0.15</td>\n",
       "      <td>0.31</td>\n",
       "      <td>0.24</td>\n",
       "      <td>-0.01</td>\n",
       "      <td>1.00</td>\n",
       "      <td>0.17</td>\n",
       "      <td>0.14</td>\n",
       "      <td>0.11</td>\n",
       "      <td>0.97</td>\n",
       "      <td>0.17</td>\n",
       "      <td>0.10</td>\n",
       "      <td>0.16</td>\n",
       "      <td>-0.39</td>\n",
       "    </tr>\n",
       "    <tr>\n",
       "      <th>group_visits</th>\n",
       "      <td>0.02</td>\n",
       "      <td>0.15</td>\n",
       "      <td>0.02</td>\n",
       "      <td>0.12</td>\n",
       "      <td>-0.01</td>\n",
       "      <td>0.17</td>\n",
       "      <td>1.00</td>\n",
       "      <td>0.08</td>\n",
       "      <td>0.03</td>\n",
       "      <td>0.16</td>\n",
       "      <td>0.08</td>\n",
       "      <td>0.06</td>\n",
       "      <td>0.08</td>\n",
       "      <td>-0.18</td>\n",
       "    </tr>\n",
       "    <tr>\n",
       "      <th>age</th>\n",
       "      <td>0.01</td>\n",
       "      <td>0.06</td>\n",
       "      <td>0.05</td>\n",
       "      <td>0.05</td>\n",
       "      <td>-0.01</td>\n",
       "      <td>0.14</td>\n",
       "      <td>0.08</td>\n",
       "      <td>1.00</td>\n",
       "      <td>0.08</td>\n",
       "      <td>0.13</td>\n",
       "      <td>0.16</td>\n",
       "      <td>0.12</td>\n",
       "      <td>0.18</td>\n",
       "      <td>-0.40</td>\n",
       "    </tr>\n",
       "    <tr>\n",
       "      <th>avg_additional_charges_total</th>\n",
       "      <td>-0.01</td>\n",
       "      <td>0.04</td>\n",
       "      <td>0.02</td>\n",
       "      <td>0.04</td>\n",
       "      <td>0.01</td>\n",
       "      <td>0.11</td>\n",
       "      <td>0.03</td>\n",
       "      <td>0.08</td>\n",
       "      <td>1.00</td>\n",
       "      <td>0.11</td>\n",
       "      <td>0.08</td>\n",
       "      <td>0.04</td>\n",
       "      <td>0.08</td>\n",
       "      <td>-0.20</td>\n",
       "    </tr>\n",
       "    <tr>\n",
       "      <th>month_to_end_contract</th>\n",
       "      <td>-0.00</td>\n",
       "      <td>0.14</td>\n",
       "      <td>0.29</td>\n",
       "      <td>0.24</td>\n",
       "      <td>-0.01</td>\n",
       "      <td>0.97</td>\n",
       "      <td>0.16</td>\n",
       "      <td>0.13</td>\n",
       "      <td>0.11</td>\n",
       "      <td>1.00</td>\n",
       "      <td>0.16</td>\n",
       "      <td>0.09</td>\n",
       "      <td>0.15</td>\n",
       "      <td>-0.38</td>\n",
       "    </tr>\n",
       "    <tr>\n",
       "      <th>lifetime</th>\n",
       "      <td>0.01</td>\n",
       "      <td>0.07</td>\n",
       "      <td>0.06</td>\n",
       "      <td>0.07</td>\n",
       "      <td>-0.02</td>\n",
       "      <td>0.17</td>\n",
       "      <td>0.08</td>\n",
       "      <td>0.16</td>\n",
       "      <td>0.08</td>\n",
       "      <td>0.16</td>\n",
       "      <td>1.00</td>\n",
       "      <td>0.11</td>\n",
       "      <td>0.18</td>\n",
       "      <td>-0.44</td>\n",
       "    </tr>\n",
       "    <tr>\n",
       "      <th>avg_class_frequency_total</th>\n",
       "      <td>0.01</td>\n",
       "      <td>0.04</td>\n",
       "      <td>0.02</td>\n",
       "      <td>0.03</td>\n",
       "      <td>0.01</td>\n",
       "      <td>0.10</td>\n",
       "      <td>0.06</td>\n",
       "      <td>0.12</td>\n",
       "      <td>0.04</td>\n",
       "      <td>0.09</td>\n",
       "      <td>0.11</td>\n",
       "      <td>1.00</td>\n",
       "      <td>0.95</td>\n",
       "      <td>-0.25</td>\n",
       "    </tr>\n",
       "    <tr>\n",
       "      <th>avg_class_frequency_current_month</th>\n",
       "      <td>0.01</td>\n",
       "      <td>0.06</td>\n",
       "      <td>0.05</td>\n",
       "      <td>0.05</td>\n",
       "      <td>0.01</td>\n",
       "      <td>0.16</td>\n",
       "      <td>0.08</td>\n",
       "      <td>0.18</td>\n",
       "      <td>0.08</td>\n",
       "      <td>0.15</td>\n",
       "      <td>0.18</td>\n",
       "      <td>0.95</td>\n",
       "      <td>1.00</td>\n",
       "      <td>-0.41</td>\n",
       "    </tr>\n",
       "    <tr>\n",
       "      <th>churn</th>\n",
       "      <td>0.00</td>\n",
       "      <td>-0.13</td>\n",
       "      <td>-0.16</td>\n",
       "      <td>-0.16</td>\n",
       "      <td>-0.00</td>\n",
       "      <td>-0.39</td>\n",
       "      <td>-0.18</td>\n",
       "      <td>-0.40</td>\n",
       "      <td>-0.20</td>\n",
       "      <td>-0.38</td>\n",
       "      <td>-0.44</td>\n",
       "      <td>-0.25</td>\n",
       "      <td>-0.41</td>\n",
       "      <td>1.00</td>\n",
       "    </tr>\n",
       "  </tbody>\n",
       "</table>\n",
       "</div>"
      ],
      "text/plain": [
       "                                   gender  near_location  partner  \\\n",
       "gender                               1.00           0.01    -0.01   \n",
       "near_location                        0.01           1.00    -0.01   \n",
       "partner                             -0.01          -0.01     1.00   \n",
       "promo_friends                       -0.01           0.21     0.45   \n",
       "phone                               -0.01          -0.02     0.01   \n",
       "contract_period                      0.00           0.15     0.31   \n",
       "group_visits                         0.02           0.15     0.02   \n",
       "age                                  0.01           0.06     0.05   \n",
       "avg_additional_charges_total        -0.01           0.04     0.02   \n",
       "month_to_end_contract               -0.00           0.14     0.29   \n",
       "lifetime                             0.01           0.07     0.06   \n",
       "avg_class_frequency_total            0.01           0.04     0.02   \n",
       "avg_class_frequency_current_month    0.01           0.06     0.05   \n",
       "churn                                0.00          -0.13    -0.16   \n",
       "\n",
       "                                   promo_friends  phone  contract_period  \\\n",
       "gender                                     -0.01  -0.01             0.00   \n",
       "near_location                               0.21  -0.02             0.15   \n",
       "partner                                     0.45   0.01             0.31   \n",
       "promo_friends                               1.00   0.00             0.24   \n",
       "phone                                       0.00   1.00            -0.01   \n",
       "contract_period                             0.24  -0.01             1.00   \n",
       "group_visits                                0.12  -0.01             0.17   \n",
       "age                                         0.05  -0.01             0.14   \n",
       "avg_additional_charges_total                0.04   0.01             0.11   \n",
       "month_to_end_contract                       0.24  -0.01             0.97   \n",
       "lifetime                                    0.07  -0.02             0.17   \n",
       "avg_class_frequency_total                   0.03   0.01             0.10   \n",
       "avg_class_frequency_current_month           0.05   0.01             0.16   \n",
       "churn                                      -0.16  -0.00            -0.39   \n",
       "\n",
       "                                   group_visits   age  \\\n",
       "gender                                     0.02  0.01   \n",
       "near_location                              0.15  0.06   \n",
       "partner                                    0.02  0.05   \n",
       "promo_friends                              0.12  0.05   \n",
       "phone                                     -0.01 -0.01   \n",
       "contract_period                            0.17  0.14   \n",
       "group_visits                               1.00  0.08   \n",
       "age                                        0.08  1.00   \n",
       "avg_additional_charges_total               0.03  0.08   \n",
       "month_to_end_contract                      0.16  0.13   \n",
       "lifetime                                   0.08  0.16   \n",
       "avg_class_frequency_total                  0.06  0.12   \n",
       "avg_class_frequency_current_month          0.08  0.18   \n",
       "churn                                     -0.18 -0.40   \n",
       "\n",
       "                                   avg_additional_charges_total  \\\n",
       "gender                                                    -0.01   \n",
       "near_location                                              0.04   \n",
       "partner                                                    0.02   \n",
       "promo_friends                                              0.04   \n",
       "phone                                                      0.01   \n",
       "contract_period                                            0.11   \n",
       "group_visits                                               0.03   \n",
       "age                                                        0.08   \n",
       "avg_additional_charges_total                               1.00   \n",
       "month_to_end_contract                                      0.11   \n",
       "lifetime                                                   0.08   \n",
       "avg_class_frequency_total                                  0.04   \n",
       "avg_class_frequency_current_month                          0.08   \n",
       "churn                                                     -0.20   \n",
       "\n",
       "                                   month_to_end_contract  lifetime  \\\n",
       "gender                                             -0.00      0.01   \n",
       "near_location                                       0.14      0.07   \n",
       "partner                                             0.29      0.06   \n",
       "promo_friends                                       0.24      0.07   \n",
       "phone                                              -0.01     -0.02   \n",
       "contract_period                                     0.97      0.17   \n",
       "group_visits                                        0.16      0.08   \n",
       "age                                                 0.13      0.16   \n",
       "avg_additional_charges_total                        0.11      0.08   \n",
       "month_to_end_contract                               1.00      0.16   \n",
       "lifetime                                            0.16      1.00   \n",
       "avg_class_frequency_total                           0.09      0.11   \n",
       "avg_class_frequency_current_month                   0.15      0.18   \n",
       "churn                                              -0.38     -0.44   \n",
       "\n",
       "                                   avg_class_frequency_total  \\\n",
       "gender                                                  0.01   \n",
       "near_location                                           0.04   \n",
       "partner                                                 0.02   \n",
       "promo_friends                                           0.03   \n",
       "phone                                                   0.01   \n",
       "contract_period                                         0.10   \n",
       "group_visits                                            0.06   \n",
       "age                                                     0.12   \n",
       "avg_additional_charges_total                            0.04   \n",
       "month_to_end_contract                                   0.09   \n",
       "lifetime                                                0.11   \n",
       "avg_class_frequency_total                               1.00   \n",
       "avg_class_frequency_current_month                       0.95   \n",
       "churn                                                  -0.25   \n",
       "\n",
       "                                   avg_class_frequency_current_month  churn  \n",
       "gender                                                          0.01   0.00  \n",
       "near_location                                                   0.06  -0.13  \n",
       "partner                                                         0.05  -0.16  \n",
       "promo_friends                                                   0.05  -0.16  \n",
       "phone                                                           0.01  -0.00  \n",
       "contract_period                                                 0.16  -0.39  \n",
       "group_visits                                                    0.08  -0.18  \n",
       "age                                                             0.18  -0.40  \n",
       "avg_additional_charges_total                                    0.08  -0.20  \n",
       "month_to_end_contract                                           0.15  -0.38  \n",
       "lifetime                                                        0.18  -0.44  \n",
       "avg_class_frequency_total                                       0.95  -0.25  \n",
       "avg_class_frequency_current_month                               1.00  -0.41  \n",
       "churn                                                          -0.41   1.00  "
      ]
     },
     "execution_count": 12,
     "metadata": {},
     "output_type": "execute_result"
    }
   ],
   "source": [
    "df_corr = df.corr()\n",
    "df_corr"
   ]
  },
  {
   "cell_type": "code",
   "execution_count": 13,
   "metadata": {
    "scrolled": false
   },
   "outputs": [
    {
     "data": {
      "image/png": "[encoded data removed]",
      "text/plain": [
       "<Figure size 1008x576 with 2 Axes>"
      ]
     },
     "metadata": {
      "needs_background": "light"
     },
     "output_type": "display_data"
    }
   ],
   "source": [
    "matrix = np.triu(df_corr)\n",
    "\n",
    "plt.figure(figsize=(14,8))\n",
    "sns.heatmap(df_corr, annot = True, mask=matrix, linewidths=.3, cmap= 'inferno')\n",
    "plt.title('Матрица корреляций признаков', fontsize = 20)\n",
    "plt.xlabel('Признаки', fontsize = 14)\n",
    "plt.ylabel('Признаки', fontsize = 14) \n",
    "plt.show()"
   ]
  },
  {
   "cell_type": "markdown",
   "metadata": {},
   "source": [
    "По матрице корреляции видим, что такие признаки как пол и наличие контактного телефона не влияют на конечный показатель оттока. Все остальные показатели имеют обратное влияние: слабое, либо чуть более сильное. Явно влияющих признаков, сильно связанных с результирующим показателем, предварительный анализ не выявил.\n",
    "\n",
    "Имеется сильная связь между показателями длительности абонемента и количеством месяцев до конца абонемента. \n",
    "\n",
    "Также наблюдается сильная связь между средней частотой посещений в неделю с начала пользования услугами и за предыдущий месяц.  \n",
    "Сильно коррелирующие признаки могут привести к проблеме мультиколлиниарности, это означает что мы можем избавиться от данных признаков."
   ]
  },
  {
   "cell_type": "code",
   "execution_count": 14,
   "metadata": {},
   "outputs": [],
   "source": [
    "#Чтобы эти признаки не искажали обучение, удалим их из модели  \n",
    "df = df.drop(['month_to_end_contract', 'avg_class_frequency_total'], axis=1)"
   ]
  },
  {
   "cell_type": "markdown",
   "metadata": {},
   "source": [
    "**Вывод**  \n",
    "Анализ показателей:\n",
    "\n",
    "**Отток клиентов.** У нас есть данные о клиентах, которые продолжают пользоваться услугами фитнес-центра (лояльные клиенты) и тех, кто \"ушёл\" (нелояльные клиенты). При этом в выборке больше тех, кто продолжает пользоваться услугами (средняя близка к 0,3, а медиана равна 0).  \n",
    "Отток клиентов примерно 27%.\n",
    "\n",
    "**Пол клиентов.** У нас имеются данные о мужчинах и женщинах. При этом в выборке их равное количество. Доли оттока примерно одинаковые и среди мужчин, и среди женщин.  \n",
    "Это говорит о том, что этот признак не влияет на отток.\n",
    "\n",
    "**Близость к фитнес-центру.** У нас имеются данные о людях, которые живут или работают рядом с фитнес-центром, либо в отдалённости от него. При этом в выборке больше тех, кто живёт или работает рядом (так как средняя близка к 0,85, а первый квартиль равен 1). А в группе, которая лояльна к фитнес-центру, чуть больше человек, которые живут или работают поблизости, чем тех, кто находится в отдалённости.  \n",
    "Отток клиентов происходит чуть больше среди тех, кто находиться дальше от фитнес-центра. Можно сказать, что этот признак слабо влияет на отток.\n",
    "\n",
    "**Сотрудники компании-партнёра.** Данные о людях, которые являются или не являются сотрудниками компании-партнёра клуба, представлены в выборке примерно в равной пропорции (средняя близка к 0,5).  \n",
    "Есть различия в оттоке между сотрудниками компании-партнёра клуба. Среди партнеров оттток меньше.\n",
    "\n",
    "**Промо-акция.** У нас имеются данные о людях, которые приобрели или не приобрели первый абонемент по акции \"Приведи друга\". При этом в обеих группах больше людей, которые приобрели первый абонемент не по промо-акции \"Приведи друга\" (так как средняя близка к 0,3, а медиана равна 0).  \n",
    "Среди тех, кто воспользовался промо-акцией \"Приведи друга\" отток значитьлно меньше. Среди тех, кто не воспользовался, отток примерно 50%.\n",
    "\n",
    "**Контактный телефон.** В имеющихся данных по клиентам либо есть данные о контактном телефоне, либо их нет. При этом в выборке больше тех, для кого представлена контактная информация (так как средняя близка к 0,9, а четвёртый квартиль равен 1) для обоих категорий: лояльных и нелояльных клиентов (распределения схожи).\n",
    "\n",
    "**Возраст клиентов.** У нас имеются данные о клиентах возрастом от 18 до 41 года. Средний возраст равен 29 годам. Распределение для лояльных клиентов немного смещено вправо, а для ушедших клиентов - влево. Так, в группе лояльных фитнес-центру людей средний возраст составляет около 30 лет, а среди уходящих - около 27 лет. То есть вторая группа чуть младше.\n",
    "\n",
    "**Время с первого обращения.** У нас имеются данные о клиентах, которые обращались в фитнес-центр впервые от 0 до 31 месяца назад. Среднее время с момента первого обращения составляет 3 месяца. Время с момента первого обращения для уходящих в отток равно 1 месяцу, а для тех, кто остался, близко к 5 месяцам. Скорее всего те, кто проявил активность в первые месяцы, не уйдут в отток.\n",
    "\n",
    "**Длительность абонемента.** Действующий абонемент по рассматриваемым клиентам имеет срок в 1, 6 и 12 месяцев. Средняя длительность действующего абонемента составляет 4-5 месяцев. При этом есть перекос в данных: для большинства срок действующего абонемента равен 1 месяцу. Длительность действующего абонемента по оставшимся пользователям в среднем около 5-6 месяцев, а по ушедшим - 1-2 месяца. Это говорит о том, что купившие длительный абонемент с большей неохотой уйдут в отток, чем те, у кого он действует на короткий срок. Влияние признака на клиентов высокое.\n",
    "\n",
    "**Время до окончания абонемента.** У нас имеются данные по клиентам, до окончания абонементов которых осталось от 1 до 12 месяцев. В среднем это значение около 4 месяцев. При этом больше половины всей выборки - это люди, до конца абонементов которых остался 1 месяц. Различия в распределении групп (лояльных и нелояльных клиентов) по сроку до окончания действующего абонемента такие же, как и в распределениях по длительности абонемента. В среднем срок до окончания действующего абонемента у людей, ушедших в отток, около 1-2 месяцев, а у оставшихся клиентов - около 5 месяцев. Это снова указывает на то, что уходят в большей степени те, у кого длительность оставшегося абонемента невысока.\n",
    "\n",
    "**Групповые занятия.** У нас есть данные о клиентах, которые посещают групповые занятия или не посещают. При этом в выборке чуть больше тех, кто не посещает такие занятия (средняя близка к 0,4, а медиана равна 0). При этом среди лояльных клиентов распределение посещающих такие занятия и непосещающих примерно равномерно (вторых чуть больше); но среди тех, кто ушёл в отток, непосещающих групповые занятия значительно больше, чем тех, кто их посещает.\n",
    "\n",
    "**Частота посещений за весь срок.** У нас имеются данные по клиентам со средней частотой посещений за все время с начала действия абонемента от 0 до 6 раз в неделю. В среднем это значение составляет около 2 раз в неделю. При этом выборка равномерная, так как среднее почти равно медиане, а стандартное отклонение невысоко. Лояльные клиенты, в среднем, посещают центр 2 раза в неделю, а ушедшие - от 1 до 2.  \n",
    "У тех, кто занимается до 2 раз в неделю, доли оттока примерно одинаковые; но ситуация резко меняется если клиент ходит 3 раза и более, отток снижается и сходит на нет, но таких клиентов значительно меньше.\n",
    "\n",
    "**Частота посещений за последний месяц.** У нас имеются данные по клиентам со средней частотой посещений за месяц от 0 до 6 раз в неделю. В среднем это значение составляет около 2 раз в неделю.  \n",
    "Чем реже клиент ходил в клуб за последний месяц, тем отток больше.\n",
    "\n",
    "**Выручка от прочих услуг.** Выручка от прочих услуг фитнес-центра с клиента составила от 0,15 до 552,6 у.е. В среднем это значение составляет около 147 у.е.(мы не знаем наверняка, в каких ден.ед. измеряются данные). Распределение средней выручки от других услуг фитнес-центра для обоих датасетов смещено влево с большим смещением для ушедших людей. То есть те, кто уходит, стараются минимизировать затраты на дополнительные услуги в фитнес-центре.\n",
    "\n",
    "\n",
    "\n",
    "**Корреляция**  \n",
    "Такие признаки как пол и наличие контактного телефона не влияют на конечный показатель оттока. Все остальные показатели имеют обратное влияние: слабое, либо чуть более сильное. Явно влияющих признаков, сильно связанных с результирующим показателем, предварительный анализ не выявил.\n",
    "\n",
    "Имеется сильная связь между показателями длительности абонемента и количеством месяцев до конца абонемента.\n",
    "\n",
    "Также наблюдается сильная связь между средней частотой посещений в неделю с начала пользования услугами и за предыдущий месяц.  \n",
    "\n",
    "Мы удалили коррелирующие признаки, которые могут привести к проблеме мультиколлиниарности (срок до окончания текущего действующего абонемента, средняя частота посещений в неделю за все время с начала действия абонемента."
   ]
  },
  {
   "cell_type": "markdown",
   "metadata": {},
   "source": [
    "## Модель прогнозирования оттока клиентов"
   ]
  },
  {
   "cell_type": "markdown",
   "metadata": {},
   "source": [
    "### Выделение обучающей и валидационной выборок"
   ]
  },
  {
   "cell_type": "code",
   "execution_count": 15,
   "metadata": {},
   "outputs": [],
   "source": [
    "# Разделим данные на признаки (матрица x) и целевую переменную (y)\n",
    "x = df.drop('churn', axis = 1)\n",
    "y = df['churn']\n",
    "\n",
    "# Разделим выборку на обучающую и валидационную в соотношении 80:20\n",
    "x_train, x_test, y_train, y_test = train_test_split(x, y, test_size=0.2, random_state=0)\n",
    "\n",
    "# Cтандартизируем данные\n",
    "scaler = StandardScaler()\n",
    "scaler.fit(x_train)\n",
    "x_train_st = scaler.transform(x_train)\n",
    "x_test_st = scaler.transform(x_test)"
   ]
  },
  {
   "cell_type": "markdown",
   "metadata": {},
   "source": [
    "### Обучение модели"
   ]
  },
  {
   "cell_type": "markdown",
   "metadata": {},
   "source": [
    "**Логистическая регрессия**"
   ]
  },
  {
   "cell_type": "code",
   "execution_count": 16,
   "metadata": {},
   "outputs": [],
   "source": [
    "# Зададим алгоритм для модели\n",
    "lr_model = LogisticRegression(random_state=0)\n",
    "\n",
    "# Обучим модель\n",
    "lr_model.fit(x_train_st, y_train)\n",
    "\n",
    "# Воспользуемся обученной моделью, чтобы сделать прогнозы\n",
    "lr_predictions = lr_model.predict(x_test_st)\n",
    "lr_probabilities = lr_model.predict_proba(x_test_st)[:,1]"
   ]
  },
  {
   "cell_type": "markdown",
   "metadata": {},
   "source": [
    "**Случайный лес**"
   ]
  },
  {
   "cell_type": "code",
   "execution_count": 17,
   "metadata": {},
   "outputs": [],
   "source": [
    "# Зададим алгоритм для модели\n",
    "rf_model = RandomForestClassifier(random_state=0)\n",
    "\n",
    "# Обучим модель\n",
    "rf_model.fit(x_train_st, y_train)\n",
    "\n",
    "# Воспользуемся обученной моделью, чтобы сделать прогнозы\n",
    "rf_predictions = rf_model.predict(x_test_st)\n",
    "rf_probabilities = rf_model.predict_proba(x_test_st)[:,1]"
   ]
  },
  {
   "cell_type": "markdown",
   "metadata": {},
   "source": [
    "### Оценка метрик и сравнение моделей"
   ]
  },
  {
   "cell_type": "markdown",
   "metadata": {},
   "source": [
    "Создадим функцию для расчёта метрик: accuracy (доля правильных ответов), precision (точность), recall (полнота)"
   ]
  },
  {
   "cell_type": "code",
   "execution_count": 18,
   "metadata": {},
   "outputs": [],
   "source": [
    "def metrics(y_true, y_pred, y_proba, name):\n",
    "    print('Модель прогнозирования:', name) \n",
    "    print('Доля правильных ответов: accuracy = {:.2f}'.format(accuracy_score(y_true, y_pred)))\n",
    "    print('Точность: precision = {:.2f}'.format(precision_score (y_true, y_pred)))\n",
    "    print('Полнота: recall = {:.2f}'.format(recall_score(y_true, y_pred)))"
   ]
  },
  {
   "cell_type": "code",
   "execution_count": 19,
   "metadata": {},
   "outputs": [
    {
     "name": "stdout",
     "output_type": "stream",
     "text": [
      "Модель прогнозирования: \"Логистическая регрессия\"\n",
      "Доля правильных ответов: accuracy = 0.90\n",
      "Точность: precision = 0.79\n",
      "Полнота: recall = 0.82\n",
      "\n",
      "Модель прогнозирования: \"Случайный лес\"\n",
      "Доля правильных ответов: accuracy = 0.90\n",
      "Точность: precision = 0.81\n",
      "Полнота: recall = 0.75\n"
     ]
    }
   ],
   "source": [
    "# Рассчитаем метрики для модели логистической регрессии\n",
    "metrics(y_test, lr_predictions, lr_probabilities, '\"Логистическая регрессия\"')\n",
    "print()\n",
    "# Рассчитаем метрики для модели случайного леса\n",
    "metrics(y_test, rf_predictions, rf_probabilities, '\"Случайный лес\"')"
   ]
  },
  {
   "cell_type": "markdown",
   "metadata": {},
   "source": [
    "При построении модели мы разделили выборку на обучащую и валидационную в соотношении 80 к 20, то есть на 80% данных модель была обучена, а на 20% - проверена. После этого были построены и обучены 2 модели:  \n",
    "алгоритмом \"логистической регрессии\" и алгоритмом \"случайного леса\".\n",
    "\n",
    "Основные метрики полученных моделей следующие.  \n",
    "Для модели \"логистической регрессии\": Accuracy = 0,90; Precision = 0,79; Recall = 0,82.  \n",
    "Для модели \"случайного леса\": Accuracy = 0,90; Precision = 0,81; Recall = 0,75.  \n",
    "\n",
    "Таким образом, обе модели достаточно хорошо способны делать прогноз. Однако, модель \"логистической регрессии\" подходит больше."
   ]
  },
  {
   "cell_type": "markdown",
   "metadata": {},
   "source": [
    "## Кластеризация клиентов"
   ]
  },
  {
   "cell_type": "markdown",
   "metadata": {},
   "source": [
    "### Стандартизация данных"
   ]
  },
  {
   "cell_type": "code",
   "execution_count": 20,
   "metadata": {},
   "outputs": [],
   "source": [
    "# Зададим \"стандартизатор\"\n",
    "scaler = StandardScaler()\n",
    "\n",
    "# Стандартизируем данные\n",
    "x_sc = scaler.fit_transform(x)"
   ]
  },
  {
   "cell_type": "markdown",
   "metadata": {},
   "source": [
    "### Построение матрицы расстояний и дендрограммы"
   ]
  },
  {
   "cell_type": "code",
   "execution_count": 21,
   "metadata": {},
   "outputs": [],
   "source": [
    "# построим матрицу расстояний\n",
    "links = linkage(x_sc, method = 'ward')"
   ]
  },
  {
   "cell_type": "code",
   "execution_count": 22,
   "metadata": {},
   "outputs": [
    {
     "data": {
      "image/png": "[encoded data removed]",
      "text/plain": [
       "<Figure size 1080x720 with 1 Axes>"
      ]
     },
     "metadata": {
      "needs_background": "light"
     },
     "output_type": "display_data"
    }
   ],
   "source": [
    "# Построим дендрограмму\n",
    "plt.figure(figsize=(15, 10))\n",
    "plt.title('Кластеризация пользователей фитнес-центра')\n",
    "dendrogram(links, orientation='top')\n",
    "plt.show()"
   ]
  },
  {
   "cell_type": "markdown",
   "metadata": {},
   "source": [
    "По Дендрограмме видно, что можно выделить 4, 5 или 6 больших кластеров клиентов."
   ]
  },
  {
   "cell_type": "markdown",
   "metadata": {},
   "source": [
    "### Кластеризации по алгоритму K-Means и прогнозирование кластеров клиентов"
   ]
  },
  {
   "cell_type": "markdown",
   "metadata": {},
   "source": [
    "Было принято решение для прогноза кластеров клиентов использовать пять кластеров."
   ]
  },
  {
   "cell_type": "code",
   "execution_count": 23,
   "metadata": {},
   "outputs": [],
   "source": [
    "# задаём модель k_means с числом кластеров 5 и фиксируем значение random_state\n",
    "km = KMeans(n_clusters=5, random_state=0)\n",
    "# прогнозируем кластеры для наблюдений (алгоритм присваивает им номера от 0 до 2)\n",
    "labels = km.fit_predict(x_sc)\n",
    "\n",
    "# сохраняем метки кластера в поле нашего датасета\n",
    "df['cluster_km'] = labels\n",
    "\n",
    "# Переименуем названия кластеров\n",
    "df.loc[df['cluster_km']==0, 'cluster_km'] = 'cluster_1'\n",
    "df.loc[df['cluster_km']==1, 'cluster_km'] = 'cluster_2'\n",
    "df.loc[df['cluster_km']==2, 'cluster_km'] = 'cluster_3'\n",
    "df.loc[df['cluster_km']==3, 'cluster_km'] = 'cluster_4'\n",
    "df.loc[df['cluster_km']==4, 'cluster_km'] = 'cluster_5'"
   ]
  },
  {
   "cell_type": "markdown",
   "metadata": {},
   "source": [
    "### Средние значения признаков для кластеров"
   ]
  },
  {
   "cell_type": "code",
   "execution_count": 25,
   "metadata": {},
   "outputs": [
    {
     "data": {
      "text/html": [
       "<div>\n",
       "<style scoped>\n",
       "    .dataframe tbody tr th:only-of-type {\n",
       "        vertical-align: middle;\n",
       "    }\n",
       "\n",
       "    .dataframe tbody tr th {\n",
       "        vertical-align: top;\n",
       "    }\n",
       "\n",
       "    .dataframe thead th {\n",
       "        text-align: right;\n",
       "    }\n",
       "</style>\n",
       "<table border=\"1\" class=\"dataframe\">\n",
       "  <thead>\n",
       "    <tr style=\"text-align: right;\">\n",
       "      <th>cluster_km</th>\n",
       "      <th>cluster_1</th>\n",
       "      <th>cluster_2</th>\n",
       "      <th>cluster_3</th>\n",
       "      <th>cluster_4</th>\n",
       "      <th>cluster_5</th>\n",
       "    </tr>\n",
       "  </thead>\n",
       "  <tbody>\n",
       "    <tr>\n",
       "      <th>gender</th>\n",
       "      <td>0.50</td>\n",
       "      <td>0.50</td>\n",
       "      <td>0.50</td>\n",
       "      <td>0.53</td>\n",
       "      <td>0.52</td>\n",
       "    </tr>\n",
       "    <tr>\n",
       "      <th>near_location</th>\n",
       "      <td>1.00</td>\n",
       "      <td>0.00</td>\n",
       "      <td>1.00</td>\n",
       "      <td>1.00</td>\n",
       "      <td>0.86</td>\n",
       "    </tr>\n",
       "    <tr>\n",
       "      <th>partner</th>\n",
       "      <td>0.89</td>\n",
       "      <td>0.49</td>\n",
       "      <td>0.22</td>\n",
       "      <td>0.38</td>\n",
       "      <td>0.47</td>\n",
       "    </tr>\n",
       "    <tr>\n",
       "      <th>promo_friends</th>\n",
       "      <td>1.00</td>\n",
       "      <td>0.08</td>\n",
       "      <td>0.07</td>\n",
       "      <td>0.01</td>\n",
       "      <td>0.31</td>\n",
       "    </tr>\n",
       "    <tr>\n",
       "      <th>phone</th>\n",
       "      <td>1.00</td>\n",
       "      <td>1.00</td>\n",
       "      <td>1.00</td>\n",
       "      <td>1.00</td>\n",
       "      <td>0.00</td>\n",
       "    </tr>\n",
       "    <tr>\n",
       "      <th>contract_period</th>\n",
       "      <td>6.92</td>\n",
       "      <td>2.99</td>\n",
       "      <td>2.01</td>\n",
       "      <td>6.21</td>\n",
       "      <td>4.78</td>\n",
       "    </tr>\n",
       "    <tr>\n",
       "      <th>group_visits</th>\n",
       "      <td>0.52</td>\n",
       "      <td>0.23</td>\n",
       "      <td>0.28</td>\n",
       "      <td>0.54</td>\n",
       "      <td>0.43</td>\n",
       "    </tr>\n",
       "    <tr>\n",
       "      <th>age</th>\n",
       "      <td>29.61</td>\n",
       "      <td>28.68</td>\n",
       "      <td>27.58</td>\n",
       "      <td>30.70</td>\n",
       "      <td>29.30</td>\n",
       "    </tr>\n",
       "    <tr>\n",
       "      <th>avg_additional_charges_total</th>\n",
       "      <td>153.42</td>\n",
       "      <td>137.13</td>\n",
       "      <td>119.34</td>\n",
       "      <td>176.26</td>\n",
       "      <td>144.21</td>\n",
       "    </tr>\n",
       "    <tr>\n",
       "      <th>lifetime</th>\n",
       "      <td>4.28</td>\n",
       "      <td>2.97</td>\n",
       "      <td>1.92</td>\n",
       "      <td>5.42</td>\n",
       "      <td>3.94</td>\n",
       "    </tr>\n",
       "    <tr>\n",
       "      <th>avg_class_frequency_current_month</th>\n",
       "      <td>1.92</td>\n",
       "      <td>1.60</td>\n",
       "      <td>1.20</td>\n",
       "      <td>2.32</td>\n",
       "      <td>1.72</td>\n",
       "    </tr>\n",
       "    <tr>\n",
       "      <th>churn</th>\n",
       "      <td>0.12</td>\n",
       "      <td>0.40</td>\n",
       "      <td>0.56</td>\n",
       "      <td>0.01</td>\n",
       "      <td>0.27</td>\n",
       "    </tr>\n",
       "  </tbody>\n",
       "</table>\n",
       "</div>"
      ],
      "text/plain": [
       "cluster_km                         cluster_1  cluster_2  cluster_3  cluster_4  \\\n",
       "gender                                  0.50       0.50       0.50       0.53   \n",
       "near_location                           1.00       0.00       1.00       1.00   \n",
       "partner                                 0.89       0.49       0.22       0.38   \n",
       "promo_friends                           1.00       0.08       0.07       0.01   \n",
       "phone                                   1.00       1.00       1.00       1.00   \n",
       "contract_period                         6.92       2.99       2.01       6.21   \n",
       "group_visits                            0.52       0.23       0.28       0.54   \n",
       "age                                    29.61      28.68      27.58      30.70   \n",
       "avg_additional_charges_total          153.42     137.13     119.34     176.26   \n",
       "lifetime                                4.28       2.97       1.92       5.42   \n",
       "avg_class_frequency_current_month       1.92       1.60       1.20       2.32   \n",
       "churn                                   0.12       0.40       0.56       0.01   \n",
       "\n",
       "cluster_km                         cluster_5  \n",
       "gender                                  0.52  \n",
       "near_location                           0.86  \n",
       "partner                                 0.47  \n",
       "promo_friends                           0.31  \n",
       "phone                                   0.00  \n",
       "contract_period                         4.78  \n",
       "group_visits                            0.43  \n",
       "age                                    29.30  \n",
       "avg_additional_charges_total          144.21  \n",
       "lifetime                                3.94  \n",
       "avg_class_frequency_current_month       1.72  \n",
       "churn                                   0.27  "
      ]
     },
     "execution_count": 25,
     "metadata": {},
     "output_type": "execute_result"
    }
   ],
   "source": [
    "# Выведем средние значения признаков для кластеров\n",
    "df.groupby('cluster_km').mean().T"
   ]
  },
  {
   "cell_type": "markdown",
   "metadata": {},
   "source": [
    "Мы видим, что в разных кластерах некоторые признаки практически не отличаются, а другие наоборт имеют сильный разброс.  \n",
    "Чтобы более точно увидеть разницу в кластерах, построим распределение для каждого признака по кластерам."
   ]
  },
  {
   "cell_type": "markdown",
   "metadata": {},
   "source": [
    "### Анализ распределения признаков для кластеров"
   ]
  },
  {
   "cell_type": "markdown",
   "metadata": {},
   "source": [
    "**Количество человек в каждом кластере**"
   ]
  },
  {
   "cell_type": "code",
   "execution_count": 26,
   "metadata": {},
   "outputs": [
    {
     "data": {
      "text/plain": [
       "cluster_km\n",
       "cluster_1     985\n",
       "cluster_2     558\n",
       "cluster_3    1064\n",
       "cluster_4    1007\n",
       "cluster_5     386\n",
       "Name: gender, dtype: int64"
      ]
     },
     "execution_count": 26,
     "metadata": {},
     "output_type": "execute_result"
    }
   ],
   "source": [
    "df.groupby('cluster_km')['gender'].count()"
   ]
  },
  {
   "cell_type": "markdown",
   "metadata": {},
   "source": [
    "Можем выделить 3 наиболее многочисленные кластеры: 1, 3, 4  \n",
    "Во 2 и 5 кластерах клиентов значительно меньше."
   ]
  },
  {
   "cell_type": "markdown",
   "metadata": {},
   "source": [
    "Для анализа распределения признаков в кластерах построим столбчатые диаграммы для логических и дискретных переменных (пол, близость к фитнес-центру, принадлежность к компании-партнёру, первое посещение по акции \"Приведи друга\", наличие контакта, длительность абонемента, посещение групповых занятий, отток) и боксплоты для непрерывных переменных (возраст, время с момента первого обращения, показатели средней частоты посещений в неделю за месяц, выручка от других услуг)."
   ]
  },
  {
   "cell_type": "code",
   "execution_count": 27,
   "metadata": {
    "scrolled": false
   },
   "outputs": [
    {
     "data": {
      "image/png": "[encoded data removed]",
      "text/plain": [
       "<Figure size 576x360 with 1 Axes>"
      ]
     },
     "metadata": {
      "needs_background": "light"
     },
     "output_type": "display_data"
    },
    {
     "data": {
      "image/png": "[encoded data removed]",
      "text/plain": [
       "<Figure size 576x360 with 1 Axes>"
      ]
     },
     "metadata": {
      "needs_background": "light"
     },
     "output_type": "display_data"
    },
    {
     "data": {
      "image/png": "[encoded data removed]",
      "text/plain": [
       "<Figure size 576x360 with 1 Axes>"
      ]
     },
     "metadata": {
      "needs_background": "light"
     },
     "output_type": "display_data"
    },
    {
     "data": {
      "image/png": "[encoded data removed]",
      "text/plain": [
       "<Figure size 576x360 with 1 Axes>"
      ]
     },
     "metadata": {
      "needs_background": "light"
     },
     "output_type": "display_data"
    },
    {
     "data": {
      "image/png": "[encoded data removed]",
      "text/plain": [
       "<Figure size 576x360 with 1 Axes>"
      ]
     },
     "metadata": {
      "needs_background": "light"
     },
     "output_type": "display_data"
    },
    {
     "data": {
      "image/png": "[encoded data removed]",
      "text/plain": [
       "<Figure size 576x360 with 1 Axes>"
      ]
     },
     "metadata": {
      "needs_background": "light"
     },
     "output_type": "display_data"
    },
    {
     "data": {
      "image/png": "[encoded data removed]",
      "text/plain": [
       "<Figure size 576x360 with 1 Axes>"
      ]
     },
     "metadata": {
      "needs_background": "light"
     },
     "output_type": "display_data"
    },
    {
     "data": {
      "image/png": "[encoded data removed]",
      "text/plain": [
       "<Figure size 576x360 with 1 Axes>"
      ]
     },
     "metadata": {
      "needs_background": "light"
     },
     "output_type": "display_data"
    }
   ],
   "source": [
    "values = ['gender', 'near_location', 'partner', 'promo_friends', 'phone', 'contract_period', 'group_visits', 'churn']\n",
    "df_cl = df.sort_values(by='cluster_km')\n",
    "for column in values:\n",
    "    fig = plt.figure(figsize = (8,5))\n",
    "    sns.countplot(data=df_cl, x=column, hue='cluster_km')\n",
    "    plt.title('Распределение признака ' + column)\n",
    "    plt.ylabel('Кол-во записей')\n",
    "    plt.xlabel(column)\n",
    "    plt.legend(title='Кластер', bbox_to_anchor=( 1.02 , 1 ), loc='upper left', borderaxespad= 0)\n",
    "    plt.show()"
   ]
  },
  {
   "cell_type": "code",
   "execution_count": 28,
   "metadata": {
    "scrolled": false
   },
   "outputs": [
    {
     "data": {
      "image/png": "[encoded data removed]",
      "text/plain": [
       "<Figure size 576x360 with 1 Axes>"
      ]
     },
     "metadata": {
      "needs_background": "light"
     },
     "output_type": "display_data"
    },
    {
     "data": {
      "image/png": "[encoded data removed]",
      "text/plain": [
       "<Figure size 576x360 with 1 Axes>"
      ]
     },
     "metadata": {
      "needs_background": "light"
     },
     "output_type": "display_data"
    },
    {
     "data": {
      "image/png": "[encoded data removed]",
      "text/plain": [
       "<Figure size 576x360 with 1 Axes>"
      ]
     },
     "metadata": {
      "needs_background": "light"
     },
     "output_type": "display_data"
    },
    {
     "data": {
      "image/png": "[encoded data removed]",
      "text/plain": [
       "<Figure size 576x360 with 1 Axes>"
      ]
     },
     "metadata": {
      "needs_background": "light"
     },
     "output_type": "display_data"
    }
   ],
   "source": [
    "values = ['age', 'lifetime', 'avg_class_frequency_current_month', 'avg_additional_charges_total']\n",
    "\n",
    "for column in values:\n",
    "    fig = plt.figure(figsize = (8,5))\n",
    "    plt.title(\"Распределение признака \"+column)\n",
    "    sns.boxplot(x='cluster_km', y=column, data=df_cl)\n",
    "    plt.xlabel('кластер')\n",
    "    plt.ylabel('Значение '+column)\n",
    "    plt.show()"
   ]
  },
  {
   "cell_type": "markdown",
   "metadata": {},
   "source": [
    "Кластер 1:  \n",
    "* Количество человек - 985  \n",
    "* Распределение по гендеру равномерное  \n",
    "* Основное количество клиентов проживает или работает рядом с фитнес-центром  \n",
    "* Большая часть из них являются сотрудниками фирм-партнеров  \n",
    "* Все пришли по акции \"Приведи друга\"  \n",
    "* Все оставили контактный телефон  \n",
    "* Длительность абонемента распределена примерно равномерно (1,6 и 12 мес). Абонементов на 12 месяцев чуть больше.  \n",
    "* Посещение групповых занятий примерно на 50% \n",
    "* Средний возраст - 30 лет\n",
    "* В среднем посещают 3 месяца\n",
    "* Занимаются 2 раза в неделю\n",
    "* Средний уровень дополнительных оплат\n",
    "* Несущественный отток клиентов  \n",
    "\n",
    "Кластер 2:  \n",
    "* Количество человек - 558  \n",
    "* Распределение по гендеру равномерное  \n",
    "* Основное количество клиентов проживает или работает вдали от фитнес-центра  \n",
    "* Примерно половина являются сотрудниками фирм-партнеров  \n",
    "* Большая часть не воспользовалась акцией \"Приведи друга\"  \n",
    "* Все оставили контактный телефон  \n",
    "* Длительность абонемента распределена неравномерно (1,6 и 12 мес). Абонементов на 1 месяц больше всего, на 12 меньше всего  \n",
    "* Посещение групповых занятий примерно на 30% \n",
    "* Средний возраст - 29 лет\n",
    "* В среднем посещают 2-3 месяца\n",
    "* Занимаются 1-2 раза в неделю\n",
    "* Средний уровень дополнительных оплат\n",
    "* Отток клиентов значительный, примерно 40%  \n",
    "\n",
    "Кластер 3:  \n",
    "* Количество человек - 1064  \n",
    "* Распределение по гендеру равномерное  \n",
    "* Все клиенты проживают или работают рядом с фитнес-центром  \n",
    "* Большая часть из них не являются сотрудниками фирм-партнеров (~80%)  \n",
    "* Большая часть не воспользовалась акцией \"Приведи друга\"  \n",
    "* Все оставили контактный телефон  \n",
    "* Длительность абонемента распределена неравномерно (1,6 и 12 мес). Основная часть абонементов на 1 месяц, на 12 меньше всего  \n",
    "* Посещение групповых занятий примерно на 30% \n",
    "* Средний возраст - 27 лет, самые молодые клиенты\n",
    "* В среднем посещают 1-2 месяца\n",
    "* Занимаются 1 раз в неделю, реже всех посещают в неделю\n",
    "* Низкий уровень дополнительных оплат\n",
    "* Отток клиентов самый значительный, примерно 60%  \n",
    "\n",
    "Кластер 4:  \n",
    "* Количество человек - 1007  \n",
    "* Распределение по гендеру примерно равномерное  \n",
    "* Основное количество клиентов проживает или работает рядом с фитнес-центром  \n",
    "* Большая часть из них не являются сотрудниками фирм-партнеров (~60%)  \n",
    "* Почти все не воспользовалась акцией \"Приведи друга\"  \n",
    "* Все оставили контактный телефон  \n",
    "* Длительность абонемента распределена примерно равномерно (1,6 и 12 мес). Абонементов на 6 месяцев чуть меньше  \n",
    "* Посещение групповых занятий примерно на 55% \n",
    "* Средний возраст - 32 года, самые взрослые клиенты\n",
    "* В среднем посещают 4 месяца, дольше всех посещают клуб\n",
    "* Занимаются 2-3 раза в неделю, чаще всех посещают в неделю\n",
    "* Высокий уровень дополнительных оплат\n",
    "* Самый низкий отток клиентов, практически все остались  \n",
    "\n",
    "Кластер 5:  \n",
    "* Количество человек - 386  \n",
    "* Распределение по гендеру примерно равномерное  \n",
    "* Основное количество клиентов проживает или работает рядом с фитнес-центром, но есть и удаленные клиенты  \n",
    "* Примерно половина являются сотрудниками фирм-партнеров  \n",
    "* Большая часть не воспользовалась акцией \"Приведи друга\"  \n",
    "* Никто не оставил контактный телефон  \n",
    "* Длительность абонемента распределена неравномерно (1,6 и 12 мес). Абонементов на 1 месяцев больше, на 6 и 12 примерно равное количество  \n",
    "* Посещение групповых занятий примерно на 45% \n",
    "* Средний возраст - 27-28 лет\n",
    "* В среднем посещают 2,5 месяца\n",
    "* Занимаются от 1 до 2 раз в неделю\n",
    "* Средний уровень дополнительных оплат\n",
    "* Отток клиентов значительный, примерно 30%  "
   ]
  },
  {
   "cell_type": "markdown",
   "metadata": {},
   "source": [
    "### Доля оттока по кластерам"
   ]
  },
  {
   "cell_type": "code",
   "execution_count": 29,
   "metadata": {},
   "outputs": [
    {
     "data": {
      "text/html": [
       "<div>\n",
       "<style scoped>\n",
       "    .dataframe tbody tr th:only-of-type {\n",
       "        vertical-align: middle;\n",
       "    }\n",
       "\n",
       "    .dataframe tbody tr th {\n",
       "        vertical-align: top;\n",
       "    }\n",
       "\n",
       "    .dataframe thead th {\n",
       "        text-align: right;\n",
       "    }\n",
       "</style>\n",
       "<table border=\"1\" class=\"dataframe\">\n",
       "  <thead>\n",
       "    <tr style=\"text-align: right;\">\n",
       "      <th></th>\n",
       "      <th>cluster_km</th>\n",
       "      <th>churn</th>\n",
       "    </tr>\n",
       "  </thead>\n",
       "  <tbody>\n",
       "    <tr>\n",
       "      <th>0</th>\n",
       "      <td>cluster_3</td>\n",
       "      <td>0.56</td>\n",
       "    </tr>\n",
       "    <tr>\n",
       "      <th>1</th>\n",
       "      <td>cluster_2</td>\n",
       "      <td>0.40</td>\n",
       "    </tr>\n",
       "    <tr>\n",
       "      <th>2</th>\n",
       "      <td>cluster_5</td>\n",
       "      <td>0.27</td>\n",
       "    </tr>\n",
       "    <tr>\n",
       "      <th>3</th>\n",
       "      <td>cluster_1</td>\n",
       "      <td>0.12</td>\n",
       "    </tr>\n",
       "    <tr>\n",
       "      <th>4</th>\n",
       "      <td>cluster_4</td>\n",
       "      <td>0.01</td>\n",
       "    </tr>\n",
       "  </tbody>\n",
       "</table>\n",
       "</div>"
      ],
      "text/plain": [
       "  cluster_km  churn\n",
       "0  cluster_3   0.56\n",
       "1  cluster_2   0.40\n",
       "2  cluster_5   0.27\n",
       "3  cluster_1   0.12\n",
       "4  cluster_4   0.01"
      ]
     },
     "execution_count": 29,
     "metadata": {},
     "output_type": "execute_result"
    }
   ],
   "source": [
    "# Для каждого полученного кластера посчитаем долю оттока\n",
    "(\n",
    "    df.groupby('cluster_km')['churn']\n",
    "   .mean()\n",
    "   .reset_index()\n",
    "   .sort_values(by='churn', ascending=False)\n",
    "   .reset_index(drop=True)\n",
    ")"
   ]
  },
  {
   "cell_type": "markdown",
   "metadata": {},
   "source": [
    "Третий кластер более склонен к оттоку: доля около 56%. Второй кластер характеризуется долей оттока в 40%, а пятый - 27%. Первый и четвёртый кластеры (доля оттока 12% и 1%, соответственно) являются самыми надёжными."
   ]
  },
  {
   "cell_type": "code",
   "execution_count": 30,
   "metadata": {
    "scrolled": false
   },
   "outputs": [
    {
     "data": {
      "image/png": "[encoded data removed]",
      "text/plain": [
       "<Figure size 504x504 with 1 Axes>"
      ]
     },
     "metadata": {},
     "output_type": "display_data"
    }
   ],
   "source": [
    "ax = (df.groupby('cluster_km')['churn'].mean().sort_values()\n",
    ".plot(kind='pie', y='churn', autopct='%1.1f%%',  figsize=(7,7)))\n",
    "plt.title('Доли оттока по кластерам', fontsize=15)\n",
    "ax.set_ylabel('')\n",
    "plt.show()"
   ]
  },
  {
   "cell_type": "markdown",
   "metadata": {},
   "source": [
    "Доля от общего оттока по кластерам:  \n",
    "Самая значительная - 3 кластер 41.2%  \n",
    "2 кластер 29.5%  \n",
    "5 кластер 19.5%  \n",
    "1 кластер 8.8%  \n",
    "4 кластер 1.1%"
   ]
  },
  {
   "cell_type": "markdown",
   "metadata": {},
   "source": [
    "## Итог"
   ]
  },
  {
   "cell_type": "markdown",
   "metadata": {},
   "source": [
    "Было проведено исследование данных о клиентах фитнес-центра «Культурист-датасаентист» с целью разработать стратегию взаимодействия с клиентами и и подготовить план действий по удержанию клиентов.  \n",
    "\n",
    "Данные содержат в себе информацию о 4 000 клиентов и 14 показателях, один из которых (отток клиентов) выбран в модели в качестве результирующего."
   ]
  },
  {
   "cell_type": "markdown",
   "metadata": {},
   "source": [
    "В ходе предобработки:  \n",
    "- привели названия столбцов к стандартному виду\n",
    "- перевели значения месяцев в целочисленный тип данных"
   ]
  },
  {
   "cell_type": "markdown",
   "metadata": {},
   "source": [
    "**Результаты EDA**  \n",
    "\n",
    "**Отток клиентов.** У нас есть данные о клиентах, которые продолжают пользоваться услугами фитнес-центра (лояльные клиенты) и тех, кто \"ушёл\" (нелояльные клиенты). При этом в выборке больше тех, кто продолжает пользоваться услугами (средняя близка к 0,3, а медиана равна 0).  \n",
    "Отток клиентов примерно 27%.\n",
    "\n",
    "**Пол клиентов.** У нас имеются данные о мужчинах и женщинах. При этом в выборке их равное количество. Доли оттока примерно одинаковые и среди мужчин, и среди женщин.  \n",
    "Это говорит о том, что этот признак не влияет на отток.\n",
    "\n",
    "**Близость к фитнес-центру.** У нас имеются данные о людях, которые живут или работают рядом с фитнес-центром, либо в отдалённости от него. При этом в выборке больше тех, кто живёт или работает рядом (так как средняя близка к 0,85, а первый квартиль равен 1). А в группе, которая лояльна к фитнес-центру, чуть больше человек, которые живут или работают поблизости, чем тех, кто находится в отдалённости.  \n",
    "Отток клиентов происходит чуть больше среди тех, кто находиться дальше от фитнес-центра. Можно сказать, что этот признак слабо влияет на отток.\n",
    "\n",
    "**Сотрудники компании-партнёра.** Данные о людях, которые являются или не являются сотрудниками компании-партнёра клуба, представлены в выборке примерно в равной пропорции (средняя близка к 0,5).  \n",
    "Есть различия в оттоке между сотрудниками компании-партнёра клуба. Среди партнеров оттток меньше.\n",
    "\n",
    "**Промо-акция.** У нас имеются данные о людях, которые приобрели или не приобрели первый абонемент по акции \"Приведи друга\". При этом в обеих группах больше людей, которые приобрели первый абонемент не по промо-акции \"Приведи друга\" (так как средняя близка к 0,3, а медиана равна 0).  \n",
    "Среди тех, кто воспользовался промо-акцией \"Приведи друга\" отток значитьлно меньше. Среди тех, кто не воспользовался, отток примерно 50%.\n",
    "\n",
    "**Контактный телефон.** В имеющихся данных по клиентам либо есть данные о контактном телефоне, либо их нет. При этом в выборке больше тех, для кого представлена контактная информация (так как средняя близка к 0,9, а четвёртый квартиль равен 1) для обоих категорий: лояльных и нелояльных клиентов (распределения схожи).\n",
    "\n",
    "**Возраст клиентов.** У нас имеются данные о клиентах возрастом от 18 до 41 года. Средний возраст равен 29 годам. Распределение для лояльных клиентов немного смещено вправо, а для ушедших клиентов - влево. Так, в группе лояльных фитнес-центру людей средний возраст составляет около 30 лет, а среди уходящих - около 27 лет. То есть вторая группа чуть младше.\n",
    "\n",
    "**Время с первого обращения.** У нас имеются данные о клиентах, которые обращались в фитнес-центр впервые от 0 до 31 месяца назад. Среднее время с момента первого обращения составляет 3 месяца. Время с момента первого обращения для уходящих в отток равно 1 месяцу, а для тех, кто остался, близко к 5 месяцам. Скорее всего те, кто проявил активность в первые месяцы, не уйдут в отток.\n",
    "\n",
    "**Длительность абонемента.** Действующий абонемент по рассматриваемым клиентам имеет срок в 1, 6 и 12 месяцев. Средняя длительность действующего абонемента составляет 4-5 месяцев. При этом есть перекос в данных: для большинства срок действующего абонемента равен 1 месяцу. Длительность действующего абонемента по оставшимся пользователям в среднем около 5-6 месяцев, а по ушедшим - 1-2 месяца. Это говорит о том, что купившие длительный абонемент с большей неохотой уйдут в отток, чем те, у кого он действует на короткий срок. Влияние признака на клиентов высокое.\n",
    "\n",
    "**Время до окончания абонемента.** У нас имеются данные по клиентам, до окончания абонементов которых осталось от 1 до 12 месяцев. В среднем это значение около 4 месяцев. При этом больше половины всей выборки - это люди, до конца абонементов которых остался 1 месяц. Различия в распределении групп (лояльных и нелояльных клиентов) по сроку до окончания действующего абонемента такие же, как и в распределениях по длительности абонемента. В среднем срок до окончания действующего абонемента у людей, ушедших в отток, около 1-2 месяцев, а у оставшихся клиентов - около 5 месяцев. Это снова указывает на то, что уходят в большей степени те, у кого длительность оставшегося абонемента невысока.\n",
    "\n",
    "**Групповые занятия.** У нас есть данные о клиентах, которые посещают групповые занятия или не посещают. При этом в выборке чуть больше тех, кто не посещает такие занятия (средняя близка к 0,4, а медиана равна 0). При этом среди лояльных клиентов распределение посещающих такие занятия и непосещающих примерно равномерно (вторых чуть больше); но среди тех, кто ушёл в отток, непосещающих групповые занятия значительно больше, чем тех, кто их посещает.\n",
    "\n",
    "**Частота посещений за весь срок.** У нас имеются данные по клиентам со средней частотой посещений за все время с начала действия абонемента от 0 до 6 раз в неделю. В среднем это значение составляет около 2 раз в неделю. При этом выборка равномерная, так как среднее почти равно медиане, а стандартное отклонение невысоко. Лояльные клиенты, в среднем, посещают центр 2 раза в неделю, а ушедшие - от 1 до 2.  \n",
    "У тех, кто занимается до 2 раз в неделю, доли оттока примерно одинаковые; но ситуация резко меняется если клиент ходит 3 раза и более, отток снижается и сходит на нет, но таких клиентов значительно меньше.\n",
    "\n",
    "**Частота посещений за последний месяц.** У нас имеются данные по клиентам со средней частотой посещений за месяц от 0 до 6 раз в неделю. В среднем это значение составляет около 2 раз в неделю.  \n",
    "Чем реже клиент ходил в клуб за последний месяц, тем отток больше.\n",
    "\n",
    "**Выручка от прочих услуг.** Выручка от прочих услуг фитнес-центра с клиента составила от 0,15 до 552,6 у.е. В среднем это значение составляет около 147 у.е.(мы не знаем наверняка, в каких ден.ед. измеряются данные). Распределение средней выручки от других услуг фитнес-центра для обоих датасетов смещено влево с большим смещением для ушедших людей. То есть те, кто уходит, стараются минимизировать затраты на дополнительные услуги в фитнес-центре.\n",
    "\n",
    "\n",
    "\n",
    "**Корреляция**  \n",
    "Такие признаки как пол и наличие контактного телефона не влияют на конечный показатель оттока. Все остальные показатели имеют обратное влияние: слабое, либо чуть более сильное. Явно влияющих признаков, сильно связанных с результирующим показателем, предварительный анализ не выявил.\n",
    "\n",
    "Имеется сильная связь между показателями длительности абонемента и количеством месяцев до конца абонемента.\n",
    "\n",
    "Также наблюдается сильная связь между средней частотой посещений в неделю с начала пользования услугами и за предыдущий месяц.  \n",
    "\n",
    "Мы удалили коррелирующие признаки, которые могут привести к проблеме мультиколлиниарности (срок до окончания текущего действующего абонемента, средняя частота посещений в неделю за все время с начала действия абонемента."
   ]
  },
  {
   "cell_type": "markdown",
   "metadata": {},
   "source": [
    "**Основные метрики полученных моделей**  \n",
    "\n",
    "Для модели \"логистической регрессии\": Accuracy = 0,90; Precision = 0,79; Recall = 0,82.\n",
    "Для модели \"случайного леса\": Accuracy = 0,90; Precision = 0,81; Recall = 0,75.\n",
    "\n",
    "Таким образом, обе модели достаточно хорошо способны делать прогноз. Однако, модель \"логистической регрессии\" подходит больше."
   ]
  },
  {
   "cell_type": "markdown",
   "metadata": {},
   "source": [
    "**Кластеризация клиентов**  \n",
    "\n",
    "По дендрограмме было высказано предположение о наличии четырёх кластеров в данных. Однако, было принято решение для прогноза  использовать пять кластеров в модели *K-Means*."
   ]
  },
  {
   "cell_type": "markdown",
   "metadata": {},
   "source": [
    "Анализ признаков для кластеров показал, что выделенные кластеры имеют следующие отличительные характеристики:  \n",
    "\n",
    "**Кластер 1:**\n",
    "\n",
    "Количество человек - 985  \n",
    "Клиенты проживающие или работающие рядом с фитнес-центром  \n",
    "Большая часть из них являются сотрудниками фирм-партнеров, а так же пришли по акции \"Приведи друга\"  \n",
    "Имеющие абонементы на 1,6 и 12 мес. С преобладание абонементов на 12 месяцев.  \n",
    "Для половины клиентов групповые занятия важны  \n",
    "Средний возраст - 30 лет  \n",
    "В среднем посещают клуб 3 месяца  \n",
    "Занимаются 2 раза в неделю  \n",
    "Средний уровень дополнительных оплат  \n",
    "Доля оттока в кластере - 12%  \n",
    "Доля оттока от общего числа клиентов - 8,8%  \n",
    "\n",
    "**Кластер 2:**\n",
    "\n",
    "Количество человек - 558   \n",
    "Основное количество клиентов проживает или работает вдали от фитнес-центра  \n",
    "Примерно половина являются сотрудниками фирм-партнеров  \n",
    "Большая часть не воспользовалась акцией \"Приведи друга\"  \n",
    "В основном приобрели абонементы на 1 месяц, на 12 меньше всего.  \n",
    "Посещение групповых занятий важно примерно на 30%  \n",
    "Средний возраст - 29 лет  \n",
    "В среднем посещают клуб 2-3 месяца  \n",
    "Занимаются 1-2 раза в неделю  \n",
    "Средний уровень дополнительных оплат  \n",
    "Доля оттока в кластере - 40%  \n",
    "Доля оттока от общего числа клиентов - 29,5%  \n",
    "\n",
    "**Кластер 3:**\n",
    "\n",
    "Количество человек - 1064  \n",
    "Все клиенты проживают или работают рядом с фитнес-центром  \n",
    "Большая часть из них не являются сотрудниками фирм-партнеров (~80%), а так же не воспользовалась акцией \"Приведи друга\"  \n",
    "Основная часть абонементов на 1 месяц, на 12 меньше всего  \n",
    "Посещение групповых занятий важно примерно на 30%  \n",
    "Средний возраст - 27 лет, самые молодые клиенты  \n",
    "В среднем посещают клуб 1-2 месяца  \n",
    "Занимаются 1 раз в неделю, реже всех посещают в неделю  \n",
    "Низкий уровень дополнительных оплат  \n",
    "Доля оттока в кластере - 56%  \n",
    "Доля оттока от общего числа клиентов - 41,2%  \n",
    "Это наиболее склонный к оттоку кластер  \n",
    "\n",
    "**Кластер 4:**\n",
    "\n",
    "Количество человек - 1007  \n",
    "Основное количество клиентов проживает или работает рядом с фитнес-центром  \n",
    "Большая часть из них не являются сотрудниками фирм-партнеров (~60%)  \n",
    "Почти все не воспользовалась акцией \"Приведи друга\"  \n",
    "Длительность абонемента распределена примерно равномерно (1,6 и 12 мес). Абонементов на 6 месяцев чуть меньше  \n",
    "Посещение групповых занятий важно примерно на 55%  \n",
    "Средний возраст - 32 года, самые взрослые клиенты  \n",
    "В среднем посещают 4 месяца, дольше всех посещают клуб  \n",
    "Занимаются 2-3 раза в неделю, чаще всех посещают в неделю  \n",
    "Высокий уровень дополнительных оплат  \n",
    "Доля оттока в кластере - 1%  \n",
    "Доля оттока от общего числа клиентов - 1,1%  \n",
    "Самый низкий отток клиентов  \n",
    "\n",
    "**Кластер 5:**\n",
    "\n",
    "Количество человек - 386  \n",
    "Основное количество клиентов проживает или работает рядом с фитнес-центром, но есть и удаленные клиенты  \n",
    "Примерно половина являются сотрудниками фирм-партнеров  \n",
    "Большая часть не воспользовалась акцией \"Приведи друга\"  \n",
    "Никто из клиентов кластера не оставил контактный телефон  \n",
    "Длительность абонемента распределена неравномерно (1,6 и 12 мес). Абонементов на 1 месяцев больше, на 6 и 12 примерно равное количество  \n",
    "Посещение групповых занятий важно примерно на 45%  \n",
    "Средний возраст - 27-28 лет  \n",
    "В среднем посещают 2,5 месяца  \n",
    "Занимаются от 1 до 2 раз в неделю  \n",
    "Средний уровень дополнительных оплат  \n",
    "Доля оттока в кластере - 27%  \n",
    "Доля оттока от общего числа клиентов - 19,5%   "
   ]
  },
  {
   "cell_type": "markdown",
   "metadata": {},
   "source": [
    "**Рекомендации**  \n",
    "\n",
    "1. Будет полезно проанализировать влияние дополнительного признака - индивидуальные занятия с тренером. \n",
    "2. Рекомендуется привлечение в фитнес-центр клиентов из близлежащих районов. \n",
    "3. Рекомендуется отменить или пересмотреть условия абонементов по акции \"Приведи друга\".  Так как данной акцией почти никто не пользуется. А влияние на отток не однозначное.  \n",
    "4. Продвигать абонементы более длительного срока (9 и 12 месяцев), возможно сделать более выгодные цены на длительные абонементы.\n",
    "5. Рекомендуется внедрить пробные посещения вместо абонементов на 1 месяц. Так человек сможет познакомиться с услугами фитнес-центра. А вместо абонемента на 1 месяц предлагать на 3 месяца ненамного дороже,  это снизит риски оттока клиентов в первые месяцы за счет выработки привычки.\n",
    "6. Возможно ввести более выгодное продление абонемента для клиентов\n",
    "7. Продвигать участие в групповых занятиях, так как новые связи и план занятий способствуют вовлечению. \n",
    "8. Рекомендуется проводить мониторинг средней частоты посещений фитнес-центра в неделю по клиентам. При обнаружении снижения показателя предлагать клиентам бонусы - бесплатная разовая доп. услуга, скидки на продление абонемента, одно бесплатное групповое занятие по новому для него направлению и т.п."
   ]
  }
 ],
 "metadata": {
  "ExecuteTimeLog": [
   {
    "duration": 410,
    "start_time": "2023-08-20T18:22:52.332Z"
   },
   {
    "duration": 78,
    "start_time": "2023-08-20T18:23:27.294Z"
   },
   {
    "duration": 1604,
    "start_time": "2023-08-20T18:26:09.407Z"
   },
   {
    "duration": 45,
    "start_time": "2023-08-20T18:26:22.317Z"
   },
   {
    "duration": 13,
    "start_time": "2023-08-20T18:30:00.657Z"
   },
   {
    "duration": 10,
    "start_time": "2023-08-20T18:34:00.995Z"
   },
   {
    "duration": 129,
    "start_time": "2023-08-20T18:34:24.308Z"
   },
   {
    "duration": 4,
    "start_time": "2023-08-20T18:34:29.036Z"
   },
   {
    "duration": 61,
    "start_time": "2023-08-20T18:34:29.042Z"
   },
   {
    "duration": 11,
    "start_time": "2023-08-20T18:34:29.105Z"
   },
   {
    "duration": 13,
    "start_time": "2023-08-20T18:34:29.118Z"
   },
   {
    "duration": 10,
    "start_time": "2023-08-20T18:41:52.871Z"
   },
   {
    "duration": 5,
    "start_time": "2023-08-20T18:42:12.412Z"
   },
   {
    "duration": 8,
    "start_time": "2023-08-20T18:43:44.613Z"
   },
   {
    "duration": 4,
    "start_time": "2023-08-20T18:44:05.155Z"
   },
   {
    "duration": 42,
    "start_time": "2023-08-20T18:46:48.296Z"
   },
   {
    "duration": 26,
    "start_time": "2023-08-20T18:50:47.677Z"
   },
   {
    "duration": 1082,
    "start_time": "2023-08-20T19:01:55.246Z"
   },
   {
    "duration": 12,
    "start_time": "2023-08-20T19:05:51.639Z"
   },
   {
    "duration": 10,
    "start_time": "2023-08-20T19:06:19.121Z"
   },
   {
    "duration": 11,
    "start_time": "2023-08-20T19:07:18.519Z"
   },
   {
    "duration": 999,
    "start_time": "2023-08-20T19:07:32.270Z"
   },
   {
    "duration": 1053,
    "start_time": "2023-08-20T19:08:04.537Z"
   },
   {
    "duration": 256,
    "start_time": "2023-08-20T19:09:57.305Z"
   },
   {
    "duration": 90,
    "start_time": "2023-08-20T19:10:29.715Z"
   },
   {
    "duration": 191,
    "start_time": "2023-08-20T19:10:52.711Z"
   },
   {
    "duration": 12,
    "start_time": "2023-08-20T19:12:46.799Z"
   },
   {
    "duration": 11,
    "start_time": "2023-08-20T19:13:03.242Z"
   },
   {
    "duration": 16,
    "start_time": "2023-08-20T19:13:10.979Z"
   },
   {
    "duration": 16,
    "start_time": "2023-08-20T19:19:25.393Z"
   },
   {
    "duration": 13,
    "start_time": "2023-08-20T19:19:33.267Z"
   },
   {
    "duration": 12,
    "start_time": "2023-08-20T19:20:19.767Z"
   },
   {
    "duration": 94,
    "start_time": "2023-08-20T19:23:19.922Z"
   },
   {
    "duration": 408,
    "start_time": "2023-08-20T19:23:27.062Z"
   },
   {
    "duration": 23,
    "start_time": "2023-08-20T19:24:39.006Z"
   },
   {
    "duration": 21,
    "start_time": "2023-08-20T19:27:28.339Z"
   },
   {
    "duration": 1715,
    "start_time": "2023-08-20T19:27:34.953Z"
   },
   {
    "duration": 1912,
    "start_time": "2023-08-22T10:02:28.663Z"
   },
   {
    "duration": 88,
    "start_time": "2023-08-22T10:02:30.577Z"
   },
   {
    "duration": 12,
    "start_time": "2023-08-22T10:02:30.666Z"
   },
   {
    "duration": 26,
    "start_time": "2023-08-22T10:02:30.680Z"
   },
   {
    "duration": 38,
    "start_time": "2023-08-22T10:02:30.708Z"
   },
   {
    "duration": 44,
    "start_time": "2023-08-22T10:02:30.747Z"
   },
   {
    "duration": 47,
    "start_time": "2023-08-22T10:02:30.793Z"
   },
   {
    "duration": 80,
    "start_time": "2023-08-22T10:02:30.841Z"
   },
   {
    "duration": 18,
    "start_time": "2023-08-22T10:02:30.923Z"
   },
   {
    "duration": 150,
    "start_time": "2023-08-22T10:02:30.943Z"
   },
   {
    "duration": 0,
    "start_time": "2023-08-22T10:02:31.094Z"
   },
   {
    "duration": 0,
    "start_time": "2023-08-22T10:02:31.096Z"
   },
   {
    "duration": 133,
    "start_time": "2023-08-22T10:06:25.256Z"
   },
   {
    "duration": 377,
    "start_time": "2023-08-22T10:06:43.787Z"
   },
   {
    "duration": 442,
    "start_time": "2023-08-22T10:06:54.680Z"
   },
   {
    "duration": 1598,
    "start_time": "2023-08-22T10:07:32.463Z"
   },
   {
    "duration": 1488,
    "start_time": "2023-08-22T10:08:20.729Z"
   },
   {
    "duration": 1545,
    "start_time": "2023-08-22T10:08:58.035Z"
   },
   {
    "duration": 146,
    "start_time": "2023-08-22T10:09:41.778Z"
   },
   {
    "duration": 119,
    "start_time": "2023-08-22T10:10:15.967Z"
   },
   {
    "duration": 3170,
    "start_time": "2023-08-22T10:10:47.591Z"
   },
   {
    "duration": 2020,
    "start_time": "2023-08-22T10:11:03.991Z"
   },
   {
    "duration": 10,
    "start_time": "2023-08-22T10:30:11.641Z"
   },
   {
    "duration": 9,
    "start_time": "2023-08-22T10:30:21.854Z"
   },
   {
    "duration": 2708,
    "start_time": "2023-08-22T10:30:23.595Z"
   },
   {
    "duration": 2739,
    "start_time": "2023-08-22T10:31:07.391Z"
   },
   {
    "duration": 3020,
    "start_time": "2023-08-22T10:31:50.937Z"
   },
   {
    "duration": 2660,
    "start_time": "2023-08-22T10:32:34.646Z"
   },
   {
    "duration": 3096,
    "start_time": "2023-08-22T10:37:39.104Z"
   },
   {
    "duration": 8,
    "start_time": "2023-08-22T10:41:49.486Z"
   },
   {
    "duration": 3262,
    "start_time": "2023-08-22T10:41:50.365Z"
   },
   {
    "duration": 2783,
    "start_time": "2023-08-22T10:43:07.456Z"
   },
   {
    "duration": 2964,
    "start_time": "2023-08-22T10:47:51.398Z"
   },
   {
    "duration": 2896,
    "start_time": "2023-08-22T10:53:43.956Z"
   },
   {
    "duration": 3008,
    "start_time": "2023-08-22T10:56:40.355Z"
   },
   {
    "duration": 2922,
    "start_time": "2023-08-22T10:59:51.371Z"
   },
   {
    "duration": 3285,
    "start_time": "2023-08-22T11:00:28.844Z"
   },
   {
    "duration": 2988,
    "start_time": "2023-08-22T11:00:48.268Z"
   },
   {
    "duration": 3114,
    "start_time": "2023-08-22T11:01:23.111Z"
   },
   {
    "duration": 2967,
    "start_time": "2023-08-22T11:01:32.494Z"
   },
   {
    "duration": 2880,
    "start_time": "2023-08-22T11:01:44.487Z"
   },
   {
    "duration": 2938,
    "start_time": "2023-08-22T11:02:04.635Z"
   },
   {
    "duration": 2888,
    "start_time": "2023-08-22T11:02:23.663Z"
   },
   {
    "duration": 22,
    "start_time": "2023-08-22T11:02:49.835Z"
   },
   {
    "duration": 1795,
    "start_time": "2023-08-22T11:02:51.089Z"
   },
   {
    "duration": 15,
    "start_time": "2023-08-22T11:11:07.520Z"
   },
   {
    "duration": 991,
    "start_time": "2023-08-22T11:23:09.621Z"
   },
   {
    "duration": 388,
    "start_time": "2023-08-22T12:46:13.855Z"
   },
   {
    "duration": 3,
    "start_time": "2023-08-22T13:03:31.758Z"
   },
   {
    "duration": 3,
    "start_time": "2023-08-22T13:06:12.295Z"
   },
   {
    "duration": 11,
    "start_time": "2023-08-22T13:06:13.067Z"
   },
   {
    "duration": 181,
    "start_time": "2023-08-22T13:12:22.923Z"
   },
   {
    "duration": 6,
    "start_time": "2023-08-22T13:13:16.614Z"
   },
   {
    "duration": 11,
    "start_time": "2023-08-22T13:13:17.625Z"
   },
   {
    "duration": 4,
    "start_time": "2023-08-22T13:14:30.736Z"
   },
   {
    "duration": 10,
    "start_time": "2023-08-22T13:14:31.186Z"
   },
   {
    "duration": 13,
    "start_time": "2023-08-22T13:15:50.571Z"
   },
   {
    "duration": 4,
    "start_time": "2023-08-22T13:16:10.523Z"
   },
   {
    "duration": 11,
    "start_time": "2023-08-22T13:16:11.353Z"
   },
   {
    "duration": 3,
    "start_time": "2023-08-22T13:16:28.600Z"
   },
   {
    "duration": 11,
    "start_time": "2023-08-22T13:16:29.331Z"
   },
   {
    "duration": 8,
    "start_time": "2023-08-22T13:17:53.922Z"
   },
   {
    "duration": 617,
    "start_time": "2023-08-22T13:20:57.069Z"
   },
   {
    "duration": 123975,
    "start_time": "2023-08-22T13:21:43.732Z"
   },
   {
    "duration": 13,
    "start_time": "2023-08-22T13:27:52.209Z"
   },
   {
    "duration": 14,
    "start_time": "2023-08-22T13:29:35.003Z"
   },
   {
    "duration": 605,
    "start_time": "2023-08-22T13:29:35.676Z"
   },
   {
    "duration": 125592,
    "start_time": "2023-08-22T13:29:36.652Z"
   },
   {
    "duration": 1273,
    "start_time": "2023-08-22T13:31:42.246Z"
   },
   {
    "duration": 1054,
    "start_time": "2023-08-22T13:33:55.977Z"
   },
   {
    "duration": 111,
    "start_time": "2023-08-22T13:33:57.109Z"
   },
   {
    "duration": 159,
    "start_time": "2023-08-22T13:40:16.125Z"
   },
   {
    "duration": 6046,
    "start_time": "2023-08-22T13:50:29.530Z"
   },
   {
    "duration": 6386,
    "start_time": "2023-08-22T13:50:52.566Z"
   },
   {
    "duration": 6407,
    "start_time": "2023-08-22T13:51:27.245Z"
   },
   {
    "duration": 6932,
    "start_time": "2023-08-22T13:53:11.746Z"
   },
   {
    "duration": 1600,
    "start_time": "2023-08-22T13:59:22.193Z"
   },
   {
    "duration": 64,
    "start_time": "2023-08-22T13:59:23.796Z"
   },
   {
    "duration": 14,
    "start_time": "2023-08-22T13:59:23.862Z"
   },
   {
    "duration": 22,
    "start_time": "2023-08-22T13:59:23.879Z"
   },
   {
    "duration": 6,
    "start_time": "2023-08-22T13:59:23.902Z"
   },
   {
    "duration": 20,
    "start_time": "2023-08-22T13:59:23.910Z"
   },
   {
    "duration": 7,
    "start_time": "2023-08-22T13:59:23.931Z"
   },
   {
    "duration": 50,
    "start_time": "2023-08-22T13:59:23.939Z"
   },
   {
    "duration": 26,
    "start_time": "2023-08-22T13:59:23.991Z"
   },
   {
    "duration": 10,
    "start_time": "2023-08-22T13:59:24.020Z"
   },
   {
    "duration": 2741,
    "start_time": "2023-08-22T13:59:24.031Z"
   },
   {
    "duration": 23,
    "start_time": "2023-08-22T13:59:26.774Z"
   },
   {
    "duration": 1696,
    "start_time": "2023-08-22T13:59:26.799Z"
   },
   {
    "duration": 23,
    "start_time": "2023-08-22T13:59:28.497Z"
   },
   {
    "duration": 515,
    "start_time": "2023-08-22T13:59:28.522Z"
   },
   {
    "duration": 516,
    "start_time": "2023-08-22T13:59:29.111Z"
   },
   {
    "duration": 4,
    "start_time": "2023-08-22T13:59:29.628Z"
   },
   {
    "duration": 13,
    "start_time": "2023-08-22T13:59:29.634Z"
   },
   {
    "duration": 8,
    "start_time": "2023-08-22T13:59:29.648Z"
   },
   {
    "duration": 623,
    "start_time": "2023-08-22T13:59:29.657Z"
   },
   {
    "duration": 122539,
    "start_time": "2023-08-22T13:59:30.282Z"
   },
   {
    "duration": 1098,
    "start_time": "2023-08-22T14:01:32.823Z"
   },
   {
    "duration": 101,
    "start_time": "2023-08-22T14:01:33.924Z"
   },
   {
    "duration": 1585,
    "start_time": "2023-08-22T14:05:10.647Z"
   },
   {
    "duration": 49,
    "start_time": "2023-08-22T14:05:12.234Z"
   },
   {
    "duration": 27,
    "start_time": "2023-08-22T14:05:12.285Z"
   },
   {
    "duration": 33,
    "start_time": "2023-08-22T14:05:12.315Z"
   },
   {
    "duration": 5,
    "start_time": "2023-08-22T14:05:12.350Z"
   },
   {
    "duration": 14,
    "start_time": "2023-08-22T14:05:12.357Z"
   },
   {
    "duration": 30,
    "start_time": "2023-08-22T14:05:12.373Z"
   },
   {
    "duration": 69,
    "start_time": "2023-08-22T14:05:12.405Z"
   },
   {
    "duration": 18,
    "start_time": "2023-08-22T14:05:12.476Z"
   },
   {
    "duration": 29,
    "start_time": "2023-08-22T14:05:12.498Z"
   },
   {
    "duration": 2742,
    "start_time": "2023-08-22T14:05:12.532Z"
   },
   {
    "duration": 26,
    "start_time": "2023-08-22T14:05:15.275Z"
   },
   {
    "duration": 1725,
    "start_time": "2023-08-22T14:05:15.310Z"
   },
   {
    "duration": 14,
    "start_time": "2023-08-22T14:05:17.037Z"
   },
   {
    "duration": 779,
    "start_time": "2023-08-22T14:05:17.053Z"
   },
   {
    "duration": 483,
    "start_time": "2023-08-22T14:05:17.913Z"
   },
   {
    "duration": 4,
    "start_time": "2023-08-22T14:05:18.398Z"
   },
   {
    "duration": 15,
    "start_time": "2023-08-22T14:05:18.416Z"
   },
   {
    "duration": 15,
    "start_time": "2023-08-22T14:05:18.432Z"
   },
   {
    "duration": 684,
    "start_time": "2023-08-22T14:05:18.449Z"
   },
   {
    "duration": 123453,
    "start_time": "2023-08-22T14:05:19.134Z"
   },
   {
    "duration": 1132,
    "start_time": "2023-08-22T14:07:22.590Z"
   },
   {
    "duration": 20,
    "start_time": "2023-08-22T14:07:23.724Z"
   },
   {
    "duration": 325216,
    "start_time": "2023-08-22T14:07:23.746Z"
   },
   {
    "duration": 3,
    "start_time": "2023-08-22T14:15:08.753Z"
   },
   {
    "duration": 124,
    "start_time": "2023-08-22T14:15:16.224Z"
   },
   {
    "duration": 8,
    "start_time": "2023-08-22T14:15:31.461Z"
   },
   {
    "duration": 9,
    "start_time": "2023-08-22T14:16:02.922Z"
   },
   {
    "duration": 11,
    "start_time": "2023-08-22T14:18:59.460Z"
   },
   {
    "duration": 12,
    "start_time": "2023-08-22T14:19:09.530Z"
   },
   {
    "duration": 11,
    "start_time": "2023-08-22T14:26:13.430Z"
   },
   {
    "duration": 2190,
    "start_time": "2023-08-22T14:26:23.905Z"
   },
   {
    "duration": 108,
    "start_time": "2023-08-22T14:26:46.088Z"
   },
   {
    "duration": 110,
    "start_time": "2023-08-22T14:27:06.100Z"
   },
   {
    "duration": 113,
    "start_time": "2023-08-22T14:28:28.956Z"
   },
   {
    "duration": 119,
    "start_time": "2023-08-22T14:30:29.938Z"
   },
   {
    "duration": 122,
    "start_time": "2023-08-22T14:32:14.793Z"
   },
   {
    "duration": 12,
    "start_time": "2023-08-22T14:33:47.345Z"
   },
   {
    "duration": 113,
    "start_time": "2023-08-22T14:34:40.864Z"
   },
   {
    "duration": 12,
    "start_time": "2023-08-22T14:35:46.615Z"
   },
   {
    "duration": 1362,
    "start_time": "2023-08-22T15:49:56.195Z"
   },
   {
    "duration": 802,
    "start_time": "2023-08-22T15:50:05.988Z"
   },
   {
    "duration": 958,
    "start_time": "2023-08-22T15:54:26.909Z"
   },
   {
    "duration": 774,
    "start_time": "2023-08-22T15:57:56.020Z"
   },
   {
    "duration": 862,
    "start_time": "2023-08-22T15:58:11.849Z"
   },
   {
    "duration": 1761,
    "start_time": "2023-08-22T15:58:55.760Z"
   },
   {
    "duration": 1424,
    "start_time": "2023-08-22T16:00:02.527Z"
   },
   {
    "duration": 887,
    "start_time": "2023-08-22T16:03:23.477Z"
   },
   {
    "duration": 3917,
    "start_time": "2023-08-22T16:03:52.954Z"
   },
   {
    "duration": 1408,
    "start_time": "2023-08-22T16:06:08.776Z"
   },
   {
    "duration": 104,
    "start_time": "2023-08-22T16:09:02.897Z"
   },
   {
    "duration": 106,
    "start_time": "2023-08-22T16:09:19.984Z"
   },
   {
    "duration": 103,
    "start_time": "2023-08-22T16:10:24.562Z"
   },
   {
    "duration": 117,
    "start_time": "2023-08-22T16:11:26.216Z"
   },
   {
    "duration": 102,
    "start_time": "2023-08-22T16:11:35.822Z"
   },
   {
    "duration": 4,
    "start_time": "2023-08-22T16:26:41.828Z"
   },
   {
    "duration": 6,
    "start_time": "2023-08-22T16:38:01.218Z"
   },
   {
    "duration": 1596,
    "start_time": "2023-08-22T16:38:40.580Z"
   },
   {
    "duration": 48,
    "start_time": "2023-08-22T16:38:42.178Z"
   },
   {
    "duration": 14,
    "start_time": "2023-08-22T16:38:42.228Z"
   },
   {
    "duration": 8,
    "start_time": "2023-08-22T16:38:42.244Z"
   },
   {
    "duration": 4,
    "start_time": "2023-08-22T16:38:42.254Z"
   },
   {
    "duration": 15,
    "start_time": "2023-08-22T16:38:42.259Z"
   },
   {
    "duration": 7,
    "start_time": "2023-08-22T16:38:42.276Z"
   },
   {
    "duration": 68,
    "start_time": "2023-08-22T16:38:42.285Z"
   },
   {
    "duration": 18,
    "start_time": "2023-08-22T16:38:42.355Z"
   },
   {
    "duration": 9,
    "start_time": "2023-08-22T16:38:42.377Z"
   },
   {
    "duration": 2732,
    "start_time": "2023-08-22T16:38:42.411Z"
   },
   {
    "duration": 23,
    "start_time": "2023-08-22T16:38:45.144Z"
   },
   {
    "duration": 1706,
    "start_time": "2023-08-22T16:38:45.169Z"
   },
   {
    "duration": 14,
    "start_time": "2023-08-22T16:38:46.876Z"
   },
   {
    "duration": 219,
    "start_time": "2023-08-22T16:38:46.891Z"
   },
   {
    "duration": 485,
    "start_time": "2023-08-22T16:38:47.112Z"
   },
   {
    "duration": 4,
    "start_time": "2023-08-22T16:38:47.599Z"
   },
   {
    "duration": 13,
    "start_time": "2023-08-22T16:38:47.609Z"
   },
   {
    "duration": 8,
    "start_time": "2023-08-22T16:38:47.624Z"
   },
   {
    "duration": 1290,
    "start_time": "2023-08-22T16:38:47.634Z"
   },
   {
    "duration": 111300,
    "start_time": "2023-08-22T16:38:48.926Z"
   },
   {
    "duration": 1385,
    "start_time": "2023-08-22T16:40:40.227Z"
   },
   {
    "duration": 98,
    "start_time": "2023-08-22T16:40:41.614Z"
   },
   {
    "duration": 1348,
    "start_time": "2023-08-22T16:40:41.714Z"
   },
   {
    "duration": 1137,
    "start_time": "2023-08-22T16:40:43.064Z"
   },
   {
    "duration": 13,
    "start_time": "2023-08-22T16:40:44.209Z"
   },
   {
    "duration": 130,
    "start_time": "2023-08-22T16:40:44.224Z"
   },
   {
    "duration": 1729,
    "start_time": "2023-08-22T16:58:38.468Z"
   },
   {
    "duration": 698,
    "start_time": "2023-08-22T16:58:42.158Z"
   },
   {
    "duration": 58,
    "start_time": "2023-08-22T18:03:12.272Z"
   },
   {
    "duration": 14,
    "start_time": "2023-08-22T18:25:26.373Z"
   },
   {
    "duration": 14,
    "start_time": "2023-08-22T18:28:49.276Z"
   },
   {
    "duration": 14,
    "start_time": "2023-08-22T18:29:09.250Z"
   },
   {
    "duration": 14,
    "start_time": "2023-08-22T18:30:28.065Z"
   },
   {
    "duration": 15,
    "start_time": "2023-08-22T18:30:46.840Z"
   },
   {
    "duration": 15,
    "start_time": "2023-08-22T18:31:19.131Z"
   },
   {
    "duration": 14,
    "start_time": "2023-08-22T18:31:43.363Z"
   },
   {
    "duration": 15,
    "start_time": "2023-08-22T18:32:25.659Z"
   },
   {
    "duration": 16,
    "start_time": "2023-08-22T18:32:36.880Z"
   },
   {
    "duration": 14,
    "start_time": "2023-08-22T18:32:58.059Z"
   },
   {
    "duration": 15,
    "start_time": "2023-08-22T18:34:49.609Z"
   },
   {
    "duration": 4174,
    "start_time": "2023-08-22T19:03:16.746Z"
   },
   {
    "duration": 4,
    "start_time": "2023-08-22T19:03:34.170Z"
   },
   {
    "duration": 48,
    "start_time": "2023-08-22T19:03:34.176Z"
   },
   {
    "duration": 14,
    "start_time": "2023-08-22T19:03:34.226Z"
   },
   {
    "duration": 7,
    "start_time": "2023-08-22T19:03:34.242Z"
   },
   {
    "duration": 4,
    "start_time": "2023-08-22T19:03:34.252Z"
   },
   {
    "duration": 10,
    "start_time": "2023-08-22T19:03:34.258Z"
   },
   {
    "duration": 4,
    "start_time": "2023-08-22T19:03:34.270Z"
   },
   {
    "duration": 92,
    "start_time": "2023-08-22T19:03:34.275Z"
   },
   {
    "duration": 15,
    "start_time": "2023-08-22T19:03:34.368Z"
   },
   {
    "duration": 29,
    "start_time": "2023-08-22T19:03:34.384Z"
   },
   {
    "duration": 2719,
    "start_time": "2023-08-22T19:03:34.416Z"
   },
   {
    "duration": 21,
    "start_time": "2023-08-22T19:03:37.137Z"
   },
   {
    "duration": 1791,
    "start_time": "2023-08-22T19:03:37.160Z"
   },
   {
    "duration": 14,
    "start_time": "2023-08-22T19:03:38.955Z"
   },
   {
    "duration": 948,
    "start_time": "2023-08-22T19:03:38.970Z"
   },
   {
    "duration": 586,
    "start_time": "2023-08-22T19:03:39.920Z"
   },
   {
    "duration": 16,
    "start_time": "2023-08-22T19:03:40.508Z"
   },
   {
    "duration": 20,
    "start_time": "2023-08-22T19:03:40.527Z"
   },
   {
    "duration": 16,
    "start_time": "2023-08-22T19:03:40.549Z"
   },
   {
    "duration": 679,
    "start_time": "2023-08-22T19:03:40.568Z"
   },
   {
    "duration": 126557,
    "start_time": "2023-08-22T19:03:41.249Z"
   },
   {
    "duration": 1299,
    "start_time": "2023-08-22T19:05:47.810Z"
   },
   {
    "duration": 97,
    "start_time": "2023-08-22T19:05:49.112Z"
   },
   {
    "duration": 1758,
    "start_time": "2023-08-22T19:05:49.212Z"
   },
   {
    "duration": 1006,
    "start_time": "2023-08-22T19:05:50.971Z"
   },
   {
    "duration": 12,
    "start_time": "2023-08-22T19:05:51.979Z"
   },
   {
    "duration": 135,
    "start_time": "2023-08-22T19:05:51.992Z"
   },
   {
    "duration": 1610,
    "start_time": "2023-08-24T10:03:06.684Z"
   },
   {
    "duration": 148,
    "start_time": "2023-08-24T10:03:08.296Z"
   },
   {
    "duration": 13,
    "start_time": "2023-08-24T10:03:08.446Z"
   },
   {
    "duration": 10,
    "start_time": "2023-08-24T10:03:08.461Z"
   },
   {
    "duration": 4,
    "start_time": "2023-08-24T10:03:08.473Z"
   },
   {
    "duration": 15,
    "start_time": "2023-08-24T10:03:08.479Z"
   },
   {
    "duration": 18,
    "start_time": "2023-08-24T10:03:08.495Z"
   },
   {
    "duration": 45,
    "start_time": "2023-08-24T10:03:08.514Z"
   },
   {
    "duration": 11,
    "start_time": "2023-08-24T10:03:08.561Z"
   },
   {
    "duration": 9,
    "start_time": "2023-08-24T10:03:08.574Z"
   },
   {
    "duration": 2274,
    "start_time": "2023-08-24T10:03:08.584Z"
   },
   {
    "duration": 16,
    "start_time": "2023-08-24T10:03:10.860Z"
   },
   {
    "duration": 1536,
    "start_time": "2023-08-24T10:03:10.877Z"
   },
   {
    "duration": 12,
    "start_time": "2023-08-24T10:03:12.416Z"
   },
   {
    "duration": 130,
    "start_time": "2023-08-24T10:03:12.430Z"
   },
   {
    "duration": 901,
    "start_time": "2023-08-24T10:03:12.562Z"
   },
   {
    "duration": 3,
    "start_time": "2023-08-24T10:03:13.465Z"
   },
   {
    "duration": 19,
    "start_time": "2023-08-24T10:03:13.470Z"
   },
   {
    "duration": 13,
    "start_time": "2023-08-24T10:03:13.491Z"
   },
   {
    "duration": 1184,
    "start_time": "2023-08-24T10:03:13.506Z"
   },
   {
    "duration": 106091,
    "start_time": "2023-08-24T10:03:14.692Z"
   },
   {
    "duration": 1276,
    "start_time": "2023-08-24T10:05:00.785Z"
   },
   {
    "duration": 101,
    "start_time": "2023-08-24T10:05:02.064Z"
   },
   {
    "duration": 1761,
    "start_time": "2023-08-24T10:05:02.167Z"
   },
   {
    "duration": 675,
    "start_time": "2023-08-24T10:05:03.930Z"
   },
   {
    "duration": 10,
    "start_time": "2023-08-24T10:05:04.607Z"
   },
   {
    "duration": 445,
    "start_time": "2023-08-24T10:05:04.619Z"
   },
   {
    "duration": 117,
    "start_time": "2023-08-24T10:25:58.478Z"
   },
   {
    "duration": 1045,
    "start_time": "2023-08-24T10:27:27.550Z"
   },
   {
    "duration": 934,
    "start_time": "2023-08-24T10:28:52.280Z"
   },
   {
    "duration": 1009,
    "start_time": "2023-08-24T10:29:53.134Z"
   },
   {
    "duration": 1006,
    "start_time": "2023-08-24T10:32:14.387Z"
   },
   {
    "duration": 994,
    "start_time": "2023-08-24T10:33:07.430Z"
   },
   {
    "duration": 1185,
    "start_time": "2023-08-24T10:34:18.129Z"
   },
   {
    "duration": 1011,
    "start_time": "2023-08-24T10:34:40.465Z"
   },
   {
    "duration": 1016,
    "start_time": "2023-08-24T10:35:01.617Z"
   },
   {
    "duration": 978,
    "start_time": "2023-08-24T10:35:33.977Z"
   },
   {
    "duration": 1032,
    "start_time": "2023-08-24T10:35:48.418Z"
   },
   {
    "duration": 5,
    "start_time": "2023-08-24T13:40:28.168Z"
   },
   {
    "duration": 13,
    "start_time": "2023-08-24T13:40:36.179Z"
   },
   {
    "duration": 71,
    "start_time": "2023-08-24T13:40:36.194Z"
   },
   {
    "duration": 520,
    "start_time": "2023-08-24T13:40:36.266Z"
   },
   {
    "duration": 4,
    "start_time": "2023-08-24T13:40:36.788Z"
   },
   {
    "duration": 18,
    "start_time": "2023-08-24T13:40:36.794Z"
   },
   {
    "duration": 9,
    "start_time": "2023-08-24T13:40:36.814Z"
   },
   {
    "duration": 566,
    "start_time": "2023-08-24T13:40:36.825Z"
   },
   {
    "duration": 109391,
    "start_time": "2023-08-24T13:40:37.393Z"
   },
   {
    "duration": 1175,
    "start_time": "2023-08-24T13:42:26.787Z"
   },
   {
    "duration": 98,
    "start_time": "2023-08-24T13:42:27.963Z"
   },
   {
    "duration": 1316,
    "start_time": "2023-08-24T13:42:28.063Z"
   },
   {
    "duration": 0,
    "start_time": "2023-08-24T13:42:29.381Z"
   },
   {
    "duration": 0,
    "start_time": "2023-08-24T13:42:29.382Z"
   },
   {
    "duration": 0,
    "start_time": "2023-08-24T13:42:29.384Z"
   },
   {
    "duration": 1303,
    "start_time": "2023-08-24T13:47:01.529Z"
   },
   {
    "duration": 1030,
    "start_time": "2023-08-24T13:47:09.033Z"
   },
   {
    "duration": 11,
    "start_time": "2023-08-24T13:49:11.069Z"
   },
   {
    "duration": 10,
    "start_time": "2023-08-24T13:51:07.816Z"
   },
   {
    "duration": 112,
    "start_time": "2023-08-24T13:51:15.427Z"
   },
   {
    "duration": 5,
    "start_time": "2023-08-24T13:58:23.405Z"
   },
   {
    "duration": 62,
    "start_time": "2023-08-24T13:58:23.418Z"
   },
   {
    "duration": 12,
    "start_time": "2023-08-24T13:58:23.482Z"
   },
   {
    "duration": 14,
    "start_time": "2023-08-24T13:58:23.496Z"
   },
   {
    "duration": 5,
    "start_time": "2023-08-24T13:58:23.511Z"
   },
   {
    "duration": 13,
    "start_time": "2023-08-24T13:58:23.518Z"
   },
   {
    "duration": 11,
    "start_time": "2023-08-24T13:58:23.532Z"
   },
   {
    "duration": 41,
    "start_time": "2023-08-24T13:58:23.556Z"
   },
   {
    "duration": 11,
    "start_time": "2023-08-24T13:58:23.599Z"
   },
   {
    "duration": 11,
    "start_time": "2023-08-24T13:58:23.612Z"
   },
   {
    "duration": 2412,
    "start_time": "2023-08-24T13:58:23.625Z"
   },
   {
    "duration": 25,
    "start_time": "2023-08-24T13:58:26.039Z"
   },
   {
    "duration": 991,
    "start_time": "2023-08-24T13:58:26.066Z"
   },
   {
    "duration": 4,
    "start_time": "2023-08-24T13:58:27.058Z"
   },
   {
    "duration": 15,
    "start_time": "2023-08-24T13:58:27.065Z"
   },
   {
    "duration": 79,
    "start_time": "2023-08-24T13:58:27.082Z"
   },
   {
    "duration": 544,
    "start_time": "2023-08-24T13:58:27.163Z"
   },
   {
    "duration": 3,
    "start_time": "2023-08-24T13:58:27.709Z"
   },
   {
    "duration": 25,
    "start_time": "2023-08-24T13:58:27.713Z"
   },
   {
    "duration": 19,
    "start_time": "2023-08-24T13:58:27.739Z"
   },
   {
    "duration": 627,
    "start_time": "2023-08-24T13:58:27.761Z"
   },
   {
    "duration": 110226,
    "start_time": "2023-08-24T13:58:28.390Z"
   },
   {
    "duration": 1147,
    "start_time": "2023-08-24T14:00:18.618Z"
   },
   {
    "duration": 13,
    "start_time": "2023-08-24T14:00:19.858Z"
   },
   {
    "duration": 1724,
    "start_time": "2023-08-24T14:00:19.873Z"
   },
   {
    "duration": 721,
    "start_time": "2023-08-24T14:00:21.599Z"
   },
   {
    "duration": 11,
    "start_time": "2023-08-24T14:00:22.322Z"
   },
   {
    "duration": 130,
    "start_time": "2023-08-24T14:00:22.335Z"
   },
   {
    "duration": 13,
    "start_time": "2023-08-24T14:04:49.422Z"
   },
   {
    "duration": 13,
    "start_time": "2023-08-24T14:05:02.383Z"
   },
   {
    "duration": 1139,
    "start_time": "2023-08-24T14:05:28.924Z"
   },
   {
    "duration": 14,
    "start_time": "2023-08-24T14:05:35.094Z"
   },
   {
    "duration": 1613,
    "start_time": "2023-08-24T14:05:35.111Z"
   },
   {
    "duration": 719,
    "start_time": "2023-08-24T14:05:36.726Z"
   },
   {
    "duration": 17,
    "start_time": "2023-08-24T14:05:37.447Z"
   },
   {
    "duration": 120,
    "start_time": "2023-08-24T14:05:37.466Z"
   },
   {
    "duration": 1429,
    "start_time": "2023-08-24T14:07:55.926Z"
   },
   {
    "duration": 1421,
    "start_time": "2023-08-24T14:13:11.217Z"
   },
   {
    "duration": 1378,
    "start_time": "2023-08-24T14:13:24.256Z"
   },
   {
    "duration": 764,
    "start_time": "2023-08-24T14:14:37.454Z"
   },
   {
    "duration": 113,
    "start_time": "2023-08-24T14:15:22.118Z"
   },
   {
    "duration": 179,
    "start_time": "2023-08-24T14:15:43.895Z"
   },
   {
    "duration": 125,
    "start_time": "2023-08-24T14:15:48.697Z"
   },
   {
    "duration": 119,
    "start_time": "2023-08-24T14:16:09.553Z"
   },
   {
    "duration": 110,
    "start_time": "2023-08-24T14:16:25.433Z"
   },
   {
    "duration": 114,
    "start_time": "2023-08-24T14:16:40.458Z"
   },
   {
    "duration": 109,
    "start_time": "2023-08-24T14:17:51.568Z"
   },
   {
    "duration": 113,
    "start_time": "2023-08-24T14:18:16.549Z"
   },
   {
    "duration": 7,
    "start_time": "2023-08-24T14:47:44.382Z"
   },
   {
    "duration": 131,
    "start_time": "2023-08-24T17:54:07.106Z"
   },
   {
    "duration": 14,
    "start_time": "2023-08-24T18:09:16.185Z"
   },
   {
    "duration": 2458,
    "start_time": "2023-08-24T20:06:40.540Z"
   },
   {
    "duration": 81,
    "start_time": "2023-08-24T20:06:43.000Z"
   },
   {
    "duration": 11,
    "start_time": "2023-08-24T20:06:43.083Z"
   },
   {
    "duration": 9,
    "start_time": "2023-08-24T20:06:43.096Z"
   },
   {
    "duration": 8,
    "start_time": "2023-08-24T20:06:43.106Z"
   },
   {
    "duration": 7,
    "start_time": "2023-08-24T20:06:43.115Z"
   },
   {
    "duration": 4,
    "start_time": "2023-08-24T20:06:43.124Z"
   },
   {
    "duration": 73,
    "start_time": "2023-08-24T20:06:43.130Z"
   },
   {
    "duration": 15,
    "start_time": "2023-08-24T20:06:43.204Z"
   },
   {
    "duration": 9,
    "start_time": "2023-08-24T20:06:43.221Z"
   },
   {
    "duration": 2209,
    "start_time": "2023-08-24T20:06:43.231Z"
   },
   {
    "duration": 21,
    "start_time": "2023-08-24T20:06:45.441Z"
   },
   {
    "duration": 1147,
    "start_time": "2023-08-24T20:06:45.464Z"
   },
   {
    "duration": 5,
    "start_time": "2023-08-24T20:06:46.613Z"
   },
   {
    "duration": 37,
    "start_time": "2023-08-24T20:06:46.619Z"
   },
   {
    "duration": 101,
    "start_time": "2023-08-24T20:06:46.658Z"
   },
   {
    "duration": 599,
    "start_time": "2023-08-24T20:06:46.763Z"
   },
   {
    "duration": 4,
    "start_time": "2023-08-24T20:06:47.364Z"
   },
   {
    "duration": 23,
    "start_time": "2023-08-24T20:06:47.369Z"
   },
   {
    "duration": 11,
    "start_time": "2023-08-24T20:06:47.393Z"
   },
   {
    "duration": 636,
    "start_time": "2023-08-24T20:06:47.405Z"
   },
   {
    "duration": 106071,
    "start_time": "2023-08-24T20:06:48.042Z"
   },
   {
    "duration": 1044,
    "start_time": "2023-08-24T20:08:34.115Z"
   },
   {
    "duration": 12,
    "start_time": "2023-08-24T20:08:35.250Z"
   },
   {
    "duration": 7,
    "start_time": "2023-08-24T20:08:35.263Z"
   },
   {
    "duration": 1307,
    "start_time": "2023-08-24T20:08:35.271Z"
   },
   {
    "duration": 630,
    "start_time": "2023-08-24T20:08:36.579Z"
   },
   {
    "duration": 10,
    "start_time": "2023-08-24T20:08:37.212Z"
   },
   {
    "duration": 140,
    "start_time": "2023-08-24T20:08:37.224Z"
   },
   {
    "duration": 8,
    "start_time": "2023-08-24T20:08:37.366Z"
   },
   {
    "duration": 6,
    "start_time": "2023-08-24T20:08:46.835Z"
   },
   {
    "duration": 51,
    "start_time": "2024-05-25T14:28:26.390Z"
   },
   {
    "duration": 6,
    "start_time": "2024-05-25T14:29:21.921Z"
   },
   {
    "duration": 1738,
    "start_time": "2024-05-25T14:29:41.406Z"
   },
   {
    "duration": 115,
    "start_time": "2024-05-25T14:29:43.147Z"
   },
   {
    "duration": 12,
    "start_time": "2024-05-25T14:29:43.264Z"
   },
   {
    "duration": 7,
    "start_time": "2024-05-25T14:29:43.279Z"
   },
   {
    "duration": 79,
    "start_time": "2024-05-25T14:29:43.288Z"
   },
   {
    "duration": 0,
    "start_time": "2024-05-25T14:29:43.370Z"
   },
   {
    "duration": 0,
    "start_time": "2024-05-25T14:29:43.382Z"
   },
   {
    "duration": 0,
    "start_time": "2024-05-25T14:29:43.384Z"
   },
   {
    "duration": 0,
    "start_time": "2024-05-25T14:29:43.385Z"
   },
   {
    "duration": 0,
    "start_time": "2024-05-25T14:29:43.386Z"
   },
   {
    "duration": 0,
    "start_time": "2024-05-25T14:29:43.387Z"
   },
   {
    "duration": 0,
    "start_time": "2024-05-25T14:29:43.388Z"
   },
   {
    "duration": 0,
    "start_time": "2024-05-25T14:29:43.389Z"
   },
   {
    "duration": 0,
    "start_time": "2024-05-25T14:29:43.390Z"
   },
   {
    "duration": 0,
    "start_time": "2024-05-25T14:29:43.391Z"
   },
   {
    "duration": 0,
    "start_time": "2024-05-25T14:29:43.392Z"
   },
   {
    "duration": 0,
    "start_time": "2024-05-25T14:29:43.393Z"
   },
   {
    "duration": 0,
    "start_time": "2024-05-25T14:29:43.393Z"
   },
   {
    "duration": 0,
    "start_time": "2024-05-25T14:29:43.394Z"
   },
   {
    "duration": 0,
    "start_time": "2024-05-25T14:29:43.395Z"
   },
   {
    "duration": 0,
    "start_time": "2024-05-25T14:29:43.396Z"
   },
   {
    "duration": 0,
    "start_time": "2024-05-25T14:29:43.397Z"
   },
   {
    "duration": 0,
    "start_time": "2024-05-25T14:29:43.398Z"
   },
   {
    "duration": 0,
    "start_time": "2024-05-25T14:29:43.400Z"
   },
   {
    "duration": 0,
    "start_time": "2024-05-25T14:29:43.401Z"
   },
   {
    "duration": 0,
    "start_time": "2024-05-25T14:29:43.402Z"
   },
   {
    "duration": 0,
    "start_time": "2024-05-25T14:29:43.403Z"
   },
   {
    "duration": 0,
    "start_time": "2024-05-25T14:29:43.403Z"
   },
   {
    "duration": 0,
    "start_time": "2024-05-25T14:29:43.405Z"
   },
   {
    "duration": 0,
    "start_time": "2024-05-25T14:29:43.406Z"
   },
   {
    "duration": 0,
    "start_time": "2024-05-25T14:29:43.407Z"
   },
   {
    "duration": 435,
    "start_time": "2024-05-25T14:30:13.341Z"
   },
   {
    "duration": 5,
    "start_time": "2024-05-25T14:35:20.428Z"
   },
   {
    "duration": 49,
    "start_time": "2024-05-25T14:35:20.435Z"
   },
   {
    "duration": 11,
    "start_time": "2024-05-25T14:35:20.486Z"
   },
   {
    "duration": 9,
    "start_time": "2024-05-25T14:35:20.498Z"
   },
   {
    "duration": 5,
    "start_time": "2024-05-25T14:35:20.509Z"
   },
   {
    "duration": 19,
    "start_time": "2024-05-25T14:35:20.516Z"
   },
   {
    "duration": 16,
    "start_time": "2024-05-25T14:35:20.537Z"
   },
   {
    "duration": 58,
    "start_time": "2024-05-25T14:35:20.554Z"
   },
   {
    "duration": 12,
    "start_time": "2024-05-25T14:35:20.613Z"
   },
   {
    "duration": 9,
    "start_time": "2024-05-25T14:35:20.626Z"
   },
   {
    "duration": 2530,
    "start_time": "2024-05-25T14:35:20.638Z"
   },
   {
    "duration": 27,
    "start_time": "2024-05-25T14:35:23.170Z"
   },
   {
    "duration": 1216,
    "start_time": "2024-05-25T14:35:23.200Z"
   },
   {
    "duration": 3,
    "start_time": "2024-05-25T14:35:24.419Z"
   },
   {
    "duration": 34,
    "start_time": "2024-05-25T14:35:24.424Z"
   },
   {
    "duration": 124,
    "start_time": "2024-05-25T14:35:24.460Z"
   },
   {
    "duration": 824,
    "start_time": "2024-05-25T14:35:24.587Z"
   },
   {
    "duration": 3,
    "start_time": "2024-05-25T14:35:25.413Z"
   },
   {
    "duration": 64,
    "start_time": "2024-05-25T14:35:25.418Z"
   },
   {
    "duration": 11,
    "start_time": "2024-05-25T14:35:25.484Z"
   },
   {
    "duration": 1010,
    "start_time": "2024-05-25T14:35:25.497Z"
   },
   {
    "duration": 119336,
    "start_time": "2024-05-25T14:35:26.509Z"
   },
   {
    "duration": 1435,
    "start_time": "2024-05-25T14:37:25.847Z"
   },
   {
    "duration": 7,
    "start_time": "2024-05-25T14:37:27.284Z"
   },
   {
    "duration": 15,
    "start_time": "2024-05-25T14:37:27.293Z"
   },
   {
    "duration": 6,
    "start_time": "2024-05-25T14:37:27.309Z"
   },
   {
    "duration": 1507,
    "start_time": "2024-05-25T14:37:27.317Z"
   },
   {
    "duration": 896,
    "start_time": "2024-05-25T14:37:28.825Z"
   },
   {
    "duration": 12,
    "start_time": "2024-05-25T14:37:29.724Z"
   },
   {
    "duration": 140,
    "start_time": "2024-05-25T14:37:29.738Z"
   },
   {
    "duration": 1719,
    "start_time": "2024-05-26T15:19:45.074Z"
   },
   {
    "duration": 218,
    "start_time": "2024-05-26T15:19:46.795Z"
   },
   {
    "duration": 13,
    "start_time": "2024-05-26T15:19:47.015Z"
   },
   {
    "duration": 15,
    "start_time": "2024-05-26T15:19:47.030Z"
   },
   {
    "duration": 21,
    "start_time": "2024-05-26T15:19:47.047Z"
   },
   {
    "duration": 7,
    "start_time": "2024-05-26T15:19:47.069Z"
   },
   {
    "duration": 10,
    "start_time": "2024-05-26T15:19:47.078Z"
   },
   {
    "duration": 57,
    "start_time": "2024-05-26T15:19:47.091Z"
   },
   {
    "duration": 13,
    "start_time": "2024-05-26T15:19:47.150Z"
   },
   {
    "duration": 28,
    "start_time": "2024-05-26T15:19:47.167Z"
   },
   {
    "duration": 3466,
    "start_time": "2024-05-26T15:19:47.197Z"
   },
   {
    "duration": 27,
    "start_time": "2024-05-26T15:19:50.665Z"
   },
   {
    "duration": 1182,
    "start_time": "2024-05-26T15:19:50.694Z"
   },
   {
    "duration": 4,
    "start_time": "2024-05-26T15:19:51.878Z"
   },
   {
    "duration": 21,
    "start_time": "2024-05-26T15:19:51.884Z"
   },
   {
    "duration": 196,
    "start_time": "2024-05-26T15:19:51.907Z"
   },
   {
    "duration": 660,
    "start_time": "2024-05-26T15:19:52.105Z"
   },
   {
    "duration": 3,
    "start_time": "2024-05-26T15:19:52.767Z"
   },
   {
    "duration": 41,
    "start_time": "2024-05-26T15:19:52.771Z"
   },
   {
    "duration": 21,
    "start_time": "2024-05-26T15:19:52.813Z"
   },
   {
    "duration": 585,
    "start_time": "2024-05-26T15:19:52.836Z"
   },
   {
    "duration": 116217,
    "start_time": "2024-05-26T15:19:53.422Z"
   },
   {
    "duration": 1151,
    "start_time": "2024-05-26T15:21:49.641Z"
   },
   {
    "duration": 10,
    "start_time": "2024-05-26T15:21:50.794Z"
   },
   {
    "duration": 54,
    "start_time": "2024-05-26T15:21:50.806Z"
   },
   {
    "duration": 7,
    "start_time": "2024-05-26T15:21:50.862Z"
   },
   {
    "duration": 1501,
    "start_time": "2024-05-26T15:21:50.871Z"
   },
   {
    "duration": 749,
    "start_time": "2024-05-26T15:21:52.376Z"
   },
   {
    "duration": 14,
    "start_time": "2024-05-26T15:21:53.127Z"
   },
   {
    "duration": 140,
    "start_time": "2024-05-26T15:21:53.143Z"
   }
  ],
  "kernelspec": {
   "display_name": "Python 3 (ipykernel)",
   "language": "python",
   "name": "python3"
  },
  "language_info": {
   "codemirror_mode": {
    "name": "ipython",
    "version": 3
   },
   "file_extension": ".py",
   "mimetype": "text/x-python",
   "name": "python",
   "nbconvert_exporter": "python",
   "pygments_lexer": "ipython3",
   "version": "3.9.5"
  },
  "toc": {
   "base_numbering": 1,
   "nav_menu": {},
   "number_sections": true,
   "sideBar": true,
   "skip_h1_title": true,
   "title_cell": "Table of Contents",
   "title_sidebar": "Contents",
   "toc_cell": false,
   "toc_position": {},
   "toc_section_display": true,
   "toc_window_display": true
  }
 },
 "nbformat": 4,
 "nbformat_minor": 2
}
